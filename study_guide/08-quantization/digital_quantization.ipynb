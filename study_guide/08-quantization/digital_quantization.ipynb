{
 "cells": [
  {
   "cell_type": "markdown",
   "metadata": {},
   "source": [
    "# Scalar [Quantization](https://en.wikipedia.org/wiki/Quantization_(signal_processing)) of Digital Signals"
   ]
  },
  {
   "cell_type": "code",
   "execution_count": null,
   "metadata": {},
   "outputs": [],
   "source": [
    "%matplotlib inline\n",
    "\n",
    "import matplotlib\n",
    "import matplotlib.pyplot as plt\n",
    "import matplotlib.axes as ax\n",
    "import math\n",
    "import numpy as np"
   ]
  },
  {
   "cell_type": "code",
   "execution_count": null,
   "metadata": {},
   "outputs": [],
   "source": [
    "def plot_quantizer(x_plot, y_plot, title):\n",
    "    fig = plt.figure()\n",
    "    ax = fig.add_subplot(111)\n",
    "    ax.set_title(title)\n",
    "    ax.spines['left'].set_position('zero')\n",
    "    ax.spines['right'].set_color('none')\n",
    "    ax.spines['bottom'].set_position('zero')\n",
    "    ax.spines['top'].set_color('none')\n",
    "    ax.xaxis.set_label_coords(1,0.40)\n",
    "    ax.xaxis.set_label_text('Input')\n",
    "    ax.yaxis.set_label_coords(0.45,.9)\n",
    "    ax.yaxis.set_label_text('Output')\n",
    "\n",
    "    ticks = np.arange(-8, 9, 1)\n",
    "    ax.set_xticks(ticks)\n",
    "    ax.set_yticks(ticks)\n",
    "\n",
    "    ax.grid()\n",
    "    ax.plot(x_plot, y_plot)"
   ]
  },
  {
   "cell_type": "code",
   "execution_count": null,
   "metadata": {},
   "outputs": [],
   "source": [
    "def plot(x, y, xlabel='', ylabel='', title=''):\n",
    "    fig = plt.figure()\n",
    "    ax = fig.add_subplot(111)\n",
    "    ax.set_title(title)\n",
    "    ax.grid()\n",
    "    ax.xaxis.set_label_text(xlabel)\n",
    "    ax.yaxis.set_label_text(ylabel)\n",
    "    ax.plot(x, y)\n",
    "    plt.show(block=False)"
   ]
  },
  {
   "cell_type": "code",
   "execution_count": null,
   "metadata": {},
   "outputs": [],
   "source": [
    "def print_center(x, y, z, n):\n",
    "    offset = (len(x)-n)//2\n",
    "    for i in range(n):\n",
    "        input = int(x[i+offset])\n",
    "        output = int(y[i+offset])\n",
    "        recons = int(z[i+offset])\n",
    "        print(f\"{input:>6d} {output:>6d} {recons:>6d}\")"
   ]
  },
  {
   "cell_type": "markdown",
   "metadata": {},
   "source": [
    "## A.  Uniform Quantization"
   ]
  },
  {
   "cell_type": "markdown",
   "metadata": {},
   "source": [
    "### A.a. [Mid-tread (\"round\") Quantization](https://en.wikipedia.org/wiki/Quantization_(signal_processing)#Example)\n",
    "\n",
    "Quantization index\n",
    "\\begin{equation}\n",
    "  k=\\Big\\lfloor \\frac{x}{\\Delta} + \\frac{1}{2}\\Big\\rfloor.\n",
    "\\end{equation}\n",
    "\n",
    "Reconstructed value\n",
    "\\begin{equation}\n",
    "  y = \\Delta k.\n",
    "\\end{equation}\n",
    "\n",
    "The $k$ index can be also computed using the [round half toward zero](https://en.wikipedia.org/wiki/Rounding#Round_half_towards_zero) (or round to the nearest integer), for which NumPy provides the method [rint()](https://numpy.org/doc/stable/reference/generated/numpy.rint.html)."
   ]
  },
  {
   "cell_type": "code",
   "execution_count": null,
   "metadata": {},
   "outputs": [],
   "source": [
    "def midtread_quantizer(x, quantization_step):\n",
    "    k = np.rint(x / quantization_step)\n",
    "    # k = np.floor(x/quantization_step + 0.5)\n",
    "    return k\n",
    "\n",
    "def midtread_dequantizer(k, quantization_step):\n",
    "    y = quantization_step * k\n",
    "    return y"
   ]
  },
  {
   "cell_type": "markdown",
   "metadata": {},
   "source": [
    "### A.b. [Mid-rise (\"truncation\") Quantization](https://en.wikipedia.org/wiki/Quantization_(signal_processing)#Mid-riser_and_mid-tread_uniform_quantizers)\n",
    "\n",
    "Quantization index\n",
    "\\begin{equation}\n",
    "  k=\\Big\\lfloor \\frac{x}{\\Delta}\\Big\\rfloor.\n",
    "\\end{equation}\n",
    "\n",
    "Reconstructed value\n",
    "\\begin{equation}\n",
    "  y = \\Delta \\Big(k + \\frac{1}{2}\\Big).\n",
    "\\end{equation}"
   ]
  },
  {
   "cell_type": "code",
   "execution_count": null,
   "metadata": {},
   "outputs": [],
   "source": [
    "def midrise_quantizer(x, quantization_step):\n",
    "    k = np.floor(x / quantization_step)\n",
    "    return k\n",
    "\n",
    "def midrise_dequantizer(k, quantization_step):\n",
    "    y = quantization_step * (k + 0.5)\n",
    "    return y\n",
    "    #return y * quantization_step + quantization_step/2"
   ]
  },
  {
   "cell_type": "markdown",
   "metadata": {},
   "source": [
    "### A.c. [Dead-zone Quantization](https://en.wikipedia.org/wiki/Quantization_(signal_processing)#Dead-zone_quantizers)\n",
    "\n",
    "Quantization index\n",
    "\\begin{equation}\n",
    "  k = \\text{sgn}(x) \\max\\left(0, \\left\\lfloor \\frac{\\left| x \\right|-w/2}{\\Delta}+1\\right\\rfloor\\right).\n",
    "\\end{equation}\n",
    "\n",
    "Reconstructed value\n",
    "\\begin{equation}\n",
    "  y = \\text{sgn}(k) \\left(\\frac{w}{2}+\\Delta(|k|-1+r_k)\\right).\n",
    "\\end{equation}\n",
    "\n",
    "If $w=\\Delta$ and $r_k=1/2$, then the first equation becomes\n",
    "\\begin{equation}\n",
    "  k = \\text{sgn}(x) \\max\\left(0, \\left\\lfloor \\frac{\\left| x \\right|}{\\Delta} + \\frac{1}{2}\\right\\rfloor\\right),\n",
    "\\end{equation}\n",
    "which can be computed efficiently in NumPy by simply converting the floating point representation of $x/\\Delta$ to an integer using the [astype()](https://numpy.org/doc/stable/reference/generated/numpy.ndarray.astype.html) method. Using the same simplification, the second equation boils down to\n",
    "\\begin{equation}\n",
    "  y = \\Delta k.\n",
    "\\end{equation}\n"
   ]
  },
  {
   "cell_type": "code",
   "execution_count": null,
   "metadata": {},
   "outputs": [],
   "source": [
    "def deadzone_quantizer(x, quantization_step):\n",
    "    k = (x / quantization_step).astype(np.int)\n",
    "    return k\n",
    "\n",
    "def deadzone_dequantizer(k, quantization_step):\n",
    "    y = quantization_step * k\n",
    "    return y"
   ]
  },
  {
   "cell_type": "markdown",
   "metadata": {},
   "source": [
    "## B. [Non Uniform Quantization](https://nptel.ac.in/content/storage2/courses/117104069/chapter_5/5_5.html)"
   ]
  },
  {
   "cell_type": "markdown",
   "metadata": {},
   "source": [
    "### B.a. [Companded (COMpressed + exPANDED)](https://en.wikipedia.org/wiki/Companding) Quantization"
   ]
  },
  {
   "cell_type": "markdown",
   "metadata": {},
   "source": [
    "#### B.a.1. [$\\mu$-Law](https://en.wikipedia.org/wiki/%CE%9C-law_algorithm) Companded  Quantization\n",
    "\n",
    "Compressor\n",
    "\\begin{equation}\n",
    "C(x) = \\text{sgn}(x) \\frac{\\ln(1+ \\mu |x|)}{\\ln(1+\\mu)}, ~~~~-1 \\leq x \\leq 1,\n",
    "\\end{equation}\n",
    "shere $\\mu=255$ in most implementations.\n",
    "\n",
    "Expander:\n",
    "\\begin{equation}\n",
    "C^{-1}(y) = \\text{sgn}(y) (1 / \\mu ) ((1 + \\mu)^{|y|}- 1),~~~~-1 \\leq y \\leq 1.\n",
    "\\end{equation}"
   ]
  },
  {
   "cell_type": "code",
   "execution_count": null,
   "metadata": {},
   "outputs": [],
   "source": [
    "def muLaw_compress(x, mu):\n",
    "    return np.log(1+mu*np.abs(x))/np.log(1+mu)*np.sign(x)"
   ]
  },
  {
   "cell_type": "code",
   "execution_count": null,
   "metadata": {},
   "outputs": [],
   "source": [
    "def muLaw_expand(y, mu):\n",
    "    return (1/mu)*(((1+mu)**np.abs(y))-1)*np.sign(y)"
   ]
  },
  {
   "cell_type": "code",
   "execution_count": null,
   "metadata": {},
   "outputs": [],
   "source": [
    "x = np.linspace(-1, 1, 500)\n",
    "\n",
    "mu = 255\n",
    "y = muLaw_compress(x, mu)\n",
    "plot(x, y, \"Input\", \"Output\", \"$\\mu$-law Compressor ($\\mu={}$)\".format(mu))"
   ]
  },
  {
   "cell_type": "code",
   "execution_count": null,
   "metadata": {},
   "outputs": [],
   "source": [
    "x = np.linspace(-1, 1, 500)\n",
    "\n",
    "mu = 255\n",
    "y = muLaw_expand(x, mu)\n",
    "plot(x, y, \"Input\", \"Output\", \"$\\mu$-law Expander ($\\mu={}$)\".format(mu))"
   ]
  },
  {
   "cell_type": "code",
   "execution_count": null,
   "metadata": {},
   "outputs": [],
   "source": [
    "mu = 255\n",
    "x = np.linspace(-1, 1, 500)\n",
    "y = muLaw_compress(x, mu)\n",
    "x_recons = muLaw_expand(y, mu)\n",
    "plot(x, x_recons, \"Input\", \"Output\", \"Expansion(Compression(Input))\".format(mu))"
   ]
  },
  {
   "cell_type": "markdown",
   "metadata": {},
   "source": [
    "After these definitions, we define the quantization index\n",
    "\\begin{equation}\n",
    "  k = Q\\big(C(x)\\big),\n",
    "\\end{equation}\n",
    "where $C$ is the compression function and $Q$ is a dead-zone quantizer. \n",
    "\n",
    "Reconstruction value\n",
    "\\begin{equation}\n",
    "  y = C^{-1}\\big(Q^{-1}(k)\\big),\n",
    "\\end{equation}\n",
    "where $Q^{-1}$ stands for the dead-zone dequantizer and $C^{-1}$ for the expander function."
   ]
  },
  {
   "cell_type": "code",
   "execution_count": null,
   "metadata": {},
   "outputs": [],
   "source": [
    "def companded_quantizer(x, quantization_step):\n",
    "    '''Companded mu-law deadzone quantizer'''\n",
    "    mu = 255\n",
    "    x_compressed = (32768*(muLaw_compress(x/32768, mu)))\n",
    "    k = deadzone_quantizer(x_compressed, quantization_step)\n",
    "    return k\n",
    "\n",
    "def companded_dequantizer(k, quantization_step):\n",
    "    '''Companded mu-law deadzone dequantizer'''\n",
    "    mu = 255\n",
    "    z_compressed = deadzone_dequantizer(k, quantization_step)\n",
    "    y = np.round(32768*muLaw_expand(z_compressed/32768, mu)).astype(np.int16)\n",
    "    return y"
   ]
  },
  {
   "cell_type": "markdown",
   "metadata": {},
   "source": [
    "## Comparing Quantizers I/O"
   ]
  },
  {
   "cell_type": "code",
   "execution_count": null,
   "metadata": {},
   "outputs": [],
   "source": [
    "quantization_step = 1 # Delta\n",
    "x = np.linspace(-8, 8, 500) # Input samples\n",
    "k_T = midtread_quantizer(x, quantization_step) # Quantized samples\n",
    "y_T = midtread_dequantizer(k_T, quantization_step) # Reconstructed samples\n",
    "k_R = midrise_quantizer(x, quantization_step)\n",
    "y_R = midrise_dequantizer(k_R, quantization_step)\n",
    "k_D = deadzone_quantizer(x, quantization_step)\n",
    "y_D = deadzone_dequantizer(k_D, quantization_step)\n",
    "k_C = companded_quantizer(x, quantization_step)\n",
    "y_C = companded_dequantizer(k_C, quantization_step)\n",
    "plot(x, y_T, \"Input Sample\", \"Reconstructed Sample\", \"Mid-tread Quantizer ($\\Delta={}$)\".format(quantization_step))\n",
    "plot(x, y_R, \"Input Sample\", \"Reconstructed Sample\", \"Mid-rise Quantizer ($\\Delta={}$)\".format(quantization_step))\n",
    "plot(x, y_D, \"Input Sample\", \"Reconstructed Sample\", \"Dead-zone Quantizer ($\\Delta={}$)\".format(quantization_step))\n",
    "plot(x, y_C, \"Input Sample\", \"Reconstructed Sample\", \"Companded Dead-zone $\\mu$-Law Quantizer ($\\mu={}, \\Delta={}$)\".format(mu, quantization_step))"
   ]
  },
  {
   "cell_type": "code",
   "execution_count": null,
   "metadata": {},
   "outputs": [],
   "source": [
    "quantization_step = 2 # Delta\n",
    "x = np.linspace(-8, 8, 500) # Input samples\n",
    "k_T = midtread_quantizer(x, quantization_step) # Quantized samples\n",
    "y_T = midtread_dequantizer(k_T, quantization_step) # Reconstructed samples\n",
    "k_R = midrise_quantizer(x, quantization_step)\n",
    "y_R = midrise_dequantizer(k_R, quantization_step)\n",
    "k_D = deadzone_quantizer(x, quantization_step)\n",
    "y_D = deadzone_dequantizer(k_D, quantization_step)\n",
    "k_C = companded_quantizer(x, quantization_step)\n",
    "y_C = companded_dequantizer(k_C, quantization_step)\n",
    "plot(x, y_T, \"Input Sample\", \"Reconstructed Sample\", \"Mid-tread Quantizer ($\\Delta={}$)\".format(quantization_step))\n",
    "plot(x, y_R, \"Input Sample\", \"Reconstructed Sample\", \"Mid-rise Quantizer ($\\Delta={}$)\".format(quantization_step))\n",
    "plot(x, y_D, \"Input Sample\", \"Reconstructed Sample\", \"Dead-zone Quantizer ($\\Delta={}$)\".format(quantization_step))\n",
    "plot(x, y_C, \"Input Sample\", \"Reconstructed Sample\", \"Companded Dead-zone $\\mu$-Law Quantizer ($\\mu={}, \\Delta={}$)\".format(mu, quantization_step))"
   ]
  },
  {
   "cell_type": "code",
   "execution_count": null,
   "metadata": {},
   "outputs": [],
   "source": [
    "quantization_step = 3 # Delta\n",
    "x = np.linspace(-8, 8, 500) # Input samples\n",
    "k_T = midtread_quantizer(x, quantization_step) # Quantized samples\n",
    "y_T = midtread_dequantizer(k_T, quantization_step) # Reconstructed samples\n",
    "k_R = midrise_quantizer(x, quantization_step)\n",
    "y_R = midrise_dequantizer(k_R, quantization_step)\n",
    "k_D = deadzone_quantizer(x, quantization_step)\n",
    "y_D = deadzone_dequantizer(k_D, quantization_step)\n",
    "k_C = companded_quantizer(x, quantization_step)\n",
    "y_C = companded_dequantizer(k_C, quantization_step)\n",
    "plot(x, y_T, \"Input Sample\", \"Reconstructed Sample\", \"Mid-tread Quantizer ($\\Delta={}$)\".format(quantization_step))\n",
    "plot(x, y_R, \"Input Sample\", \"Reconstructed Sample\", \"Mid-rise Quantizer ($\\Delta={}$)\".format(quantization_step))\n",
    "plot(x, y_D, \"Input Sample\", \"Reconstructed Sample\", \"Deadzone Quantizer ($\\Delta={}$)\".format(quantization_step))\n",
    "plot(x, y_C, \"Input Sample\", \"Reconstructed Sample\", \"Companded Dead-zone $\\mu$-Law Quantizer ($\\mu={}, \\Delta={}$)\".format(mu, quantization_step))"
   ]
  },
  {
   "cell_type": "code",
   "execution_count": null,
   "metadata": {},
   "outputs": [],
   "source": [
    "quantization_step = 4 # Delta\n",
    "x = np.linspace(-8, 8, 500) # Input samples\n",
    "k_T = midtread_quantizer(x, quantization_step) # Quantized samples\n",
    "y_T = midtread_dequantizer(k_T, quantization_step) # Reconstructed samples\n",
    "k_R = midrise_quantizer(x, quantization_step)\n",
    "y_R = midrise_dequantizer(k_R, quantization_step)\n",
    "k_D = deadzone_quantizer(x, quantization_step)\n",
    "y_D = deadzone_dequantizer(k_D, quantization_step)\n",
    "k_C = companded_quantizer(x, quantization_step)\n",
    "y_C = companded_dequantizer(k_C, quantization_step)\n",
    "plot(x, y_T, \"Input Sample\", \"Reconstructed Sample\", \"Mid-tread Quantizer ($\\Delta={}$)\".format(quantization_step))\n",
    "plot(x, y_R, \"Input Sample\", \"Reconstructed Sample\", \"Mid-rise Quantizer ($\\Delta={}$)\".format(quantization_step))\n",
    "plot(x, y_D, \"Input Sample\", \"Reconstructed Sample\", \"Dead-zone Quantizer ($\\Delta={}$)\".format(quantization_step))\n",
    "plot(x, y_C, \"Input Sample\", \"Reconstructed Sample\", \"Companded Dead-zone $\\mu$-Law Quantizer ($\\mu={}, \\Delta={}$)\".format(mu, quantization_step))"
   ]
  },
  {
   "cell_type": "code",
   "execution_count": null,
   "metadata": {},
   "outputs": [],
   "source": [
    "quantization_step = 1024\n",
    "x = np.linspace(-32768, 32767, 65536)\n",
    "k_T = midtread_quantizer(x, quantization_step) # Quantized samples\n",
    "y_T = midtread_dequantizer(k_T, quantization_step) # Reconstructed samples\n",
    "k_R = midrise_quantizer(x, quantization_step)\n",
    "y_R = midrise_dequantizer(k_R, quantization_step)\n",
    "k_D = deadzone_quantizer(x, quantization_step)\n",
    "y_D = deadzone_dequantizer(k_D, quantization_step)\n",
    "k_C = companded_quantizer(x, quantization_step)\n",
    "y_C = companded_dequantizer(k_C, quantization_step)\n",
    "plot(x, y_T, \"Input Sample\", \"Reconstructed Sample\", \"Mid-tread Quantizer ($\\Delta={}$)\".format(quantization_step))\n",
    "plot(x, y_R, \"Input Sample\", \"Reconstructed Sample\", \"Mid-rise Quantizer ($\\Delta={}$)\".format(quantization_step))\n",
    "plot(x, y_D, \"Input Sample\", \"Reconstructed Sample\", \"Dead-zone Quantizer ($\\Delta={}$)\".format(quantization_step))\n",
    "plot(x, y_C, \"Input Sample\", \"Reconstructed Sample\", \"Companded Dead-zone $\\mu$-Law Quantizer ($\\mu={}, \\Delta={}$)\".format(mu, quantization_step))"
   ]
  },
  {
   "cell_type": "markdown",
   "metadata": {},
   "source": [
    "## Comparing quantization error"
   ]
  },
  {
   "cell_type": "code",
   "execution_count": null,
   "metadata": {},
   "outputs": [],
   "source": [
    "quantization_step = 1 # Delta\n",
    "x = np.linspace(-8, 8, 500) # Input samples\n",
    "k_T = midtread_quantizer(x, quantization_step) # Quantized samples\n",
    "y_T = midtread_dequantizer(k_T, quantization_step) # Reconstructed samples\n",
    "k_R = midrise_quantizer(x, quantization_step)\n",
    "y_R = midrise_dequantizer(k_R, quantization_step)\n",
    "k_D = deadzone_quantizer(x, quantization_step)\n",
    "y_D = deadzone_dequantizer(k_D, quantization_step)\n",
    "k_C = companded_quantizer(x, quantization_step)\n",
    "y_C = companded_dequantizer(k_C, quantization_step)\n",
    "error_T = x - y_T\n",
    "error_R = x - y_R\n",
    "error_D = x - y_D\n",
    "error_C = x - y_C\n",
    "plot(x, error_T, \"Input Sample\", \"Quantization Error\", \"Mid-tread Quantizer ($\\Delta={}$)\".format(quantization_step))\n",
    "plot(x, error_R, \"Input Sample\", \"Quantization Error\", \"Mid-rise Quantizer ($\\Delta={}$)\".format(quantization_step))\n",
    "plot(x, error_D, \"Input Sample\", \"Quantization Error\", \"Dead-zone Quantizer ($\\Delta={}$)\".format(quantization_step))\n",
    "plot(x, error_C, \"Input Sample\", \"Quantization Error\", \"Companded Dead-zone $\\mu$-Law Quantizer ($\\mu={}, \\Delta={}$)\".format(mu, quantization_step))"
   ]
  },
  {
   "cell_type": "code",
   "execution_count": null,
   "metadata": {},
   "outputs": [],
   "source": [
    "quantization_step = 2 # Delta\n",
    "x = np.linspace(-8, 8, 500) # Input samples\n",
    "k_T = midtread_quantizer(x, quantization_step) # Quantized samples\n",
    "y_T = midtread_dequantizer(k_T, quantization_step) # Reconstructed samples\n",
    "k_R = midrise_quantizer(x, quantization_step)\n",
    "y_R = midrise_dequantizer(k_R, quantization_step)\n",
    "k_D = deadzone_quantizer(x, quantization_step)\n",
    "y_D = deadzone_dequantizer(k_D, quantization_step)\n",
    "k_C = companded_quantizer(x, quantization_step)\n",
    "y_C = companded_dequantizer(k_C, quantization_step)\n",
    "error_T = x - y_T\n",
    "error_R = x - y_R\n",
    "error_D = x - y_D\n",
    "error_C = x - y_C\n",
    "plot(x, error_T, \"Input Sample\", \"Quantization Error\", \"Mid-tread Quantizer ($\\Delta={}$)\".format(quantization_step))\n",
    "plot(x, error_R, \"Input Sample\", \"Quantization Error\", \"Mid-rise Quantizer ($\\Delta={}$)\".format(quantization_step))\n",
    "plot(x, error_D, \"Input Sample\", \"Quantization Error\", \"Dead-zone Quantizer ($\\Delta={}$)\".format(quantization_step))\n",
    "plot(x, error_C, \"Input Sample\", \"Quantization Error\", \"Companded Dead-zone $\\mu$-Law Quantizer ($\\mu={}, \\Delta={}$)\".format(mu, quantization_step))"
   ]
  },
  {
   "cell_type": "code",
   "execution_count": null,
   "metadata": {},
   "outputs": [],
   "source": [
    "quantization_step = 1024 # Delta\n",
    "x = np.linspace(-32768, 32767, 500) # Input samples\n",
    "k_T = midtread_quantizer(x, quantization_step) # Quantized samples\n",
    "y_T = midtread_dequantizer(k_T, quantization_step) # Reconstructed samples\n",
    "k_R = midrise_quantizer(x, quantization_step)\n",
    "y_R = midrise_dequantizer(k_R, quantization_step)\n",
    "k_D = deadzone_quantizer(x, quantization_step)\n",
    "y_D = deadzone_dequantizer(k_D, quantization_step)\n",
    "k_C = companded_quantizer(x, quantization_step)\n",
    "y_C = companded_dequantizer(k_C, quantization_step)\n",
    "error_T = x - y_T\n",
    "error_R = x - y_R\n",
    "error_D = x - y_D\n",
    "error_C = x - y_C\n",
    "plot(x, error_T, \"Input Sample\", \"Quantization Error\", \"Mid-tread Quantizer ($\\Delta={}$)\".format(quantization_step))\n",
    "plot(x, error_R, \"Input Sample\", \"Quantization Error\", \"Mid-rise Quantizer ($\\Delta={}$)\".format(quantization_step))\n",
    "plot(x, error_D, \"Input Sample\", \"Quantization Error\", \"Dead-zone Quantizer ($\\Delta={}$)\".format(quantization_step))\n",
    "plot(x, error_C, \"Input Sample\", \"Quantization Error\", \"Companded Dead-zone $\\mu$-Law Quantizer ($\\mu={}, \\Delta={}$)\".format(mu, quantization_step))"
   ]
  },
  {
   "cell_type": "markdown",
   "metadata": {},
   "source": [
    "## Working with signed integers of 16 bits"
   ]
  },
  {
   "cell_type": "code",
   "execution_count": null,
   "metadata": {},
   "outputs": [],
   "source": [
    "quantization_step = 1\n",
    "x = np.linspace(-32768, 32767, 65536).astype(np.int16)\n",
    "k_T = midtread_quantizer(x, quantization_step)\n",
    "y_T = midtread_dequantizer(k_T, quantization_step)\n",
    "k_R = midrise_quantizer(x, quantization_step)\n",
    "y_R = midrise_dequantizer(k_R, quantization_step)\n",
    "k_D = deadzone_quantizer(x, quantization_step)\n",
    "y_D = deadzone_dequantizer(k_D, quantization_step)\n",
    "k_C = companded_quantizer(x, quantization_step)\n",
    "y_C = companded_dequantizer(k_C, quantization_step)\n",
    "\n",
    "n = 16\n",
    "print(f\"{'Mid-tread':>20s} {'Mid-rise':>20s} {'Dead-zone':>20s} {'Companded Dead-zone':>20s}\")\n",
    "print(f\"{'Input':>6s} {'Output':>6s} {'Recons':>6s} {'Input':>6s} {'Output':>6s} {'Recons':>6s} {'Input':>6s} {'Output':>6s} {'Recons':>6s} {'Input':>6s} {'Output':>6s} {'Recons':>6s}\")\n",
    "offset = (len(x)-n)//2\n",
    "for i in range(n):\n",
    "    input = int(x[i+offset])\n",
    "    output_T = int(k_T[i+offset])\n",
    "    recons_T = int(y_T[i+offset])\n",
    "    print(f\"{input:>6d} {output_T:>6d} {recons_T:>6d}\", end='')\n",
    "    output_R = int(k_R[i+offset])\n",
    "    recons_R = int(y_R[i+offset])\n",
    "    print(f\" {input:>6d} {output_R:>6d} {recons_R:>6d}\", end='')\n",
    "    output_D = int(k_D[i+offset])\n",
    "    recons_D = int(y_D[i+offset])\n",
    "    print(f\" {input:>6d} {output_D:>6d} {recons_D:>6d}\", end='')\n",
    "    output_C = int(k_C[i+offset])\n",
    "    recons_C = int(y_C[i+offset])\n",
    "    print(f\" {input:>6d} {output_C:>6d} {recons_C:>6d}\")\n"
   ]
  },
  {
   "cell_type": "code",
   "execution_count": null,
   "metadata": {},
   "outputs": [],
   "source": [
    "quantization_step = 2\n",
    "x = np.linspace(-32768, 32767, 65536).astype(np.int16)\n",
    "k_T = midtread_quantizer(x, quantization_step)\n",
    "y_T = midtread_dequantizer(k_T, quantization_step)\n",
    "k_R = midrise_quantizer(x, quantization_step)\n",
    "y_R = midrise_dequantizer(k_R, quantization_step)\n",
    "k_D = deadzone_quantizer(x, quantization_step)\n",
    "y_D = deadzone_dequantizer(k_D, quantization_step)\n",
    "k_C = companded_quantizer(x, quantization_step)\n",
    "y_C = companded_dequantizer(k_C, quantization_step)\n",
    "\n",
    "n = 16\n",
    "print(f\"{'Mid-tread':>20s} {'Mid-rise':>20s} {'Dead-zone':>20s} {'Companded Dead-zone':>20s}\")\n",
    "print(f\"{'Input':>6s} {'Output':>6s} {'Recons':>6s} {'Input':>6s} {'Output':>6s} {'Recons':>6s} {'Input':>6s} {'Output':>6s} {'Recons':>6s} {'Input':>6s} {'Output':>6s} {'Recons':>6s}\")\n",
    "offset = (len(x)-n)//2\n",
    "for i in range(n):\n",
    "    input = int(x[i+offset])\n",
    "    output_T = int(k_T[i+offset])\n",
    "    recons_T = int(y_T[i+offset])\n",
    "    print(f\"{input:>6d} {output_T:>6d} {recons_T:>6d}\", end='')\n",
    "    output_R = int(k_R[i+offset])\n",
    "    recons_R = int(y_R[i+offset])\n",
    "    print(f\" {input:>6d} {output_R:>6d} {recons_R:>6d}\", end='')\n",
    "    output_D = int(k_D[i+offset])\n",
    "    recons_D = int(y_D[i+offset])\n",
    "    print(f\" {input:>6d} {output_D:>6d} {recons_D:>6d}\", end='')\n",
    "    output_C = int(k_C[i+offset])\n",
    "    recons_C = int(y_C[i+offset])\n",
    "    print(f\" {input:>6d} {output_C:>6d} {recons_C:>6d}\")\n"
   ]
  },
  {
   "cell_type": "code",
   "execution_count": null,
   "metadata": {},
   "outputs": [],
   "source": [
    "quantization_step = 32\n",
    "x = np.linspace(-32768, 32767, 65536).astype(np.int16)\n",
    "k_T = midtread_quantizer(x, quantization_step)\n",
    "y_T = midtread_dequantizer(k_T, quantization_step)\n",
    "k_R = midrise_quantizer(x, quantization_step)\n",
    "y_R = midrise_dequantizer(k_R, quantization_step)\n",
    "k_D = deadzone_quantizer(x, quantization_step)\n",
    "y_D = deadzone_dequantizer(k_D, quantization_step)\n",
    "k_C = companded_quantizer(x, quantization_step)\n",
    "y_C = companded_dequantizer(k_C, quantization_step)\n",
    "\n",
    "n = 16\n",
    "print(f\"{'Mid-tread':>20s} {'Mid-rise':>20s} {'Dead-zone':>20s} {'Companded Dead-zone':>20s}\")\n",
    "print(f\"{'Input':>6s} {'Output':>6s} {'Recons':>6s} {'Input':>6s} {'Output':>6s} {'Recons':>6s} {'Input':>6s} {'Output':>6s} {'Recons':>6s} {'Input':>6s} {'Output':>6s} {'Recons':>6s}\")\n",
    "offset = (len(x)-n)//2\n",
    "for i in range(n):\n",
    "    input = int(x[i+offset])\n",
    "    output_T = int(k_T[i+offset])\n",
    "    recons_T = int(y_T[i+offset])\n",
    "    print(f\"{input:>6d} {output_T:>6d} {recons_T:>6d}\", end='')\n",
    "    output_R = int(k_R[i+offset])\n",
    "    recons_R = int(y_R[i+offset])\n",
    "    print(f\" {input:>6d} {output_R:>6d} {recons_R:>6d}\", end='')\n",
    "    output_D = int(k_D[i+offset])\n",
    "    recons_D = int(y_D[i+offset])\n",
    "    print(f\" {input:>6d} {output_D:>6d} {recons_D:>6d}\", end='')\n",
    "    output_C = int(k_C[i+offset])\n",
    "    recons_C = int(y_C[i+offset])\n",
    "    print(f\" {input:>6d} {output_C:>6d} {recons_C:>6d}\")\n"
   ]
  }
 ],
 "metadata": {
  "kernelspec": {
   "display_name": "Python 3",
   "language": "python",
   "name": "python3"
  },
  "language_info": {
   "codemirror_mode": {
    "name": "ipython",
    "version": 3
   },
   "file_extension": ".py",
   "mimetype": "text/x-python",
   "name": "python",
   "nbconvert_exporter": "python",
   "pygments_lexer": "ipython3",
   "version": "3.9.1"
  }
 },
 "nbformat": 4,
 "nbformat_minor": 2
}

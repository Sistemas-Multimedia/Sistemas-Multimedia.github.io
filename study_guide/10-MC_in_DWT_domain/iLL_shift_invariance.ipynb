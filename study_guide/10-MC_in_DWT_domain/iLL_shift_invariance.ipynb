{
 "cells": [
  {
   "cell_type": "markdown",
   "metadata": {},
   "source": [
    "# Shift-invariance in the [L] subband"
   ]
  },
  {
   "cell_type": "code",
   "execution_count": null,
   "metadata": {},
   "outputs": [],
   "source": [
    "import numpy as np\n",
    "import cv2\n",
    "import matplotlib.pyplot as plt\n",
    "import matplotlib.image as mimg\n",
    "%matplotlib inline\n",
    "import pywt\n",
    "from io_stuff import *\n",
    "from color import *"
   ]
  },
  {
   "cell_type": "markdown",
   "metadata": {},
   "source": [
    "### Create the three images\n",
    "With a circle of diameter 10 that moves from coordinate (30, 20), (30, 21), and (30, 22). (row, column)"
   ]
  },
  {
   "cell_type": "code",
   "execution_count": null,
   "metadata": {},
   "outputs": [],
   "source": [
    "%%bash\n",
    "jupyter nbconvert --to notebook --execute create_moving_circles.ipynb"
   ]
  },
  {
   "cell_type": "markdown",
   "metadata": {},
   "source": [
    "### Load the images"
   ]
  },
  {
   "cell_type": "code",
   "execution_count": null,
   "metadata": {},
   "outputs": [],
   "source": [
    "prefix = \"moving_circle_\"\n",
    "frame_0 = load_img(prefix + \"000\")\n",
    "frame_1 = load_img(prefix + \"001\")\n",
    "frame_2 = load_img(prefix + \"002\")"
   ]
  },
  {
   "cell_type": "markdown",
   "metadata": {},
   "source": [
    "### Work only with luma"
   ]
  },
  {
   "cell_type": "code",
   "execution_count": null,
   "metadata": {},
   "outputs": [],
   "source": [
    "frame_0_Y = RGB_to_YCoCg(frame_0)[:,:,0]\n",
    "frame_1_Y = RGB_to_YCoCg(frame_1)[:,:,0]\n",
    "frame_2_Y = RGB_to_YCoCg(frame_2)[:,:,0]"
   ]
  },
  {
   "cell_type": "markdown",
   "metadata": {},
   "source": [
    "### 2D-DWT of the frames"
   ]
  },
  {
   "cell_type": "code",
   "execution_count": null,
   "metadata": {},
   "outputs": [],
   "source": [
    "f0_haar_LL, (f0_haar_LH, f0_haar_HL, f0_haar_HH) = pywt.dwt2(frame_0_Y, 'haar')\n",
    "f1_haar_LL, (f1_haar_LH, f1_haar_HL, f1_haar_HH) = pywt.dwt2(frame_1_Y, 'haar')\n",
    "f2_haar_LL, (f2_haar_LH, f2_haar_HL, f2_haar_HH) = pywt.dwt2(frame_2_Y, 'haar')"
   ]
  },
  {
   "cell_type": "markdown",
   "metadata": {},
   "source": [
    "### Interpolation of the L subbands: the [L] subbands"
   ]
  },
  {
   "cell_type": "code",
   "execution_count": null,
   "metadata": {},
   "outputs": [],
   "source": [
    "f0_haar_iL = pywt.idwt2([f0_haar_LL, (None, None, None)], 'haar')\n",
    "f1_haar_iL = pywt.idwt2([f1_haar_LL, (None, None, None)], 'haar')\n",
    "f2_haar_iL = pywt.idwt2([f2_haar_LL, (None, None, None)], 'haar')"
   ]
  },
  {
   "cell_type": "code",
   "execution_count": null,
   "metadata": {
    "scrolled": false
   },
   "outputs": [],
   "source": [
    "plt.figure(figsize=(10,10))\n",
    "plt.title(\"Frame 0. Haar. [L]\", fontsize=20)\n",
    "plt.imshow(f0_haar_iL, cmap='gray')\n",
    "plt.savefig('f0_haar_iL.png')\n",
    "plt.show()"
   ]
  },
  {
   "cell_type": "code",
   "execution_count": null,
   "metadata": {
    "scrolled": false
   },
   "outputs": [],
   "source": [
    "plt.figure(figsize=(10,10))\n",
    "plt.title(\"Frame 1. Haar. [L]\", fontsize=20)\n",
    "plt.imshow(f1_haar_iL, cmap='gray')\n",
    "plt.savefig('f1_haar_iL.png')\n",
    "plt.show()"
   ]
  },
  {
   "cell_type": "code",
   "execution_count": null,
   "metadata": {},
   "outputs": [],
   "source": [
    "plt.figure(figsize=(10,10))\n",
    "plt.title(\"Frame 2. Haar. [L]\", fontsize=20)\n",
    "plt.imshow(f2_haar_iL, cmap='gray')\n",
    "plt.savefig('f2_haar_iL.png')\n",
    "plt.show()"
   ]
  },
  {
   "cell_type": "markdown",
   "metadata": {},
   "source": [
    "Notice that the subbands [L] of the frames 0 and 2 have the same coefficients, but this is not true for the frame 1."
   ]
  },
  {
   "cell_type": "code",
   "execution_count": null,
   "metadata": {},
   "outputs": [],
   "source": [
    "plt.title(\"Frames 0 and 1. Haar. [L]\")\n",
    "plt.plot(np.roll(f0_haar_iL[36, 0:40], 1), label=\"prediction\")\n",
    "plt.plot(f1_haar_iL[36, 0:40], linestyle=':', linewidth=4, label=\"predicted\")\n",
    "plt.legend()\n",
    "plt.savefig(\"f0_1_haar_iL.svg\")\n",
    "plt.show()"
   ]
  },
  {
   "cell_type": "markdown",
   "metadata": {},
   "source": [
    "The predicted subband and the prediction subband does not need to be identical to estimate a motion field. For example, a block-based motion estimator should determine here the right displacement between the predicted structure and the reference one."
   ]
  },
  {
   "cell_type": "code",
   "execution_count": null,
   "metadata": {},
   "outputs": [],
   "source": [
    "plt.title(\"Frames 0 and 2. Haar. [L]\")\n",
    "plt.plot(np.roll(f0_haar_iL[36, 0:40], 2), label=\"prediction\")\n",
    "plt.plot(f2_haar_iL[36, 0:40], linestyle=':', linewidth=4, label=\"predicted\")\n",
    "plt.legend()\n",
    "plt.savefig(\"f0_2_haar_iL.svg\")\n",
    "plt.show()"
   ]
  },
  {
   "cell_type": "markdown",
   "metadata": {},
   "source": [
    "### Ignore the rest"
   ]
  },
  {
   "cell_type": "code",
   "execution_count": null,
   "metadata": {},
   "outputs": [],
   "source": [
    "plt.title(\"Coefs in [L] (Haar). Distance 2\")\n",
    "#plt.plot(iL_0_haar[35, 0:40], label=\"reference\")\n",
    "plt.plot(np.roll(iL_0_haar[35, 0:40], 2), label=\"predicted\")\n",
    "plt.plot(iL_1_haar[35, 0:40], linestyle=':', linewidth=4, label=\"prediction\")\n",
    "plt.legend()\n",
    "plt.savefig(\"haar_iL_1.svg\")\n",
    "plt.savefig(\"haar_iL_1.pdf\")\n",
    "plt.show()"
   ]
  },
  {
   "cell_type": "markdown",
   "metadata": {},
   "source": []
  },
  {
   "cell_type": "markdown",
   "metadata": {},
   "source": [
    "### Interpolation of the H subbands: the [H] subbands"
   ]
  },
  {
   "cell_type": "code",
   "execution_count": null,
   "metadata": {},
   "outputs": [],
   "source": [
    "iH_0_haar = pywt.idwt2([None,(LH_0_haar, HL_0_haar, HH_0_haar)], 'haar')\n",
    "iH_1_haar = pywt.idwt2([None,(LH_1_haar, HL_1_haar, HH_1_haar)], 'haar')\n",
    "iH_2_haar = pywt.idwt2([None,(LH_2_haar, HL_2_haar, HH_2_haar)], 'haar')"
   ]
  },
  {
   "cell_type": "code",
   "execution_count": null,
   "metadata": {
    "scrolled": true
   },
   "outputs": [],
   "source": [
    "plt.figure(figsize=(10,10))\n",
    "plt.title(\"[H]_0_haar\", fontsize=20)\n",
    "plt.imshow(iH_0_haar, cmap='gray')\n",
    "plt.show()"
   ]
  },
  {
   "cell_type": "code",
   "execution_count": null,
   "metadata": {
    "scrolled": true
   },
   "outputs": [],
   "source": [
    "plt.figure(figsize=(10,10))\n",
    "plt.title(\"[H]_1_haar\", fontsize=20)\n",
    "plt.imshow(iH_1_haar, cmap='gray')\n",
    "plt.show()"
   ]
  },
  {
   "cell_type": "code",
   "execution_count": null,
   "metadata": {},
   "outputs": [],
   "source": [
    "plt.figure(figsize=(10,10))\n",
    "plt.title(\"[H]_2_haar\", fontsize=20)\n",
    "plt.imshow(iH_2_haar, cmap='gray')\n",
    "plt.show()"
   ]
  },
  {
   "cell_type": "code",
   "execution_count": null,
   "metadata": {
    "scrolled": true
   },
   "outputs": [],
   "source": [
    "plt.title(\"Coefs in [H] (Haar). Distance 1\")\n",
    "plt.plot(np.roll(iH_0_haar[35, 0:40], 1), label=\"predicted\")\n",
    "plt.plot(iH_1_haar[35, 0:40], linestyle=':', linewidth=4, label=\"prediction\")\n",
    "plt.legend()\n",
    "plt.savefig(\"haar_iH_0.svg\")\n",
    "plt.savefig(\"haar_iH_0.pdf\")\n",
    "plt.show()"
   ]
  },
  {
   "cell_type": "code",
   "execution_count": null,
   "metadata": {},
   "outputs": [],
   "source": [
    "plt.title(\"Coefs in [H] (Haar). Distance 2\")\n",
    "plt.plot(np.roll(iH_0_haar[35, 0:40], 2), label=\"predicted\")\n",
    "plt.plot(iH_2_haar[35, 0:40], linestyle=':', linewidth=4, label=\"prediction\")\n",
    "plt.legend()\n",
    "plt.savefig(\"haar_iH_0.svg\")\n",
    "plt.savefig(\"haar_iH_0.pdf\")\n",
    "plt.show()"
   ]
  },
  {
   "cell_type": "code",
   "execution_count": null,
   "metadata": {},
   "outputs": [],
   "source": [
    "LL_0_db5, (LH_0_db5, HL_0_db5, HH_0_db5) = pywt.dwt2(frame_0_Y, 'db5')\n",
    "iL_0_db5 = pywt.idwt2([LL_0_db5, (None, None, None)], 'db5')\n",
    "LL_1_db5, (LH_1_db5, HL_1_db5, HH_1_db5) = pywt.dwt2(frame_1_Y, 'db5')\n",
    "iL_1_db5 = pywt.idwt2([LL_1_db5, (None, None, None)], 'db5')"
   ]
  },
  {
   "cell_type": "code",
   "execution_count": null,
   "metadata": {
    "scrolled": true
   },
   "outputs": [],
   "source": [
    "plt.figure(figsize=(10,10))\n",
    "plt.title(\"iL_0_db5\", fontsize=20)\n",
    "plt.imshow(iL_0_db5, cmap='gray')\n",
    "plt.show()"
   ]
  },
  {
   "cell_type": "code",
   "execution_count": null,
   "metadata": {},
   "outputs": [],
   "source": [
    "plt.figure(figsize=(10,10))\n",
    "plt.title(\"iL_1_db5\", fontsize=20)\n",
    "plt.imshow(iL_1_db5, cmap='gray')\n",
    "plt.show()"
   ]
  },
  {
   "cell_type": "code",
   "execution_count": null,
   "metadata": {},
   "outputs": [],
   "source": [
    "plt.title(\"Coefs in [L] (Daubechies 5)\")\n",
    "plt.plot(np.roll(iL_0_db5[35, 0:40],1), label=\"predicted\")\n",
    "plt.plot(iL_1_db5[35, 0:40], linestyle=':', linewidth=4, label=\"prediction\")\n",
    "plt.legend()\n",
    "plt.savefig(\"db5_iL.svg\")\n",
    "plt.savefig(\"db5_iL.pdf\")\n",
    "plt.show()"
   ]
  },
  {
   "cell_type": "code",
   "execution_count": null,
   "metadata": {},
   "outputs": [],
   "source": [
    "LL_0_bior35, (LH_0_bior35, HL_0_bior35, HH_0_bior35) = pywt.dwt2(frame_0_Y, 'bior3.5')\n",
    "iL_0_bior35 = pywt.idwt2([LL_0_bior35, (None, None, None)], 'bior3.5')\n",
    "LL_1_bior35, (LH_1_bior35, HL_1_bior35, HH_1_bior35) = pywt.dwt2(frame_1_Y, 'bior3.5')\n",
    "iL_1_bior35 = pywt.idwt2([LL_1_bior35, (None, None, None)], 'bior3.5')"
   ]
  },
  {
   "cell_type": "code",
   "execution_count": null,
   "metadata": {},
   "outputs": [],
   "source": [
    "plt.figure(figsize=(10,10))\n",
    "plt.title(\"iL_0_bior35\", fontsize=20)\n",
    "plt.imshow(iL_0_bior35, cmap='gray')\n",
    "plt.show()"
   ]
  },
  {
   "cell_type": "code",
   "execution_count": null,
   "metadata": {},
   "outputs": [],
   "source": [
    "plt.figure(figsize=(10,10))\n",
    "plt.title(\"iL_1_bior35\", fontsize=20)\n",
    "plt.imshow(iL_1_bior35, cmap='gray')\n",
    "plt.show()"
   ]
  },
  {
   "cell_type": "code",
   "execution_count": null,
   "metadata": {},
   "outputs": [],
   "source": [
    "plt.title(\"Coefs in [L] (Biorthogonal 3.5)\")\n",
    "plt.plot(np.roll(iL_0_bior35[35, 0:40], 1), label=\"predicted\")\n",
    "plt.plot(iL_1_bior35[35, 0:40], linestyle=':', linewidth=4, label=\"prediction\")\n",
    "plt.legend()\n",
    "plt.savefig(\"bior35_iL.svg\")\n",
    "plt.savefig(\"bior35_iL.pdf\")\n",
    "plt.show()"
   ]
  },
  {
   "cell_type": "code",
   "execution_count": null,
   "metadata": {},
   "outputs": [],
   "source": [
    "iH_0_db5 = pywt.idwt2([None,(LH_0_db5, HL_0_db5, HH_0_db5)], 'db5')\n",
    "iH_1_db5 = pywt.idwt2([None,(LH_1_db5, HL_1_db5, HH_1_db5)], 'db5')"
   ]
  },
  {
   "cell_type": "code",
   "execution_count": null,
   "metadata": {
    "scrolled": true
   },
   "outputs": [],
   "source": [
    "plt.figure(figsize=(10,10))\n",
    "plt.title(\"iH_0_db5\", fontsize=20)\n",
    "plt.imshow(iH_0_db5, cmap='gray')\n",
    "plt.show()"
   ]
  },
  {
   "cell_type": "code",
   "execution_count": null,
   "metadata": {},
   "outputs": [],
   "source": [
    "plt.figure(figsize=(10,10))\n",
    "plt.title(\"iH_1_db5\", fontsize=20)\n",
    "plt.imshow(iH_1_db5, cmap='gray')\n",
    "plt.show()"
   ]
  },
  {
   "cell_type": "code",
   "execution_count": null,
   "metadata": {
    "scrolled": true
   },
   "outputs": [],
   "source": [
    "plt.title(\"Coefs in [H] (db5)\")\n",
    "plt.plot(np.roll(iH_0_db5[35, 0:40], 1), label=\"predicted\")\n",
    "plt.plot(iH_1_db5[35, 0:40], linestyle=':', linewidth=4, label=\"prediction\")\n",
    "plt.legend()\n",
    "plt.savefig(\"db5_iH.svg\")\n",
    "plt.savefig(\"db5_iH.pdf\")\n",
    "plt.show()"
   ]
  },
  {
   "cell_type": "code",
   "execution_count": null,
   "metadata": {},
   "outputs": [],
   "source": [
    "iH_0_bior35 = pywt.idwt2([None,(LH_0_bior35, HL_0_bior35, HH_0_bior35)], 'bior3.5')\n",
    "iH_1_bior35 = pywt.idwt2([None,(LH_1_bior35, HL_1_bior35, HH_1_bior35)], 'bior3.5')"
   ]
  },
  {
   "cell_type": "code",
   "execution_count": null,
   "metadata": {
    "scrolled": true
   },
   "outputs": [],
   "source": [
    "plt.figure(figsize=(10,10))\n",
    "plt.title(\"iH_0_bior35\", fontsize=20)\n",
    "plt.imshow(iH_0_bior35, cmap='gray')\n",
    "plt.show()"
   ]
  },
  {
   "cell_type": "code",
   "execution_count": null,
   "metadata": {},
   "outputs": [],
   "source": [
    "plt.figure(figsize=(10,10))\n",
    "plt.title(\"iH_1_bior35\", fontsize=20)\n",
    "plt.imshow(iH_1_bior35, cmap='gray')\n",
    "plt.show()"
   ]
  },
  {
   "cell_type": "code",
   "execution_count": null,
   "metadata": {},
   "outputs": [],
   "source": [
    "plt.title(\"Coefs in [H] (bior35)\")\n",
    "plt.plot(np.roll(iH_0_bior35[35, 0:40], 1), label=\"predicted\")\n",
    "plt.plot(iH_1_bior35[35, 0:40], linestyle=':', linewidth=4, label=\"prediction\")\n",
    "plt.plot(np.roll(iH_1_bior35[35, 0:40][::-1], 3), linestyle=':', linewidth=3, label=\"prediction b\")\n",
    "plt.legend()\n",
    "plt.savefig(\"bior35_iH.svg\")\n",
    "plt.savefig(\"bior35_iH.pdf\")\n",
    "plt.show()"
   ]
  },
  {
   "cell_type": "code",
   "execution_count": null,
   "metadata": {},
   "outputs": [],
   "source": [
    "iiH_0_bior35 = pywt.idwt2([iH_0_bior35, (None, None, None)], 'bior3.5')\n",
    "iiH_1_bior35 = pywt.idwt2([iH_1_bior35, (None, None, None)], 'bior3.5')"
   ]
  },
  {
   "cell_type": "code",
   "execution_count": null,
   "metadata": {},
   "outputs": [],
   "source": [
    "plt.title(\"Coefs in [H] (bior35)\")\n",
    "plt.plot(np.roll(iiH_0_bior35[70, 0:80], 3), label=\"predicted\")\n",
    "plt.plot(iiH_1_bior35[70, 0:80], linestyle=':', linewidth=4, label=\"prediction\")\n",
    "plt.legend()\n",
    "plt.savefig(\"bior35_iiH.svg\")\n",
    "plt.savefig(\"bior35_iiH.pdf\")\n",
    "plt.show()"
   ]
  },
  {
   "cell_type": "code",
   "execution_count": null,
   "metadata": {
    "scrolled": true
   },
   "outputs": [],
   "source": [
    "%%bash\n",
    "\n",
    "# Create the two images (\"/tmp/moving_circle_000.png\" and \"/tmp/moving_circle_001.png\") with a circle\n",
    "# of diameter 10 that moves from coordinate (20,30) to (21,30).\n",
    "/home/vruiz/MRVC/tools/moving_circle.sh -w 128 -h 128 -x 20 -y 30 -d 10 -f 3\n",
    "mv /tmp/moving_circle_000.png .\n",
    "mv /tmp/moving_circle_002.png ."
   ]
  },
  {
   "cell_type": "code",
   "execution_count": null,
   "metadata": {},
   "outputs": [],
   "source": [
    "frame_2 = load_frame(prefix + \"002\")\n",
    "frame_2_Y = RGB_to_YCoCg(frame_2)[:,:,0]"
   ]
  },
  {
   "cell_type": "code",
   "execution_count": null,
   "metadata": {},
   "outputs": [],
   "source": [
    "LL_2_bior35, (LH_2_bior35, HL_2_bior35, HH_2_bior35) = pywt.dwt2(frame_2_Y, 'bior3.5')\n",
    "iL_2_bior35 = pywt.idwt2([LL_2_bior35, (None, None, None)], 'bior3.5')\n",
    "iH_2_bior35 = pywt.idwt2([None,(LH_2_bior35, HL_2_bior35, HH_2_bior35)], 'bior3.5')"
   ]
  },
  {
   "cell_type": "code",
   "execution_count": null,
   "metadata": {
    "scrolled": true
   },
   "outputs": [],
   "source": [
    "plt.title(\"Coefs in [L] (Biorthogonal 3.5)\")\n",
    "plt.plot(np.roll(iL_0_bior35[35, 0:40], 2), label=\"predicted\")\n",
    "plt.plot(iL_2_bior35[35, 0:40], linestyle=':', linewidth=4, label=\"prediction\")\n",
    "plt.legend()\n",
    "#plt.savefig(\"bior35_iL.svg\")\n",
    "#plt.savefig(\"bior35_iL.pdf\")\n",
    "plt.show()"
   ]
  },
  {
   "cell_type": "code",
   "execution_count": null,
   "metadata": {},
   "outputs": [],
   "source": [
    "plt.title(\"Coefs in [H] (bior35)\")\n",
    "plt.plot(np.roll(iH_0_bior35[35, 0:40], 2), label=\"predicted\")\n",
    "plt.plot(iH_2_bior35[35, 0:40], linestyle=':', linewidth=4, label=\"prediction\")\n",
    "plt.legend()\n",
    "plt.savefig(\"bior35_iH.svg\")\n",
    "plt.savefig(\"bior35_iH.pdf\")\n",
    "plt.show()"
   ]
  },
  {
   "cell_type": "code",
   "execution_count": null,
   "metadata": {},
   "outputs": [],
   "source": []
  },
  {
   "cell_type": "code",
   "execution_count": null,
   "metadata": {},
   "outputs": [],
   "source": []
  }
 ],
 "metadata": {
  "kernelspec": {
   "display_name": "Python 3",
   "language": "python",
   "name": "python3"
  },
  "language_info": {
   "codemirror_mode": {
    "name": "ipython",
    "version": 3
   },
   "file_extension": ".py",
   "mimetype": "text/x-python",
   "name": "python",
   "nbconvert_exporter": "python",
   "pygments_lexer": "ipython3",
   "version": "3.9.1"
  }
 },
 "nbformat": 4,
 "nbformat_minor": 4
}

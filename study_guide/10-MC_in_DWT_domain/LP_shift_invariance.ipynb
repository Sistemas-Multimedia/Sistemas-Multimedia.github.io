{
 "cells": [
  {
   "cell_type": "markdown",
   "metadata": {
    "colab_type": "text",
    "id": "view-in-github"
   },
   "source": [
    "<a href=\"https://colab.research.google.com/github/vicente-gonzalez-ruiz/PRMC-experimentos/blob/master/src/shift_invariance_in_OLP.ipynb\" target=\"_parent\"><img src=\"https://colab.research.google.com/assets/colab-badge.svg\" alt=\"Open In Colab\"/></a>"
   ]
  },
  {
   "cell_type": "markdown",
   "metadata": {},
   "source": [
    "# Shift invariance in LP domain\n",
    "\n",
    "See [this](https://eprints.qut.edu.au/114753/1/Bradley_DICTA03.pdf)."
   ]
  },
  {
   "cell_type": "code",
   "execution_count": null,
   "metadata": {},
   "outputs": [],
   "source": [
    "import numpy as np\n",
    "import cv2\n",
    "import matplotlib.pyplot as plt\n",
    "import matplotlib.image as mimg\n",
    "%matplotlib inline\n",
    "import pywt\n",
    "from io_stuff import *\n",
    "from color import *"
   ]
  },
  {
   "cell_type": "markdown",
   "metadata": {},
   "source": [
    "### Create three images\n",
    "With a circle of diameter 10 that moves from coordinate (30, 20), (30, 21), and (30, 22). (row, column)"
   ]
  },
  {
   "cell_type": "code",
   "execution_count": null,
   "metadata": {
    "scrolled": true
   },
   "outputs": [],
   "source": [
    "%%bash\n",
    "jupyter nbconvert --to notebook --execute create_moving_circles.ipynb"
   ]
  },
  {
   "cell_type": "markdown",
   "metadata": {},
   "source": [
    "### Load the images"
   ]
  },
  {
   "cell_type": "code",
   "execution_count": null,
   "metadata": {},
   "outputs": [],
   "source": [
    "prefix = \"moving_circle_\"\n",
    "frame_0 = load_img(prefix + \"000\")\n",
    "frame_1 = load_img(prefix + \"001\")\n",
    "frame_2 = load_img(prefix + \"002\")"
   ]
  },
  {
   "cell_type": "markdown",
   "metadata": {},
   "source": [
    "### Gaussian Pyramid"
   ]
  },
  {
   "cell_type": "code",
   "execution_count": null,
   "metadata": {},
   "outputs": [],
   "source": [
    "# Generate Gaussian pyramid (of 2 levels) for both images\n",
    "# (https://opencv-python-tutroals.readthedocs.io/en/latest/py_tutorials/py_imgproc/py_pyramids/py_pyramids.html)\n",
    "\n",
    "levels = 1\n",
    "\n",
    "G_000 = frame_0[:,:,0].copy()\n",
    "G_001 = frame_1[:,:,0].copy()\n",
    "G_002 = frame_2[:,:,0].copy()\n",
    "gp_000 = [G_000]\n",
    "gp_001 = [G_001]\n",
    "gp_002 = [G_002]\n",
    "for i in range(levels):\n",
    "    G_000 = cv2.pyrDown(G_000)\n",
    "    G_001 = cv2.pyrDown(G_001)\n",
    "    G_002 = cv2.pyrDown(G_002)\n",
    "    gp_000.append(G_000)\n",
    "    gp_001.append(G_001)\n",
    "    gp_002.append(G_002)\n",
    "    print(i)\n",
    "print(len(gp_000))"
   ]
  },
  {
   "cell_type": "code",
   "execution_count": null,
   "metadata": {},
   "outputs": [],
   "source": [
    "plt.figure(figsize=(10,10))\n",
    "plt.title(\"Frame 0. Gaussian Pyramid. Level 0.\", fontsize=20)\n",
    "plt.imshow(gp_000[0], cmap=\"gray\")\n",
    "plt.show()"
   ]
  },
  {
   "cell_type": "code",
   "execution_count": null,
   "metadata": {},
   "outputs": [],
   "source": [
    "plt.figure(figsize=(10,10))\n",
    "plt.title(\"Frame 0. Gaussian Pyramid. Level 1.\", fontsize=20)\n",
    "plt.imshow(gp_000[1], cmap=\"gray\")\n",
    "plt.show()"
   ]
  },
  {
   "cell_type": "code",
   "execution_count": null,
   "metadata": {},
   "outputs": [],
   "source": [
    "plt.figure(figsize=(10,10))\n",
    "plt.title(\"Frame 1. Gaussian Pyramid. Level 0.\", fontsize=20)\n",
    "plt.imshow(gp_001[0], cmap=\"gray\")\n",
    "plt.show()"
   ]
  },
  {
   "cell_type": "code",
   "execution_count": null,
   "metadata": {},
   "outputs": [],
   "source": [
    "plt.figure(figsize=(10,10))\n",
    "plt.title(\"Frame 1. Gaussian Pyramid. Level 1.\", fontsize=20)\n",
    "plt.imshow(gp_001[1], cmap=\"gray\")\n",
    "plt.show()"
   ]
  },
  {
   "cell_type": "code",
   "execution_count": null,
   "metadata": {},
   "outputs": [],
   "source": [
    "plt.figure(figsize=(10,10))\n",
    "plt.title(\"Frame 2. Gaussian Pyramid. Level 0.\", fontsize=20)\n",
    "plt.imshow(gp_002[0], cmap=\"gray\")\n",
    "plt.show()"
   ]
  },
  {
   "cell_type": "code",
   "execution_count": null,
   "metadata": {},
   "outputs": [],
   "source": [
    "plt.figure(figsize=(10,10))\n",
    "plt.title(\"Frame 2. Gaussian Pyramid. Level 1.\", fontsize=20)\n",
    "plt.imshow(gp_002[1], cmap=\"gray\")\n",
    "plt.show()"
   ]
  },
  {
   "cell_type": "markdown",
   "metadata": {},
   "source": [
    "### Laplacian Pyramid"
   ]
  },
  {
   "cell_type": "code",
   "execution_count": null,
   "metadata": {},
   "outputs": [],
   "source": [
    "# Generate Laplacian Pyramid for both images.\n",
    "lp_000 = [gp_000[levels]]\n",
    "lp_001 = [gp_001[levels]]\n",
    "lp_002 = [gp_002[levels]]\n",
    "for i in range(levels, 0, -1):\n",
    "    GE_000 = cv2.pyrUp(gp_000[i])\n",
    "    GE_001 = cv2.pyrUp(gp_001[i])\n",
    "    GE_002 = cv2.pyrUp(gp_002[i])\n",
    "    L_000 = cv2.subtract(gp_000[i-1], GE_000)\n",
    "    L_001 = cv2.subtract(gp_001[i-1], GE_001)\n",
    "    L_002 = cv2.subtract(gp_002[i-1], GE_002)\n",
    "    lp_000.append(L_000)\n",
    "    lp_001.append(L_001)\n",
    "    lp_002.append(L_002)\n",
    "    print(i)"
   ]
  },
  {
   "cell_type": "code",
   "execution_count": null,
   "metadata": {
    "scrolled": true
   },
   "outputs": [],
   "source": [
    "plt.figure(figsize=(10,10))\n",
    "plt.title(\"Frame 0. LP. Level 1.\", fontsize=20)\n",
    "plt.imshow(lp_000[0], cmap=\"gray\")\n",
    "plt.savefig('f0_LP_level1.png')\n",
    "plt.show()"
   ]
  },
  {
   "cell_type": "code",
   "execution_count": null,
   "metadata": {},
   "outputs": [],
   "source": [
    "plt.figure(figsize=(10,10))\n",
    "plt.title(\"Frame 0. LP. Level 0.\", fontsize=20)\n",
    "plt.imshow(lp_000[1], cmap=\"gray\")\n",
    "plt.savefig('f0_LP_level0.png')\n",
    "plt.show()"
   ]
  },
  {
   "cell_type": "code",
   "execution_count": null,
   "metadata": {},
   "outputs": [],
   "source": [
    "plt.figure(figsize=(10,10))\n",
    "plt.title(\"Frame 1. LP. Level 1.\", fontsize=20)\n",
    "plt.imshow(lp_001[0], cmap=\"gray\")\n",
    "plt.savefig('f1_LP_level1.png')\n",
    "plt.show()"
   ]
  },
  {
   "cell_type": "code",
   "execution_count": null,
   "metadata": {
    "scrolled": true
   },
   "outputs": [],
   "source": [
    "plt.figure(figsize=(10,10))\n",
    "plt.title(\"Frame 1. LP. Level 0.\", fontsize=20)\n",
    "plt.imshow(lp_001[1], cmap=\"gray\")\n",
    "plt.savefig('f1_LP_level0.png')\n",
    "plt.show()"
   ]
  },
  {
   "cell_type": "code",
   "execution_count": null,
   "metadata": {
    "scrolled": true
   },
   "outputs": [],
   "source": [
    "plt.figure(figsize=(10,10))\n",
    "plt.title(\"Frame 2. LP. Level 1.\", fontsize=20)\n",
    "plt.imshow(lp_002[0], cmap=\"gray\")\n",
    "plt.savefig('f2_LP_level1.png')\n",
    "plt.show()"
   ]
  },
  {
   "cell_type": "code",
   "execution_count": null,
   "metadata": {},
   "outputs": [],
   "source": [
    "plt.figure(figsize=(10,10))\n",
    "plt.title(\"Frame 2. LP. Level 0.\", fontsize=20)\n",
    "plt.imshow(lp_002[1], cmap=\"gray\")\n",
    "plt.savefig('f2_LP_level0.png')\n",
    "plt.show()"
   ]
  },
  {
   "cell_type": "code",
   "execution_count": null,
   "metadata": {
    "scrolled": true
   },
   "outputs": [],
   "source": [
    "plt.title(\"Frames 0 and 1. LP. Level 1\")\n",
    "plt.plot(np.roll(lp_000[0][18, 0:20], 0), label=\"prediction\")\n",
    "plt.plot(lp_001[0][18, 0:20], linestyle=':', linewidth=4, label=\"predicted\")\n",
    "plt.legend()\n",
    "plt.savefig(\"f0_1_LP_level1.svg\")\n",
    "plt.show()"
   ]
  },
  {
   "cell_type": "code",
   "execution_count": null,
   "metadata": {
    "scrolled": true
   },
   "outputs": [],
   "source": [
    "plt.title(\"Frames 0 and 1. LP. Level 0\")\n",
    "plt.plot(np.roll(lp_000[1][36, 0:40], 1), label=\"prediction\")\n",
    "plt.plot(lp_001[1][36, 0:40], linestyle=':', linewidth=4, label=\"predicted\")\n",
    "plt.legend()\n",
    "plt.savefig(\"f0_1_LP_level0.svg\")\n",
    "plt.show()"
   ]
  },
  {
   "cell_type": "code",
   "execution_count": null,
   "metadata": {},
   "outputs": [],
   "source": [
    "plt.title(\"Frames 0 and 2. LP. Level 1\")\n",
    "plt.plot(np.roll(lp_000[0][18, 0:20], 1), label=\"prediction\")\n",
    "plt.plot(lp_002[0][18, 0:20], linestyle=':', linewidth=4, label=\"predicted\")\n",
    "plt.legend()\n",
    "plt.savefig(\"f0_2_LP_level1.svg\")\n",
    "plt.show()"
   ]
  },
  {
   "cell_type": "code",
   "execution_count": null,
   "metadata": {},
   "outputs": [],
   "source": [
    "plt.title(\"Frames 0 and 2. LP. Level 0\")\n",
    "plt.plot(np.roll(lp_000[1][36, 0:40], 2), label=\"prediction\")\n",
    "plt.plot(lp_002[1][36, 0:40], linestyle=':', linewidth=4, label=\"predicted\")\n",
    "plt.legend()\n",
    "plt.savefig(\"f0_2_LP_level0.svg\")\n",
    "plt.show()"
   ]
  },
  {
   "cell_type": "markdown",
   "metadata": {},
   "source": [
    "## Ignore the rest ..."
   ]
  },
  {
   "cell_type": "markdown",
   "metadata": {},
   "source": [
    "## Is $[L]$ subband shift invariant?\n",
    "A priori, aliasing makes impossible that $[L]$ is shift-invariant."
   ]
  },
  {
   "cell_type": "code",
   "execution_count": null,
   "metadata": {},
   "outputs": [],
   "source": [
    "plt.figure(figsize=(10,10))\n",
    "plt.title(\"/tmp/level 1 (image 000)\", fontsize=20)\n",
    "plt.imshow(cv2.pyrUp(lp_000[0]), cmap=\"gray\")"
   ]
  },
  {
   "cell_type": "code",
   "execution_count": null,
   "metadata": {},
   "outputs": [],
   "source": [
    "plt.figure(figsize=(10,10))\n",
    "plt.title(\"/tmp/level 1 (image 001)\", fontsize=20)\n",
    "plt.imshow(cv2.pyrUp(lp_001[0]), cmap=\"gray\")"
   ]
  },
  {
   "cell_type": "code",
   "execution_count": null,
   "metadata": {},
   "outputs": [],
   "source": [
    "plt.plot(cv2.pyrUp(lp_000[0])[35, 0:40])\n",
    "plt.show()\n",
    "plt.plot(cv2.pyrUp(lp_001[0])[35, 0:40])\n",
    "plt.show()"
   ]
  },
  {
   "cell_type": "markdown",
   "metadata": {},
   "source": [
    "But it is quite close to being."
   ]
  },
  {
   "cell_type": "markdown",
   "metadata": {},
   "source": [
    "## Is $[H]$ subband shift invariant?\n",
    "If $[L]$ is almost shift invariant,\n",
    "$$\n",
    "[H] = I - [L]\n",
    "$$\n",
    "where $I$ is the original image, should also be near shift invariant."
   ]
  },
  {
   "cell_type": "code",
   "execution_count": null,
   "metadata": {},
   "outputs": [],
   "source": [
    "plt.figure(figsize=(10,10))\n",
    "plt.title(\"/tmp/000_H_0\", fontsize=20)\n",
    "plt.imshow(lp_000[1], cmap=\"gray\")"
   ]
  },
  {
   "cell_type": "code",
   "execution_count": null,
   "metadata": {
    "scrolled": false
   },
   "outputs": [],
   "source": [
    "plt.figure(figsize=(10,10))\n",
    "plt.title(\"/tmp/000_H_1\", fontsize=20)\n",
    "plt.imshow(lp_001[1], cmap=\"gray\")"
   ]
  },
  {
   "cell_type": "code",
   "execution_count": null,
   "metadata": {},
   "outputs": [],
   "source": [
    "plt.figure(figsize=(10,10))\n",
    "plt.title(\"diff\", fontsize=20)\n",
    "plt.imshow(lp_001[1]-lp_000[1], cmap=\"gray\")"
   ]
  },
  {
   "cell_type": "code",
   "execution_count": null,
   "metadata": {},
   "outputs": [],
   "source": [
    "plt.plot(lp_000[1][35, 0:40])\n",
    "plt.show()\n",
    "plt.plot(lp_001[1][35, 0:40])\n",
    "plt.show()"
   ]
  },
  {
   "cell_type": "code",
   "execution_count": null,
   "metadata": {},
   "outputs": [],
   "source": [
    "plt.plot(lp_001[1][35, 0:40]-np.roll(lp_000[1][35, 0:40],1)+128)\n",
    "plt.show()"
   ]
  },
  {
   "cell_type": "markdown",
   "metadata": {},
   "source": [
    "The $[H]$ subband is also quite close to being shift invariant."
   ]
  }
 ],
 "metadata": {
  "colab": {
   "include_colab_link": true,
   "name": "ejemplo.ipynb",
   "provenance": []
  },
  "kernelspec": {
   "display_name": "Python 3",
   "language": "python",
   "name": "python3"
  },
  "language_info": {
   "codemirror_mode": {
    "name": "ipython",
    "version": 3
   },
   "file_extension": ".py",
   "mimetype": "text/x-python",
   "name": "python",
   "nbconvert_exporter": "python",
   "pygments_lexer": "ipython3",
   "version": "3.9.1"
  }
 },
 "nbformat": 4,
 "nbformat_minor": 1
}

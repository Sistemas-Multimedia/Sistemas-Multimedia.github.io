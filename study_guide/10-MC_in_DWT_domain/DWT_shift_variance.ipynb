{
 "cells": [
  {
   "cell_type": "markdown",
   "metadata": {},
   "source": [
    "# Shift variance in the DWT domain"
   ]
  },
  {
   "cell_type": "code",
   "execution_count": 1,
   "metadata": {},
   "outputs": [],
   "source": [
    "import numpy as np\n",
    "import cv2\n",
    "import matplotlib.pyplot as plt\n",
    "import matplotlib.image as mimg\n",
    "%matplotlib inline\n",
    "import pywt"
   ]
  },
  {
   "cell_type": "code",
   "execution_count": 5,
   "metadata": {},
   "outputs": [
    {
     "name": "stdout",
     "output_type": "stream",
     "text": [
      "/home/vruiz/MRVC/tools/moving_circle.sh: parsing: -w 128 -h 128 -x 20 -y 30 -d 10 -f 2\n",
      "image_width = 128\n",
      "image_height = 128\n",
      "Initial X coordinate = 20\n",
      "Initial Y coordinate = 30\n",
      "diameter = 10\n",
      "frames = 2\n"
     ]
    },
    {
     "name": "stderr",
     "output_type": "stream",
     "text": [
      "+ i=0\n",
      "+ '[' 0 -le 1 ']'\n",
      "++ printf %03d 0\n",
      "+ ii=000\n",
      "+ convert -size 128x128 xc:skyblue -fill white -stroke black -draw 'circle 20,30 30,30' /tmp/moving_circle_000.png\n",
      "+ i=1\n",
      "+ '[' 1 -le 1 ']'\n",
      "++ printf %03d 1\n",
      "+ ii=001\n",
      "+ convert -size 128x128 xc:skyblue -fill white -stroke black -draw 'circle 21,30 31,30' /tmp/moving_circle_001.png\n",
      "+ i=2\n",
      "+ '[' 2 -le 1 ']'\n"
     ]
    }
   ],
   "source": [
    "%%bash\n",
    "\n",
    "# Create the two images (\"/tmp/moving_circle_000.png\" and \"/tmp/moving_circle_001.png\") with a circle\n",
    "# of diameter 10 that moves from coordinate (20,30) to (21,30).\n",
    "/home/vruiz/MRVC/tools/moving_circle.sh -w 128 -h 128 -x 20 -y 30 -d 10 -f 2\n",
    "mv /tmp/moving_circle_000.png .\n",
    "mv /tmp/moving_circle_001.png ."
   ]
  },
  {
   "cell_type": "code",
   "execution_count": 6,
   "metadata": {},
   "outputs": [],
   "source": [
    "def normalize(img):\n",
    "    max_component = np.max(img)\n",
    "    min_component = np.min(img)\n",
    "    max_min_component = max_component - min_component\n",
    "    return (img-min_component)/max_min_component\n",
    "\n",
    "def show_img(prefix):\n",
    "    img = load_img(prefix)\n",
    "    img = normalize(img)\n",
    "    plt.figure(figsize=(10,10))\n",
    "    plt.title(prefix, fontsize=20)\n",
    "    plt.imshow(img)\n",
    "    \n",
    "def load_frame(prefix):\n",
    "    fn = f\"{prefix}.png\"\n",
    "    print(fn)\n",
    "    frame = cv2.imread(fn, cv2.IMREAD_UNCHANGED) # [rows, columns, components]\n",
    "    frame = cv2.cvtColor(frame, cv2.COLOR_BGR2RGB)\n",
    "    frame = np.array(frame)\n",
    "    frame = frame.astype(np.float32) - 32768.0\n",
    "    return frame\n",
    "\n",
    "def write_frame(frame, prefix):\n",
    "    frame = frame.astype(np.float32)\n",
    "    frame += 32768.0\n",
    "    frame = frame.astype(np.uint16)\n",
    "    cv2.imwrite(f\"{prefix}.png\", frame)\n",
    "\n",
    "def show_seq(prefix=\"/tmp/\", frames=5):\n",
    "    for i in range(frames):\n",
    "        show_img(f\"{prefix}{i:03d}\")\n",
    "\n",
    "def show_motion(prefix=\"/tmp/\", frames=5):\n",
    "    plt.figure(figsize=(10,10))\n",
    "    prev = load_frame(f\"{prefix}000\")\n",
    "    imgplot = plt.imshow(normalize(prev))\n",
    "    for i in range(1, frames, 1):\n",
    "        img = load_frame(f\"{prefix}{i:03d}\")\n",
    "        diff = img - prev\n",
    "        prev = img\n",
    "        diff = normalize(diff)\n",
    "        plt.figure(figsize=(10,10))\n",
    "        plt.title(f\"{prefix}{i:03d}\", fontsize=20)\n",
    "        plt.imshow(diff)"
   ]
  },
  {
   "cell_type": "code",
   "execution_count": 7,
   "metadata": {},
   "outputs": [
    {
     "name": "stdout",
     "output_type": "stream",
     "text": [
      "moving_circle_000.png\n",
      "moving_circle_001.png\n"
     ]
    },
    {
     "data": {
      "image/png": "[encoded data removed]",
      "text/plain": [
       "<Figure size 720x720 with 1 Axes>"
      ]
     },
     "metadata": {
      "needs_background": "light"
     },
     "output_type": "display_data"
    },
    {
     "data": {
      "image/png": "[encoded data removed]",
      "text/plain": [
       "<Figure size 720x720 with 1 Axes>"
      ]
     },
     "metadata": {
      "needs_background": "light"
     },
     "output_type": "display_data"
    }
   ],
   "source": [
    "prefix = \"moving_circle_\"\n",
    "show_motion(prefix, frames=2)"
   ]
  },
  {
   "cell_type": "code",
   "execution_count": 8,
   "metadata": {},
   "outputs": [],
   "source": [
    "def RGB_to_YCoCg(RGB_frame):\n",
    "    R, G, B = RGB_frame[:,:,0], RGB_frame[:,:,1], RGB_frame[:,:,2]\n",
    "    YCoCg_frame = np.empty_like(RGB_frame)\n",
    "    YCoCg_frame[:,:,0] =  R/4 + G/2 + B/4 \n",
    "    YCoCg_frame[:,:,1] =  R/2       - B/2\n",
    "    YCoCg_frame[:,:,2] = -R/4 + G/2 - B/4\n",
    "    return YCoCg_frame"
   ]
  },
  {
   "cell_type": "code",
   "execution_count": 12,
   "metadata": {},
   "outputs": [
    {
     "name": "stdout",
     "output_type": "stream",
     "text": [
      "moving_circle_000.png\n",
      "moving_circle_001.png\n"
     ]
    }
   ],
   "source": [
    "frame_0 = load_frame(prefix + \"000\")\n",
    "frame_1 = load_frame(prefix + \"001\")\n",
    "write_frame(frame_1-frame_0, \"difference\")"
   ]
  },
  {
   "cell_type": "code",
   "execution_count": null,
   "metadata": {},
   "outputs": [],
   "source": [
    "frame_0_Y = RGB_to_YCoCg(frame_0)[:,:,0]\n",
    "frame_1_Y = RGB_to_YCoCg(frame_1)[:,:,0]"
   ]
  },
  {
   "cell_type": "code",
   "execution_count": null,
   "metadata": {},
   "outputs": [],
   "source": [
    "# Plot the first part (from pixel 0 to 39) of the horizontal line (row 35) of the luminance.\n",
    "plt.plot(frame_0_Y[35, 0:40])\n",
    "#plt.show()\n",
    "plt.plot(frame_1_Y[35, 0:40], linestyle=':')\n",
    "plt.savefig(\"movement.svg\")\n",
    "plt.savefig(\"movement.pdf\")\n",
    "plt.show()"
   ]
  },
  {
   "cell_type": "code",
   "execution_count": null,
   "metadata": {},
   "outputs": [],
   "source": [
    "decomposition_0_haar = pywt.dwt2(frame_0_Y, 'haar')\n",
    "decomposition_1_haar = pywt.dwt2(frame_1_Y, 'haar')"
   ]
  },
  {
   "cell_type": "code",
   "execution_count": null,
   "metadata": {},
   "outputs": [],
   "source": [
    "plt.title(\"Coefs in LL (Haar)\")\n",
    "plt.plot(decomposition_0_haar[0][18, 0:20])\n",
    "plt.plot(decomposition_1_haar[0][18, 0:20], linestyle=':')\n",
    "plt.savefig(\"haar_LL.svg\")\n",
    "plt.savefig(\"haar_LL.pdf\")\n",
    "plt.show()"
   ]
  },
  {
   "cell_type": "code",
   "execution_count": null,
   "metadata": {},
   "outputs": [],
   "source": [
    "decomposition_0_db5 = pywt.dwt2(frame_0_Y, 'db5')\n",
    "decomposition_1_db5 = pywt.dwt2(frame_1_Y, 'db5')"
   ]
  },
  {
   "cell_type": "code",
   "execution_count": null,
   "metadata": {},
   "outputs": [],
   "source": [
    "plt.title(\"Coefs in LL (Daubechies 5)\")\n",
    "plt.plot(decomposition_0_db5[0][18, 0:20])\n",
    "plt.plot(decomposition_1_db5[0][18, 0:20], linestyle=':')\n",
    "plt.savefig(\"db5_LL.svg\")\n",
    "plt.savefig(\"db5_LL.pdf\")\n",
    "plt.show()"
   ]
  },
  {
   "cell_type": "code",
   "execution_count": null,
   "metadata": {},
   "outputs": [],
   "source": [
    "decomposition_0_bior35 = pywt.dwt2(frame_0_Y, 'bior3.5')\n",
    "decomposition_1_bior35 = pywt.dwt2(frame_1_Y, 'bior3.5')"
   ]
  },
  {
   "cell_type": "code",
   "execution_count": null,
   "metadata": {},
   "outputs": [],
   "source": [
    "plt.title(\"Coefs in LL (Biorthogonal 3.5)\")\n",
    "plt.plot(decomposition_0_bior35[0][18, 0:20])\n",
    "plt.plot(decomposition_1_bior35[0][18, 0:20], linestyle=':')\n",
    "plt.savefig(\"bior35_LL.svg\")\n",
    "plt.savefig(\"bior35_LL.pdf\")\n",
    "plt.show()"
   ]
  },
  {
   "cell_type": "code",
   "execution_count": null,
   "metadata": {},
   "outputs": [],
   "source": [
    "plt.title(\"Coefs in LH (Haar)\")\n",
    "plt.plot(decomposition_0_haar[1][0][18, 0:20])\n",
    "plt.plot(decomposition_1_haar[1][0][18, 0:20], linestyle=':')\n",
    "plt.savefig(\"haar_LH.svg\")\n",
    "plt.savefig(\"haar_LH.pdf\")\n",
    "plt.show()"
   ]
  },
  {
   "cell_type": "code",
   "execution_count": null,
   "metadata": {},
   "outputs": [],
   "source": [
    "plt.title(\"Coefs in LH (Daubechines 5)\")\n",
    "plt.plot(decomposition_0_db5[1][0][18, 0:20])\n",
    "plt.plot(decomposition_1_db5[1][0][18, 0:20], linestyle=':')\n",
    "plt.savefig(\"db5_LH.svg\")\n",
    "plt.savefig(\"db5_LH.pdf\")\n",
    "plt.show()"
   ]
  },
  {
   "cell_type": "code",
   "execution_count": null,
   "metadata": {},
   "outputs": [],
   "source": [
    "plt.title(\"Coefs in LH (Biorthogonal 3.5)\")\n",
    "plt.plot(decomposition_0_bior35[1][0][18, 0:20])\n",
    "plt.plot(decomposition_1_bior35[1][0][18, 0:20], linestyle=':')\n",
    "plt.savefig(\"bior35_LH.svg\")\n",
    "plt.savefig(\"bior35_LH.pdf\")\n",
    "plt.show()"
   ]
  },
  {
   "cell_type": "code",
   "execution_count": null,
   "metadata": {},
   "outputs": [],
   "source": [
    "plt.title(\"Coefs in HL (Haar)\")\n",
    "plt.plot(decomposition_0_haar[1][1][18, 0:20])\n",
    "plt.plot(decomposition_1_haar[1][1][18, 0:20], linestyle=':')\n",
    "plt.savefig(\"haar_HL.svg\")\n",
    "plt.savefig(\"haar_HL.pdf\")\n",
    "plt.show()"
   ]
  },
  {
   "cell_type": "code",
   "execution_count": null,
   "metadata": {},
   "outputs": [],
   "source": [
    "plt.title(\"Coefs in HL (Daubechines 5)\")\n",
    "plt.plot(decomposition_0_db5[1][1][18, 0:20])\n",
    "plt.plot(decomposition_1_db5[1][1][18, 0:20], linestyle=':')\n",
    "plt.savefig(\"db5_HL.svg\")\n",
    "plt.savefig(\"db5_HL.pdf\")\n",
    "plt.show()"
   ]
  },
  {
   "cell_type": "code",
   "execution_count": null,
   "metadata": {},
   "outputs": [],
   "source": [
    "plt.title(\"Coefs in HL (Biorthogonal 3.5)\")\n",
    "plt.plot(decomposition_0_bior35[1][1][18, 0:20])\n",
    "plt.plot(decomposition_1_bior35[1][1][18, 0:20], linestyle=':')\n",
    "plt.savefig(\"bior35_HL.svg\")\n",
    "plt.savefig(\"bior35_HL.pdf\")\n",
    "plt.show()"
   ]
  },
  {
   "cell_type": "code",
   "execution_count": null,
   "metadata": {},
   "outputs": [],
   "source": [
    "plt.title(\"Coefs in HH (Haar)\")\n",
    "plt.plot(decomposition_0_haar[1][2][18, 0:20])\n",
    "plt.plot(decomposition_1_haar[1][2][18, 0:20], linestyle=':')\n",
    "plt.savefig(\"haar_HH.svg\")\n",
    "plt.savefig(\"haar_HH.pdf\")\n",
    "plt.show()"
   ]
  },
  {
   "cell_type": "code",
   "execution_count": null,
   "metadata": {},
   "outputs": [],
   "source": [
    "plt.title(\"Coefs in HH (Daubechines 5)\")\n",
    "plt.plot(decomposition_0_db5[1][2][18, 0:20])\n",
    "plt.plot(decomposition_1_db5[1][2][18, 0:20], linestyle=':')\n",
    "plt.savefig(\"db5_HH.svg\")\n",
    "plt.savefig(\"db5_HH.pdf\")\n",
    "plt.show()"
   ]
  },
  {
   "cell_type": "code",
   "execution_count": null,
   "metadata": {},
   "outputs": [],
   "source": [
    "plt.title(\"Coefs in HH (Biorthogonal 3.5)\")\n",
    "plt.plot(decomposition_0_bior35[1][2][18, 0:20])\n",
    "plt.plot(decomposition_1_bior35[1][2][18, 0:20], linestyle=':')\n",
    "plt.savefig(\"bior35_HH.svg\")\n",
    "plt.savefig(\"bior35_HH.pdf\")\n",
    "plt.show()"
   ]
  }
 ],
 "metadata": {
  "kernelspec": {
   "display_name": "Python 3",
   "language": "python",
   "name": "python3"
  },
  "language_info": {
   "codemirror_mode": {
    "name": "ipython",
    "version": 3
   },
   "file_extension": ".py",
   "mimetype": "text/x-python",
   "name": "python",
   "nbconvert_exporter": "python",
   "pygments_lexer": "ipython3",
   "version": "3.9.1"
  }
 },
 "nbformat": 4,
 "nbformat_minor": 4
}

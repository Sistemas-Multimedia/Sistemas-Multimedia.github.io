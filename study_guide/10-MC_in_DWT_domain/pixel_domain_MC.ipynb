{
 "cells": [
  {
   "cell_type": "markdown",
   "metadata": {},
   "source": [
    "# Motion Compensation in the image domain"
   ]
  },
  {
   "cell_type": "code",
   "execution_count": null,
   "metadata": {},
   "outputs": [],
   "source": [
    "import numpy as np\n",
    "import cv2\n",
    "import matplotlib.pyplot as plt\n",
    "import matplotlib.image as mimg\n",
    "%matplotlib inline\n",
    "import pywt\n",
    "from io_stuff import *\n",
    "from color import *"
   ]
  },
  {
   "cell_type": "markdown",
   "metadata": {},
   "source": [
    "### Create three images\n",
    "With a circle of diameter 10 that moves from coordinate (30, 20), (30, 21), and (30, 22). (row, column)"
   ]
  },
  {
   "cell_type": "code",
   "execution_count": null,
   "metadata": {
    "scrolled": true
   },
   "outputs": [],
   "source": [
    "%%bash\n",
    "jupyter nbconvert --to notebook --execute create_moving_circles.ipynb"
   ]
  },
  {
   "cell_type": "markdown",
   "metadata": {},
   "source": [
    "### Load the images"
   ]
  },
  {
   "cell_type": "code",
   "execution_count": null,
   "metadata": {
    "scrolled": true
   },
   "outputs": [],
   "source": [
    "prefix = \"moving_circle_\"\n",
    "frame_0 = load_img(prefix + \"000\")\n",
    "frame_1 = load_img(prefix + \"001\")\n",
    "frame_2 = load_img(prefix + \"002\")"
   ]
  },
  {
   "cell_type": "markdown",
   "metadata": {},
   "source": [
    "### Work only with luma"
   ]
  },
  {
   "cell_type": "code",
   "execution_count": null,
   "metadata": {},
   "outputs": [],
   "source": [
    "frame_0_Y = RGB_to_YCoCg(frame_0)[:,:,0]\n",
    "frame_1_Y = RGB_to_YCoCg(frame_1)[:,:,0]\n",
    "frame_2_Y = RGB_to_YCoCg(frame_2)[:,:,0]"
   ]
  },
  {
   "cell_type": "code",
   "execution_count": null,
   "metadata": {
    "scrolled": true
   },
   "outputs": [],
   "source": [
    "plt.figure(figsize=(10,10))\n",
    "plt.title(\"Frame 0. Circle at (30, 20)\", fontsize=20)\n",
    "plt.imshow(frame_0_Y, cmap='gray')\n",
    "plt.savefig(\"frame_0_Y.png\")\n",
    "plt.show()"
   ]
  },
  {
   "cell_type": "code",
   "execution_count": null,
   "metadata": {
    "scrolled": true
   },
   "outputs": [],
   "source": [
    "plt.figure(figsize=(10,10))\n",
    "plt.title(\"Frame 1. Circle at (30, 21)\", fontsize=20)\n",
    "plt.imshow(frame_1_Y, cmap='gray')\n",
    "plt.savefig(\"frame_1_Y.png\")\n",
    "plt.show()"
   ]
  },
  {
   "cell_type": "code",
   "execution_count": null,
   "metadata": {
    "scrolled": true
   },
   "outputs": [],
   "source": [
    "plt.figure(figsize=(10,10))\n",
    "plt.title(\"Frame 2. Circle at (30, 22)\", fontsize=20)\n",
    "plt.imshow(frame_2_Y, cmap='gray')\n",
    "plt.savefig(\"frame_2_Y.png\")\n",
    "plt.show()"
   ]
  },
  {
   "cell_type": "markdown",
   "metadata": {},
   "source": [
    "### Motion estimation (ME) in the pixel domain\n",
    "Notice that this ME would be used if the original frames where available. This is not the case in MRCV!"
   ]
  },
  {
   "cell_type": "code",
   "execution_count": null,
   "metadata": {},
   "outputs": [],
   "source": [
    "# Plot the first part (from pixel 0 to 39) of the horizontal line (row 35) of the luminance.\n",
    "plt.title(\"ME between frames 0 and 1\")\n",
    "plt.plot(frame_0_Y[35, 0:40], label=\"reference\")\n",
    "plt.plot(np.roll(frame_0_Y[35, 0:40], 1), label=\"prediction\")\n",
    "#plt.show()\n",
    "plt.plot(frame_1_Y[35, 0:40], linestyle=':', linewidth=4, label=\"predicted\")\n",
    "plt.legend()\n",
    "plt.savefig(\"movement_0.svg\")\n",
    "#plt.savefig(\"movement_0.pdf\")\n",
    "plt.show()"
   ]
  },
  {
   "cell_type": "code",
   "execution_count": null,
   "metadata": {
    "scrolled": true
   },
   "outputs": [],
   "source": [
    "plt.title(\"ME between frames 0 and 1\")\n",
    "plt.plot(frame_0_Y[35, 0:40], label=\"reference\")\n",
    "plt.plot(np.roll(frame_0_Y[35, 0:40], 2), label=\"prediction\")\n",
    "#plt.show()\n",
    "plt.plot(frame_2_Y[35, 0:40], linestyle=':', linewidth=4, label=\"predicted\")\n",
    "plt.legend()\n",
    "plt.savefig(\"movement_1.svg\")\n",
    "#plt.savefig(\"movement_1.pdf\")\n",
    "plt.show()"
   ]
  }
 ],
 "metadata": {
  "kernelspec": {
   "display_name": "Python 3",
   "language": "python",
   "name": "python3"
  },
  "language_info": {
   "codemirror_mode": {
    "name": "ipython",
    "version": 3
   },
   "file_extension": ".py",
   "mimetype": "text/x-python",
   "name": "python",
   "nbconvert_exporter": "python",
   "pygments_lexer": "ipython3",
   "version": "3.9.1"
  }
 },
 "nbformat": 4,
 "nbformat_minor": 4
}

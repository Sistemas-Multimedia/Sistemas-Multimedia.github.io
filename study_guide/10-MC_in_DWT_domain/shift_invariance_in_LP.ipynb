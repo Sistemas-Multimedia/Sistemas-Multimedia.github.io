{
 "cells": [
  {
   "cell_type": "markdown",
   "metadata": {
    "colab_type": "text",
    "id": "view-in-github"
   },
   "source": [
    "<a href=\"https://colab.research.google.com/github/vicente-gonzalez-ruiz/PRMC-experimentos/blob/master/src/shift_invariance_in_OLP.ipynb\" target=\"_parent\"><img src=\"https://colab.research.google.com/assets/colab-badge.svg\" alt=\"Open In Colab\"/></a>"
   ]
  },
  {
   "cell_type": "markdown",
   "metadata": {},
   "source": [
    "# Shift invariance in LP\n",
    "\n",
    "Is Laplacian Pyramid shift invariant as it is claimed in [Shift-invariance in the Discrete Wavelet\n",
    "Transform](https://eprints.qut.edu.au/114753/1/Bradley_DICTA03.pdf)?"
   ]
  },
  {
   "cell_type": "code",
   "execution_count": null,
   "metadata": {},
   "outputs": [],
   "source": [
    "%matplotlib inline\n",
    "from load_and_display import *\n",
    "#import cv2\n",
    "#import matplotlib.pyplot as plt\n",
    "#import matplotlib.image as mpimg"
   ]
  },
  {
   "cell_type": "code",
   "execution_count": null,
   "metadata": {},
   "outputs": [],
   "source": [
    "%%bash\n",
    "\n",
    "# Create the two images (\"/tmp/moving_circle_000.png\" and \"/tmp/moving_circle_001.png\") with a circle\n",
    "# of diameter 10 that moves from coordinate (20,30) to (21,30).\n",
    "../tools/moving_circle.sh -w 128 -h 128 -x 20 -y 30 -d 10 -f 2"
   ]
  },
  {
   "cell_type": "code",
   "execution_count": null,
   "metadata": {},
   "outputs": [],
   "source": [
    "moving_circle_000 = cv2.imread(\"/tmp/moving_circle_000.png\")"
   ]
  },
  {
   "cell_type": "code",
   "execution_count": null,
   "metadata": {},
   "outputs": [],
   "source": [
    "plt.figure(figsize=(10,10))\n",
    "plt.title(\"/tmp/moving_circle_000.png\", fontsize=20)\n",
    "plt.imshow(moving_circle_000)"
   ]
  },
  {
   "cell_type": "code",
   "execution_count": null,
   "metadata": {},
   "outputs": [],
   "source": [
    "moving_circle_000 = cv2.imread(\"/tmp/moving_circle_001.png\")"
   ]
  },
  {
   "cell_type": "code",
   "execution_count": null,
   "metadata": {},
   "outputs": [],
   "source": [
    "plt.figure(figsize=(10,10))\n",
    "plt.title(\"/tmp/moving_circle_001.png\", fontsize=20)\n",
    "plt.imshow(moving_circle_000)"
   ]
  },
  {
   "cell_type": "code",
   "execution_count": null,
   "metadata": {},
   "outputs": [],
   "source": [
    "%%bash\n",
    "\n",
    "# The images are in the RGB domain and we work in the YUV domain, so we convert them.\n",
    "../tools/RGB2YUV.py -i /tmp/moving_circle_000.png -o /tmp/YUV_moving_circle_000.png\n",
    "../tools/RGB2YUV.py -i /tmp/moving_circle_001.png -o /tmp/YUV_moving_circle_001.png"
   ]
  },
  {
   "cell_type": "code",
   "execution_count": null,
   "metadata": {},
   "outputs": [],
   "source": [
    "# Plot the first part (from pixel 0 to 39) of the horizontal line (row 35) of the luminance.\n",
    "YUV_moving_circle_000 = cv2.imread(\"/tmp/YUV_moving_circle_000.png\")\n",
    "YUV_moving_circle_001 = cv2.imread(\"/tmp/YUV_moving_circle_001.png\")\n",
    "plt.plot(YUV_moving_circle_000[35, 0:40, 0])\n",
    "plt.show()\n",
    "plt.plot(YUV_moving_circle_001[35, 0:40, 0])\n",
    "plt.show()"
   ]
  },
  {
   "cell_type": "code",
   "execution_count": null,
   "metadata": {},
   "outputs": [],
   "source": [
    "# Generate Gaussian pyramid (of 2 levels) for both images\n",
    "# (https://opencv-python-tutroals.readthedocs.io/en/latest/py_tutorials/py_imgproc/py_pyramids/py_pyramids.html)\n",
    "\n",
    "levels = 2\n",
    "\n",
    "G_000 = YUV_moving_circle_000[:,:,0].copy()\n",
    "G_001 = YUV_moving_circle_001[:,:,0].copy()\n",
    "gp_000 = [G_000]\n",
    "gp_001 = [G_001]\n",
    "for i in range(levels):\n",
    "    G_000 = cv2.pyrDown(G_000)\n",
    "    G_001 = cv2.pyrDown(G_001)\n",
    "    gp_000.append(G_000)\n",
    "    gp_001.append(G_001)"
   ]
  },
  {
   "cell_type": "code",
   "execution_count": null,
   "metadata": {},
   "outputs": [],
   "source": [
    "# Generate Laplacian Pyramid for both images.\n",
    "lp_000 = [gp_000[levels-1]]\n",
    "lp_001 = [gp_001[levels-1]]\n",
    "for i in range(levels-1, 0, -1):\n",
    "    GE_000 = cv2.pyrUp(gp_000[i])\n",
    "    GE_001 = cv2.pyrUp(gp_001[i])\n",
    "    L_000 = cv2.subtract(gp_000[i-1], GE_000)\n",
    "    L_001 = cv2.subtract(gp_001[i-1], GE_001)\n",
    "    lp_000.append(L_000)\n",
    "    lp_001.append(L_001)"
   ]
  },
  {
   "cell_type": "markdown",
   "metadata": {},
   "source": [
    "## Is $[L]$ subband shift invariant?\n",
    "A priori, aliasing makes impossible that $[L]$ is shift-invariant."
   ]
  },
  {
   "cell_type": "code",
   "execution_count": null,
   "metadata": {},
   "outputs": [],
   "source": [
    "plt.figure(figsize=(10,10))\n",
    "plt.title(\"/tmp/level 1 (image 000)\", fontsize=20)\n",
    "plt.imshow(cv2.pyrUp(lp_000[0]), cmap=\"gray\")"
   ]
  },
  {
   "cell_type": "code",
   "execution_count": null,
   "metadata": {},
   "outputs": [],
   "source": [
    "plt.figure(figsize=(10,10))\n",
    "plt.title(\"/tmp/level 1 (image 001)\", fontsize=20)\n",
    "plt.imshow(cv2.pyrUp(lp_001[0]), cmap=\"gray\")"
   ]
  },
  {
   "cell_type": "code",
   "execution_count": null,
   "metadata": {},
   "outputs": [],
   "source": [
    "plt.plot(cv2.pyrUp(lp_000[0])[35, 0:40])\n",
    "plt.show()\n",
    "plt.plot(cv2.pyrUp(lp_001[0])[35, 0:40])\n",
    "plt.show()"
   ]
  },
  {
   "cell_type": "markdown",
   "metadata": {},
   "source": [
    "But it is quite close to being."
   ]
  },
  {
   "cell_type": "markdown",
   "metadata": {},
   "source": [
    "## Is $[H]$ subband shift invariant?\n",
    "If $[L]$ is almost shift invariant,\n",
    "$$\n",
    "[H] = I - [L]\n",
    "$$\n",
    "where $I$ is the original image, should also be near shift invariant."
   ]
  },
  {
   "cell_type": "code",
   "execution_count": null,
   "metadata": {},
   "outputs": [],
   "source": [
    "plt.figure(figsize=(10,10))\n",
    "plt.title(\"/tmp/000_H_0\", fontsize=20)\n",
    "plt.imshow(lp_000[1], cmap=\"gray\")"
   ]
  },
  {
   "cell_type": "code",
   "execution_count": null,
   "metadata": {
    "scrolled": false
   },
   "outputs": [],
   "source": [
    "plt.figure(figsize=(10,10))\n",
    "plt.title(\"/tmp/000_H_1\", fontsize=20)\n",
    "plt.imshow(lp_001[1], cmap=\"gray\")"
   ]
  },
  {
   "cell_type": "code",
   "execution_count": null,
   "metadata": {},
   "outputs": [],
   "source": [
    "plt.figure(figsize=(10,10))\n",
    "plt.title(\"diff\", fontsize=20)\n",
    "plt.imshow(lp_001[1]-lp_000[1], cmap=\"gray\")"
   ]
  },
  {
   "cell_type": "code",
   "execution_count": null,
   "metadata": {},
   "outputs": [],
   "source": [
    "plt.plot(lp_000[1][35, 0:40])\n",
    "plt.show()\n",
    "plt.plot(lp_001[1][35, 0:40])\n",
    "plt.show()"
   ]
  },
  {
   "cell_type": "code",
   "execution_count": null,
   "metadata": {},
   "outputs": [],
   "source": [
    "plt.plot(lp_001[1][35, 0:40]-np.roll(lp_000[1][35, 0:40],1)+128)\n",
    "plt.show()"
   ]
  },
  {
   "cell_type": "markdown",
   "metadata": {},
   "source": [
    "The $[H]$ subband is also quite close to being shift invariant."
   ]
  }
 ],
 "metadata": {
  "colab": {
   "include_colab_link": true,
   "name": "ejemplo.ipynb",
   "provenance": []
  },
  "kernelspec": {
   "display_name": "Python 3",
   "language": "python",
   "name": "python3"
  },
  "language_info": {
   "codemirror_mode": {
    "name": "ipython",
    "version": 3
   },
   "file_extension": ".py",
   "mimetype": "text/x-python",
   "name": "python",
   "nbconvert_exporter": "python",
   "pygments_lexer": "ipython3",
   "version": "3.9.1"
  }
 },
 "nbformat": 4,
 "nbformat_minor": 1
}

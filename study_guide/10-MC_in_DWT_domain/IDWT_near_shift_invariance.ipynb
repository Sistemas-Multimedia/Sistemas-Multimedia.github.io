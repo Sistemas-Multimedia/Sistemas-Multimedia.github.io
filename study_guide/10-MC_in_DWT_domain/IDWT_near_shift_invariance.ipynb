{
 "cells": [
  {
   "cell_type": "markdown",
   "metadata": {},
   "source": [
    "# Near shift-invariance in the Interpolated DWT (IDWT) domain"
   ]
  },
  {
   "cell_type": "code",
   "execution_count": null,
   "metadata": {},
   "outputs": [],
   "source": [
    "import numpy as np\n",
    "import cv2\n",
    "import matplotlib.pyplot as plt\n",
    "import matplotlib.image as mimg\n",
    "%matplotlib inline\n",
    "import pywt"
   ]
  },
  {
   "cell_type": "markdown",
   "metadata": {},
   "source": [
    "### Create the three images\n",
    "With a circle of diameter 10 that moves from coordinate (20,30), (21,30), and (22, 30)."
   ]
  },
  {
   "cell_type": "code",
   "execution_count": null,
   "metadata": {},
   "outputs": [],
   "source": [
    "%%bash\n",
    "/home/vruiz/MRVC/tools/moving_circle.sh -w 128 -h 128 -x 20 -y 30 -d 10 -f 3\n",
    "mv /tmp/moving_circle_000.png .\n",
    "mv /tmp/moving_circle_001.png .\n",
    "mv /tmp/moving_circle_002.png ."
   ]
  },
  {
   "cell_type": "markdown",
   "metadata": {},
   "source": [
    "### Displaying stuff"
   ]
  },
  {
   "cell_type": "code",
   "execution_count": null,
   "metadata": {},
   "outputs": [],
   "source": [
    "def normalize(img):\n",
    "    max_component = np.max(img)\n",
    "    min_component = np.min(img)\n",
    "    max_min_component = max_component - min_component\n",
    "    return (img-min_component)/max_min_component\n",
    "\n",
    "def show_img(prefix):\n",
    "    img = load_img(prefix)\n",
    "    img = normalize(img)\n",
    "    plt.figure(figsize=(10,10))\n",
    "    plt.title(prefix, fontsize=20)\n",
    "    plt.imshow(img)\n",
    "    \n",
    "def load_frame(prefix):\n",
    "    fn = f\"{prefix}.png\"\n",
    "    print(fn)\n",
    "    frame = cv2.imread(fn, cv2.IMREAD_UNCHANGED) # [rows, columns, components]\n",
    "    frame = cv2.cvtColor(frame, cv2.COLOR_BGR2RGB)\n",
    "    frame = np.array(frame)\n",
    "    frame = frame.astype(np.float32) - 32768.0\n",
    "    return frame\n",
    "\n",
    "def write_frame(frame, prefix):\n",
    "    frame = frame.astype(np.float32)\n",
    "    frame += 32768.0\n",
    "    frame = frame.astype(np.uint16)\n",
    "    cv2.imwrite(f\"{prefix}.png\", frame)\n",
    "\n",
    "def show_seq(prefix=\"/tmp/\", frames=5):\n",
    "    for i in range(frames):\n",
    "        show_img(f\"{prefix}{i:03d}\")\n",
    "\n",
    "def show_motion(prefix=\"/tmp/\", frames=5):\n",
    "    plt.figure(figsize=(10,10))\n",
    "    prev = load_frame(f\"{prefix}000\")\n",
    "    imgplot = plt.imshow(normalize(prev))\n",
    "    for i in range(1, frames, 1):\n",
    "        img = load_frame(f\"{prefix}{i:03d}\")\n",
    "        diff = img - prev\n",
    "        prev = img\n",
    "        diff = normalize(diff)\n",
    "        plt.figure(figsize=(10,10))\n",
    "        plt.title(f\"{prefix}{i:03d}\", fontsize=20)\n",
    "        plt.imshow(diff)"
   ]
  },
  {
   "cell_type": "markdown",
   "metadata": {},
   "source": [
    "### Show the sequence"
   ]
  },
  {
   "cell_type": "code",
   "execution_count": null,
   "metadata": {
    "scrolled": false
   },
   "outputs": [],
   "source": [
    "prefix = \"moving_circle_\"\n",
    "show_motion(prefix, frames=3)"
   ]
  },
  {
   "cell_type": "markdown",
   "metadata": {},
   "source": [
    "### Color transform stuff"
   ]
  },
  {
   "cell_type": "code",
   "execution_count": null,
   "metadata": {},
   "outputs": [],
   "source": [
    "def RGB_to_YCoCg(RGB_frame):\n",
    "    R, G, B = RGB_frame[:,:,0], RGB_frame[:,:,1], RGB_frame[:,:,2]\n",
    "    YCoCg_frame = np.empty_like(RGB_frame)\n",
    "    YCoCg_frame[:,:,0] =  R/4 + G/2 + B/4 \n",
    "    YCoCg_frame[:,:,1] =  R/2       - B/2\n",
    "    YCoCg_frame[:,:,2] = -R/4 + G/2 - B/4\n",
    "    return YCoCg_frame"
   ]
  },
  {
   "cell_type": "markdown",
   "metadata": {},
   "source": [
    "### Load the images"
   ]
  },
  {
   "cell_type": "code",
   "execution_count": null,
   "metadata": {},
   "outputs": [],
   "source": [
    "frame_0 = load_frame(prefix + \"000\")\n",
    "frame_1 = load_frame(prefix + \"001\")\n",
    "frame_2 = load_frame(prefix + \"002\")\n",
    "write_frame(frame_1-frame_0, \"difference_0\")\n",
    "write_frame(frame_2-frame_0, \"difference_1\")"
   ]
  },
  {
   "cell_type": "markdown",
   "metadata": {},
   "source": [
    "### Work only with luma"
   ]
  },
  {
   "cell_type": "code",
   "execution_count": null,
   "metadata": {},
   "outputs": [],
   "source": [
    "frame_0_Y = RGB_to_YCoCg(frame_0)[:,:,0]\n",
    "frame_1_Y = RGB_to_YCoCg(frame_1)[:,:,0]\n",
    "frame_2_Y = RGB_to_YCoCg(frame_2)[:,:,0]"
   ]
  },
  {
   "cell_type": "code",
   "execution_count": null,
   "metadata": {},
   "outputs": [],
   "source": [
    "plt.figure(figsize=(10,10))\n",
    "plt.title(\"frame_0_Y\", fontsize=20)\n",
    "plt.imshow(frame_0_Y, cmap='gray')\n",
    "plt.show()"
   ]
  },
  {
   "cell_type": "code",
   "execution_count": null,
   "metadata": {},
   "outputs": [],
   "source": [
    "plt.figure(figsize=(10,10))\n",
    "plt.title(\"frame_1_Y\", fontsize=20)\n",
    "plt.imshow(frame_1_Y, cmap='gray')\n",
    "plt.show()"
   ]
  },
  {
   "cell_type": "code",
   "execution_count": null,
   "metadata": {
    "scrolled": false
   },
   "outputs": [],
   "source": [
    "plt.figure(figsize=(10,10))\n",
    "plt.title(\"frame_2_Y\", fontsize=20)\n",
    "plt.imshow(frame_2_Y, cmap='gray')\n",
    "plt.show()"
   ]
  },
  {
   "cell_type": "markdown",
   "metadata": {},
   "source": [
    "### Motion estimation (ME) in the pixel domain\n",
    "Notice that this ME would be used if the original frames where available. This is not the case in MRCV!"
   ]
  },
  {
   "cell_type": "code",
   "execution_count": null,
   "metadata": {
    "scrolled": false
   },
   "outputs": [],
   "source": [
    "# Plot the first part (from pixel 0 to 39) of the horizontal line (row 35) of the luminance.\n",
    "plt.title(\"ME between frames 0 and 1\")\n",
    "plt.plot(frame_0_Y[35, 0:40], label=\"reference\")\n",
    "plt.plot(np.roll(frame_0_Y[35, 0:40], 1), label=\"prediction\")\n",
    "#plt.show()\n",
    "plt.plot(frame_1_Y[35, 0:40], linestyle=':', linewidth=4, label=\"predicted\")\n",
    "plt.legend()\n",
    "plt.savefig(\"movement_0.svg\")\n",
    "plt.savefig(\"movement_0.pdf\")\n",
    "plt.show()"
   ]
  },
  {
   "cell_type": "code",
   "execution_count": null,
   "metadata": {},
   "outputs": [],
   "source": [
    "plt.title(\"ME between frames 0 and 1\")\n",
    "plt.plot(frame_0_Y[35, 0:40], label=\"reference\")\n",
    "plt.plot(np.roll(frame_0_Y[35, 0:40], 2), label=\"prediction\")\n",
    "#plt.show()\n",
    "plt.plot(frame_2_Y[35, 0:40], linestyle=':', linewidth=4, label=\"predicted\")\n",
    "plt.legend()\n",
    "plt.savefig(\"movement_1.svg\")\n",
    "plt.savefig(\"movement_1.pdf\")\n",
    "plt.show()"
   ]
  },
  {
   "cell_type": "markdown",
   "metadata": {},
   "source": [
    "### 2D-DWT of the frames"
   ]
  },
  {
   "cell_type": "code",
   "execution_count": null,
   "metadata": {},
   "outputs": [],
   "source": [
    "LL_0_haar, (LH_0_haar, HL_0_haar, HH_0_haar) = pywt.dwt2(frame_0_Y, 'haar')\n",
    "LL_1_haar, (LH_1_haar, HL_1_haar, HH_1_haar) = pywt.dwt2(frame_1_Y, 'haar')\n",
    "LL_2_haar, (LH_2_haar, HL_2_haar, HH_2_haar) = pywt.dwt2(frame_2_Y, 'haar')"
   ]
  },
  {
   "cell_type": "markdown",
   "metadata": {},
   "source": [
    "### Interpolation of the L subbands: the [L] subbands"
   ]
  },
  {
   "cell_type": "code",
   "execution_count": null,
   "metadata": {},
   "outputs": [],
   "source": [
    "iL_0_haar = pywt.idwt2([LL_0_haar, (None, None, None)], 'haar')\n",
    "iL_1_haar = pywt.idwt2([LL_1_haar, (None, None, None)], 'haar')\n",
    "iL_2_haar = pywt.idwt2([LL_2_haar, (None, None, None)], 'haar')"
   ]
  },
  {
   "cell_type": "code",
   "execution_count": null,
   "metadata": {
    "scrolled": false
   },
   "outputs": [],
   "source": [
    "plt.figure(figsize=(10,10))\n",
    "plt.title(\"[L]_0_haar\", fontsize=20)\n",
    "plt.imshow(iL_0_haar, cmap='gray')\n",
    "plt.show()"
   ]
  },
  {
   "cell_type": "code",
   "execution_count": null,
   "metadata": {
    "scrolled": false
   },
   "outputs": [],
   "source": [
    "plt.figure(figsize=(10,10))\n",
    "plt.title(\"[L]_1_haar\", fontsize=20)\n",
    "plt.imshow(iL_1_haar, cmap='gray')\n",
    "plt.show()"
   ]
  },
  {
   "cell_type": "code",
   "execution_count": null,
   "metadata": {},
   "outputs": [],
   "source": [
    "plt.figure(figsize=(10,10))\n",
    "plt.title(\"[L]_2_haar\", fontsize=20)\n",
    "plt.imshow(iL_2_haar, cmap='gray')\n",
    "plt.show()"
   ]
  },
  {
   "cell_type": "markdown",
   "metadata": {},
   "source": [
    "Notice that the subbands [L] of the frames 0 and 2 have the same coefficients, but this is not true for the frame 1."
   ]
  },
  {
   "cell_type": "code",
   "execution_count": null,
   "metadata": {
    "scrolled": true
   },
   "outputs": [],
   "source": [
    "plt.title(\"Coefs in [L] (Haar). Distance 1\")\n",
    "#plt.plot(iL_0_haar[35, 0:40], label=\"reference\")\n",
    "plt.plot(np.roll(iL_0_haar[35, 0:40], 1), label=\"predicted\")\n",
    "plt.plot(iL_1_haar[35, 0:40], linestyle=':', linewidth=4, label=\"prediction\")\n",
    "plt.legend()\n",
    "plt.savefig(\"haar_iL_0.svg\")\n",
    "plt.savefig(\"haar_iL_0.pdf\")\n",
    "plt.show()"
   ]
  },
  {
   "cell_type": "code",
   "execution_count": null,
   "metadata": {},
   "outputs": [],
   "source": [
    "plt.title(\"Coefs in [L] (Haar). Distance 2\")\n",
    "#plt.plot(iL_0_haar[35, 0:40], label=\"reference\")\n",
    "plt.plot(np.roll(iL_0_haar[35, 0:40], 2), label=\"predicted\")\n",
    "plt.plot(iL_1_haar[35, 0:40], linestyle=':', linewidth=4, label=\"prediction\")\n",
    "plt.legend()\n",
    "plt.savefig(\"haar_iL_1.svg\")\n",
    "plt.savefig(\"haar_iL_1.pdf\")\n",
    "plt.show()"
   ]
  },
  {
   "cell_type": "markdown",
   "metadata": {},
   "source": [
    "The predicted subband and the prediction subband does not need to be identical to estimate a motion field. For example, a block-based motion estimator should determine here the right displacement between the predicted structure and the reference one."
   ]
  },
  {
   "cell_type": "markdown",
   "metadata": {},
   "source": [
    "### Interpolation of the H subbands: the [H] subbands"
   ]
  },
  {
   "cell_type": "code",
   "execution_count": null,
   "metadata": {},
   "outputs": [],
   "source": [
    "iH_0_haar = pywt.idwt2([None,(LH_0_haar, HL_0_haar, HH_0_haar)], 'haar')\n",
    "iH_1_haar = pywt.idwt2([None,(LH_1_haar, HL_1_haar, HH_1_haar)], 'haar')\n",
    "iH_2_haar = pywt.idwt2([None,(LH_2_haar, HL_2_haar, HH_2_haar)], 'haar')"
   ]
  },
  {
   "cell_type": "code",
   "execution_count": null,
   "metadata": {
    "scrolled": true
   },
   "outputs": [],
   "source": [
    "plt.figure(figsize=(10,10))\n",
    "plt.title(\"[H]_0_haar\", fontsize=20)\n",
    "plt.imshow(iH_0_haar, cmap='gray')\n",
    "plt.show()"
   ]
  },
  {
   "cell_type": "code",
   "execution_count": null,
   "metadata": {
    "scrolled": true
   },
   "outputs": [],
   "source": [
    "plt.figure(figsize=(10,10))\n",
    "plt.title(\"[H]_1_haar\", fontsize=20)\n",
    "plt.imshow(iH_1_haar, cmap='gray')\n",
    "plt.show()"
   ]
  },
  {
   "cell_type": "code",
   "execution_count": null,
   "metadata": {},
   "outputs": [],
   "source": [
    "plt.figure(figsize=(10,10))\n",
    "plt.title(\"[H]_2_haar\", fontsize=20)\n",
    "plt.imshow(iH_2_haar, cmap='gray')\n",
    "plt.show()"
   ]
  },
  {
   "cell_type": "code",
   "execution_count": null,
   "metadata": {
    "scrolled": true
   },
   "outputs": [],
   "source": [
    "plt.title(\"Coefs in [H] (Haar). Distance 1\")\n",
    "plt.plot(np.roll(iH_0_haar[35, 0:40], 1), label=\"predicted\")\n",
    "plt.plot(iH_1_haar[35, 0:40], linestyle=':', linewidth=4, label=\"prediction\")\n",
    "plt.legend()\n",
    "plt.savefig(\"haar_iH_0.svg\")\n",
    "plt.savefig(\"haar_iH_0.pdf\")\n",
    "plt.show()"
   ]
  },
  {
   "cell_type": "code",
   "execution_count": null,
   "metadata": {},
   "outputs": [],
   "source": [
    "plt.title(\"Coefs in [H] (Haar). Distance 2\")\n",
    "plt.plot(np.roll(iH_0_haar[35, 0:40], 2), label=\"predicted\")\n",
    "plt.plot(iH_2_haar[35, 0:40], linestyle=':', linewidth=4, label=\"prediction\")\n",
    "plt.legend()\n",
    "plt.savefig(\"haar_iH_0.svg\")\n",
    "plt.savefig(\"haar_iH_0.pdf\")\n",
    "plt.show()"
   ]
  },
  {
   "cell_type": "code",
   "execution_count": null,
   "metadata": {},
   "outputs": [],
   "source": [
    "LL_0_db5, (LH_0_db5, HL_0_db5, HH_0_db5) = pywt.dwt2(frame_0_Y, 'db5')\n",
    "iL_0_db5 = pywt.idwt2([LL_0_db5, (None, None, None)], 'db5')\n",
    "LL_1_db5, (LH_1_db5, HL_1_db5, HH_1_db5) = pywt.dwt2(frame_1_Y, 'db5')\n",
    "iL_1_db5 = pywt.idwt2([LL_1_db5, (None, None, None)], 'db5')"
   ]
  },
  {
   "cell_type": "code",
   "execution_count": null,
   "metadata": {
    "scrolled": true
   },
   "outputs": [],
   "source": [
    "plt.figure(figsize=(10,10))\n",
    "plt.title(\"iL_0_db5\", fontsize=20)\n",
    "plt.imshow(iL_0_db5, cmap='gray')\n",
    "plt.show()"
   ]
  },
  {
   "cell_type": "code",
   "execution_count": null,
   "metadata": {},
   "outputs": [],
   "source": [
    "plt.figure(figsize=(10,10))\n",
    "plt.title(\"iL_1_db5\", fontsize=20)\n",
    "plt.imshow(iL_1_db5, cmap='gray')\n",
    "plt.show()"
   ]
  },
  {
   "cell_type": "code",
   "execution_count": null,
   "metadata": {},
   "outputs": [],
   "source": [
    "plt.title(\"Coefs in [L] (Daubechies 5)\")\n",
    "plt.plot(np.roll(iL_0_db5[35, 0:40],1), label=\"predicted\")\n",
    "plt.plot(iL_1_db5[35, 0:40], linestyle=':', linewidth=4, label=\"prediction\")\n",
    "plt.legend()\n",
    "plt.savefig(\"db5_iL.svg\")\n",
    "plt.savefig(\"db5_iL.pdf\")\n",
    "plt.show()"
   ]
  },
  {
   "cell_type": "code",
   "execution_count": null,
   "metadata": {},
   "outputs": [],
   "source": [
    "LL_0_bior35, (LH_0_bior35, HL_0_bior35, HH_0_bior35) = pywt.dwt2(frame_0_Y, 'bior3.5')\n",
    "iL_0_bior35 = pywt.idwt2([LL_0_bior35, (None, None, None)], 'bior3.5')\n",
    "LL_1_bior35, (LH_1_bior35, HL_1_bior35, HH_1_bior35) = pywt.dwt2(frame_1_Y, 'bior3.5')\n",
    "iL_1_bior35 = pywt.idwt2([LL_1_bior35, (None, None, None)], 'bior3.5')"
   ]
  },
  {
   "cell_type": "code",
   "execution_count": null,
   "metadata": {},
   "outputs": [],
   "source": [
    "plt.figure(figsize=(10,10))\n",
    "plt.title(\"iL_0_bior35\", fontsize=20)\n",
    "plt.imshow(iL_0_bior35, cmap='gray')\n",
    "plt.show()"
   ]
  },
  {
   "cell_type": "code",
   "execution_count": null,
   "metadata": {},
   "outputs": [],
   "source": [
    "plt.figure(figsize=(10,10))\n",
    "plt.title(\"iL_1_bior35\", fontsize=20)\n",
    "plt.imshow(iL_1_bior35, cmap='gray')\n",
    "plt.show()"
   ]
  },
  {
   "cell_type": "code",
   "execution_count": null,
   "metadata": {},
   "outputs": [],
   "source": [
    "plt.title(\"Coefs in [L] (Biorthogonal 3.5)\")\n",
    "plt.plot(np.roll(iL_0_bior35[35, 0:40], 1), label=\"predicted\")\n",
    "plt.plot(iL_1_bior35[35, 0:40], linestyle=':', linewidth=4, label=\"prediction\")\n",
    "plt.legend()\n",
    "plt.savefig(\"bior35_iL.svg\")\n",
    "plt.savefig(\"bior35_iL.pdf\")\n",
    "plt.show()"
   ]
  },
  {
   "cell_type": "code",
   "execution_count": null,
   "metadata": {},
   "outputs": [],
   "source": [
    "iH_0_db5 = pywt.idwt2([None,(LH_0_db5, HL_0_db5, HH_0_db5)], 'db5')\n",
    "iH_1_db5 = pywt.idwt2([None,(LH_1_db5, HL_1_db5, HH_1_db5)], 'db5')"
   ]
  },
  {
   "cell_type": "code",
   "execution_count": null,
   "metadata": {
    "scrolled": true
   },
   "outputs": [],
   "source": [
    "plt.figure(figsize=(10,10))\n",
    "plt.title(\"iH_0_db5\", fontsize=20)\n",
    "plt.imshow(iH_0_db5, cmap='gray')\n",
    "plt.show()"
   ]
  },
  {
   "cell_type": "code",
   "execution_count": null,
   "metadata": {},
   "outputs": [],
   "source": [
    "plt.figure(figsize=(10,10))\n",
    "plt.title(\"iH_1_db5\", fontsize=20)\n",
    "plt.imshow(iH_1_db5, cmap='gray')\n",
    "plt.show()"
   ]
  },
  {
   "cell_type": "code",
   "execution_count": null,
   "metadata": {
    "scrolled": true
   },
   "outputs": [],
   "source": [
    "plt.title(\"Coefs in [H] (db5)\")\n",
    "plt.plot(np.roll(iH_0_db5[35, 0:40], 1), label=\"predicted\")\n",
    "plt.plot(iH_1_db5[35, 0:40], linestyle=':', linewidth=4, label=\"prediction\")\n",
    "plt.legend()\n",
    "plt.savefig(\"db5_iH.svg\")\n",
    "plt.savefig(\"db5_iH.pdf\")\n",
    "plt.show()"
   ]
  },
  {
   "cell_type": "code",
   "execution_count": null,
   "metadata": {},
   "outputs": [],
   "source": [
    "iH_0_bior35 = pywt.idwt2([None,(LH_0_bior35, HL_0_bior35, HH_0_bior35)], 'bior3.5')\n",
    "iH_1_bior35 = pywt.idwt2([None,(LH_1_bior35, HL_1_bior35, HH_1_bior35)], 'bior3.5')"
   ]
  },
  {
   "cell_type": "code",
   "execution_count": null,
   "metadata": {
    "scrolled": true
   },
   "outputs": [],
   "source": [
    "plt.figure(figsize=(10,10))\n",
    "plt.title(\"iH_0_bior35\", fontsize=20)\n",
    "plt.imshow(iH_0_bior35, cmap='gray')\n",
    "plt.show()"
   ]
  },
  {
   "cell_type": "code",
   "execution_count": null,
   "metadata": {},
   "outputs": [],
   "source": [
    "plt.figure(figsize=(10,10))\n",
    "plt.title(\"iH_1_bior35\", fontsize=20)\n",
    "plt.imshow(iH_1_bior35, cmap='gray')\n",
    "plt.show()"
   ]
  },
  {
   "cell_type": "code",
   "execution_count": null,
   "metadata": {},
   "outputs": [],
   "source": [
    "plt.title(\"Coefs in [H] (bior35)\")\n",
    "plt.plot(np.roll(iH_0_bior35[35, 0:40], 1), label=\"predicted\")\n",
    "plt.plot(iH_1_bior35[35, 0:40], linestyle=':', linewidth=4, label=\"prediction\")\n",
    "plt.plot(np.roll(iH_1_bior35[35, 0:40][::-1], 3), linestyle=':', linewidth=3, label=\"prediction b\")\n",
    "plt.legend()\n",
    "plt.savefig(\"bior35_iH.svg\")\n",
    "plt.savefig(\"bior35_iH.pdf\")\n",
    "plt.show()"
   ]
  },
  {
   "cell_type": "code",
   "execution_count": null,
   "metadata": {},
   "outputs": [],
   "source": [
    "iiH_0_bior35 = pywt.idwt2([iH_0_bior35, (None, None, None)], 'bior3.5')\n",
    "iiH_1_bior35 = pywt.idwt2([iH_1_bior35, (None, None, None)], 'bior3.5')"
   ]
  },
  {
   "cell_type": "code",
   "execution_count": null,
   "metadata": {},
   "outputs": [],
   "source": [
    "plt.title(\"Coefs in [H] (bior35)\")\n",
    "plt.plot(np.roll(iiH_0_bior35[70, 0:80], 3), label=\"predicted\")\n",
    "plt.plot(iiH_1_bior35[70, 0:80], linestyle=':', linewidth=4, label=\"prediction\")\n",
    "plt.legend()\n",
    "plt.savefig(\"bior35_iiH.svg\")\n",
    "plt.savefig(\"bior35_iiH.pdf\")\n",
    "plt.show()"
   ]
  },
  {
   "cell_type": "code",
   "execution_count": null,
   "metadata": {
    "scrolled": true
   },
   "outputs": [],
   "source": [
    "%%bash\n",
    "\n",
    "# Create the two images (\"/tmp/moving_circle_000.png\" and \"/tmp/moving_circle_001.png\") with a circle\n",
    "# of diameter 10 that moves from coordinate (20,30) to (21,30).\n",
    "/home/vruiz/MRVC/tools/moving_circle.sh -w 128 -h 128 -x 20 -y 30 -d 10 -f 3\n",
    "mv /tmp/moving_circle_000.png .\n",
    "mv /tmp/moving_circle_002.png ."
   ]
  },
  {
   "cell_type": "code",
   "execution_count": null,
   "metadata": {},
   "outputs": [],
   "source": [
    "frame_2 = load_frame(prefix + \"002\")\n",
    "frame_2_Y = RGB_to_YCoCg(frame_2)[:,:,0]"
   ]
  },
  {
   "cell_type": "code",
   "execution_count": null,
   "metadata": {},
   "outputs": [],
   "source": [
    "LL_2_bior35, (LH_2_bior35, HL_2_bior35, HH_2_bior35) = pywt.dwt2(frame_2_Y, 'bior3.5')\n",
    "iL_2_bior35 = pywt.idwt2([LL_2_bior35, (None, None, None)], 'bior3.5')\n",
    "iH_2_bior35 = pywt.idwt2([None,(LH_2_bior35, HL_2_bior35, HH_2_bior35)], 'bior3.5')"
   ]
  },
  {
   "cell_type": "code",
   "execution_count": null,
   "metadata": {
    "scrolled": true
   },
   "outputs": [],
   "source": [
    "plt.title(\"Coefs in [L] (Biorthogonal 3.5)\")\n",
    "plt.plot(np.roll(iL_0_bior35[35, 0:40], 2), label=\"predicted\")\n",
    "plt.plot(iL_2_bior35[35, 0:40], linestyle=':', linewidth=4, label=\"prediction\")\n",
    "plt.legend()\n",
    "#plt.savefig(\"bior35_iL.svg\")\n",
    "#plt.savefig(\"bior35_iL.pdf\")\n",
    "plt.show()"
   ]
  },
  {
   "cell_type": "code",
   "execution_count": null,
   "metadata": {},
   "outputs": [],
   "source": [
    "plt.title(\"Coefs in [H] (bior35)\")\n",
    "plt.plot(np.roll(iH_0_bior35[35, 0:40], 2), label=\"predicted\")\n",
    "plt.plot(iH_2_bior35[35, 0:40], linestyle=':', linewidth=4, label=\"prediction\")\n",
    "plt.legend()\n",
    "plt.savefig(\"bior35_iH.svg\")\n",
    "plt.savefig(\"bior35_iH.pdf\")\n",
    "plt.show()"
   ]
  },
  {
   "cell_type": "code",
   "execution_count": null,
   "metadata": {},
   "outputs": [],
   "source": []
  },
  {
   "cell_type": "code",
   "execution_count": null,
   "metadata": {},
   "outputs": [],
   "source": []
  }
 ],
 "metadata": {
  "kernelspec": {
   "display_name": "Python 3",
   "language": "python",
   "name": "python3"
  },
  "language_info": {
   "codemirror_mode": {
    "name": "ipython",
    "version": 3
   },
   "file_extension": ".py",
   "mimetype": "text/x-python",
   "name": "python",
   "nbconvert_exporter": "python",
   "pygments_lexer": "ipython3",
   "version": "3.9.1"
  }
 },
 "nbformat": 4,
 "nbformat_minor": 4
}

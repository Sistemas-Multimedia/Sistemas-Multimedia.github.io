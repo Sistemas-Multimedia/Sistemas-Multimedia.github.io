{
 "cells": [
  {
   "cell_type": "markdown",
   "metadata": {},
   "source": [
    "# Performance of color transforms"
   ]
  },
  {
   "cell_type": "code",
   "execution_count": null,
   "metadata": {},
   "outputs": [],
   "source": [
    "%matplotlib inline\n",
    "\n",
    "import matplotlib\n",
    "import matplotlib.pyplot as plt\n",
    "import matplotlib.axes as ax\n",
    "plt.rcParams['text.usetex'] = True\n",
    "#plt.rcParams['text.latex.preamble'] = [r'\\usepackage{amsmath}'] #for \\text command\n",
    "\n",
    "import pylab\n",
    "import math\n",
    "import numpy as np\n",
    "from scipy import signal\n",
    "import cv2\n",
    "import os"
   ]
  },
  {
   "cell_type": "code",
   "execution_count": null,
   "metadata": {},
   "outputs": [],
   "source": [
    "def quantizer(x, quantization_step):\n",
    "    k = (x / quantization_step).astype(np.int16)\n",
    "    return k\n",
    "\n",
    "def dequantizer(k, quantization_step):\n",
    "    y = quantization_step * k\n",
    "    return y\n",
    "\n",
    "def q_deq(x, quantization_step):\n",
    "    k = quantizer(x, quantization_step)\n",
    "    y = dequantizer(k, quantization_step)\n",
    "    return k, y\n",
    "\n",
    "# In this case, we will quantize the YCbCr coefficients,\n",
    "# that again, are positive numbers. Therefore, the dead-zone does\n",
    "# not have any effect."
   ]
  },
  {
   "cell_type": "code",
   "execution_count": null,
   "metadata": {},
   "outputs": [],
   "source": [
    "def load_frame(prefix):\n",
    "    fn = f\"{prefix}.png\"\n",
    "    frame = cv2.imread(fn, cv2.IMREAD_UNCHANGED) # [rows, cols, comp]\n",
    "    frame = cv2.cvtColor(frame, cv2.COLOR_BGR2RGB)\n",
    "    frame = np.array(frame)\n",
    "    frame = frame.astype(np.float32) - 32768.0\n",
    "    frame = frame.astype(np.int16)\n",
    "    return frame\n",
    "\n",
    "def write_frame(frame, prefix):\n",
    "    frame = frame.astype(np.float32)\n",
    "    frame += 32768.0\n",
    "    frame = frame.astype(np.uint16)\n",
    "    cv2.imwrite(f\"{prefix}.png\", frame)"
   ]
  },
  {
   "cell_type": "code",
   "execution_count": null,
   "metadata": {},
   "outputs": [],
   "source": [
    "def load_indexes(prefix):\n",
    "    load_frame(prefix)\n",
    "    \n",
    "def write_indexes(prefix):\n",
    "    write_frame(prefix)"
   ]
  },
  {
   "cell_type": "code",
   "execution_count": null,
   "metadata": {},
   "outputs": [],
   "source": [
    "fn = \"/home/vruiz/MRVC/sequences/stockholm/000\"\n",
    "frame = load_frame(fn)\n",
    "print(frame.max(), frame.min())"
   ]
  },
  {
   "cell_type": "code",
   "execution_count": null,
   "metadata": {},
   "outputs": [],
   "source": [
    "def normalize(img):\n",
    "    max_component = np.max(img)\n",
    "    min_component = np.min(img)\n",
    "    max_min_component = max_component - min_component\n",
    "    return (img-min_component)/max_min_component\n",
    "\n",
    "def show_frame(frame, prefix):\n",
    "    frame = normalize(frame)\n",
    "    plt.figure(figsize=(10,10))\n",
    "    plt.title(prefix, fontsize=20)\n",
    "    plt.imshow(frame)"
   ]
  },
  {
   "cell_type": "code",
   "execution_count": null,
   "metadata": {},
   "outputs": [],
   "source": [
    "show_frame(frame, fn)"
   ]
  },
  {
   "cell_type": "code",
   "execution_count": null,
   "metadata": {},
   "outputs": [],
   "source": [
    "def show_gray_frame(frame, prefix):\n",
    "    frame = normalize(frame)\n",
    "    plt.figure(figsize=(10,10))\n",
    "    plt.title(prefix, fontsize=20)\n",
    "    plt.imshow(frame, cmap='gray')"
   ]
  },
  {
   "cell_type": "code",
   "execution_count": null,
   "metadata": {},
   "outputs": [],
   "source": [
    "show_gray_frame(frame[:,:,0], fn + \"(R component)\")"
   ]
  },
  {
   "cell_type": "code",
   "execution_count": null,
   "metadata": {},
   "outputs": [],
   "source": [
    "show_gray_frame(frame[:,:,1], fn + \"(G component)\")"
   ]
  },
  {
   "cell_type": "code",
   "execution_count": null,
   "metadata": {},
   "outputs": [],
   "source": [
    "show_gray_frame(frame[:,:,2], fn + \"(B component)\")"
   ]
  },
  {
   "cell_type": "code",
   "execution_count": null,
   "metadata": {},
   "outputs": [],
   "source": [
    "def RGB_to_YCbCr(RGB_frame):\n",
    "    # Remember that cv2.cvtColor only works with unsigneds!\n",
    "    YCbCr_frame = cv2.cvtColor(RGB_frame, cv2.COLOR_RGB2YCR_CB)\n",
    "    # Notice also that the Cb and the Cr components are interchanged.\n",
    "    return YCbCr_frame\n",
    "\n",
    "def YCbCr_to_RGB(YCbCr_frame):\n",
    "    RGB_frame = cv2.cvtColor(YCbCr_frame, cv2.COLOR_YCR_CB2RGB)\n",
    "    return RGB_frame\n",
    "\n",
    "def RGB_to_YCoCg(RGB_frame):\n",
    "    R, G, B = RGB_frame[:,:,0], RGB_frame[:,:,1], RGB_frame[:,:,2]\n",
    "    YCoCg_frame = np.empty_like(RGB_frame)\n",
    "    YCoCg_frame[:,:,0] = R/4 + G/2 + B/4 \n",
    "    YCoCg_frame[:,:,1] = R/2 - B/2\n",
    "    YCoCg_frame[:,:,2] = -R/4 + G/2 - B/4\n",
    "    return YCoCg_frame\n",
    "\n",
    "def YCoCg_to_RGB(YCoCg_frame):\n",
    "    Y, Co, Cg = YCoCg_frame[:,:,0], YCoCg_frame[:,:,1], YCoCg_frame[:,:,2]\n",
    "    RGB_frame = np.empty_like(YCoCg_frame)\n",
    "    RGB_frame[:,:,0] = Y + Co - Cg \n",
    "    RGB_frame[:,:,1] = Y - Cg\n",
    "    RGB_frame[:,:,2] = Y - Co - Cg\n",
    "    return RGB_frame"
   ]
  },
  {
   "cell_type": "code",
   "execution_count": null,
   "metadata": {},
   "outputs": [],
   "source": [
    "ycc = RGB_to_YCbCr(frame.astype(np.uint8))\n",
    "frame2 = YCbCr_to_RGB(ycc)\n",
    "assert frame.all() == frame2.all()\n",
    "print(frame.max(), frame.min())\n",
    "print(ycc.max(), ycc.min())"
   ]
  },
  {
   "cell_type": "code",
   "execution_count": null,
   "metadata": {},
   "outputs": [],
   "source": [
    "show_gray_frame(ycc[:,:,0], fn + \"(Y component)\")"
   ]
  },
  {
   "cell_type": "code",
   "execution_count": null,
   "metadata": {},
   "outputs": [],
   "source": [
    "show_gray_frame(ycc[:,:,1], fn + \"(Cb component)\")"
   ]
  },
  {
   "cell_type": "code",
   "execution_count": null,
   "metadata": {},
   "outputs": [],
   "source": [
    "show_gray_frame(ycc[:,:,2], fn + \"(Cr component)\")"
   ]
  },
  {
   "cell_type": "code",
   "execution_count": null,
   "metadata": {},
   "outputs": [],
   "source": [
    "ycc = RGB_to_YCoCg(frame)\n",
    "frame2 = YCoCg_to_RGB(ycc)\n",
    "assert frame.all() == frame2.all()\n",
    "print(frame.max(), frame.min())\n",
    "print(ycc.max(), ycc.min(), np.average(ycc))"
   ]
  },
  {
   "cell_type": "code",
   "execution_count": null,
   "metadata": {},
   "outputs": [],
   "source": [
    "show_gray_frame(ycc[:,:,0], fn + \"(Y component)\")"
   ]
  },
  {
   "cell_type": "code",
   "execution_count": null,
   "metadata": {},
   "outputs": [],
   "source": [
    "show_gray_frame(ycc[:,:,1], fn + \"(Co component)\")"
   ]
  },
  {
   "cell_type": "code",
   "execution_count": null,
   "metadata": {},
   "outputs": [],
   "source": [
    "show_gray_frame(ycc[:,:,2], fn + \"(Cg component)\")"
   ]
  },
  {
   "cell_type": "code",
   "execution_count": null,
   "metadata": {},
   "outputs": [],
   "source": [
    "def byte_rate(frame):\n",
    "    write_frame(frame, \"/tmp/frame\")\n",
    "    length_in_bytes = os.path.getsize(\"/tmp/frame.png\")\n",
    "    return length_in_bytes"
   ]
  },
  {
   "cell_type": "code",
   "execution_count": null,
   "metadata": {},
   "outputs": [],
   "source": [
    "def average_energy(x):\n",
    "    return np.sum(x.astype(np.double)*x.astype(np.double))/len(x)\n",
    "\n",
    "def RMSE(x, y):\n",
    "    error_signal = x - y\n",
    "    return math.sqrt(average_energy(error_signal))"
   ]
  },
  {
   "cell_type": "code",
   "execution_count": null,
   "metadata": {},
   "outputs": [],
   "source": [
    "def only_Q_RD_curve(x):\n",
    "    points = []\n",
    "    for q_step in range(0, 8):\n",
    "        print(q_step, end=' ')\n",
    "        k, y = q_deq(x, 1<<q_step)\n",
    "        rate = byte_rate(k)\n",
    "        distortion = RMSE(x, y)\n",
    "        points.append((rate, distortion))\n",
    "    return points\n",
    "\n",
    "RGB_points = only_Q_RD_curve(frame)"
   ]
  },
  {
   "cell_type": "code",
   "execution_count": null,
   "metadata": {},
   "outputs": [],
   "source": [
    "def YCbCr_RD_curve(RGB_frame):\n",
    "    RD_points = []\n",
    "    for q_step in range(0, 8):\n",
    "        print(q_step, end=' ')\n",
    "        YCbCr_frame = RGB_to_YCbCr(RGB_frame.astype(np.uint8))\n",
    "        k, dequantized_YCbCr_frame = q_deq(YCbCr_frame, 1<<q_step)\n",
    "        rate = byte_rate(k)\n",
    "        dequantized_YCbCr_frame = dequantized_YCbCr_frame.astype(np.uint8)\n",
    "        dequantized_RGB_frame = YCbCr_to_RGB(dequantized_YCbCr_frame)\n",
    "        distortion = RMSE(RGB_frame, dequantized_RGB_frame)\n",
    "        RD_points.append((rate, distortion))\n",
    "    return RD_points\n",
    "\n",
    "YCbCr_points = YCbCr_RD_curve(frame)"
   ]
  },
  {
   "cell_type": "code",
   "execution_count": null,
   "metadata": {},
   "outputs": [],
   "source": [
    "def YCoCg_RD_curve(RGB_frame):\n",
    "    RD_points = []\n",
    "    for q_step in range(0, 8):\n",
    "        print(q_step, end=' ')\n",
    "        YCoCg_frame = RGB_to_YCoCg(RGB_frame)\n",
    "        k, dequantized_YCoCg_frame = q_deq(YCoCg_frame, 1<<q_step)\n",
    "        rate = byte_rate(k)\n",
    "        dequantized_RGB_frame = YCoCg_to_RGB(dequantized_YCoCg_frame)\n",
    "        distortion = RMSE(RGB_frame, dequantized_RGB_frame)\n",
    "        RD_points.append((rate, distortion))\n",
    "    return RD_points\n",
    "\n",
    "YCoCg_points = YCoCg_RD_curve(frame)"
   ]
  },
  {
   "cell_type": "code",
   "execution_count": null,
   "metadata": {},
   "outputs": [],
   "source": [
    "pylab.figure(dpi=150)\n",
    "pylab.plot(*zip(*RGB_points), c='b', marker=\"o\", label='$\\Delta_{\\mathrm{R}}=\\Delta_{\\mathrm{G}}=\\Delta_{\\mathrm{B}}$')\n",
    "pylab.plot(*zip(*YCbCr_points), c='r', marker=\"o\", label='$\\Delta_{\\mathrm{Y}}=\\Delta_{\\mathrm{Cb}}=\\Delta_{\\mathrm{Cr}}$')\n",
    "pylab.plot(*zip(*YCoCg_points), c='g', marker=\"o\", label='$\\Delta_{\\mathrm{Y}}=\\Delta_{\\mathrm{Co}}=\\Delta_{\\mathrm{Cg}}$')\n",
    "pylab.title(\"RD Performance\")\n",
    "pylab.xlabel(\"Bytes/Frame\")\n",
    "pylab.ylabel(\"RMSE\")\n",
    "plt.legend(loc='upper right')\n",
    "pylab.show()"
   ]
  },
  {
   "cell_type": "code",
   "execution_count": null,
   "metadata": {},
   "outputs": [],
   "source": [
    "N = 4\n",
    "def _YCbCr_RD_curve(RGB_frame):\n",
    "    RD_points = []\n",
    "    for q_step in range(0, 8):\n",
    "        print(q_step, end=' ')\n",
    "        YCbCr_frame = RGB_to_YCbCr(RGB_frame.astype(np.uint8))\n",
    "        dequantized_YCbCr_frame = np.empty_like(YCbCr_frame)\n",
    "        k = np.empty_like(YCbCr_frame)\n",
    "        k[:,:,0], dequantized_YCbCr_frame[:,:,0] = q_deq(YCbCr_frame[:,:,0], 1<<q_step)\n",
    "        k[:,:,1], dequantized_YCbCr_frame[:,:,1] = q_deq(YCbCr_frame[:,:,1], 1<<N)\n",
    "        k[:,:,2], dequantized_YCbCr_frame[:,:,2] = q_deq(YCbCr_frame[:,:,2], 1<<N)\n",
    "        rate = byte_rate(k)\n",
    "        dequantized_YCbCr_frame = dequantized_YCbCr_frame.astype(np.uint8)\n",
    "        dequantized_RGB_frame = YCbCr_to_RGB(dequantized_YCbCr_frame)\n",
    "        distortion = RMSE(RGB_frame, dequantized_RGB_frame)\n",
    "        RD_points.append((rate, distortion))\n",
    "    return RD_points\n",
    "\n",
    "_YCbCr_points = _YCbCr_RD_curve(frame)"
   ]
  },
  {
   "cell_type": "code",
   "execution_count": null,
   "metadata": {},
   "outputs": [],
   "source": [
    "1<<4"
   ]
  },
  {
   "cell_type": "code",
   "execution_count": null,
   "metadata": {},
   "outputs": [],
   "source": [
    "pylab.figure(dpi=150)\n",
    "pylab.plot(*zip(*YCbCr_points), c='r', marker=\"o\", label='$\\Delta_{\\mathrm{Y}}=\\Delta_{\\mathrm{Cb}}=\\Delta_{\\mathrm{Cr}}$')\n",
    "pylab.plot(*zip(*_YCbCr_points), c='b', marker=\"o\",\n",
    "           label='$\\Delta_{\\mathrm{Y}}~\\mathrm{varies},~\\Delta_{\\mathrm{Cb}}=\\Delta_{\\mathrm{Cr}}=$' + '{}'.format(1<<N))\n",
    "pylab.title(\"RD Performance\")\n",
    "pylab.xlabel(\"Bytes/Frame\")\n",
    "pylab.ylabel(\"RMSE\")\n",
    "plt.legend(loc='upper right')\n",
    "pylab.show()"
   ]
  },
  {
   "cell_type": "code",
   "execution_count": null,
   "metadata": {},
   "outputs": [],
   "source": [
    "N=4\n",
    "def only_Y_RD_curve(RGB_frame):\n",
    "    RD_points = []\n",
    "    for q_step in range(0, 8):\n",
    "        print(q_step, end=' ')\n",
    "        YCbCr_frame = RGB_to_YCbCr(RGB_frame.astype(np.uint8))\n",
    "        dequantized_YCbCr_frame = np.empty_like(YCbCr_frame)\n",
    "        k = np.empty_like(YCbCr_frame)\n",
    "        k[:,:,0], dequantized_YCbCr_frame[:,:,0] = q_deq(YCbCr_frame[:,:,0], 1<<q_step)\n",
    "        k[:,:,1], dequantized_YCbCr_frame[:,:,1] = q_deq(YCbCr_frame[:,:,1], 1<<N)\n",
    "        k[:,:,2], dequantized_YCbCr_frame[:,:,2] = q_deq(YCbCr_frame[:,:,2], 1<<N)\n",
    "        rate = byte_rate(k)\n",
    "        dequantized_YCbCr_frame = dequantized_YCbCr_frame.astype(np.uint8)\n",
    "        dequantized_RGB_frame = YCbCr_to_RGB(dequantized_YCbCr_frame)\n",
    "        distortion = RMSE(RGB_frame, dequantized_RGB_frame)\n",
    "        RD_points.append((rate, distortion))\n",
    "    return RD_points\n",
    "\n",
    "def only_Cb_RD_curve(RGB_frame):\n",
    "    RD_points = []\n",
    "    for q_step in range(0, 8):\n",
    "        print(q_step, end=' ')\n",
    "        YCbCr_frame = RGB_to_YCbCr(RGB_frame.astype(np.uint8))\n",
    "        dequantized_YCbCr_frame = np.empty_like(YCbCr_frame)\n",
    "        k = np.empty_like(YCbCr_frame)\n",
    "        k[:,:,0], dequantized_YCbCr_frame[:,:,0] = q_deq(YCbCr_frame[:,:,0], 1<<N)\n",
    "        k[:,:,1], dequantized_YCbCr_frame[:,:,1] = q_deq(YCbCr_frame[:,:,1], 1<<q_step)\n",
    "        k[:,:,2], dequantized_YCbCr_frame[:,:,2] = q_deq(YCbCr_frame[:,:,2], 1<<N)\n",
    "        rate = byte_rate(k)\n",
    "        dequantized_YCbCr_frame = dequantized_YCbCr_frame.astype(np.uint8)\n",
    "        dequantized_RGB_frame = YCbCr_to_RGB(dequantized_YCbCr_frame)\n",
    "        distortion = RMSE(RGB_frame, dequantized_RGB_frame)\n",
    "        RD_points.append((rate, distortion))\n",
    "    return RD_points\n",
    "\n",
    "def only_Cr_RD_curve(RGB_frame):\n",
    "    RD_points = []\n",
    "    for q_step in range(0, 8):\n",
    "        print(q_step, end=' ')\n",
    "        YCbCr_frame = RGB_to_YCbCr(RGB_frame.astype(np.uint8))\n",
    "        dequantized_YCbCr_frame = np.empty_like(YCbCr_frame)\n",
    "        k = np.empty_like(YCbCr_frame)\n",
    "        k[:,:,0], dequantized_YCbCr_frame[:,:,0] = q_deq(YCbCr_frame[:,:,0], 1<<N)\n",
    "        k[:,:,1], dequantized_YCbCr_frame[:,:,1] = q_deq(YCbCr_frame[:,:,1], 1<<N)\n",
    "        k[:,:,2], dequantized_YCbCr_frame[:,:,2] = q_deq(YCbCr_frame[:,:,2], 1<<q_step)\n",
    "        rate = byte_rate(k)\n",
    "        dequantized_YCbCr_frame = dequantized_YCbCr_frame.astype(np.uint8)\n",
    "        dequantized_RGB_frame = YCbCr_to_RGB(dequantized_YCbCr_frame)\n",
    "        distortion = RMSE(RGB_frame, dequantized_RGB_frame)\n",
    "        RD_points.append((rate, distortion))\n",
    "    return RD_points\n",
    "\n",
    "only_Y_points = only_Y_RD_curve(frame)\n",
    "only_Cb_points = only_Cb_RD_curve(frame)\n",
    "only_Cr_points = only_Cr_RD_curve(frame)"
   ]
  },
  {
   "cell_type": "code",
   "execution_count": null,
   "metadata": {},
   "outputs": [],
   "source": [
    "pylab.figure(dpi=150)\n",
    "pylab.plot(*zip(*only_Y_points), c='r', marker=\"o\",\n",
    "           label='\"Only\" Y ($\\Delta_{\\mathrm{Y}}~\\mathrm{varies},~\\Delta_{\\mathrm{Cb}}=\\Delta_{\\mathrm{Cr}}=$' + '{})'.format(1<<N))              \n",
    "pylab.plot(*zip(*only_Cb_points), c='g', marker=\"o\",\n",
    "           label='\"Only\" Cb ($\\Delta_{\\mathrm{Cb}}~\\mathrm{varies},~\\Delta_{\\mathrm{Y}}=\\Delta_{\\mathrm{Cr}}=$' + '{})'.format(1<<N))              \n",
    "pylab.plot(*zip(*only_Cr_points), c='b', marker=\"o\",\n",
    "           label='\"Only\" Cr ($\\Delta_{\\mathrm{Cr}}~\\mathrm{varies},~\\Delta_{\\mathrm{Y}}=\\Delta_{\\mathrm{Cb}}=$' + '{})'.format(1<<N))              \n",
    "pylab.title(\"RD Performance\")\n",
    "pylab.xlabel(\"Bytes/Frame\")\n",
    "pylab.ylabel(\"RMSE\")\n",
    "plt.legend(loc='upper right')\n",
    "pylab.show()"
   ]
  },
  {
   "cell_type": "markdown",
   "metadata": {},
   "source": [
    "Notice that it does not make sense to use $\\Delta_{\\mathrm{Y}}\\ge 8$ (the reconstructed image will be almost (remember that the YCbCr space is not orthogonal to the RGB one, and therefore some luma information remains in the croma channels) black even if $\\Delta_{\\mathrm{Cb}}=\\Delta_{\\mathrm{Cb}}=1$)."
   ]
  },
  {
   "cell_type": "code",
   "execution_count": null,
   "metadata": {},
   "outputs": [],
   "source": [
    "ycc = RGB_to_YCbCr(frame.astype(np.uint8))\n",
    "ycc[:,:,0] = 0\n",
    "frame2 = YCbCr_to_RGB(ycc)\n",
    "print(frame2.min(), frame2.max())\n",
    "show_frame(frame2, \"$\\Delta_{\\mathrm{Y}} \\ge 8$\" + \" (YCbCr domain)\")"
   ]
  },
  {
   "cell_type": "code",
   "execution_count": null,
   "metadata": {},
   "outputs": [],
   "source": [
    "ycc = RGB_to_YCoCg(frame)\n",
    "ycc[:,:,0]= 0\n",
    "frame2 = YCoCg_to_RGB(ycc)\n",
    "print(frame2.min(), frame2.max())\n",
    "show_frame(frame2, \"$\\Delta_{\\mathrm{Y}} \\ge 8$\" + \" (YCoCg domain)\")"
   ]
  },
  {
   "cell_type": "markdown",
   "metadata": {},
   "source": [
    "## Ignore the rest ..."
   ]
  },
  {
   "cell_type": "code",
   "execution_count": null,
   "metadata": {},
   "outputs": [],
   "source": [
    "def YCbCr_RD_curve_only_Y(RGB_frame):\n",
    "    RD_points = []\n",
    "    for q_step in range(0, 8):\n",
    "        print(q_step, end=' ')\n",
    "        YCbCr_frame = RGB_to_YCbCr(RGB_frame.astype(np.uint8))\n",
    "        YCbCr_frame[:,:,1] = 0\n",
    "        YCbCr_frame[:,:,2] = 0\n",
    "        k, dequantized_YCbCr_frame = q_deq(YCbCr_frame, 1<<q_step)\n",
    "        k[:,:,0] = 0\n",
    "        rate = byte_rate(k)\n",
    "        dequantized_YCbCr_frame = dequantized_YCbCr_frame.astype(np.uint8)\n",
    "        dequantized_RGB_frame = YCbCr_to_RGB(dequantized_YCbCr_frame)\n",
    "        distortion = RMSE(RGB_frame, dequantized_RGB_frame)\n",
    "        RD_points.append((rate, distortion))\n",
    "    return RD_points\n",
    "\n",
    "def YCbCr_RD_curve_only_Cb(RGB_frame):\n",
    "    RD_points = []\n",
    "    for q_step in range(0, 8):\n",
    "        print(q_step, end=' ')\n",
    "        YCbCr_frame = RGB_to_YCbCr(RGB_frame.astype(np.uint8))\n",
    "        YCbCr_frame[:,:,0] = 0\n",
    "        YCbCr_frame[:,:,2] = 0\n",
    "        k, dequantized_YCbCr_frame = q_deq(YCbCr_frame, 1<<q_step)\n",
    "        rate = byte_rate(k)\n",
    "        dequantized_YCbCr_frame = dequantized_YCbCr_frame.astype(np.uint8)\n",
    "        dequantized_RGB_frame = YCbCr_to_RGB(dequantized_YCbCr_frame)\n",
    "        distortion = RMSE(RGB_frame, dequantized_RGB_frame)\n",
    "        RD_points.append((rate, distortion))\n",
    "    return RD_points\n",
    "\n",
    "def YCbCr_RD_curve_only_Cr(RGB_frame):\n",
    "    RD_points = []\n",
    "    for q_step in range(0, 8):\n",
    "        print(q_step, end=' ')\n",
    "        YCbCr_frame = RGB_to_YCbCr(RGB_frame.astype(np.uint8))\n",
    "        YCbCr_frame[:,:,0] = 0\n",
    "        YCbCr_frame[:,:,1] = 0\n",
    "        k, dequantized_YCbCr_frame = q_deq(YCbCr_frame, 1<<q_step)\n",
    "        rate = byte_rate(k)\n",
    "        dequantized_YCbCr_frame = dequantized_YCbCr_frame.astype(np.uint8)\n",
    "        dequantized_RGB_frame = YCbCr_to_RGB(dequantized_YCbCr_frame)\n",
    "        distortion = RMSE(RGB_frame, dequantized_RGB_frame)\n",
    "        RD_points.append((rate, distortion))\n",
    "    return RD_points\n",
    "\n",
    "only_Y_curve = YCbCr_RD_curve_only_Y(frame)\n",
    "only_Cb_curve = YCbCr_RD_curve_only_Cb(frame)\n",
    "only_Cr_curve = YCbCr_RD_curve_only_Cr(frame)"
   ]
  },
  {
   "cell_type": "code",
   "execution_count": null,
   "metadata": {},
   "outputs": [],
   "source": [
    "pylab.figure(dpi=150)\n",
    "pylab.scatter(*zip(*only_Y_curve), s=2, c='r', marker=\"o\", label='only Y')\n",
    "pylab.plot(*zip(*only_Y_curve), c='r', marker=\"o\")\n",
    "pylab.scatter(*zip(*only_Cb_curve), s=2, c='g', marker=\"o\", label='only Cb')\n",
    "pylab.plot(*zip(*only_Cb_curve), c='g', marker=\"o\")\n",
    "pylab.scatter(*zip(*only_Cr_curve), s=2, c='b', marker=\"o\", label='only Cr')\n",
    "pylab.plot(*zip(*only_Cr_curve), c='b', marker=\"o\")\n",
    "pylab.title(\"R/D Performance\")\n",
    "pylab.xlabel(\"Bytes/Frame\")\n",
    "pylab.ylabel(\"RMSE\")\n",
    "plt.legend(loc='upper right')\n",
    "pylab.show()"
   ]
  },
  {
   "cell_type": "code",
   "execution_count": null,
   "metadata": {},
   "outputs": [],
   "source": []
  },
  {
   "cell_type": "code",
   "execution_count": null,
   "metadata": {},
   "outputs": [],
   "source": [
    "def YCbCr_RD_curve_2(RGB_frame):\n",
    "    RD_points = []\n",
    "    for q_step in range(0, 8):\n",
    "        print(q_step, end=' ')\n",
    "        YCbCr_frame = RGB_to_YCbCr(RGB_frame.astype(np.uint16))\n",
    "        YCbCr_frame[:,:,1] //= 2\n",
    "        YCbCr_frame[:,:,2] //= 2\n",
    "        k, dequantized_YCbCr_frame = q_deq(YCbCr_frame, 1<<q_step)\n",
    "        dequantized_YCbCr_frame[:,:,1] *= 2\n",
    "        dequantized_YCbCr_frame[:,:,2] *= 2\n",
    "        rate = byte_rate(k)\n",
    "        dequantized_YCbCr_frame = dequantized_YCbCr_frame.astype(np.uint16)\n",
    "        dequantized_RGB_frame = YCbCr_to_RGB(dequantized_YCbCr_frame)\n",
    "        distortion = RMSE(RGB_frame, dequantized_RGB_frame)\n",
    "        RD_points.append((rate, distortion))\n",
    "    return RD_points\n",
    "\n",
    "YCbCr_quantization_2 = YCbCr_RD_curve_2(frame)"
   ]
  },
  {
   "cell_type": "code",
   "execution_count": null,
   "metadata": {},
   "outputs": [],
   "source": [
    "pylab.figure(dpi=150)\n",
    "pylab.scatter(*zip(*RGB_quantization), s=2, c='b', marker=\"o\", label='RGB quantization')\n",
    "pylab.plot(*zip(*RGB_quantization), c='b', marker=\"o\")\n",
    "pylab.scatter(*zip(*YCbCr_quantization), s=2, c='r', marker=\"o\", label='YCbCr quantization')\n",
    "pylab.plot(*zip(*YCbCr_quantization), c='r', marker=\"o\")\n",
    "pylab.scatter(*zip(*YCbCr_quantization_2), s=2, c='g', marker=\"o\", label='YCbCr quantization 2')\n",
    "pylab.plot(*zip(*YCbCr_quantization_2), c='g', marker=\"o\")\n",
    "pylab.title(\"R/D Only Quantization\")\n",
    "pylab.xlabel(\"Bytes/Frame\")\n",
    "pylab.ylabel(\"RMSE\")\n",
    "plt.legend(loc='upper right')\n",
    "pylab.show()"
   ]
  },
  {
   "cell_type": "code",
   "execution_count": null,
   "metadata": {},
   "outputs": [],
   "source": [
    "YCbCr_test_frame = np.array([255, 0, 0], dtype=np.int16).reshape((1,1,1))\n",
    "print(YCbCr_to_RGB(YCbCr_test_frame))"
   ]
  },
  {
   "cell_type": "code",
   "execution_count": null,
   "metadata": {},
   "outputs": [],
   "source": [
    "np.array([255, 0, 0], dtype=np.int16)"
   ]
  },
  {
   "cell_type": "code",
   "execution_count": null,
   "metadata": {},
   "outputs": [],
   "source": [
    "YCbCr_test_frame = np.zeros_like(frame).astype(np.uint16)"
   ]
  },
  {
   "cell_type": "code",
   "execution_count": null,
   "metadata": {},
   "outputs": [],
   "source": [
    "type(YCbCr_test_frame[0,0,0])"
   ]
  },
  {
   "cell_type": "code",
   "execution_count": null,
   "metadata": {},
   "outputs": [],
   "source": [
    "YCbCr_test_frame[1,1,2] = 255"
   ]
  },
  {
   "cell_type": "code",
   "execution_count": null,
   "metadata": {},
   "outputs": [],
   "source": [
    "RGB_test_frame = YCbCr_to_RGB(YCbCr_test_frame)"
   ]
  },
  {
   "cell_type": "code",
   "execution_count": null,
   "metadata": {},
   "outputs": [],
   "source": [
    "print(average_energy(RGB_test_frame))"
   ]
  },
  {
   "cell_type": "code",
   "execution_count": null,
   "metadata": {},
   "outputs": [],
   "source": [
    "show_frame(RGB_test_frame, \"\")"
   ]
  },
  {
   "cell_type": "code",
   "execution_count": null,
   "metadata": {},
   "outputs": [],
   "source": []
  }
 ],
 "metadata": {
  "kernelspec": {
   "display_name": "Python 3",
   "language": "python",
   "name": "python3"
  },
  "language_info": {
   "codemirror_mode": {
    "name": "ipython",
    "version": 3
   },
   "file_extension": ".py",
   "mimetype": "text/x-python",
   "name": "python",
   "nbconvert_exporter": "python",
   "pygments_lexer": "ipython3",
   "version": "3.9.1"
  }
 },
 "nbformat": 4,
 "nbformat_minor": 4
}

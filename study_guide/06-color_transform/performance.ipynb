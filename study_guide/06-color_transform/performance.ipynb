{
 "cells": [
  {
   "cell_type": "markdown",
   "metadata": {},
   "source": [
    "# Performance of the YCC transform"
   ]
  },
  {
   "cell_type": "code",
   "execution_count": null,
   "metadata": {},
   "outputs": [],
   "source": [
    "%matplotlib inline\n",
    "\n",
    "import matplotlib\n",
    "import matplotlib.pyplot as plt\n",
    "import matplotlib.axes as ax\n",
    "import pylab\n",
    "import math\n",
    "import numpy as np\n",
    "from scipy import signal\n",
    "import cv2\n",
    "import os"
   ]
  },
  {
   "cell_type": "code",
   "execution_count": null,
   "metadata": {},
   "outputs": [],
   "source": [
    "def quantizer(x, quantization_step):\n",
    "    k = (x / quantization_step).astype(np.int16)\n",
    "    return k\n",
    "\n",
    "def dequantizer(k, quantization_step):\n",
    "    y = quantization_step * k\n",
    "    return y\n",
    "\n",
    "def q_deq(x, quantization_step):\n",
    "    k = quantizer(x, quantization_step)\n",
    "    y = dequantizer(k, quantization_step)\n",
    "    return k, y"
   ]
  },
  {
   "cell_type": "code",
   "execution_count": null,
   "metadata": {},
   "outputs": [],
   "source": [
    "def load_frame(prefix):\n",
    "    fn = f\"{prefix}.png\"\n",
    "    frame = cv2.imread(fn, cv2.IMREAD_UNCHANGED) # [rows, cols, comp]\n",
    "    frame = cv2.cvtColor(frame, cv2.COLOR_BGR2RGB)\n",
    "    frame = np.array(frame)\n",
    "    frame = frame.astype(np.float32) - (32768.0 - 128)\n",
    "    frame = frame.astype(np.int16)\n",
    "    return frame\n",
    "\n",
    "def write_frame(frame, prefix):\n",
    "    frame = frame.astype(np.float32)\n",
    "    frame += (32768.0 + 128)\n",
    "    frame = frame.astype(np.uint16)\n",
    "    cv2.imwrite(f\"{prefix}.png\", frame)"
   ]
  },
  {
   "cell_type": "code",
   "execution_count": null,
   "metadata": {},
   "outputs": [],
   "source": [
    "def load_indexes(prefix):\n",
    "    load_frame(prefix)\n",
    "    \n",
    "def write_indexes(prefix):\n",
    "    write_frame(prefix)"
   ]
  },
  {
   "cell_type": "code",
   "execution_count": null,
   "metadata": {},
   "outputs": [],
   "source": [
    "fn = \"/home/vruiz/MRVC/sequences/stockholm/000\"\n",
    "frame = load_frame(fn)"
   ]
  },
  {
   "cell_type": "code",
   "execution_count": null,
   "metadata": {},
   "outputs": [],
   "source": [
    "def normalize(img):\n",
    "    max_component = np.max(img)\n",
    "    min_component = np.min(img)\n",
    "    max_min_component = max_component - min_component\n",
    "    return (img-min_component)/max_min_component\n",
    "\n",
    "def show_frame(frame, prefix):\n",
    "    frame = normalize(frame)\n",
    "    plt.figure(figsize=(10,10))\n",
    "    plt.title(prefix, fontsize=20)\n",
    "    plt.imshow(frame)"
   ]
  },
  {
   "cell_type": "code",
   "execution_count": null,
   "metadata": {},
   "outputs": [],
   "source": [
    "show_frame(frame, fn)\n",
    "type(frame[0,0,0])"
   ]
  },
  {
   "cell_type": "code",
   "execution_count": null,
   "metadata": {},
   "outputs": [],
   "source": [
    "def average_energy(x):\n",
    "    return np.sum(x.astype(np.double)*x.astype(np.double))/len(x)\n",
    "\n",
    "def RMSE(x, y):\n",
    "    error_signal = x - y\n",
    "    return math.sqrt(average_energy(error_signal))"
   ]
  },
  {
   "cell_type": "code",
   "execution_count": null,
   "metadata": {},
   "outputs": [],
   "source": [
    "def byte_rate(frame):\n",
    "    write_frame(frame, \"/tmp/frame\")\n",
    "    length_in_bytes = os.path.getsize(\"/tmp/frame.png\")\n",
    "    return length_in_bytes"
   ]
  },
  {
   "cell_type": "code",
   "execution_count": null,
   "metadata": {},
   "outputs": [],
   "source": [
    "def RGB_to_YCbCr(frame_RGB):\n",
    "    frame_YCbCr = cv2.cvtColor(frame_RGB, cv2.COLOR_RGB2YCR_CB)\n",
    "    return frame_YCbCr\n",
    "\n",
    "def YCbCr_to_RGB(frame_YCbCr):\n",
    "    frame_RGB = cv2.cvtColor(frame_YCbCr, cv2.COLOR_YCR_CB2RGB)\n",
    "    return frame_RGB\n",
    "\n",
    "ycc = RGB_to_YCbCr(frame.astype(np.uint16))\n",
    "frame2 = YCbCr_to_RGB(ycc)\n",
    "assert frame.all() == frame2.all()\n",
    "type(frame[0,0,0])"
   ]
  },
  {
   "cell_type": "code",
   "execution_count": null,
   "metadata": {},
   "outputs": [],
   "source": [
    "def only_Q_RD_curve(x):\n",
    "    points = []\n",
    "    for q_step in range(0, 8):\n",
    "        print(q_step, end=' ')\n",
    "        k, y = q_deq(x, 1<<q_step)\n",
    "        rate = byte_rate(k)\n",
    "        distortion = RMSE(x, y)\n",
    "        points.append((rate, distortion))\n",
    "    return points\n",
    "\n",
    "RGB_quantization = only_Q_RD_curve(frame)"
   ]
  },
  {
   "cell_type": "code",
   "execution_count": null,
   "metadata": {},
   "outputs": [],
   "source": [
    "def YCbCr_RD_curve(RGB_frame):\n",
    "    RD_points = []\n",
    "    for q_step in range(0, 8):\n",
    "        print(q_step, end=' ')\n",
    "        YCbCr_frame = RGB_to_YCbCr(RGB_frame.astype(np.uint16))\n",
    "        k, dequantized_YCbCr_frame = q_deq(YCbCr_frame, 1<<q_step)\n",
    "        rate = byte_rate(k)\n",
    "        dequantized_YCbCr_frame = dequantized_YCbCr_frame.astype(np.uint16)\n",
    "        dequantized_RGB_frame = YCbCr_to_RGB(dequantized_YCbCr_frame)\n",
    "        distortion = RMSE(RGB_frame, dequantized_RGB_frame)\n",
    "        RD_points.append((rate, distortion))\n",
    "    return RD_points\n",
    "\n",
    "YCbCr_quantization = YCbCr_RD_curve(frame)"
   ]
  },
  {
   "cell_type": "code",
   "execution_count": null,
   "metadata": {},
   "outputs": [],
   "source": [
    "pylab.figure(dpi=150)\n",
    "pylab.scatter(*zip(*RGB_quantization), s=2, c='b', marker=\"o\", label='RGB quantization')\n",
    "pylab.plot(*zip(*RGB_quantization), c='b', marker=\"o\")\n",
    "pylab.scatter(*zip(*YCbCr_quantization), s=2, c='r', marker=\"o\", label='YCbCr quantization')\n",
    "pylab.plot(*zip(*YCbCr_quantization), c='r', marker=\"o\")\n",
    "pylab.title(\"R/D Performance\")\n",
    "pylab.xlabel(\"Bytes/Frame\")\n",
    "pylab.ylabel(\"RMSE\")\n",
    "plt.legend(loc='upper right')\n",
    "pylab.show()"
   ]
  },
  {
   "cell_type": "code",
   "execution_count": null,
   "metadata": {},
   "outputs": [],
   "source": [
    "fn = \"/home/vruiz/MRVC/sequences/stockholm/001\"\n",
    "frame = load_frame(fn)"
   ]
  },
  {
   "cell_type": "code",
   "execution_count": null,
   "metadata": {},
   "outputs": [],
   "source": [
    "RGB_quantization = only_Q_RD_curve(frame)\n",
    "YCbCr_quantization = YCbCr_RD_curve(frame)"
   ]
  },
  {
   "cell_type": "code",
   "execution_count": null,
   "metadata": {},
   "outputs": [],
   "source": [
    "pylab.figure(dpi=150)\n",
    "pylab.scatter(*zip(*RGB_quantization), s=2, c='b', marker=\"o\", label='RGB quantization')\n",
    "pylab.plot(*zip(*RGB_quantization), c='b', marker=\"o\")\n",
    "pylab.scatter(*zip(*YCbCr_quantization), s=2, c='r', marker=\"o\", label='YCbCr quantization')\n",
    "pylab.plot(*zip(*YCbCr_quantization), c='r', marker=\"o\")\n",
    "pylab.title(\"R/D Performance\")\n",
    "pylab.xlabel(\"Bytes/Frame\")\n",
    "pylab.ylabel(\"RMSE\")\n",
    "plt.legend(loc='upper right')\n",
    "pylab.show()"
   ]
  },
  {
   "cell_type": "code",
   "execution_count": null,
   "metadata": {},
   "outputs": [],
   "source": [
    "def YCbCr_RD_curve_2(RGB_frame):\n",
    "    RD_points = []\n",
    "    for q_step in range(0, 8):\n",
    "        print(q_step, end=' ')\n",
    "        YCbCr_frame = RGB_to_YCbCr(RGB_frame.astype(np.uint16))\n",
    "        YCbCr_frame[:,:,1] //= 2\n",
    "        YCbCr_frame[:,:,2] //= 2\n",
    "        k, dequantized_YCbCr_frame = q_deq(YCbCr_frame, 1<<q_step)\n",
    "        dequantized_YCbCr_frame[:,:,1] *= 2\n",
    "        dequantized_YCbCr_frame[:,:,2] *= 2\n",
    "        rate = byte_rate(k)\n",
    "        dequantized_YCbCr_frame = dequantized_YCbCr_frame.astype(np.uint16)\n",
    "        dequantized_RGB_frame = YCbCr_to_RGB(dequantized_YCbCr_frame)\n",
    "        distortion = RMSE(RGB_frame, dequantized_RGB_frame)\n",
    "        RD_points.append((rate, distortion))\n",
    "    return RD_points\n",
    "\n",
    "YCbCr_quantization_2 = YCbCr_RD_curve_2(frame)"
   ]
  },
  {
   "cell_type": "code",
   "execution_count": null,
   "metadata": {},
   "outputs": [],
   "source": [
    "pylab.figure(dpi=150)\n",
    "pylab.scatter(*zip(*RGB_quantization), s=2, c='b', marker=\"o\", label='RGB quantization')\n",
    "pylab.plot(*zip(*RGB_quantization), c='b', marker=\"o\")\n",
    "pylab.scatter(*zip(*YCbCr_quantization), s=2, c='r', marker=\"o\", label='YCbCr quantization')\n",
    "pylab.plot(*zip(*YCbCr_quantization), c='r', marker=\"o\")\n",
    "pylab.scatter(*zip(*YCbCr_quantization_2), s=2, c='g', marker=\"o\", label='YCbCr quantization 2')\n",
    "pylab.plot(*zip(*YCbCr_quantization_2), c='g', marker=\"o\")\n",
    "pylab.title(\"R/D Only Quantization\")\n",
    "pylab.xlabel(\"Bytes/Frame\")\n",
    "pylab.ylabel(\"RMSE\")\n",
    "plt.legend(loc='upper right')\n",
    "pylab.show()"
   ]
  },
  {
   "cell_type": "code",
   "execution_count": null,
   "metadata": {},
   "outputs": [],
   "source": [
    "YCbCr_test_frame = np.array([255, 0, 0], dtype=np.int16).reshape((1,1,1))\n",
    "print(YCbCr_to_RGB(YCbCr_test_frame))"
   ]
  },
  {
   "cell_type": "code",
   "execution_count": null,
   "metadata": {},
   "outputs": [],
   "source": [
    "np.array([255, 0, 0], dtype=np.int16)"
   ]
  },
  {
   "cell_type": "code",
   "execution_count": null,
   "metadata": {},
   "outputs": [],
   "source": [
    "YCbCr_test_frame = np.zeros_like(frame).astype(np.uint16)"
   ]
  },
  {
   "cell_type": "code",
   "execution_count": null,
   "metadata": {},
   "outputs": [],
   "source": [
    "type(YCbCr_test_frame[0,0,0])"
   ]
  },
  {
   "cell_type": "code",
   "execution_count": null,
   "metadata": {},
   "outputs": [],
   "source": [
    "YCbCr_test_frame[1,1,2] = 255"
   ]
  },
  {
   "cell_type": "code",
   "execution_count": null,
   "metadata": {},
   "outputs": [],
   "source": [
    "RGB_test_frame = YCbCr_to_RGB(YCbCr_test_frame)"
   ]
  },
  {
   "cell_type": "code",
   "execution_count": null,
   "metadata": {},
   "outputs": [],
   "source": [
    "print(average_energy(RGB_test_frame))"
   ]
  },
  {
   "cell_type": "code",
   "execution_count": null,
   "metadata": {},
   "outputs": [],
   "source": [
    "show_frame(RGB_test_frame, \"\")"
   ]
  },
  {
   "cell_type": "code",
   "execution_count": null,
   "metadata": {},
   "outputs": [],
   "source": []
  }
 ],
 "metadata": {
  "kernelspec": {
   "display_name": "Python 3",
   "language": "python",
   "name": "python3"
  },
  "language_info": {
   "codemirror_mode": {
    "name": "ipython",
    "version": 3
   },
   "file_extension": ".py",
   "mimetype": "text/x-python",
   "name": "python",
   "nbconvert_exporter": "python",
   "pygments_lexer": "ipython3",
   "version": "3.9.1"
  }
 },
 "nbformat": 4,
 "nbformat_minor": 4
}

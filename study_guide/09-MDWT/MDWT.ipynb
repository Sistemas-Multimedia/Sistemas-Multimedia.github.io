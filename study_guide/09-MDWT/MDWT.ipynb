{
 "cells": [
  {
   "cell_type": "markdown",
   "metadata": {
    "colab_type": "text",
    "id": "view-in-github"
   },
   "source": [
    "<a href=\"https://colab.research.google.com/github/vicente-gonzalez-ruiz/MCDWT-experimentos/blob/master/src/MDWT_1_5.ipynb\" target=\"_parent\"><img src=\"https://colab.research.google.com/assets/colab-badge.svg\" alt=\"Open In Colab\"/></a>"
   ]
  },
  {
   "cell_type": "markdown",
   "metadata": {},
   "source": [
    "# Motion Discrete Wavelet Transform (MDWT)\n",
    "Compute the RD slope of "
   ]
  },
  {
   "cell_type": "code",
   "execution_count": null,
   "metadata": {
    "colab": {},
    "colab_type": "code",
    "id": "WYKPO7SrU8Pa",
    "outputId": "70f4523c-4fb5-4a1f-85bc-59df85e4214e"
   },
   "outputs": [],
   "source": [
    "%matplotlib inline\n",
    "from load_and_display import *\n",
    "\n",
    "# The results depends on the wavelet (see http://wavelets.pybytes.com):\n",
    "#wavelet = \"haar\"\n",
    "wavelet = \"bior3.5\"\n",
    "#wavelet = \"rbio3.5\"\n",
    "#wavelet = \"db5\"\n",
    "#wavelet = \"db9\""
   ]
  },
  {
   "cell_type": "markdown",
   "metadata": {},
   "source": [
    "## 1. Visualize the sequence of images"
   ]
  },
  {
   "cell_type": "code",
   "execution_count": null,
   "metadata": {
    "scrolled": true
   },
   "outputs": [],
   "source": [
    "show_seq(\"../sequences/stockholm/\")"
   ]
  },
  {
   "cell_type": "markdown",
   "metadata": {},
   "source": [
    "## 2. Visualize the difference between images"
   ]
  },
  {
   "cell_type": "code",
   "execution_count": null,
   "metadata": {},
   "outputs": [],
   "source": [
    "show_motion(\"../sequences/stockholm/\")"
   ]
  },
  {
   "cell_type": "markdown",
   "metadata": {},
   "source": [
    "## 3. Compute the $\\mathtt{MDWT}(N=5)$"
   ]
  },
  {
   "cell_type": "code",
   "execution_count": null,
   "metadata": {},
   "outputs": [],
   "source": [
    "%%bash\n",
    "\n",
    "# You must be in the ’src’ directory to run this.\n",
    "rm -f /tmp/*.png  \n",
    "cp ../sequences/stockholm/*.png /tmp  \n",
    " \n",
    "# 1-iteration MDWT.  \n",
    "# Please, write your code here.\n",
    "\n",
    "# Show the length of the subbands.  \n",
    "for i in /tmp/LL???.png; do ls -lh $i; done  \n",
    "for i in /tmp/LH???.png; do ls -lh $i; done  \n",
    "for i in /tmp/HL???.png; do ls -lh $i; done  \n",
    "for i in /tmp/HH???.png; do ls -lh $i; done "
   ]
  },
  {
   "cell_type": "code",
   "execution_count": null,
   "metadata": {},
   "outputs": [],
   "source": [
    "show_seq(\"/tmp/LL\")"
   ]
  },
  {
   "cell_type": "code",
   "execution_count": null,
   "metadata": {},
   "outputs": [],
   "source": [
    "show_motion(\"/tmp/LL\")"
   ]
  },
  {
   "cell_type": "code",
   "execution_count": null,
   "metadata": {},
   "outputs": [],
   "source": [
    "show_seq(\"/tmp/LH\")"
   ]
  },
  {
   "cell_type": "code",
   "execution_count": null,
   "metadata": {},
   "outputs": [],
   "source": [
    "show_seq(\"/tmp/HL\")"
   ]
  },
  {
   "cell_type": "code",
   "execution_count": null,
   "metadata": {},
   "outputs": [],
   "source": [
    "show_seq(\"/tmp/HH\")"
   ]
  },
  {
   "cell_type": "markdown",
   "metadata": {},
   "source": [
    "Which subband (LL, LH, HL or HH) seem to store more information?"
   ]
  },
  {
   "cell_type": "markdown",
   "metadata": {},
   "source": [
    "## 4. Compute the Inverse $\\mathtt{MDWT(N=5)}$"
   ]
  },
  {
   "cell_type": "code",
   "execution_count": null,
   "metadata": {
    "colab": {},
    "colab_type": "code",
    "id": "9-6z9okmU8Pf"
   },
   "outputs": [],
   "source": [
    "%%bash\n",
    " \n",
    "# 1-iteration iMDWT.  \n",
    "# Please, write your code here."
   ]
  },
  {
   "cell_type": "code",
   "execution_count": null,
   "metadata": {},
   "outputs": [],
   "source": [
    "show_seq(\"/tmp/\")"
   ]
  },
  {
   "cell_type": "markdown",
   "metadata": {},
   "source": [
    "## 5. Some statistics"
   ]
  },
  {
   "cell_type": "code",
   "execution_count": null,
   "metadata": {
    "scrolled": true
   },
   "outputs": [],
   "source": [
    "%%bash \n",
    " \n",
    "# Show some statistics.\n",
    "for i in {0..4}; do\n",
    "  ii=$(printf \"%03d\" $i);\n",
    "  python ../tools/show_statistics.py -i ../sequences/stockholm/$ii.png;\n",
    "  python ../tools/show_statistics.py -i /tmp/$ii.png;\n",
    "done  "
   ]
  },
  {
   "cell_type": "code",
   "execution_count": null,
   "metadata": {
    "colab": {},
    "colab_type": "code",
    "id": "u0CbhcVoU8Pk",
    "outputId": "fba6b104-4de1-4a60-947a-113dbc68a4df",
    "scrolled": true
   },
   "outputs": [],
   "source": [
    "%%bash \n",
    "\n",
    "# Visualization of the residue.  \n",
    "for i in {0..4}; do ii=$(printf \"%03d\" $i); bash ../tools/show_differences.sh -1 /tmp/$ii.png -2 ../sequences/stockholm/$ii.png -o /tmp/diff_$ii.png; done  "
   ]
  },
  {
   "cell_type": "code",
   "execution_count": null,
   "metadata": {
    "colab": {},
    "colab_type": "code",
    "id": "1wOF3FGZU8Pq"
   },
   "outputs": [],
   "source": [
    "show_seq(\"/tmp/diff_\")"
   ]
  },
  {
   "cell_type": "markdown",
   "metadata": {},
   "source": [
    "Why the reconstructed sequence is not identical to the original one?"
   ]
  }
 ],
 "metadata": {
  "colab": {
   "include_colab_link": true,
   "name": "ejemplo.ipynb",
   "provenance": []
  },
  "kernelspec": {
   "display_name": "Python 3",
   "language": "python",
   "name": "python3"
  },
  "language_info": {
   "codemirror_mode": {
    "name": "ipython",
    "version": 3
   },
   "file_extension": ".py",
   "mimetype": "text/x-python",
   "name": "python",
   "nbconvert_exporter": "python",
   "pygments_lexer": "ipython3",
   "version": "3.9.1"
  }
 },
 "nbformat": 4,
 "nbformat_minor": 1
}

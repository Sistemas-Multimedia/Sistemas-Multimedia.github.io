{
 "cells": [
  {
   "cell_type": "markdown",
   "metadata": {},
   "source": [
    "# Frequency response of the Haar filters"
   ]
  },
  {
   "cell_type": "code",
   "execution_count": null,
   "metadata": {},
   "outputs": [],
   "source": [
    "import math\n",
    "import numpy as np\n",
    "from scipy import signal\n",
    "import pylab"
   ]
  },
  {
   "cell_type": "code",
   "execution_count": null,
   "metadata": {},
   "outputs": [],
   "source": [
    "sqrt2 = math.sqrt(2)\n",
    "K_0 = np.array([sqrt2, sqrt2])\n",
    "w0, h0 = signal.freqz(K_0)\n",
    "K_1 = np.array([sqrt2, -sqrt2])\n",
    "w1, h1 = signal.freqz(K_1)"
   ]
  },
  {
   "cell_type": "code",
   "execution_count": null,
   "metadata": {},
   "outputs": [],
   "source": [
    "pylab.plot(w0/math.pi, 20 * np.log10(abs(h0)), 'r', label=\"$|{\\cal K}_0(e^{l\\omega})|$\")\n",
    "pylab.plot(w1/math.pi, 20 * np.log10(abs(h1)), 'b', label=\"$|{\\cal K}_1(e^{l\\omega})$\")\n",
    "pylab.plot(w0/math.pi, 20 * np.log10(abs(h0+h1)), 'g', label=\"$|{\\cal K}_0(e^{l\\omega})|+|{\\cal K}_1(e^{l\\omega})|$\")\n",
    "pylab.legend(loc='lower right')\n",
    "pylab.title(\"Frequency response of the Haar filters\")\n",
    "pylab.xlabel(\"Frequency in radians\")\n",
    "pylab.ylabel(\"Attenuation [dB]\")\n",
    "pylab.savefig(\"haar_filters_response.svg\")\n",
    "pylab.savefig(\"haar_filters_response.pdf\")\n",
    "pylab.show()"
   ]
  }
 ],
 "metadata": {
  "kernelspec": {
   "display_name": "Python 3",
   "language": "python",
   "name": "python3"
  },
  "language_info": {
   "codemirror_mode": {
    "name": "ipython",
    "version": 3
   },
   "file_extension": ".py",
   "mimetype": "text/x-python",
   "name": "python",
   "nbconvert_exporter": "python",
   "pygments_lexer": "ipython3",
   "version": "3.8.6"
  }
 },
 "nbformat": 4,
 "nbformat_minor": 2
}

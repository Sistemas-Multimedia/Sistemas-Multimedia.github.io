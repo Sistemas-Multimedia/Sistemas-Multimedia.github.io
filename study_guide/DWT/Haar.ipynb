{
 "cells": [
  {
   "cell_type": "markdown",
   "metadata": {},
   "source": [
    "# Frequency response of the Haar filters"
   ]
  },
  {
   "cell_type": "code",
   "execution_count": 23,
   "metadata": {},
   "outputs": [],
   "source": [
    "import math\n",
    "import numpy as np\n",
    "from scipy import signal\n",
    "import pylab\n",
    "import pywt"
   ]
  },
  {
   "cell_type": "code",
   "execution_count": null,
   "metadata": {},
   "outputs": [],
   "source": [
    "def get_filter(wavelet_name, coef_index, N):\n",
    "    wavelet = pywt.Wavelet(wavelet_name)\n",
    "    zeros = np.zeros(N)\n",
    "    decomposition = pywt.wavedec(zeros, wavelet=wavelet, level=1, mode=\"per\")\n",
    "    coefficients, slices = pywt.coeffs_to_array(decomposition)\n",
    "    coefficients[coef_index] = 1\n",
    "    decomposition = pywt.array_to_coeffs(coefficients, slices, output_format=\"wavedec\")\n",
    "    samples = pywt.waverec(decomposition, wavelet=wavelet, mode=\"per\")\n",
    "    return samples"
   ]
  },
  {
   "cell_type": "code",
   "execution_count": 24,
   "metadata": {},
   "outputs": [
    {
     "name": "stdout",
     "output_type": "stream",
     "text": [
      "K_0 = [0.70710678 0.70710678]\n",
      "K_1 = [ 0.70710678 -0.70710678]\n"
     ]
    }
   ],
   "source": [
    "# See http://wavelets.pybytes.com/wavelet/haar/\n",
    "K_0 = get_filter(\"haar\", 0, 2)\n",
    "K_1 = get_filter(\"haar\", 1, 2)\n",
    "print(\"K_0 =\", K_0)\n",
    "print(\"K_1 =\", K_1)"
   ]
  },
  {
   "cell_type": "code",
   "execution_count": 25,
   "metadata": {},
   "outputs": [],
   "source": [
    "w0, scaling_function = signal.freqz(K_0)\n",
    "w1, wavelet_function = signal.freqz(K_1)"
   ]
  },
  {
   "cell_type": "code",
   "execution_count": 26,
   "metadata": {},
   "outputs": [
    {
     "name": "stderr",
     "output_type": "stream",
     "text": [
      "<ipython-input-26-5144de811691>:2: RuntimeWarning: divide by zero encountered in log10\n",
      "  pylab.plot(w1/math.pi, 20 * np.log10(abs(wavelet_function)), 'b', label=\"$|K_1(e^{j\\omega})|$ (wavelet func. $\\psi$)\")\n"
     ]
    },
    {
     "data": {
      "image/png": "[encoded data removed]",
      "text/plain": [
       "<Figure size 432x288 with 1 Axes>"
      ]
     },
     "metadata": {
      "needs_background": "light"
     },
     "output_type": "display_data"
    }
   ],
   "source": [
    "pylab.plot(w0/math.pi, 20 * np.log10(abs(scaling_function)), 'r', label=\"$|K_0(e^{j\\omega})|$ (scaling func. $\\phi$)\")\n",
    "pylab.plot(w1/math.pi, 20 * np.log10(abs(wavelet_function)), 'b', label=\"$|K_1(e^{j\\omega})|$ (wavelet func. $\\psi$)\")\n",
    "pylab.plot(w0/math.pi, 20 * np.log10(abs(scaling_function + wavelet_function)), 'g', label=\"$|K_0(e^{j\\omega})|+|K_1(e^{j\\omega})|$\")\n",
    "pylab.legend(loc='lower right')\n",
    "pylab.title(\"Frequency response of the Haar filters\")\n",
    "pylab.xlabel(\"Frequency in radians\")\n",
    "pylab.ylabel(\"Attenuation [dB]\")\n",
    "pylab.savefig(\"haar_filters_response.svg\")\n",
    "pylab.savefig(\"haar_filters_response.pdf\")\n",
    "pylab.show()"
   ]
  },
  {
   "cell_type": "code",
   "execution_count": 27,
   "metadata": {},
   "outputs": [
    {
     "name": "stdout",
     "output_type": "stream",
     "text": [
      "K_0 = [-0.24229489 -0.03224487  0.07757149 -0.00624149 -0.01258075  0.00333573\n",
      "  0.1601024   0.60382927  0.72430853  0.13842815]\n",
      "K_1 = [ 0.72430853  0.13842815 -0.24229489 -0.03224487  0.07757149 -0.00624149\n",
      " -0.01258075  0.00333573  0.1601024   0.60382927]\n"
     ]
    },
    {
     "name": "stderr",
     "output_type": "stream",
     "text": [
      "/home/vruiz/.local/lib/python3.9/site-packages/pywt/_multilevel.py:43: UserWarning: Level value of 1 is too high: all coefficients will experience boundary effects.\n",
      "  warnings.warn(\n"
     ]
    }
   ],
   "source": [
    "# http://wavelets.pybytes.com/wavelet/db5/\n",
    "K_0 = get_filter(\"db5\", 0, 10)\n",
    "K_1 = get_filter(\"db5\", 1, 10)\n",
    "print(\"K_0 =\", K_0)\n",
    "print(\"K_1 =\", K_1)"
   ]
  },
  {
   "cell_type": "code",
   "execution_count": null,
   "metadata": {},
   "outputs": [],
   "source": []
  }
 ],
 "metadata": {
  "kernelspec": {
   "display_name": "Python 3",
   "language": "python",
   "name": "python3"
  },
  "language_info": {
   "codemirror_mode": {
    "name": "ipython",
    "version": 3
   },
   "file_extension": ".py",
   "mimetype": "text/x-python",
   "name": "python",
   "nbconvert_exporter": "python",
   "pygments_lexer": "ipython3",
   "version": "3.9.1"
  }
 },
 "nbformat": 4,
 "nbformat_minor": 2
}

{
 "cells": [
  {
   "cell_type": "markdown",
   "metadata": {},
   "source": [
    "# Performance of quantization"
   ]
  },
  {
   "cell_type": "code",
   "execution_count": null,
   "metadata": {},
   "outputs": [],
   "source": [
    "%matplotlib inline\n",
    "\n",
    "import matplotlib\n",
    "import matplotlib.pyplot as plt\n",
    "import matplotlib.axes as ax\n",
    "import pylab\n",
    "import math\n",
    "import numpy as np\n",
    "from scipy import signal\n",
    "import cv2\n",
    "import os"
   ]
  },
  {
   "cell_type": "code",
   "execution_count": null,
   "metadata": {},
   "outputs": [],
   "source": [
    "def quantizer(x, quantization_step):\n",
    "    k = (x / quantization_step).astype(np.int16)\n",
    "    return k\n",
    "\n",
    "def dequantizer(k, quantization_step):\n",
    "    y = quantization_step * k\n",
    "    return y\n",
    "\n",
    "def q_deq(x, quantization_step):\n",
    "    k = quantizer(x, quantization_step)\n",
    "    y = dequantizer(k, quantization_step)\n",
    "    return k, y\n",
    "\n",
    "# Notice that, although this is a dead-zone quantizer, we are not going\n",
    "# to work with negative samples, and therefore, the dead-zone\n",
    "# does not have any effect."
   ]
  },
  {
   "cell_type": "code",
   "execution_count": null,
   "metadata": {},
   "outputs": [],
   "source": [
    "def load_frame(prefix):\n",
    "    fn = f\"{prefix}.png\"\n",
    "    frame = cv2.imread(fn, cv2.IMREAD_UNCHANGED) # [rows, cols, comp]\n",
    "    frame = cv2.cvtColor(frame, cv2.COLOR_BGR2RGB)\n",
    "    frame = np.array(frame)\n",
    "    frame = frame.astype(np.float32) - 32768.0\n",
    "    frame = frame.astype(np.uint8)\n",
    "    return frame\n",
    "\n",
    "def write_frame(frame, prefix):\n",
    "    frame = frame.astype(np.float32)\n",
    "    frame += 32768.0\n",
    "    frame = frame.astype(np.uint16)\n",
    "    cv2.imwrite(f\"{prefix}.png\", frame)"
   ]
  },
  {
   "cell_type": "code",
   "execution_count": null,
   "metadata": {},
   "outputs": [],
   "source": [
    "def load_indexes(prefix):\n",
    "    load_frame(prefix)\n",
    "    \n",
    "def write_indexes(prefix):\n",
    "    write_frame(prefix)"
   ]
  },
  {
   "cell_type": "code",
   "execution_count": null,
   "metadata": {},
   "outputs": [],
   "source": [
    "fn = \"/home/vruiz/MRVC/sequences/stockholm/000\"\n",
    "frame = load_frame(fn)\n",
    "print(frame.max(), frame.min())"
   ]
  },
  {
   "cell_type": "code",
   "execution_count": null,
   "metadata": {},
   "outputs": [],
   "source": [
    "def normalize(img):\n",
    "    max_component = np.max(img)\n",
    "    min_component = np.min(img)\n",
    "    max_min_component = max_component - min_component\n",
    "    return (img-min_component)/max_min_component\n",
    "\n",
    "def show_frame(frame, prefix):\n",
    "    frame = normalize(frame)\n",
    "    plt.figure(figsize=(10,10))\n",
    "    plt.title(prefix, fontsize=20)\n",
    "    plt.imshow(frame)"
   ]
  },
  {
   "cell_type": "code",
   "execution_count": null,
   "metadata": {},
   "outputs": [],
   "source": [
    "show_frame(frame, fn)"
   ]
  },
  {
   "cell_type": "code",
   "execution_count": null,
   "metadata": {},
   "outputs": [],
   "source": [
    "def average_energy(x):\n",
    "    return np.sum(x.astype(np.double)*x.astype(np.double))/len(x)\n",
    "\n",
    "def RMSE(x, y):\n",
    "    error_signal = x - y\n",
    "    return math.sqrt(average_energy(error_signal))"
   ]
  },
  {
   "cell_type": "code",
   "execution_count": null,
   "metadata": {},
   "outputs": [],
   "source": [
    "def byte_rate(frame):\n",
    "    write_frame(frame, \"/tmp/frame\")\n",
    "    length_in_bytes = os.path.getsize(\"/tmp/frame.png\")\n",
    "    return length_in_bytes\n",
    "\n",
    "def entropy_in_bits_per_symbol(sequence_of_symbols):\n",
    "    value, counts = np.unique(sequence_of_symbols, return_counts = True)\n",
    "    probs = counts / len(sequence_of_symbols)\n",
    "    n_classes = np.count_nonzero(probs)\n",
    "\n",
    "    if n_classes <= 1:\n",
    "        return 0\n",
    "\n",
    "    entropy = 0.\n",
    "    for i in probs:\n",
    "        entropy -= i * math.log(i, 2)\n",
    "\n",
    "    return entropy"
   ]
  },
  {
   "cell_type": "code",
   "execution_count": null,
   "metadata": {},
   "outputs": [],
   "source": [
    "def RD_curve(x):\n",
    "    points = []\n",
    "    for q_step in range(0, 8):\n",
    "        print(q_step, end=' ')\n",
    "        k, y = q_deq(x, 1<<q_step)\n",
    "        rate = byte_rate(k)\n",
    "        distortion = RMSE(x, y)\n",
    "        points.append((rate, distortion))\n",
    "    return points\n",
    "\n",
    "RD_points = RD_curve(frame)"
   ]
  },
  {
   "cell_type": "code",
   "execution_count": null,
   "metadata": {},
   "outputs": [],
   "source": [
    "pylab.figure(dpi=150)\n",
    "pylab.plot(*zip(*RD_points), c='r', marker=\"o\")\n",
    "pylab.title(\"RD Only Quantization\")\n",
    "pylab.xlabel(\"Bytes/Frame\")\n",
    "pylab.ylabel(\"RMSE\")\n",
    "pylab.show()"
   ]
  },
  {
   "cell_type": "code",
   "execution_count": null,
   "metadata": {},
   "outputs": [],
   "source": [
    "k, y = q_deq(frame, 64)\n",
    "show_frame(y, \"\")"
   ]
  },
  {
   "cell_type": "code",
   "execution_count": null,
   "metadata": {},
   "outputs": [],
   "source": []
  }
 ],
 "metadata": {
  "kernelspec": {
   "display_name": "Python 3",
   "language": "python",
   "name": "python3"
  },
  "language_info": {
   "codemirror_mode": {
    "name": "ipython",
    "version": 3
   },
   "file_extension": ".py",
   "mimetype": "text/x-python",
   "name": "python",
   "nbconvert_exporter": "python",
   "pygments_lexer": "ipython3",
   "version": "3.9.1"
  }
 },
 "nbformat": 4,
 "nbformat_minor": 4
}

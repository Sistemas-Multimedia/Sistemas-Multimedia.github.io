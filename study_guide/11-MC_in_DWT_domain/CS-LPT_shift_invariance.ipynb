{
 "cells": [
  {
   "cell_type": "markdown",
   "metadata": {},
   "source": [
    "# Shift-invariance in the CS-LPT domain"
   ]
  },
  {
   "cell_type": "code",
   "execution_count": null,
   "metadata": {},
   "outputs": [],
   "source": [
    "import numpy as np\n",
    "import cv2\n",
    "import matplotlib.pyplot as plt\n",
    "import matplotlib.image as mimg\n",
    "%matplotlib inline\n",
    "import pywt\n",
    "from io_stuff import *\n",
    "from color import *"
   ]
  },
  {
   "cell_type": "markdown",
   "metadata": {},
   "source": [
    "### Create the three images\n",
    "With a circle of diameter 10 that moves from coordinate (30, 20), (30, 21), and (30, 22). (row, column)"
   ]
  },
  {
   "cell_type": "code",
   "execution_count": null,
   "metadata": {},
   "outputs": [],
   "source": [
    "%%bash\n",
    "jupyter nbconvert --to notebook --execute create_moving_circles.ipynb"
   ]
  },
  {
   "cell_type": "markdown",
   "metadata": {},
   "source": [
    "### Load the images"
   ]
  },
  {
   "cell_type": "code",
   "execution_count": null,
   "metadata": {},
   "outputs": [],
   "source": [
    "prefix = \"moving_circle_\"\n",
    "frame_0 = load_img(prefix + \"000\")\n",
    "frame_1 = load_img(prefix + \"001\")\n",
    "frame_2 = load_img(prefix + \"002\")"
   ]
  },
  {
   "cell_type": "markdown",
   "metadata": {},
   "source": [
    "### Work only with luma"
   ]
  },
  {
   "cell_type": "code",
   "execution_count": null,
   "metadata": {},
   "outputs": [],
   "source": [
    "frame_0_Y = RGB_to_YCoCg(frame_0)[:,:,0]\n",
    "frame_1_Y = RGB_to_YCoCg(frame_1)[:,:,0]\n",
    "frame_2_Y = RGB_to_YCoCg(frame_2)[:,:,0]"
   ]
  },
  {
   "cell_type": "markdown",
   "metadata": {},
   "source": [
    "### 2D-DWT of the frames"
   ]
  },
  {
   "cell_type": "code",
   "execution_count": null,
   "metadata": {},
   "outputs": [],
   "source": [
    "f0_haar_LL, (f0_haar_LH, f0_haar_HL, f0_haar_HH) = pywt.dwt2(frame_0_Y, 'haar')\n",
    "f1_haar_LL, (f1_haar_LH, f1_haar_HL, f1_haar_HH) = pywt.dwt2(frame_1_Y, 'haar')\n",
    "f2_haar_LL, (f2_haar_LH, f2_haar_HL, f2_haar_HH) = pywt.dwt2(frame_2_Y, 'haar')"
   ]
  },
  {
   "cell_type": "markdown",
   "metadata": {},
   "source": [
    "### Creation of the [H] subbands\n",
    "Remember that the L subband is the same that in the DWT."
   ]
  },
  {
   "cell_type": "code",
   "execution_count": null,
   "metadata": {},
   "outputs": [],
   "source": [
    "f0_haar_H = pywt.idwt2([None,(f0_haar_LH, f0_haar_HL, f0_haar_HH)], 'haar')\n",
    "f1_haar_H = pywt.idwt2([None,(f1_haar_LH, f1_haar_HL, f1_haar_HH)], 'haar')\n",
    "f2_haar_H = pywt.idwt2([None,(f2_haar_LH, f2_haar_HL, f2_haar_HH)], 'haar')"
   ]
  },
  {
   "cell_type": "code",
   "execution_count": null,
   "metadata": {},
   "outputs": [],
   "source": [
    "plt.figure(figsize=(10,10))\n",
    "plt.title(\"Frame 0. Haar. H.\", fontsize=20)\n",
    "plt.imshow(f0_haar_H, cmap=\"gray\")\n",
    "plt.savefig('f0_haar_H.png')\n",
    "plt.show()"
   ]
  },
  {
   "cell_type": "code",
   "execution_count": null,
   "metadata": {},
   "outputs": [],
   "source": [
    "plt.figure(figsize=(10,10))\n",
    "plt.title(\"Frame 1. Haar. H.\", fontsize=20)\n",
    "plt.imshow(f1_haar_H, cmap=\"gray\")\n",
    "plt.savefig('f1_haar_H.png')\n",
    "plt.show()"
   ]
  },
  {
   "cell_type": "code",
   "execution_count": null,
   "metadata": {},
   "outputs": [],
   "source": [
    "plt.figure(figsize=(10,10))\n",
    "plt.title(\"Frame 2. Haar. H.\", fontsize=20)\n",
    "plt.imshow(f2_haar_H, cmap=\"gray\")\n",
    "plt.savefig('f2_haar_H.png')\n",
    "plt.show()"
   ]
  },
  {
   "cell_type": "code",
   "execution_count": null,
   "metadata": {
    "scrolled": true
   },
   "outputs": [],
   "source": [
    "plt.title(\"Frames 0 and 1. Haar. H\")\n",
    "plt.plot(np.roll(f0_haar_H[36, 0:40], 1), label=\"prediction\")\n",
    "plt.plot(f1_haar_H[36, 0:40], linestyle=':', linewidth=4, label=\"predicted\")\n",
    "plt.legend()\n",
    "plt.savefig(\"f0_1_haar_H.svg\")\n",
    "plt.show()"
   ]
  },
  {
   "cell_type": "code",
   "execution_count": null,
   "metadata": {},
   "outputs": [],
   "source": [
    "plt.title(\"Frames 0 and 2. Haar. H\")\n",
    "plt.plot(np.roll(f0_haar_H[36, 0:40], 2), label=\"prediction\")\n",
    "plt.plot(f2_haar_H[36, 0:40], linestyle=':', linewidth=4, label=\"predicted\")\n",
    "plt.legend()\n",
    "plt.savefig(\"f0_2_haar_H.svg\")\n",
    "plt.show()"
   ]
  }
 ],
 "metadata": {
  "kernelspec": {
   "display_name": "Python 3",
   "language": "python",
   "name": "python3"
  },
  "language_info": {
   "codemirror_mode": {
    "name": "ipython",
    "version": 3
   },
   "file_extension": ".py",
   "mimetype": "text/x-python",
   "name": "python",
   "nbconvert_exporter": "python",
   "pygments_lexer": "ipython3",
   "version": "3.9.1"
  }
 },
 "nbformat": 4,
 "nbformat_minor": 4
}

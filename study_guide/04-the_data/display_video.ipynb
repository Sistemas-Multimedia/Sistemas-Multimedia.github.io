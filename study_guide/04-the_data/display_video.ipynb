{
 "cells": [
  {
   "cell_type": "markdown",
   "metadata": {
    "colab_type": "text",
    "id": "view-in-github"
   },
   "source": [
    "<a href=\"https://colab.research.google.com/github/vicente-gonzalez-ruiz/MCDWT-experimentos/blob/master/src/MDWT_1_5.ipynb\" target=\"_parent\"><img src=\"https://colab.research.google.com/assets/colab-badge.svg\" alt=\"Open In Colab\"/></a>"
   ]
  },
  {
   "cell_type": "markdown",
   "metadata": {},
   "source": [
    "# [MDWT](https://sistemas-multimedia.github.io/PRMC/#x1-100005)$(N=5)$\n",
    "Calculamos la transformada directa e inversa de una iteración, a 5 imágenes. El objetivo principal de este experimento es mostrar la reversibilidad de la DWT proporcionada por [PyWavelets](https://pywavelets.readthedocs.io/en/latest/)."
   ]
  },
  {
   "cell_type": "code",
   "execution_count": null,
   "metadata": {
    "colab": {},
    "colab_type": "code",
    "id": "WYKPO7SrU8Pa",
    "outputId": "70f4523c-4fb5-4a1f-85bc-59df85e4214e"
   },
   "outputs": [],
   "source": [
    "%matplotlib inline\n",
    "from load_and_display import *\n",
    "\n",
    "# The results depends on the wavelet (see http://wavelets.pybytes.com):\n",
    "#wavelet = \"haar\"\n",
    "wavelet = \"bior3.5\"\n",
    "#wavelet = \"rbio3.5\"\n",
    "#wavelet = \"db5\"\n",
    "#wavelet = \"db9\""
   ]
  },
  {
   "cell_type": "markdown",
   "metadata": {},
   "source": [
    " El vídeo usado es:"
   ]
  },
  {
   "cell_type": "code",
   "execution_count": null,
   "metadata": {
    "scrolled": false
   },
   "outputs": [],
   "source": [
    "show_seq(\"../sequences/stockholm/\")"
   ]
  },
  {
   "cell_type": "markdown",
   "metadata": {},
   "source": [
    "Los vídeos con los frames se almacenan en disco como imágnes PNG de 16 bits en el rango [0, 65535]. Esta tipo de formato se ha usado también para representar los coeficientes wavelet. Como estos pueden ser negativos, antes de ser almacenados a disco hay que sumarles 32768, y rezar para que su rango dinámico no exceda $2^{16}$ (cosa que rara vez ocurre si las imágenes de partida vienen a 8 bits/componente). Por tanto, tras leerlos de disco hay que restarles este valor. También ocurre que para visualizar los coeficientes hay que normalizarlos, porque no tienen por qué estar dentro del rango [0, 255]. El espacio de color usado para los frames es RGB, aunque en algunas fases del procesamiento haya que usar YCbCr. "
   ]
  },
  {
   "cell_type": "markdown",
   "metadata": {},
   "source": [
    "También podemos ver el movimiento en la secuencia restando imágenes consecutivas:"
   ]
  },
  {
   "cell_type": "code",
   "execution_count": null,
   "metadata": {},
   "outputs": [],
   "source": [
    "show_motion(\"../sequences/stockholm/\")"
   ]
  },
  {
   "cell_type": "markdown",
   "metadata": {
    "colab_type": "text",
    "id": "Ln_3_kssU8O0"
   },
   "source": [
    "## $\\mathtt{MDWT}(N=5)$\n",
    "\n",
    "Aplicamos la 2D-DWT una iteración a cada una de las imágenes de la secuencia."
   ]
  },
  {
   "cell_type": "code",
   "execution_count": null,
   "metadata": {
    "colab": {
     "base_uri": "https://localhost:8080/",
     "height": 119
    },
    "colab_type": "code",
    "id": "4VqyikDZU8O2",
    "outputId": "52c21b6c-5f99-4f5d-cacd-699bed2dee02"
   },
   "outputs": [],
   "source": [
    "%%bash\n",
    "\n",
    "# You must be in the ’src’ directory to run this.\n",
    "rm -f /tmp/*.png  \n",
    "cp ../sequences/stockholm/*.png /tmp  \n",
    " \n",
    "# 1-iteration MDWT.  \n",
    "python3 -O MDWT.py -p /tmp/  \n",
    " \n",
    "# Show the length of the subbands.  \n",
    "for i in /tmp/LL???.png; do ls -lh $i; done  \n",
    "for i in /tmp/LH???.png; do ls -lh $i; done  \n",
    "for i in /tmp/HL???.png; do ls -lh $i; done  \n",
    "for i in /tmp/HH???.png; do ls -lh $i; done  "
   ]
  },
  {
   "cell_type": "markdown",
   "metadata": {},
   "source": [
    "### Visualizamos la subbanda espacial $L$\n",
    "\n",
    "La subbanda $L$ está compuesta por 5 subbandas espaciales $LL^1$ con una resolución mitad (en cada dimensión) de la original. [Aquí](https://sistemas-multimedia.github.io/PRMC/#x1-220009.5) se habla de la notación seguida para referenciar a las subbandas."
   ]
  },
  {
   "cell_type": "code",
   "execution_count": null,
   "metadata": {
    "colab": {},
    "colab_type": "code",
    "id": "WYKPO7SrU8Pa",
    "outputId": "70f4523c-4fb5-4a1f-85bc-59df85e4214e"
   },
   "outputs": [],
   "source": [
    "show_seq(\"/tmp/LL\")"
   ]
  },
  {
   "cell_type": "code",
   "execution_count": null,
   "metadata": {},
   "outputs": [],
   "source": [
    "show_motion(\"/tmp/LL\")"
   ]
  },
  {
   "cell_type": "markdown",
   "metadata": {},
   "source": [
    "### Visualizamos la subbanda $H=\\{LH, HL, HH\\}$"
   ]
  },
  {
   "cell_type": "code",
   "execution_count": null,
   "metadata": {},
   "outputs": [],
   "source": [
    "show_seq(\"/tmp/LH\")"
   ]
  },
  {
   "cell_type": "code",
   "execution_count": null,
   "metadata": {},
   "outputs": [],
   "source": [
    "show_seq(\"/tmp/HL\")"
   ]
  },
  {
   "cell_type": "code",
   "execution_count": null,
   "metadata": {
    "scrolled": false
   },
   "outputs": [],
   "source": [
    "show_seq(\"/tmp/HH\")"
   ]
  },
  {
   "cell_type": "markdown",
   "metadata": {},
   "source": [
    "## Inverse $\\mathtt{MDWT(N=5)}$\n"
   ]
  },
  {
   "cell_type": "code",
   "execution_count": null,
   "metadata": {
    "colab": {},
    "colab_type": "code",
    "id": "9-6z9okmU8Pf"
   },
   "outputs": [],
   "source": [
    "%%bash\n",
    " \n",
    "# 1-iteration iMDWT.  \n",
    "python3 -O MDWT.py -b -p /tmp/  "
   ]
  },
  {
   "cell_type": "markdown",
   "metadata": {},
   "source": [
    "Mostramos la secuencia reconstruída:"
   ]
  },
  {
   "cell_type": "code",
   "execution_count": null,
   "metadata": {},
   "outputs": [],
   "source": [
    "show_seq(\"/tmp/\")"
   ]
  },
  {
   "cell_type": "markdown",
   "metadata": {},
   "source": [
    "Mostramos algunas estadísticas de la secuencia original y de la reconstruída:"
   ]
  },
  {
   "cell_type": "code",
   "execution_count": null,
   "metadata": {
    "scrolled": true
   },
   "outputs": [],
   "source": [
    "%%bash \n",
    " \n",
    "# Show some statistics.\n",
    "for i in {0..4}; do\n",
    "  ii=$(printf \"%03d\" $i);\n",
    "  python ../tools/show_statistics.py -i ../sequences/stockholm/$ii.png;\n",
    "  python ../tools/show_statistics.py -i /tmp/$ii.png;\n",
    "done  "
   ]
  },
  {
   "cell_type": "markdown",
   "metadata": {},
   "source": [
    "Las imágenes reconstruídas son parecidas a las originales, pero no idénticas. Quizás el dato más relevante de la reconstrucción es que aumenta ligeramente el rango dinámico (de 255 pasamos a 258). También aumenta un poco la entropía. En principio, el origen de dicha distorsión es la aritmética en punto flotante usada para calcular la DWT."
   ]
  },
  {
   "cell_type": "markdown",
   "metadata": {},
   "source": [
    "Finalmente, mostramos las diferencia entre las secuencias original y reconstruída:"
   ]
  },
  {
   "cell_type": "code",
   "execution_count": null,
   "metadata": {
    "colab": {},
    "colab_type": "code",
    "id": "u0CbhcVoU8Pk",
    "outputId": "fba6b104-4de1-4a60-947a-113dbc68a4df",
    "scrolled": true
   },
   "outputs": [],
   "source": [
    "%%bash \n",
    "\n",
    "# Visualization of the residue.  \n",
    "for i in {0..4}; do ii=$(printf \"%03d\" $i); bash ../tools/show_differences.sh -1 /tmp/$ii.png -2 ../sequences/stockholm/$ii.png -o /tmp/diff_$ii.png; done  "
   ]
  },
  {
   "cell_type": "code",
   "execution_count": null,
   "metadata": {
    "colab": {},
    "colab_type": "code",
    "id": "1wOF3FGZU8Pq"
   },
   "outputs": [],
   "source": [
    "show_seq(\"/tmp/diff_\")"
   ]
  }
 ],
 "metadata": {
  "colab": {
   "include_colab_link": true,
   "name": "ejemplo.ipynb",
   "provenance": []
  },
  "kernelspec": {
   "display_name": "Python 3",
   "language": "python",
   "name": "python3"
  },
  "language_info": {
   "codemirror_mode": {
    "name": "ipython",
    "version": 3
   },
   "file_extension": ".py",
   "mimetype": "text/x-python",
   "name": "python",
   "nbconvert_exporter": "python",
   "pygments_lexer": "ipython3",
   "version": "3.9.1"
  }
 },
 "nbformat": 4,
 "nbformat_minor": 1
}

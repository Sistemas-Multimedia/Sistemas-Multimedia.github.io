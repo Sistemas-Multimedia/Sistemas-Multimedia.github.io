{
 "cells": [
  {
   "cell_type": "markdown",
   "metadata": {
    "colab_type": "text",
    "id": "view-in-github"
   },
   "source": [
    "<a href=\"https://colab.research.google.com/github/Sistemas-Multimedia/Sistemas-Multimedia.github.io/blob/master/study_guide/04-the_data/display_video.ipynb\" target=\"_parent\"><img src=\"https://colab.research.google.com/assets/colab-badge.svg\" alt=\"Open In Colab\"/></a>"
   ]
  },
  {
   "cell_type": "markdown",
   "metadata": {},
   "source": [
    "# Display a sequence of video"
   ]
  },
  {
   "cell_type": "code",
   "execution_count": null,
   "metadata": {},
   "outputs": [],
   "source": [
    "import numpy as np\n",
    "import cv2 # pip install opencv-python\n",
    "import matplotlib.pyplot as plt\n",
    "import matplotlib.image as mpimg"
   ]
  },
  {
   "cell_type": "code",
   "execution_count": null,
   "metadata": {},
   "outputs": [],
   "source": [
    "def normalize(img):\n",
    "    max_component = np.max(img)\n",
    "    min_component = np.min(img)\n",
    "    max_min_component = max_component - min_component\n",
    "    return (img-min_component)/max_min_component\n",
    "\n",
    "def load_img(prefix):\n",
    "    img = cv2.imread(f\"{prefix}.png\", cv2.IMREAD_UNCHANGED)\n",
    "    img = cv2.cvtColor(img, cv2.COLOR_BGR2RGB)\n",
    "    img = np.array(img)\n",
    "    img = img.astype(np.float32) - 32768.0\n",
    "    return img\n",
    "\n",
    "def show_img(prefix):\n",
    "    img = load_img(prefix)\n",
    "    img = normalize(img)\n",
    "    plt.figure(figsize=(10,10))\n",
    "    plt.title(prefix, fontsize=20)\n",
    "    plt.imshow(img)\n",
    "\n",
    "def show_seq(prefix=\"/tmp/\", frames=5):\n",
    "    for i in range(frames):\n",
    "        show_img(f\"{prefix}{i:03d}\")\n",
    "\n",
    "def show_motion(prefix=\"/tmp/\", frames=5):\n",
    "    plt.figure(figsize=(10,10))\n",
    "    prev = load_img(f\"{prefix}000\")\n",
    "    imgplot = plt.imshow(normalize(prev))\n",
    "    for i in range(1, frames, 1):\n",
    "        img = load_img(f\"{prefix}{i:03d}\")\n",
    "        diff = img - prev\n",
    "        prev = img\n",
    "        diff = normalize(diff)\n",
    "        plt.figure(figsize=(10,10))\n",
    "        plt.title(f\"{prefix}{i:03d}\", fontsize=20)\n",
    "        plt.imshow(diff)"
   ]
  },
  {
   "cell_type": "code",
   "execution_count": null,
   "metadata": {
    "scrolled": false
   },
   "outputs": [],
   "source": [
    "show_seq(\"/home/vruiz/MRVC/sequences/stockholm/\") # <- Your path here!"
   ]
  }
 ],
 "metadata": {
  "colab": {
   "include_colab_link": true,
   "name": "ejemplo.ipynb",
   "provenance": []
  },
  "kernelspec": {
   "display_name": "Python 3",
   "language": "python",
   "name": "python3"
  },
  "language_info": {
   "codemirror_mode": {
    "name": "ipython",
    "version": 3
   },
   "file_extension": ".py",
   "mimetype": "text/x-python",
   "name": "python",
   "nbconvert_exporter": "python",
   "pygments_lexer": "ipython3",
   "version": "3.9.1"
  }
 },
 "nbformat": 4,
 "nbformat_minor": 1
}

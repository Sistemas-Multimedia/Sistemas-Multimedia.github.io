{
 "cells": [
  {
   "cell_type": "markdown",
   "metadata": {},
   "source": [
    "# Shift invariance in the DWT domain"
   ]
  },
  {
   "cell_type": "code",
   "execution_count": null,
   "metadata": {},
   "outputs": [],
   "source": [
    "import numpy as np\n",
    "import cv2\n",
    "import matplotlib.pyplot as plt\n",
    "import matplotlib.image as mimg\n",
    "%matplotlib inline\n",
    "import pywt\n",
    "from io_stuff import *\n",
    "from color import *"
   ]
  },
  {
   "cell_type": "markdown",
   "metadata": {},
   "source": [
    "### Create three images\n",
    "With a circle of diameter 10 that moves from coordinate (30, 20), (30, 21), and (30, 22). (row, column)"
   ]
  },
  {
   "cell_type": "code",
   "execution_count": null,
   "metadata": {},
   "outputs": [],
   "source": [
    "%%bash\n",
    "jupyter nbconvert --to notebook --execute create_moving_circles.ipynb"
   ]
  },
  {
   "cell_type": "markdown",
   "metadata": {},
   "source": [
    "### Load the images"
   ]
  },
  {
   "cell_type": "code",
   "execution_count": null,
   "metadata": {
    "scrolled": true
   },
   "outputs": [],
   "source": [
    "prefix = \"moving_circle_\"\n",
    "frame_0 = load_img(prefix + \"000\")\n",
    "frame_1 = load_img(prefix + \"001\")\n",
    "frame_2 = load_img(prefix + \"002\")"
   ]
  },
  {
   "cell_type": "markdown",
   "metadata": {},
   "source": [
    "### Work only with luma"
   ]
  },
  {
   "cell_type": "code",
   "execution_count": null,
   "metadata": {},
   "outputs": [],
   "source": [
    "frame_0_Y = RGB_to_YCoCg(frame_0)[:,:,0]\n",
    "frame_1_Y = RGB_to_YCoCg(frame_1)[:,:,0]\n",
    "frame_2_Y = RGB_to_YCoCg(frame_2)[:,:,0]"
   ]
  },
  {
   "cell_type": "code",
   "execution_count": null,
   "metadata": {
    "scrolled": true
   },
   "outputs": [],
   "source": [
    "plt.figure(figsize=(10,10))\n",
    "plt.title(\"Frame 0. Circle at (30, 20)\", fontsize=20)\n",
    "plt.imshow(frame_0_Y, cmap='gray')\n",
    "plt.savefig(\"frame_0_Y.png\")\n",
    "plt.show()"
   ]
  },
  {
   "cell_type": "code",
   "execution_count": null,
   "metadata": {
    "scrolled": true
   },
   "outputs": [],
   "source": [
    "plt.figure(figsize=(10,10))\n",
    "plt.title(\"Frame 1. Circle at (30, 21)\", fontsize=20)\n",
    "plt.imshow(frame_1_Y, cmap='gray')\n",
    "plt.savefig(\"frame_1_Y.png\")\n",
    "plt.show()"
   ]
  },
  {
   "cell_type": "code",
   "execution_count": null,
   "metadata": {
    "scrolled": true
   },
   "outputs": [],
   "source": [
    "plt.figure(figsize=(10,10))\n",
    "plt.title(\"Frame 2. Circle at (30, 22)\", fontsize=20)\n",
    "plt.imshow(frame_2_Y, cmap='gray')\n",
    "plt.savefig(\"frame_2_Y.png\")\n",
    "plt.show()"
   ]
  },
  {
   "cell_type": "markdown",
   "metadata": {},
   "source": [
    "### Motion estimation (ME) in the pixel domain\n",
    "Notice that this ME would be used if the original frames where available. This is not the case in MRCV!"
   ]
  },
  {
   "cell_type": "code",
   "execution_count": null,
   "metadata": {},
   "outputs": [],
   "source": [
    "# Plot the first part (from pixel 0 to 39) of the horizontal line (row 35) of the luminance.\n",
    "plt.title(\"ME between frames 0 and 1\")\n",
    "plt.plot(frame_0_Y[35, 0:40], label=\"reference\")\n",
    "plt.plot(np.roll(frame_0_Y[35, 0:40], 1), label=\"prediction\")\n",
    "#plt.show()\n",
    "plt.plot(frame_1_Y[35, 0:40], linestyle=':', linewidth=4, label=\"predicted\")\n",
    "plt.legend()\n",
    "plt.savefig(\"movement_0.svg\")\n",
    "#plt.savefig(\"movement_0.pdf\")\n",
    "plt.show()"
   ]
  },
  {
   "cell_type": "code",
   "execution_count": null,
   "metadata": {
    "scrolled": true
   },
   "outputs": [],
   "source": [
    "plt.title(\"ME between frames 0 and 2\")\n",
    "plt.plot(frame_0_Y[35, 0:40], label=\"reference\")\n",
    "plt.plot(np.roll(frame_0_Y[35, 0:40], 2), label=\"prediction\")\n",
    "#plt.show()\n",
    "plt.plot(frame_2_Y[35, 0:40], linestyle=':', linewidth=4, label=\"predicted\")\n",
    "plt.legend()\n",
    "plt.savefig(\"movement_1.svg\")\n",
    "#plt.savefig(\"movement_1.pdf\")\n",
    "plt.show()"
   ]
  },
  {
   "cell_type": "markdown",
   "metadata": {},
   "source": [
    "### Haar 2D-DWT"
   ]
  },
  {
   "cell_type": "code",
   "execution_count": null,
   "metadata": {},
   "outputs": [],
   "source": [
    "f0_haar_LL, (f0_haar_LH, f0_haar_HL, f0_haar_HH) = pywt.dwt2(frame_0_Y, 'haar')\n",
    "f1_haar_LL, (f1_haar_LH, f1_haar_HL, f1_haar_HH) = pywt.dwt2(frame_1_Y, 'haar')\n",
    "f2_haar_LL, (f2_haar_LH, f2_haar_HL, f2_haar_HH) = pywt.dwt2(frame_2_Y, 'haar')"
   ]
  },
  {
   "cell_type": "code",
   "execution_count": null,
   "metadata": {},
   "outputs": [],
   "source": [
    "plt.figure(figsize=(10,10))\n",
    "plt.title(\"Frame 0. Haar. LL\", fontsize=20)\n",
    "plt.imshow(f0_haar_LL, cmap='gray')\n",
    "plt.savefig('f0_haar_LL.png')\n",
    "plt.show()"
   ]
  },
  {
   "cell_type": "code",
   "execution_count": null,
   "metadata": {},
   "outputs": [],
   "source": [
    "plt.figure(figsize=(10,10))\n",
    "plt.title(\"Frame 1. Haar. LL\", fontsize=20)\n",
    "plt.imshow(f1_haar_LL, cmap='gray')\n",
    "plt.savefig('f1_haar_LL.png')\n",
    "plt.show()"
   ]
  },
  {
   "cell_type": "code",
   "execution_count": null,
   "metadata": {},
   "outputs": [],
   "source": [
    "plt.figure(figsize=(10,10))\n",
    "plt.title(\"Frame 2. Haar. LL\", fontsize=20)\n",
    "plt.imshow(f2_haar_LL, cmap='gray')\n",
    "plt.savefig('f2_haar_LL.png')\n",
    "plt.show()"
   ]
  },
  {
   "cell_type": "code",
   "execution_count": null,
   "metadata": {},
   "outputs": [],
   "source": [
    "plt.figure(figsize=(10,10))\n",
    "plt.title(\"Frame 0. Haar. LH\", fontsize=20)\n",
    "plt.imshow(f0_haar_LH, cmap='gray')\n",
    "plt.savefig('f0_haar_LH.png')\n",
    "plt.show()"
   ]
  },
  {
   "cell_type": "code",
   "execution_count": null,
   "metadata": {},
   "outputs": [],
   "source": [
    "plt.figure(figsize=(10,10))\n",
    "plt.title(\"Frame 1. Haar. LH\", fontsize=20)\n",
    "plt.imshow(f1_haar_LH, cmap='gray')\n",
    "plt.savefig('f1_haar_LH.png')\n",
    "plt.show()"
   ]
  },
  {
   "cell_type": "code",
   "execution_count": null,
   "metadata": {},
   "outputs": [],
   "source": [
    "plt.figure(figsize=(10,10))\n",
    "plt.title(\"Frame 2. Haar. LH\", fontsize=20)\n",
    "plt.imshow(f2_haar_LH, cmap='gray')\n",
    "plt.savefig('f2_haar_LH.png')\n",
    "plt.show()"
   ]
  },
  {
   "cell_type": "code",
   "execution_count": null,
   "metadata": {},
   "outputs": [],
   "source": [
    "plt.figure(figsize=(10,10))\n",
    "plt.title(\"Frame 0. Haar. HL\", fontsize=20)\n",
    "plt.imshow(f0_haar_HL, cmap='gray')\n",
    "plt.savefig('f0_haar_HL.png')\n",
    "plt.show()"
   ]
  },
  {
   "cell_type": "code",
   "execution_count": null,
   "metadata": {},
   "outputs": [],
   "source": [
    "plt.figure(figsize=(10,10))\n",
    "plt.title(\"Frame 1. Haar. HL\", fontsize=20)\n",
    "plt.imshow(f1_haar_HL, cmap='gray')\n",
    "plt.savefig('f1_haar_HL.png')\n",
    "plt.show()"
   ]
  },
  {
   "cell_type": "code",
   "execution_count": null,
   "metadata": {},
   "outputs": [],
   "source": [
    "plt.figure(figsize=(10,10))\n",
    "plt.title(\"Frame 2. Haar. HL\", fontsize=20)\n",
    "plt.imshow(f2_haar_HL, cmap='gray')\n",
    "plt.savefig('f2_haar_HL.png')\n",
    "plt.show()"
   ]
  },
  {
   "cell_type": "code",
   "execution_count": null,
   "metadata": {},
   "outputs": [],
   "source": [
    "plt.figure(figsize=(10,10))\n",
    "plt.title(\"Frame 0. Haar. HH\", fontsize=20)\n",
    "plt.imshow(f0_haar_HH, cmap='gray')\n",
    "plt.savefig('f0_haar_HH.png')\n",
    "plt.show()"
   ]
  },
  {
   "cell_type": "code",
   "execution_count": null,
   "metadata": {},
   "outputs": [],
   "source": [
    "plt.figure(figsize=(10,10))\n",
    "plt.title(\"Frame 1. Haar. HH\", fontsize=20)\n",
    "plt.imshow(f1_haar_HH, cmap='gray')\n",
    "plt.savefig('f1_haar_HH.png')\n",
    "plt.show()"
   ]
  },
  {
   "cell_type": "code",
   "execution_count": null,
   "metadata": {},
   "outputs": [],
   "source": [
    "plt.figure(figsize=(10,10))\n",
    "plt.title(\"Frame 2. Haar. HH\", fontsize=20)\n",
    "plt.imshow(f2_haar_HH, cmap='gray')\n",
    "plt.savefig('f2_haar_HH.png')\n",
    "plt.show()"
   ]
  },
  {
   "cell_type": "markdown",
   "metadata": {},
   "source": [
    "Notice that the coefficients of the frames 0 and 2 are identical, but this is not true for the frame 1."
   ]
  },
  {
   "cell_type": "code",
   "execution_count": null,
   "metadata": {},
   "outputs": [],
   "source": [
    "plt.title(\"Frames 0 and 1. Haar. LL\")\n",
    "plt.plot(np.roll(f0_haar_LL[18, 0:20], 0), label=\"prediction\")\n",
    "plt.plot(f1_haar_LL[18, 0:20], linestyle=':', linewidth=4, label=\"predicted\")\n",
    "plt.legend()\n",
    "plt.savefig(\"f0_1_haar_LL.svg\")\n",
    "plt.show()"
   ]
  },
  {
   "cell_type": "code",
   "execution_count": null,
   "metadata": {
    "scrolled": true
   },
   "outputs": [],
   "source": [
    "plt.title(\"Frames 0 and 2. Haar. LL\")\n",
    "plt.plot(np.roll(f0_haar_LL[18, 0:20], 1), label=\"prediction\")\n",
    "plt.plot(f2_haar_LL[18, 0:20], linestyle=':', linewidth=4, label=\"predicted\")\n",
    "plt.legend()\n",
    "plt.savefig(\"f0_2_haar_LL.svg\")\n",
    "plt.show()"
   ]
  },
  {
   "cell_type": "code",
   "execution_count": null,
   "metadata": {},
   "outputs": [],
   "source": [
    "plt.title(\"Frames 0 and 1. Haar. LH\")\n",
    "plt.plot(np.roll(f0_haar_LH[18, 0:20], 0), label=\"prediction\")\n",
    "plt.plot(f1_haar_LH[18, 0:20], linestyle=':', linewidth=4, label=\"predicted\")\n",
    "plt.legend()\n",
    "plt.savefig(\"f0_1_haar_LH.svg\")\n",
    "plt.show()"
   ]
  },
  {
   "cell_type": "code",
   "execution_count": null,
   "metadata": {
    "scrolled": false
   },
   "outputs": [],
   "source": [
    "plt.title(\"Frames 0 and 2. Haar. LH\")\n",
    "plt.plot(np.roll(f0_haar_LH[18, 0:20], 1), label=\"prediction\")\n",
    "plt.plot(f2_haar_LH[18, 0:20], linestyle=':', linewidth=4, label=\"predicted\")\n",
    "plt.legend()\n",
    "plt.savefig(\"f0_2_haar_LH.svg\")\n",
    "plt.show()"
   ]
  },
  {
   "cell_type": "code",
   "execution_count": null,
   "metadata": {},
   "outputs": [],
   "source": [
    "plt.title(\"Frames 0 and 1. Haar. HL\")\n",
    "plt.plot(np.roll(f0_haar_HL[18, 0:20], 0), label=\"prediction\")\n",
    "plt.plot(f1_haar_HL[18, 0:20], linestyle=':', linewidth=4, label=\"predicted\")\n",
    "plt.legend()\n",
    "plt.savefig(\"f0_1_haar_HL.svg\")\n",
    "plt.show()"
   ]
  },
  {
   "cell_type": "code",
   "execution_count": null,
   "metadata": {
    "scrolled": true
   },
   "outputs": [],
   "source": [
    "plt.title(\"Frames 0 and 2. Haar. HL\")\n",
    "plt.plot(np.roll(f0_haar_HL[18, 0:20], 1), label=\"prediction\")\n",
    "plt.plot(f2_haar_HL[18, 0:20], linestyle=':', linewidth=4, label=\"predicted\")\n",
    "plt.legend()\n",
    "plt.savefig(\"f0_2_haar_HL.svg\")\n",
    "plt.show()"
   ]
  },
  {
   "cell_type": "code",
   "execution_count": null,
   "metadata": {},
   "outputs": [],
   "source": [
    "plt.title(\"Frames 0 and 1. Haar. HH\")\n",
    "plt.plot(np.roll(f0_haar_HH[18, 0:20], 0), label=\"prediction\")\n",
    "plt.plot(f1_haar_HH[18, 0:20], linestyle=':', linewidth=4, label=\"predicted\")\n",
    "plt.legend()\n",
    "plt.savefig(\"f0_1_haar_HH.svg\")\n",
    "plt.show()"
   ]
  },
  {
   "cell_type": "code",
   "execution_count": null,
   "metadata": {},
   "outputs": [],
   "source": [
    "plt.title(\"Frames 0 and 2. Haar. HH\")\n",
    "plt.plot(np.roll(f0_haar_HH[18, 0:20], 1), label=\"prediction\")\n",
    "plt.plot(f2_haar_HH[18, 0:20], linestyle=':', linewidth=4, label=\"predicted\")\n",
    "plt.legend()\n",
    "plt.savefig(\"f0_2_haar_HH.svg\")\n",
    "plt.show()"
   ]
  },
  {
   "cell_type": "markdown",
   "metadata": {},
   "source": [
    "### Daubechies 5 2D-DWT \n",
    "sin acabar ..."
   ]
  },
  {
   "cell_type": "code",
   "execution_count": null,
   "metadata": {},
   "outputs": [],
   "source": [
    "decomposition_0_db5 = pywt.dwt2(frame_0_Y, 'db5')\n",
    "decomposition_1_db5 = pywt.dwt2(frame_1_Y, 'db5')"
   ]
  },
  {
   "cell_type": "code",
   "execution_count": null,
   "metadata": {},
   "outputs": [],
   "source": [
    "plt.title(\"Coefs in LL (Daubechies 5)\")\n",
    "plt.plot(decomposition_0_db5[0][18, 0:20])\n",
    "plt.plot(decomposition_1_db5[0][18, 0:20], linestyle=':')\n",
    "plt.savefig(\"db5_LL.svg\")\n",
    "plt.savefig(\"db5_LL.pdf\")\n",
    "plt.show()"
   ]
  },
  {
   "cell_type": "code",
   "execution_count": null,
   "metadata": {},
   "outputs": [],
   "source": [
    "decomposition_0_bior35 = pywt.dwt2(frame_0_Y, 'bior3.5')\n",
    "decomposition_1_bior35 = pywt.dwt2(frame_1_Y, 'bior3.5')"
   ]
  },
  {
   "cell_type": "code",
   "execution_count": null,
   "metadata": {},
   "outputs": [],
   "source": [
    "plt.title(\"Coefs in LL (Biorthogonal 3.5)\")\n",
    "plt.plot(decomposition_0_bior35[0][18, 0:20])\n",
    "plt.plot(decomposition_1_bior35[0][18, 0:20], linestyle=':')\n",
    "plt.savefig(\"bior35_LL.svg\")\n",
    "plt.savefig(\"bior35_LL.pdf\")\n",
    "plt.show()"
   ]
  },
  {
   "cell_type": "code",
   "execution_count": null,
   "metadata": {},
   "outputs": [],
   "source": [
    "plt.title(\"Coefs in LH (Haar)\")\n",
    "plt.plot(decomposition_0_haar[1][0][18, 0:20])\n",
    "plt.plot(decomposition_1_haar[1][0][18, 0:20], linestyle=':')\n",
    "plt.savefig(\"haar_LH.svg\")\n",
    "plt.savefig(\"haar_LH.pdf\")\n",
    "plt.show()"
   ]
  },
  {
   "cell_type": "code",
   "execution_count": null,
   "metadata": {},
   "outputs": [],
   "source": [
    "plt.title(\"Coefs in LH (Daubechines 5)\")\n",
    "plt.plot(decomposition_0_db5[1][0][18, 0:20])\n",
    "plt.plot(decomposition_1_db5[1][0][18, 0:20], linestyle=':')\n",
    "plt.savefig(\"db5_LH.svg\")\n",
    "plt.savefig(\"db5_LH.pdf\")\n",
    "plt.show()"
   ]
  },
  {
   "cell_type": "code",
   "execution_count": null,
   "metadata": {},
   "outputs": [],
   "source": [
    "plt.title(\"Coefs in LH (Biorthogonal 3.5)\")\n",
    "plt.plot(decomposition_0_bior35[1][0][18, 0:20])\n",
    "plt.plot(decomposition_1_bior35[1][0][18, 0:20], linestyle=':')\n",
    "plt.savefig(\"bior35_LH.svg\")\n",
    "plt.savefig(\"bior35_LH.pdf\")\n",
    "plt.show()"
   ]
  },
  {
   "cell_type": "code",
   "execution_count": null,
   "metadata": {},
   "outputs": [],
   "source": [
    "plt.title(\"Coefs in HL (Haar)\")\n",
    "plt.plot(decomposition_0_haar[1][1][18, 0:20])\n",
    "plt.plot(decomposition_1_haar[1][1][18, 0:20], linestyle=':')\n",
    "plt.savefig(\"haar_HL.svg\")\n",
    "plt.savefig(\"haar_HL.pdf\")\n",
    "plt.show()"
   ]
  },
  {
   "cell_type": "code",
   "execution_count": null,
   "metadata": {},
   "outputs": [],
   "source": [
    "plt.title(\"Coefs in HL (Daubechines 5)\")\n",
    "plt.plot(decomposition_0_db5[1][1][18, 0:20])\n",
    "plt.plot(decomposition_1_db5[1][1][18, 0:20], linestyle=':')\n",
    "plt.savefig(\"db5_HL.svg\")\n",
    "plt.savefig(\"db5_HL.pdf\")\n",
    "plt.show()"
   ]
  },
  {
   "cell_type": "code",
   "execution_count": null,
   "metadata": {},
   "outputs": [],
   "source": [
    "plt.title(\"Coefs in HL (Biorthogonal 3.5)\")\n",
    "plt.plot(decomposition_0_bior35[1][1][18, 0:20])\n",
    "plt.plot(decomposition_1_bior35[1][1][18, 0:20], linestyle=':')\n",
    "plt.savefig(\"bior35_HL.svg\")\n",
    "plt.savefig(\"bior35_HL.pdf\")\n",
    "plt.show()"
   ]
  },
  {
   "cell_type": "code",
   "execution_count": null,
   "metadata": {},
   "outputs": [],
   "source": [
    "plt.title(\"Coefs in HH (Haar)\")\n",
    "plt.plot(decomposition_0_haar[1][2][18, 0:20])\n",
    "plt.plot(decomposition_1_haar[1][2][18, 0:20], linestyle=':')\n",
    "plt.savefig(\"haar_HH.svg\")\n",
    "plt.savefig(\"haar_HH.pdf\")\n",
    "plt.show()"
   ]
  },
  {
   "cell_type": "code",
   "execution_count": null,
   "metadata": {},
   "outputs": [],
   "source": [
    "plt.title(\"Coefs in HH (Daubechines 5)\")\n",
    "plt.plot(decomposition_0_db5[1][2][18, 0:20])\n",
    "plt.plot(decomposition_1_db5[1][2][18, 0:20], linestyle=':')\n",
    "plt.savefig(\"db5_HH.svg\")\n",
    "plt.savefig(\"db5_HH.pdf\")\n",
    "plt.show()"
   ]
  },
  {
   "cell_type": "code",
   "execution_count": null,
   "metadata": {},
   "outputs": [],
   "source": [
    "plt.title(\"Coefs in HH (Biorthogonal 3.5)\")\n",
    "plt.plot(decomposition_0_bior35[1][2][18, 0:20])\n",
    "plt.plot(decomposition_1_bior35[1][2][18, 0:20], linestyle=':')\n",
    "plt.savefig(\"bior35_HH.svg\")\n",
    "plt.savefig(\"bior35_HH.pdf\")\n",
    "plt.show()"
   ]
  }
 ],
 "metadata": {
  "kernelspec": {
   "display_name": "Python 3",
   "language": "python",
   "name": "python3"
  },
  "language_info": {
   "codemirror_mode": {
    "name": "ipython",
    "version": 3
   },
   "file_extension": ".py",
   "mimetype": "text/x-python",
   "name": "python",
   "nbconvert_exporter": "python",
   "pygments_lexer": "ipython3",
   "version": "3.9.1"
  }
 },
 "nbformat": 4,
 "nbformat_minor": 4
}

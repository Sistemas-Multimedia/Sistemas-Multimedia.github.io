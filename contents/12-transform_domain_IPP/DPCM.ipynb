{
 "cells": [
  {
   "cell_type": "markdown",
   "metadata": {},
   "source": [
    "# DPCM (Differential Pulse Code Modulation)\n",
    "\n",
    "```\n",
    "                                 ~             ~\n",
    "   F_k    +---+   E_k   +---+    E_k    +---+  E_k\n",
    "--------->| - |-------->| Q |-----+---->| E |----+\n",
    "          +---+         +---+     |     +---+    |\n",
    "            ^-                    |              |\n",
    "            |                     v              |\n",
    "            |                   +----+           |\n",
    "            |                   |Q^-1|           |\n",
    "            |                   +----+           |\n",
    "            |                     | ~            |\n",
    "            |       ^             v E_k          |\n",
    "            |       F_k         +---+            |\n",
    "            +-----------------> | + |            |\n",
    "            |                   +---+            |\n",
    "            |                     | ~            |\n",
    "            |       ~             v F_k          |\n",
    "          +---+     F_k-1       +----+           |\n",
    "          | P |<----------------|Z^-1|           |\n",
    "          +---+                 +----+           |\n",
    "+------------------------------------------------+\n",
    "|                ~             ~               ~\n",
    "|       +-----+  E_k   +----+  E_k  +---+      F_k\n",
    "+------>|E^-1 |------->|Q^-1|------>| + |----------+-----> \n",
    "        +-----+        +----+       +---+          |\n",
    "                                  ^   ^            |\n",
    "                                  F_k |            |\n",
    "                                      |   ~        v\n",
    "                                    +---+ F_k-1 +----+\n",
    "                                    | P |<------|Z^-1|\n",
    "                                    +---+       +----+\n",
    "```"
   ]
  },
  {
   "cell_type": "code",
   "execution_count": 2,
   "metadata": {},
   "outputs": [],
   "source": [
    "delta = 1 # Only using delta=1 the codec is lossless\n",
    "\n",
    "def Q(x):\n",
    "    k = int(round((x/delta)))\n",
    "    return k\n",
    "\n",
    "def iQ(k):\n",
    "    y = k*delta\n",
    "    return y\n",
    "\n",
    "def E(x):\n",
    "    return x\n",
    "\n",
    "def iE(x):\n",
    "    return x\n",
    "\n",
    "def P(x):\n",
    "    return x"
   ]
  },
  {
   "cell_type": "markdown",
   "metadata": {},
   "source": [
    "## Encoder"
   ]
  },
  {
   "cell_type": "code",
   "execution_count": 3,
   "metadata": {},
   "outputs": [
    {
     "name": "stdout",
     "output_type": "stream",
     "text": [
      "10 11 12 13 14 15 16 17 18 19 [10, 1, 1, 1, 1, 1, 1, 1, 1, 1]\n"
     ]
    }
   ],
   "source": [
    "codestream = []\n",
    "\n",
    "reconstructed_F_k_1 = 0\n",
    "#reconstructed_F_k_1 = np.zeros((alto, ancho, 3))\n",
    "for k in range(10):\n",
    "    F_k = k + 10 # The signal to encode\n",
    "    print(F_k, end=' ')\n",
    "    prediction_F_k = P(reconstructed_F_k_1)\n",
    "    E_k = F_k - prediction_F_k\n",
    "    quantized_E_k = Q(E_k)\n",
    "    dequantized_E_k = iQ(quantized_E_k)\n",
    "    reconstructed_F_k = dequantized_E_k + prediction_F_k\n",
    "    reconstructed_F_k_1 = reconstructed_F_k  # The Z^-1 delay is simulated \n",
    "                                             # using in the next iteration of the loop\n",
    "                                             # The current value for reconstructed_F_k\n",
    "    codestream.append(E(quantized_E_k))\n",
    "\n",
    "print(codestream)"
   ]
  },
  {
   "cell_type": "markdown",
   "metadata": {},
   "source": [
    "## Decoder"
   ]
  },
  {
   "cell_type": "code",
   "execution_count": 7,
   "metadata": {},
   "outputs": [
    {
     "name": "stdout",
     "output_type": "stream",
     "text": [
      "[10, 10, 12, 12, 14, 14, 16, 16, 18, 18]\n"
     ]
    }
   ],
   "source": [
    "reconstructed_data = []\n",
    "reconstructed_F_k_1 = 0\n",
    "for k in range(10):\n",
    "    prediction_F_k = P(reconstructed_F_k_1)\n",
    "    quantized_E_k = iE(codestream[k])\n",
    "    dequantized_E_k = iQ(quantized_E_k)\n",
    "    reconstructed_F_k = dequantized_E_k + prediction_F_k\n",
    "    reconstructed_F_k_1 = reconstructed_F_k\n",
    "    reconstructed_data.append(E(reconstructed_F_k))\n",
    "    \n",
    "print(reconstructed_data)"
   ]
  },
  {
   "cell_type": "code",
   "execution_count": null,
   "metadata": {},
   "outputs": [],
   "source": []
  }
 ],
 "metadata": {
  "kernelspec": {
   "display_name": "Python 3",
   "language": "python",
   "name": "python3"
  },
  "language_info": {
   "codemirror_mode": {
    "name": "ipython",
    "version": 3
   },
   "file_extension": ".py",
   "mimetype": "text/x-python",
   "name": "python",
   "nbconvert_exporter": "python",
   "pygments_lexer": "ipython3",
   "version": "3.8.5"
  }
 },
 "nbformat": 4,
 "nbformat_minor": 4
}

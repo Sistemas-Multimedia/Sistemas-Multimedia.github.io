{
 "cells": [
  {
   "cell_type": "markdown",
   "metadata": {
    "id": "Tce3stUlHN0L",
    "slideshow": {
     "slide_type": "slide"
    }
   },
   "source": [
    "##### Copyright 2022 The TensorFlow Compression Authors."
   ]
  },
  {
   "cell_type": "code",
   "execution_count": 1,
   "metadata": {
    "cellView": "form",
    "id": "tuOe1ymfHZPu"
   },
   "outputs": [],
   "source": [
    "#@title Licensed under the Apache License, Version 2.0 (the \"License\");\n",
    "# you may not use this file except in compliance with the License.\n",
    "# You may obtain a copy of the License at\n",
    "#\n",
    "# https://www.apache.org/licenses/LICENSE-2.0\n",
    "#\n",
    "# Unless required by applicable law or agreed to in writing, software\n",
    "# distributed under the License is distributed on an \"AS IS\" BASIS,\n",
    "# WITHOUT WARRANTIES OR CONDITIONS OF ANY KIND, either express or implied.\n",
    "# See the License for the specific language governing permissions and\n",
    "# limitations under the License."
   ]
  },
  {
   "cell_type": "markdown",
   "metadata": {
    "id": "qFdPvlXBOdUN"
   },
   "source": [
    "# Learned data compression"
   ]
  },
  {
   "cell_type": "markdown",
   "metadata": {
    "id": "MfBg1C5NB3X0"
   },
   "source": [
    "<table class=\"tfo-notebook-buttons\" align=\"left\">\n",
    "  <td>\n",
    "    <a target=\"_blank\" href=\"https://www.tensorflow.org/tutorials/generative/data_compression\">\n",
    "    <img src=\"https://www.tensorflow.org/images/tf_logo_32px.png\" />\n",
    "    View on TensorFlow.org</a>\n",
    "  </td>\n",
    "  <td>\n",
    "    <a target=\"_blank\" href=\"https://colab.research.google.com/github/tensorflow/docs/blob/master/site/en/tutorials/generative/data_compression.ipynb\">\n",
    "    <img src=\"https://www.tensorflow.org/images/colab_logo_32px.png\" />\n",
    "    Run in Google Colab</a>\n",
    "  </td>\n",
    "  <td>\n",
    "    <a target=\"_blank\" href=\"https://github.com/tensorflow/docs/blob/master/site/en/tutorials/generative/data_compression.ipynb\">\n",
    "    <img src=\"https://www.tensorflow.org/images/GitHub-Mark-32px.png\" />\n",
    "    View source on GitHub</a>\n",
    "  </td>\n",
    "  <td>\n",
    "    <a href=\"https://storage.googleapis.com/tensorflow_docs/docs/site/en/tutorials/generative/data_compression.ipynb\"><img src=\"https://www.tensorflow.org/images/download_logo_32px.png\" />Download notebook</a>\n",
    "  </td>\n",
    "</table>"
   ]
  },
  {
   "cell_type": "markdown",
   "metadata": {
    "id": "xHxb-dlhMIzW"
   },
   "source": [
    "## Overview\n",
    "\n",
    "This notebook shows how to do lossy data compression using neural networks and [TensorFlow Compression](https://github.com/tensorflow/compression).\n",
    "\n",
    "Lossy compression involves making a trade-off between **rate**, the expected number of bits needed to encode a sample, and **distortion**, the expected error in the reconstruction of the sample.\n",
    "\n",
    "The examples below use an autoencoder-like model to compress images from the MNIST dataset. The method is based on the paper [End-to-end Optimized Image Compression](https://arxiv.org/abs/1611.01704).\n",
    "\n",
    "More background on learned data compression can be found in [this paper](https://arxiv.org/abs/2007.03034) targeted at people familiar with classical data compression, or [this survey](https://arxiv.org/abs/2202.06533) targeted at a machine learning audience.\n"
   ]
  },
  {
   "cell_type": "markdown",
   "metadata": {
    "id": "MUXex9ctTuDB"
   },
   "source": [
    "## Setup\n",
    "\n",
    "Install Tensorflow Compression via `pip`."
   ]
  },
  {
   "cell_type": "code",
   "execution_count": 2,
   "metadata": {
    "colab": {
     "base_uri": "https://localhost:8080/"
    },
    "id": "K489KsEgxuLI",
    "outputId": "63b58bc2-ef66-4d32-9a05-6e88e48efc36"
   },
   "outputs": [
    {
     "name": "stdout",
     "output_type": "stream",
     "text": [
      "2 9\n",
      "Defaulting to user installation because normal site-packages is not writeable\n",
      "Requirement already satisfied: tensorflow-compression in /home/vruiz/.local/lib/python3.10/site-packages (2.9.2)\n",
      "Requirement already satisfied: scipy~=1.4 in /home/vruiz/.local/lib/python3.10/site-packages (from tensorflow-compression) (1.7.3)\n",
      "Requirement already satisfied: tensorflow~=2.9.0 in /home/vruiz/.local/lib/python3.10/site-packages (from tensorflow-compression) (2.9.1)\n",
      "Requirement already satisfied: tensorflow-probability~=0.15 in /home/vruiz/.local/lib/python3.10/site-packages (from tensorflow-compression) (0.17.0)\n",
      "Requirement already satisfied: numpy<1.23.0,>=1.16.5 in /home/vruiz/.local/lib/python3.10/site-packages (from scipy~=1.4->tensorflow-compression) (1.22.4)\n",
      "Requirement already satisfied: absl-py>=1.0.0 in /home/vruiz/.local/lib/python3.10/site-packages (from tensorflow~=2.9.0->tensorflow-compression) (1.2.0)\n",
      "Requirement already satisfied: astunparse>=1.6.0 in /home/vruiz/.local/lib/python3.10/site-packages (from tensorflow~=2.9.0->tensorflow-compression) (1.6.3)\n",
      "Requirement already satisfied: flatbuffers<2,>=1.12 in /home/vruiz/.local/lib/python3.10/site-packages (from tensorflow~=2.9.0->tensorflow-compression) (1.12)\n",
      "Requirement already satisfied: gast<=0.4.0,>=0.2.1 in /home/vruiz/.local/lib/python3.10/site-packages (from tensorflow~=2.9.0->tensorflow-compression) (0.4.0)\n",
      "Requirement already satisfied: google-pasta>=0.1.1 in /home/vruiz/.local/lib/python3.10/site-packages (from tensorflow~=2.9.0->tensorflow-compression) (0.2.0)\n",
      "Requirement already satisfied: grpcio<2.0,>=1.24.3 in /home/vruiz/.local/lib/python3.10/site-packages (from tensorflow~=2.9.0->tensorflow-compression) (1.47.0)\n",
      "Requirement already satisfied: h5py>=2.9.0 in /home/vruiz/.local/lib/python3.10/site-packages (from tensorflow~=2.9.0->tensorflow-compression) (3.7.0)\n",
      "Requirement already satisfied: keras<2.10.0,>=2.9.0rc0 in /home/vruiz/.local/lib/python3.10/site-packages (from tensorflow~=2.9.0->tensorflow-compression) (2.9.0)\n",
      "Requirement already satisfied: keras-preprocessing>=1.1.1 in /home/vruiz/.local/lib/python3.10/site-packages (from tensorflow~=2.9.0->tensorflow-compression) (1.1.2)\n",
      "Requirement already satisfied: libclang>=13.0.0 in /home/vruiz/.local/lib/python3.10/site-packages (from tensorflow~=2.9.0->tensorflow-compression) (14.0.6)\n",
      "Requirement already satisfied: opt-einsum>=2.3.2 in /home/vruiz/.local/lib/python3.10/site-packages (from tensorflow~=2.9.0->tensorflow-compression) (3.3.0)\n",
      "Requirement already satisfied: packaging in /usr/lib/python3.10/site-packages (from tensorflow~=2.9.0->tensorflow-compression) (21.3)\n",
      "Requirement already satisfied: protobuf<3.20,>=3.9.2 in /home/vruiz/.local/lib/python3.10/site-packages (from tensorflow~=2.9.0->tensorflow-compression) (3.19.4)\n",
      "Requirement already satisfied: setuptools in /usr/lib/python3.10/site-packages (from tensorflow~=2.9.0->tensorflow-compression) (61.3.1)\n",
      "Requirement already satisfied: six>=1.12.0 in /usr/lib/python3.10/site-packages (from tensorflow~=2.9.0->tensorflow-compression) (1.16.0)\n",
      "Requirement already satisfied: tensorboard<2.10,>=2.9 in /home/vruiz/.local/lib/python3.10/site-packages (from tensorflow~=2.9.0->tensorflow-compression) (2.9.1)\n",
      "Requirement already satisfied: tensorflow-io-gcs-filesystem>=0.23.1 in /home/vruiz/.local/lib/python3.10/site-packages (from tensorflow~=2.9.0->tensorflow-compression) (0.26.0)\n",
      "Requirement already satisfied: tensorflow-estimator<2.10.0,>=2.9.0rc0 in /home/vruiz/.local/lib/python3.10/site-packages (from tensorflow~=2.9.0->tensorflow-compression) (2.9.0)\n",
      "Requirement already satisfied: termcolor>=1.1.0 in /home/vruiz/.local/lib/python3.10/site-packages (from tensorflow~=2.9.0->tensorflow-compression) (1.1.0)\n",
      "Requirement already satisfied: typing-extensions>=3.6.6 in /home/vruiz/.local/lib/python3.10/site-packages (from tensorflow~=2.9.0->tensorflow-compression) (4.0.1)\n",
      "Requirement already satisfied: wrapt>=1.11.0 in /home/vruiz/.local/lib/python3.10/site-packages (from tensorflow~=2.9.0->tensorflow-compression) (1.14.1)\n",
      "Requirement already satisfied: decorator in /home/vruiz/.local/lib/python3.10/site-packages (from tensorflow-probability~=0.15->tensorflow-compression) (5.1.1)\n",
      "Requirement already satisfied: cloudpickle>=1.3 in /home/vruiz/.local/lib/python3.10/site-packages (from tensorflow-probability~=0.15->tensorflow-compression) (2.1.0)\n",
      "Requirement already satisfied: dm-tree in /home/vruiz/.local/lib/python3.10/site-packages (from tensorflow-probability~=0.15->tensorflow-compression) (0.1.7)\n",
      "Requirement already satisfied: wheel<1.0,>=0.23.0 in /home/vruiz/.local/lib/python3.10/site-packages (from astunparse>=1.6.0->tensorflow~=2.9.0->tensorflow-compression) (0.37.1)\n",
      "Requirement already satisfied: google-auth<3,>=1.6.3 in /home/vruiz/.local/lib/python3.10/site-packages (from tensorboard<2.10,>=2.9->tensorflow~=2.9.0->tensorflow-compression) (2.11.0)\n",
      "Requirement already satisfied: google-auth-oauthlib<0.5,>=0.4.1 in /home/vruiz/.local/lib/python3.10/site-packages (from tensorboard<2.10,>=2.9->tensorflow~=2.9.0->tensorflow-compression) (0.4.6)\n",
      "Requirement already satisfied: markdown>=2.6.8 in /usr/lib/python3.10/site-packages (from tensorboard<2.10,>=2.9->tensorflow~=2.9.0->tensorflow-compression) (3.4.1)\n",
      "Requirement already satisfied: requests<3,>=2.21.0 in /usr/lib/python3.10/site-packages (from tensorboard<2.10,>=2.9->tensorflow~=2.9.0->tensorflow-compression) (2.28.1)\n",
      "Requirement already satisfied: tensorboard-data-server<0.7.0,>=0.6.0 in /home/vruiz/.local/lib/python3.10/site-packages (from tensorboard<2.10,>=2.9->tensorflow~=2.9.0->tensorflow-compression) (0.6.1)\n",
      "Requirement already satisfied: tensorboard-plugin-wit>=1.6.0 in /home/vruiz/.local/lib/python3.10/site-packages (from tensorboard<2.10,>=2.9->tensorflow~=2.9.0->tensorflow-compression) (1.8.1)\n",
      "Requirement already satisfied: werkzeug>=1.0.1 in /home/vruiz/.local/lib/python3.10/site-packages (from tensorboard<2.10,>=2.9->tensorflow~=2.9.0->tensorflow-compression) (2.2.2)\n",
      "Requirement already satisfied: pyparsing!=3.0.5,>=2.0.2 in /usr/lib/python3.10/site-packages (from packaging->tensorflow~=2.9.0->tensorflow-compression) (3.0.9)\n",
      "Requirement already satisfied: cachetools<6.0,>=2.0.0 in /home/vruiz/.local/lib/python3.10/site-packages (from google-auth<3,>=1.6.3->tensorboard<2.10,>=2.9->tensorflow~=2.9.0->tensorflow-compression) (5.2.0)\n",
      "Requirement already satisfied: pyasn1-modules>=0.2.1 in /home/vruiz/.local/lib/python3.10/site-packages (from google-auth<3,>=1.6.3->tensorboard<2.10,>=2.9->tensorflow~=2.9.0->tensorflow-compression) (0.2.8)\n",
      "Requirement already satisfied: rsa<5,>=3.1.4 in /home/vruiz/.local/lib/python3.10/site-packages (from google-auth<3,>=1.6.3->tensorboard<2.10,>=2.9->tensorflow~=2.9.0->tensorflow-compression) (4.9)\n",
      "Requirement already satisfied: requests-oauthlib>=0.7.0 in /home/vruiz/.local/lib/python3.10/site-packages (from google-auth-oauthlib<0.5,>=0.4.1->tensorboard<2.10,>=2.9->tensorflow~=2.9.0->tensorflow-compression) (1.3.1)\n",
      "Requirement already satisfied: idna<4,>=2.5 in /usr/lib/python3.10/site-packages (from requests<3,>=2.21.0->tensorboard<2.10,>=2.9->tensorflow~=2.9.0->tensorflow-compression) (3.3)\n",
      "Requirement already satisfied: urllib3<1.27,>=1.21.1 in /usr/lib/python3.10/site-packages (from requests<3,>=2.21.0->tensorboard<2.10,>=2.9->tensorflow~=2.9.0->tensorflow-compression) (1.26.11)\n",
      "Requirement already satisfied: MarkupSafe>=2.1.1 in /home/vruiz/.local/lib/python3.10/site-packages (from werkzeug>=1.0.1->tensorboard<2.10,>=2.9->tensorflow~=2.9.0->tensorflow-compression) (2.1.1)\n",
      "Requirement already satisfied: pyasn1<0.5.0,>=0.4.6 in /home/vruiz/.local/lib/python3.10/site-packages (from pyasn1-modules>=0.2.1->google-auth<3,>=1.6.3->tensorboard<2.10,>=2.9->tensorflow~=2.9.0->tensorflow-compression) (0.4.8)\n",
      "Requirement already satisfied: oauthlib>=3.0.0 in /home/vruiz/.local/lib/python3.10/site-packages (from requests-oauthlib>=0.7.0->google-auth-oauthlib<0.5,>=0.4.1->tensorboard<2.10,>=2.9->tensorflow~=2.9.0->tensorflow-compression) (3.2.0)\n",
      "Name: tensorflow\n",
      "Version: 2.9.1\n",
      "Summary: TensorFlow is an open source machine learning framework for everyone.\n",
      "Home-page: https://www.tensorflow.org/\n"
     ]
    },
    {
     "name": "stdout",
     "output_type": "stream",
     "text": [
      "Author: Google Inc.\n",
      "Author-email: packages@tensorflow.org\n",
      "License: Apache 2.0\n",
      "Location: /home/vruiz/.local/lib/python3.10/site-packages\n",
      "Requires: absl-py, astunparse, flatbuffers, gast, google-pasta, grpcio, h5py, keras, keras-preprocessing, libclang, numpy, opt-einsum, packaging, protobuf, setuptools, six, tensorboard, tensorflow-estimator, tensorflow-io-gcs-filesystem, termcolor, typing-extensions, wrapt\n",
      "Required-by: tensorflow-compression\n"
     ]
    }
   ],
   "source": [
    "%%bash\n",
    "# Installs the latest version of TFC compatible with the installed TF version.\n",
    "\n",
    "read MAJOR MINOR <<< \"$(pip show tensorflow | perl -p -0777 -e 's/.*Version: (\\d+)\\.(\\d+).*/\\1 \\2/sg')\"\n",
    "#pip install \"tensorflow-compression<$MAJOR.$(($MINOR+1))\"\n",
    "echo $MAJOR $MINOR\n",
    "#pip install tensorflow-compression==2.9.1\n",
    "pip install tensorflow-compression\n",
    "pip show tensorflow"
   ]
  },
  {
   "cell_type": "markdown",
   "metadata": {
    "id": "WfVAmHCVxpTS"
   },
   "source": [
    "Import library dependencies."
   ]
  },
  {
   "cell_type": "code",
   "execution_count": 3,
   "metadata": {
    "colab": {
     "base_uri": "https://localhost:8080/"
    },
    "id": "z5aMtrGWGiG5",
    "outputId": "9b78371e-766d-453d-9c22-138b2d1f7cea"
   },
   "outputs": [
    {
     "name": "stdout",
     "output_type": "stream",
     "text": [
      "Defaulting to user installation because normal site-packages is not writeable\n",
      "Requirement already satisfied: tensorflow-datasets in /home/vruiz/.local/lib/python3.10/site-packages (4.6.0)\n",
      "Requirement already satisfied: absl-py in /home/vruiz/.local/lib/python3.10/site-packages (from tensorflow-datasets) (1.2.0)\n",
      "Requirement already satisfied: dill in /home/vruiz/.local/lib/python3.10/site-packages (from tensorflow-datasets) (0.3.5.1)\n",
      "Requirement already satisfied: etils[epath] in /home/vruiz/.local/lib/python3.10/site-packages (from tensorflow-datasets) (0.7.1)\n",
      "Requirement already satisfied: numpy in /home/vruiz/.local/lib/python3.10/site-packages (from tensorflow-datasets) (1.22.4)\n",
      "Requirement already satisfied: promise in /home/vruiz/.local/lib/python3.10/site-packages (from tensorflow-datasets) (2.3)\n",
      "Requirement already satisfied: protobuf>=3.12.2 in /home/vruiz/.local/lib/python3.10/site-packages (from tensorflow-datasets) (3.19.4)\n",
      "Requirement already satisfied: requests>=2.19.0 in /usr/lib/python3.10/site-packages (from tensorflow-datasets) (2.28.1)\n",
      "Requirement already satisfied: six in /usr/lib/python3.10/site-packages (from tensorflow-datasets) (1.16.0)\n",
      "Requirement already satisfied: tensorflow-metadata in /home/vruiz/.local/lib/python3.10/site-packages (from tensorflow-datasets) (1.10.0)\n",
      "Requirement already satisfied: termcolor in /home/vruiz/.local/lib/python3.10/site-packages (from tensorflow-datasets) (1.1.0)\n",
      "Requirement already satisfied: toml in /usr/lib/python3.10/site-packages (from tensorflow-datasets) (0.10.2)\n",
      "Requirement already satisfied: tqdm in /home/vruiz/.local/lib/python3.10/site-packages (from tensorflow-datasets) (4.64.0)\n",
      "Requirement already satisfied: idna<4,>=2.5 in /usr/lib/python3.10/site-packages (from requests>=2.19.0->tensorflow-datasets) (3.3)\n",
      "Requirement already satisfied: urllib3<1.27,>=1.21.1 in /usr/lib/python3.10/site-packages (from requests>=2.19.0->tensorflow-datasets) (1.26.11)\n",
      "Requirement already satisfied: importlib_resources in /home/vruiz/.local/lib/python3.10/site-packages (from etils[epath]->tensorflow-datasets) (5.9.0)\n",
      "Requirement already satisfied: typing_extensions in /home/vruiz/.local/lib/python3.10/site-packages (from etils[epath]->tensorflow-datasets) (4.0.1)\n",
      "Requirement already satisfied: zipp in /usr/lib/python3.10/site-packages (from etils[epath]->tensorflow-datasets) (3.8.1)\n",
      "Requirement already satisfied: googleapis-common-protos<2,>=1.52.0 in /home/vruiz/.local/lib/python3.10/site-packages (from tensorflow-metadata->tensorflow-datasets) (1.56.4)\n"
     ]
    }
   ],
   "source": [
    "#!pip install tensorflow-compression==2.9.2\n",
    "#!pip install tensorflow-compression\n",
    "!pip install tensorflow-datasets"
   ]
  },
  {
   "cell_type": "code",
   "execution_count": 4,
   "metadata": {
    "id": "IqR2PQG4ZaZ0"
   },
   "outputs": [
    {
     "name": "stderr",
     "output_type": "stream",
     "text": [
      "2022-09-11 08:44:31.547219: W tensorflow/stream_executor/platform/default/dso_loader.cc:64] Could not load dynamic library 'libcudart.so.11.0'; dlerror: libcudart.so.11.0: cannot open shared object file: No such file or directory\n",
      "2022-09-11 08:44:31.547246: I tensorflow/stream_executor/cuda/cudart_stub.cc:29] Ignore above cudart dlerror if you do not have a GPU set up on your machine.\n"
     ]
    }
   ],
   "source": [
    "import matplotlib.pyplot as plt\n",
    "import tensorflow as tf\n",
    "import tensorflow_compression as tfc\n",
    "import tensorflow_datasets as tfds"
   ]
  },
  {
   "cell_type": "markdown",
   "metadata": {
    "id": "wsncKT2iymgQ"
   },
   "source": [
    "## Define the trainer model.\n",
    "\n",
    "Because the model resembles an autoencoder, and we need to perform a different set of functions during training and inference, the setup is a little different from, say, a classifier.\n",
    "\n",
    "The training model consists of three parts:\n",
    "- the **analysis** (or encoder) transform, converting from the image into a latent space,\n",
    "- the **synthesis** (or decoder) transform, converting from the latent space back into image space, and\n",
    "- a **prior** and entropy model, modeling the marginal probabilities of the latents.\n",
    "\n",
    "First, define the transforms:"
   ]
  },
  {
   "cell_type": "code",
   "execution_count": 5,
   "metadata": {
    "id": "8yZESLgW-vp1"
   },
   "outputs": [],
   "source": [
    "def make_analysis_transform(latent_dims):\n",
    "  \"\"\"Creates the analysis (encoder) transform.\"\"\"\n",
    "  return tf.keras.Sequential([\n",
    "      tf.keras.layers.Conv2D(\n",
    "          20, 5, use_bias=True, strides=2, padding=\"same\",\n",
    "          activation=\"leaky_relu\", name=\"conv_1\"),\n",
    "      tf.keras.layers.Conv2D(\n",
    "          50, 5, use_bias=True, strides=2, padding=\"same\",\n",
    "          activation=\"leaky_relu\", name=\"conv_2\"),\n",
    "      tf.keras.layers.Flatten(),\n",
    "      tf.keras.layers.Dense(\n",
    "          500, use_bias=True, activation=\"leaky_relu\", name=\"fc_1\"),\n",
    "      tf.keras.layers.Dense(\n",
    "          latent_dims, use_bias=True, activation=None, name=\"fc_2\"),\n",
    "  ], name=\"analysis_transform\")\n"
   ]
  },
  {
   "cell_type": "code",
   "execution_count": 6,
   "metadata": {
    "id": "2sHdYBzF2xcu"
   },
   "outputs": [],
   "source": [
    "def make_synthesis_transform():\n",
    "  \"\"\"Creates the synthesis (decoder) transform.\"\"\"\n",
    "  return tf.keras.Sequential([\n",
    "      tf.keras.layers.Dense(\n",
    "          500, use_bias=True, activation=\"leaky_relu\", name=\"fc_1\"),\n",
    "      tf.keras.layers.Dense(\n",
    "          2450, use_bias=True, activation=\"leaky_relu\", name=\"fc_2\"),\n",
    "      tf.keras.layers.Reshape((7, 7, 50)),\n",
    "      tf.keras.layers.Conv2DTranspose(\n",
    "          20, 5, use_bias=True, strides=2, padding=\"same\",\n",
    "          activation=\"leaky_relu\", name=\"conv_1\"),\n",
    "      tf.keras.layers.Conv2DTranspose(\n",
    "          1, 5, use_bias=True, strides=2, padding=\"same\",\n",
    "          activation=\"leaky_relu\", name=\"conv_2\"),\n",
    "  ], name=\"synthesis_transform\")\n"
   ]
  },
  {
   "cell_type": "markdown",
   "metadata": {
    "id": "lYC8tHhkxTlK"
   },
   "source": [
    "The trainer holds an instance of both transforms, as well as the parameters of the prior.\n",
    "\n",
    "Its `call` method is set up to compute:\n",
    "- **rate**, an estimate of the number of bits needed to represent the batch of digits, and\n",
    "- **distortion**, the mean absolute difference between the pixels of the original digits and their reconstructions.\n"
   ]
  },
  {
   "cell_type": "code",
   "execution_count": 26,
   "metadata": {
    "id": "ROn2DbzsBirI"
   },
   "outputs": [],
   "source": [
    "class MNISTCompressionTrainer(tf.keras.Model):\n",
    "  \"\"\"Model that trains a compressor/decompressor for MNIST.\"\"\"\n",
    "\n",
    "  def __init__(self, latent_dims):\n",
    "    super().__init__()\n",
    "    self.analysis_transform = make_analysis_transform(latent_dims)\n",
    "    self.synthesis_transform = make_synthesis_transform()\n",
    "    self.prior_log_scales = tf.Variable(tf.zeros((latent_dims,)))\n",
    "\n",
    "  @property\n",
    "  def prior(self):\n",
    "    return tfc.NoisyLogistic(loc=0., scale=tf.exp(self.prior_log_scales))\n",
    "\n",
    "  def call(self, x, training):\n",
    "    \"\"\"Computes rate and distortion losses.\"\"\"\n",
    "    # Ensure inputs are floats in the range (0, 1).\n",
    "    print(\"max x=\", tf.reduce_max(x))\n",
    "    x = tf.cast(x, self.compute_dtype) / 255.\n",
    "    x = tf.reshape(x, (-1, 28, 28, 1))\n",
    "\n",
    "    # Compute latent space representation y, perturb it and model its entropy,\n",
    "    # then compute the reconstructed pixel-level representation x_hat.\n",
    "    y = self.analysis_transform(x)\n",
    "    entropy_model = tfc.ContinuousBatchedEntropyModel(\n",
    "        self.prior, coding_rank=1, compression=False)\n",
    "    y_tilde, rate = entropy_model(y, training=training)\n",
    "    x_tilde = self.synthesis_transform(y_tilde)\n",
    "\n",
    "    # Average number of bits per MNIST digit.\n",
    "    rate = tf.reduce_mean(rate)\n",
    "\n",
    "    # Mean absolute difference across pixels.\n",
    "    distortion = tf.reduce_mean(abs(x - x_tilde))\n",
    "\n",
    "    return dict(rate=rate, distortion=distortion)\n"
   ]
  },
  {
   "cell_type": "markdown",
   "metadata": {
    "id": "vEXbp9RV3kRX"
   },
   "source": [
    "### Compute rate and distortion.\n",
    "\n",
    "Let's walk through this step by step, using one image from the training set. Load the MNIST dataset for training and validation:"
   ]
  },
  {
   "cell_type": "code",
   "execution_count": 18,
   "metadata": {
    "id": "7FV99WTrIBen"
   },
   "outputs": [],
   "source": [
    "training_dataset, validation_dataset = tfds.load(\n",
    "    \"mnist\",\n",
    "    split=[\"train\", \"test\"],\n",
    "    shuffle_files=True,\n",
    "    as_supervised=True,\n",
    "    with_info=False,\n",
    ")\n"
   ]
  },
  {
   "cell_type": "markdown",
   "metadata": {
    "id": "SwKgNTg_QfjH"
   },
   "source": [
    "And extract one image $x$:"
   ]
  },
  {
   "cell_type": "code",
   "execution_count": 19,
   "metadata": {
    "colab": {
     "base_uri": "https://localhost:8080/",
     "height": 300
    },
    "id": "O-BSdeHcPBBf",
    "outputId": "eb064cf2-5a61-4562-a14c-299d258c3f24"
   },
   "outputs": [
    {
     "name": "stdout",
     "output_type": "stream",
     "text": [
      "Data type: <dtype: 'uint8'>\n",
      "Shape: (28, 28, 1)\n"
     ]
    },
    {
     "data": {
      "image/png": "[encoded data removed]",
      "text/plain": [
       "<Figure size 432x288 with 1 Axes>"
      ]
     },
     "metadata": {
      "needs_background": "light"
     },
     "output_type": "display_data"
    }
   ],
   "source": [
    "(x, _), = validation_dataset.take(1)\n",
    "\n",
    "plt.imshow(tf.squeeze(x))\n",
    "print(f\"Data type: {x.dtype}\")\n",
    "print(f\"Shape: {x.shape}\")\n"
   ]
  },
  {
   "cell_type": "markdown",
   "metadata": {
    "id": "V8IvuFkrRJIa"
   },
   "source": [
    "To get the latent representation $y$, we need to cast it to `float32`, add a batch dimension, and pass it through the analysis transform."
   ]
  },
  {
   "cell_type": "code",
   "execution_count": 20,
   "metadata": {
    "colab": {
     "base_uri": "https://localhost:8080/",
     "height": 471
    },
    "id": "jA0DOWq23lEq",
    "outputId": "74a882b3-bf4e-4c3c-b71a-d1100125f36f"
   },
   "outputs": [
    {
     "name": "stdout",
     "output_type": "stream",
     "text": [
      "y: tf.Tensor(\n",
      "[[-0.02840504 -0.04119955 -0.04210841 -0.03271829  0.00132376 -0.04419265\n",
      "   0.02028509  0.01059959  0.03593946  0.09593395]], shape=(1, 10), dtype=float32)\n"
     ]
    }
   ],
   "source": [
    "x = tf.cast(x, tf.float32) / 255.\n",
    "x = tf.reshape(x, (-1, 28, 28, 1))\n",
    "y = make_analysis_transform(10)(x)\n",
    "\n",
    "print(\"y:\", y)\n"
   ]
  },
  {
   "cell_type": "markdown",
   "metadata": {
    "id": "rTojJQvZT8SX"
   },
   "source": [
    "The latents will be quantized at test time. To model this in a differentiable way during training, we add uniform noise in the interval $(-.5, .5)$ and call the result $\\tilde y$. This is the same terminology as used in the paper [End-to-end Optimized Image Compression](https://arxiv.org/abs/1611.01704)."
   ]
  },
  {
   "cell_type": "code",
   "execution_count": 21,
   "metadata": {
    "colab": {
     "base_uri": "https://localhost:8080/"
    },
    "id": "Spr3503OUOFQ",
    "outputId": "3a890482-e18c-4c35-9dce-d26e48b83250"
   },
   "outputs": [
    {
     "name": "stdout",
     "output_type": "stream",
     "text": [
      "y_tilde: tf.Tensor(\n",
      "[[ 0.37832287 -0.15571068  0.23180544 -0.30072856 -0.39404052 -0.4750218\n",
      "  -0.16402023  0.10009096  0.11313988 -0.10064002]], shape=(1, 10), dtype=float32) (1, 10)\n"
     ]
    }
   ],
   "source": [
    "y_tilde = y + tf.random.uniform(y.shape, -.5, .5)\n",
    "\n",
    "\n",
    "print(\"y_tilde:\", y_tilde, y.shape)\n"
   ]
  },
  {
   "cell_type": "markdown",
   "metadata": {
    "id": "7hRN89R7SA3U"
   },
   "source": [
    "The \"prior\" is a probability density that we train to model the marginal distribution of the noisy latents. For example, it could be a set of independent [logistic distributions](https://en.wikipedia.org/wiki/Logistic_distribution) with different scales for each latent dimension. `tfc.NoisyLogistic` accounts for the fact that the latents have additive noise. As the scale approaches zero, a logistic distribution approaches a dirac delta (spike), but the added noise causes the \"noisy\" distribution to approach the uniform distribution instead."
   ]
  },
  {
   "cell_type": "code",
   "execution_count": 22,
   "metadata": {
    "colab": {
     "base_uri": "https://localhost:8080/",
     "height": 265
    },
    "id": "2tmA1Bw7ReMY",
    "outputId": "969cb965-7a5b-408d-bf22-8747575d3e4c"
   },
   "outputs": [
    {
     "data": {
      "image/png": "[encoded data removed]",
      "text/plain": [
       "<Figure size 432x288 with 1 Axes>"
      ]
     },
     "metadata": {
      "needs_background": "light"
     },
     "output_type": "display_data"
    }
   ],
   "source": [
    "prior = tfc.NoisyLogistic(loc=0., scale=tf.linspace(.01, 2., 10))\n",
    "\n",
    "_ = tf.linspace(-6., 6., 501)[:, None]\n",
    "plt.plot(_, prior.prob(_));\n"
   ]
  },
  {
   "cell_type": "markdown",
   "metadata": {
    "id": "2NSWtBZmUvVY"
   },
   "source": [
    "During training, `tfc.ContinuousBatchedEntropyModel` adds uniform noise, and uses the noise and the prior to compute a (differentiable) upper bound on the rate (the average number of bits necessary to encode the latent representation). That bound can be minimized as a loss."
   ]
  },
  {
   "cell_type": "code",
   "execution_count": 23,
   "metadata": {
    "colab": {
     "base_uri": "https://localhost:8080/"
    },
    "id": "hFuGlyJuThBC",
    "outputId": "e60ca657-d477-465c-fc27-edd695d67ba0"
   },
   "outputs": [
    {
     "name": "stdout",
     "output_type": "stream",
     "text": [
      "rate: tf.Tensor([18.614943], shape=(1,), dtype=float32)\n",
      "y_tilde: tf.Tensor(\n",
      "[[ 0.37222663 -0.49455595  0.10139049 -0.05391251 -0.29979676  0.14181331\n",
      "  -0.35504034 -0.30040756 -0.2919668   0.31878057]], shape=(1, 10), dtype=float32)\n"
     ]
    }
   ],
   "source": [
    "entropy_model = tfc.ContinuousBatchedEntropyModel(\n",
    "    prior, coding_rank=1, compression=False)\n",
    "y_tilde, rate = entropy_model(y, training=True)\n",
    "\n",
    "print(\"rate:\", rate)\n",
    "print(\"y_tilde:\", y_tilde)\n"
   ]
  },
  {
   "cell_type": "markdown",
   "metadata": {
    "id": "Cyr8DGgmWd32"
   },
   "source": [
    "Lastly, the noisy latents are passed back through the synthesis transform to produce an image reconstruction $\\tilde x$. Distortion is the error between original image and reconstruction. Obviously, with the transforms untrained, the reconstruction is not very useful."
   ]
  },
  {
   "cell_type": "code",
   "execution_count": 24,
   "metadata": {
    "colab": {
     "base_uri": "https://localhost:8080/",
     "height": 317
    },
    "id": "gtmI0xGEVym0",
    "outputId": "5c62a222-e186-4a5f-b9ca-090d18c4e12a"
   },
   "outputs": [
    {
     "name": "stdout",
     "output_type": "stream",
     "text": [
      "distortion: tf.Tensor(0.17093156, shape=(), dtype=float32)\n",
      "Data type: <dtype: 'uint8'>\n",
      "Shape: (28, 28, 1)\n"
     ]
    },
    {
     "data": {
      "image/png": "[encoded data removed]",
      "text/plain": [
       "<Figure size 432x288 with 1 Axes>"
      ]
     },
     "metadata": {
      "needs_background": "light"
     },
     "output_type": "display_data"
    }
   ],
   "source": [
    "x_tilde = make_synthesis_transform()(y_tilde)\n",
    "\n",
    "# Mean absolute difference across pixels.\n",
    "distortion = tf.reduce_mean(abs(x - x_tilde))\n",
    "print(\"distortion:\", distortion)\n",
    "\n",
    "x_tilde = tf.saturate_cast(x_tilde[0] * 255, tf.uint8)\n",
    "plt.imshow(tf.squeeze(x_tilde))\n",
    "print(f\"Data type: {x_tilde.dtype}\")\n",
    "print(f\"Shape: {x_tilde.shape}\")\n"
   ]
  },
  {
   "cell_type": "markdown",
   "metadata": {
    "id": "UVz3I7E8ecij"
   },
   "source": [
    "For every batch of digits, calling the `MNISTCompressionTrainer` produces the rate and distortion as an average over that batch:\n"
   ]
  },
  {
   "cell_type": "code",
   "execution_count": 27,
   "metadata": {
    "colab": {
     "base_uri": "https://localhost:8080/"
    },
    "id": "ICJnjj1LeB8L",
    "outputId": "d117af87-dcdf-412d-baef-04c35a1ef53a"
   },
   "outputs": [
    {
     "name": "stdout",
     "output_type": "stream",
     "text": [
      "max x= tf.Tensor(255, shape=(), dtype=uint8)\n",
      "Autoencoder.call.max(y)= tf.Tensor(0.15940017, shape=(), dtype=float32)\n",
      "Autoencoder.call.max(x_tilde)= tf.Tensor(0.0, shape=(), dtype=float32)\n",
      "rate:  tf.Tensor(20.296253, shape=(), dtype=float32)\n",
      "distortion:  tf.Tensor(0.14659302, shape=(), dtype=float32)\n"
     ]
    }
   ],
   "source": [
    "(example_batch, _), = validation_dataset.batch(32).take(1)\n",
    "trainer = MNISTCompressionTrainer(10)\n",
    "example_output = trainer(example_batch)\n",
    "\n",
    "print(\"rate: \", example_output[\"rate\"])\n",
    "print(\"distortion: \", example_output[\"distortion\"])\n"
   ]
  },
  {
   "cell_type": "markdown",
   "metadata": {
    "id": "lgdfRtmee5Mn"
   },
   "source": [
    "In the next section, we set up the model to do gradient descent on these two losses."
   ]
  },
  {
   "cell_type": "markdown",
   "metadata": {
    "id": "fKGVwv5MAq6w"
   },
   "source": [
    "## Train the model.\n",
    "\n",
    "We compile the trainer in a way that it optimizes the rate–distortion Lagrangian, that is, a sum of rate and distortion, where one of the terms is weighted by Lagrange parameter $\\lambda$.\n",
    "\n",
    "This loss function affects the different parts of the model differently:\n",
    "- The analysis transform is trained to produce a latent representation that achieves the desired trade-off between rate and distortion.\n",
    "- The synthesis transform is trained to minimize distortion, given the latent representation.\n",
    "- The parameters of the prior are trained to minimize the rate given the latent representation. This is identical to fitting the prior to the marginal distribution of latents in a maximum likelihood sense."
   ]
  },
  {
   "cell_type": "code",
   "execution_count": 28,
   "metadata": {
    "id": "k5mm1aDkcgAf"
   },
   "outputs": [],
   "source": [
    "def pass_through_loss(_, x):\n",
    "  # Since rate and distortion are unsupervised, the loss doesn't need a target.\n",
    "  return x\n",
    "\n",
    "def make_mnist_compression_trainer(lmbda, latent_dims=50):\n",
    "  trainer = MNISTCompressionTrainer(latent_dims)\n",
    "  trainer.compile(\n",
    "    optimizer=tf.keras.optimizers.Adam(learning_rate=1e-3),\n",
    "    # Just pass through rate and distortion as losses/metrics.\n",
    "    loss=dict(rate=pass_through_loss, distortion=pass_through_loss),\n",
    "    metrics=dict(rate=pass_through_loss, distortion=pass_through_loss),\n",
    "    loss_weights=dict(rate=1., distortion=lmbda),\n",
    "  )\n",
    "  return trainer\n"
   ]
  },
  {
   "cell_type": "markdown",
   "metadata": {
    "id": "DPwd4DTs3Mfr"
   },
   "source": [
    "Next, train the model. The human annotations are not necessary here, since we just want to compress the images, so we drop them using a `map` and instead add \"dummy\" targets for rate and distortion."
   ]
  },
  {
   "cell_type": "code",
   "execution_count": 29,
   "metadata": {
    "colab": {
     "base_uri": "https://localhost:8080/"
    },
    "id": "QNBpCTgzAV7M",
    "outputId": "b8a81f13-bf5c-4ac4-bbd3-7ad4087b4c30"
   },
   "outputs": [
    {
     "name": "stdout",
     "output_type": "stream",
     "text": [
      "Epoch 1/15\n",
      "max x= Tensor(\"mnist_compression_trainer_3/Max:0\", shape=(), dtype=uint8)\n",
      "Autoencoder.call.max(y)= Tensor(\"mnist_compression_trainer_3/Max_1:0\", shape=(), dtype=float32)\n",
      "Autoencoder.call.max(x_tilde)= Tensor(\"mnist_compression_trainer_3/Max_2:0\", shape=(), dtype=float32)\n",
      "max x= Tensor(\"mnist_compression_trainer_3/Max:0\", shape=(), dtype=uint8)\n",
      "Autoencoder.call.max(y)= Tensor(\"mnist_compression_trainer_3/Max_1:0\", shape=(), dtype=float32)\n",
      "Autoencoder.call.max(x_tilde)= Tensor(\"mnist_compression_trainer_3/Max_2:0\", shape=(), dtype=float32)\n",
      "468/469 [============================>.] - ETA: 0s - loss: 218.4872 - distortion_loss: 0.0593 - rate_loss: 99.9605 - distortion_pass_through_loss: 0.0593 - rate_pass_through_loss: 99.9605"
     ]
    },
    {
     "name": "stderr",
     "output_type": "stream",
     "text": [
      "WARNING:absl:Computing quantization offsets using offset heuristic within a tf.function. Ideally, the offset heuristic should only be used to determine offsets once after training. Depending on the prior, estimating the offset might be computationally expensive.\n"
     ]
    },
    {
     "name": "stdout",
     "output_type": "stream",
     "text": [
      "max x= Tensor(\"mnist_compression_trainer_3/Max:0\", shape=(), dtype=uint8)\n",
      "Autoencoder.call.max(y)= Tensor(\"mnist_compression_trainer_3/Max_1:0\", shape=(), dtype=float32)\n",
      "Autoencoder.call.max(x_tilde)= Tensor(\"mnist_compression_trainer_3/Max_2:0\", shape=(), dtype=float32)\n",
      "469/469 [==============================] - 25s 50ms/step - loss: 218.4103 - distortion_loss: 0.0592 - rate_loss: 99.9469 - distortion_pass_through_loss: 0.0592 - rate_pass_through_loss: 99.9424 - val_loss: 178.0487 - val_distortion_loss: 0.0430 - val_rate_loss: 92.0106 - val_distortion_pass_through_loss: 0.0430 - val_rate_pass_through_loss: 92.0130\n",
      "Epoch 2/15\n",
      "274/469 [================>.............] - ETA: 10s - loss: 170.9222 - distortion_loss: 0.0419 - rate_loss: 87.0819 - distortion_pass_through_loss: 0.0419 - rate_pass_through_loss: 87.0819"
     ]
    },
    {
     "name": "stderr",
     "output_type": "stream",
     "text": [
      "\n",
      "KeyboardInterrupt\n",
      "\n"
     ]
    }
   ],
   "source": [
    "def add_rd_targets(image, label):\n",
    "  # Training is unsupervised, so labels aren't necessary here. However, we\n",
    "  # need to add \"dummy\" targets for rate and distortion.\n",
    "  return image, dict(rate=0., distortion=0.)\n",
    "\n",
    "def train_mnist_model(lmbda):\n",
    "  trainer = make_mnist_compression_trainer(lmbda)\n",
    "  trainer.fit(\n",
    "      training_dataset.map(add_rd_targets).batch(128).prefetch(8),\n",
    "      epochs=15,\n",
    "      validation_data=validation_dataset.map(add_rd_targets).batch(128).cache(),\n",
    "      validation_freq=1,\n",
    "      verbose=1,\n",
    "  )\n",
    "  return trainer\n",
    "\n",
    "trainer = train_mnist_model(lmbda=2000)\n"
   ]
  },
  {
   "cell_type": "markdown",
   "metadata": {
    "id": "Td4xuttmCd7T"
   },
   "source": [
    "## Compress some MNIST images.\n",
    "\n",
    "For compression and decompression at test time, we split the trained model in two parts:\n",
    "\n",
    "- The encoder side consists of the analysis transform and the entropy model.\n",
    "- The decoder side consists of the synthesis transform and the same entropy model.\n",
    "\n",
    "At test time, the latents will not have additive noise, but they will be quantized and then losslessly compressed, so we give them new names. We call them and the image reconstruction $\\hat x$ and $\\hat y$, respectively (following [End-to-end Optimized Image Compression](https://arxiv.org/abs/1611.01704))."
   ]
  },
  {
   "cell_type": "code",
   "execution_count": null,
   "metadata": {
    "id": "sBRAPa5jksss"
   },
   "outputs": [],
   "source": [
    "class MNISTCompressor(tf.keras.Model):\n",
    "  \"\"\"Compresses MNIST images to strings.\"\"\"\n",
    "\n",
    "  def __init__(self, analysis_transform, entropy_model):\n",
    "    super().__init__()\n",
    "    self.analysis_transform = analysis_transform\n",
    "    self.entropy_model = entropy_model\n",
    "\n",
    "  def call(self, x):\n",
    "    # Ensure inputs are floats in the range (0, 1).\n",
    "    x = tf.cast(x, self.compute_dtype) / 255.\n",
    "    y = self.analysis_transform(x)\n",
    "    # Also return the exact information content of each digit.\n",
    "    _, bits = self.entropy_model(y, training=False)\n",
    "    return self.entropy_model.compress(y), bits\n"
   ]
  },
  {
   "cell_type": "code",
   "execution_count": null,
   "metadata": {
    "id": "sSZ0X2xPnkN-"
   },
   "outputs": [],
   "source": [
    "class MNISTDecompressor(tf.keras.Model):\n",
    "  \"\"\"Decompresses MNIST images from strings.\"\"\"\n",
    "\n",
    "  def __init__(self, entropy_model, synthesis_transform):\n",
    "    super().__init__()\n",
    "    self.entropy_model = entropy_model\n",
    "    self.synthesis_transform = synthesis_transform\n",
    "\n",
    "  def call(self, string):\n",
    "    y_hat = self.entropy_model.decompress(string, ())\n",
    "    x_hat = self.synthesis_transform(y_hat)\n",
    "    # Scale and cast back to 8-bit integer.\n",
    "    return tf.saturate_cast(tf.round(x_hat * 255.), tf.uint8)\n"
   ]
  },
  {
   "cell_type": "markdown",
   "metadata": {
    "id": "GI7rxeOUDnaC"
   },
   "source": [
    "When instantiated with `compression=True`, the entropy model converts the learned prior into tables for a range coding algorithm. When calling `compress()`, this algorithm is invoked to convert the latent space vector into bit sequences. The length of each binary string approximates the information content of the latent (the negative log likelihood of the latent under the prior).\n",
    "\n",
    "The entropy model for compression and decompression must be the same instance, because the range coding tables need to be exactly identical on both sides. Otherwise, decoding errors can occur."
   ]
  },
  {
   "cell_type": "code",
   "execution_count": null,
   "metadata": {
    "id": "Dnm_p7mbnigo"
   },
   "outputs": [],
   "source": [
    "def make_mnist_codec(trainer, **kwargs):\n",
    "  # The entropy model must be created with `compression=True` and the same\n",
    "  # instance must be shared between compressor and decompressor.\n",
    "  entropy_model = tfc.ContinuousBatchedEntropyModel(\n",
    "      trainer.prior, coding_rank=1, compression=True, **kwargs)\n",
    "  compressor = MNISTCompressor(trainer.analysis_transform, entropy_model)\n",
    "  decompressor = MNISTDecompressor(entropy_model, trainer.synthesis_transform)\n",
    "  return compressor, decompressor\n",
    "\n",
    "compressor, decompressor = make_mnist_codec(trainer)\n"
   ]
  },
  {
   "cell_type": "markdown",
   "metadata": {
    "id": "SYu5sVVH3YMv"
   },
   "source": [
    "Grab 16 images from the validation dataset. You can select a different subset by changing the argument to `skip`."
   ]
  },
  {
   "cell_type": "code",
   "execution_count": null,
   "metadata": {
    "id": "qAxArlU728K5"
   },
   "outputs": [],
   "source": [
    "(originals, _), = validation_dataset.batch(16).skip(3).take(1)\n"
   ]
  },
  {
   "cell_type": "markdown",
   "metadata": {
    "id": "CHeN_ny929YS"
   },
   "source": [
    "Compress them to strings, and keep track of each of their information content in bits."
   ]
  },
  {
   "cell_type": "code",
   "execution_count": null,
   "metadata": {
    "colab": {
     "base_uri": "https://localhost:8080/"
    },
    "id": "smOk42gQ3IXv",
    "outputId": "63e8e64e-674a-4f93-d7d9-1ef1ae30ea28"
   },
   "outputs": [],
   "source": [
    "strings, entropies = compressor(originals)\n",
    "\n",
    "print(f\"String representation of first digit in hexadecimal: 0x{strings[0].numpy().hex()}\")\n",
    "print(f\"Number of bits actually needed to represent it: {entropies[0]:0.2f}\")\n"
   ]
  },
  {
   "cell_type": "markdown",
   "metadata": {
    "id": "5j9R4bTT3Qhl"
   },
   "source": [
    "Decompress the images back from the strings."
   ]
  },
  {
   "cell_type": "code",
   "execution_count": null,
   "metadata": {
    "id": "yOP6pEqU3P0w"
   },
   "outputs": [],
   "source": [
    "reconstructions = decompressor(strings)\n"
   ]
  },
  {
   "cell_type": "markdown",
   "metadata": {
    "id": "JWo0Q-vy23tt"
   },
   "source": [
    "Display each of the 16 original digits together with its compressed binary representation, and the reconstructed digit."
   ]
  },
  {
   "cell_type": "code",
   "execution_count": null,
   "metadata": {
    "id": "jU5IqzZzeEpf"
   },
   "outputs": [],
   "source": [
    "#@title\n",
    "\n",
    "def display_digits(originals, strings, entropies, reconstructions):\n",
    "  \"\"\"Visualizes 16 digits together with their reconstructions.\"\"\"\n",
    "  fig, axes = plt.subplots(4, 4, sharex=True, sharey=True, figsize=(12.5, 5))\n",
    "  axes = axes.ravel()\n",
    "  for i in range(len(axes)):\n",
    "    image = tf.concat([\n",
    "        tf.squeeze(originals[i]),\n",
    "        tf.zeros((28, 14), tf.uint8),\n",
    "        tf.squeeze(reconstructions[i]),\n",
    "    ], 1)\n",
    "    axes[i].imshow(image)\n",
    "    axes[i].text(\n",
    "        .5, .5, f\"→ 0x{strings[i].numpy().hex()} →\\n{entropies[i]:0.2f} bits\",\n",
    "        ha=\"center\", va=\"top\", color=\"white\", fontsize=\"small\",\n",
    "        transform=axes[i].transAxes)\n",
    "    axes[i].axis(\"off\")\n",
    "  plt.subplots_adjust(wspace=0, hspace=0, left=0, right=1, bottom=0, top=1)\n"
   ]
  },
  {
   "cell_type": "code",
   "execution_count": null,
   "metadata": {
    "colab": {
     "base_uri": "https://localhost:8080/",
     "height": 391
    },
    "id": "km9PqVEtPJPc",
    "outputId": "5b17f10b-0e01-4ff9-ff06-210bf68d027c"
   },
   "outputs": [],
   "source": [
    "display_digits(originals, strings, entropies, reconstructions)\n"
   ]
  },
  {
   "cell_type": "markdown",
   "metadata": {
    "id": "EzlrIOiYOzJc"
   },
   "source": [
    "Note that the length of the encoded string differs from the information content of each digit.\n",
    "\n",
    "This is because the range coding process works with discrete probabilities, and has a small amount of overhead. So, especially for short strings, the correspondence is only approximate. However, range coding is **asymptotically optimal**: in the limit, the expected bit count will approach the cross entropy (the expected information content), for which the rate term in the training model is an upper bound."
   ]
  },
  {
   "cell_type": "markdown",
   "metadata": {
    "id": "78qIG8t8FvJW"
   },
   "source": [
    "## The rate–distortion trade-off\n",
    "\n",
    "Above, the model was trained for a specific trade-off (given by `lmbda=2000`) between the average number of bits used to represent each digit and the incurred error in the reconstruction.\n",
    "\n",
    "What happens when we repeat the experiment with different values?\n",
    "\n",
    "Let's start by reducing $\\lambda$ to 500."
   ]
  },
  {
   "cell_type": "code",
   "execution_count": null,
   "metadata": {
    "colab": {
     "base_uri": "https://localhost:8080/",
     "height": 949
    },
    "id": "1iFcAD0WF78p",
    "outputId": "9ae32513-dd29-4263-e13a-3302e2cfa0d1"
   },
   "outputs": [],
   "source": [
    "def train_and_visualize_model(lmbda):\n",
    "  trainer = train_mnist_model(lmbda=lmbda)\n",
    "  compressor, decompressor = make_mnist_codec(trainer)\n",
    "  strings, entropies = compressor(originals)\n",
    "  reconstructions = decompressor(strings)\n",
    "  display_digits(originals, strings, entropies, reconstructions)\n",
    "\n",
    "train_and_visualize_model(lmbda=500)\n"
   ]
  },
  {
   "cell_type": "markdown",
   "metadata": {
    "id": "Uy5OkgJMObMc"
   },
   "source": [
    "The bit rate of our code goes down, as does the fidelity of the digits. However, most of the digits remain recognizable.\n",
    "\n",
    "Let's reduce $\\lambda$ further."
   ]
  },
  {
   "cell_type": "code",
   "execution_count": null,
   "metadata": {
    "colab": {
     "base_uri": "https://localhost:8080/",
     "height": 949
    },
    "id": "NQp9_9_5GcxH",
    "outputId": "f117cdf5-250a-46ab-be93-f4153382047c"
   },
   "outputs": [],
   "source": [
    "train_and_visualize_model(lmbda=300)\n"
   ]
  },
  {
   "cell_type": "markdown",
   "metadata": {
    "id": "3ELLMAN1OwMQ"
   },
   "source": [
    "The strings begin to get much shorter now, on the order of one byte per digit. However, this comes at a cost. More digits are becoming unrecognizable.\n",
    "\n",
    "This demonstrates that this model is agnostic to human perceptions of error, it just measures the absolute deviation in terms of pixel values. To achieve a better perceived image quality, we would need to replace the pixel loss with a perceptual loss."
   ]
  },
  {
   "cell_type": "markdown",
   "metadata": {
    "id": "v9cWHtH0LP_r"
   },
   "source": [
    "## Use the decoder as a generative model.\n",
    "\n",
    "If we feed the decoder random bits, this will effectively sample from the distribution that the model learned to represent digits.\n",
    "\n",
    "First, re-instantiate the compressor/decompressor without a sanity check that would detect if the input string isn't completely decoded."
   ]
  },
  {
   "cell_type": "code",
   "execution_count": null,
   "metadata": {
    "colab": {
     "base_uri": "https://localhost:8080/",
     "height": 325
    },
    "id": "qnic8YsM0_ke",
    "outputId": "39e3c169-155b-4cb2-9658-e7e52ead9788"
   },
   "outputs": [],
   "source": [
    "compressor, decompressor = make_mnist_codec(trainer, decode_sanity_check=False)"
   ]
  },
  {
   "cell_type": "markdown",
   "metadata": {
    "id": "86uc9_Is1eeo"
   },
   "source": [
    "Now, feed long enough random strings into the decompressor so that it can decode/sample digits from them."
   ]
  },
  {
   "cell_type": "code",
   "execution_count": null,
   "metadata": {
    "id": "o4fP7BkqKCHY"
   },
   "outputs": [],
   "source": [
    "import os\n",
    "\n",
    "strings = tf.constant([os.urandom(8) for _ in range(16)])\n",
    "samples = decompressor(strings)\n",
    "\n",
    "fig, axes = plt.subplots(4, 4, sharex=True, sharey=True, figsize=(5, 5))\n",
    "axes = axes.ravel()\n",
    "for i in range(len(axes)):\n",
    "  axes[i].imshow(tf.squeeze(samples[i]))\n",
    "  axes[i].axis(\"off\")\n",
    "plt.subplots_adjust(wspace=0, hspace=0, left=0, right=1, bottom=0, top=1)\n"
   ]
  },
  {
   "cell_type": "code",
   "execution_count": null,
   "metadata": {},
   "outputs": [],
   "source": []
  }
 ],
 "metadata": {
  "accelerator": "GPU",
  "colab": {
   "collapsed_sections": [],
   "name": "data_compression.ipynb",
   "provenance": []
  },
  "kernelspec": {
   "display_name": "Python 3 (ipykernel)",
   "language": "python",
   "name": "python3"
  },
  "language_info": {
   "codemirror_mode": {
    "name": "ipython",
    "version": 3
   },
   "file_extension": ".py",
   "mimetype": "text/x-python",
   "name": "python",
   "nbconvert_exporter": "python",
   "pygments_lexer": "ipython3",
   "version": "3.10.5"
  }
 },
 "nbformat": 4,
 "nbformat_minor": 1
}

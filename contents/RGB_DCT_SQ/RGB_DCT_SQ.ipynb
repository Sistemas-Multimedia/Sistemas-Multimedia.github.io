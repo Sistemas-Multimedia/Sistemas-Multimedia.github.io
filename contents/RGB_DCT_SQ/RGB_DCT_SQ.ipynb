{
 "cells": [
  {
   "cell_type": "markdown",
   "metadata": {},
   "source": [
    "[![Binder](https://mybinder.org/badge_logo.svg)](https://nbviewer.org/github/Sistemas-Multimedia/Sistemas-Multimedia.github.io/blob/master/milestones/06-YUV_compression/color-DCT_compression.ipynb)"
   ]
  },
  {
   "cell_type": "markdown",
   "metadata": {},
   "source": [
    "[![Colab](https://badgen.net/badge/Launch/on%20Google%20Colab/blue?icon=notebook)](https://colab.research.google.com/github/Sistemas-Multimedia/Sistemas-Multimedia.github.io/blob/master/contents/color_DCT/RD_performance.ipynb)"
   ]
  },
  {
   "cell_type": "markdown",
   "metadata": {},
   "source": [
    "# Removing RGB redundancy with the [DCT](https://docs.scipy.org/doc/scipy/reference/generated/scipy.fftpack.dct.html)"
   ]
  },
  {
   "cell_type": "code",
   "execution_count": null,
   "metadata": {},
   "outputs": [],
   "source": [
    "%%bash\n",
    "if [ -d \"$HOME/repos\" ]; then\n",
    "    echo \"\\\"$HOME/repos\\\" exists\"\n",
    "else\n",
    "    mkdir ~/repos\n",
    "    echo Created $HOME/repos\n",
    "fi"
   ]
  },
  {
   "cell_type": "code",
   "execution_count": null,
   "metadata": {},
   "outputs": [],
   "source": [
    "%%bash\n",
    "if [ -d \"$HOME/repos/scalar_quantization\" ]; then\n",
    "    cd $HOME/repos/scalar_quantization\n",
    "    echo \"$HOME/repos/scalar_quantization ... \"\n",
    "    git pull \n",
    "else\n",
    "    cd $HOME/repos\n",
    "    git clone https://github.com/vicente-gonzalez-ruiz/scalar_quantization.git\n",
    "fi"
   ]
  },
  {
   "cell_type": "code",
   "execution_count": null,
   "metadata": {},
   "outputs": [],
   "source": [
    "%%bash\n",
    "if [ -d \"$HOME/repos/image_IO\" ]; then\n",
    "    cd $HOME/repos/image_IO\n",
    "    echo \"$HOME/repos/image_IO ... \"\n",
    "    git pull \n",
    "else\n",
    "    cd $HOME/repos\n",
    "    git clone https://github.com/vicente-gonzalez-ruiz/image_IO.git\n",
    "fi"
   ]
  },
  {
   "cell_type": "code",
   "execution_count": null,
   "metadata": {},
   "outputs": [],
   "source": [
    "%%bash\n",
    "if [ -d \"$HOME/repos/MRVC\" ]; then\n",
    "    cd $HOME/repos/MRVC\n",
    "    echo \"$HOME/repos/MRVC ... \"\n",
    "    git pull \n",
    "else\n",
    "    cd $HOME/repos\n",
    "    git clone https://github.com/Sistemas-Multimedia/MRVC.git\n",
    "fi"
   ]
  },
  {
   "cell_type": "code",
   "execution_count": null,
   "metadata": {},
   "outputs": [],
   "source": [
    "%%bash\n",
    "if [ -d \"$HOME/repos/DCT\" ]; then\n",
    "    cd $HOME/repos/DCT\n",
    "    echo \"$HOME/repos/DCT ... \"\n",
    "    git pull \n",
    "else\n",
    "    cd $HOME/repos\n",
    "    git clone https://github.com/Sistemas-Multimedia/DCT.git\n",
    "fi"
   ]
  },
  {
   "cell_type": "code",
   "execution_count": null,
   "metadata": {},
   "outputs": [],
   "source": [
    "!ln -sf ~/repos/information_theory/information.py .\n",
    "!ln -sf ~/repos/information_theory/distortion.py .\n",
    "!ln -sf ~/repos/scalar_quantization/quantization.py .\n",
    "!ln -sf ~/repos/scalar_quantization/deadzone_quantization.py .\n",
    "!ln -sf ~/repos/image_IO/image_1.py .\n",
    "!ln -sf ~/repos/image_IO/image_3.py .\n",
    "!ln -sf ~/repos/image_IO/logging_config.py .\n",
    "!ln -sf ~/repos/DCT/color_DCT.py ."
   ]
  },
  {
   "cell_type": "code",
   "execution_count": null,
   "metadata": {},
   "outputs": [],
   "source": [
    "%matplotlib inline\n",
    "\n",
    "#import matplotlib\n",
    "#import matplotlib.pyplot as plt\n",
    "#import matplotlib.axes as ax\n",
    "#plt.rcParams['text.usetex'] = True\n",
    "#plt.rcParams['text.latex.preamble'] = [r'\\usepackage{amsmath}'] #for \\text command\n",
    "\n",
    "try:\n",
    "    import matplotlib.pyplot as plt\n",
    "except:\n",
    "    !pip install matplotlib\n",
    "    import matplotlib.pyplot as plt\n",
    "%matplotlib inline\n",
    "\n",
    "import pylab\n",
    "import math\n",
    "import numpy as np\n",
    "\n",
    "try:\n",
    "    from scipy import signal\n",
    "except:\n",
    "    !pip install scipy\n",
    "    from scipy import signal\n",
    "    \n",
    "try:\n",
    "    import cv2\n",
    "except:\n",
    "    !pip install opencv-python\n",
    "    !pip install opencv-python-headless # Binder compatibility\n",
    "\n",
    "try:\n",
    "    import PIL\n",
    "except:\n",
    "    !pip install PIL\n",
    "    \n",
    "import os\n",
    "import quantization\n",
    "import deadzone_quantization as deadzone\n",
    "#import midtread_quantizer as midtread\n",
    "#import midrise_quantizer as midrise\n",
    "import color_DCT\n",
    "import distortion\n",
    "import information\n",
    "import image_3 as RGB_image\n",
    "import image_1 as gray_image\n",
    "import colored\n",
    "#import common"
   ]
  },
  {
   "cell_type": "markdown",
   "metadata": {},
   "source": [
    "## Configuration"
   ]
  },
  {
   "cell_type": "code",
   "execution_count": null,
   "metadata": {},
   "outputs": [],
   "source": [
    "# Prefix of the RGB image to be compressed.\n",
    "\n",
    "home = os.environ[\"HOME\"]\n",
    "fn = home + \"/repos/MRVC/images/lena_color/\"\n",
    "#fn = home + \"/MRVC/sequences/stockholm/\"\n",
    "image_dtype = np.uint8 # For 8 bpp/component images\n",
    "#image_dtype = np.uint16 # For 16 bpp/component images\n",
    "\n",
    "DCT_components = ['0', '1', '2']\n",
    "\n",
    "# Number of quantization steps.\n",
    "#N_Q_steps = 8\n",
    "#Q_steps = [256*i/N_Q_steps for i in range(N_Q_steps + 1, 0, -1)]\n",
    "Q_steps = [2**i for i in range(8, 0, -1)] # Simulate progressive bit-plane encoding.\n",
    "#Q_steps = range(256, 32, -4)\n",
    "print(Q_steps)\n",
    "\n",
    "#quantizer = midtread\n",
    "quantizer = deadzone.Deadzone_Quantizer\n",
    "#quantizer = midrise\n",
    "\n",
    "RGB_image.write = RGB_image.debug_write # Faster, but lower compression\n",
    "#RGB_image.write = information.write # The fastest, but returns only an estimation of the length\n",
    "gray_image.write = gray_image.debug_write # Faster, but lower compression\n",
    "#gray_image.write = information.write # The fastest, but returns only an estimation of the length"
   ]
  },
  {
   "cell_type": "markdown",
   "metadata": {},
   "source": [
    "## Read the image and show it"
   ]
  },
  {
   "cell_type": "code",
   "execution_count": null,
   "metadata": {},
   "outputs": [],
   "source": [
    "RGB_img = RGB_image.read(fn).astype(image_dtype)\n",
    "RGB_image.show(RGB_img, fn + \"000.png\")"
   ]
  },
  {
   "cell_type": "code",
   "execution_count": null,
   "metadata": {},
   "outputs": [],
   "source": [
    "RGB_img.shape"
   ]
  },
  {
   "cell_type": "code",
   "execution_count": null,
   "metadata": {},
   "outputs": [],
   "source": [
    "RGB_img.dtype"
   ]
  },
  {
   "cell_type": "markdown",
   "metadata": {},
   "source": [
    "## (RGB -> color_DCT)-transform of the image"
   ]
  },
  {
   "cell_type": "code",
   "execution_count": null,
   "metadata": {},
   "outputs": [],
   "source": [
    "import numpy as np\n",
    "from scipy.fftpack import dct, idct\n",
    "\n",
    "DCT_type = 3\n",
    "norm = \"ortho\" # Orthonormal: orthogonal + unitary (unit gain in both directions of the transform)\n",
    "#norm = None"
   ]
  },
  {
   "cell_type": "code",
   "execution_count": null,
   "metadata": {},
   "outputs": [],
   "source": [
    "DCT_img = color_DCT.from_RGB(RGB_img)\n",
    "print(DCT_img.dtype)"
   ]
  },
  {
   "cell_type": "code",
   "execution_count": null,
   "metadata": {},
   "outputs": [],
   "source": [
    "gray_image.show_normalized(DCT_img[..., 0], fn + \"000 (DCT0)\")"
   ]
  },
  {
   "cell_type": "code",
   "execution_count": null,
   "metadata": {},
   "outputs": [],
   "source": [
    "gray_image.show_normalized(DCT_img[..., 1], fn + \"000 (DCT1)\")"
   ]
  },
  {
   "cell_type": "code",
   "execution_count": null,
   "metadata": {},
   "outputs": [],
   "source": [
    "gray_image.show_normalized(DCT_img[..., 2], fn + \"000 (DCT2)\")"
   ]
  },
  {
   "cell_type": "markdown",
   "metadata": {},
   "source": [
    "## Energy of the DCT components"
   ]
  },
  {
   "cell_type": "code",
   "execution_count": null,
   "metadata": {},
   "outputs": [],
   "source": [
    "energy_DCT0 = information.energy(DCT_img[..., 0])\n",
    "energy_DCT1 = information.energy(DCT_img[..., 1])\n",
    "energy_DCT2 = information.energy(DCT_img[..., 2])\n",
    "print(\"energy_DCT0/energy_DCT1 =\", energy_DCT0/energy_DCT1)\n",
    "print(\"energy_DCT0/energy_DCT2 =\", energy_DCT0/energy_DCT2)"
   ]
  },
  {
   "cell_type": "markdown",
   "metadata": {},
   "source": [
    "As it can be seen:\n",
    "1. Most of the energy is concentrated in the $\\text{DCT}_0$ subband.\n",
    "2. The coefficients can be positive and negative.\n",
    "3. The dynamic range of the $\\text{DCT}_0$ is more than twice the original one."
   ]
  },
  {
   "cell_type": "markdown",
   "metadata": {},
   "source": [
    "## Unitarity"
   ]
  },
  {
   "cell_type": "code",
   "execution_count": null,
   "metadata": {},
   "outputs": [],
   "source": [
    "DCT0_avg_energy = information.average_energy(DCT_img[..., 0])\n",
    "DCT1_avg_energy = information.average_energy(DCT_img[..., 1])\n",
    "DCT2_avg_energy = information.average_energy(DCT_img[..., 2])\n",
    "print(f\"Average energy of component DCT0 = {int(DCT0_avg_energy)}\")\n",
    "print(f\"Average energy of component DCT1 = {int(DCT1_avg_energy)}\")\n",
    "print(f\"Average energy of component DCT2 = {int(DCT2_avg_energy)}\")\n",
    "total_DCT_avg_energy = DCT0_avg_energy + DCT1_avg_energy + DCT2_avg_energy\n",
    "print(f\"Total average energy (computed by adding the energies of the DCT coefficients {int(DCT0_avg_energy)} + {int(DCT1_avg_energy)} + {int(DCT2_avg_energy)}) = {int(total_DCT_avg_energy)}\")\n",
    "print(f\"Total RGB average energy (computed directly from the RGB image) = {int(information.average_energy(RGB_img)*3)}\")"
   ]
  },
  {
   "cell_type": "markdown",
   "metadata": {},
   "source": [
    "Therefore, the forward DCT is energy preserving (unitary)."
   ]
  },
  {
   "cell_type": "code",
   "execution_count": null,
   "metadata": {},
   "outputs": [],
   "source": [
    "RGB_recons_img = color_DCT.to_RGB(DCT_img)\n",
    "print(f\"Total RGB average energy (computed from the reconstructed RGB image) = {int(information.average_energy(RGB_recons_img)*3)}\")"
   ]
  },
  {
   "cell_type": "markdown",
   "metadata": {},
   "source": [
    "And the same can be said about the backward transform."
   ]
  },
  {
   "cell_type": "markdown",
   "metadata": {},
   "source": [
    "## (RGB <-> color-DCT) transform error"
   ]
  },
  {
   "cell_type": "code",
   "execution_count": null,
   "metadata": {},
   "outputs": [],
   "source": [
    "RGB_image.show_normalized(RGB_recons_img, fn + \"000.png (DCT recons)\")"
   ]
  },
  {
   "cell_type": "code",
   "execution_count": null,
   "metadata": {},
   "outputs": [],
   "source": [
    "np.array_equal(RGB_img, RGB_recons_img)"
   ]
  },
  {
   "cell_type": "code",
   "execution_count": null,
   "metadata": {},
   "outputs": [],
   "source": [
    "print(RGB_img.max(), RGB_img.min())"
   ]
  },
  {
   "cell_type": "code",
   "execution_count": null,
   "metadata": {},
   "outputs": [],
   "source": [
    "print(RGB_recons_img.max(), RGB_recons_img.min())"
   ]
  },
  {
   "cell_type": "code",
   "execution_count": null,
   "metadata": {},
   "outputs": [],
   "source": [
    "RGB_image.show_normalized(RGB_img - RGB_recons_img.astype(image_dtype), \"Reconstruction error (rounding error) color-DCT\")"
   ]
  },
  {
   "cell_type": "markdown",
   "metadata": {},
   "source": [
    "The DCT transform is irreversible. In general, only integer arithmetic operations guarantees reversibility."
   ]
  },
  {
   "cell_type": "markdown",
   "metadata": {},
   "source": [
    "## Relative gains of the synthesis filters\n",
    "\n",
    "The synthesis filters gains are important because the quantization steps of each color-DCT component should be adjusted in order to effectively provide the desired number of [bins](http://www.winlab.rutgers.edu/~crose/322_html/quantization.pdf) (different dequantized values) in each component."
   ]
  },
  {
   "cell_type": "code",
   "execution_count": null,
   "metadata": {},
   "outputs": [],
   "source": [
    "def print_info(val):\n",
    "    DCT0_delta = np.array([val, 0, 0])\n",
    "    RGB_DCT0_delta = idct(DCT0_delta, type=DCT_type, norm=norm)\n",
    "    RGB_energy_DCT0_delta = information.energy(RGB_DCT0_delta)\n",
    "    \n",
    "    DCT1_delta = np.array([0, val, 0])\n",
    "    RGB_DCT1_delta = idct(DCT1_delta, type=DCT_type, norm=norm)\n",
    "    RGB_energy_DCT1_delta = information.energy(RGB_DCT1_delta)\n",
    "    \n",
    "    DCT2_delta = np.array([0, 0, val])\n",
    "    RGB_DCT2_delta = idct(DCT2_delta, type=DCT_type, norm=norm)\n",
    "    RGB_energy_DCT2_delta = information.energy(RGB_DCT2_delta)\n",
    "    \n",
    "    zero = np.array([0, 0, 0])\n",
    "    RGB_zero = idct(zero, type=DCT_type, norm=norm)\n",
    "    RGB_energy_zero = information.energy(RGB_zero)\n",
    "    \n",
    "    print(f\"{val}^2 = {val*val}\")\n",
    "    \n",
    "    print(f\"Energy of {DCT0_delta} in the RGB domain ({RGB_DCT0_delta}) = {RGB_energy_DCT0_delta}\")\n",
    "    print(f\"Energy of {DCT1_delta} in the RGB domain ({RGB_DCT1_delta}) = {RGB_energy_DCT1_delta}\")\n",
    "    print(f\"Energy of {DCT2_delta} in the RGB domain ({RGB_DCT2_delta}) = {RGB_energy_DCT2_delta}\")\n",
    "    print(f\"Energy of {zero} in the RGB domain ({RGB_zero}) = {RGB_energy_zero}\")\n",
    "    \n",
    "    max_ = max(RGB_energy_DCT0_delta, RGB_energy_DCT1_delta, RGB_energy_DCT2_delta)\n",
    "    DCT0_relative_gain = RGB_energy_DCT0_delta / max_\n",
    "    DCT1_relative_gain = RGB_energy_DCT1_delta / max_\n",
    "    DCT2_relative_gain = RGB_energy_DCT2_delta / max_\n",
    "    print(f\"Relative gain of DCT0 component = {DCT0_relative_gain}\")\n",
    "    print(f\"Relative gain of DCT1 component = {DCT1_relative_gain}\")\n",
    "    print(f\"Relative gain of DCT2 component = {DCT2_relative_gain}\")\n",
    "    \n",
    "print_info(255)\n",
    "print()\n",
    "print_info(1)\n",
    "print()\n",
    "print_info(0)"
   ]
  },
  {
   "cell_type": "markdown",
   "metadata": {},
   "source": [
    "The gain of each color-DCT inverse filter is 1. Therefore, under bit-rate restrictions, the optimal quantization pattern (without considering other aspects such as the compresibility of each component) is $\\Delta_{\\text{DCT0}} = \\Delta_{\\text{DCT1}} = \\Delta_{\\text{DCT2}}$."
   ]
  },
  {
   "cell_type": "markdown",
   "metadata": {},
   "source": [
    "## Amplitude shift in the DCT domain\n",
    "\n",
    "To decide how to quantize, it is necessary to known how the amplitudes of the original image are *translated* to the transform domain. A good choice to find out this is to transform noise. In our case, lets use a random image with ([normal](https://numpy.org/doc/stable/reference/random/generated/numpy.random.normal.html)) [Gaussian noise](https://en.wikipedia.org/wiki/Gaussian_noise) with mean 0, color-DCT it, and check where the transformed noise has its mean in each component. Notice that, by definition, the noise cannot be decorrelated by transforms, and therefore, the noise is simply *transfered* from the RGB domain to the transform domain. Thus, depending on where the transformed noise has the mean, we can decide if the signal must be shifted before or after the transform. Notice that the input signal to a dead-zone quantizer must have 0 mean."
   ]
  },
  {
   "cell_type": "code",
   "execution_count": null,
   "metadata": {},
   "outputs": [],
   "source": [
    "# loc = mean, scale=standard deviation, size=number of samples\n",
    "RGB_noise = np.random.normal(loc=0, scale=10, size=512*512*3).reshape(512, 512, 3)"
   ]
  },
  {
   "cell_type": "code",
   "execution_count": null,
   "metadata": {},
   "outputs": [],
   "source": [
    "RGB_image.show(RGB_noise, \"Gaussian RGB noise\")"
   ]
  },
  {
   "cell_type": "code",
   "execution_count": null,
   "metadata": {},
   "outputs": [],
   "source": [
    "DCT_noise = color_DCT.from_RGB(RGB_noise)"
   ]
  },
  {
   "cell_type": "code",
   "execution_count": null,
   "metadata": {},
   "outputs": [],
   "source": [
    "gray_image.show_normalized(DCT_noise[..., 0], \"Gaussian DCT0 noise\")"
   ]
  },
  {
   "cell_type": "code",
   "execution_count": null,
   "metadata": {},
   "outputs": [],
   "source": [
    "gray_image.show_normalized(DCT_noise[..., 1], \"Gaussian DCT1 noise\")"
   ]
  },
  {
   "cell_type": "code",
   "execution_count": null,
   "metadata": {},
   "outputs": [],
   "source": [
    "gray_image.show_normalized(DCT_noise[..., 2], \"Gaussian DCT2 noise\")"
   ]
  },
  {
   "cell_type": "markdown",
   "metadata": {},
   "source": [
    "The color-DCT does not modify the mean of the image (at least, when it has a 0 mean)."
   ]
  },
  {
   "cell_type": "markdown",
   "metadata": {},
   "source": [
    "## RD curve using same Δ for each DCT subband ($\\mathbf\\Delta^{\\text{DCT}^0}_i = \\mathbf\\Delta^{\\text{DCT}^1}_i = \\mathbf\\Delta^{\\text{DCT}^2}_i$)"
   ]
  },
  {
   "cell_type": "code",
   "execution_count": null,
   "metadata": {
    "scrolled": false
   },
   "outputs": [],
   "source": [
    "def DCT_same_delta_RD_curve_DCTdistortion(RGB_img, Q_steps, quantizer):\n",
    "    RGB_img = RGB_img.astype(float)\n",
    "    RGB_img[..., 0] -= np.average(RGB_img[..., 0])\n",
    "    RGB_img[..., 1] -= np.average(RGB_img[..., 1])\n",
    "    RGB_img[..., 2] -= np.average(RGB_img[..., 2])\n",
    "    DCT_img = color_DCT.from_RGB(RGB_img)\n",
    "    points = []\n",
    "    for Q_step in Q_steps:\n",
    "        print(f\"q_step={Q_step}\")\n",
    "        Q = quantizer(Q_step=Q_step)\n",
    "        DCT_y, k = Q.quan_dequan(DCT_img)\n",
    "        #RGB_image.show_normalized(DCT_y)\n",
    "        print(f\"(Reconstructed components) max={np.max(DCT_y)} min={np.min(DCT_y)} avg={np.average(DCT_y)} dtype={DCT_y.dtype}\")\n",
    "        data_to_encode = (k + 128).astype(np.uint8)\n",
    "        print(f\"(Quantization indexes) max={np.max(data_to_encode)} min={np.min(data_to_encode)} avg={np.average(data_to_encode)} dtype={data_to_encode.dtype}\")\n",
    "        #BPP = common.bits_per_color_pixel(data_to_encode, str(Q_step) + '_')\n",
    "        BPP = RGB_image.write(data_to_encode, str(Q_step) + '_', 0)*8/(data_to_encode.shape[0]*data_to_encode.shape[1])\n",
    "        print(\"Used quantization indexes:\", np.unique(data_to_encode))\n",
    "        RMSE = distortion.RMSE(DCT_img, DCT_y)\n",
    "        points.append((BPP, RMSE))\n",
    "        print(f\"rate={BPP} bits/pixel, distortion={RMSE}\")\n",
    "    return points\n",
    "\n",
    "DCT_same_delta_RD_points_DCTdistortion = DCT_same_delta_RD_curve_DCTdistortion(RGB_img, Q_steps, quantizer)"
   ]
  },
  {
   "cell_type": "code",
   "execution_count": null,
   "metadata": {
    "scrolled": false
   },
   "outputs": [],
   "source": [
    "def DCT_same_delta_RD_curve_RGBdistortion(RGB_img, Q_steps, quantizer):\n",
    "    RGB_img = RGB_img.astype(float)\n",
    "    avg0 = np.average(RGB_img[..., 0])\n",
    "    avg1 = np.average(RGB_img[..., 1])\n",
    "    avg2 = np.average(RGB_img[..., 2])\n",
    "    RGB_img[..., 0] -= avg0\n",
    "    RGB_img[..., 1] -= avg1\n",
    "    RGB_img[..., 2] -= avg2\n",
    "    DCT_img = color_DCT.from_RGB(RGB_img)\n",
    "    points = []\n",
    "    for Q_step in Q_steps:\n",
    "        Q = quantizer(Q_step=Q_step)\n",
    "        DCT_y, k = Q.quan_dequan(DCT_img)\n",
    "        data_to_encode = (k + 128).astype(np.uint8)\n",
    "        #BPP = common.bits_per_color_pixel(data_to_encode, str(Q_step) + '_')\n",
    "        BPP = RGB_image.write(data_to_encode, str(Q_step) + '_', 0)*8/(data_to_encode.shape[0]*data_to_encode.shape[1])\n",
    "        print(\"Used quantization indexes:\", np.unique(data_to_encode))\n",
    "        RGB_y = color_DCT.to_RGB(DCT_y)\n",
    "        RMSE = distortion.RMSE(RGB_img, RGB_y)\n",
    "        #RGB_image.show_normalized(RGB_y, '')\n",
    "        points.append((BPP, RMSE))\n",
    "        print(f\"q_step={Q_step}, rate={BPP} bits/pixel, distortion={RMSE}\")\n",
    "    return points\n",
    "\n",
    "DCT_same_delta_RD_points_RGBdistortion = DCT_same_delta_RD_curve_RGBdistortion(RGB_img, Q_steps, quantizer)"
   ]
  },
  {
   "cell_type": "code",
   "execution_count": null,
   "metadata": {},
   "outputs": [],
   "source": [
    "RGB_SQ = []\n",
    "with open(f'../RGB_SQ/RGB_SQ.txt', 'r') as f:\n",
    "    for line in f:\n",
    "        rate, _distortion = line.split('\\t')\n",
    "        RGB_SQ.append((float(rate), float(_distortion)))"
   ]
  },
  {
   "cell_type": "code",
   "execution_count": null,
   "metadata": {},
   "outputs": [],
   "source": [
    "pylab.figure(dpi=150)\n",
    "pylab.plot(*zip(*DCT_same_delta_RD_points_DCTdistortion), c='r', marker='.', label=\"Deadzone($\\Delta_{\\mathrm{DCT}^0} = \\Delta_{\\mathrm{DCT}^1} = \\Delta_{\\mathrm{DCT}^2}$) + PNG\\n(distortion measured in DCT domain)\", linestyle=\"dashed\")\n",
    "pylab.plot(*zip(*DCT_same_delta_RD_points_RGBdistortion), c='b', marker='.', label=\"Deadzone($\\Delta_{\\mathrm{DCT}^0} = \\Delta_{\\mathrm{DCT}^1} = \\Delta_{\\mathrm{DCT}^2}$) + PNG\\n(distortion measured in RGB domain)\", linestyle=\"dotted\")\n",
    "pylab.plot(*zip(*RGB_SQ), label=\"Deadzone($\\mathbf{\\Delta}^{\\mathrm{R}}_i=\\mathbf{\\Delta}^{\\mathrm{G}}_i=\\mathbf{\\Delta}^{\\mathrm{B}}_i}$) + PNG\")\n",
    "pylab.title(fn)\n",
    "pylab.xlabel(\"Bits/Pixel\")\n",
    "pylab.ylabel(\"RMSE\")\n",
    "pylab.legend(loc='upper right')\n",
    "pylab.show()"
   ]
  },
  {
   "cell_type": "code",
   "execution_count": null,
   "metadata": {},
   "outputs": [],
   "source": [
    "with open('RGB_DCT_SQ.txt', 'w') as f:\n",
    "    for item in DCT_same_delta_RD_points_RGBdistortion:\n",
    "        f.write(f\"{item[0]}\\t{item[1]}\\n\")"
   ]
  },
  {
   "cell_type": "code",
   "execution_count": null,
   "metadata": {},
   "outputs": [],
   "source": [
    "import time\n",
    "while True:\n",
    "    time.sleep(1)"
   ]
  },
  {
   "cell_type": "markdown",
   "metadata": {},
   "source": [
    "## Ignore the rest ..."
   ]
  },
  {
   "cell_type": "markdown",
   "metadata": {},
   "source": [
    "## Compare to JPEG"
   ]
  },
  {
   "cell_type": "code",
   "execution_count": null,
   "metadata": {},
   "outputs": [],
   "source": [
    "RGB_img = RGB_image.read(fn)\n",
    "JPEG_RD_points = []\n",
    "for q in range(75):\n",
    "    im = PIL.Image.fromarray(RGB_img)\n",
    "    im.save(\"/tmp/1.jpeg\", quality=q, subsampling=0) # No color subsampling\n",
    "    BPP = os.path.getsize(\"/tmp/1.jpeg\")*8/(RGB_img.shape[0]*RGB_img.shape[1])\n",
    "    zz = np.asarray(PIL.Image.open(\"/tmp/1.jpeg\"))\n",
    "    RMSE = distortion.RMSE(RGB_img, zz)\n",
    "    JPEG_RD_points.append((BPP, RMSE))\n",
    "    print(BPP, RMSE)"
   ]
  },
  {
   "cell_type": "markdown",
   "metadata": {},
   "source": [
    "## Comparison with compressing (SQ+PNG) directly in the RGB domain"
   ]
  },
  {
   "cell_type": "code",
   "execution_count": null,
   "metadata": {},
   "outputs": [],
   "source": [
    "pylab.figure(dpi=150)\n",
    "pylab.plot(*zip(*RGB_points), c='b', marker='o', label=\"SQ+PNG in the RGB domain\", linestyle=\"dashed\")\n",
    "pylab.plot(*zip(*DCT_same_delta_RD_points_DCTdistortion), c='r', marker='x', label=\"SQ+PNG in the DCT domain ($\\Delta_{\\mathrm{DCT0}} = \\Delta_{\\mathrm{DCT1}} = \\Delta_{\\mathrm{DCT2}}$)\", linestyle=\"dotted\")\n",
    "pylab.title(fn)\n",
    "pylab.xlabel(\"BPP\")\n",
    "pylab.ylabel(\"RMSE\")\n",
    "pylab.legend(loc='upper right')\n",
    "pylab.show()"
   ]
  },
  {
   "cell_type": "markdown",
   "metadata": {},
   "source": [
    "The color-DCT removes the color redundancy, generating three components that are more compressible than the original RGB channels. This effect is more significant a low bit-rates. "
   ]
  },
  {
   "cell_type": "markdown",
   "metadata": {},
   "source": [
    "## RDO (Rate/Distortion Optimization)\n",
    "RDO tries to find a quantization steps pattern (in our case, a combination of 3 quantization steps, one per component) that minimizes the distortion given a predefined bit budget. In general, such pattern can be determined without considering any extra restriction, such as that the quantization steps patterns can be progressive, or what is the same, simulating a bit-plane encoding (in our case, of the color-DCT components).\n",
    "\n",
    "In general, RDO is a [NP-hard](https://en.wikipedia.org/wiki/NP-hardness) [combinatorial problem](/https://en.wikipedia.org/wiki/Combinatorial_optimization), and to find an optimal solution we must use [exhautive search](https://en.wikipedia.org/wiki/Brute-force_search) tecnhiques."
   ]
  },
  {
   "cell_type": "markdown",
   "metadata": {},
   "source": [
    "## Progressive bit-plane encoding using RDO\n",
    "When the components must be \"transmitted\" by bitplanes, the \"search area\" in which to find an optimal solution is much smaller, because the search tree has only (in the case of the color-DCT) 3 branches at each node. For example, if the first quantization step pattern is `[256, 256, 256]` (which considering 8 bit-planes will \"send\" the MSb), we need to decide between `[128, 256, 256]`, `[256, 128, 256]`, or `[256, 256, 128]`, determining which pattern has the highest RD slope. Notice, however, that the resulting RD curve not necesarily will be optimal, because this is only achieved when the RD slope of each component is the same."
   ]
  },
  {
   "cell_type": "markdown",
   "metadata": {},
   "source": [
    "## RDO over orthogonal spaces\n",
    "When the components to encode are orthogonal (as it is the case of the color-DCT domain), their contributions to the quality of the image are independent and additive, and therefore the distortion can be measured in the original signal domain and the transformed one. If it is also true that if the encoding performance of the components is similar, the constant quantization pattern $\\Delta_{\\text{DCT0}} = \\Delta_{\\text{DCT1}} = \\Delta_{\\text{DCT2}}$ should provide, in general, a good RDO solution because the rate will be proportional to the energy of the components, generating RD points that satisfy the constant-slope requirement."
   ]
  },
  {
   "cell_type": "markdown",
   "metadata": {},
   "source": [
    "## A fast RDO algorithm for color-DCTed images\n",
    "This RDO algorithm takes advantage of the orthogonality of the color-DCT:\n",
    "1. Compute the RD curve of each component, measuring the distortion in the component domain.\n",
    "2. Compute the slope of the points in ther curves.\n",
    "3. Remove those points that does not belong to the convex-hull of the RD curve.\n",
    "4. Sort all the points by their slope in their curves.\n",
    "5. Use such ordering for finding the progression of quantization steps patters."
   ]
  },
  {
   "cell_type": "markdown",
   "metadata": {},
   "source": [
    "### 1. RD curve of each color-DCT component"
   ]
  },
  {
   "cell_type": "code",
   "execution_count": null,
   "metadata": {},
   "outputs": [],
   "source": [
    "def color_DCT_RD_curve_per_component(RGB_img, Q_steps, Q, components):\n",
    "    N_components = len(components)\n",
    "    RGB_img = RGB_img.astype(float)\n",
    "    for c in range(N_components):\n",
    "        avg = np.average(RGB_img[..., c])\n",
    "        RGB_img[..., c] -= avg\n",
    "        print(f\"channel={c} average={avg}\")\n",
    "    DCT_img = color_DCT.from_RGB(RGB_img)\n",
    "    DCT_img_copy = DCT_img.copy()\n",
    "    RD_points = []\n",
    "    for c in range(N_components):\n",
    "        #RD_points.append([])\n",
    "        RD_points.append([(0, 100000, c, 512)])\n",
    "    for Q_step in Q_steps:\n",
    "        Q = quantizer(Q_step=Q_step)\n",
    "        DCT_k = Q.quantize(DCT_img)\n",
    "        for component_index in range(N_components):\n",
    "            component_name = components[component_index]\n",
    "            DCT_y = np.zeros_like(DCT_img)\n",
    "            DCT_y = DCT_img_copy.copy()\n",
    "            DCT_y[..., component_index] = Q.dequantize(DCT_k[..., component_index])\n",
    "            #print(Q_step, DCT_k[..., component_index].max(), DCT_k[..., component_index].min(), information.entropy(DCT_k[..., component_index]))\n",
    "            #BPP = common.bits_per_gray_pixel(DCT_k[..., component_index] + 128, str(Q_step) + '_' + component_name + '_' + str(components[component_index]))\n",
    "            BPP = gray_image.write(DCT_k[..., component_index] + 128, str(Q_step) + '_' + component_name + '_' + str(components[component_index]), 0)*8/DCT_k[..., component_index].size\n",
    "            print(\"Used quantization indexes:\", np.unique(DCT_k[..., component_index] + 128))\n",
    "            #RGB_y = color_DCT.to_RGB(DCT_y)\n",
    "            #_distortion = distortion.RMSE(RGB_img, RGB_y)\n",
    "            RMSE = distortion.RMSE(DCT_img[..., component_index], DCT_y[..., component_index])\n",
    "            #common.show(RGB_y, components[component_index] + ' ' + str(Q_step))\n",
    "            RD_points[component_index].append((BPP, RMSE, component_name, Q_step))\n",
    "            print(f\"component_index={components[component_index]} q_step={Q_step}, rate={BPP} bits/pixel, distortion={RMSE}\")\n",
    "    return RD_points\n",
    "DCT_RD_curve_per_component = color_DCT_RD_curve_per_component(RGB_img, Q_steps, quantizer, DCT_components)"
   ]
  },
  {
   "cell_type": "code",
   "execution_count": null,
   "metadata": {
    "scrolled": false
   },
   "outputs": [],
   "source": [
    "DCT_RD_curve_per_component"
   ]
  },
  {
   "cell_type": "markdown",
   "metadata": {},
   "source": [
    "### Display the curve of each component"
   ]
  },
  {
   "cell_type": "code",
   "execution_count": null,
   "metadata": {},
   "outputs": [],
   "source": [
    "pylab.figure(dpi=150)\n",
    "#pylab.plot(*zip(*[(i[0], i[1]) for i in DCT_RD_curve_per_component[0]]), c='r', marker='.', label=\"$\\mathrm{DCT0}}$\", linestyle=\"dashed\")\n",
    "#pylab.plot(*zip(*[(i[0], i[1]) for i in DCT_RD_curve_per_component[1]]), c='g', marker='.', label=\"$\\mathrm{DCT1}}$\", linestyle=\"dashed\")\n",
    "#pylab.plot(*zip(*[(i[0], i[1]) for i in DCT_RD_curve_per_component[2]]), c='b', marker='.', label=\"$\\mathrm{DCT2}}$\", linestyle=\"dashed\")\n",
    "pylab.plot(*zip(*[(i[0], i[1]) for i in DCT_RD_curve_per_component[0][1:]]), c='r', marker='.', label=\"$\\mathrm{DCT0}}$\", linestyle=\"dashed\")\n",
    "pylab.plot(*zip(*[(i[0], i[1]) for i in DCT_RD_curve_per_component[1][1:]]), c='g', marker='.', label=\"$\\mathrm{DCT1}}$\", linestyle=\"dashed\")\n",
    "pylab.plot(*zip(*[(i[0], i[1]) for i in DCT_RD_curve_per_component[2][1:]]), c='b', marker='.', label=\"$\\mathrm{DCT2}}$\", linestyle=\"dashed\")\n",
    "pylab.title(fn)\n",
    "pylab.xlabel(\"BPP\")\n",
    "pylab.ylabel(\"RMSE\")\n",
    "pylab.legend(loc='upper right')\n",
    "pylab.show()"
   ]
  },
  {
   "cell_type": "markdown",
   "metadata": {},
   "source": [
    "### 2. Compute the slope of each point"
   ]
  },
  {
   "cell_type": "code",
   "execution_count": null,
   "metadata": {},
   "outputs": [],
   "source": [
    "def compute_slopes(RD_points):\n",
    "    counter = 0\n",
    "    RD_slopes = []\n",
    "    points_iterator = iter(RD_points)\n",
    "    next(points_iterator)\n",
    "    for i in points_iterator:\n",
    "        BPP = i[0] # Rate \n",
    "        delta_BPP = BPP - RD_points[counter][0]\n",
    "        RMSE = i[1] # Distortion\n",
    "        delta_RMSE = RMSE - RD_points[counter][1] \n",
    "        if delta_BPP > 0:\n",
    "            slope = abs(delta_RMSE/delta_BPP)\n",
    "        else:\n",
    "            slope = 0\n",
    "        component = i[2]\n",
    "        Q_step = i[3]\n",
    "        print((slope, i), delta_RMSE, delta_BPP)\n",
    "        RD_slopes.append((slope, component, Q_step))\n",
    "        counter += 1\n",
    "    return RD_slopes"
   ]
  },
  {
   "cell_type": "code",
   "execution_count": null,
   "metadata": {},
   "outputs": [],
   "source": [
    "#DCT0_slopes = common.compute_slopes(DCT_RD_curve_per_component[0])\n",
    "#DCT1_slopes = common.compute_slopes(DCT_RD_curve_per_component[1])\n",
    "#DCT2_slopes = common.compute_slopes(DCT_RD_curve_per_component[2])\n",
    "DCT0_slopes = compute_slopes(DCT_RD_curve_per_component[0])\n",
    "print()\n",
    "DCT1_slopes = compute_slopes(DCT_RD_curve_per_component[1])\n",
    "print()\n",
    "DCT2_slopes = compute_slopes(DCT_RD_curve_per_component[2])"
   ]
  },
  {
   "cell_type": "code",
   "execution_count": null,
   "metadata": {},
   "outputs": [],
   "source": [
    "DCT0_slopes"
   ]
  },
  {
   "cell_type": "code",
   "execution_count": null,
   "metadata": {},
   "outputs": [],
   "source": [
    "DCT1_slopes"
   ]
  },
  {
   "cell_type": "code",
   "execution_count": null,
   "metadata": {},
   "outputs": [],
   "source": [
    "DCT2_slopes"
   ]
  },
  {
   "cell_type": "markdown",
   "metadata": {},
   "source": [
    "### 3. Filter the curves\n",
    "Remove those RD points that do not belong to the [convex-hull](https://en.wikipedia.org/wiki/Convex_hull)."
   ]
  },
  {
   "cell_type": "code",
   "execution_count": null,
   "metadata": {},
   "outputs": [],
   "source": [
    "def filter_slopes(slopes):\n",
    "    filtered_slopes = []\n",
    "    slopes_iterator = iter(slopes)\n",
    "    prev = next(slopes_iterator)\n",
    "    for curr in slopes_iterator:\n",
    "        if prev[0] < curr[0]:\n",
    "            print(f\"deleted {prev}\")\n",
    "        else:\n",
    "            filtered_slopes.append(prev)\n",
    "        prev = curr\n",
    "    filtered_slopes.append(prev)\n",
    "    return filtered_slopes\n"
   ]
  },
  {
   "cell_type": "code",
   "execution_count": null,
   "metadata": {},
   "outputs": [],
   "source": [
    "DCT0_slopes = filter_slopes(DCT0_slopes)\n",
    "DCT0_slopes"
   ]
  },
  {
   "cell_type": "code",
   "execution_count": null,
   "metadata": {},
   "outputs": [],
   "source": [
    "DCT1_slopes = filter_slopes(DCT1_slopes)\n",
    "DCT1_slopes"
   ]
  },
  {
   "cell_type": "code",
   "execution_count": null,
   "metadata": {},
   "outputs": [],
   "source": [
    "DCT2_slopes = filter_slopes(DCT2_slopes)\n",
    "DCT2_slopes"
   ]
  },
  {
   "cell_type": "markdown",
   "metadata": {},
   "source": [
    "### 4. Sort the slopes at each quantization step\n",
    "Notice that the TPs (Truncation Points) generated in a component must be used in order (we cannot use the Q_step 32 after using 16, for example)."
   ]
  },
  {
   "cell_type": "code",
   "execution_count": null,
   "metadata": {},
   "outputs": [],
   "source": [
    "all_slopes = DCT0_slopes + DCT1_slopes + DCT2_slopes\n",
    "sorted_slopes = sorted(all_slopes, key=lambda x: x[0])[::-1]\n",
    "sorted_slopes"
   ]
  },
  {
   "cell_type": "markdown",
   "metadata": {},
   "source": [
    "### 5. Compute the optimal RD curve\n",
    "And finally, let's compute the RD curve (remember that the previous points are only an estimation of the order in which the quantization steps should be increased in each component to build the RD curve, not the real RD curve that measures the distortion in the RGB domain)."
   ]
  },
  {
   "cell_type": "code",
   "execution_count": null,
   "metadata": {
    "scrolled": false
   },
   "outputs": [],
   "source": [
    "def DCT_optimal_curve(RGB_img, sorted_slopes, quantizer, components):\n",
    "    RGB_img = RGB_img.astype(float)\n",
    "    RGB_img[..., 0] -= np.average(RGB_img[..., 0])\n",
    "    RGB_img[..., 1] -= np.average(RGB_img[..., 1])\n",
    "    RGB_img[..., 2] -= np.average(RGB_img[..., 2])\n",
    "    points = []\n",
    "    Q_steps_per_component = [256, 256, 256] # This should generate a black image (the average of each component is 0).\n",
    "    DCT_img = color_DCT.from_RGB(RGB_img)\n",
    "    k = np.empty_like(DCT_img)\n",
    "    DCT_y = np.empty_like(DCT_img)\n",
    "    for i in sorted_slopes:\n",
    "        print(i)\n",
    "        component, Q_step = i[1], i[2]\n",
    "        Q_steps_per_component[components.index(component)] = Q_step\n",
    "        for c, Q_step in zip(components, Q_steps_per_component):\n",
    "            component_index = components.index(c)\n",
    "            Q = quantizer(Q_step=Q_step)\n",
    "            DCT_y[..., component_index], k[..., component_index] = Q.quan_dequan(DCT_img[..., component_index])\n",
    "        #rate = common.bits_per_color_pixel(k.astype(np.uint8), str(Q_steps_per_component) + '_')\n",
    "        rate = RGB_image.write(k.astype(np.uint8), str(Q_steps_per_component).replace(\" \", \"\").replace(\"[\", \"\").replace(\"]\",\"\").replace(\",\",\"_\") + '_', 0)*8/(k.shape[0]*k.shape[1])\n",
    "        #y_RGB = YCrCb.to_RGB(y + 128)\n",
    "        #RGB_y = color_DCT.to_RGB(DCT_y)               # Uncomment to compute distortion\n",
    "        #_distortion = distortion.RMSE(RGB_img, RGB_y)  # in the RGB domain.\n",
    "        _distortion = distortion.RMSE(DCT_img, DCT_y)  # Uncomment to compute distortion in the DCT domain.\n",
    "        #RGB_image.show(y_RGB, f\"Q_step={Q_steps_per_component}, rate={rate:>7} bits/pixel, distortion={_distortion:>6.1f}\")\n",
    "        points.append((rate, _distortion))\n",
    "        print(f\"Q_step={Q_steps_per_component}, rate={rate:>7} bits/pixel, distortion={_distortion:>6.1f}\")\n",
    "    return points\n",
    "\n",
    "def quantize(DCT_img, DCT_y, k, components, Q_steps):\n",
    "    for c, Q_step in zip(components, Q_steps):\n",
    "        component_index = components.index(c)\n",
    "        Q = quantizer(Q_step=Q_step)\n",
    "        DCT_y[..., component_index], k[..., component_index] = Q.quan_dequan(DCT_img[..., component_index])\n",
    "    return DCT_y\n",
    "\n",
    "def compute_RD_point(DCT_img, DCT_y, k, components, Q_steps):\n",
    "    DCT_y = quantize(DCT_img, DCT_y, k, components, Q_steps)\n",
    "    rate = RGB_image.write(k.astype(np.uint8), str(Q_steps).replace(\" \", \"\").replace(\"[\", \"\").replace(\"]\",\"\").replace(\",\",\"_\") + '_', 0)*8/(k.shape[0]*k.shape[1])\n",
    "    _distortion = distortion.RMSE(DCT_img, DCT_y)\n",
    "    return (rate, _distortion)\n",
    "    \n",
    "def compute_slope(prev_RD_point, next_RD_point):\n",
    "    delta_rate = next_RD_point[0] - prev_RD_point[0]\n",
    "    delta_distortion = prev_RD_point[1] - next_RD_point[1] \n",
    "    if delta_rate > 0:\n",
    "        slope = abs(delta_distortion/delta_rate)\n",
    "    else:\n",
    "        slope = 0\n",
    "    return slope\n",
    " \n",
    "def get_index_of_max(inputlist):\n",
    "    min_value = max(inputlist)\n",
    "    index_of_min = inputlist.index(min_value)\n",
    "    return index_of_min\n",
    "\n",
    "def DCT_optimal_curve2(RGB_img, quantizer, components):\n",
    "    RGB_img = RGB_img.astype(float)\n",
    "    RGB_img[..., 0] -= np.average(RGB_img[..., 0])\n",
    "    RGB_img[..., 1] -= np.average(RGB_img[..., 1])\n",
    "    RGB_img[..., 2] -= np.average(RGB_img[..., 2])\n",
    "    points = []\n",
    "    Q_steps = [128, 128, 128]\n",
    "    DCT_img = color_DCT.from_RGB(RGB_img)\n",
    "    k = np.empty_like(DCT_img)\n",
    "    DCT_y = np.empty_like(DCT_img)\n",
    "    RD_point = compute_RD_point(DCT_img, DCT_y, k, components, Q_steps)\n",
    "    slopes = [0, 0, 0]\n",
    "    while Q_steps != [1, 1, 1]:\n",
    "        points.append(RD_point)\n",
    "        print(RD_point, Q_steps)\n",
    "        A = compute_RD_point(DCT_img, DCT_y, k, components, [(Q_steps[0]+1)//2, Q_steps[1], Q_steps[2]])\n",
    "        B = compute_RD_point(DCT_img, DCT_y, k, components, [Q_steps[0], (Q_steps[1]+1)//2, Q_steps[2]])\n",
    "        C = compute_RD_point(DCT_img, DCT_y, k, components, [Q_steps[0], Q_steps[1], (Q_steps[2]+1)//2])\n",
    "        slopes[0] = compute_slope(RD_point, A)\n",
    "        slopes[1] = compute_slope(RD_point, B)\n",
    "        slopes[2] = compute_slope(RD_point, C)\n",
    "        max_slope_index = get_index_of_max(slopes)\n",
    "        if max_slope_index == 0:\n",
    "            Q_steps = [(Q_steps[0]+1)//2, Q_steps[1], Q_steps[2]]\n",
    "            RD_point = A\n",
    "            points.append(A)\n",
    "        elif max_slope_index == 1:\n",
    "            Q_steps = [Q_steps[0], (Q_steps[1]+1)//2, Q_steps[2]]\n",
    "            RD_point = B\n",
    "            points.append(B)\n",
    "        else:\n",
    "            Q_steps = [Q_steps[0], Q_steps[1], (Q_steps[2]+1)//2]\n",
    "            RD_point = C\n",
    "            points.append(C)\n",
    "    return points\n",
    "\n",
    "#DCT_optimal_RD_points = DCT_optimal_curve(RGB_img, sorted_slopes, quantizer, DCT_components)\n",
    "DCT_optimal_RD_points = DCT_optimal_curve2(RGB_img, quantizer, DCT_components)\n",
    "DCT_optimal_RD_points"
   ]
  },
  {
   "cell_type": "markdown",
   "metadata": {},
   "source": [
    "## Compare curves"
   ]
  },
  {
   "cell_type": "code",
   "execution_count": null,
   "metadata": {},
   "outputs": [],
   "source": [
    "pylab.figure(dpi=150)\n",
    "pylab.plot(*zip(*DCT_same_delta_RD_points_DCTdistortion), c='b', marker='o', label=\"$\\Delta_{\\mathrm{DCT0}} = \\Delta_{\\mathrm{DCT1}} = \\Delta_{\\mathrm{DCT2}}$\", linestyle=\"dashed\")\n",
    "pylab.plot(*zip(*DCT_optimal_RD_points), c='r', marker='x', label=\"RDO\", linestyle=\"dotted\")\n",
    "pylab.title(fn)\n",
    "pylab.xlabel(\"BPP\")\n",
    "pylab.ylabel(\"RMSE\")\n",
    "pylab.legend(loc='upper right')\n",
    "pylab.show()"
   ]
  },
  {
   "cell_type": "markdown",
   "metadata": {},
   "source": [
    "## Save"
   ]
  },
  {
   "cell_type": "markdown",
   "metadata": {},
   "source": [
    "## Compare to VQ"
   ]
  },
  {
   "cell_type": "code",
   "execution_count": null,
   "metadata": {},
   "outputs": [],
   "source": [
    "def load(path):\n",
    "    curve = []\n",
    "    with open(path, 'r') as f:\n",
    "        for line in f:\n",
    "            rate, _distortion = line.split('\\t')\n",
    "            curve.append((float(rate), float(_distortion)))\n",
    "    return curve"
   ]
  },
  {
   "cell_type": "code",
   "execution_count": null,
   "metadata": {},
   "outputs": [],
   "source": [
    "VQ = load(\"../RGB_VQ/RGB_VQ.txt\")"
   ]
  },
  {
   "cell_type": "code",
   "execution_count": null,
   "metadata": {},
   "outputs": [],
   "source": [
    "pylab.figure(dpi=150)\n",
    "pylab.plot(*zip(*DCT_optimal_RD_points), c='m', marker='x', label=\"DCT\", linestyle=\"dotted\")\n",
    "pylab.plot(*zip(*VQ), c='k', marker='x', label=\"VQ\", linestyle=\"dotted\")\n",
    "pylab.title(fn)\n",
    "pylab.xlabel(\"Bits/Pixel\")\n",
    "pylab.ylabel(\"RMSE\")\n",
    "pylab.legend(loc='upper right')\n",
    "#pylab.xscale(\"log\")\n",
    "#pylab.yscale(\"log\")\n",
    "pylab.show()"
   ]
  },
  {
   "cell_type": "markdown",
   "metadata": {},
   "source": [
    "## Conclusions\n",
    "\n",
    "1. The (color) DCT is orthogonal. The distortion can be computed in the DCT domain.\n",
    "2. The (color) DCT is unitary. The same quantization step sizes can be used for the DCT subbands.\n",
    "3. The performances of the RDO algorithm and the constant quantization algorithm are very similar. This happens because the constant quantization algorithm achieves to use approximately the same slope for the three components in each RD point."
   ]
  },
  {
   "cell_type": "code",
   "execution_count": null,
   "metadata": {},
   "outputs": [],
   "source": [
    "import time\n",
    "while True:\n",
    "    time.sleep(1)"
   ]
  },
  {
   "cell_type": "markdown",
   "metadata": {},
   "source": [
    "## Another solutions ... (ignore)"
   ]
  },
  {
   "cell_type": "code",
   "execution_count": null,
   "metadata": {},
   "outputs": [],
   "source": [
    "def filter_points(points):\n",
    "    filtered_points = []\n",
    "    points_iterator = iter(points)\n",
    "    prev = next(points_iterator)\n",
    "    for curr in points_iterator:\n",
    "        if prev[0] >= curr[0]:\n",
    "            print(f\"deleted {prev}\")\n",
    "        else:\n",
    "            filtered_points.append(prev)\n",
    "        prev = curr\n",
    "    filtered_points.append(prev)\n",
    "    return filtered_points\n",
    "\n",
    "for c in range(3):\n",
    "    DCT_RD_curve_per_component[c] = filter_points(DCT_RD_curve_per_component[c])"
   ]
  },
  {
   "cell_type": "code",
   "execution_count": null,
   "metadata": {},
   "outputs": [],
   "source": [
    "DCT_RD_curve_per_component"
   ]
  },
  {
   "cell_type": "markdown",
   "metadata": {},
   "source": [
    "## Display the curve of each component"
   ]
  },
  {
   "cell_type": "code",
   "execution_count": null,
   "metadata": {},
   "outputs": [],
   "source": [
    "pylab.figure(dpi=150)\n",
    "#pylab.plot(*zip(*[(i[0], i[1]) for i in DCT_RD_curve_per_component[0]]), c='r', marker='.', label=\"$\\mathrm{DCT0}}$\", linestyle=\"dashed\")\n",
    "#pylab.plot(*zip(*[(i[0], i[1]) for i in DCT_RD_curve_per_component[1]]), c='g', marker='.', label=\"$\\mathrm{DCT1}}$\", linestyle=\"dashed\")\n",
    "#pylab.plot(*zip(*[(i[0], i[1]) for i in DCT_RD_curve_per_component[2]]), c='b', marker='.', label=\"$\\mathrm{DCT2}}$\", linestyle=\"dashed\")\n",
    "pylab.plot(*zip(*[(i[0], i[1]) for i in DCT_RD_curve_per_component[0][1:]]), c='r', marker='.', label=\"$\\mathrm{DCT0}}$\", linestyle=\"dashed\")\n",
    "pylab.plot(*zip(*[(i[0], i[1]) for i in DCT_RD_curve_per_component[1][1:]]), c='g', marker='.', label=\"$\\mathrm{DCT1}}$\", linestyle=\"dashed\")\n",
    "pylab.plot(*zip(*[(i[0], i[1]) for i in DCT_RD_curve_per_component[2][1:]]), c='b', marker='.', label=\"$\\mathrm{DCT2}}$\", linestyle=\"dashed\")\n",
    "pylab.title(\"Rate/Distortion\")\n",
    "pylab.xlabel(\"Bits/Pixel\")\n",
    "pylab.ylabel(\"RMSE in RGB domain\")\n",
    "pylab.legend(loc='upper right')\n",
    "pylab.show()"
   ]
  },
  {
   "cell_type": "markdown",
   "metadata": {},
   "source": [
    "Each curve shows the impact of variying the quantization step, in the corresponding component. Moreover, since the color-DCT is orthonormal, the gain of each component is 1. Therefore, the relative position of the curves shows the contribution (remember that if we are using the RMSE as the distortion metric and for this reason, me are basically measuring energy) of each component to the quality of the reconstructed image. As an example, we could use the following progression of quantization steps patterns:\n",
    "1. `[256, 256, 256]` -> Constant gray image.\n",
    "2. `[128, 256, 256]` -> Grayscale image.\n",
    "3. `[ 64, 256, 256]` -> A higher quality grayscale image.\n",
    "4. `[ 64, 128, 256]` -> Add some color.\n",
    "5. `[ 64, 128, 128]` -> Add more color.\n",
    "6. And so on ..."
   ]
  },
  {
   "cell_type": "code",
   "execution_count": null,
   "metadata": {
    "scrolled": false
   },
   "outputs": [],
   "source": [
    "def color_DCT_optimal_curve(RGB_img, RD_points_per_component):\n",
    "    RGB_img = RGB_img.astype(float)\n",
    "    RGB_img[..., 0] -= np.average(RGB_img[..., 0])\n",
    "    RGB_img[..., 1] -= np.average(RGB_img[..., 1])\n",
    "    RGB_img[..., 2] -= np.average(RGB_img[..., 2])\n",
    "    points = []\n",
    "    Q_steps_per_component = [256, 256, 256] # This should generate a black image (the average of each component is 0).\n",
    "    DCT_img = color_DCT.from_RGB(RGB_img)\n",
    "    k = np.empty_like(DCT_img)\n",
    "    DCT_y = np.empty_like(DCT_img)\n",
    "    gains = [RD_points_per_component[0][0][1],\n",
    "             RD_points_per_component[1][0][1],\n",
    "             RD_points_per_component[2][0][1]]\n",
    "    max_gain = max(gains)\n",
    "    where = np.argmax(gains)\n",
    "    Q_steps_indexes = [0, 0, 0]\n",
    "    prev_Q_steps_indexes = [0, 0, 0]\n",
    "    #Q_steps_indexes[where] += 1\n",
    "    while Q_steps_per_component != [4, 4, 4]:\n",
    "        Q_steps_indexes[where] += 1\n",
    "        Q_steps_per_component = [256, 256, 256]\n",
    "        for i in range(3):\n",
    "            Q_steps_per_component[i] >>= Q_steps_indexes[i]\n",
    "        print(f\"{Q_steps_indexes} Quantization steps pattern: {Q_steps_per_component}\")\n",
    "        for component_index, Q_step in zip([0, 1, 2], Q_steps_per_component):\n",
    "            DCT_y[..., component_index], k[..., component_index] = quantizer.quan_dequan(DCT_img[..., component_index], Q_step)\n",
    "        BPP = common.bits_per_color_pixel((k + 128).astype(np.uint8), str(Q_steps_per_component) + '_')\n",
    "        print(\"Used quantization indexes:\", np.unique((k + 128).astype(np.uint8)))\n",
    "        RMSE = distortion.RMSE(DCT_img, DCT_y)\n",
    "        points.append((BPP, RMSE))\n",
    "        print(f\"rate={BPP} bits/pixel, distortion={RMSE}\")\n",
    "        slopes = []\n",
    "        print(\"Considering\")\n",
    "        for c in range(3):\n",
    "            if len(RD_points_per_component[c]) > (Q_steps_indexes[c] + 1):\n",
    "                delta_BPP = RD_points_per_component[c][Q_steps_indexes[c] + 1][0] - RD_points_per_component[c][Q_steps_indexes[c]][0]\n",
    "                delta_RMSE = RD_points_per_component[c][Q_steps_indexes[c]][1] - RD_points_per_component[c][Q_steps_indexes[c] + 1][1]            #print(prev_Q_steps_indexes, Q_steps_indexes, RD_points_per_component[c][prev_Q_steps_indexes[0]], RD_points_per_component[c][Q_steps_indexes[0]])\n",
    "                #print(f\"delta_BPP={delta_BPP}\")\n",
    "                if delta_BPP > 0:\n",
    "                    slope = delta_RMSE/delta_BPP\n",
    "                else:\n",
    "                    slope = 0\n",
    "                slopes.append(slope)\n",
    "            else:\n",
    "                slopes.append(0)\n",
    "        print(f\"slopes={slopes}\")\n",
    "        where = np.argmax(slopes)\n",
    "        print(f\"where={where}\")\n",
    "        prev_Q_steps_indexes = Q_steps_indexes.copy()\n",
    "    return points\n",
    "\n",
    "DCT_optimal_RD_points = color_DCT_optimal_curve(RGB_img, DCT_RD_curve_per_component)\n",
    "DCT_optimal_RD_points"
   ]
  },
  {
   "cell_type": "markdown",
   "metadata": {},
   "source": [
    "## Compare the curves"
   ]
  },
  {
   "cell_type": "code",
   "execution_count": null,
   "metadata": {},
   "outputs": [],
   "source": [
    "pylab.figure(dpi=150)\n",
    "pylab.plot(*zip(*DCT_same_delta_RD_points_DCTdistortion), c='b', marker='o', label=\"$\\Delta_{\\mathrm{DCT0}} = \\Delta_{\\mathrm{DCT1}} = \\Delta_{\\mathrm{DCT2}}$\", linestyle=\"dashed\")\n",
    "pylab.plot(*zip(*DCT_optimal_RD_points), c='r', marker='x', label=\"RDO\", linestyle=\"dotted\")\n",
    "pylab.title(\"Rate/Distortion\")\n",
    "pylab.xlabel(\"Bits/Pixel\")\n",
    "pylab.ylabel(\"RMSE\")\n",
    "pylab.legend(loc='upper right')\n",
    "pylab.show()"
   ]
  },
  {
   "cell_type": "markdown",
   "metadata": {},
   "source": [
    "## Compute the slope of each point"
   ]
  },
  {
   "cell_type": "code",
   "execution_count": null,
   "metadata": {},
   "outputs": [],
   "source": [
    "def compute_slopes(RD_points):\n",
    "    counter = 0\n",
    "    RD_slopes = []\n",
    "    points_iterator = iter(RD_points)\n",
    "    next(points_iterator)\n",
    "    for i in points_iterator:\n",
    "        BPP = i[0] # Rate \n",
    "        delta_BPP = BPP - RD_points[counter][0]\n",
    "        RMSE = i[1] # Distortion\n",
    "        delta_RMSE = RMSE - RD_points[counter][1] \n",
    "        if delta_BPP > 0:\n",
    "            slope = abs(delta_RMSE/delta_BPP)\n",
    "        else:\n",
    "            slope = 0\n",
    "        component = i[2]\n",
    "        Q_step = i[3]\n",
    "        print((slope, i), delta_RMSE, delta_BPP)\n",
    "        RD_slopes.append((slope, component, Q_step))\n",
    "        counter += 1\n",
    "    return RD_slopes"
   ]
  },
  {
   "cell_type": "code",
   "execution_count": null,
   "metadata": {},
   "outputs": [],
   "source": [
    "#DCT0_slopes = common.compute_slopes(DCT_RD_curve_per_component[0])\n",
    "#DCT1_slopes = common.compute_slopes(DCT_RD_curve_per_component[1])\n",
    "#DCT2_slopes = common.compute_slopes(DCT_RD_curve_per_component[2])\n",
    "DCT0_slopes = compute_slopes(DCT_RD_curve_per_component[0])\n",
    "DCT1_slopes = compute_slopes(DCT_RD_curve_per_component[1])\n",
    "DCT2_slopes = compute_slopes(DCT_RD_curve_per_component[2])"
   ]
  },
  {
   "cell_type": "code",
   "execution_count": null,
   "metadata": {},
   "outputs": [],
   "source": [
    "DCT0_slopes"
   ]
  },
  {
   "cell_type": "code",
   "execution_count": null,
   "metadata": {},
   "outputs": [],
   "source": [
    "DCT1_slopes"
   ]
  },
  {
   "cell_type": "code",
   "execution_count": null,
   "metadata": {},
   "outputs": [],
   "source": [
    "DCT2_slopes"
   ]
  },
  {
   "cell_type": "markdown",
   "metadata": {},
   "source": [
    "## Filter the curves\n",
    "Remove those RD points that do not belong to the convex-hull."
   ]
  },
  {
   "cell_type": "code",
   "execution_count": null,
   "metadata": {},
   "outputs": [],
   "source": [
    "DCT0_slopes = common.filter_slopes(DCT0_slopes)\n",
    "DCT0_slopes"
   ]
  },
  {
   "cell_type": "code",
   "execution_count": null,
   "metadata": {},
   "outputs": [],
   "source": [
    "DCT1_slopes = common.filter_slopes(DCT1_slopes)\n",
    "DCT1_slopes"
   ]
  },
  {
   "cell_type": "code",
   "execution_count": null,
   "metadata": {},
   "outputs": [],
   "source": [
    "DCT2_slopes = common.filter_slopes(DCT2_slopes)\n",
    "DCT2_slopes = common.filter_slopes(DCT2_slopes)\n",
    "DCT2_slopes"
   ]
  },
  {
   "cell_type": "markdown",
   "metadata": {},
   "source": [
    "## Sort the slopes at each quantization step\n",
    "Notice that the TPs (Truncation Points) generated in a component must be used in order."
   ]
  },
  {
   "cell_type": "code",
   "execution_count": null,
   "metadata": {},
   "outputs": [],
   "source": [
    "all_slopes = DCT0_slopes + DCT1_slopes + DCT2_slopes\n",
    "sorted_slopes = sorted(all_slopes, key=lambda x: x[0])[::-1]\n",
    "sorted_slopes"
   ]
  },
  {
   "cell_type": "markdown",
   "metadata": {},
   "source": [
    "## Compute the optimal RD curve\n",
    "And finally, let's compute the RD curve (remember that the previous points are only an estimation of the order in which the quantization steps should be increased in each component to build the RD curve, not the real RD curve that measures the distortion in the RGB domain)."
   ]
  },
  {
   "cell_type": "code",
   "execution_count": null,
   "metadata": {},
   "outputs": [],
   "source": [
    "def DCT_optimal_curve(RGB_img, sorted_slopes, quantizer, components):\n",
    "    RGB_img = RGB_img.astype(float)\n",
    "    RGB_img[..., 0] -= np.average(RGB_img[..., 0])\n",
    "    RGB_img[..., 1] -= np.average(RGB_img[..., 1])\n",
    "    RGB_img[..., 2] -= np.average(RGB_img[..., 2])\n",
    "    points = []\n",
    "    Q_steps_per_component = [256, 256, 256] # This should generate a black image (the average of each component is 0).\n",
    "    DCT_img = color_DCT.from_RGB(RGB_img)\n",
    "    k = np.empty_like(DCT_img)\n",
    "    DCT_y = np.empty_like(DCT_img)\n",
    "    for i in sorted_slopes:\n",
    "        print(i)\n",
    "        component, Q_step = i[1], i[2]\n",
    "        Q_steps_per_component[components.index(component)] = Q_step\n",
    "        for c, Q_step in zip(components, Q_steps_per_component):\n",
    "            component_index = components.index(c)\n",
    "            DCT_y[..., component_index], k[..., component_index] = quantizer.quan_dequan(DCT_img[..., component_index], Q_step)\n",
    "        rate = common.bits_per_color_pixel((k + 128).astype(np.uint8), str(Q_steps_per_component) + '_')\n",
    "        print(\"Used quantization indexes:\", np.unique((k + 128).astype(np.uint8)))\n",
    "        #y_RGB = YCrCb.to_RGB(y + 128)\n",
    "        #RGB_y = color_DCT.to_RGB(DCT_y)               # Uncomment to compute distortion\n",
    "        #_distortion = distortion.RMSE(RGB_img, RGB_y)  # in the RGB domain.\n",
    "        _distortion = distortion.RMSE(DCT_img, DCT_y)  # Uncomment to compute distortion in the DCT domain.\n",
    "        #common.show(y_RGB, f\"Q_step={Q_steps_per_component}, rate={rate:>7} bits/pixel, distortion={_distortion:>6.1f}\")\n",
    "        points.append((rate, _distortion))\n",
    "        print(f\"Q_step={Q_steps_per_component}, rate={rate:>7} bits/pixel, distortion={_distortion:>6.1f}\")\n",
    "    return points\n",
    "\n",
    "\n",
    "\n",
    "DCT_optimal_RD_points = DCT_optimal_curve(RGB_img, sorted_slopes, quantizer, DCT_components)\n",
    "DCT_optimal_RD_points"
   ]
  },
  {
   "cell_type": "markdown",
   "metadata": {},
   "source": [
    "## Compare the curves"
   ]
  },
  {
   "cell_type": "code",
   "execution_count": null,
   "metadata": {},
   "outputs": [],
   "source": [
    "pylab.figure(dpi=150)\n",
    "pylab.plot(*zip(*DCT_same_delta_RD_points_RGBdistortion), c='b', marker='o', label=\"$\\Delta_{\\mathrm{DCT0}} = \\Delta_{\\mathrm{DCT1}} = \\Delta_{\\mathrm{DCT2}}$\", linestyle=\"dashed\")\n",
    "pylab.plot(*zip(*DCT_optimal_RD_points), c='r', marker='x', label=\"Optimal\", linestyle=\"dotted\")\n",
    "pylab.title(\"Rate/Distortion\")\n",
    "pylab.xlabel(\"Bits/Pixel\")\n",
    "pylab.ylabel(\"RMSE\")\n",
    "pylab.legend(loc='upper right')\n",
    "pylab.show()"
   ]
  },
  {
   "cell_type": "code",
   "execution_count": null,
   "metadata": {},
   "outputs": [],
   "source": [
    "with open('color_DCT.txt', 'w') as f:\n",
    "    for item in DCT_optimal_RD_points:\n",
    "        f.write(f\"{item[0]}\\t{item[1]}\\n\")"
   ]
  },
  {
   "cell_type": "markdown",
   "metadata": {},
   "source": [
    "## Conclusión\n",
    "The performance of the simple quantization solution ($\\Delta_{\\mathrm{DCT0}} = \\Delta_{\\mathrm{DCT1}} = \\Delta_{\\mathrm{DCT2}}$) is very close to the optimal one. This is normal because the DCT is orthogonal."
   ]
  },
  {
   "cell_type": "code",
   "execution_count": null,
   "metadata": {},
   "outputs": [],
   "source": []
  },
  {
   "cell_type": "code",
   "execution_count": null,
   "metadata": {},
   "outputs": [],
   "source": [
    "def color_DCT_optimal_curve(RGB_img, RD_points_per_component):\n",
    "    RGB_img = RGB_img.astype(float)\n",
    "    RGB_img[..., 0] -= np.average(RGB_img[..., 0])\n",
    "    RGB_img[..., 1] -= np.average(RGB_img[..., 1])\n",
    "    RGB_img[..., 2] -= np.average(RGB_img[..., 2])\n",
    "    points = []\n",
    "    Q_steps_per_component = [256, 256, 256] # This should generate a black image (the average of each component is 0).\n",
    "    DCT_img = color_DCT.from_RGB(RGB_img)\n",
    "    k = np.empty_like(DCT_img)\n",
    "    DCT_y = np.empty_like(DCT_img)\n",
    "    max_gain = np.max(RD_points_per_component[0])\n",
    "    while Q_steps_per_component != [2, 2, 2]:\n",
    "        \n",
    "    for i in sorted_slopes:\n",
    "        print(i)\n",
    "        component, Q_step = i[1], i[2]\n",
    "        Q_steps_per_component[components.index(component)] = Q_step\n",
    "        for c, Q_step in zip(components, Q_steps_per_component):\n",
    "            component_index = components.index(c)\n",
    "            DCT_y[..., component_index], k[..., component_index] = quantizer.quan_dequan(DCT_img[..., component_index], Q_step)\n",
    "        rate = common.bits_per_color_pixel((k + 128).astype(np.uint8), str(Q_steps_per_component) + '_')\n",
    "        print(\"Used quantization indexes:\", np.unique((k + 128).astype(np.uint8)))\n",
    "        #y_RGB = YCrCb.to_RGB(y + 128)\n",
    "        #RGB_y = color_DCT.to_RGB(DCT_y)               # Uncomment to compute distortion\n",
    "        #_distortion = distortion.RMSE(RGB_img, RGB_y)  # in the RGB domain.\n",
    "        _distortion = distortion.RMSE(DCT_img, DCT_y)  # Uncomment to compute distortion in the DCT domain.\n",
    "        #common.show(y_RGB, f\"Q_step={Q_steps_per_component}, rate={rate:>7} bits/pixel, distortion={_distortion:>6.1f}\")\n",
    "        points.append((rate, _distortion))\n",
    "        print(f\"Q_step={Q_steps_per_component}, rate={rate:>7} bits/pixel, distortion={_distortion:>6.1f}\")\n",
    "    return points\n",
    "\n",
    "DCT_optimal_RD_points = DCT_optimal_curve(RGB_img, sorted_slopes, quantizer, DCT_components)\n",
    "DCT_optimal_RD_points"
   ]
  },
  {
   "cell_type": "markdown",
   "metadata": {},
   "source": [
    "## Optimal RD curve (measuring distortion in the RGB domain)\n",
    "Useful when the transform is not orthogonal."
   ]
  },
  {
   "cell_type": "markdown",
   "metadata": {},
   "source": [
    "## RD curve of each DCT component\n",
    "\n",
    "Notice that the distortion has been measured in the RGB domain and that the components are not "
   ]
  },
  {
   "cell_type": "code",
   "execution_count": null,
   "metadata": {},
   "outputs": [],
   "source": [
    "def color_DCT_RD_curve_per_component_(RGB_img, Q_steps, Q, components):\n",
    "    N_components = len(components)\n",
    "    RGB_img = RGB_img.astype(float)\n",
    "    for c in range(N_components):\n",
    "        avg = np.average(RGB_img[..., c])\n",
    "        RGB_img[..., c] -= avg\n",
    "        print(f\"channel={c} average={avg}\")\n",
    "    DCT_img = color_DCT.from_RGB(RGB_img)\n",
    "    DCT_img_copy = DCT_img.copy()\n",
    "    RD_points = []\n",
    "    for c in range(N_components):\n",
    "        RD_points.append([])\n",
    "    for Q_step in Q_steps:\n",
    "        DCT_k = Q.quantize(DCT_img, Q_step)\n",
    "        for component_index in range(N_components):\n",
    "            component_name = components[component_index]\n",
    "            DCT_y = np.zeros_like(DCT_img)\n",
    "            DCT_y = DCT_img_copy.copy()\n",
    "            DCT_y[..., component_index] = Q.dequantize(DCT_k[..., component_index], Q_step)\n",
    "            #print(Q_step, DCT_k[..., component_index].max(), DCT_k[..., component_index].min(), information.entropy(DCT_k[..., component_index]))\n",
    "            rate = common.bits_per_gray_pixel(DCT_k[..., component_index], str(Q_step) + '_' + component_name + '_' + str(components[component_index]))\n",
    "            RGB_y = color_DCT.to_RGB(DCT_y)\n",
    "            _distortion = distortion.RMSE(RGB_img, RGB_y)\n",
    "            #common.show(RGB_y, components[component_index] + ' ' + str(Q_step))\n",
    "            RD_points[component_index].append((rate, _distortion, component_name, Q_step))\n",
    "            print(f\"component_index={components[component_index]} q_step={Q_step:>3}, rate={rate:>7} bits/pixel, distortion={_distortion:>6.1f}\")\n",
    "    return RD_points\n",
    "           \n",
    "def color_DCT_RD_curve_per_component(RGB_img, Q_steps, Q, components):\n",
    "    N_components = len(components)\n",
    "    RGB_img = RGB_img.astype(float)\n",
    "    for c in range(N_components):\n",
    "        avg = np.average(RGB_img[..., c])\n",
    "        RGB_img[..., c] -= avg\n",
    "        print(f\"channel={c} average={avg}\")\n",
    "    DCT_img = color_DCT.from_RGB(RGB_img)\n",
    "    DCT_img_copy = DCT_img.copy()\n",
    "    RD_points = []\n",
    "    for c in range(N_components):\n",
    "        RD_points.append([(0, 100000, c, 512)])\n",
    "        #RD_points.append([])\n",
    "    for Q_step in Q_steps:\n",
    "        for component_index in range(N_components):\n",
    "            component_name = components[component_index]\n",
    "            #DCT_k = np.zeros_like(DCT_img)\n",
    "            DCT_k = DCT_img_copy.copy()\n",
    "            DCT_y = DCT_img_copy.copy()\n",
    "            DCT_k[..., component_index] = Q.quantize(DCT_img[..., component_index], Q_step)\n",
    "            DCT_y[..., component_index] = Q.dequantize(DCT_k[..., component_index], Q_step)\n",
    "            #print(Q_step, DCT_k[..., component_index].max(), DCT_k[..., component_index].min(), information.entropy(DCT_k[..., component_index]))\n",
    "            BPP = common.bits_per_gray_pixel(DCT_k[..., component_index].astype(np.uint8), str(Q_step) + '_' + component_name + '_' + str(components[component_index]))\n",
    "            RGB_y = color_DCT.to_RGB(DCT_y)\n",
    "            RMSE = distortion.RMSE(RGB_img, RGB_y)\n",
    "            #common.show(RGB_y, components[component_index] + ' ' + str(Q_step))\n",
    "            RD_points[component_index].append((BPP, RMSE, component_name, Q_step))\n",
    "            print(f\"component_index={components[component_index]} q_step={Q_step}, rate={BPP} bits/pixel, distortion={RMSE}\")\n",
    "    return RD_points\n",
    "\n",
    "DCT_RD_curve_per_component = color_DCT_RD_curve_per_component(RGB_img, Q_steps, quantizer, DCT_components)"
   ]
  },
  {
   "cell_type": "code",
   "execution_count": null,
   "metadata": {
    "scrolled": false
   },
   "outputs": [],
   "source": [
    "DCT_RD_curve_per_component"
   ]
  },
  {
   "cell_type": "markdown",
   "metadata": {},
   "source": [
    "## Display the curve of each component"
   ]
  },
  {
   "cell_type": "code",
   "execution_count": null,
   "metadata": {},
   "outputs": [],
   "source": [
    "pylab.figure(dpi=150)\n",
    "#pylab.plot(*zip(*[(i[0], i[1]) for i in DCT_RD_curve_per_component[0]]), c='r', marker='.', label=\"$\\mathrm{DCT0}}$\", linestyle=\"dashed\")\n",
    "#pylab.plot(*zip(*[(i[0], i[1]) for i in DCT_RD_curve_per_component[1]]), c='g', marker='.', label=\"$\\mathrm{DCT1}}$\", linestyle=\"dashed\")\n",
    "#pylab.plot(*zip(*[(i[0], i[1]) for i in DCT_RD_curve_per_component[2]]), c='b', marker='.', label=\"$\\mathrm{DCT2}}$\", linestyle=\"dashed\")\n",
    "pylab.plot(*zip(*[(i[0], i[1]) for i in DCT_RD_curve_per_component[0][1:]]), c='r', marker='.', label=\"$\\mathrm{DCT0}}$\", linestyle=\"dashed\")\n",
    "pylab.plot(*zip(*[(i[0], i[1]) for i in DCT_RD_curve_per_component[1][1:]]), c='g', marker='.', label=\"$\\mathrm{DCT1}}$\", linestyle=\"dashed\")\n",
    "pylab.plot(*zip(*[(i[0], i[1]) for i in DCT_RD_curve_per_component[2][1:]]), c='b', marker='.', label=\"$\\mathrm{DCT2}}$\", linestyle=\"dashed\")\n",
    "pylab.title(\"Rate/Distortion\")\n",
    "pylab.xlabel(\"Bits/Pixel\")\n",
    "pylab.ylabel(\"RMSE in RGB domain\")\n",
    "pylab.legend(loc='upper right')\n",
    "pylab.show()"
   ]
  },
  {
   "cell_type": "markdown",
   "metadata": {},
   "source": [
    "Notice that this plot represents the impact in the RGB domain of quantizing each component, keeping the rest unquantized. Therefore, the most important component from a RD point of view is DCT0."
   ]
  },
  {
   "cell_type": "markdown",
   "metadata": {},
   "source": [
    "## Compute the slope of each point"
   ]
  },
  {
   "cell_type": "code",
   "execution_count": null,
   "metadata": {},
   "outputs": [],
   "source": [
    "def compute_slopes(RD_points):\n",
    "    counter = 0\n",
    "    RD_slopes = []\n",
    "    points_iterator = iter(RD_points)\n",
    "    next(points_iterator)\n",
    "    for i in points_iterator:\n",
    "        BPP = i[0] # Rate \n",
    "        delta_BPP = BPP - RD_points[counter][0]\n",
    "        RMSE = i[1] # Distortion\n",
    "        delta_RMSE = RMSE - RD_points[counter][1] \n",
    "        if delta_BPP > 0:\n",
    "            slope = abs(delta_RMSE/delta_BPP)\n",
    "        else:\n",
    "            slope = 0\n",
    "        component = i[2]\n",
    "        Q_step = i[3]\n",
    "        print((slope, i), delta_RMSE, delta_BPP)\n",
    "        RD_slopes.append((slope, component, Q_step))\n",
    "        counter += 1\n",
    "    return RD_slopes"
   ]
  },
  {
   "cell_type": "code",
   "execution_count": null,
   "metadata": {},
   "outputs": [],
   "source": [
    "#DCT0_slopes = common.compute_slopes(DCT_RD_curve_per_component[0])\n",
    "#DCT1_slopes = common.compute_slopes(DCT_RD_curve_per_component[1])\n",
    "#DCT2_slopes = common.compute_slopes(DCT_RD_curve_per_component[2])\n",
    "DCT0_slopes = compute_slopes(DCT_RD_curve_per_component[0])\n",
    "DCT1_slopes = compute_slopes(DCT_RD_curve_per_component[1])\n",
    "DCT2_slopes = compute_slopes(DCT_RD_curve_per_component[2])"
   ]
  },
  {
   "cell_type": "code",
   "execution_count": null,
   "metadata": {},
   "outputs": [],
   "source": [
    "DCT0_slopes"
   ]
  },
  {
   "cell_type": "code",
   "execution_count": null,
   "metadata": {},
   "outputs": [],
   "source": [
    "DCT1_slopes"
   ]
  },
  {
   "cell_type": "code",
   "execution_count": null,
   "metadata": {},
   "outputs": [],
   "source": [
    "DCT2_slopes"
   ]
  },
  {
   "cell_type": "markdown",
   "metadata": {},
   "source": [
    "## Filter the curves\n",
    "Remove those RD points that do not belong to the convex-hull."
   ]
  },
  {
   "cell_type": "code",
   "execution_count": null,
   "metadata": {},
   "outputs": [],
   "source": [
    "DCT0_slopes = common.filter_slopes(DCT0_slopes)\n",
    "DCT0_slopes"
   ]
  },
  {
   "cell_type": "code",
   "execution_count": null,
   "metadata": {},
   "outputs": [],
   "source": [
    "DCT1_slopes = common.filter_slopes(DCT1_slopes)\n",
    "DCT1_slopes"
   ]
  },
  {
   "cell_type": "code",
   "execution_count": null,
   "metadata": {},
   "outputs": [],
   "source": [
    "DCT2_slopes = common.filter_slopes(DCT2_slopes)\n",
    "DCT2_slopes = common.filter_slopes(DCT2_slopes)\n",
    "DCT2_slopes"
   ]
  },
  {
   "cell_type": "markdown",
   "metadata": {},
   "source": [
    "## Sort the slopes at each quantization step\n",
    "Notice that the TPs (Truncation Points) generated in a component must be used in order."
   ]
  },
  {
   "cell_type": "code",
   "execution_count": null,
   "metadata": {},
   "outputs": [],
   "source": [
    "all_slopes = DCT0_slopes + DCT1_slopes + DCT2_slopes\n",
    "sorted_slopes = sorted(all_slopes, key=lambda x: x[0])[::-1]\n",
    "sorted_slopes"
   ]
  },
  {
   "cell_type": "markdown",
   "metadata": {},
   "source": [
    "## Compute the optimal RD curve\n",
    "And finally, let's compute the RD curve (remember that the previous points are only an estimation of the order in which the quantization steps should be increased in each component to build the RD curve, not the real RD curve that measures the distortion in the RGB domain)."
   ]
  },
  {
   "cell_type": "code",
   "execution_count": null,
   "metadata": {},
   "outputs": [],
   "source": [
    "def DCT_optimal_curve(RGB_img, sorted_slopes, quantizer, components):\n",
    "    RGB_img = RGB_img.astype(float)\n",
    "    RGB_img[..., 0] -= np.average(RGB_img[..., 0])\n",
    "    RGB_img[..., 1] -= np.average(RGB_img[..., 1])\n",
    "    RGB_img[..., 2] -= np.average(RGB_img[..., 2])\n",
    "    points = []\n",
    "    Q_steps_per_component = [256, 256, 256] # This should generate a black image (the average of each component is 0).\n",
    "    DCT_img = color_DCT.from_RGB(RGB_img)\n",
    "    k = np.empty_like(DCT_img)\n",
    "    DCT_y = np.empty_like(DCT_img)\n",
    "    for i in sorted_slopes:\n",
    "        print(i)\n",
    "        component, Q_step = i[1], i[2]\n",
    "        Q_steps_per_component[components.index(component)] = Q_step\n",
    "        for c, Q_step in zip(components, Q_steps_per_component):\n",
    "            component_index = components.index(c)\n",
    "            DCT_y[..., component_index], k[..., component_index] = quantizer.quan_dequan(DCT_img[..., component_index], Q_step)\n",
    "        rate = common.bits_per_color_pixel(k.astype(np.uint8), str(Q_steps_per_component) + '_')\n",
    "        #y_RGB = YCrCb.to_RGB(y + 128)\n",
    "        #RGB_y = color_DCT.to_RGB(DCT_y)               # Uncomment to compute distortion\n",
    "        #_distortion = distortion.RMSE(RGB_img, RGB_y)  # in the RGB domain.\n",
    "        _distortion = distortion.RMSE(DCT_img, DCT_y)  # Uncomment to compute distortion in the DCT domain.\n",
    "        #common.show(y_RGB, f\"Q_step={Q_steps_per_component}, rate={rate:>7} bits/pixel, distortion={_distortion:>6.1f}\")\n",
    "        points.append((rate, _distortion))\n",
    "        print(f\"Q_step={Q_steps_per_component}, rate={rate:>7} bits/pixel, distortion={_distortion:>6.1f}\")\n",
    "    return points\n",
    "\n",
    "DCT_optimal_RD_points = DCT_optimal_curve(RGB_img, sorted_slopes, quantizer, DCT_components)\n",
    "DCT_optimal_RD_points"
   ]
  },
  {
   "cell_type": "markdown",
   "metadata": {},
   "source": [
    "## Compare the curves"
   ]
  },
  {
   "cell_type": "code",
   "execution_count": null,
   "metadata": {},
   "outputs": [],
   "source": [
    "pylab.figure(dpi=150)\n",
    "pylab.plot(*zip(*DCT_same_delta_RD_points_RGBdistortion), c='b', marker='o', label=\"$\\Delta_{\\mathrm{DCT0}} = \\Delta_{\\mathrm{DCT1}} = \\Delta_{\\mathrm{DCT2}}$\", linestyle=\"dashed\")\n",
    "pylab.plot(*zip(*DCT_optimal_RD_points), c='r', marker='x', label=\"Optimal\", linestyle=\"dotted\")\n",
    "pylab.title(\"Rate/Distortion\")\n",
    "pylab.xlabel(\"Bits/Pixel\")\n",
    "pylab.ylabel(\"RMSE\")\n",
    "pylab.legend(loc='upper right')\n",
    "pylab.show()"
   ]
  },
  {
   "cell_type": "code",
   "execution_count": null,
   "metadata": {},
   "outputs": [],
   "source": [
    "with open('color_DCT.txt', 'w') as f:\n",
    "    for item in DCT_optimal_RD_points:\n",
    "        f.write(f\"{item[0]}\\t{item[1]}\\n\")"
   ]
  },
  {
   "cell_type": "markdown",
   "metadata": {},
   "source": [
    "## Conclusión\n",
    "The performance of the simple quantization solution ($\\Delta_{\\mathrm{DCT0}} = \\Delta_{\\mathrm{DCT1}} = \\Delta_{\\mathrm{DCT2}}$) is very close to the optimal one. This is normal because the DCT is orthogonal."
   ]
  },
  {
   "cell_type": "markdown",
   "metadata": {},
   "source": [
    "## Compare to quantizing directly in the RGB domain"
   ]
  },
  {
   "cell_type": "code",
   "execution_count": null,
   "metadata": {},
   "outputs": [],
   "source": [
    "RGB_points = []\n",
    "with open(f'../05-RGB_compression/RGB.txt', 'r') as f:\n",
    "    for line in f:\n",
    "        rate, _distortion = line.split('\\t')\n",
    "        RGB_points.append((float(rate), float(_distortion)))"
   ]
  },
  {
   "cell_type": "code",
   "execution_count": null,
   "metadata": {},
   "outputs": [],
   "source": [
    "pylab.figure(dpi=150)\n",
    "pylab.plot(*zip(*RGB_points), c='b', marker='o', label=\"Quantization in the RGB domain\", linestyle=\"dashed\")\n",
    "pylab.plot(*zip(*DCT_optimal_RD_points), c='r', marker='x', label=\"Quantization in the color-DCT domain\", linestyle=\"dotted\")\n",
    "pylab.title(\"Rate/Distortion\")\n",
    "pylab.xlabel(\"Bits/Pixel\")\n",
    "pylab.ylabel(\"RMSE\")\n",
    "pylab.legend(loc='upper right')\n",
    "pylab.show()"
   ]
  },
  {
   "cell_type": "code",
   "execution_count": null,
   "metadata": {},
   "outputs": [],
   "source": []
  },
  {
   "cell_type": "code",
   "execution_count": null,
   "metadata": {},
   "outputs": [],
   "source": []
  },
  {
   "cell_type": "code",
   "execution_count": null,
   "metadata": {},
   "outputs": [],
   "source": []
  }
 ],
 "metadata": {
  "kernelspec": {
   "display_name": "Python 3 (ipykernel)",
   "language": "python",
   "name": "python3"
  },
  "language_info": {
   "codemirror_mode": {
    "name": "ipython",
    "version": 3
   },
   "file_extension": ".py",
   "mimetype": "text/x-python",
   "name": "python",
   "nbconvert_exporter": "python",
   "pygments_lexer": "ipython3",
   "version": "3.10.5"
  }
 },
 "nbformat": 4,
 "nbformat_minor": 4
}

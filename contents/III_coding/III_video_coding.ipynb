{
 "cells": [
  {
   "cell_type": "markdown",
   "id": "700126b9",
   "metadata": {},
   "source": [
    "# III Video Coding\n"
   ]
  },
  {
   "cell_type": "code",
   "execution_count": null,
   "id": "d4e1261a",
   "metadata": {},
   "outputs": [],
   "source": [
    "!ln -sf ~/repos/image_IO/image_3.py .\n",
    "import image_3 as frame_RGB\n",
    "!ln -sf ~/information_theory/information.py .\n",
    "import information\n",
    "!ln -sf ~/information_theory/distortion.py .\n",
    "import distortion\n",
    "#!ln -sf ~/repos/YCoCg/YCoCg.py .\n",
    "#import YCoCg as YUV\n",
    "!ln -sf ~/repos/DCT/color_DCT.py .\n",
    "import color_DCT as YUV\n",
    "!ln -sf ~/repos/scalar_quantization/quantization.py .\n",
    "import quantization\n",
    "!ln -sf ~/repos/scalar_quantization/deadzone_quantization.py .\n",
    "#import deadzone_quantization as deadzone\n",
    "from deadzone_quantization import Deadzone_Quantizer as Quantizer"
   ]
  },
  {
   "cell_type": "code",
   "execution_count": null,
   "id": "5b675d92",
   "metadata": {},
   "outputs": [],
   "source": [
    "def encode_sequence(sequence_prefix, codestream_prefix, first_picture=0, N_pictures=16, Q_step=1):\n",
    "    k = first_frame\n",
    "    for picture_number in range(N_pictures):\n",
    "        print(\"Processing picture number =\", picture_number)\n",
    "        encode_picture(sequence_prefix, codestream_prefix, picture_number, Q_step)"
   ]
  },
  {
   "cell_type": "code",
   "execution_count": null,
   "id": "8ffcafa6",
   "metadata": {},
   "outputs": [],
   "source": [
    "def encode_picture(sequence_prefix, codestream_prefix, picture_index=0, Q_step=1):\n",
    "    picture = image_IO.read(test_image)\n",
    "    YUV_pic = YUV.from_RGB(picture.astype(np.int16))\n",
    "    avgs = [np.average(YUV_img[..., c]) for c in range(3)]\n",
    "    for c in range(3):\n",
    "        YUV_pic[..., c] -= int(avgs[c])\n",
    "    decom = spatial_transform.analyze(YUV_pic)"
   ]
  },
  {
   "cell_type": "code",
   "execution_count": null,
   "id": "4452436f",
   "metadata": {},
   "outputs": [],
   "source": [
    "def encode_GOP(video_prefix, GOP_index=0, GOP_size=16, Q_step=1):\n",
    "    k = GOP_index * GOP_size\n",
    "    V_k = frame_RGB.read(video_prefix, k).astype(np.int16) - 128\n",
    "    initial_flow = np.zeros((V_k.shape[0], V_k.shape[1], 2), dtype=np.float32)\n",
    "    W_k = YUV.from_RGB(V_k) # (a)\n",
    "    W_k_1 = W_k # (b)\n",
    "    E_k = W_k # (f)\n",
    "    reconstructed_picture = "
   ]
  },
  {
   "cell_type": "code",
   "execution_count": null,
   "id": "7b21b984",
   "metadata": {},
   "outputs": [],
   "source": [
    "def encode_sequence(video_prefix, first_frame=0, N_frames=16, GOP_size=16, Q_step=1):\n",
    "    k = first_frame\n"
   ]
  }
 ],
 "metadata": {
  "kernelspec": {
   "display_name": "Python 3 (ipykernel)",
   "language": "python",
   "name": "python3"
  },
  "language_info": {
   "codemirror_mode": {
    "name": "ipython",
    "version": 3
   },
   "file_extension": ".py",
   "mimetype": "text/x-python",
   "name": "python",
   "nbconvert_exporter": "python",
   "pygments_lexer": "ipython3",
   "version": "3.10.5"
  }
 },
 "nbformat": 4,
 "nbformat_minor": 5
}

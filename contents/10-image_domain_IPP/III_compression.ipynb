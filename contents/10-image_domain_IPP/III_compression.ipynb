{
 "cells": [
  {
   "cell_type": "markdown",
   "metadata": {},
   "source": [
    "[![Binder](https://mybinder.org/badge_logo.svg)](https://nbviewer.org/github/Sistemas-Multimedia/Sistemas-Multimedia.github.io/blob/master/milestones/07-DCT/block_DCT_compression.ipynb)"
   ]
  },
  {
   "cell_type": "markdown",
   "metadata": {},
   "source": [
    "# III... video compression"
   ]
  },
  {
   "cell_type": "markdown",
   "metadata": {},
   "source": [
    "## Parameters"
   ]
  },
  {
   "cell_type": "code",
   "execution_count": null,
   "metadata": {},
   "outputs": [],
   "source": [
    "import numpy as np\n",
    "import matplotlib\n",
    "import matplotlib.pyplot as plt\n",
    "%matplotlib inline\n",
    "!ln -sf ~/MRVC/src/image_3.py .\n",
    "import image_3 as image\n",
    "!ln -sf ~/MRVC/src/image_1.py .\n",
    "import image_1 as component\n",
    "!ln -sf ~/MRVC/src/block_DCT.py .\n",
    "#!ln -sf ~/MRVC/src/YCoCg.py .\n",
    "#import YCoCg as color\n",
    "!ln -sf ~/MRVC/src/color_DCT.py .\n",
    "import color_DCT as color\n",
    "#!ln -sf ~/MRVC/src/RGB.py .\n",
    "#import RGB as color\n",
    "import cv2 # pip install opencv-python\n",
    "!ln -sf ~/quantization/information.py .\n",
    "import information\n",
    "!ln -sf ~/quantization/distortion.py .\n",
    "import distortion\n",
    "import os\n",
    "import pylab\n",
    "!ln -sf ~/quantization/deadzone_quantizer.py .\n",
    "import deadzone_quantizer as Q\n",
    "import math\n",
    "import block_DCT as DCT"
   ]
  },
  {
   "cell_type": "code",
   "execution_count": null,
   "metadata": {},
   "outputs": [],
   "source": [
    "G = 4 # GOP size"
   ]
  },
  {
   "cell_type": "code",
   "execution_count": null,
   "metadata": {},
   "outputs": [],
   "source": [
    "!~/MRVC/sequences/container/runme.sh -n $G"
   ]
  },
  {
   "cell_type": "code",
   "execution_count": null,
   "metadata": {},
   "outputs": [],
   "source": [
    "sequence = \"/tmp/original_\""
   ]
  },
  {
   "cell_type": "code",
   "execution_count": null,
   "metadata": {},
   "outputs": [],
   "source": [
    "block_y_side = block_x_side = 8"
   ]
  },
  {
   "cell_type": "code",
   "execution_count": null,
   "metadata": {},
   "outputs": [],
   "source": [
    "N_components = 3"
   ]
  },
  {
   "cell_type": "code",
   "execution_count": null,
   "metadata": {},
   "outputs": [],
   "source": [
    "entropy_estimator = \"PNG\"\n",
    "if entropy_estimator == \"PNG\":\n",
    "    def compute_BPP(_image, filename_prefix, index):\n",
    "        BPP = image.write(_image, filename_prefix, index)*8/_image.size\n",
    "        return BPP\n",
    "else:\n",
    "    def compute_BPP(_image, filename_prefix, index):\n",
    "        entropy = information.entropy(_image.flatten().astype(np.int16))\n",
    "        return entropy"
   ]
  },
  {
   "cell_type": "markdown",
   "metadata": {},
   "source": [
    "## Using the DCT"
   ]
  },
  {
   "cell_type": "markdown",
   "metadata": {},
   "source": [
    "### Quantization steps"
   ]
  },
  {
   "cell_type": "code",
   "execution_count": null,
   "metadata": {},
   "outputs": [],
   "source": [
    "Q_steps = [128, 64, 32, 16, 8]"
   ]
  },
  {
   "cell_type": "markdown",
   "metadata": {},
   "source": [
    "### Using same $\\Delta$ for all coefficients"
   ]
  },
  {
   "cell_type": "markdown",
   "metadata": {},
   "source": [
    "#### Version 0: Each quantized decomposition is written in a different PNG file"
   ]
  },
  {
   "cell_type": "code",
   "execution_count": null,
   "metadata": {},
   "outputs": [],
   "source": [
    "RD_points_no_RDO = []\n",
    "for Q_step in Q_steps:\n",
    "    acc_BPP = 0 # Accacumulated rate\n",
    "    acc_RMSE = 0 # Accumulated distortion\n",
    "    for i in range(G):\n",
    "        frame = image.read(sequence, i)\n",
    "        YUV_frame = color.from_RGB(frame.astype(np.int16) - 128)\n",
    "        DCT_blocks = DCT.analyze_image(YUV_frame, block_y_side, block_x_side)\n",
    "        DCT_blocks_k = DCT.uniform_quantize(DCT_blocks, block_y_side, block_x_side, N_components, Q_step)\n",
    "        DCT_blocks_dQ = DCT.uniform_dequantize(DCT_blocks_k, block_y_side, block_x_side, N_components, Q_step)\n",
    "        YUV_frame_dQ = DCT.synthesize_image(DCT_blocks_dQ, block_y_side, block_x_side)\n",
    "        frame_dQ = color.to_RGB(YUV_frame_dQ) + 128\n",
    "        RMSE = distortion.RMSE(frame, frame_dQ)\n",
    "        acc_RMSE += RMSE\n",
    "        DCT_subbands_k = DCT.get_subbands(DCT_blocks_k, block_y_side, block_x_side)\n",
    "        assert (DCT_subbands_k.all() >= -128), f\"min value = {np.min(DCT_subbands_k)}\"\n",
    "        assert (DCT_subbands_k.all() <=  127), f\"min value = {np.max(DCT_subbands_k)}\"\n",
    "        if __debug__:\n",
    "            print(np.min(DCT_subbands_k), np.max(DCT_subbands_k))\n",
    "        BPP = compute_BPP((DCT_subbands_k + 128).astype(np.uint8), f\"/tmp/{Q_step}_\", i)\n",
    "        acc_BPP += BPP\n",
    "    RD_points_no_RDO.append((acc_BPP/G, acc_RMSE/G))\n",
    "    print(i, Q_step, end=' ', flush=True)"
   ]
  },
  {
   "cell_type": "code",
   "execution_count": null,
   "metadata": {
    "scrolled": true
   },
   "outputs": [],
   "source": [
    "RD_points_no_RDO"
   ]
  },
  {
   "cell_type": "markdown",
   "metadata": {},
   "source": [
    "#### Version 1: All (quantization indexes) decomposition are concatenated and then written into a single PNG file"
   ]
  },
  {
   "cell_type": "code",
   "execution_count": null,
   "metadata": {
    "scrolled": true
   },
   "outputs": [],
   "source": [
    "RD_points_no_RDO_one_PNG = []\n",
    "for Q_step in Q_steps:\n",
    "    avg_RMSE = 0\n",
    "    sequence_of_quantized_decompositions = []\n",
    "    for i in range(G):\n",
    "        frame = image.read(sequence, i)\n",
    "        YUV_frame = color.from_RGB(frame.astype(np.int16) - 128)\n",
    "        DCT_blocks = DCT.analyze_image(YUV_frame, block_y_side, block_x_side)\n",
    "        DCT_blocks_k = DCT.uniform_quantize(DCT_blocks, block_y_side, block_x_side, N_components, Q_step)\n",
    "        DCT_blocks_dQ = DCT.uniform_dequantize(DCT_blocks_k, block_y_side, block_x_side, N_components, Q_step)\n",
    "        YUV_frame_dQ = DCT.synthesize_image(DCT_blocks_dQ, block_y_side, block_x_side)\n",
    "        frame_dQ = color.to_RGB(YUV_frame_dQ) + 128\n",
    "        RMSE = distortion.RMSE(frame, frame_dQ)\n",
    "        avg_RMSE += RMSE\n",
    "        DCT_subbands_k = DCT.get_subbands(DCT_blocks_k, block_y_side, block_x_side)\n",
    "        sequence_of_quantized_decompositions.append(DCT_subbands_k)\n",
    "    concatenation = np.concatenate(sequence_of_quantized_decompositions)\n",
    "    assert (concatenation.all() >= -128), f\"min value = {np.min(concatenation)}\"\n",
    "    assert (concatenation.all() <=  127), f\"min value = {np.max(concatenation)}\"\n",
    "    if __debug__:\n",
    "        print(np.min(concatenation), np.max(concatenation))\n",
    "    BPP = compute_BPP((concatenation + 128).astype(np.uint8), f\"/tmp/{Q_step}_\", 0)\n",
    "    RD_points_no_RDO_one_PNG.append((BPP, avg_RMSE/G))\n",
    "    print(i, Q_step, end=' ', flush=True)"
   ]
  },
  {
   "cell_type": "code",
   "execution_count": null,
   "metadata": {},
   "outputs": [],
   "source": [
    "RD_points_no_RDO_one_PNG"
   ]
  },
  {
   "cell_type": "code",
   "execution_count": null,
   "metadata": {},
   "outputs": [],
   "source": [
    "pylab.figure(dpi=150)\n",
    "pylab.plot(*zip(*RD_points_no_RDO), label=\"Different PNG files\")\n",
    "pylab.plot(*zip(*RD_points_no_RDO_one_PNG), label=\"One PNG file\")\n",
    "pylab.title(\"\")\n",
    "pylab.xlabel(\"BPP\")\n",
    "pylab.ylabel(\"MSE\")\n",
    "plt.legend(loc=\"best\")\n",
    "pylab.show()"
   ]
  },
  {
   "cell_type": "markdown",
   "metadata": {},
   "source": [
    "The differences are insignificant."
   ]
  },
  {
   "cell_type": "markdown",
   "metadata": {},
   "source": [
    "### Using RDO (Rate/Distortion Optimization)"
   ]
  },
  {
   "cell_type": "markdown",
   "metadata": {},
   "source": [
    "#### Find the optimal progression of combinations of quantization steps\n",
    "Each input frame is transformed. The resulting subband-components are quantized and their RD contribution estimated, supossing that the distortion can be measured in the transform domain, and the spatial/statistical decorrelation of the entropy codec between subband-components is zero."
   ]
  },
  {
   "cell_type": "code",
   "execution_count": null,
   "metadata": {},
   "outputs": [],
   "source": [
    "RD_points = []\n",
    "RD_slopes = []\n",
    "N_components = YUV_frame.shape[2]\n",
    "single_list = []\n",
    "counter = 0\n",
    "\n",
    "for frame_number in range(G):\n",
    "    frame = image.read(sequence, frame_number)\n",
    "    blocks_in_y = frame.shape[0]//block_y_side\n",
    "    blocks_in_x = frame.shape[1]//block_x_side\n",
    "\n",
    "    YUV_frame = color.from_RGB(frame.astype(np.int16))\n",
    "    YUV_frame[...,0] -= np.average(YUV_frame[...,0]).astype(np.int16)\n",
    "    YUV_frame[...,1] -= np.average(YUV_frame[...,1]).astype(np.int16)\n",
    "    YUV_frame[...,2] -= np.average(YUV_frame[...,2]).astype(np.int16)\n",
    "\n",
    "    DCT_blocks = DCT.analyze_image(YUV_frame, block_y_side, block_x_side)\n",
    "    DCT_subbands = DCT.get_subbands(DCT_blocks, block_y_side, block_x_side)\n",
    "\n",
    "    # Top-left point of each subband-component RD curve\n",
    "    for _y in range(block_y_side):\n",
    "        for _x in range(block_x_side):\n",
    "            for _c in range(N_components):\n",
    "                sbc = DCT_subbands[blocks_in_y*_y : blocks_in_y*(_y + 1), blocks_in_x*_x : blocks_in_x*(_x + 1), _c]\n",
    "                sbc_energy = information.average_energy(sbc)\n",
    "                # The first point of each RD curve has a maximum distortion equal\n",
    "                # to the energy of the subband and a rate = 0\n",
    "                RD_points.append([(0, sbc_energy)]) # (Rate, Distortion) of a subband-component of a frame\n",
    "                RD_slopes.append([])\n",
    "                counter += 1\n",
    "    print(counter)\n",
    "\n",
    "    for _y in range(block_y_side):\n",
    "        for _x in range(block_x_side):\n",
    "            for _c in range(N_components):\n",
    "                sbc = DCT_subbands[blocks_in_y*_y : blocks_in_y*(_y + 1), blocks_in_x*_x : blocks_in_x*(_x + 1), _c]\n",
    "                frame_subband_component_number = 0\n",
    "                for Q_step in Q_steps:\n",
    "                    sbc_k = Q.quantize(sbc, Q_step)\n",
    "                    sbc_dQ = Q.dequantize(sbc_k, Q_step)\n",
    "                    RMSE = distortion.RMSE(sbc, sbc_dQ)\n",
    "                    assert (sbc_k.all() >=   0), f\"min value = {np.min(sbc_k)}\"\n",
    "                    assert (sbc_k.all() <= 255), f\"min value = {np.max(sbc_k)}\"\n",
    "                    BPP = component.write(sbc_k.astype(np.uint8), f\"/tmp/{_y}_{_x}_{Q_step}_\", 0)*8/YUV_frame.size\n",
    "                    #BPP_Q_indexes = information.PNG_BPP((Q_indexes.astype(np.int32) + 32768).astype(np.uint16), \"/tmp/BPP_\")[0]\n",
    "                    #BPP_Q_indexes = information.entropy(Q_indexes.astype(np.int16).flatten())\n",
    "                    point = (BPP, RMSE)\n",
    "                    RD_points[frame_number*block_y_side*block_x_side*N_components + (_y*block_x_side + _x)*N_components + _c].append(point)\n",
    "                    print(\"Q_step =\", Q_step, \"BPP =\", point[0], \"RMSE =\", point[1])\n",
    "                    delta_BPP = BPP - RD_points[frame_number*block_y_side*block_x_side*N_components + (_y*block_x_side + _x)*N_components + _c][frame_subband_component_number][0]\n",
    "                    delta_RMSE = RD_points[frame_number*block_y_side*block_x_side*N_components + (_y*block_x_side + _x)*N_components + _c][frame_subband_component_number][1] - MSE\n",
    "                    if delta_BPP > 0:\n",
    "                        slope = delta_RMSE/delta_BPP\n",
    "                        RD_slopes[frame_number*block_y_side*block_x_side*N_components + (_y*block_x_side + _x)*N_components + _c].append((slope, (frame_number, _y, _x, _c), Q_step))\n",
    "                    else:\n",
    "                        slope = 0\n",
    "                    frame_subband_component_number += 1"
   ]
  },
  {
   "cell_type": "code",
   "execution_count": null,
   "metadata": {},
   "outputs": [],
   "source": [
    "RD_slopes"
   ]
  },
  {
   "cell_type": "code",
   "execution_count": null,
   "metadata": {},
   "outputs": [],
   "source": [
    "len(RD_slopes)"
   ]
  },
  {
   "cell_type": "code",
   "execution_count": null,
   "metadata": {},
   "outputs": [],
   "source": [
    "    def filter_slopes(slopes):\n",
    "        filtered_slopes = []\n",
    "        slopes_iterator = iter(slopes)\n",
    "        prev = next(slopes_iterator)\n",
    "        for curr in slopes_iterator:\n",
    "            if int(prev[0]) <= int(curr[0]):\n",
    "                print(f\"deleted {prev}\")\n",
    "            else:\n",
    "                filtered_slopes.append(prev)\n",
    "            prev = curr\n",
    "        filtered_slopes.append(prev)\n",
    "        return filtered_slopes\n",
    "\n",
    "    filtered_slopes = []\n",
    "    for i in RD_slopes:\n",
    "        filtered_slopes.append(filter_slopes(i))\n",
    "\n",
    "    for l in filtered_slopes:\n",
    "        #l = filter_slopes(l)\n",
    "        for i in l:\n",
    "            #if i[1] > 0:\n",
    "            single_list.append(i)"
   ]
  },
  {
   "cell_type": "code",
   "execution_count": null,
   "metadata": {},
   "outputs": [],
   "source": [
    "sorted_slopes = sorted(single_list, key=lambda x: x[0])[::-1]"
   ]
  },
  {
   "cell_type": "code",
   "execution_count": null,
   "metadata": {},
   "outputs": [],
   "source": [
    "sorted_slopes"
   ]
  },
  {
   "cell_type": "code",
   "execution_count": null,
   "metadata": {},
   "outputs": [],
   "source": [
    "len(sorted_slopes)"
   ]
  },
  {
   "cell_type": "markdown",
   "metadata": {},
   "source": [
    "### Build the optimal RD curve\n",
    "For each quantization steps combination, that now has 4 dimensions (frame_number, subband_x, subband_y, component), compute the distortion of the (all) decompositions (generated by the GOF) in the transform domain. As we did with a single image, the initial quantization steps combination\n",
    "\\begin{equation}\n",
    "  \\boxed{\n",
    "    \\begin{matrix}\n",
    "       \\infty & \\infty & \\cdots & \\infty \\\\\n",
    "       \\infty & \\infty & \\cdots & \\infty \\\\\n",
    "       \\vdots & \\vdots &        & \\vdots \\\\\n",
    "       \\infty & \\infty & \\cdots & \\infty \n",
    "    \\end{matrix}\n",
    "  }\n",
    "  \\boxed{\n",
    "    \\begin{matrix}\n",
    "       \\infty & \\infty & \\cdots & \\infty \\\\\n",
    "       \\infty & \\infty & \\cdots & \\infty \\\\\n",
    "       \\vdots & \\vdots &        & \\vdots \\\\\n",
    "       \\infty & \\infty & \\cdots & \\infty \n",
    "    \\end{matrix}\n",
    "  }\n",
    "  \\cdots\n",
    "  \\boxed{\n",
    "    \\begin{matrix}\n",
    "       \\infty & \\infty & \\cdots & \\infty \\\\\n",
    "       \\infty & \\infty & \\cdots & \\infty \\\\\n",
    "       \\vdots & \\vdots &        & \\vdots \\\\\n",
    "       \\infty & \\infty & \\cdots & \\infty \n",
    "    \\end{matrix}\n",
    "  }\n",
    "\\end{equation}\n",
    "(remember, one quantization step by subband-component, so, in the previous figure, only one component has been considered) \"kills\" all the coefficients of all the subband-components (this generates the top-left point of the RD curve). Then, the combinations start to incorporate the quantization steps defined in `sorted_slopes`, until the quantization steps combination\n",
    "\\begin{equation}\n",
    "  \\boxed{\n",
    "    \\begin{matrix}\n",
    "       1 & 1 & \\cdots & 1 \\\\\n",
    "       1 & 1 & \\cdots & 1 \\\\\n",
    "       \\vdots & \\vdots &        & \\vdots \\\\\n",
    "       1 & 1 & \\cdots & 1 \n",
    "    \\end{matrix}\n",
    "  }\n",
    "  \\boxed{\n",
    "    \\begin{matrix}\n",
    "       1 & 1 & \\cdots & 1 \\\\\n",
    "       1 & 1 & \\cdots & 1 \\\\\n",
    "       \\vdots & \\vdots &        & \\vdots \\\\\n",
    "       1 & 1 & \\cdots & 1 \n",
    "    \\end{matrix}\n",
    "  }\n",
    "  \\cdots\n",
    "  \\boxed{\n",
    "    \\begin{matrix}\n",
    "       1 & 1 & \\cdots & 1 \\\\\n",
    "       1 & 1 & \\cdots & 1 \\\\\n",
    "       \\vdots & \\vdots &        & \\vdots \\\\\n",
    "       1 & 1 & \\cdots & 1 \n",
    "    \\end{matrix}\n",
    "  }\n",
    "\\end{equation}\n",
    "is finally used (if it has not been discarted by the convex-hull filter)."
   ]
  },
  {
   "cell_type": "code",
   "execution_count": null,
   "metadata": {
    "scrolled": true
   },
   "outputs": [],
   "source": [
    "decompositions = []\n",
    "for frame_number in range(G):\n",
    "    frame = image.read(sequence, frame_number)\n",
    "    YUV_frame = color.from_RGB(frame.astype(np.int16))\n",
    "    YUV_frame[...,0] -= np.average(YUV_frame[...,0]).astype(np.int16)\n",
    "    YUV_frame[...,1] -= np.average(YUV_frame[...,1]).astype(np.int16)\n",
    "    YUV_frame[...,2] -= np.average(YUV_frame[...,2]).astype(np.int16)\n",
    "    DCT_blocks = DCT.analyze_image(YUV_frame, block_y_side, block_x_side)\n",
    "    DCT_decomposition = DCT.get_subbands(DCT_blocks, block_y_side, block_x_side)\n",
    "    decompositions.append(DCT_decomposition)\n",
    "\n",
    "optimal_RD_points = []\n",
    "Q_steps_combinations = []\n",
    "decompositions_prog = []\n",
    "for i in range(G):\n",
    "    Q_steps_combinations.append(np.full(shape=(block_x_side, block_y_side, N_components), fill_value=99999999))\n",
    "    decompositions_prog.append(np.zeros_like(decompositions[0]))\n",
    "    \n",
    "for s in sorted_slopes:\n",
    "    sbc_index = s[1]\n",
    "    decomposition_number = sbc_index[0]\n",
    "    _y = sbc_index[1]\n",
    "    _x = sbc_index[2]\n",
    "    _c = sbc_index[3]\n",
    "    \n",
    "    # Gets the (unquantized) coefficients\n",
    "    for i in range(G):\n",
    "        decompositions_prog[i] = decompositions[i].copy()\n",
    "    #reconstructed_decompositions\n",
    "    #    [decomposition]\n",
    "    #    [blocks_in_y*_y : blocks_in_y*(_y + 1), blocks_in_x*_x : blocks_in_x*(_x + 1), c]\n",
    "    #    = decomposed_GOF[decomposition]\n",
    "    #                    [blocks_in_y*_y : blocks_in_y*(_y + 1), blocks_in_x*_x : blocks_in_x*(_x + 1), _c]\n",
    "    \n",
    "    # Consider the next quantization step\n",
    "    Q_steps_combinations[decomposition_number][_y, _x, _c] = s[2]\n",
    "    \n",
    "    decompositions_prog_k = []\n",
    "    decompositions_prog_dQ = []\n",
    "    for i in range(G):\n",
    "        decompositions_prog_k.append(DCT.quantize(decompositions_prog[i], Q_steps_combinations[i]))\n",
    "        decompositions_prog_dQ.append(DCT.dequantize(decompositions_prog_k[i], Q_steps_combinations[i]))\n",
    "    \n",
    "    acc_BPP = 0 # Accacumulated rate\n",
    "    acc_RMSE = 0 # Accumulated distortion\n",
    "    for i in range(G):\n",
    "        RMSE = distortion.RMSE(decompositions[i], decompositions_prog_dQ[i])\n",
    "        acc_RMSE += RMSE\n",
    "        BPP = image.write((decompositions_prog_k[i] + 128).astype(np.uint8), f\"/tmp/{decomposition_number}_{_y}_{_x}_{_c}_{s[0]}_\", 0)*8/frame.size\n",
    "        acc_BPP += BPP\n",
    "\n",
    "    point = (acc_BPP/G, acc_RMSE/G)\n",
    "    print(\"sbc =\", sbc_index, \"Q_step =\", s[2], \"BPP =\", BPP, \"RMSE =\", RMSE)\n",
    "    optimal_RD_points.append(point)"
   ]
  },
  {
   "cell_type": "markdown",
   "metadata": {},
   "source": [
    "### Compare"
   ]
  },
  {
   "cell_type": "code",
   "execution_count": null,
   "metadata": {},
   "outputs": [],
   "source": [
    "pylab.figure(dpi=150)\n",
    "pylab.plot(*zip(*RD_points_no_RDO), label=\"No RDO\")\n",
    "pylab.plot(*zip(*optimal_RD_points), label=\"Using RDO\")\n",
    "pylab.title(f\"Effect of using RDO ($G={G}$)\")\n",
    "pylab.xlabel(\"Bits/Pixel\")\n",
    "pylab.ylabel(\"MSE\")\n",
    "plt.legend(loc=\"best\")\n",
    "#pylab.yscale('log')\n",
    "#pylab.xscale('log')\n",
    "pylab.show()"
   ]
  },
  {
   "cell_type": "markdown",
   "metadata": {},
   "source": [
    "## Using the YCoCg (TODO)\n",
    "Remember that this color transform is not orthogonal and therefore, the distortion cannot be measured in the transform domain."
   ]
  },
  {
   "cell_type": "markdown",
   "metadata": {},
   "source": [
    "## Using the DWT (TODO)"
   ]
  }
 ],
 "metadata": {
  "kernelspec": {
   "display_name": "Python 3 (ipykernel)",
   "language": "python",
   "name": "python3"
  },
  "language_info": {
   "codemirror_mode": {
    "name": "ipython",
    "version": 3
   },
   "file_extension": ".py",
   "mimetype": "text/x-python",
   "name": "python",
   "nbconvert_exporter": "python",
   "pygments_lexer": "ipython3",
   "version": "3.10.4"
  }
 },
 "nbformat": 4,
 "nbformat_minor": 4
}

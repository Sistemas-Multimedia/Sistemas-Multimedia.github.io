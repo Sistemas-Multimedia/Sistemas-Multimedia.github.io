{
 "cells": [
  {
   "cell_type": "markdown",
   "id": "ac66d9ec",
   "metadata": {},
   "source": [
    "[![Binder](https://mybinder.org/badge_logo.svg)](https://nbviewer.org/github/Sistemas-Multimedia/Sistemas-Multimedia.github.io/blob/master/contents/RGB_VQ/RGB_VQ.ipynb)"
   ]
  },
  {
   "cell_type": "markdown",
   "id": "be92470a",
   "metadata": {},
   "source": [
    "[![Colab](https://badgen.net/badge/Launch/on%20Google%20Colab/blue?icon=notebook)](https://colab.research.google.com/github/Sistemas-Multimedia/Sistemas-Multimedia.github.io/blob/master/contents/RGB_VQ/RGB_VQ.ipynb)"
   ]
  },
  {
   "cell_type": "markdown",
   "id": "00163105",
   "metadata": {},
   "source": [
    "# [Vector Quantization (in the color domain) of a RGB image](https://scikit-learn.org/stable/auto_examples/cluster/plot_color_quantization.html#sphx-glr-auto-examples-cluster-plot-color-quantization-py)\n",
    "Color VQ using [K-means](https://scikit-learn.org/stable/modules/generated/sklearn.cluster.KMeans.html#sklearn.cluster.KMeans)."
   ]
  },
  {
   "cell_type": "code",
   "execution_count": null,
   "id": "256d45c0",
   "metadata": {},
   "outputs": [],
   "source": [
    "%%bash\n",
    "if [ -d \"$HOME/repos\" ]; then\n",
    "    echo \"\\\"$HOME/repos\\\" exists\"\n",
    "else\n",
    "    mkdir ~/repos\n",
    "    echo Created $HOME/repos\n",
    "fi"
   ]
  },
  {
   "cell_type": "code",
   "execution_count": null,
   "id": "0cd98f51",
   "metadata": {},
   "outputs": [],
   "source": [
    "%%bash\n",
    "if [ -d \"$HOME/repos/scalar_quantization\" ]; then\n",
    "    cd $HOME/repos/scalar_quantization\n",
    "    echo \"$HOME/repos/scalar_quantization ... \"\n",
    "    git pull \n",
    "else\n",
    "    cd $HOME/repos\n",
    "    git clone https://github.com/vicente-gonzalez-ruiz/scalar_quantization.git\n",
    "fi"
   ]
  },
  {
   "cell_type": "code",
   "execution_count": null,
   "id": "81461d79",
   "metadata": {},
   "outputs": [],
   "source": [
    "%%bash\n",
    "if [ -d \"$HOME/repos/image_IO\" ]; then\n",
    "    cd $HOME/repos/image_IO\n",
    "    echo \"$HOME/repos/image_IO ... \"\n",
    "    git pull \n",
    "else\n",
    "    cd $HOME/repos\n",
    "    git clone https://github.com/vicente-gonzalez-ruiz/image_IO.git\n",
    "fi"
   ]
  },
  {
   "cell_type": "code",
   "execution_count": null,
   "id": "173f11e9",
   "metadata": {},
   "outputs": [],
   "source": [
    "%%bash\n",
    "if [ -d \"$HOME/repos/MRVC\" ]; then\n",
    "    cd $HOME/repos/MRVC\n",
    "    echo \"$HOME/repos/MRVC ... \"\n",
    "    git pull \n",
    "else\n",
    "    cd $HOME/repos\n",
    "    git clone https://github.com/Sistemas-Multimedia/MRVC.git\n",
    "fi"
   ]
  },
  {
   "cell_type": "code",
   "execution_count": null,
   "id": "ae0987a2",
   "metadata": {},
   "outputs": [],
   "source": [
    "!ln -sf ~/repos/information_theory/information.py .\n",
    "!ln -sf ~/repos/information_theory/distortion.py .\n",
    "!ln -sf ~/repos/image_IO/image_1.py .\n",
    "!ln -sf ~/repos/image_IO/image_3.py .\n",
    "!ln -sf ~/repos/image_IO/logging_config.py ."
   ]
  },
  {
   "cell_type": "code",
   "execution_count": null,
   "id": "c0fdeb4b",
   "metadata": {},
   "outputs": [],
   "source": [
    "import numpy as np\n",
    "from PIL import Image\n",
    "from matplotlib import pyplot as plt\n",
    "from sklearn.cluster import KMeans\n",
    "from sklearn.utils import shuffle\n",
    "import image_3 as RGB_image\n",
    "import image_1 as gray_image\n",
    "import distortion\n",
    "import information\n",
    "import os\n",
    "import pylab\n",
    "import gzip"
   ]
  },
  {
   "cell_type": "markdown",
   "id": "c6f75457",
   "metadata": {},
   "source": [
    "## Configuration"
   ]
  },
  {
   "cell_type": "code",
   "execution_count": null,
   "id": "9c957c63",
   "metadata": {},
   "outputs": [],
   "source": [
    "home = os.environ[\"HOME\"]\n",
    "fn = home + \"/repos/MRVC/images/lena_color/\"\n",
    "n_clusters = 256  # Number of bins\n",
    "range_of_N_bins = [1<<i for i in range(1, 8)]\n",
    "#gray_image.write = gray_image.debug_write # faster, but lower compression\n",
    "image_dtype = np.uint8 # For 8 bpp/component images\n",
    "#image_dtype = np.uint16 # For 16 bpp/component images\n",
    "\n",
    "#RGB_image.write = RGB_image.debug_write # Faster, but lower compression\n",
    "RGB_image.write = information.write # The fastest, but returns only an estimation of the length\n",
    "#gray_image.write = gray_image.debug_write # Faster, but lower compression\n",
    "gray_image.write = information.write # The fastest, but returns only an estimation of the length"
   ]
  },
  {
   "cell_type": "markdown",
   "id": "57df64bf",
   "metadata": {},
   "source": [
    "## Read the image and show it"
   ]
  },
  {
   "cell_type": "code",
   "execution_count": null,
   "id": "1a8134a0",
   "metadata": {},
   "outputs": [],
   "source": [
    "RGB_img = RGB_image.read(fn).astype(image_dtype)\n",
    "RGB_image.show(RGB_img, fn + \"000.png\")"
   ]
  },
  {
   "cell_type": "markdown",
   "id": "a3bf0d10",
   "metadata": {},
   "source": [
    "## Example"
   ]
  },
  {
   "cell_type": "code",
   "execution_count": null,
   "id": "0edcb429",
   "metadata": {},
   "outputs": [],
   "source": [
    "# Create a K-means clustering tool\n",
    "normalized_img = np.array(RGB_img,dtype=np.float64) / 255\n",
    "w, h, d = shape_of_img = tuple(RGB_img.shape)\n",
    "img_reshaped = normalized_img.reshape((w*h, d))\n",
    "kmeans = KMeans(n_clusters=32, random_state=0)\n",
    "some_samples = shuffle(img_reshaped, random_state=0, n_samples=1_000)"
   ]
  },
  {
   "cell_type": "code",
   "execution_count": null,
   "id": "7da00e97",
   "metadata": {},
   "outputs": [],
   "source": [
    "# Find centroids in clusters (CPU intensive)\n",
    "kmeans.fit(some_samples)"
   ]
  },
  {
   "cell_type": "code",
   "execution_count": null,
   "id": "4d938d6e",
   "metadata": {},
   "outputs": [],
   "source": [
    "# Quantize\n",
    "centroids = kmeans.cluster_centers_\n",
    "labels = kmeans.predict(img_reshaped)\n",
    "VQ_img = centroids[labels].reshape(w, h, -1)\n",
    "RGB_image.show(VQ_img, \"Quantized Image using floating point pallete\")"
   ]
  },
  {
   "cell_type": "code",
   "execution_count": null,
   "id": "8c3dc942",
   "metadata": {},
   "outputs": [],
   "source": [
    "print(centroids)"
   ]
  },
  {
   "cell_type": "code",
   "execution_count": null,
   "id": "f8c96154",
   "metadata": {},
   "outputs": [],
   "source": [
    "centroids = (centroids * 255).astype(np.uint8)\n",
    "print(centroids)"
   ]
  },
  {
   "cell_type": "code",
   "execution_count": null,
   "id": "9e2133f6",
   "metadata": {},
   "outputs": [],
   "source": [
    "VQ_img = centroids[labels].reshape(w, h, -1)\n",
    "RGB_image.show(VQ_img, \"Quantized Image using integer pallete\")"
   ]
  },
  {
   "cell_type": "code",
   "execution_count": null,
   "id": "f96070cd",
   "metadata": {},
   "outputs": [],
   "source": [
    "with gzip.GzipFile(\"/tmp/codebook.npy.gz\", \"w\") as f:\n",
    "    np.save(file=f, arr=centroids)\n",
    "os.path.getsize(\"/tmp/codebook.npy.gz\")"
   ]
  },
  {
   "cell_type": "code",
   "execution_count": null,
   "id": "32f1f458",
   "metadata": {},
   "outputs": [],
   "source": [
    "with gzip.GzipFile(\"/tmp/codebook.npy.gz\", \"r\") as f:\n",
    "    centroids = np.load(f)\n",
    "print(centroids)"
   ]
  },
  {
   "cell_type": "markdown",
   "id": "a48681fa",
   "metadata": {},
   "source": [
    "## RD performance\n",
    "The code-book is considered in the computation of the bit-rate."
   ]
  },
  {
   "cell_type": "code",
   "execution_count": null,
   "id": "1affe2c3",
   "metadata": {},
   "outputs": [],
   "source": [
    "def RD_curve(img, range_of_N_bins):\n",
    "    normalized_img = np.array(RGB_img,dtype=np.float64) / 255\n",
    "    w, h, d = shape_of_img = tuple(RGB_img.shape)\n",
    "    img_reshaped = normalized_img.reshape((w*h, d))\n",
    "    points = []\n",
    "    for n in range_of_N_bins:\n",
    "        kmeans = KMeans(n_clusters=n, random_state=0)\n",
    "        some_samples = shuffle(img_reshaped, random_state=0, n_samples=1_000)\n",
    "        kmeans.fit(some_samples)\n",
    "        centroids = kmeans.cluster_centers_\n",
    "        labels = kmeans.predict(img_reshaped)\n",
    "        k = labels.astype(np.uint8) # Up to 256 bins\n",
    "        y = (centroids[k].reshape(w, h, -1) * 255).astype(np.uint8)\n",
    "        print(\"Quantization indexes: \", np.unique(k))\n",
    "        rate = RGB_image.write(k, \"/tmp/\" + str(n) + '_', 0)*8/(img.shape[0]*img.shape[1])\n",
    "        print(img.size)\n",
    "        with gzip.GzipFile(\"/tmp/codebook.npy.gz\", \"w\") as f:\n",
    "            np.save(file=f, arr=centroids)\n",
    "        rate += (os.path.getsize(\"/tmp/codebook.npy.gz\")*8/(img.shape[0]*img.shape[1]))\n",
    "        _distortion = distortion.RMSE(img, y)\n",
    "        plt.title(f\"{n}\")\n",
    "        plt.imshow(y, cmap=plt.cm.gray, vmin=0, vmax=256)\n",
    "        plt.show()\n",
    "        points.append((rate, _distortion))\n",
    "        print(f\"n={n:>3}, rate={rate:>7} bits/pixel, distortion={_distortion:>6.1f}\")\n",
    "    return points\n",
    "\n",
    "RD_points = RD_curve(RGB_img, range_of_N_bins)"
   ]
  },
  {
   "cell_type": "code",
   "execution_count": null,
   "id": "bdeb0831",
   "metadata": {},
   "outputs": [],
   "source": [
    "YCoCg_SQ = []\n",
    "with open(f'../YCoCg_SQ/YCoCg_SQ.txt', 'r') as f:\n",
    "    for line in f:\n",
    "        BPP, RMSE = line.split('\\t')\n",
    "        YCoCg_SQ.append((float(BPP), float(RMSE)))"
   ]
  },
  {
   "cell_type": "code",
   "execution_count": null,
   "id": "e4914870",
   "metadata": {},
   "outputs": [],
   "source": [
    "pylab.figure(dpi=150)\n",
    "#pylab.scatter(*zip(*RD_points), label=f\"VQ+PNG\", s=1, marker='.')\n",
    "pylab.plot(*zip(*YCoCg_SQ), c='b', marker='o', label=\"Deadzone($\\mathbf{\\Delta}^{\\mathrm{Y}}_i = \\mathbf{\\Delta}^{\\mathrm{Co}}_i = \\mathbf{\\Delta}^{\\mathrm{Cg}}_i$)+PNG\", linestyle=\"dashed\")\n",
    "pylab.plot(*zip(*RD_points), c='m', marker='x', label=\"VQ($\\mathrm{RGB}$)+PNG\", linestyle=\"dotted\")\n",
    "pylab.title(fn)\n",
    "pylab.xlabel(\"Bits/Pixel\")\n",
    "pylab.ylabel(\"RMSE\")\n",
    "pylab.legend(loc='upper right')\n",
    "pylab.show()"
   ]
  },
  {
   "cell_type": "code",
   "execution_count": null,
   "id": "747c28b8",
   "metadata": {},
   "outputs": [],
   "source": [
    "with open(f\"RGB_VQ.txt\", 'w') as f:\n",
    "    for item in RD_points:\n",
    "        f.write(f\"{item[0]}\\t{item[1]}\\n\")"
   ]
  },
  {
   "cell_type": "code",
   "execution_count": null,
   "id": "1506f090",
   "metadata": {},
   "outputs": [],
   "source": [
    "import time\n",
    "while True:\n",
    "    time.sleep(1)"
   ]
  },
  {
   "cell_type": "markdown",
   "id": "d063f06b",
   "metadata": {},
   "source": [
    "## Ignore the rest ..."
   ]
  },
  {
   "cell_type": "markdown",
   "id": "66988981",
   "metadata": {},
   "source": [
    "## Compare to SQ"
   ]
  },
  {
   "cell_type": "code",
   "execution_count": null,
   "id": "a473bb39",
   "metadata": {},
   "outputs": [],
   "source": [
    "def load(path):\n",
    "    curve = []\n",
    "    with open(path, 'r') as f:\n",
    "        for line in f:\n",
    "            rate, _distortion = line.split('\\t')\n",
    "            curve.append((float(rate), float(_distortion)))\n",
    "    return curve"
   ]
  },
  {
   "cell_type": "code",
   "execution_count": null,
   "id": "9045ec45",
   "metadata": {},
   "outputs": [],
   "source": [
    "SQ_color = load(\"../RGB_SQ/RGB_SQ.txt\")"
   ]
  },
  {
   "cell_type": "code",
   "execution_count": null,
   "id": "8e159cd7",
   "metadata": {},
   "outputs": [],
   "source": [
    "pylab.figure(dpi=150)\n",
    "pylab.plot(*zip(*RD_points), c='m', marker='x', label=\"VQ\", linestyle=\"dotted\")\n",
    "pylab.plot(*zip(*SQ_color), c='k', marker='x', label=\"SQ\", linestyle=\"dotted\")\n",
    "pylab.title(fn)\n",
    "pylab.xlabel(\"Bits/Pixel\")\n",
    "pylab.ylabel(\"RMSE\")\n",
    "pylab.legend(loc='upper right')\n",
    "#pylab.xscale(\"log\")\n",
    "#pylab.yscale(\"log\")\n",
    "pylab.show()"
   ]
  },
  {
   "cell_type": "code",
   "execution_count": null,
   "id": "4e66a9e1",
   "metadata": {},
   "outputs": [],
   "source": [
    "import time\n",
    "while True:\n",
    "    time.sleep(1)"
   ]
  },
  {
   "cell_type": "code",
   "execution_count": null,
   "id": "055503f7",
   "metadata": {},
   "outputs": [],
   "source": [
    "if 'google.colab' in str(get_ipython()):\n",
    "    %run ./deadzone.ipynb\n",
    "    deadzone_RD = load(\"./dead-zone_RD_points.txt\")\n",
    "    print(\"loaded ./dead-zone_RD_points.txt\")\n",
    "elif not os.path.exists(\"../scalar_quantization/dead-zone_RD_points.txt\"):\n",
    "    %run ../scalar_quantization/deadzone.ipynb\n",
    "    deadzone_RD = load(\"../scalar_quantization/dead-zone_RD_points.txt\")\n",
    "    print(\"loaded ../scalar_quantization/dead-zone_RD_points.txt after regenerating the file\")\n",
    "else:\n",
    "    deadzone_RD = load(\"../scalar_quantization/dead-zone_RD_points.txt\")\n",
    "    print(\"loaded ../scalar_quantization/dead-zone_RD_points.txt without regenerating the file\")"
   ]
  }
 ],
 "metadata": {
  "kernelspec": {
   "display_name": "Python 3 (ipykernel)",
   "language": "python",
   "name": "python3"
  },
  "language_info": {
   "codemirror_mode": {
    "name": "ipython",
    "version": 3
   },
   "file_extension": ".py",
   "mimetype": "text/x-python",
   "name": "python",
   "nbconvert_exporter": "python",
   "pygments_lexer": "ipython3",
   "version": "3.10.5"
  }
 },
 "nbformat": 4,
 "nbformat_minor": 5
}

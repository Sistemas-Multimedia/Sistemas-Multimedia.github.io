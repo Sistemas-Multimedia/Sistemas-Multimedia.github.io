{
 "cells": [
  {
   "cell_type": "markdown",
   "id": "00163105",
   "metadata": {},
   "source": [
    "# RGB Vector Quantization\n",
    "Using [K-means](https://scikit-learn.org/stable/auto_examples/cluster/plot_color_quantization.html#sphx-glr-auto-examples-cluster-plot-color-quantization-py)."
   ]
  },
  {
   "cell_type": "code",
   "execution_count": 1,
   "id": "c0fdeb4b",
   "metadata": {},
   "outputs": [],
   "source": [
    "import numpy as np\n",
    "from PIL import Image\n",
    "from matplotlib import pyplot as plt\n",
    "from sklearn.cluster import KMeans"
   ]
  },
  {
   "cell_type": "code",
   "execution_count": 2,
   "id": "8bd1183a",
   "metadata": {},
   "outputs": [
    {
     "ename": "NameError",
     "evalue": "name 'original' is not defined",
     "output_type": "error",
     "traceback": [
      "\u001b[0;31m---------------------------------------------------------------------------\u001b[0m",
      "\u001b[0;31mNameError\u001b[0m                                 Traceback (most recent call last)",
      "Input \u001b[0;32mIn [2]\u001b[0m, in \u001b[0;36m<module>\u001b[0;34m\u001b[0m\n\u001b[0;32m----> 1\u001b[0m inarray \u001b[38;5;241m=\u001b[39m np\u001b[38;5;241m.\u001b[39marray(\u001b[43moriginal\u001b[49m,dtype\u001b[38;5;241m=\u001b[39mnp\u001b[38;5;241m.\u001b[39mfloat64)\n\u001b[1;32m      2\u001b[0m orig \u001b[38;5;241m=\u001b[39m inarray\n\u001b[1;32m      3\u001b[0m inarray \u001b[38;5;241m=\u001b[39m inarray\u001b[38;5;241m.\u001b[39mreshape((\u001b[38;5;241m-\u001b[39m\u001b[38;5;241m1\u001b[39m,\u001b[38;5;241m1\u001b[39m)) \u001b[38;5;66;03m# flatten\u001b[39;00m\n",
      "\u001b[0;31mNameError\u001b[0m: name 'original' is not defined"
     ]
    }
   ],
   "source": [
    "inarray = np.array(original,dtype=np.float64)\n",
    "orig = inarray\n",
    "inarray = inarray.reshape((-1,1)) # flatten\n",
    "kmeans = KMeans(n_clusters=4, init='random') # Define number of clusters\n",
    "kmeans.fit(inarray) # Find centroids in clusters\n",
    "centers = kmeans.cluster_centers_ # Centroids\n",
    "labels = kmeans.labels_ # Code-book\n",
    "\n",
    "# Quantize\n",
    "f=[]\n",
    "centers = centers.squeeze()\n",
    "for i in labels:\n",
    "    f.append(centers[i])\n",
    "    final = np.asarray(f)\n",
    "final = final.reshape(orig.shape)"
   ]
  },
  {
   "cell_type": "code",
   "execution_count": null,
   "id": "4d938d6e",
   "metadata": {},
   "outputs": [],
   "source": []
  }
 ],
 "metadata": {
  "kernelspec": {
   "display_name": "Python 3 (ipykernel)",
   "language": "python",
   "name": "python3"
  },
  "language_info": {
   "codemirror_mode": {
    "name": "ipython",
    "version": 3
   },
   "file_extension": ".py",
   "mimetype": "text/x-python",
   "name": "python",
   "nbconvert_exporter": "python",
   "pygments_lexer": "ipython3",
   "version": "3.10.5"
  }
 },
 "nbformat": 4,
 "nbformat_minor": 5
}

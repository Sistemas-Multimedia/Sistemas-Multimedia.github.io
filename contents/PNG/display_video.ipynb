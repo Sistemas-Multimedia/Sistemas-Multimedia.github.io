{
 "cells": [
  {
   "cell_type": "markdown",
   "metadata": {
    "colab_type": "text",
    "id": "view-in-github"
   },
   "source": [
    "[![Binder](https://mybinder.org/badge_logo.svg)](https://mybinder.org/v2/gh/Sistemas-Multimedia/Sistemas-Multimedia.github.io/HEAD?labpath=contents%2FPNG%2Fdisplay_video.ipynb)"
   ]
  },
  {
   "cell_type": "markdown",
   "metadata": {},
   "source": [
    "[![Colab](https://badgen.net/badge/Launch/on%20Google%20Colab/blue?icon=notebook)](https://colab.research.google.com/github/Sistemas-Multimedia/Sistemas-Multimedia.github.io/blob/master/contents/PNG/display_video.ipynb)"
   ]
  },
  {
   "cell_type": "markdown",
   "metadata": {},
   "source": [
    "# Display a sequence of video"
   ]
  },
  {
   "cell_type": "code",
   "execution_count": null,
   "metadata": {},
   "outputs": [],
   "source": [
    "%%bash\n",
    "if [ -d \"$HOME/repos\" ]; then\n",
    "    echo \"\\\"$HOME/repos\\\" exists\"\n",
    "else\n",
    "    mkdir ~/repos\n",
    "    echo Created $HOME/repos\n",
    "fi"
   ]
  },
  {
   "cell_type": "code",
   "execution_count": null,
   "metadata": {},
   "outputs": [],
   "source": [
    "%%bash\n",
    "if [ -d \"$HOME/repos/MRVC\" ]; then\n",
    "    cd $HOME/repos/MRVC\n",
    "    echo \"$HOME/repos/MRVC ... \"\n",
    "    git pull \n",
    "else\n",
    "    cd $HOME/repos\n",
    "    git clone https://github.com/Sistemas-Multimedia/MRVC.git\n",
    "fi"
   ]
  },
  {
   "cell_type": "code",
   "execution_count": null,
   "metadata": {},
   "outputs": [],
   "source": [
    "#%%bash\n",
    "#if [ -d \"$HOME/repos/image_IO\" ]; then\n",
    "#    cd $HOME/repos/image_IO\n",
    "#    echo \"$HOME/repos/image_IO ... \"\n",
    "#    git pull \n",
    "#else\n",
    "#    cd $HOME/repos\n",
    "#    git clone https://github.com/vicente-gonzalez-ruiz/image_IO.git\n",
    "#fi\n",
    "try:\n",
    "    import image_IO\n",
    "except:\n",
    "    !pip install 'image_IO @ git+https://github.com/vicente-gonzalez-ruiz/image_IO'"
   ]
  },
  {
   "cell_type": "code",
   "execution_count": null,
   "metadata": {},
   "outputs": [],
   "source": [
    "import os\n",
    "\n",
    "try:\n",
    "    import colored\n",
    "except:\n",
    "    !pip install colored\n",
    "    import colored\n",
    "\n",
    "try:\n",
    "    import numpy as np\n",
    "except:\n",
    "    !pip install numpy\n",
    "    import numpy as np\n",
    "\n",
    "try:\n",
    "    import cv2\n",
    "except:\n",
    "    !pip install opencv-python\n",
    "    !pip install opencv-python-headless # Binder compatibility\n",
    "    import cv2\n",
    "\n",
    "try:\n",
    "    import matplotlib.pyplot as plt\n",
    "except:\n",
    "    !pip install matplotlib\n",
    "    import matplotlib.pyplot as plt\n",
    "%matplotlib inline\n",
    "\n",
    "!ln -sf ~/repos/image_IO/image_3.py .\n",
    "!ln -sf ~/repos/image_IO/logging_config.py .\n",
    "\n",
    "#import image_3 as frame\n",
    "from image_IO import image_3 as frame"
   ]
  },
  {
   "cell_type": "code",
   "execution_count": null,
   "metadata": {},
   "outputs": [],
   "source": [
    "if 'google.colab' in str(get_ipython()):\n",
    "    !apt-get -qq install -y bc ffmpeg\n",
    "# Binder install the pakages indicated in \"apt.txt\" placed at the root directory of the repo."
   ]
  },
  {
   "cell_type": "code",
   "execution_count": null,
   "metadata": {},
   "outputs": [],
   "source": [
    "def show(img, title):\n",
    "    img = frame.normalize(img)\n",
    "    plt.figure(figsize=(10,10))\n",
    "    plt.title(title, fontsize=20)\n",
    "    plt.imshow(img)\n",
    "\n",
    "def show_seq(prefix=\"/tmp/\", first_frame = 0, N_frames=5):\n",
    "    for i in range(first_frame, first_frame + N_frames):\n",
    "        img = frame.read(prefix, i)\n",
    "        show(img, f\"{prefix}{i:03d}\")\n",
    "\n",
    "def show_motion(prefix=\"/tmp/\", first_frame = 0, N_frames=5):\n",
    "    plt.figure(figsize=(10,10))\n",
    "    prev = frame.read(prefix, first_frame)\n",
    "    plt.title(f\"{prefix}{first_frame:03d}\", fontsize=20)\n",
    "    plt.imshow(frame.normalize(prev))\n",
    "    for i in range(first_frame + 1, first_frame + N_frames, 1):\n",
    "        img = frame.read(prefix, i)\n",
    "        diff = img.astype(np.int16) - prev\n",
    "        prev = img\n",
    "        diff = frame.normalize(diff)\n",
    "        plt.figure(figsize=(10,10))\n",
    "        plt.title(f\"{prefix}{i:03d}\", fontsize=20)\n",
    "        plt.imshow(diff)\n",
    "        #plt.imshow(diff[0])"
   ]
  },
  {
   "cell_type": "code",
   "execution_count": null,
   "metadata": {},
   "outputs": [],
   "source": [
    "home = os.environ[\"HOME\"]"
   ]
  },
  {
   "cell_type": "code",
   "execution_count": null,
   "metadata": {},
   "outputs": [],
   "source": [
    "!rm -f /tmp/*.png"
   ]
  },
  {
   "cell_type": "code",
   "execution_count": null,
   "metadata": {},
   "outputs": [],
   "source": [
    "sequence = \"stockholm_1280x768x50x420x578.avi\"\n",
    "URL = \"http://www.hpca.ual.es/~vruiz/videos/\"\n",
    "N_frames = 100 # Min val 3\n",
    "first_frame = 2"
   ]
  },
  {
   "cell_type": "code",
   "execution_count": null,
   "metadata": {},
   "outputs": [],
   "source": [
    "prefix=\"/tmp/original_\"\n",
    "!$home/repos/MRVC/sequences/extract_frames.sh -u $URL -s $sequence -o $prefix -f $first_frame -n $N_frames"
   ]
  },
  {
   "cell_type": "code",
   "execution_count": null,
   "metadata": {},
   "outputs": [],
   "source": [
    "#home = os.environ[\"HOME\"]\n",
    "#sequence_path = home + \"/repos/MRVC/sequences/stockholm/\""
   ]
  },
  {
   "cell_type": "code",
   "execution_count": null,
   "metadata": {},
   "outputs": [],
   "source": [
    "img = frame.read(prefix, 2)\n",
    "show(img, \"stockholm002\")"
   ]
  },
  {
   "cell_type": "code",
   "execution_count": null,
   "metadata": {
    "scrolled": false
   },
   "outputs": [],
   "source": [
    "show_seq(prefix, first_frame = first_frame)"
   ]
  },
  {
   "cell_type": "code",
   "execution_count": null,
   "metadata": {
    "scrolled": false
   },
   "outputs": [],
   "source": [
    "show_motion(prefix, first_frame = first_frame)"
   ]
  },
  {
   "cell_type": "markdown",
   "metadata": {},
   "source": [
    "## Correlation between the number of bits/pixel and the entropy"
   ]
  },
  {
   "cell_type": "code",
   "execution_count": null,
   "metadata": {},
   "outputs": [],
   "source": [
    "%%bash\n",
    "if [ -d \"$HOME/repos/information_theory\" ]; then\n",
    "    cd $HOME/repos/information_theory\n",
    "    echo \"$HOME/information_theory ... \"\n",
    "    git pull \n",
    "else\n",
    "    cd $HOME/repos\n",
    "    git clone https://github.com/vicente-gonzalez-ruiz/information_theory.git\n",
    "fi"
   ]
  },
  {
   "cell_type": "code",
   "execution_count": null,
   "metadata": {},
   "outputs": [],
   "source": [
    "!ln -sf ~/repos/information_theory/information.py .\n",
    "import information\n",
    "import os"
   ]
  },
  {
   "cell_type": "code",
   "execution_count": null,
   "metadata": {},
   "outputs": [],
   "source": [
    "def compute_BPPs_of_sequence(prefix=\"/tmp/\", first_frame = 0, N_frames=5):\n",
    "    BPPs = []\n",
    "    for i in range(first_frame, first_frame + N_frames):\n",
    "        #img = frame.read(prefix, i)\n",
    "        number_of_bytes = os.path.getsize(f\"{prefix}{i:03d}.png\")\n",
    "        number_of_pixels = img.shape[0]*img.shape[1]\n",
    "        BPP = (number_of_bytes*8) / number_of_pixels\n",
    "        BPPs.append(BPP)\n",
    "    return BPPs\n",
    "\n",
    "BPPs = compute_BPPs_of_sequence(prefix, first_frame, N_frames)\n",
    "BPPs"
   ]
  },
  {
   "cell_type": "code",
   "execution_count": null,
   "metadata": {},
   "outputs": [],
   "source": [
    "def compute_entropies_of_sequence(prefix=\"/tmp/\", first_frame = 0, N_frames=5):\n",
    "    entropies = []\n",
    "    for i in range(first_frame, first_frame + N_frames):\n",
    "        img = frame.read(prefix, i)\n",
    "        entropy = information.entropy(img.flatten())*img.shape[2]\n",
    "        entropies.append(entropy)\n",
    "    return entropies\n",
    "\n",
    "entropies = compute_entropies_of_sequence(prefix, first_frame, N_frames)\n",
    "entropies"
   ]
  },
  {
   "cell_type": "code",
   "execution_count": null,
   "metadata": {},
   "outputs": [],
   "source": [
    "import matplotlib.pyplot as plt\n",
    "plt.scatter(BPPs, entropies)\n",
    "plt.xlabel('PNG (bits/pixel)')\n",
    "plt.ylabel('entropy (bits/pixel)')\n",
    "plt.show()"
   ]
  },
  {
   "cell_type": "markdown",
   "metadata": {},
   "source": [
    "## Conclusions\n",
    "\n",
    "1. The PNG's compression ratio (measured in bits/pixel) and the entropy (computed independently for each color channel) can be considered [linearly](https://en.wikipedia.org/wiki/Linear_relation) [correlated](https://en.wikipedia.org/wiki/Correlation).\n",
    "\n",
    "2. When the previous conclusion occurs, it is also true that if we divide the images into two different parts, the PNG's CR and the [information](https://en.wikipedia.org/wiki/Entropy_(information_theory)#Introduction) of such pars are linearly correlated. Therefore, continuing with this reasoning (splitting the data into smaller parts), we get that the contribution of a pixel to the bit-rate using PNG should be proportional to the information of the pixel."
   ]
  }
 ],
 "metadata": {
  "colab": {
   "include_colab_link": true,
   "name": "ejemplo.ipynb",
   "provenance": []
  },
  "kernelspec": {
   "display_name": "Python 3 (ipykernel)",
   "language": "python",
   "name": "python3"
  },
  "language_info": {
   "codemirror_mode": {
    "name": "ipython",
    "version": 3
   },
   "file_extension": ".py",
   "mimetype": "text/x-python",
   "name": "python",
   "nbconvert_exporter": "python",
   "pygments_lexer": "ipython3",
   "version": "3.10.5"
  }
 },
 "nbformat": 4,
 "nbformat_minor": 1
}

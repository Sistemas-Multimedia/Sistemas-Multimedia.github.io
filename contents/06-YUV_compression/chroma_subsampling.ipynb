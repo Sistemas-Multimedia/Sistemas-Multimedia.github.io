{
 "cells": [
  {
   "cell_type": "markdown",
   "metadata": {},
   "source": [
    "[![Binder](https://mybinder.org/badge_logo.svg)](https://nbviewer.org/github/Sistemas-Multimedia/Sistemas-Multimedia.github.io/blob/master/milestones/06-YUV_compression/chroma_subsampling.ipynb)"
   ]
  },
  {
   "cell_type": "markdown",
   "metadata": {},
   "source": [
    "# Chrominance subsampling"
   ]
  },
  {
   "cell_type": "code",
   "execution_count": null,
   "metadata": {},
   "outputs": [],
   "source": [
    "# pip install PyWavelets\n",
    "import pywt\n",
    "import imageio\n",
    "import cv2\n",
    "import numpy as np\n",
    "%matplotlib inline\n",
    "import matplotlib.pyplot as plt"
   ]
  },
  {
   "cell_type": "code",
   "execution_count": null,
   "metadata": {},
   "outputs": [],
   "source": [
    "!if [ ! -f color_subsampling.svg ]; then \\\n",
    "  wget http://www.hpca.ual.es/~vruiz/images/san-diego.png; \\\n",
    "fi"
   ]
  },
  {
   "cell_type": "code",
   "execution_count": null,
   "metadata": {},
   "outputs": [],
   "source": [
    "RGB = imageio.imread('san-diego.png')"
   ]
  },
  {
   "cell_type": "code",
   "execution_count": null,
   "metadata": {},
   "outputs": [],
   "source": [
    "def subsample_chroma(image, levels):\n",
    "    subsampled = np.ndarray((image.shape[0], image.shape[1], 3), 'uint8')\n",
    "    \n",
    "    # Luma\n",
    "    subsampled[:,:,0] = image[:,:,0] # Copy only first component\n",
    "\n",
    "    # Chroma U\n",
    "    DWT_coeffs = pywt.wavedec2(image[:,:,1], 'bior3.5', level=levels)\n",
    "    for i in range(levels-1):\n",
    "        DWT_coeffs[i+1][0][:,:] = 0.0 # \"Delete\" LH subbands\n",
    "        DWT_coeffs[i+1][1][:,:] = 0.0 # \"Delete\" HL subbands\n",
    "        DWT_coeffs[i+1][2][:,:] = 0.0 # \"Delete\" HH subbands\n",
    "\n",
    "    subsampled[:,:,1] = pywt.waverec2(DWT_coeffs, 'bior3.5')\n",
    "                  \n",
    "    # Chroma V\n",
    "    DWT_coeffs = pywt.wavedec2(image[:,:,2], 'bior3.5', level=levels)\n",
    "    for i in range(levels-1):\n",
    "        DWT_coeffs[i+1][0][:,:] = 0.0 # \"Delete\" LH subbands\n",
    "        DWT_coeffs[i+1][1][:,:] = 0.0 # \"Delete\" HL subbands\n",
    "        DWT_coeffs[i+1][2][:,:] = 0.0 # \"Delete\" HH subbands\n",
    "    subsampled[:,:,2] = pywt.waverec2(DWT_coeffs, 'bior3.5')\n",
    "\n",
    "    return (subsampled, (subsampled.shape[0], subsampled.shape[1]), DWT_coeffs[0].shape)"
   ]
  },
  {
   "cell_type": "code",
   "execution_count": null,
   "metadata": {},
   "outputs": [],
   "source": [
    "YUV = cv2.cvtColor(RGB, cv2.COLOR_RGB2YUV)"
   ]
  },
  {
   "cell_type": "code",
   "execution_count": null,
   "metadata": {},
   "outputs": [],
   "source": [
    "chroma_subsampled_YUV, luma_shape, chroma_shape = subsample_chroma(YUV, 5)\n",
    "print(\"Luma shape =\", luma_shape, \"pixels\\nChroma shape =\", chroma_shape, \"coefficients\")"
   ]
  },
  {
   "cell_type": "code",
   "execution_count": null,
   "metadata": {},
   "outputs": [],
   "source": [
    "print((luma_shape[0] * luma_shape[1]) / (chroma_shape[0] * chroma_shape[1]))"
   ]
  },
  {
   "cell_type": "code",
   "execution_count": null,
   "metadata": {},
   "outputs": [],
   "source": [
    "print(luma_shape[0] / chroma_shape[0])"
   ]
  },
  {
   "cell_type": "code",
   "execution_count": null,
   "metadata": {},
   "outputs": [],
   "source": [
    "print(luma_shape[1] / chroma_shape[1])"
   ]
  },
  {
   "cell_type": "code",
   "execution_count": null,
   "metadata": {},
   "outputs": [],
   "source": [
    "fig = plt.figure(figsize=(24,16))\n",
    "\n",
    "a = fig.add_subplot(1,3,1) # Rows, cols, subfigure\n",
    "a.set_title(\"Y\")\n",
    "imgplot = plt.imshow(chroma_subsampled_YUV[:,:,0], cmap='gray')\n",
    "\n",
    "a = fig.add_subplot(1,3,2)\n",
    "a.set_title(\"U (480:1)\")\n",
    "imgplot = plt.imshow(chroma_subsampled_YUV[:,:,1], cmap='gray')\n",
    "\n",
    "a = fig.add_subplot(1,3,3)\n",
    "a.set_title(\"V (480:1)\")\n",
    "imgplot = plt.imshow(chroma_subsampled_YUV[:,:,2], cmap='gray')\n",
    "\n",
    "plt.show()\n",
    "#plt.imshow(chroma_subsampled_YUV[:,:,1], cmap='gray' # Shows U\n",
    "#plt.show()"
   ]
  },
  {
   "cell_type": "code",
   "execution_count": null,
   "metadata": {},
   "outputs": [],
   "source": [
    "chroma_subsampled_RGB = cv2.cvtColor(chroma_subsampled_YUV, cv2.COLOR_YUV2RGB)"
   ]
  },
  {
   "cell_type": "code",
   "execution_count": null,
   "metadata": {},
   "outputs": [],
   "source": [
    "#fig = plt.figure(figsize=(24,16))\n",
    "fig = plt.figure(figsize=(20,12))\n",
    "\n",
    "a = fig.add_subplot(1,2,1) # Rows, cols, subfigure\n",
    "a.set_title(\"Original\")\n",
    "plt.imshow(RGB)\n",
    "\n",
    "a = fig.add_subplot(1,2,2) # Rows, cols, subfigure\n",
    "a.set_title(\"Chroma subsampled ((24x19):1:1)\")\n",
    "plt.imshow(chroma_subsampled_RGB)\n",
    "\n",
    "plt.show()"
   ]
  },
  {
   "cell_type": "code",
   "execution_count": null,
   "metadata": {},
   "outputs": [],
   "source": [
    "print(\"The original image uses \", \\\n",
    "      luma_shape[0]*luma_shape[1] * 3,\n",
    "      \"bytes\"\n",
    "     )\n",
    "print(\"The subsampled image uses\", \\\n",
    "      luma_shape[0]*luma_shape[1] +\n",
    "      chroma_shape[0]*chroma_shape[1] * 2,\n",
    "      \"bytes\"\n",
    "     )"
   ]
  }
 ],
 "metadata": {
  "kernelspec": {
   "display_name": "Python 3",
   "language": "python",
   "name": "python3"
  },
  "language_info": {
   "codemirror_mode": {
    "name": "ipython",
    "version": 3
   },
   "file_extension": ".py",
   "mimetype": "text/x-python",
   "name": "python",
   "nbconvert_exporter": "python",
   "pygments_lexer": "ipython3",
   "version": "3.9.6"
  }
 },
 "nbformat": 4,
 "nbformat_minor": 2
}

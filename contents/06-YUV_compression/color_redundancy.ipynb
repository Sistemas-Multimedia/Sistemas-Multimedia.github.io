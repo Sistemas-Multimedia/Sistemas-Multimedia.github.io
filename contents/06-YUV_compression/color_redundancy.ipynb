{
 "cells": [
  {
   "cell_type": "markdown",
   "metadata": {},
   "source": [
    "[![Binder](https://mybinder.org/badge_logo.svg)](https://nbviewer.org/github/Sistemas-Multimedia/Sistemas-Multimedia.github.io/blob/master/milestones/06-YUV_compression/color_redundancy.ipynb)"
   ]
  },
  {
   "cell_type": "markdown",
   "metadata": {},
   "source": [
    "### Spectral (color) redundancy<a id='color_redundancy'></a>\n",
    "\n",
    "* [$\\text{RGB}$ domain](https://en.wikipedia.org/wiki/RGB_color_model) is more redundant than the [$\\text{YUV}$ domain](https://en.wikipedia.org/wiki/YUV):"
   ]
  },
  {
   "cell_type": "code",
   "execution_count": null,
   "metadata": {},
   "outputs": [],
   "source": [
    "!if [ ! -f color_subsampling.svg ]; then \\\n",
    "  wget http://www.hpca.ual.es/~vruiz/images/san-diego.png; \\\n",
    "fi"
   ]
  },
  {
   "cell_type": "markdown",
   "metadata": {},
   "source": [
    "<img src=\"san-diego.png\">"
   ]
  },
  {
   "cell_type": "code",
   "execution_count": null,
   "metadata": {},
   "outputs": [],
   "source": [
    "# pip install imageio scipy numpy\n",
    "import imageio\n",
    "from scipy.stats import entropy\n",
    "import numpy as np"
   ]
  },
  {
   "cell_type": "code",
   "execution_count": null,
   "metadata": {},
   "outputs": [],
   "source": [
    "RGB = imageio.imread('san-diego.png')"
   ]
  },
  {
   "cell_type": "code",
   "execution_count": null,
   "metadata": {},
   "outputs": [],
   "source": [
    "RGB"
   ]
  },
  {
   "cell_type": "code",
   "execution_count": null,
   "metadata": {},
   "outputs": [],
   "source": [
    "%matplotlib inline\n",
    "\n",
    "import matplotlib.pyplot as plt\n",
    "plt.figure(figsize=(24,16))\n",
    "plt.imshow(RGB)\n",
    "#plt.show()"
   ]
  },
  {
   "cell_type": "code",
   "execution_count": null,
   "metadata": {},
   "outputs": [],
   "source": [
    "R = RGB.copy()\n",
    "R[:,:,1] = 0\n",
    "R[:,:,2] = 0\n",
    "G = RGB.copy()\n",
    "G[:,:,0] = 0\n",
    "G[:,:,2] = 0\n",
    "B = RGB.copy()\n",
    "B[:,:,0] = 0\n",
    "B[:,:,1] = 0"
   ]
  },
  {
   "cell_type": "code",
   "execution_count": null,
   "metadata": {},
   "outputs": [],
   "source": [
    "R"
   ]
  },
  {
   "cell_type": "code",
   "execution_count": null,
   "metadata": {},
   "outputs": [],
   "source": [
    "G"
   ]
  },
  {
   "cell_type": "code",
   "execution_count": null,
   "metadata": {},
   "outputs": [],
   "source": [
    "B"
   ]
  },
  {
   "cell_type": "code",
   "execution_count": null,
   "metadata": {},
   "outputs": [],
   "source": [
    "fig = plt.figure(figsize=(24,16))\n",
    "\n",
    "a = fig.add_subplot(1,3,1) # Rows, cols, subfigure\n",
    "# https://docs.scipy.org/doc/numpy/reference/generated/numpy.histogram.html\n",
    "R_histo = np.histogram(RGB[:,:,0], bins=256)[0]\n",
    "# https://docs.scipy.org/doc/scipy/reference/generated/scipy.stats.entropy.html\n",
    "R_entropy = entropy(R_histo, base=2)\n",
    "a.set_title(\"entropy(R) = \" + str(R_entropy))\n",
    "imgplot = plt.imshow(R)\n",
    "\n",
    "a = fig.add_subplot(1,3,2)\n",
    "G_histo = np.histogram(RGB[:,:,1], bins=256)[0]\n",
    "G_entropy = entropy(G_histo, base=2)\n",
    "a.set_title(\"entropy(G) = \" + str(G_entropy))\n",
    "imgplot = plt.imshow(G)\n",
    "\n",
    "a = fig.add_subplot(1,3,3)\n",
    "B_histo = np.histogram(RGB[:,:,2], bins=256)[0]\n",
    "B_entropy = entropy(B_histo, base=2)\n",
    "a.set_title(\"entropy(B) = \" + str(B_entropy))\n",
    "imgplot = plt.imshow(B)\n",
    "plt.show()\n",
    "\n",
    "# See https://stackoverflow.com/questions/3584805/in-matplotlib-what-does-the-argument-mean-in-fig-add-subplot111"
   ]
  },
  {
   "cell_type": "code",
   "execution_count": null,
   "metadata": {},
   "outputs": [],
   "source": [
    "print('Total entropy = {} bits/pixel'.format(R_entropy + G_entropy + B_entropy))"
   ]
  },
  {
   "cell_type": "code",
   "execution_count": null,
   "metadata": {},
   "outputs": [],
   "source": [
    "# pip install opencv-python\n",
    "import cv2\n",
    "components = ('r','g','b')\n",
    "histr = [None for col in components]\n",
    "for i,com in enumerate(components):\n",
    "    # https://docs.opencv.org/3.4.0/d1/db7/tutorial_py_histogram_begins.html\n",
    "    histr[i] = cv2.calcHist([RGB], [i], None, [256], [0,256])\n",
    "    plt.plot(histr[i], color = com)\n",
    "plt.xlim([0,256])\n",
    "plt.ylim([0,10000])\n",
    "plt.show()"
   ]
  },
  {
   "cell_type": "code",
   "execution_count": null,
   "metadata": {},
   "outputs": [],
   "source": [
    "# https://stackoverflow.com/questions/43983265/rgb-to-yuv-conversion-and-accessing-y-u-and-v-channels\n",
    "import cv2\n",
    "import numpy as np"
   ]
  },
  {
   "cell_type": "code",
   "execution_count": null,
   "metadata": {},
   "outputs": [],
   "source": [
    "def make_lut_u():\n",
    "    return np.array([[[i,255-i,0] for i in range(256)]], dtype=np.uint8)\n",
    "\n",
    "def make_lut_v():\n",
    "    return np.array([[[0,255-i,i] for i in range(256)]], dtype=np.uint8)"
   ]
  },
  {
   "cell_type": "code",
   "execution_count": null,
   "metadata": {},
   "outputs": [],
   "source": [
    "lut_U, lut_V = make_lut_u(), make_lut_v()"
   ]
  },
  {
   "cell_type": "code",
   "execution_count": null,
   "metadata": {},
   "outputs": [],
   "source": [
    "lut_U"
   ]
  },
  {
   "cell_type": "code",
   "execution_count": null,
   "metadata": {},
   "outputs": [],
   "source": [
    "lut_V"
   ]
  },
  {
   "cell_type": "code",
   "execution_count": null,
   "metadata": {},
   "outputs": [],
   "source": [
    "# https://docs.opencv.org/3.4.0/df/d9d/tutorial_py_colorspaces.html\n",
    "YUV = cv2.cvtColor(RGB, cv2.COLOR_RGB2YUV)"
   ]
  },
  {
   "cell_type": "code",
   "execution_count": null,
   "metadata": {},
   "outputs": [],
   "source": [
    "# https://docs.opencv.org/3.4.0/d3/df2/tutorial_py_basic_ops.html\n",
    "Y, U, V = cv2.split(YUV)"
   ]
  },
  {
   "cell_type": "code",
   "execution_count": null,
   "metadata": {},
   "outputs": [],
   "source": [
    "Y = cv2.cvtColor(Y, cv2.COLOR_GRAY2RGB)\n",
    "U = cv2.cvtColor(U, cv2.COLOR_GRAY2RGB)\n",
    "V = cv2.cvtColor(V, cv2.COLOR_GRAY2RGB)"
   ]
  },
  {
   "cell_type": "code",
   "execution_count": null,
   "metadata": {},
   "outputs": [],
   "source": [
    "# Define color palette for U_mapped and V_mapped\n",
    "# https://docs.opencv.org/3.0-beta/modules/core/doc/operations_on_arrays.html#lut\n",
    "U_mapped = cv2.LUT(U, lut_U)\n",
    "V_mapped = cv2.LUT(V, lut_V)"
   ]
  },
  {
   "cell_type": "code",
   "execution_count": null,
   "metadata": {},
   "outputs": [],
   "source": [
    "fig = plt.figure(figsize=(24,16))\n",
    "\n",
    "a = fig.add_subplot(1,3,1) # Rows, cols, subfigure\n",
    "Y_histo = np.histogram(Y, bins=256)[0]\n",
    "Y_entropy = entropy(Y_histo, base=2)\n",
    "a.set_title(\"entropy(Y) = \" + str(Y_entropy))\n",
    "imgplot = plt.imshow(Y)\n",
    "\n",
    "a = fig.add_subplot(1,3,2)\n",
    "U_histo = np.histogram(U, bins=256)[0]\n",
    "U_entropy = entropy(U_histo, base=2)\n",
    "a.set_title(\"entropy(U) = \" + str(U_entropy))\n",
    "imgplot = plt.imshow(U_mapped)\n",
    "\n",
    "a = fig.add_subplot(1,3,3)\n",
    "V_histo = np.histogram(V, bins=256)[0]\n",
    "V_entropy = entropy(V_histo, base=2)\n",
    "a.set_title(\"entropy(V) = \" + str(V_entropy))\n",
    "imgplot = plt.imshow(V_mapped)\n",
    "\n",
    "plt.show()"
   ]
  },
  {
   "cell_type": "code",
   "execution_count": null,
   "metadata": {},
   "outputs": [],
   "source": [
    "print('Total entropy = {} bits/pixel'.format(Y_entropy + U_entropy + V_entropy))"
   ]
  },
  {
   "cell_type": "code",
   "execution_count": null,
   "metadata": {},
   "outputs": [],
   "source": [
    "histr = [None for com in components]\n",
    "for i,com in enumerate(components):\n",
    "    histr[i] = cv2.calcHist([YUV],[i],None,[256],[0,256])\n",
    "    plt.plot(histr[i], color = com)\n",
    "plt.xlim([0,256])\n",
    "plt.show()"
   ]
  }
 ],
 "metadata": {
  "kernelspec": {
   "display_name": "Python 3 (ipykernel)",
   "language": "python",
   "name": "python3"
  },
  "language_info": {
   "codemirror_mode": {
    "name": "ipython",
    "version": 3
   },
   "file_extension": ".py",
   "mimetype": "text/x-python",
   "name": "python",
   "nbconvert_exporter": "python",
   "pygments_lexer": "ipython3",
   "version": "3.10.7"
  }
 },
 "nbformat": 4,
 "nbformat_minor": 2
}

{
 "cells": [
  {
   "cell_type": "markdown",
   "metadata": {},
   "source": [
    "[![Binder](https://mybinder.org/badge_logo.svg)](https://nbviewer.org/github/Sistemas-Multimedia/Sistemas-Multimedia.github.io/blob/master/contents/RGB_SQ/RGB_SQ.ipynb)"
   ]
  },
  {
   "cell_type": "markdown",
   "metadata": {},
   "source": [
    "[![Colab](https://badgen.net/badge/Launch/on%20Google%20Colab/blue?icon=notebook)](https://colab.research.google.com/github/Sistemas-Multimedia/Sistemas-Multimedia.github.io/blob/master/contents/RGB_SQ/RGB_SQ.ipynb)"
   ]
  },
  {
   "cell_type": "markdown",
   "metadata": {},
   "source": [
    "#  Scalar Quantization of RGB images"
   ]
  },
  {
   "cell_type": "code",
   "execution_count": null,
   "metadata": {},
   "outputs": [],
   "source": [
    "%%bash\n",
    "if [ -d \"$HOME/repos\" ]; then\n",
    "    echo \"\\\"$HOME/repos\\\" exists\"\n",
    "else\n",
    "    mkdir ~/repos\n",
    "    echo Created $HOME/repos\n",
    "fi"
   ]
  },
  {
   "cell_type": "code",
   "execution_count": null,
   "metadata": {},
   "outputs": [],
   "source": [
    "%%bash\n",
    "if [ -d \"$HOME/repos/scalar_quantization\" ]; then\n",
    "    cd $HOME/repos/scalar_quantization\n",
    "    echo \"$HOME/repos/scalar_quantization ... \"\n",
    "    git pull \n",
    "else\n",
    "    cd $HOME/repos\n",
    "    git clone https://github.com/vicente-gonzalez-ruiz/scalar_quantization.git\n",
    "fi"
   ]
  },
  {
   "cell_type": "code",
   "execution_count": null,
   "metadata": {},
   "outputs": [],
   "source": [
    "%%bash\n",
    "if [ -d \"$HOME/repos/image_IO\" ]; then\n",
    "    cd $HOME/repos/image_IO\n",
    "    echo \"$HOME/repos/image_IO ... \"\n",
    "    git pull \n",
    "else\n",
    "    cd $HOME/repos\n",
    "    git clone https://github.com/vicente-gonzalez-ruiz/image_IO.git\n",
    "fi"
   ]
  },
  {
   "cell_type": "code",
   "execution_count": null,
   "metadata": {},
   "outputs": [],
   "source": [
    "%%bash\n",
    "if [ -d \"$HOME/repos/information_theory\" ]; then\n",
    "    cd $HOME/repos/scalar_quantization\n",
    "    echo \"$HOME/repos/information_theory ... \"\n",
    "    git pull \n",
    "else\n",
    "    cd $HOME/repos\n",
    "    git clone https://github.com/vicente-gonzalez-ruiz/information_theory.git\n",
    "fi"
   ]
  },
  {
   "cell_type": "code",
   "execution_count": null,
   "metadata": {},
   "outputs": [],
   "source": [
    "%%bash\n",
    "if [ -d \"$HOME/repos/MRVC\" ]; then\n",
    "    cd $HOME/repos/MRVC\n",
    "    echo \"$HOME/repos/MRVC ... \"\n",
    "    git pull \n",
    "else\n",
    "    cd $HOME/repos\n",
    "    git clone https://github.com/Sistemas-Multimedia/MRVC.git\n",
    "fi"
   ]
  },
  {
   "cell_type": "code",
   "execution_count": null,
   "metadata": {},
   "outputs": [],
   "source": [
    "!ln -sf ~/repos/information_theory/information.py .\n",
    "!ln -sf ~/repos/information_theory/distortion.py .\n",
    "!ln -sf ~/repos/scalar_quantization/quantization.py .\n",
    "!ln -sf ~/repos/scalar_quantization/deadzone_quantization.py .\n",
    "!ln -sf ~/repos/image_IO/image_1.py .\n",
    "!ln -sf ~/repos/image_IO/image_3.py .\n",
    "!ln -sf ~/repos/image_IO/logging_config.py ."
   ]
  },
  {
   "cell_type": "code",
   "execution_count": null,
   "metadata": {},
   "outputs": [],
   "source": [
    "try:\n",
    "    import matplotlib.pyplot as plt\n",
    "except:\n",
    "    !pip install matplotlib\n",
    "    import matplotlib.pyplot as plt\n",
    "%matplotlib inline\n",
    "\n",
    "try:\n",
    "    import colored\n",
    "except:\n",
    "    !pip install colored\n",
    "    import colored\n",
    "    \n",
    "import pylab\n",
    "import math\n",
    "import numpy as np\n",
    "\n",
    "try:\n",
    "    from scipy import signal\n",
    "except:\n",
    "    !pip install scipy\n",
    "    from scipy import signal\n",
    "    \n",
    "try:\n",
    "    import cv2\n",
    "except:\n",
    "    !pip install opencv-python\n",
    "    !pip install opencv-python-headless # Binder compatibility\n",
    "\n",
    "try:\n",
    "    import skimage\n",
    "except:\n",
    "    !pip install scikit-image\n",
    "\n",
    "try:\n",
    "    import PIL\n",
    "except:\n",
    "    !pip install PIL\n",
    "    \n",
    "import os\n",
    "#import quantization\n",
    "import deadzone_quantization as deadzone\n",
    "#import midtread_quantizer as midtread\n",
    "#import midrise_quantizer as midrise\n",
    "import distortion\n",
    "import information\n",
    "import image_3 as RGB_image\n",
    "import image_1 as gray_image"
   ]
  },
  {
   "cell_type": "markdown",
   "metadata": {},
   "source": [
    "## Configuration"
   ]
  },
  {
   "cell_type": "code",
   "execution_count": null,
   "metadata": {},
   "outputs": [],
   "source": [
    "# Prefix of the RGB image to be quantized.\n",
    "\n",
    "home = os.environ[\"HOME\"]\n",
    "#fn = home + \"/repos/MRVC/images/stockholm/\"\n",
    "#fn = home + \"/repos/MRVC/images/Hommer/\"\n",
    "#fn = home + \"/repos/MRVC/images/fluorescence/\"\n",
    "#fn = home + \"/repos/MRVC/images/blue_rose/\"\n",
    "fn = home + \"/repos/MRVC/images/lena_color/\"\n",
    "#fn = home + \"/repos/MRVC/images/nored_lena/\"\n",
    "\n",
    "components = ['R', 'G', 'B']\n",
    "\n",
    "#quantizer = midtread\n",
    "quantizer = deadzone.Deadzone_Quantizer\n",
    "#quantizer = midrise\n",
    "\n",
    "Q_steps = [2**i for i in range(7, -1, -1)] # Quantization steps (simulating bit-plane encoding)\n",
    "#Q_steps = range(128, 16, -4)\n",
    "print(Q_steps)\n",
    "\n",
    "RGB_image.write = RGB_image.debug_write # Faster, but lower compression\n",
    "#RGB_image.write = information.write # The fastest, but returns only an estimation of the length\n",
    "gray_image.write = gray_image.debug_write # Faster, but lower compression\n",
    "#gray_image.write = information.write # The fastest, but returns only an estimation of the length"
   ]
  },
  {
   "cell_type": "markdown",
   "metadata": {},
   "source": [
    "## Read the image and show it"
   ]
  },
  {
   "cell_type": "code",
   "execution_count": null,
   "metadata": {},
   "outputs": [],
   "source": [
    "RGB_img = RGB_image.read(fn).astype(np.int16) # 8 bits/components is not sufficient to shift the components to [-128, 127]"
   ]
  },
  {
   "cell_type": "code",
   "execution_count": null,
   "metadata": {},
   "outputs": [],
   "source": [
    "# Change G and B channels by noise\n",
    "#RGB_img[...,1] = np.random.normal(loc=0, scale=20, size=512*512).reshape(512, 512) + 128\n",
    "#RGB_img[...,2] = np.random.normal(loc=0, scale=20, size=512*512).reshape(512, 512) + 128"
   ]
  },
  {
   "cell_type": "code",
   "execution_count": null,
   "metadata": {},
   "outputs": [],
   "source": [
    "#RGB_img[..., 0] //= 32\n",
    "#RGB_img[..., 0] *= 32\n",
    "print(RGB_img.shape)\n",
    "print(RGB_img.dtype)\n",
    "print(RGB_img.max(), RGB_img.min())\n",
    "RGB_image.show(RGB_img, fn + \"000.png\")"
   ]
  },
  {
   "cell_type": "code",
   "execution_count": null,
   "metadata": {},
   "outputs": [],
   "source": [
    "gray_image.show(RGB_img[..., 0], fn + \" (R channel)\")"
   ]
  },
  {
   "cell_type": "code",
   "execution_count": null,
   "metadata": {},
   "outputs": [],
   "source": [
    "gray_image.show(RGB_img[..., 1], fn + \" (G channel)\")"
   ]
  },
  {
   "cell_type": "code",
   "execution_count": null,
   "metadata": {},
   "outputs": [],
   "source": [
    "gray_image.show(RGB_img[..., 2], fn + \" (B channel)\")"
   ]
  },
  {
   "cell_type": "markdown",
   "metadata": {},
   "source": [
    "## Energy of the RGB components"
   ]
  },
  {
   "cell_type": "code",
   "execution_count": null,
   "metadata": {},
   "outputs": [],
   "source": [
    "R_avg_energy = information.average_energy(RGB_img[...,0])\n",
    "G_avg_energy = information.average_energy(RGB_img[...,1])\n",
    "B_avg_energy = information.average_energy(RGB_img[...,2])\n",
    "print(f\"Average energy R = {R_avg_energy}\")\n",
    "print(f\"Average energy G = {G_avg_energy}\")\n",
    "print(f\"Average energy B = {B_avg_energy}\")\n",
    "total_RGB_avg_energy = R_avg_energy + G_avg_energy + B_avg_energy\n",
    "print(f\"Total RGB average energy (computed by adding the energies of the components) = {total_RGB_avg_energy}\")\n",
    "print(f\"Total RGB average energy (computed directly from the RGB image) = {information.average_energy(RGB_img)*3}\")"
   ]
  },
  {
   "cell_type": "markdown",
   "metadata": {},
   "source": [
    "The RGB domain is additive. This basically tell us that the addition of the distortion generated in each component (by lossy compression) equals the distortion measured in the RGB domain (this is a trivial conclusion!!)."
   ]
  },
  {
   "cell_type": "markdown",
   "metadata": {},
   "source": [
    "## Show some quantizations"
   ]
  },
  {
   "cell_type": "code",
   "execution_count": null,
   "metadata": {},
   "outputs": [],
   "source": [
    "QS = 128 # Quantization Step\n",
    "_RGB_img = RGB_img.astype(np.int16) - 128 # Quantized data must be centered at 0\n",
    "Q = quantizer(Q_step=QS)\n",
    "y, k = Q.quan_dequan(_RGB_img)\n",
    "print(\"Used quantization indexes:\", np.unique(k))\n",
    "RGB_image.show_normalized(k, f\"{deadzone.name} $\\\\Delta={QS}$\")"
   ]
  },
  {
   "cell_type": "code",
   "execution_count": null,
   "metadata": {},
   "outputs": [],
   "source": [
    "QS = 64 # Quantization Step\n",
    "_RGB_img = RGB_img.astype(np.int16) - 128 # Quantized data must be centered at 0 if we use deadzone\n",
    "Q = quantizer(Q_step=QS)\n",
    "y, k = Q.quan_dequan(_RGB_img)\n",
    "print(\"Used quantization indexes:\", np.unique(k))\n",
    "RGB_image.show_normalized(k, f\"{deadzone.name} $\\\\Delta={QS}$\")"
   ]
  },
  {
   "cell_type": "markdown",
   "metadata": {},
   "source": [
    "## RD curve using same quantization step for each RGB channel ($\\mathbf\\Delta^{\\text{R}}_i = \\mathbf\\Delta^{\\text{G}}_i = \\mathbf\\Delta^{\\text{B}}_i$)"
   ]
  },
  {
   "cell_type": "code",
   "execution_count": null,
   "metadata": {},
   "outputs": [],
   "source": [
    "def same_delta_RD_curve(RGB_img, Q_steps, quantizer):\n",
    "    RGB_img = RGB_img.copy()\n",
    "    RGB_img -= 128\n",
    "    points = []\n",
    "    for Q_step in Q_steps:\n",
    "        Q = quantizer(Q_step=Q_step)\n",
    "        y, k = Q.quan_dequan(RGB_img)\n",
    "        k = (k + 128).astype(np.uint8) # Only positive components can be written in an PNG file\n",
    "        print(\"Quantization indexes: \", np.unique(k))\n",
    "        rate = RGB_image.write(k, \"/tmp/\" + str(Q_step) + '_', 0)*8/(k.shape[0]*k.shape[1])\n",
    "        #rate = compute_BPP(k, \"/tmp/\" + str(Q_step) + '_')\n",
    "        _distortion = distortion.RMSE(RGB_img, y)\n",
    "        points.append((rate, _distortion))\n",
    "        print(f\"q_step={Q_step:>3}, rate={rate:>7} bits/pixel, distortion={_distortion:>6.1f}\")\n",
    "    return points\n",
    "\n",
    "def not__same_delta_RD_curve(RGB_img, Q_steps, quantizer):\n",
    "    RGB_img = RGB_img.copy()\n",
    "    RGB_img -= 128\n",
    "    points = []\n",
    "    k = np.empty_like(RGB_img)\n",
    "    y = np.empty_like(RGB_img)\n",
    "    for Q_step in Q_steps:\n",
    "        Q = quantizer(Q_step=Q_step*1)\n",
    "        y[..., 0], k[..., 0] = Q.quan_dequan(RGB_img[..., 0])\n",
    "        Q = quantizer(Q_step=Q_step*4)\n",
    "        y[..., 1], k[..., 1] = Q.quan_dequan(RGB_img[..., 1])\n",
    "        Q = quantizer(Q_step=Q_step*2)\n",
    "        y[..., 2], k[..., 2] = Q.quan_dequan(RGB_img[..., 2])\n",
    "        k = (k + 128).astype(np.uint8) # Only positive components can be written in an PNG file\n",
    "        print(\"Quantization indexes: \", np.unique(k))\n",
    "        rate = RGB_image.write(k, \"/tmp/\" + str(Q_step) + '_', 0)*8/(k.shape[0]*k.shape[1])\n",
    "        #rate = compute_BPP(k, \"/tmp/\" + str(Q_step) + '_')\n",
    "        _distortion = distortion.RMSE(RGB_img, y)\n",
    "        points.append((rate, _distortion))\n",
    "        print(f\"q_step={Q_step:>3}, rate={rate:>7} bits/pixel, distortion={_distortion:>6.1f}\")\n",
    "    return points\n",
    "\n",
    "#RGB_image.show(RGB_img, fn + \"000.png\")\n",
    "print(components, Q_steps)\n",
    "same_delta_RD_points = same_delta_RD_curve(RGB_img, Q_steps, quantizer)\n",
    "not_same_delta_RD_points = not__same_delta_RD_curve(RGB_img, Q_steps, quantizer)"
   ]
  },
  {
   "cell_type": "code",
   "execution_count": null,
   "metadata": {},
   "outputs": [],
   "source": [
    "pylab.figure(dpi=150)\n",
    "pylab.plot(*zip(*same_delta_RD_points), c='m', marker='x', label=r\"PNG(DZ$^{(\\mathbf{\\Delta}^{\\mathrm{R}}_i=\\mathbf{\\Delta}^{\\mathrm{G}}_i=\\mathbf{\\Delta}^{\\mathrm{B}}_i)}$)\", linestyle=\"dotted\")\n",
    "pylab.plot(*zip(*not_same_delta_RD_points), label=r\"PNG(DZ$^{(\\mathbf{\\Delta}^{\\mathrm{R}}_i\\neq\\mathbf{\\Delta}^{\\mathrm{G}}_i\\neq\\mathbf{\\Delta}^{\\mathrm{B}}_i)}$)\")\n",
    "pylab.title(fn)\n",
    "pylab.xlabel(\"Bits/Pixel\")\n",
    "pylab.ylabel(\"RMSE\")\n",
    "pylab.legend(loc='upper right')\n",
    "pylab.show()"
   ]
  },
  {
   "cell_type": "markdown",
   "metadata": {},
   "source": [
    "The performance of using the quantization pattern $\\mathbf{\\Delta}^{\\mathrm{R}}_i=\\mathbf{\\Delta}^{\\mathrm{G}}_i=\\mathbf{\\Delta}^{\\mathrm{B}}_i$ performs well in general, but it does not provides the best RD curve. In theory it is possible to find a better curve if for each point we satisfy that $ \\mathbf{\\lambda}^{\\text{R}}_i = \\mathbf{\\lambda}^{\\text{G}}_i = \\mathbf{\\lambda}^{\\text{B}}_i$. Let's see the RD curves of each channel."
   ]
  },
  {
   "cell_type": "code",
   "execution_count": null,
   "metadata": {},
   "outputs": [],
   "source": [
    "def RD_curve_of_channel(RGB_img, Q_steps, component, components, quantizer):\n",
    "    RGB_img = RGB_img.copy()\n",
    "    RGB_img -= 128\n",
    "    RD_points = [(0, 100000, component, 256)]\n",
    "    #RD_points = []\n",
    "    component_index = components.index(component)\n",
    "    for Q_step in Q_steps:\n",
    "        Q = quantizer(Q_step=Q_step)\n",
    "        component_img = RGB_img[..., component_index]\n",
    "        dequantized_component_img, k = Q.quan_dequan(component_img)\n",
    "        k = (k + 128).astype(np.uint8)\n",
    "        BPP = gray_image.write(k, component + str(Q_step) + '_', 0)*8/k.size\n",
    "        RMSE = distortion.RMSE(component_img, dequantized_component_img)\n",
    "        # We can measure the distortion in the component's domain because it is additive\n",
    "        RD_points.append((BPP, RMSE, component, Q_step))\n",
    "        print(f\"Q_step={Q_step:>3}, rate={BPP:>.3f} bits/pixel, distortion={RMSE}\")\n",
    "    return RD_points\n",
    "\n",
    "def R_RD_curve(RGB_img, Q_steps, components, quantizer):\n",
    "    return RD_curve_of_channel(RGB_img, Q_steps, 'R', components, quantizer)\n",
    "\n",
    "def G_RD_curve(RGB_img, Q_steps, components, quantizer):\n",
    "    #return RD_curve_of_channel(RGB_img, [int(1.3*i) for i in Q_steps], 'G', components, quantizer)\n",
    "    return RD_curve_of_channel(RGB_img, Q_steps, 'G', components, quantizer)\n",
    "\n",
    "def B_RD_curve(RGB_img, Q_steps, components, quantizer):\n",
    "    #return RD_curve_of_channel(RGB_img, [int(0.7*i) for i in Q_steps if int(0.9*i)!=0], 'B', components, quantizer)\n",
    "    return RD_curve_of_channel(RGB_img, Q_steps, 'B', components, quantizer)"
   ]
  },
  {
   "cell_type": "code",
   "execution_count": null,
   "metadata": {
    "scrolled": false
   },
   "outputs": [],
   "source": [
    "print(\"R component\")\n",
    "R_points = R_RD_curve(RGB_img, Q_steps, components, quantizer)"
   ]
  },
  {
   "cell_type": "code",
   "execution_count": null,
   "metadata": {},
   "outputs": [],
   "source": [
    "print(\"G component\")\n",
    "G_points = G_RD_curve(RGB_img, Q_steps, components, quantizer)"
   ]
  },
  {
   "cell_type": "code",
   "execution_count": null,
   "metadata": {},
   "outputs": [],
   "source": [
    "print(\"Blue component\")\n",
    "B_points = B_RD_curve(RGB_img, Q_steps, components, quantizer)"
   ]
  },
  {
   "cell_type": "code",
   "execution_count": null,
   "metadata": {},
   "outputs": [],
   "source": [
    "R_points"
   ]
  },
  {
   "cell_type": "code",
   "execution_count": null,
   "metadata": {},
   "outputs": [],
   "source": [
    "G_points"
   ]
  },
  {
   "cell_type": "code",
   "execution_count": null,
   "metadata": {},
   "outputs": [],
   "source": [
    "B_points"
   ]
  },
  {
   "cell_type": "code",
   "execution_count": null,
   "metadata": {},
   "outputs": [],
   "source": [
    "pylab.figure(dpi=150)\n",
    "#pylab.scatter(*zip(*[(i[0], i[1]) for i in R_points]), c='r', marker='.', s=0.5, label='R')              \n",
    "#pylab.scatter(*zip(*[(i[0], i[1]) for i in G_points]), c='g', marker='.', s=0.5, label='G')              \n",
    "#pylab.scatter(*zip(*[(i[0], i[1]) for i in B_points]), c='b', marker='.', s=0.5, label='B')              \n",
    "pylab.plot(*zip(*[(i[0], i[1]) for i in R_points[1:]]), c='r', marker='.', label=f\"R\", linestyle=\"dotted\")\n",
    "pylab.plot(*zip(*[(i[0], i[1]) for i in G_points[1:]]), c='g', marker='.', label=f\"G\", linestyle=\"dotted\")\n",
    "pylab.plot(*zip(*[(i[0], i[1]) for i in B_points[1:]]), c='b', marker='.', label=f\"B\", linestyle=\"dotted\")\n",
    "#pylab.plot(*zip(*[(i[0], i[1]) for i in R_points_2]), c='r', marker='x', label=f\"R ({quantizer_2.name})\", linestyle=\"dotted\")              \n",
    "#pylab.plot(*zip(*[(i[0], i[1]) for i in G_points_2]), c='g', marker='x', label=f\"G ({quantizer_2.name})\", linestyle=\"dotted\")\n",
    "#pylab.plot(*zip(*[(i[0], i[1]) for i in B_points_2]), c='b', marker='x', label=f\"B ({quantizer_2.name})\", linestyle=\"dotted\")\n",
    "pylab.title(f\"RD contribution of each channel\\n{fn}\")\n",
    "pylab.xlabel(\"Bits/Pixel\")\n",
    "pylab.ylabel(\"RMSE\")\n",
    "plt.legend(loc='upper right')\n",
    "pylab.show()"
   ]
  },
  {
   "cell_type": "markdown",
   "metadata": {},
   "source": [
    "These curves shows:\n",
    "1. That $\\mathbf\\lambda^{\\mathrm{R}}_i=\\mathbf\\lambda^{\\mathrm{G}}_i=\\mathbf\\lambda^{\\mathrm{B}}_i$ is close to be satisfied, at least for this image. This justifies the good performance of using the quantization pattern $\\mathbf\\Delta^{\\mathrm{R}}_i=\\mathbf\\Delta^{\\mathrm{G}}_i=\\mathbf\\Delta^{\\mathrm{B}}_i$.\n",
    "2. The RD curves of the channels not always satisfy that $\\mathbf\\lambda^{\\mathrm{X}}_i\\ge \\mathbf\\lambda^{\\mathrm{X}}_{i+1}$, for a given channel X, and bit-rates $\\mathbf{R}_i$ and $\\mathbf{R}_{i+1}$ (being obviously $\\mathbf{R}_i<\\mathbf{R}_{i+1}$). This basically means that not all the points of a RD curve always belong to the convex hull of the curve."
   ]
  },
  {
   "cell_type": "markdown",
   "metadata": {},
   "source": [
    "Notice that, in general, if we modify the quantization step size in a channel, we are selecting a different RD point in the curve of such channel, but the curve is always the same."
   ]
  },
  {
   "cell_type": "code",
   "execution_count": null,
   "metadata": {},
   "outputs": [],
   "source": [
    "with open(f\"RGB_SQ.txt\", 'w') as f:\n",
    "    for item in same_delta_RD_points: #RD_points_sorted_by_slopes:\n",
    "        f.write(f\"{item[0]}\\t{item[1]}\\n\")"
   ]
  },
  {
   "cell_type": "code",
   "execution_count": null,
   "metadata": {},
   "outputs": [],
   "source": [
    "import time\n",
    "while True:\n",
    "    time.sleep(1)"
   ]
  },
  {
   "cell_type": "markdown",
   "metadata": {},
   "source": [
    "## Ignore the rest ..."
   ]
  },
  {
   "cell_type": "markdown",
   "metadata": {},
   "source": [
    "## Compare to JPEG"
   ]
  },
  {
   "cell_type": "code",
   "execution_count": null,
   "metadata": {},
   "outputs": [],
   "source": [
    "_RGB_img = RGB_image.read(fn)\n",
    "JPEG_RD_points = []\n",
    "for q in range(75):\n",
    "    im = PIL.Image.fromarray(_RGB_img)\n",
    "    im.save(\"/tmp/1.jpeg\", quality=q, subsampling=0) # No color subsampling\n",
    "    BPP = os.path.getsize(\"/tmp/1.jpeg\")*8/(_RGB_img.shape[0]*_RGB_img.shape[1])\n",
    "    zz = np.asarray(PIL.Image.open(\"/tmp/1.jpeg\"))\n",
    "    RMSE = distortion.RMSE(_RGB_img, zz)\n",
    "    JPEG_RD_points.append((BPP, RMSE))\n",
    "    print(BPP, RMSE)"
   ]
  },
  {
   "cell_type": "markdown",
   "metadata": {},
   "source": [
    "## RD contribution of the components"
   ]
  },
  {
   "cell_type": "code",
   "execution_count": null,
   "metadata": {},
   "outputs": [],
   "source": [
    "RGB_image.show(RGB_img, fn + \"000.png\")\n",
    "print(RGB_img.max(), RGB_img.min())"
   ]
  },
  {
   "cell_type": "code",
   "execution_count": null,
   "metadata": {},
   "outputs": [],
   "source": [
    "RGB_image.show(RGB_img, fn + \"000.png\")"
   ]
  },
  {
   "cell_type": "markdown",
   "metadata": {},
   "source": [
    "This figure shows:\n",
    "1. For the larger quantization step, the R channel can be compressed more than the other channels.\n",
    "2. After reconstructing the first color image (with information of the 3 channels), where $\\Delta_\\text{R}=\\Delta_\\text{G}=\\Delta_\\text{B}=128$, the next quantization pattern must be $\\mathbf{\\Delta}_\\text{RGB}=[128,64,128]$, because the slope for the green channel is higher than the slopes of the other channels.\n",
    "3. The three RD curves have basically the same shape. This means that the quantization pattern $\\Delta_\\text{R}=\\Delta_\\text{G}=\\Delta_\\text{B}$ is optimal, because in those reconstructions the slope of the curves are the closest to satisfy that $\\lambda_\\text{R}=\\lambda_\\text{G}=\\lambda_\\text{B}$."
   ]
  },
  {
   "cell_type": "markdown",
   "metadata": {},
   "source": [
    "## Generation of the \"optimal\" RD curve\n",
    "\n",
    "In general, the RD curve of a codec can be determined by finding a progression of quantization steps patterns in which the RD points are sorted by their \"slope\" (notice that the RD curve is a piece-wise function defined by interconnected straight lines, and by definition, the slope in the points defined by the connexions is undefined ... we cannot compute the derivative of the function in points), considering that such \"slope\" is the slope of the straight line that is on the left of each point (for the first point, we will suppose a RD point with $R=0$, and $D=\\infty$). Basically, we will apply the following algorithm:\n",
    "\n",
    "1. Find the RD curve of each RGB channel. We will quantize each channel using the quantization steps [128, 64, 32, 16, 8, 4, 2, 1]. Notice that such progression of quantization steps progressively concatenates bit-planes to the numerical representation of the channels. The distortion will be measured using the RMSE metric considering only the analyzed channel (remember that the RGB color domain is additive and therefore, the contribution of the channels to the quality of the image is the addition of the qualities of the three channels).\n",
    "\n",
    "2. Put all the points in a single list and sort it by the slope of points.\n",
    "\n",
    "3. Progressively find the RD curve of the image, starting with the quantization step pattern [256, 256, 256] (which should produce a constant image), by incorporating the corresponding pattern defined by the sorted list of points. Notice that, consecutive points in the RD curve of the image will be differ in only one quantization step of their corresponding patterns, that the quantization steps will be adjacent in the list [128, 64, 32, 16, 8, 4, 2, 1], and that the last used (for the most right bottom point of the RD curve) should be the [1, 1, 1] quantization step pattern. Again we will use the RMSE measured in the RGB domain, and to compute the rate we will take into account all the channels.\n",
    "\n",
    "Finally, notice that using the previous algorithm we should be able to find the best progression of quantization patterns. However, since these patterns are applied directly to the RGB domain and each component contributes the same gain to the energy of its image as a whole, the only thing we are going to achieve is to find intermediate RD points (which should belong also to the RD convex-hull) between the points where it is verified that $\\Delta_\\text{R} = \\Delta_\\text{G} = \\Delta_\\text{B}$, generated by quantization patterns where any of these equalities is not true.\n",
    "\n",
    "In general, the contribution of the components to the quality of the reconstruction can be different because even being the distortion additive, the compression ratio of each component can be different."
   ]
  },
  {
   "cell_type": "markdown",
   "metadata": {},
   "source": [
    "### 1. Compute the slopes of each channel"
   ]
  },
  {
   "cell_type": "code",
   "execution_count": null,
   "metadata": {},
   "outputs": [],
   "source": [
    "def compute_slopes(RD_points):\n",
    "    counter = 0\n",
    "    RD_slopes = []\n",
    "    points_iterator = iter(RD_points)\n",
    "    next(points_iterator)\n",
    "    for i in points_iterator:\n",
    "        BPP = i[0] # Rate \n",
    "        #print(RD_points[counter])\n",
    "        delta_BPP = BPP - RD_points[counter][0]\n",
    "        RMSE = i[1] # Distortion\n",
    "        delta_RMSE = RMSE - RD_points[counter][1] \n",
    "        #print(f\"q_step={1<<q_step:>3}, rate={rate:>7} bytes, distortion={_distortion:>6.1f}\")\n",
    "        if delta_BPP > 0:\n",
    "            slope = abs(delta_RMSE/delta_BPP)\n",
    "        else:\n",
    "            slope = 0\n",
    "        component = i[2]\n",
    "        Q_step = i[3]\n",
    "        #print((slope, i), delta_RMSE, delta_BPP)\n",
    "        RD_slopes.append((slope, component, Q_step))\n",
    "        counter += 1\n",
    "    return RD_slopes\n",
    "\n",
    "R_slopes = compute_slopes(R_points)\n",
    "G_slopes = compute_slopes(G_points)\n",
    "B_slopes = compute_slopes(B_points)"
   ]
  },
  {
   "cell_type": "code",
   "execution_count": null,
   "metadata": {},
   "outputs": [],
   "source": [
    "R_slopes"
   ]
  },
  {
   "cell_type": "code",
   "execution_count": null,
   "metadata": {},
   "outputs": [],
   "source": [
    "G_slopes"
   ]
  },
  {
   "cell_type": "code",
   "execution_count": null,
   "metadata": {},
   "outputs": [],
   "source": [
    "B_slopes"
   ]
  },
  {
   "cell_type": "markdown",
   "metadata": {},
   "source": [
    "### Merge the RD slopes and sort them (by slope)"
   ]
  },
  {
   "cell_type": "code",
   "execution_count": null,
   "metadata": {},
   "outputs": [],
   "source": [
    "all_slopes = R_slopes + G_slopes + B_slopes\n",
    "sorted_slopes = sorted(all_slopes, key=lambda x: x[0])[::-1]"
   ]
  },
  {
   "cell_type": "code",
   "execution_count": null,
   "metadata": {},
   "outputs": [],
   "source": [
    "sorted_slopes"
   ]
  },
  {
   "cell_type": "markdown",
   "metadata": {},
   "source": [
    "Notice that the pattern of quantization step sizes that satisfy that $\\Delta_\\text{R}=\\Delta_\\text{G}=\\Delta_\\text{B}$ is used with a perfect cadence (every 3 steps)."
   ]
  },
  {
   "cell_type": "markdown",
   "metadata": {},
   "source": [
    "### Build the RD curve\n",
    "\n",
    "At this point we have a list of RD points sorted by their slopes and we have two alternatives to compute the RD curve:\n",
    "\n",
    "1. Suppose that the distortion of the reconstructed (dequantized) image is the sum of the distortions of each component, and do the same for the bit-rate.\n",
    "2. Suppose that, because we are compressing a RGB image, the bit-rate of the compressed image can be slighly smaller than the addition of the bit-rates of the compressed components, basically because we will avoid extra headers.\n",
    "\n",
    "The second alterntive has been used because it is more accurate."
   ]
  },
  {
   "cell_type": "code",
   "execution_count": null,
   "metadata": {
    "scrolled": false
   },
   "outputs": [],
   "source": [
    "# Recompute \n",
    "def get_RD_curve_sorted_by_slopes(RGB_img, sorted_slopes, components, quantizer):\n",
    "    RGB_img = RGB_img.copy()\n",
    "    RGB_img -= 128\n",
    "    points = []\n",
    "    Q_steps_per_component = [256, 256, 256] # This should generate a black image.\n",
    "    for i in sorted_slopes:\n",
    "        k = np.empty_like(RGB_img)\n",
    "        y = np.empty_like(RGB_img)\n",
    "        component = i[1]\n",
    "        Q_step = i[2]\n",
    "        Q_steps_per_component[components.index(component)] = Q_step\n",
    "        for c, QS in zip(components, Q_steps_per_component):\n",
    "            Q = quantizer(Q_step=QS)\n",
    "            y[..., components.index(c)], k[..., components.index(c)] = Q.quan_dequan(RGB_img[..., components.index(c)])\n",
    "        k = (k + 128).astype(np.uint8)\n",
    "        rate = RGB_image.write(k, \"/tmp/\" + str(Q_steps_per_component).replace(\" \", \"\").replace(\"[\", \"\").replace(\"]\",\"\").replace(\",\",\"_\") + '_', 0)*8/(k.shape[0]*k.shape[1])\n",
    "        _distortion = distortion.RMSE(RGB_img, y)\n",
    "        points.append((rate, _distortion))\n",
    "        print(f\"Q_step={Q_steps_per_component}, rate={rate} bits/pixel, distortion={_distortion}\")\n",
    "    return points\n",
    "\n",
    "RD_points_sorted_by_slopes = get_RD_curve_sorted_by_slopes(RGB_img, sorted_slopes, components, quantizer)"
   ]
  },
  {
   "cell_type": "markdown",
   "metadata": {},
   "source": [
    "## For future comparisons"
   ]
  },
  {
   "cell_type": "code",
   "execution_count": null,
   "metadata": {},
   "outputs": [],
   "source": [
    "with open(f\"RGB_SQ.txt\", 'w') as f:\n",
    "    for item in RD_points_sorted_by_slopes:\n",
    "        f.write(f\"{item[0]}\\t{item[1]}\\n\")"
   ]
  },
  {
   "cell_type": "markdown",
   "metadata": {},
   "source": [
    "## Let's compare!"
   ]
  },
  {
   "cell_type": "code",
   "execution_count": null,
   "metadata": {},
   "outputs": [],
   "source": [
    "pylab.figure(dpi=150)\n",
    "pylab.plot(*zip(*RD_points_sorted_by_slopes), c='g', marker='o', label=\"Sorted by slope\", linestyle=\"dashed\")\n",
    "pylab.plot(*zip(*same_delta_RD_points), c='m', marker='x', label=\"$\\Delta_{\\mathrm{R}}=\\Delta_{\\mathrm{G}}=\\Delta_{\\mathrm{B}}}$\", linestyle=\"dotted\")\n",
    "pylab.title(fn)\n",
    "pylab.xlabel(\"Bits/Pixel\")\n",
    "pylab.ylabel(\"RMSE\")\n",
    "pylab.legend(loc='upper right')\n",
    "pylab.show()"
   ]
  },
  {
   "cell_type": "markdown",
   "metadata": {},
   "source": [
    "Notice that, basically, the magenta RD points are a subset of the green points."
   ]
  },
  {
   "cell_type": "markdown",
   "metadata": {},
   "source": [
    "## Conclusion\n",
    "\n",
    "In the RGB domain, the optimal RD curve matches the constant quantization RD curve because the 3 components have the same weight in the contribution to the quality the reconstruction. However, we have more OTPs (Optimal Truncation Points) in the \"optimal\" one."
   ]
  },
  {
   "cell_type": "markdown",
   "metadata": {},
   "source": [
    "## Ignore the rest ..."
   ]
  },
  {
   "cell_type": "markdown",
   "metadata": {},
   "source": [
    "## Comparing all quantizers"
   ]
  },
  {
   "cell_type": "code",
   "execution_count": null,
   "metadata": {},
   "outputs": [],
   "source": [
    "RGB_midrise = []\n",
    "with open(f\"RGB_mid-rise.txt\", 'r') as f:\n",
    "    for line in f:\n",
    "        rate, _distortion = line.split('\\t')\n",
    "        RGB_midrise.append((float(rate), float(_distortion)))"
   ]
  },
  {
   "cell_type": "code",
   "execution_count": null,
   "metadata": {},
   "outputs": [],
   "source": [
    "RGB_deadzone = []\n",
    "with open(f\"RGB_dead-zone.txt\", 'r') as f:\n",
    "    for line in f:\n",
    "        rate, _distortion = line.split('\\t')\n",
    "        RGB_deadzone.append((float(rate), float(_distortion)))"
   ]
  },
  {
   "cell_type": "code",
   "execution_count": null,
   "metadata": {},
   "outputs": [],
   "source": [
    "RGB_midtread = []\n",
    "with open(f\"RGB_mid-tread.txt\", 'r') as f:\n",
    "    for line in f:\n",
    "        rate, _distortion = line.split('\\t')\n",
    "        RGB_midtread.append((float(rate), float(_distortion)))"
   ]
  },
  {
   "cell_type": "code",
   "execution_count": null,
   "metadata": {},
   "outputs": [],
   "source": [
    "RGB_companded = []\n",
    "with open(f\"RGB_companded.txt\", 'r') as f:\n",
    "    for line in f:\n",
    "        rate, _distortion = line.split('\\t')\n",
    "        RGB_companded.append((float(rate), float(_distortion)))"
   ]
  },
  {
   "cell_type": "code",
   "execution_count": null,
   "metadata": {},
   "outputs": [],
   "source": [
    "pylab.figure(dpi=150)\n",
    "pylab.plot(*zip(*RGB_midrise), c='g', marker='o', label=\"Mid-rise\", linestyle=\"dashed\")\n",
    "pylab.plot(*zip(*RGB_deadzone), c='m', marker='x', label=\"Dead-zone\", linestyle=\"dotted\")\n",
    "pylab.plot(*zip(*RGB_midtread), c='r', marker='x', label=\"Mid-read\", linestyle=\"dotted\")\n",
    "pylab.plot(*zip(*RGB_companded), c='b', marker='x', label=\"Companded\", linestyle=\"dotted\")\n",
    "pylab.title(\"Rate/Distortion Performance \")\n",
    "pylab.xlabel(\"Bits/Pixel\")\n",
    "pylab.ylabel(\"RMSE\")\n",
    "pylab.legend(loc='upper right')\n",
    "pylab.show()"
   ]
  },
  {
   "cell_type": "markdown",
   "metadata": {},
   "source": [
    "## Comparing all quantizers\n",
    "You must have run the previous cells for the different quantizers."
   ]
  },
  {
   "cell_type": "code",
   "execution_count": null,
   "metadata": {},
   "outputs": [],
   "source": [
    "RGB_midrise = []\n",
    "with open(f\"RGB_same_mid-rise_RD_points.txt\", 'r') as f:\n",
    "    for line in f:\n",
    "        rate, _distortion = line.split('\\t')\n",
    "        RGB_midrise.append((float(rate), float(_distortion)))"
   ]
  },
  {
   "cell_type": "code",
   "execution_count": null,
   "metadata": {},
   "outputs": [],
   "source": [
    "RGB_deadzone = []\n",
    "with open(f\"RGB_same_dead-zone_RD_points.txt\", 'r') as f:\n",
    "    for line in f:\n",
    "        rate, _distortion = line.split('\\t')\n",
    "        RGB_deadzone.append((float(rate), float(_distortion)))"
   ]
  },
  {
   "cell_type": "code",
   "execution_count": null,
   "metadata": {},
   "outputs": [],
   "source": [
    "RGB_midtread = []\n",
    "with open(f\"RGB_same_mid-tread_RD_points.txt\", 'r') as f:\n",
    "    for line in f:\n",
    "        rate, _distortion = line.split('\\t')\n",
    "        RGB_midtread.append((float(rate), float(_distortion)))"
   ]
  },
  {
   "cell_type": "code",
   "execution_count": null,
   "metadata": {},
   "outputs": [],
   "source": [
    "RGB_companded = []\n",
    "with open(f\"RGB_same_companded_RD_points.txt\", 'r') as f:\n",
    "    for line in f:\n",
    "        rate, _distortion = line.split('\\t')\n",
    "        RGB_companded.append((float(rate), float(_distortion)))"
   ]
  },
  {
   "cell_type": "code",
   "execution_count": null,
   "metadata": {},
   "outputs": [],
   "source": [
    "pylab.figure(dpi=150)\n",
    "pylab.plot(*zip(*RGB_midrise), c='g', marker='o', label=\"Mid-rise\", linestyle=\"dashed\")\n",
    "pylab.plot(*zip(*RGB_deadzone), c='m', marker='x', label=\"Dead-zone\", linestyle=\"dotted\")\n",
    "pylab.plot(*zip(*RGB_midtread), c='r', marker='x', label=\"Mid-read\", linestyle=\"dotted\")\n",
    "pylab.plot(*zip(*RGB_companded), c='b', marker='x', label=\"Companded\", linestyle=\"dotted\")\n",
    "pylab.title(\"Rate/Distortion Performance \")\n",
    "pylab.xlabel(\"Bits/Pixel\")\n",
    "pylab.ylabel(\"RMSE\")\n",
    "pylab.legend(loc='upper right')\n",
    "pylab.show()"
   ]
  },
  {
   "cell_type": "markdown",
   "metadata": {},
   "source": [
    "The RD performance of the four quantizers in the RGB domain is similar, but the companded quantizer needs extra bits for representing the source losslessly. This is a consequence of the floating point arithmetic used in the compressor and the decompressor."
   ]
  },
  {
   "cell_type": "code",
   "execution_count": null,
   "metadata": {},
   "outputs": [],
   "source": [
    "def accumulate_rate(points_sorted_by_slopes):\n",
    "    optimal_points = []\n",
    "    accumulated_BR = 0.0\n",
    "    for i in points_sorted_by_slopes:\n",
    "        BPP = i[1][0]; MSE = i[1][1]\n",
    "        accumulated_BR += BPP\n",
    "        optimal_points.append((accumulated_BR, MSE))\n",
    "    return optimal_points\n",
    "\n",
    "optimal_points = accumulate_rate(optimal_slopes)"
   ]
  },
  {
   "cell_type": "code",
   "execution_count": null,
   "metadata": {},
   "outputs": [],
   "source": [
    "optimal_points"
   ]
  },
  {
   "cell_type": "markdown",
   "metadata": {},
   "source": [
    "## Compute slopes"
   ]
  },
  {
   "cell_type": "code",
   "execution_count": null,
   "metadata": {},
   "outputs": [],
   "source": []
  },
  {
   "cell_type": "code",
   "execution_count": null,
   "metadata": {},
   "outputs": [],
   "source": [
    "def compute_slopes(RD_points):\n",
    "    extended_RD_points = [(0.0, 9.0E9, '', -1)] + RD_points\n",
    "    counter = 0\n",
    "    RD_slopes = []\n",
    "    for i in RD_points:\n",
    "        BPP = i[0] # Rate \n",
    "        print(RD_points[counter])\n",
    "        delta_BPP = BPP - extended_RD_points[counter][0]\n",
    "        RMSE = i[1] # Distortion\n",
    "        delta_RMSE = RMSE - extended_RD_points[counter][1] \n",
    "        #print(f\"q_step={1<<q_step:>3}, rate={rate:>7} bytes, distortion={_distortion:>6.1f}\")\n",
    "        if delta_BPP > 0:\n",
    "            slope = delta_RMSE/delta_BPP\n",
    "        else:\n",
    "            slope = 0\n",
    "        RD_slopes.append((slope, i[2], i[3]))\n",
    "        counter += 1\n",
    "    return RD_slopes\n",
    "\n",
    "RD_slopes = compute_slopes(sorted_RD_points)"
   ]
  },
  {
   "cell_type": "code",
   "execution_count": null,
   "metadata": {},
   "outputs": [],
   "source": [
    "RD_slopes"
   ]
  },
  {
   "cell_type": "code",
   "execution_count": null,
   "metadata": {},
   "outputs": [],
   "source": [
    "print(RD_points)"
   ]
  },
  {
   "cell_type": "code",
   "execution_count": null,
   "metadata": {},
   "outputs": [],
   "source": [
    "with open('RGB.txt', 'w') as f:\n",
    "    for item in RD_points:\n",
    "        f.write(f\"{item[0]}\\t{item[1]}\\n\")"
   ]
  },
  {
   "cell_type": "code",
   "execution_count": null,
   "metadata": {},
   "outputs": [],
   "source": [
    "k, y = q_deq(img, 64)\n",
    "show(y, \"\")"
   ]
  },
  {
   "cell_type": "markdown",
   "metadata": {},
   "source": [
    "## RD curves of each channel"
   ]
  },
  {
   "cell_type": "code",
   "execution_count": null,
   "metadata": {},
   "outputs": [],
   "source": [
    "def only_R_RD_curve(RGB_frame):\n",
    "    RD_points = []\n",
    "    for q_step in range(0, 8):\n",
    "        R_frame = RGB_frame[:,:,0]\n",
    "        k, dequantized_R_frame = q_deq(R_frame, 1<<q_step)\n",
    "        k = k.astype(np.uint8)\n",
    "        rate = bits_per_graypixel(k)\n",
    "        _distortion = distortion.RMSE(R_frame, dequantized_R_frame)\n",
    "        RD_points.append((rate, _distortion))\n",
    "        print(f\"q_step={1<<q_step:>3}, rate={rate:>7} bytes, distortion={_distortion:>6.1f}\")\n",
    "    return RD_points\n",
    "\n",
    "def only_G_RD_curve(RGB_frame):\n",
    "    RD_points = []\n",
    "    for q_step in range(0, 8):\n",
    "        G_frame = RGB_frame[:,:,1]\n",
    "        k, dequantized_G_frame = q_deq(G_frame, 1<<q_step)\n",
    "        k = k.astype(np.uint8)\n",
    "        rate = bits_per_graypixel(k)\n",
    "        _distortion = distortion.RMSE(G_frame, dequantized_G_frame)\n",
    "        RD_points.append((rate, _distortion))\n",
    "        print(f\"q_step={1<<q_step:>3}, rate={rate:>7} bytes, distortion={_distortion:>6.1f}\")\n",
    "    return RD_points\n",
    "\n",
    "def only_B_RD_curve(RGB_frame):\n",
    "    RD_points = []\n",
    "    for q_step in range(0, 8):\n",
    "        B_frame = RGB_frame[:,:,2]\n",
    "        k, dequantized_B_frame = q_deq(B_frame, 1<<q_step)\n",
    "        k = k.astype(np.uint8)\n",
    "        rate = bits_per_graypixel(k)\n",
    "        _distortion = distortion.RMSE(B_frame, dequantized_B_frame)\n",
    "        RD_points.append((rate, _distortion))\n",
    "        print(f\"q_step={1<<q_step:>3}, rate={rate:>7} bytes, distortion={_distortion:>6.1f}\")\n",
    "    return RD_points\n",
    "\n",
    "only_R_points = only_R_RD_curve(img)\n",
    "only_G_points = only_G_RD_curve(img)\n",
    "only_B_points = only_B_RD_curve(img)"
   ]
  },
  {
   "cell_type": "code",
   "execution_count": null,
   "metadata": {},
   "outputs": [],
   "source": [
    "only_B_points"
   ]
  },
  {
   "cell_type": "code",
   "execution_count": null,
   "metadata": {},
   "outputs": [],
   "source": [
    "pylab.figure(dpi=150)\n",
    "pylab.plot(*zip(*RD_points), c='m', marker=\"x\",\n",
    "           label='$\\Delta_{\\mathrm{R}} = \\Delta_{\\mathrm{G}} = \\Delta_{\\mathrm{B}}$')\n",
    "pylab.plot(*zip(*only_R_points), c='r', marker=\"o\",\n",
    "           label='Only R')              \n",
    "pylab.plot(*zip(*only_G_points), c='g', marker=\"o\",\n",
    "           label='Only G')              \n",
    "pylab.plot(*zip(*only_B_points), c='b', marker=\"o\",\n",
    "           label='Only B')              \n",
    "pylab.title(\"RD Performance\")\n",
    "pylab.xlabel(\"Bits/Pixel\")\n",
    "pylab.ylabel(\"RMSE\")\n",
    "plt.legend(loc='upper right')\n",
    "pylab.show()"
   ]
  },
  {
   "cell_type": "markdown",
   "metadata": {},
   "source": [
    "The $\\Delta_{\\mathrm{R}} = \\Delta_{\\mathrm{G}} = \\Delta_{\\mathrm{B}}$ quantization scheme is near optimal because the slope at the different quantization points is almost the same. This can be seen in the next experiment"
   ]
  },
  {
   "cell_type": "markdown",
   "metadata": {},
   "source": [
    "## Testing a different quantization configuration"
   ]
  },
  {
   "cell_type": "code",
   "execution_count": null,
   "metadata": {},
   "outputs": [],
   "source": [
    "N = 6\n",
    "def only_R_RD_curve(RGB_frame):\n",
    "    RD_points = []\n",
    "    for q_step in range(0, 8):\n",
    "        dequantized_RGB_frame = np.empty_like(RGB_frame)\n",
    "        k = np.empty_like(RGB_frame)\n",
    "        k[:,:,0], dequantized_RGB_frame[:,:,0] = q_deq(RGB_frame[:,:,0], 1<<q_step)\n",
    "        k[:,:,1], dequantized_RGB_frame[:,:,1] = q_deq(RGB_frame[:,:,1], 1<<N)\n",
    "        k[:,:,2], dequantized_RGB_frame[:,:,2] = q_deq(RGB_frame[:,:,2], 1<<N)\n",
    "        k = k.astype(np.uint8)\n",
    "        rate = bits_per_pixel(k)\n",
    "        _distortion = distortion.MSE(RGB_frame, dequantized_RGB_frame)\n",
    "        RD_points.append((rate, _distortion))\n",
    "        print(f\"q_step={1<<q_step:>3}, rate={rate:>7} bytes, distortion={_distortion:>6.1f}\")\n",
    "    return RD_points\n",
    "\n",
    "def only_G_RD_curve(RGB_frame):\n",
    "    RD_points = []\n",
    "    for q_step in range(0, 8):\n",
    "        dequantized_RGB_frame = np.empty_like(RGB_frame)\n",
    "        k = np.empty_like(RGB_frame)\n",
    "        k[:,:,0], dequantized_RGB_frame[:,:,0] = q_deq(RGB_frame[:,:,0], 1<<N)\n",
    "        k[:,:,1], dequantized_RGB_frame[:,:,1] = q_deq(RGB_frame[:,:,1], 1<<q_step)\n",
    "        k[:,:,2], dequantized_RGB_frame[:,:,2] = q_deq(RGB_frame[:,:,2], 1<<N)\n",
    "        k = k.astype(np.uint8)\n",
    "        rate = bits_per_pixel(k)\n",
    "        _distortion = distortion.RMSE(RGB_frame, dequantized_RGB_frame)\n",
    "        RD_points.append((rate, _distortion))\n",
    "        print(f\"q_step={1<<q_step:>3}, rate={rate:>7} bytes, distortion={_distortion:>6.1f}\")\n",
    "    return RD_points\n",
    "\n",
    "def only_B_RD_curve(RGB_frame):\n",
    "    RD_points = []\n",
    "    for q_step in range(0, 8):\n",
    "        dequantized_RGB_frame = np.empty_like(RGB_frame)\n",
    "        k = np.empty_like(RGB_frame)\n",
    "        k[:,:,0], dequantized_RGB_frame[:,:,0] = q_deq(RGB_frame[:,:,0], 1<<N)\n",
    "        k[:,:,1], dequantized_RGB_frame[:,:,1] = q_deq(RGB_frame[:,:,1], 1<<N)\n",
    "        k[:,:,2], dequantized_RGB_frame[:,:,2] = q_deq(RGB_frame[:,:,2], 1<<q_step)\n",
    "        k = k.astype(np.uint8)\n",
    "        rate = bits_per_pixel(k)\n",
    "        _distortion = distortion.RMSE(RGB_frame, dequantized_RGB_frame)\n",
    "        RD_points.append((rate, _distortion))\n",
    "        print(f\"q_step={1<<q_step:>3}, rate={rate:>7} bytes, distortion={_distortion:>6.1f}\")\n",
    "    return RD_points\n",
    "\n",
    "only_R_points = only_R_RD_curve(img)\n",
    "only_G_points = only_G_RD_curve(img)\n",
    "only_B_points = only_B_RD_curve(img)"
   ]
  },
  {
   "cell_type": "code",
   "execution_count": null,
   "metadata": {},
   "outputs": [],
   "source": [
    "pylab.figure(dpi=150)\n",
    "pylab.plot(*zip(*RD_points), c='m', marker=\"x\",\n",
    "           label='$\\Delta_{\\mathrm{R}} = \\Delta_{\\mathrm{G}} = \\Delta_{\\mathrm{B}}$')\n",
    "pylab.plot(*zip(*only_R_points), c='r', marker=\"o\",\n",
    "           label='$\\Delta_{\\mathrm{R}}~\\mathrm{varies},~\\Delta_{\\mathrm{G}}=\\Delta_{\\mathrm{B}}=$' + '{}'.format(1<<N))              \n",
    "pylab.plot(*zip(*only_G_points), c='g', marker=\"o\",\n",
    "           label='$\\Delta_{\\mathrm{G}}~\\mathrm{varies},~\\Delta_{\\mathrm{R}}=\\Delta_{\\mathrm{B}}=$' + '{}'.format(1<<N))              \n",
    "pylab.plot(*zip(*only_B_points), c='b', marker=\"o\",\n",
    "           label='$\\Delta_{\\mathrm{B}}~\\mathrm{varies},~\\Delta_{\\mathrm{R}}=\\Delta_{\\mathrm{G}}=$' + '{}'.format(1<<N))              \n",
    "pylab.title(\"RD Performance\")\n",
    "pylab.xlabel(\"Bits/Pixel\")\n",
    "pylab.ylabel(\"RMSE\")\n",
    "plt.legend(loc='upper right')\n",
    "pylab.show()"
   ]
  },
  {
   "cell_type": "markdown",
   "metadata": {},
   "source": [
    "As it can be seen, the best configuration matches $\\Delta_{\\mathrm{R}} = \\Delta_{\\mathrm{G}} = \\Delta_{\\mathrm{B}}$."
   ]
  },
  {
   "cell_type": "markdown",
   "metadata": {},
   "source": [
    "Lo que hay que hacer es calcular el slope para cada OTP (Optimal Truncated Point) de cada canal, ordenarlos y trazar la curva RD. Esto nos daría la curva RD óptima."
   ]
  },
  {
   "cell_type": "code",
   "execution_count": null,
   "metadata": {},
   "outputs": [],
   "source": []
  }
 ],
 "metadata": {
  "kernelspec": {
   "display_name": "Python 3 (ipykernel)",
   "language": "python",
   "name": "python3"
  },
  "language_info": {
   "codemirror_mode": {
    "name": "ipython",
    "version": 3
   },
   "file_extension": ".py",
   "mimetype": "text/x-python",
   "name": "python",
   "nbconvert_exporter": "python",
   "pygments_lexer": "ipython3",
   "version": "3.10.5"
  }
 },
 "nbformat": 4,
 "nbformat_minor": 4
}

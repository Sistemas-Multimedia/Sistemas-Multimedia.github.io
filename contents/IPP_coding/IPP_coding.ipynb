{
 "cells": [
  {
   "cell_type": "markdown",
   "id": "a3f59885",
   "metadata": {},
   "source": [
    "# Block-based IPP Coding\n",
    "\n",
    "1. Read a GOP.\n",
    "2. Divide the picture into blocks and compute the motion vectors.\n",
    "3. Encode the motion vectors.\n",
    "4. Compress and decompress the I-picture.\n",
    "5. Compute the P-pictures, considering the reconstucted pictures at the IPP-decoder.\n",
    "6. Encode the IPP structure.\n",
    "\n",
    "No I-blocks are allowed in P-pictures."
   ]
  },
  {
   "cell_type": "code",
   "execution_count": null,
   "id": "f3997f4a",
   "metadata": {},
   "outputs": [],
   "source": [
    "!ln -sf ~/repos/image_IO/image_3.py .\n",
    "import image_3 as frame_RGB\n",
    "!ln -sf ~/information_theory/information.py .\n",
    "import information\n",
    "!ln -sf ~/information_theory/distortion.py .\n",
    "import distortion\n",
    "#!ln -sf ~/repos/YCoCg/YCoCg.py .\n",
    "#import YCoCg as YUV\n",
    "!ln -sf ~/repos/DCT/color_DCT.py .\n",
    "import color_DCT as YUV\n",
    "!ln -sf ~/repos/scalar_quantization/quantization.py .\n",
    "import quantization\n",
    "!ln -sf ~/repos/scalar_quantization/deadzone_quantization.py .\n",
    "#import deadzone_quantization as deadzone\n",
    "from deadzone_quantization import Deadzone_Quantizer as Quantizer"
   ]
  },
  {
   "cell_type": "code",
   "execution_count": null,
   "id": "a60b46b3",
   "metadata": {},
   "outputs": [],
   "source": [
    "def encode_picture(video_prefix, picture_index=0, Q_step=1):\n",
    "    "
   ]
  },
  {
   "cell_type": "code",
   "execution_count": null,
   "id": "7ee6461c",
   "metadata": {},
   "outputs": [],
   "source": [
    "def encode_GOP(video_prefix, GOP_index=0, GOP_size=16, Q_step=1):\n",
    "    k = GOP_index * GOP_size\n",
    "    V_k = frame_RGB.read(video_prefix, k).astype(np.int16) - 128\n",
    "    initial_flow = np.zeros((V_k.shape[0], V_k.shape[1], 2), dtype=np.float32)\n",
    "    W_k = YUV.from_RGB(V_k) # (a)\n",
    "    W_k_1 = W_k # (b)\n",
    "    E_k = W_k # (f)\n",
    "    reconstructed_picture = "
   ]
  },
  {
   "cell_type": "code",
   "execution_count": null,
   "id": "acf0908f",
   "metadata": {},
   "outputs": [],
   "source": [
    "def encode_sequence(video_prefix, first_frame=0, N_frames=16, GOP_size=16, Q_step=1):\n",
    "    k = first_frame\n"
   ]
  }
 ],
 "metadata": {
  "kernelspec": {
   "display_name": "Python 3 (ipykernel)",
   "language": "python",
   "name": "python3"
  },
  "language_info": {
   "codemirror_mode": {
    "name": "ipython",
    "version": 3
   },
   "file_extension": ".py",
   "mimetype": "text/x-python",
   "name": "python",
   "nbconvert_exporter": "python",
   "pygments_lexer": "ipython3",
   "version": "3.10.5"
  }
 },
 "nbformat": 4,
 "nbformat_minor": 5
}

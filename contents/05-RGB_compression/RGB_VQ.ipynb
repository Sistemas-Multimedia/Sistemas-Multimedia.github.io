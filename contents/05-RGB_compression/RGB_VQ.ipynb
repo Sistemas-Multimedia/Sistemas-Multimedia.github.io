{
 "cells": [
  {
   "cell_type": "markdown",
   "id": "00163105",
   "metadata": {},
   "source": [
    "# RGB Vector Quantization\n",
    "Using K-means."
   ]
  },
  {
   "cell_type": "code",
   "execution_count": null,
   "id": "c0fdeb4b",
   "metadata": {},
   "outputs": [],
   "source": [
    "import numpy as np\n",
    "from PIL import Image\n",
    "from matplotlib import pyplot as plt\n",
    "from sklearn.cluster import KMeans"
   ]
  },
  {
   "cell_type": "code",
   "execution_count": null,
   "id": "8bd1183a",
   "metadata": {},
   "outputs": [],
   "source": [
    "inarray = np.array(original,dtype=np.float64)\n",
    "orig = inarray\n",
    "inarray = inarray.reshape((-1,1)) # flatten\n",
    "kmeans = KMeans(n_clusters=4, init='random') # Define number of clusters\n",
    "kmeans.fit(inarray) # Find centroids in clusters\n",
    "centers = kmeans.cluster_centers_ # Centroids\n",
    "labels = kmeans.labels_ # Code-book\n",
    "\n",
    "# Quantize\n",
    "f=[]\n",
    "centers = centers.squeeze()\n",
    "for i in labels:\n",
    "    f.append(centers[i])\n",
    "    final = np.asarray(f)\n",
    "final = final.reshape(orig.shape)"
   ]
  }
 ],
 "metadata": {
  "kernelspec": {
   "display_name": "Python 3 (ipykernel)",
   "language": "python",
   "name": "python3"
  },
  "language_info": {
   "codemirror_mode": {
    "name": "ipython",
    "version": 3
   },
   "file_extension": ".py",
   "mimetype": "text/x-python",
   "name": "python",
   "nbconvert_exporter": "python",
   "pygments_lexer": "ipython3",
   "version": "3.10.2"
  }
 },
 "nbformat": 4,
 "nbformat_minor": 5
}

{
 "cells": [
  {
   "cell_type": "markdown",
   "metadata": {},
   "source": [
    "[![Binder](https://mybinder.org/badge_logo.svg)](https://nbviewer.org/github/Sistemas-Multimedia/Sistemas-Multimedia.github.io/blob/master/contents/gray_SQ/gray_SQ_companded.ipynb)"
   ]
  },
  {
   "cell_type": "markdown",
   "metadata": {},
   "source": [
    "[![Colab](https://badgen.net/badge/Launch/on%20Google%20Colab/blue?icon=notebook)](https://colab.research.google.com/github/Sistemas-Multimedia/Sistemas-Multimedia.github.io/blob/master/contents/gray_SQ/gray_SQ_companded.ipynb)"
   ]
  },
  {
   "cell_type": "markdown",
   "metadata": {},
   "source": [
    "# Gray-scale Image compression Using a Companded Uniform Midtread Scalar Quantizer"
   ]
  },
  {
   "cell_type": "code",
   "execution_count": null,
   "metadata": {},
   "outputs": [],
   "source": [
    "%%bash\n",
    "if [ -d \"$HOME/repos\" ]; then\n",
    "    echo \"\\\"$HOME/repos\\\" exists\"\n",
    "else\n",
    "    mkdir ~/repos\n",
    "    echo Created $HOME/repos\n",
    "fi"
   ]
  },
  {
   "cell_type": "code",
   "execution_count": null,
   "metadata": {},
   "outputs": [],
   "source": [
    "%%bash\n",
    "if [ -d \"$HOME/repos/scalar_quantization\" ]; then\n",
    "    cd $HOME/repos/scalar_quantization\n",
    "    echo \"$HOME/repos/scalar_quantization ... \"\n",
    "    git pull \n",
    "else\n",
    "    cd $HOME/repos\n",
    "    git clone https://github.com/vicente-gonzalez-ruiz/scalar_quantization.git\n",
    "fi"
   ]
  },
  {
   "cell_type": "code",
   "execution_count": null,
   "metadata": {},
   "outputs": [],
   "source": [
    "%%bash\n",
    "if [ -d \"$HOME/repos/MRVC\" ]; then\n",
    "    cd $HOME/repos/MRVC\n",
    "    echo \"$HOME/repos/MRVC ... \"\n",
    "    git pull \n",
    "else\n",
    "    cd $HOME/repos\n",
    "    git clone https://github.com/Sistemas-Multimedia/MRVC.git\n",
    "fi"
   ]
  },
  {
   "cell_type": "code",
   "execution_count": null,
   "metadata": {},
   "outputs": [],
   "source": [
    "%%bash\n",
    "if [ -d \"$HOME/repos/image_IO\" ]; then\n",
    "    cd $HOME/repos/image_IO\n",
    "    echo \"$HOME/repos/image_IO ... \"\n",
    "    git pull \n",
    "else\n",
    "    cd $HOME/repos\n",
    "    git clone https://github.com/vicente-gonzalez-ruiz/image_IO.git\n",
    "fi"
   ]
  },
  {
   "cell_type": "code",
   "execution_count": null,
   "metadata": {},
   "outputs": [],
   "source": [
    "%%bash\n",
    "if [ -d \"$HOME/repos/information_theory\" ]; then\n",
    "    cd $HOME/repos/image_IO\n",
    "    echo \"$HOME/repos/information_theory ... \"\n",
    "    git pull \n",
    "else\n",
    "    cd $HOME/repos\n",
    "    git clone https://github.com/vicente-gonzalez-ruiz/information_theory.git\n",
    "fi"
   ]
  },
  {
   "cell_type": "code",
   "execution_count": null,
   "metadata": {},
   "outputs": [],
   "source": [
    "#!ln -sf ~/MRVC/src/logging_config.py .\n",
    "!ln -sf ~/repos/scalar_quantization/quantizer.py .\n",
    "!ln -sf ~/repos/scalar_quantization/deadzone_quantization.py .\n",
    "!ln -sf ~/repos/scalar_quantization/companded_quantization.py .\n",
    "!ln -sf ~/repos/information_theory/distortion.py .\n",
    "!ln -sf ~/repos/information_theory/information.py .\n",
    "!ln -sf ~/repos/image_IO/image_1.py .\n",
    "!ln -sf ~/repos/image_IO/logging_config.py ."
   ]
  },
  {
   "cell_type": "code",
   "execution_count": null,
   "metadata": {},
   "outputs": [],
   "source": [
    "try:\n",
    "    import matplotlib.pyplot as plt\n",
    "except:\n",
    "    !pip install matplotlib\n",
    "    import matplotlib\n",
    "    import matplotlib.pyplot as plt\n",
    "    import matplotlib.axes as ax\n",
    "    #plt.rcParams['text.usetex'] = True\n",
    "    #plt.rcParams['text.latex.preamble'] = [r'\\usepackage{amsmath}'] #for \\text command\n",
    "%matplotlib inline\n",
    "\n",
    "try:\n",
    "    import scipy\n",
    "except:\n",
    "    !pip install scipy\n",
    "    \n",
    "try:\n",
    "    import cv2\n",
    "except:\n",
    "    !pip install opencv-python\n",
    "    !pip install opencv-python-headless # Binder compatibility\n",
    "    import cv2\n",
    "\n",
    "try:\n",
    "    import skimage\n",
    "except:\n",
    "    !pip install scikit-image\n",
    "    import skimage\n",
    "    \n",
    "try:\n",
    "    import colored\n",
    "except:\n",
    "    !pip install colored\n",
    "    import colored\n",
    "\n",
    "import pylab\n",
    "import math\n",
    "import numpy as np\n",
    "from scipy import signal\n",
    "import cv2\n",
    "import os\n",
    "import companded_quantization as quantization\n",
    "import distortion\n",
    "#import image_3 as RGB_image\n",
    "import image_1 as gray_image\n",
    "import colored\n",
    "import information"
   ]
  },
  {
   "cell_type": "markdown",
   "metadata": {},
   "source": [
    "## Configuration"
   ]
  },
  {
   "cell_type": "code",
   "execution_count": null,
   "metadata": {},
   "outputs": [],
   "source": [
    "# Prefix of the gray-scale image to be quantized.\n",
    "\n",
    "home = os.environ[\"HOME\"]\n",
    "#fn = home + \"/repos/MRVC/images/lena_bw/\"\n",
    "#fn = home + \"/repos/MRVC/images/Hommer_bw/\"\n",
    "#fn = home + \"/repos/MRVC/images/barb_bw/\"\n",
    "#fn = home + \"/repos/MRVC/images/boat_bw/\"\n",
    "#fn = home + \"/repos/MRVC/images/crowd_bw/\"\n",
    "#fn = home + \"/repos/MRVC/images/fear_bw/\"\n",
    "fn = home + \"/repos/MRVC/images/goldhill_bw/\"\n",
    "#fn = home + \"/repos/MRVC/images/zelda_bw/\"\n",
    "!ls -l {fn}\n",
    "\n",
    "quantizer = quantization.Companded_Quantizer\n",
    "\n",
    "#RGB_image.write = RGB_image.debug_write # faster\n",
    "#RGB_image.write = RGB_image.write # higher compression\n",
    "\n",
    "gray_image.write = gray_image.debug_write # faster\n",
    "#gray_image.write = gray_image.write # higher compression"
   ]
  },
  {
   "cell_type": "markdown",
   "metadata": {},
   "source": [
    "## Bins and representation levels"
   ]
  },
  {
   "cell_type": "code",
   "execution_count": null,
   "metadata": {},
   "outputs": [],
   "source": [
    "QSS = 1024 # Quantization Step Size\n",
    "Q = quantizer(Q_step=QSS, min_val=-32768, max_val=32768)\n",
    "print(\"decision_levels =\", Q.get_decision_levels().astype(np.int32))\n",
    "print(\"representation_levels =\", Q.get_representation_levels())"
   ]
  },
  {
   "cell_type": "markdown",
   "metadata": {},
   "source": [
    "## Quantization indexes and their reconstructions"
   ]
  },
  {
   "cell_type": "code",
   "execution_count": null,
   "metadata": {},
   "outputs": [],
   "source": [
    "Q.quantize(Q.get_representation_levels())"
   ]
  },
  {
   "cell_type": "code",
   "execution_count": null,
   "metadata": {},
   "outputs": [],
   "source": [
    "Q.dequantize(Q.quantize(Q.get_representation_levels()))"
   ]
  },
  {
   "cell_type": "markdown",
   "metadata": {},
   "source": [
    "As it can be seen:\n",
    "1. We can produce the output 0 (midtread).\n",
    "2. The representation levels are in the middle point of the bins.\n",
    "3. $\\Delta$ grows exponientially with $|k|$."
   ]
  },
  {
   "cell_type": "markdown",
   "metadata": {},
   "source": [
    "## Read the image and show it"
   ]
  },
  {
   "cell_type": "code",
   "execution_count": null,
   "metadata": {},
   "outputs": [],
   "source": [
    "img = gray_image.read(fn, 0)\n",
    "img.dtype"
   ]
  },
  {
   "cell_type": "code",
   "execution_count": null,
   "metadata": {},
   "outputs": [],
   "source": [
    "print(img.max(), img.min())\n",
    "gray_image.show(img, fn + \"000.png\")"
   ]
  },
  {
   "cell_type": "markdown",
   "metadata": {},
   "source": [
    "## Show the histogram"
   ]
  },
  {
   "cell_type": "code",
   "execution_count": null,
   "metadata": {},
   "outputs": [],
   "source": [
    "histogram, bin_edges = np.histogram(img, bins=256, range=(0, 255))\n",
    "\n",
    "plt.figure()\n",
    "plt.title(\"Histogram\")\n",
    "plt.xlabel(\"Intensity\")\n",
    "plt.ylabel(\"Count\")\n",
    "#plt.xlim([0.0, 1.0])  # <- named arguments do not work here\n",
    "plt.plot(bin_edges[0:-1], histogram)  # <- or here"
   ]
  },
  {
   "cell_type": "markdown",
   "metadata": {},
   "source": [
    "## Shift the pixel intensities\n",
    "\n",
    "The intensities are shifted because:\n",
    "1. The quantizer is symmetic arround of 0.\n",
    "2. If the histogram shows more counts in the center of the dynamic range, we will generate less quantization error."
   ]
  },
  {
   "cell_type": "code",
   "execution_count": null,
   "metadata": {},
   "outputs": [],
   "source": [
    "img_128 = img.astype(np.int16) - 128\n",
    "histogram, bin_edges = np.histogram(img_128, bins=256, range=(-128, 127))\n",
    "\n",
    "plt.figure()\n",
    "plt.title(\"Histogram\")\n",
    "plt.xlabel(\"Intensity\")\n",
    "plt.ylabel(\"Count\")\n",
    "#plt.xlim([0.0, 1.0])  # <- named arguments do not work here\n",
    "plt.plot(bin_edges[0:-1], histogram) "
   ]
  },
  {
   "cell_type": "markdown",
   "metadata": {},
   "source": [
    "## Visualize a quantization result"
   ]
  },
  {
   "cell_type": "code",
   "execution_count": null,
   "metadata": {
    "scrolled": false
   },
   "outputs": [],
   "source": [
    "QSS = 128 # Quantization Step Size\n",
    "Q = quantizer(Q_step=QSS, min_val=-128, max_val=127)\n",
    "y, k = Q.quan_dequan(img_128)\n",
    "print(\"Used quantization indexes:\", np.unique(k))\n",
    "gray_image.show(k + 128, f\"{quantization.name} $\\\\Delta={QSS}$ (quantization indexes + 128)\")\n",
    "gray_image.show_normalized(k, f\"{quantization.name} $\\\\Delta={QSS}$ (normalized quantization indexes)\")\n",
    "gray_image.show(y + 128, f\"{quantization.name} $\\\\Delta={QSS}$ (dequantized image)\")\n",
    "print(\"MSE =\", distortion.MSE(img, y))\n",
    "print(\"SSIM =\", distortion.SSIM(img, y))\n",
    "print(\"entropy =\", information.entropy(k.flatten()))"
   ]
  },
  {
   "cell_type": "markdown",
   "metadata": {},
   "source": [
    "## RD curve"
   ]
  },
  {
   "cell_type": "code",
   "execution_count": null,
   "metadata": {},
   "outputs": [],
   "source": [
    "def RD_curve(img, Q_steps, quantizer):\n",
    "    points = []\n",
    "    for Q_step in Q_steps:\n",
    "        Q = quantizer(Q_step=Q_step, min_val=0, max_val=255)\n",
    "        y, k = Q.quan_dequan(img)\n",
    "        k = k.astype(np.uint8) # Only positive components can be written in an PNG file\n",
    "        print(\"Quantization indexes: \", np.unique(k))\n",
    "        rate = gray_image.write(k, \"/tmp/\" + str(Q_step) + '_', 0)*8/(k.shape[0]*k.shape[1])\n",
    "        _distortion = distortion.RMSE(img, y)\n",
    "        points.append((rate, _distortion))\n",
    "        print(f\"q_step={Q_step:>3}, rate={rate:>7} bits/pixel, distortion={_distortion:>6.1f}\")\n",
    "    return points\n",
    "\n",
    "Q_steps = [2**i for i in range(15, -1, -1)] # Quantization steps (simulating bit-plane encoding)\n",
    "print(Q_steps)\n",
    "\n",
    "RD_points = RD_curve(img_128, Q_steps, quantizer)"
   ]
  },
  {
   "cell_type": "code",
   "execution_count": null,
   "metadata": {
    "scrolled": true
   },
   "outputs": [],
   "source": [
    "pylab.figure(dpi=150)\n",
    "pylab.plot(*zip(*RD_points), c='m', marker='x', label=fn, linestyle=\"dotted\")\n",
    "pylab.title(f\"Rate/Distortion Performance ({quantization.name})\")\n",
    "pylab.xlabel(\"Bits/Pixel\")\n",
    "pylab.ylabel(\"RMSE\")\n",
    "pylab.legend(loc='upper right')\n",
    "pylab.show()"
   ]
  },
  {
   "cell_type": "code",
   "execution_count": null,
   "metadata": {},
   "outputs": [],
   "source": [
    "with open(\"gray_companded_SQ.txt\", 'w') as f:\n",
    "    for item in RD_points:\n",
    "        f.write(f\"{item[0]}\\t{item[1]}\\n\")"
   ]
  },
  {
   "cell_type": "markdown",
   "metadata": {},
   "source": [
    "## What happens if we increase the granuality?\n",
    "Let's see the effect of using a finer quantization step (size)."
   ]
  },
  {
   "cell_type": "code",
   "execution_count": null,
   "metadata": {},
   "outputs": [],
   "source": [
    "Q_steps = range(32768, 0, -64)"
   ]
  },
  {
   "cell_type": "code",
   "execution_count": null,
   "metadata": {},
   "outputs": [],
   "source": [
    "def _(a, cmap, vmin, vmax):\n",
    "    pass\n",
    "plt.show = print\n",
    "plt.imshow = _\n",
    "RD_points_finer = RD_curve(img_128, Q_steps, quantizer)"
   ]
  },
  {
   "cell_type": "code",
   "execution_count": null,
   "metadata": {},
   "outputs": [],
   "source": [
    "pylab.figure(dpi=150)\n",
    "pylab.plot(*zip(*RD_points), c='m', marker='x', label=f\"Using powers of 2\", linestyle=\"dotted\")\n",
    "pylab.scatter(*zip(*RD_points_finer), c='g', marker='o', label=f\"Using more quantization steps\", s=5)\n",
    "pylab.title(f\"Rate/Distortion Performance ({quantization.name}, {fn})\")\n",
    "pylab.xlabel(\"Bits/Pixel\")\n",
    "pylab.ylabel(\"RMSE\")\n",
    "pylab.legend(loc='upper right')\n",
    "pylab.show()"
   ]
  },
  {
   "cell_type": "code",
   "execution_count": null,
   "metadata": {},
   "outputs": [],
   "source": [
    "import time\n",
    "while True:\n",
    "    time.sleep(1)"
   ]
  }
 ],
 "metadata": {
  "kernelspec": {
   "display_name": "Python 3 (ipykernel)",
   "language": "python",
   "name": "python3"
  },
  "language_info": {
   "codemirror_mode": {
    "name": "ipython",
    "version": 3
   },
   "file_extension": ".py",
   "mimetype": "text/x-python",
   "name": "python",
   "nbconvert_exporter": "python",
   "pygments_lexer": "ipython3",
   "version": "3.10.5"
  }
 },
 "nbformat": 4,
 "nbformat_minor": 4
}

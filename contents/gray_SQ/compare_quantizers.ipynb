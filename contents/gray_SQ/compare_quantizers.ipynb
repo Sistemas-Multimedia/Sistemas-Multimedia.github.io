{
 "cells": [
  {
   "cell_type": "markdown",
   "metadata": {},
   "source": [
    "[![Binder](https://mybinder.org/badge_logo.svg)](https://nbviewer.org/github/Sistemas-Multimedia/Sistemas-Multimedia.github.io/blob/master/contents/gray_SQ/compare_quantizers.ipynb)"
   ]
  },
  {
   "cell_type": "markdown",
   "metadata": {},
   "source": [
    "[![Colab](https://badgen.net/badge/Launch/on%20Google%20Colab/blue?icon=notebook)](https://colab.research.google.com/github/Sistemas-Multimedia/Sistemas-Multimedia.github.io/blob/master/contents/gray_SQ/compare_quantizers.ipynb)"
   ]
  },
  {
   "cell_type": "markdown",
   "metadata": {},
   "source": [
    "# Quantizers comparison in the Gray-scale domain"
   ]
  },
  {
   "cell_type": "code",
   "execution_count": null,
   "metadata": {},
   "outputs": [],
   "source": [
    "%%bash\n",
    "if [ -d \"$HOME/repos\" ]; then\n",
    "    echo \"\\\"$HOME/repos\\\" exists\"\n",
    "else\n",
    "    mkdir ~/repos\n",
    "    echo Created $HOME/repos\n",
    "fi"
   ]
  },
  {
   "cell_type": "code",
   "execution_count": null,
   "metadata": {},
   "outputs": [],
   "source": [
    "%%bash\n",
    "if [ -d \"$HOME/repos/scalar_quantization\" ]; then\n",
    "    cd $HOME/repos/scalar_quantization\n",
    "    echo \"$HOME/repos/scalar_quantization ... \"\n",
    "    git pull \n",
    "else\n",
    "    cd $HOME/repos\n",
    "    git clone https://github.com/vicente-gonzalez-ruiz/scalar_quantization.git\n",
    "fi"
   ]
  },
  {
   "cell_type": "code",
   "execution_count": null,
   "metadata": {},
   "outputs": [],
   "source": [
    "%%bash\n",
    "if [ -d \"$HOME/repos/MRVC\" ]; then\n",
    "    cd $HOME/repos/MRVC\n",
    "    echo \"$HOME/repos/MRVC ... \"\n",
    "    git pull \n",
    "else\n",
    "    cd $HOME/repos\n",
    "    git clone https://github.com/Sistemas-Multimedia/MRVC.git\n",
    "fi"
   ]
  },
  {
   "cell_type": "code",
   "execution_count": null,
   "metadata": {},
   "outputs": [],
   "source": [
    "if 'google.colab' in str(get_ipython()):\n",
    "    !wget https://raw.githubusercontent.com/Sistemas-Multimedia/Sistemas-Multimedia.github.io/master/contents/scalar_quantization/midtread.ipynb\n",
    "    !wget https://raw.githubusercontent.com/Sistemas-Multimedia/Sistemas-Multimedia.github.io/master/contents/scalar_quantization/midrise.ipynb\n",
    "    !wget https://raw.githubusercontent.com/Sistemas-Multimedia/Sistemas-Multimedia.github.io/master/contents/scalar_quantization/deadzone.ipynb\n",
    "    !wget https://raw.githubusercontent.com/Sistemas-Multimedia/Sistemas-Multimedia.github.io/master/contents/scalar_quantization/companded.ipynb\n",
    "    !wget https://raw.githubusercontent.com/Sistemas-Multimedia/Sistemas-Multimedia.github.io/master/contents/scalar_quantization/LloydMax.ipynb"
   ]
  },
  {
   "cell_type": "code",
   "execution_count": null,
   "metadata": {},
   "outputs": [],
   "source": [
    "#!ln -sf ~/MRVC/src/debug.py .\n",
    "#!ln -sf ~/MRVC/src/logging_config.py .\n",
    "#!ln -sf ~/repos/scalar_quantization/distortion.py .\n",
    "#!ln -sf ~/repos/image_IO/image_3.py .\n",
    "#!ln -sf ~/repos/image_IO/image_1.py .\n",
    "#!ln -sf ~/repos/scalar_quantization/information.py .\n",
    "#!ln -sf ~/repos/image_IO/logging_config.py ."
   ]
  },
  {
   "cell_type": "code",
   "execution_count": null,
   "metadata": {},
   "outputs": [],
   "source": [
    "try:\n",
    "    import matplotlib.pyplot as plt\n",
    "except:\n",
    "    !pip install matplotlib\n",
    "    import matplotlib\n",
    "    import matplotlib.pyplot as plt\n",
    "    import matplotlib.axes as ax\n",
    "    #plt.rcParams['text.usetex'] = True\n",
    "    #plt.rcParams['text.latex.preamble'] = [r'\\usepackage{amsmath}'] #for \\text command\n",
    "%matplotlib inline\n",
    "\n",
    "import pylab\n",
    "import os"
   ]
  },
  {
   "cell_type": "code",
   "execution_count": null,
   "metadata": {},
   "outputs": [],
   "source": [
    "def load(path):\n",
    "    curve = []\n",
    "    with open(path, 'r') as f:\n",
    "        for line in f:\n",
    "            rate, _distortion = line.split('\\t')\n",
    "            curve.append((float(rate), float(_distortion)))\n",
    "    return curve"
   ]
  },
  {
   "cell_type": "code",
   "execution_count": null,
   "metadata": {},
   "outputs": [],
   "source": [
    "if not os.path.exists(\"mid-rise_RD_points.txt\"):\n",
    "    %run ./midrise.ipynb\n",
    "midrise_RD = load(\"mid-rise_RD_points.txt\")"
   ]
  },
  {
   "cell_type": "code",
   "execution_count": null,
   "metadata": {},
   "outputs": [],
   "source": [
    "if not os.path.exists(\"dead-zone_RD_points.txt\"):\n",
    "    %run ./deadzone.ipynb\n",
    "deadzone_RD = load(\"dead-zone_RD_points.txt\")"
   ]
  },
  {
   "cell_type": "code",
   "execution_count": null,
   "metadata": {},
   "outputs": [],
   "source": [
    "if not os.path.exists(\"mid-tread_RD_points.txt\"):\n",
    "    %run ./midtread.ipynb\n",
    "midtread_RD = load(\"mid-tread_RD_points.txt\")"
   ]
  },
  {
   "cell_type": "code",
   "execution_count": null,
   "metadata": {},
   "outputs": [],
   "source": [
    "if not os.path.exists(\"companded_RD_points.txt\"):\n",
    "    %run ./companded.ipynb\n",
    "companded_RD = load(\"companded_RD_points.txt\")"
   ]
  },
  {
   "cell_type": "code",
   "execution_count": null,
   "metadata": {},
   "outputs": [],
   "source": [
    "if not os.path.exists(\"LloydMax_RD_points.txt\"):\n",
    "    %run ./LloydMax.ipynb\n",
    "Lloyd_Max_RD = load(\"LloydMax_RD_points.txt\")"
   ]
  },
  {
   "cell_type": "code",
   "execution_count": null,
   "metadata": {},
   "outputs": [],
   "source": [
    "#VQ = []\n",
    "#with open(f\"VQ_RD_points.txt\", 'r') as f:\n",
    "#    for line in f:\n",
    "#        rate, _distortion = line.split('\\t')\n",
    "#        VQ.append((float(rate), float(_distortion)))"
   ]
  },
  {
   "cell_type": "code",
   "execution_count": null,
   "metadata": {},
   "outputs": [],
   "source": [
    "pylab.figure(dpi=150)\n",
    "pylab.plot(*zip(*midrise_RD), c='g', marker='x', label=\"Mid-rise\", linestyle=\"dotted\")\n",
    "pylab.plot(*zip(*deadzone_RD), c='m', marker='o', label=\"Dead-zone\", linestyle=\"dotted\")\n",
    "pylab.plot(*zip(*midtread_RD), c='r', marker='x', label=\"Mid-read\", linestyle=\"dotted\")\n",
    "pylab.plot(*zip(*companded_RD), c='b', marker='x', label=\"Companded\", linestyle=\"dotted\")\n",
    "pylab.plot(*zip(*Lloyd_Max_RD), c='y', marker='x', label=\"Lloyd-Max\", linestyle=\"dotted\")\n",
    "#pylab.plot(*zip(*VQ), c='k', marker='x', label=\"VQ\", linestyle=\"dotted\")\n",
    "pylab.title(\"Rate/Distortion Performance \")\n",
    "pylab.xlabel(\"Bits/Pixel\")\n",
    "pylab.ylabel(\"RMSE\")\n",
    "pylab.legend(loc='upper right')\n",
    "pylab.xscale(\"log\")\n",
    "pylab.yscale(\"log\")\n",
    "pylab.show()"
   ]
  },
  {
   "cell_type": "markdown",
   "metadata": {},
   "source": []
  }
 ],
 "metadata": {
  "kernelspec": {
   "display_name": "Python 3 (ipykernel)",
   "language": "python",
   "name": "python3"
  },
  "language_info": {
   "codemirror_mode": {
    "name": "ipython",
    "version": 3
   },
   "file_extension": ".py",
   "mimetype": "text/x-python",
   "name": "python",
   "nbconvert_exporter": "python",
   "pygments_lexer": "ipython3",
   "version": "3.10.5"
  }
 },
 "nbformat": 4,
 "nbformat_minor": 4
}

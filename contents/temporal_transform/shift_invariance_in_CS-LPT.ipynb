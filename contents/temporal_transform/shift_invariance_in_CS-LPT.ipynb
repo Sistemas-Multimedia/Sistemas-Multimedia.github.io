{
 "cells": [
  {
   "cell_type": "markdown",
   "metadata": {
    "colab_type": "text",
    "id": "view-in-github"
   },
   "source": [
    "<a href=\"https://colab.research.google.com/github/vicente-gonzalez-ruiz/PRMC-experimentos/blob/master/src/shift_invariance_in_OLP.ipynb\" target=\"_parent\"><img src=\"https://colab.research.google.com/assets/colab-badge.svg\" alt=\"Open In Colab\"/></a>"
   ]
  },
  {
   "cell_type": "markdown",
   "metadata": {},
   "source": [
    "# Shift invariance in OLP\n",
    "\n",
    "[Orthogonal Laplacian Pyramid (OLP)](https://sci-hub.tw/10.1109/TIP.2008.2001045) is used in [Progressive Resolution Motion Compensation (PRMC)](https://github.com/Sistemas-Multimedia/PRMC) for performing Motiom Estimation (ME) and Motion Compensation (MC), and both operations need to preserve the displacement of the compensated structures in the OLP, compared to the image domain. It would happen that if, for example, an object moves betweem two frames $A$ and $B$ one pixel in the horizontal direction, the same motion should be detected in the $[A.L]$ and $[A.H]$ subbands (see the [MCOLP butterfly](https://sistemas-multimedia.github.io/PRMC/#x1-170009.1))."
   ]
  },
  {
   "cell_type": "code",
   "execution_count": null,
   "metadata": {},
   "outputs": [],
   "source": [
    "%matplotlib inline\n",
    "from load_and_display import *\n",
    "\n",
    "# The results depends on the wavelet (see http://wavelets.pybytes.com):\n",
    "#wavelet = \"haar\"\n",
    "wavelet = \"bior3.5\"\n",
    "#wavelet = \"rbio3.5\"\n",
    "#wavelet = \"db5\"\n",
    "#wavelet = \"db9\""
   ]
  },
  {
   "cell_type": "code",
   "execution_count": null,
   "metadata": {},
   "outputs": [],
   "source": [
    "%%bash\n",
    "\n",
    "# Create the two images (\"/tmp/moving_circle_000.png\" and \"/tmp/moving_circle_001.png\") with a circle\n",
    "# of diameter 10 that moves from coordinate (20,30) to (21,30).\n",
    "/home/vruiz/MRVC/tools/moving_circle.sh -w 128 -h 128 -x 20 -y 30 -d 10 -f 2"
   ]
  },
  {
   "cell_type": "code",
   "execution_count": null,
   "metadata": {},
   "outputs": [],
   "source": [
    "show_motion(prefix=\"/tmp/moving_circle_\", frames=2)"
   ]
  },
  {
   "cell_type": "code",
   "execution_count": null,
   "metadata": {},
   "outputs": [],
   "source": [
    "%%bash\n",
    "\n",
    "# The images are in the RGB domain and we work in the YUV domain, so we convert them.\n",
    "/home/vruiz/MRVC/tools/RGB2YUV.py -i /tmp/moving_circle_000.png -o /tmp/YUV_moving_circle_000.png\n",
    "/home/vruiz/MRVC/tools/RGB2YUV.py -i /tmp/moving_circle_001.png -o /tmp/YUV_moving_circle_001.png"
   ]
  },
  {
   "cell_type": "code",
   "execution_count": null,
   "metadata": {},
   "outputs": [],
   "source": [
    "# Plot the first part (from pixel 0 to 39) of the horizontal line (row 35) of the luminance.\n",
    "_000 = load_img(\"/tmp/moving_circle_000\")\n",
    "_001 = load_img(\"/tmp/moving_circle_001\")\n",
    "plt.plot(_000[35, 0:40, 0])\n",
    "plt.show()\n",
    "plt.plot(_001[35, 0:40, 0])\n",
    "plt.show()"
   ]
  },
  {
   "cell_type": "markdown",
   "metadata": {},
   "source": [
    "## Is $[L]$ subband shift invariant?"
   ]
  },
  {
   "cell_type": "code",
   "execution_count": null,
   "metadata": {},
   "outputs": [],
   "source": [
    "%%bash -s \"$wavelet\"\n",
    "\n",
    "# DWT both images. The transform of the image with filename \"X_.png\" generates 4 subbands\n",
    "# \"X_LL.png\", \"X_LH.png\", \"X_HL.png\" and $X_HH.png\".\n",
    "python3 -O DWT.py -p /tmp/YUV_moving_circle_ -i 000 -w $1\n",
    "python3 -O DWT.py -p /tmp/YUV_moving_circle_ -i 001 -w $1"
   ]
  },
  {
   "cell_type": "code",
   "execution_count": null,
   "metadata": {
    "scrolled": false
   },
   "outputs": [],
   "source": [
    "show_motion(prefix=\"/tmp/YUV_moving_circle_LL\", frames=2)"
   ]
  },
  {
   "cell_type": "code",
   "execution_count": null,
   "metadata": {
    "scrolled": true
   },
   "outputs": [],
   "source": [
    "_000 = load_img(\"/tmp/YUV_moving_circle_LL000\")\n",
    "_001 = load_img(\"/tmp/YUV_moving_circle_LL001\")\n",
    "plt.plot(_000[18, 0:20, 0])\n",
    "plt.show()\n",
    "plt.plot(_001[18, 0:20, 0])\n",
    "plt.show()"
   ]
  },
  {
   "cell_type": "markdown",
   "metadata": {},
   "source": [
    "It can be seen that a movement of a pixel in the original resolution of the frames ($128\\times 128$) can not be represented without aliasing in the $L$ subband (with resolution $64\\times 64$). But, what happens in the $[L]$?"
   ]
  },
  {
   "cell_type": "code",
   "execution_count": null,
   "metadata": {},
   "outputs": [],
   "source": [
    "%%bash -s \"$wavelet\"\n",
    "\n",
    "# Interpolate LL subbands of both images.\n",
    "\n",
    "cp /tmp/YUV_moving_circle_LL000.png /tmp/copy_LL000.png \n",
    "python3 -O DWT.py -b -p /tmp/copy_ -i 000 -w $1\n",
    "\n",
    "cp /tmp/YUV_moving_circle_LL001.png /tmp/copy_LL001.png \n",
    "python3 -O DWT.py -b -p /tmp/copy_ -i 001 -w $1"
   ]
  },
  {
   "cell_type": "code",
   "execution_count": null,
   "metadata": {},
   "outputs": [],
   "source": [
    "show_motion(prefix=\"/tmp/copy_\", frames=2)"
   ]
  },
  {
   "cell_type": "code",
   "execution_count": null,
   "metadata": {},
   "outputs": [],
   "source": [
    "_000 = load_img(\"/tmp/copy_000\")\n",
    "_001 = load_img(\"/tmp/copy_001\")\n",
    "plt.plot(_000[35, 0:40, 0])\n",
    "plt.show()\n",
    "plt.plot(_001[35, 0:40, 0])\n",
    "plt.show()"
   ]
  },
  {
   "cell_type": "markdown",
   "metadata": {},
   "source": [
    "As can be seen, the reconstruction of the circle is not perfect, but we can intuit a movement of the structure one pixel in the X direction. Therefore, a motion estimator could indicate motion, especially if we use subpixel accuracy. In fact, if we interpolate again $[L]$ to get $[L]^2$."
   ]
  },
  {
   "cell_type": "code",
   "execution_count": null,
   "metadata": {},
   "outputs": [],
   "source": [
    "%%bash -s \"$wavelet\"\n",
    "\n",
    "# Interpolate LL subbands of both images.\n",
    "\n",
    "cp /tmp/copy_000.png /tmp/LLcopy_LL000.png\n",
    "python3 -O DWT.py -b -p /tmp/LLcopy_ -i 000 -w $1\n",
    "\n",
    "cp /tmp/copy_001.png /tmp/LLcopy_LL001.png \n",
    "python3 -O DWT.py -b -p /tmp/LLcopy_ -i 001 -w $1"
   ]
  },
  {
   "cell_type": "code",
   "execution_count": null,
   "metadata": {},
   "outputs": [],
   "source": [
    "_000 = load_img(\"/tmp/LLcopy_000\")\n",
    "_001 = load_img(\"/tmp/LLcopy_001\")\n",
    "plt.plot(_000[70, 0:80, 0])\n",
    "plt.show()\n",
    "plt.plot(_001[70, 0:80, 0])\n",
    "plt.show()"
   ]
  },
  {
   "cell_type": "markdown",
   "metadata": {},
   "source": [
    "We can see that now the circle is better defined. In general, subpixel accuracy should improve ME and MC."
   ]
  },
  {
   "cell_type": "markdown",
   "metadata": {},
   "source": [
    "## Is $[H]$ (the overcomplete representation of $LH$, $HL$ and $HH$ in the OLP) subband shift invariant?\n",
    "\n",
    "$H$ subband can be computed as\n",
    "$$\n",
    "[H] = A - [L]\n",
    "$$\n",
    "where $A$ is the original frame. Therefore, $[H]$ must be shift invariant in the same degree than $[L]$, and MC applied in he OLP should be accurate. However, for the sake of training with all this stuff (and to check that this is true), lets see the movement of the circle in the $[H]$ subband."
   ]
  },
  {
   "cell_type": "code",
   "execution_count": null,
   "metadata": {},
   "outputs": [],
   "source": [
    "%%bash -s \"$wavelet\"\n",
    "\n",
    "# Remove output images that will store the H subbands.\n",
    "#rm -f /tmp/YUV_moving_circle_000.png\n",
    "#rm -f /tmp/YUV_moving_circle_001.png\n",
    "\n",
    "# Get [H] by removing LL subband and performing inverse DWT.\n",
    "rm -f /tmp/YUV_moving_circle_LL000.png\n",
    "python3 -O DWT.py -b -p /tmp/YUV_moving_circle_ -i 000 -w $1\n",
    "rm -f /tmp/YUV_moving_circle_LL001.png\n",
    "python3 -O DWT.py -b -p /tmp/YUV_moving_circle_ -i 001 -w $1"
   ]
  },
  {
   "cell_type": "code",
   "execution_count": null,
   "metadata": {},
   "outputs": [],
   "source": [
    "_000 = load_img(\"/tmp/YUV_moving_circle_000\")\n",
    "_001 = load_img(\"/tmp/YUV_moving_circle_001\")\n",
    "plt.plot(_000[35, 0:40, 0])\n",
    "plt.show()\n",
    "plt.plot(_001[35, 0:40, 0])\n",
    "plt.show()"
   ]
  },
  {
   "cell_type": "markdown",
   "metadata": {},
   "source": [
    "H is \"near\" shift invariant (the coefficiens more of less move with the true motion in the scene). The coefficients are not ideal (as it can be seen), but MC should hidden the recognizable structures. Example:"
   ]
  },
  {
   "cell_type": "code",
   "execution_count": null,
   "metadata": {},
   "outputs": [],
   "source": [
    "plt.plot(np.roll(_000[35, 0:40, 0],1))\n",
    "plt.show()\n",
    "plt.plot(_001[35, 0:40, 0] - np.roll(_000[35, 0:40, 0],1))\n",
    "plt.show()"
   ]
  },
  {
   "cell_type": "markdown",
   "metadata": {},
   "source": [
    "Notice that the dynamic range of the \"motion compensated\" vector (the last one) is smaller than the original one."
   ]
  },
  {
   "cell_type": "code",
   "execution_count": null,
   "metadata": {},
   "outputs": [],
   "source": []
  }
 ],
 "metadata": {
  "colab": {
   "include_colab_link": true,
   "name": "ejemplo.ipynb",
   "provenance": []
  },
  "kernelspec": {
   "display_name": "Python 3",
   "language": "python",
   "name": "python3"
  },
  "language_info": {
   "codemirror_mode": {
    "name": "ipython",
    "version": 3
   },
   "file_extension": ".py",
   "mimetype": "text/x-python",
   "name": "python",
   "nbconvert_exporter": "python",
   "pygments_lexer": "ipython3",
   "version": "3.9.1"
  }
 },
 "nbformat": 4,
 "nbformat_minor": 1
}

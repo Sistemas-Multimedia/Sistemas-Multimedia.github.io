{
 "cells": [
  {
   "cell_type": "markdown",
   "metadata": {},
   "source": [
    "[![Binder](https://mybinder.org/badge_logo.svg)](https://nbviewer.org/github/Sistemas-Multimedia/Sistemas-Multimedia.github.io/blob/master/milestones/07-DCT/block_DCT_compression.ipynb)"
   ]
  },
  {
   "cell_type": "markdown",
   "metadata": {},
   "source": [
    "# Image Compression with YCoCg + 2D-DCT"
   ]
  },
  {
   "cell_type": "code",
   "execution_count": null,
   "metadata": {},
   "outputs": [],
   "source": [
    "import numpy as np\n",
    "import matplotlib\n",
    "import matplotlib.pyplot as plt\n",
    "%matplotlib inline\n",
    "import math\n",
    "import os\n",
    "import pylab\n",
    "import cv2\n",
    "\n",
    "!ln -sf ~/repos/image_IO/logging_config.py .\n",
    "!ln -sf ~/repos/image_IO/image_3.py .\n",
    "import image_3 as RGB_image\n",
    "!ln -sf ~/repos/image_IO/image_1.py .\n",
    "import image_1 as gray_image\n",
    "!ln -sf ~/repos/DCT/block_DCT.py .\n",
    "import block_DCT\n",
    "!ln -sf ~/repos/YCoCg/YCoCg.py .\n",
    "import YCoCg as YUV\n",
    "#!ln -sf ~/MRVC/src/color_DCT.py .\n",
    "#import color_DCT as YUV\n",
    "#!ln -sf ~/MRVC/src/RGB.py .\n",
    "#import RGB as YUV\n",
    "!ln -sf ~/repos/information_theory/information.py .\n",
    "import information\n",
    "!ln -sf ~/repos/information_theory/distortion.py .\n",
    "import distortion\n",
    "!ln -sf ~/repos/scalar_quantization/quantization.py .\n",
    "import quantization\n",
    "!ln -sf ~/repos/quantization/deadzone_quantization.py .\n",
    "#import deadzone_quantizer as Q\n",
    "#import deadzone_quantization as deadzone\n",
    "from deadzone_quantization import Deadzone_Quantizer as Quantizer\n"
   ]
  },
  {
   "cell_type": "markdown",
   "metadata": {},
   "source": [
    "## Configuration"
   ]
  },
  {
   "cell_type": "code",
   "execution_count": null,
   "metadata": {},
   "outputs": [],
   "source": [
    "HOME = os.environ[\"HOME\"]\n",
    "#test_image = \"../sequences/stockholm/\"\n",
    "test_image = HOME + \"/repos/MRVC/images/lena_color/\"\n",
    "#test_image = \"../images/lena_bw/\"\n",
    "\n",
    "RGB_image.write = RGB_image.debug_write # Faster, but lower compression\n",
    "#RGB_image.write = information.write # The fastest, but returns only an estimation of the length\n",
    "gray_image.write = gray_image.debug_write # Faster, but lower compression\n",
    "#gray_image.write = information.write # The fastest, but returns only an estimation of the length"
   ]
  },
  {
   "cell_type": "code",
   "execution_count": null,
   "metadata": {},
   "outputs": [],
   "source": [
    "block_y_side = block_x_side = 8 # Block-size used by JPEG\n",
    "# block_y_side = block_x_side = 16"
   ]
  },
  {
   "cell_type": "code",
   "execution_count": null,
   "metadata": {},
   "outputs": [],
   "source": [
    "N_components = 3"
   ]
  },
  {
   "cell_type": "markdown",
   "metadata": {},
   "source": [
    "## Testing `block_DCT.analyze_block()` and `block_DCT.synthesize_block()`\n",
    "\n",
    "Let's see how the DCT concentrates the energy of the signal in a few coefficients. These methods compute the forward and the backward transforms of the input block (the input is not divided into blocks)."
   ]
  },
  {
   "cell_type": "code",
   "execution_count": null,
   "metadata": {},
   "outputs": [],
   "source": [
    "#a = np.random.randint(low=0, high=100, size=(4,4,3))\n",
    "a = np.full(shape=(5, 4, 3), fill_value=10, dtype=np.int16) + np.random.randint(low=-5, high=5, size=(5, 4, 3))\n",
    "# 5 is the number of rows\n",
    "# 4 is the number of columns\n",
    "# 3 is the number of (for example, RGB) channels"
   ]
  },
  {
   "cell_type": "code",
   "execution_count": null,
   "metadata": {},
   "outputs": [],
   "source": [
    "a"
   ]
  },
  {
   "cell_type": "code",
   "execution_count": null,
   "metadata": {},
   "outputs": [],
   "source": [
    "np.average(a)"
   ]
  },
  {
   "cell_type": "code",
   "execution_count": null,
   "metadata": {},
   "outputs": [],
   "source": [
    "RGB_image.show(RGB_image.normalize(a))"
   ]
  },
  {
   "cell_type": "code",
   "execution_count": null,
   "metadata": {},
   "outputs": [],
   "source": [
    "b = block_DCT.analyze_block(a)"
   ]
  },
  {
   "cell_type": "code",
   "execution_count": null,
   "metadata": {},
   "outputs": [],
   "source": [
    "b"
   ]
  },
  {
   "cell_type": "code",
   "execution_count": null,
   "metadata": {},
   "outputs": [],
   "source": [
    "b.astype(np.int16)"
   ]
  },
  {
   "cell_type": "code",
   "execution_count": null,
   "metadata": {},
   "outputs": [],
   "source": [
    "RGB_image.show(RGB_image.normalize(b))"
   ]
  },
  {
   "cell_type": "code",
   "execution_count": null,
   "metadata": {},
   "outputs": [],
   "source": [
    "c = block_DCT.synthesize_block(b)"
   ]
  },
  {
   "cell_type": "code",
   "execution_count": null,
   "metadata": {},
   "outputs": [],
   "source": [
    "c.astype(np.int16)"
   ]
  },
  {
   "cell_type": "code",
   "execution_count": null,
   "metadata": {},
   "outputs": [],
   "source": [
    "RGB_image.show(RGB_image.normalize(c))"
   ]
  },
  {
   "cell_type": "code",
   "execution_count": null,
   "metadata": {},
   "outputs": [],
   "source": [
    "(a == c.astype(np.int32)).all()"
   ]
  },
  {
   "cell_type": "markdown",
   "metadata": {},
   "source": [
    "## Testing `block_DCT.analyze_image()` and `block_DCT.synthesize_image()`\n",
    "Now we apply the block transform to an image that previously has been divided into blocks."
   ]
  },
  {
   "cell_type": "code",
   "execution_count": null,
   "metadata": {
    "scrolled": false
   },
   "outputs": [],
   "source": [
    "img = RGB_image.read(test_image, 0)\n",
    "RGB_image.show(img, title=\"Original\")"
   ]
  },
  {
   "cell_type": "code",
   "execution_count": null,
   "metadata": {
    "scrolled": false
   },
   "outputs": [],
   "source": [
    "DCT_img = block_DCT.analyze_image(img, block_y_side, block_x_side)\n",
    "#DCT_img = block_DCT.analyze_image(img, 2, 2)"
   ]
  },
  {
   "cell_type": "code",
   "execution_count": null,
   "metadata": {
    "scrolled": false
   },
   "outputs": [],
   "source": [
    "RGB_image.show(RGB_image.normalize(DCT_img), f\"{block_y_side}x{block_x_side}-DCT domain of {test_image}\")"
   ]
  },
  {
   "cell_type": "code",
   "execution_count": null,
   "metadata": {},
   "outputs": [],
   "source": [
    "RGB_image.show(RGB_image.normalize(DCT_img[:64, :64]), \"detail [0:64, 0:64]\")"
   ]
  },
  {
   "cell_type": "markdown",
   "metadata": {},
   "source": [
    "Again, as it can be seen, most of the energy of each block has been concentrated in the low-pass frequency component (DC component)."
   ]
  },
  {
   "cell_type": "markdown",
   "metadata": {},
   "source": [
    "### Reconstruction and error"
   ]
  },
  {
   "cell_type": "code",
   "execution_count": null,
   "metadata": {},
   "outputs": [],
   "source": [
    "recons_img = block_DCT.synthesize_image(DCT_img, block_y_side, block_x_side)"
   ]
  },
  {
   "cell_type": "code",
   "execution_count": null,
   "metadata": {},
   "outputs": [],
   "source": [
    "RGB_image.show(recons_img.astype(np.uint8), \"Reconstructed image\")"
   ]
  },
  {
   "cell_type": "code",
   "execution_count": null,
   "metadata": {},
   "outputs": [],
   "source": [
    "error = img - recons_img"
   ]
  },
  {
   "cell_type": "code",
   "execution_count": null,
   "metadata": {},
   "outputs": [],
   "source": [
    "RGB_image.show(RGB_image.normalize(error), \"DCT floating-point error\")\n",
    "#RGB_image.show(error, \"DCT floating-point error\")"
   ]
  },
  {
   "cell_type": "markdown",
   "metadata": {},
   "source": [
    "This error es generated by the truncation of the floating point coefficients (remember that we work with 16 bits integers) after the analysis, and also by the truncation of the floating point pixels after the synthesis. "
   ]
  },
  {
   "cell_type": "markdown",
   "metadata": {},
   "source": [
    "## Switching between blocks and subbands\n",
    "\n",
    "The coefficients of all DCT-blocks can be reorganized in subbands. A subband with coordinates (X, Y) is the 2D arragement of the coefficients that are in the coordinates (X, Y) of each block. The representation in subbands increases the spatial correlation between the coefficients (which also provides an improved visual comprehension of the content of the coefficients)."
   ]
  },
  {
   "cell_type": "code",
   "execution_count": null,
   "metadata": {},
   "outputs": [],
   "source": [
    "img = RGB_image.read(test_image)\n",
    "DCT_blocks = block_DCT.analyze_image(img, block_y_side, block_x_side)\n",
    "DCT_subbands = block_DCT.get_subbands(DCT_blocks, block_y_side, block_x_side)"
   ]
  },
  {
   "cell_type": "code",
   "execution_count": null,
   "metadata": {},
   "outputs": [],
   "source": [
    "RGB_image.show(RGB_image.normalize(DCT_subbands), f\"Subbands of the {block_y_side}x{block_x_side} DCT domain\")"
   ]
  },
  {
   "cell_type": "code",
   "execution_count": null,
   "metadata": {},
   "outputs": [],
   "source": [
    "print(f\"We have {block_y_side}x{block_x_side} subbands of {int(img.shape[0]/block_y_side)}x{int(img.shape[1]/block_x_side)} coefficients (each one)\")"
   ]
  },
  {
   "cell_type": "markdown",
   "metadata": {},
   "source": [
    "The inverse process which reorder the coefficients into subbands is completely reversible (obviously)."
   ]
  },
  {
   "cell_type": "code",
   "execution_count": null,
   "metadata": {},
   "outputs": [],
   "source": [
    "_ = block_DCT.get_blocks(DCT_subbands, block_y_side, block_x_side)\n",
    "(_ == DCT_blocks).all()"
   ]
  },
  {
   "cell_type": "markdown",
   "metadata": {},
   "source": [
    "And, as it can be seen, the 2D correlation is higher in the low spatial frequencies (left up corner) than in the high frequencies (right down corner)."
   ]
  },
  {
   "cell_type": "code",
   "execution_count": null,
   "metadata": {},
   "outputs": [],
   "source": [
    "blocks_in_y = img.shape[0]//block_y_side\n",
    "blocks_in_x = img.shape[1]//block_x_side\n",
    "RGB_image.show(RGB_image.normalize(DCT_subbands[:blocks_in_y, :blocks_in_x]), f\"Subband (0, 0) ({block_y_side}x{block_x_side} DCT)\")"
   ]
  },
  {
   "cell_type": "markdown",
   "metadata": {},
   "source": [
    "Subband (0,0) contains the low frequencies of the image."
   ]
  },
  {
   "cell_type": "code",
   "execution_count": null,
   "metadata": {},
   "outputs": [],
   "source": [
    "RGB_image.show(RGB_image.normalize(DCT_subbands[:blocks_in_y, blocks_in_x:2*blocks_in_x]), f\"Subband (0, 1) ({block_y_side}x{block_x_side} DCT)\")"
   ]
  },
  {
   "cell_type": "markdown",
   "metadata": {},
   "source": [
    "The subband (0, 1) represents the slowest changes of the image in the horizontal direction."
   ]
  },
  {
   "cell_type": "code",
   "execution_count": null,
   "metadata": {},
   "outputs": [],
   "source": [
    "RGB_image.show(RGB_image.normalize(DCT_subbands[blocks_in_y:2*blocks_in_y, :blocks_in_x]), f\"Subband (1, 0) ({block_y_side}x{block_x_side} DCT)\")"
   ]
  },
  {
   "cell_type": "markdown",
   "metadata": {},
   "source": [
    "The subband (1, 0) represents the slowest changes of the image in the vertical domain."
   ]
  },
  {
   "cell_type": "code",
   "execution_count": null,
   "metadata": {},
   "outputs": [],
   "source": [
    "RGB_image.show(RGB_image.normalize(DCT_subbands[blocks_in_y:2*blocks_in_y, blocks_in_x:2*blocks_in_x]), f\"Subband (1, 1) ({block_y_side}x{block_x_side} DCT)\")"
   ]
  },
  {
   "cell_type": "markdown",
   "metadata": {},
   "source": [
    "The subband (1, 1) represents slowest changes in the diagonal (left up corner to right down corner) of the image."
   ]
  },
  {
   "cell_type": "markdown",
   "metadata": {},
   "source": [
    "## Subband-components information"
   ]
  },
  {
   "cell_type": "code",
   "execution_count": null,
   "metadata": {
    "scrolled": false
   },
   "outputs": [],
   "source": [
    "img = RGB_image.read(test_image, 0)\n",
    "#YUV_img = YUV.from_RGB(img.astype(np.int16) - 128) # -128 decreases maximum value of the DC coefficients\n",
    "###############################################################\n",
    "# This reduces the energy (not the entropy) of the            #\n",
    "# coefficients compared to the previous option.               #\n",
    "# However, the averages should be encoded to                  #\n",
    "# reconstruct the image.                                      #\n",
    "YUV_img = YUV.from_RGB(img.astype(np.int16))                  #\n",
    "YUV_img[...,0] -= np.average(YUV_img[...,0]).astype(np.int16) #\n",
    "YUV_img[...,1] -= np.average(YUV_img[...,1]).astype(np.int16) #\n",
    "YUV_img[...,2] -= np.average(YUV_img[...,2]).astype(np.int16) #\n",
    "###############################################################\n",
    "DCT_blocks = block_DCT.analyze_image(YUV_img, block_y_side, block_x_side)\n",
    "DCT_subbands = block_DCT.get_subbands(DCT_blocks, block_y_side, block_x_side)\n",
    "print(\"sorting subband-components by entropy\")\n",
    "print(\"subband component maximum mininum max-min average std-dev entropy        energy  avg-enegy\")\n",
    "accumulated_entropy = 0\n",
    "blocks_in_y = img.shape[0]//block_y_side\n",
    "blocks_in_x = img.shape[1]//block_x_side\n",
    "list_of_subbands_components = []\n",
    "for _y in range(block_y_side):\n",
    "    for _x in range(block_x_side):\n",
    "        for _c in range(N_components):\n",
    "            subband = DCT_subbands[blocks_in_y*_y:blocks_in_y*(_y+1), blocks_in_x*_x:blocks_in_x*(_x+1), _c]\n",
    "            entropy = information.entropy(subband.flatten().astype(np.int16))\n",
    "            accumulated_entropy += entropy\n",
    "            max = subband.max()\n",
    "            min = subband.min()\n",
    "            max_min = max - min\n",
    "            avg = np.average(subband)\n",
    "            dev = math.sqrt(np.var(subband))\n",
    "            energy = information.energy(subband)\n",
    "            avg_energy = energy/subband.size\n",
    "            list_of_subbands_components.append((_y, _x, _c, max, min, max_min, avg, dev, entropy, energy, avg_energy))\n",
    "            #print(f\"{_y:2d} {_x:2d} {_c:9d} {max:7.1f} {min:7.1f} {max_min:7.1f} {avg:7.1f} {dev:7.1f} {entropy:7.1f} {energy:13.1f} {avg_energy:10.1f}\")\n",
    "sorted_list_of_subbands_components = sorted(list_of_subbands_components, key=lambda x: x[8])[::-1]\n",
    "for _i in sorted_list_of_subbands_components:\n",
    "    _y, _x, _c, max, min, max_min, avg, dev, entropy, energy, avg_energy = _i\n",
    "    print(f\"  {_y:2d} {_x:2d} {_c:9d} {max:7.1f} {min:7.1f} {max_min:7.1f} {avg:7.1f} {dev:7.1f} {entropy:7.1f} {energy:13.1f} {avg_energy:10.1f}\")\n",
    "avg_entropy = accumulated_entropy/(block_x_side*block_y_side*img.shape[2])\n",
    "print(\"Average entropy in the DCT domain:\", avg_entropy)\n",
    "print(\"Entropy in the image domain:\", information.entropy(img.flatten().astype(np.uint8)))"
   ]
  },
  {
   "cell_type": "markdown",
   "metadata": {},
   "source": [
    "As it can be observed, the 8x8-DCT accumulates most of the energy (and information, for this reason the entropy is decreased) in the low-frequency subbands. Notice also the high correlation that exists between the entropy, the variance and the energy of the subbands."
   ]
  },
  {
   "cell_type": "markdown",
   "metadata": {},
   "source": [
    "## Lossless compression"
   ]
  },
  {
   "cell_type": "code",
   "execution_count": null,
   "metadata": {},
   "outputs": [],
   "source": [
    "img = RGB_image.read(test_image)\n",
    "YUV_img = YUV.from_RGB(img.astype(np.int16) - 128) # -128 decreases maximum value of the DC coefficients\n",
    "DCT_blocks = block_DCT.analyze_image(YUV_img, block_y_side, block_x_side)\n",
    "DCT_subbands = block_DCT.get_subbands(DCT_blocks, block_y_side, block_x_side)\n",
    "\n",
    "img = RGB_image.read(test_image, 0)\n",
    "YUV_img = YUV.from_RGB(img.astype(np.int16) - 128)\n",
    "DCT_blocks = block_DCT.analyze_image(YUV_img, block_y_side, block_x_side)\n",
    "DCT_subbands = block_DCT.get_subbands(DCT_blocks, block_y_side, block_x_side)\n",
    "DCT_subbands = (DCT_subbands + 32768).astype(np.uint16)\n",
    "output_len = RGB_image.write(DCT_subbands, \"/tmp/lossless\", 0)\n",
    "print(f\"output_length={output_len}\")\n",
    "_DCT_subbands = RGB_image.read(\"/tmp/lossless\", 0)\n",
    "_DCT_subbands = _DCT_subbands.astype(np.float32) - 32768\n",
    "_DCT_blocks = block_DCT.get_blocks(_DCT_subbands, block_y_side, block_x_side)\n",
    "_YUV_img = block_DCT.synthesize_image(_DCT_blocks, block_y_side, block_x_side)\n",
    "_img = YUV.to_RGB(_YUV_img.astype(np.int16)) + 128\n",
    "RGB_image.show(_img)"
   ]
  },
  {
   "cell_type": "markdown",
   "metadata": {},
   "source": [
    "## Lossy compression"
   ]
  },
  {
   "cell_type": "markdown",
   "metadata": {},
   "source": [
    "### Quantization steps\n",
    "\n",
    "Considering the previous dynamic range values for the YCoCg/8x8-DCT coefficients, this parameter should allow to use 8 bits/pixel images, if we are using PNG as an entropy codec. As it can be seen, we need 11 bits for representing the DC coefficients and after quantization, we should use only 8. Therefore, the minimum quantization step should be 1<<3 = 8. Notice that 11 - 8 = 3."
   ]
  },
  {
   "cell_type": "code",
   "execution_count": null,
   "metadata": {},
   "outputs": [],
   "source": [
    "#Q_steps = [128, 64, 32, 16, 8] #, 4, 2, 1]\n",
    "#Q_steps = [(2**i)//16 for i in range(16, -1, -1)]\n",
    "Q_steps = [i for i in range(128, 8, -4)]\n",
    "#Q_steps = [128, 96, 64, 32, 16, 8] #, 4, 2, 1]"
   ]
  },
  {
   "cell_type": "code",
   "execution_count": null,
   "metadata": {},
   "outputs": [],
   "source": [
    "Q_steps"
   ]
  },
  {
   "cell_type": "markdown",
   "metadata": {},
   "source": [
    "## Testing `block_DCT.uniform_quantize()` and `block_DCT.uniform_dequantize()` (MOVER A test_block_DCT)\n",
    "Quantization removes information but also increases the compression ratios of the stored images. These methods quantize all coefficients with the same quantization step."
   ]
  },
  {
   "cell_type": "code",
   "execution_count": null,
   "metadata": {},
   "outputs": [],
   "source": [
    "Q_step = 64\n",
    "img = RGB_image.read(test_image, 0)\n",
    "YUV_img = YUV.from_RGB(img.astype(np.int16) - 128)\n",
    "DCT_blocks = block_DCT.analyze_image(YUV_img, block_y_side, block_x_side)\n",
    "DCT_subbands = block_DCT.get_subbands(DCT_blocks, block_y_side, block_x_side)\n",
    "DCT_subbands_k = block_DCT.uniform_quantize(DCT_subbands, block_y_side, block_x_side, N_components, Q_step)\n",
    "DCT_subbands_dQ = block_DCT.uniform_dequantize(DCT_subbands_k, block_y_side, block_x_side, N_components, Q_step)\n",
    "DCT_blocks_dQ = block_DCT.get_blocks(DCT_subbands_dQ, block_y_side, block_x_side)\n",
    "YUV_img_dQ = block_DCT.synthesize_image(DCT_blocks_dQ, block_y_side, block_x_side)\n",
    "img_dQ = YUV.to_RGB(YUV_img_dQ) + 128\n",
    "RGB_image.show(np.clip(img_dQ, a_min=0, a_max=255), f\"Quantized image (Q_step={Q_step}) in the {block_y_side}x{block_x_side} DCT {YUV.name} domain\")"
   ]
  },
  {
   "cell_type": "code",
   "execution_count": null,
   "metadata": {},
   "outputs": [],
   "source": [
    "error = img - img_dQ\n",
    "RGB_image.show(RGB_image.normalize(error), \"Quantization error\")"
   ]
  },
  {
   "cell_type": "markdown",
   "metadata": {},
   "source": [
    "Therefore, quantization in the DCT domain tends to remove high frequencies (it works basically as a low pass filter)."
   ]
  },
  {
   "cell_type": "markdown",
   "metadata": {},
   "source": [
    "## Coding subbands vs coding blocks\n",
    "Let's see the effect of encoding the DCT coefficients grouped by blocks and subbands. For simplicity, we will use uniform quantization. Distortion is measured in the image domain."
   ]
  },
  {
   "cell_type": "code",
   "execution_count": null,
   "metadata": {
    "scrolled": false
   },
   "outputs": [],
   "source": [
    "#img = RGB_image.read(test_image, 0)\n",
    "#YUV_img = YUV.from_RGB(img.astype(np.int16) - 128)\n",
    "img = RGB_image.read(test_image)\n",
    "YUV_img = YUV.from_RGB(img.astype(np.int16))\n",
    "avgs = [np.average(YUV_img[..., c]) for c in range(3)]\n",
    "print(f\"avgs={avgs}\")\n",
    "for c in range(3):\n",
    "    YUV_img[..., c] -= int(avgs[c])\n",
    "RD_points_blocks = []\n",
    "RD_points_subbands = []\n",
    "for Q_step in Q_steps:\n",
    "    DCT_blocks = block_DCT.analyze_image(YUV_img, block_y_side, block_x_side)\n",
    "    # Notice that with uniform_quantize() does not matter if the DCT domain\n",
    "    # is organized in subbands or blocks.\n",
    "    DCT_blocks_k = block_DCT.uniform_quantize(DCT_blocks, block_y_side, block_x_side, N_components, Q_step)\n",
    "    BPP = RGB_image.write((DCT_blocks_k + 128).astype(np.uint8), f\"/tmp/{Q_step}_\", 0)*8/(YUV_img.shape[0]*YUV_img.shape[1])\n",
    "    # Check that we can recover the code-stream ################\n",
    "    __ = RGB_image.read(f\"/tmp/{Q_step}_\", 0)                    #\n",
    "    try:                                                       #\n",
    "        assert ((DCT_blocks_k + 128) == __).all()              #\n",
    "    except AssertionError:                                     #\n",
    "        counter = 0                                            #\n",
    "        for _i in range(img.shape[0]):                         #\n",
    "            for _j in range(img.shape[1]):                     #\n",
    "                if (DCT_blocks_k[_i, _j] != __[_i, _j]).any(): #\n",
    "                    print(DCT_blocks_k[_i, _j], __[_i, _j])    #\n",
    "                    if counter > 10:                           #\n",
    "                        break                                  #\n",
    "                    counter += 1                               #\n",
    "            if counter > 10:                                   #\n",
    "                break                                          #\n",
    "    ############################################################\n",
    "    DCT_blocks_dQ = block_DCT.uniform_dequantize(DCT_blocks_k, block_y_side, block_x_side, N_components, Q_step)\n",
    "    YUV_img_dQ = block_DCT.synthesize_image(DCT_blocks_dQ, block_y_side, block_x_side)\n",
    "    #img_dQ = YUV.to_RGB(YUV_img_dQ) + 128\n",
    "    for c in range(3):\n",
    "        YUV_img_dQ[..., c] += int(avgs[c])\n",
    "    img_dQ = YUV.to_RGB(YUV_img_dQ)\n",
    "\n",
    "    # Notice that to compute the distortion, the DCT domain could be\n",
    "    # also used because the DCT is unitary.\n",
    "    RMSE = distortion.RMSE(img, img_dQ)\n",
    "    RD_points_blocks.append((BPP, RMSE))\n",
    "    DCT_subbands_k = block_DCT.get_subbands(DCT_blocks_k, block_y_side, block_x_side)\n",
    "    #BPP = compute_BPP((DCT_subbands_k + 128).astype(np.uint8), f\"/tmp/{Q_step}_\")\n",
    "    BPP = RGB_image.write((DCT_subbands_k + 128).astype(np.uint8), f\"/tmp/{Q_step}_\", 0)*8/(YUV_img.shape[0]*YUV_img.shape[1])\n",
    "    # Check that we can recover the code-stream #################\n",
    "    __ = RGB_image.read(f\"/tmp/{Q_step}_\", 0)                     #\n",
    "    try:                                                        #\n",
    "        assert ((DCT_subbands_k + 128) == __).all()             #\n",
    "    except AssertionError:                                      #\n",
    "        counter = 0                                             #\n",
    "        for _i in range(img.shape[0]):                          #\n",
    "            for _j in range(img.shape[1]):                      #\n",
    "                if (DCT_subbands_k[_i, _j] != __[_i, _j]).any():#\n",
    "                    print(DCT_subbands_k[_i, _j], __[_i, _j])   #\n",
    "                    if counter > 10:                            #\n",
    "                        break                                   #\n",
    "                    counter += 1                                #\n",
    "            if counter > 10:                                    # \n",
    "                break                                           #\n",
    "    #############################################################\n",
    "    RD_points_subbands.append((BPP, RMSE))\n",
    "    print(f\"Q_step={Q_step} BPP={BPP} image-domain-RMSE={RMSE}\")\n"
   ]
  },
  {
   "cell_type": "code",
   "execution_count": null,
   "metadata": {},
   "outputs": [],
   "source": [
    "pylab.figure(dpi=150)\n",
    "pylab.plot(*zip(*RD_points_blocks), label=f\"{block_y_side}x{block_x_side} DCT (encoded by blocks)\")\n",
    "pylab.plot(*zip(*RD_points_subbands), label=f\"{block_y_side}x{block_x_side} DCT (encoded by subbands)\")\n",
    "pylab.title(\"\")\n",
    "pylab.xlabel(\"BPP\")\n",
    "pylab.ylabel(\"RMSE\")\n",
    "plt.legend(loc=\"best\")\n",
    "pylab.show()"
   ]
  },
  {
   "cell_type": "markdown",
   "metadata": {},
   "source": [
    "## Compare"
   ]
  },
  {
   "cell_type": "code",
   "execution_count": null,
   "metadata": {},
   "outputs": [],
   "source": [
    "YCoCg_SQ = []\n",
    "with open(f'../YCoCg_SQ/YCoCg_SQ.txt', 'r') as f:\n",
    "    for line in f:\n",
    "        BPP, RMSE = line.split('\\t')\n",
    "        YCoCg_SQ.append((float(BPP), float(RMSE)))"
   ]
  },
  {
   "cell_type": "code",
   "execution_count": null,
   "metadata": {},
   "outputs": [],
   "source": [
    "pylab.figure(dpi=150)\n",
    "pylab.plot(*zip(*YCoCg_SQ), c='b', marker='o', label=\"Deadzone($\\mathbf{\\Delta}^{\\mathrm{Y}}_i = \\mathbf{\\Delta}^{\\mathrm{Co}}_i = \\mathbf{\\Delta}^{\\mathrm{Cg}}_i$)+PNG\", linestyle=\"dashed\")\n",
    "pylab.plot(*zip(*RD_points_subbands), label=r\"Deadzone(2D-DCT($\\mathbf{\\Delta}^{\\mathrm{Y}}_i = \\mathbf{\\Delta}^{\\mathrm{Co}}_i = \\mathbf{\\Delta}^{\\mathrm{Cg}}_i)$)+PNG\")\n",
    "pylab.title(fn)\n",
    "pylab.xlabel(\"BPP\")\n",
    "pylab.ylabel(\"RMSE\")\n",
    "plt.legend(loc=\"best\")\n",
    "pylab.show()"
   ]
  },
  {
   "cell_type": "markdown",
   "metadata": {},
   "source": [
    "Coding by subbands is more efficient because PNG can exploit better the spatial correlation between the coefficients."
   ]
  },
  {
   "cell_type": "code",
   "execution_count": null,
   "metadata": {},
   "outputs": [],
   "source": [
    "with open('YCoCg_2D_DCT_SQ.txt', 'w') as f:\n",
    "    for item in RD_points_subbands:\n",
    "        f.write(f\"{item[0]}\\t{item[1]}\\n\")"
   ]
  },
  {
   "cell_type": "code",
   "execution_count": null,
   "metadata": {},
   "outputs": [],
   "source": [
    "import time\n",
    "while True:\n",
    "    time.sleep(1)"
   ]
  },
  {
   "cell_type": "markdown",
   "metadata": {},
   "source": [
    "## Ignore the rest ..."
   ]
  },
  {
   "cell_type": "markdown",
   "metadata": {},
   "source": [
    "## Can we do it better?\n",
    "\n",
    "Let's compute the optimal sequence of quantization steps for the set of possible combinations of subbands and components. We will compute the distortion of each subband-component in the YCoCg/8x8-DCT domain for a set of quantization steps, considering that the YCoCg transform is near-orthogonal and that the 8x8-DCT is full-orthogonal. Thanks to orthogonality, we can assume that the quantization error generated in one subband does not influence on the quantization error added to the other subbands because the DCT coefficients are uncorrelated, or in other words, that the quantization error generated in one coefficient (or subband) is not correlated with the quantization error generated in other coefficients (or subbands).\n",
    "\n",
    "Algorithm:\n",
    "1. Read the image.\n",
    "2. Transform it to the YCoCg domain.\n",
    "3. Transform each YCoCg component to the 8x8-DCT domain.\n",
    "4. Find a set RD points for each subband-component.\n",
    "5. Compute the slope of each point and put all the slopes in the same list.\n",
    "6. Sort the previous list by the slope field.\n",
    "7. Find the RD curve that progressively uses smaller slopes."
   ]
  },
  {
   "cell_type": "markdown",
   "metadata": {},
   "source": [
    "### Read the image and move to the 0-mean YCoCg domain"
   ]
  },
  {
   "cell_type": "code",
   "execution_count": null,
   "metadata": {},
   "outputs": [],
   "source": [
    "img = RGB_image.read(test_image, 0)\n",
    "#xx = YUV.from_RGB(img.astype(np.int16) - 128)\n",
    "YUV_img = YUV.from_RGB(img.astype(np.int16))\n",
    "\n",
    "# Shift the YCoCg components to the zero mean.\n",
    "# We will not need this information later (in this notebook)\n",
    "# because we will not reconstruct the images.\n",
    "# The distortion is computed in the DCT domain.\n",
    "#YUV_img[...,0] -= np.average(YUV_img[...,0]).astype(np.int16)\n",
    "#YUV_img[...,1] -= np.average(YUV_img[...,1]).astype(np.int16)\n",
    "#YUV_img[...,2] -= np.average(YUV_img[...,2]).astype(np.int16)\n",
    "\n",
    "avgs = [np.average(YUV_img[..., c]) for c in range(3)]\n",
    "print(f\"avgs={avgs}\")\n",
    "for c in range(3):\n",
    "    YUV_img[..., c] -= int(avgs[c])"
   ]
  },
  {
   "cell_type": "markdown",
   "metadata": {},
   "source": [
    "### Move each component to the 8x8-DCT domain"
   ]
  },
  {
   "cell_type": "code",
   "execution_count": null,
   "metadata": {},
   "outputs": [],
   "source": [
    "DCT_blocks = block_DCT.analyze_image(YUV_img, block_y_side, block_x_side)\n",
    "DCT_subbands = block_DCT.get_subbands(DCT_blocks, block_y_side, block_x_side)"
   ]
  },
  {
   "cell_type": "code",
   "execution_count": null,
   "metadata": {},
   "outputs": [],
   "source": [
    "RGB_image.show(RGB_image.normalize(DCT_subbands), f\"Subbands of the {YUV.name}/{block_y_side}x{block_x_side} DCT domain\")"
   ]
  },
  {
   "cell_type": "markdown",
   "metadata": {},
   "source": [
    "### Find the slope of each quantization step for each subband-component\n",
    "Create a list per subband-component of RD points and a list per subband-component of RD slopes. The first RD point is computed for 0 BPP, where the MSE distortion is equal to the average energy of the subband-component (notice that the average of each subband-component should be 0)."
   ]
  },
  {
   "cell_type": "code",
   "execution_count": null,
   "metadata": {},
   "outputs": [],
   "source": [
    "RD_points = []\n",
    "RD_slopes = []\n",
    "N_components = YUV_img.shape[2]\n",
    "for _y in range(block_y_side):\n",
    "    for _x in range(block_x_side):\n",
    "        for _c in range(N_components):\n",
    "            sbc = DCT_subbands[blocks_in_y*_y : blocks_in_y*(_y + 1), blocks_in_x*_x : blocks_in_x*(_x + 1), _c]\n",
    "            sbc_energy = information.average_energy(sbc)\n",
    "            # The first point of each RD curve has a maximum distortion equal\n",
    "            # to the energy of the subband and a rate = 0\n",
    "            RD_points.append([(0, sbc_energy)])\n",
    "            RD_slopes.append([])"
   ]
  },
  {
   "cell_type": "code",
   "execution_count": null,
   "metadata": {
    "scrolled": true
   },
   "outputs": [],
   "source": [
    "RD_points # (BPP, RMSE)"
   ]
  },
  {
   "cell_type": "code",
   "execution_count": null,
   "metadata": {},
   "outputs": [],
   "source": [
    "len(RD_points)"
   ]
  },
  {
   "cell_type": "code",
   "execution_count": null,
   "metadata": {},
   "outputs": [],
   "source": [
    "8*8*3"
   ]
  },
  {
   "cell_type": "markdown",
   "metadata": {},
   "source": [
    "Now populate the rest of points of each subband-component. **Distortion is estimated in the transform domain** because we are searching RD points for sorting the quantization patterns, not for obtaining true distortion measures that would demand more computation."
   ]
  },
  {
   "cell_type": "code",
   "execution_count": null,
   "metadata": {},
   "outputs": [],
   "source": []
  },
  {
   "cell_type": "code",
   "execution_count": null,
   "metadata": {
    "scrolled": true
   },
   "outputs": [],
   "source": [
    "for _y in range(block_y_side):\n",
    "    for _x in range(block_x_side):\n",
    "        for _c in range(N_components):\n",
    "            sbc = DCT_subbands[blocks_in_y*_y : blocks_in_y*(_y + 1), blocks_in_x*_x : blocks_in_x*(_x + 1), _c]\n",
    "            counter = 0\n",
    "            for Q_step in Q_steps:\n",
    "                Q = Quantizer(Q_step=Q_step)\n",
    "                sbc_k = Q.quantize(sbc)\n",
    "                sbc_dQ = Q.dequantize(sbc_k)\n",
    "                RMSE = distortion.RMSE(sbc, sbc_dQ)\n",
    "                BPP = RGB_image.write(sbc_k.astype(np.uint8), f\"/tmp/{_y}_{_x}_{_c}_{Q_step}_\", 0)*8/(YUV_img.shape[0]*YUV_img.shape[1])\n",
    "                point = (BPP, RMSE)\n",
    "                RD_points[(_y * block_x_side * N_components + _x * N_components ) + _c].append(point)\n",
    "                print(\"Q_step =\", Q_step, \"BPP =\", point[0], \"RMSE =\", point[1])\n",
    "                delta_BPP = BPP - RD_points[(_y*block_x_side + _x)*N_components + _c][counter][0]\n",
    "                delta_RMSE = RD_points[(_y*block_x_side + _x)*N_components + _c][counter][1] - RMSE\n",
    "                if delta_BPP > 0:\n",
    "                    slope = delta_RMSE/delta_BPP\n",
    "                    RD_slopes[(_y*block_x_side + _x)*N_components + _c].append((slope, (_y, _x, _c), Q_step))\n",
    "                else:\n",
    "                    slope = 0\n",
    "                #RD_slopes[(_y * block_x_side * N_components + _x * N_components) + _c].append((Q_step, slope, (_y, _x, _c)))\n",
    "                counter += 1"
   ]
  },
  {
   "cell_type": "code",
   "execution_count": null,
   "metadata": {},
   "outputs": [],
   "source": [
    "RD_points"
   ]
  },
  {
   "cell_type": "code",
   "execution_count": null,
   "metadata": {},
   "outputs": [],
   "source": [
    "RD_slopes # (Qstep, slope, subband-component_index)"
   ]
  },
  {
   "cell_type": "markdown",
   "metadata": {},
   "source": [
    "### Remove points that do not belong to the convex-hull"
   ]
  },
  {
   "cell_type": "code",
   "execution_count": null,
   "metadata": {},
   "outputs": [],
   "source": [
    "def filter_slopes(slopes):\n",
    "    filtered_slopes = []\n",
    "    slopes_iterator = iter(slopes)\n",
    "    prev = next(slopes_iterator)\n",
    "    for curr in slopes_iterator:\n",
    "        if prev[0] < curr[0]:\n",
    "            print(f\"deleted {prev}\")\n",
    "        else:\n",
    "            filtered_slopes.append(prev)\n",
    "        prev = curr\n",
    "    filtered_slopes.append(prev)\n",
    "    return filtered_slopes\n",
    "\n",
    "filtered_slopes = []\n",
    "for i in RD_slopes:\n",
    "    filtered_slopes.append(filter_slopes(i))"
   ]
  },
  {
   "cell_type": "code",
   "execution_count": null,
   "metadata": {},
   "outputs": [],
   "source": [
    "filtered_slopes"
   ]
  },
  {
   "cell_type": "markdown",
   "metadata": {},
   "source": [
    "### Sort the RD points by their slope"
   ]
  },
  {
   "cell_type": "code",
   "execution_count": null,
   "metadata": {},
   "outputs": [],
   "source": [
    "single_list = []\n",
    "for l in filtered_slopes:\n",
    "    #l = filter_slopes(l)\n",
    "    for i in l:\n",
    "        #if i[1] > 0:\n",
    "        single_list.append(i)"
   ]
  },
  {
   "cell_type": "code",
   "execution_count": null,
   "metadata": {},
   "outputs": [],
   "source": [
    "single_list"
   ]
  },
  {
   "cell_type": "code",
   "execution_count": null,
   "metadata": {},
   "outputs": [],
   "source": [
    "sorted_slopes = sorted(single_list, key=lambda x: x[0])[::-1]"
   ]
  },
  {
   "cell_type": "code",
   "execution_count": null,
   "metadata": {},
   "outputs": [],
   "source": [
    "sorted_slopes"
   ]
  },
  {
   "cell_type": "markdown",
   "metadata": {},
   "source": [
    "### Build the optimal RD curve\n",
    "We use the sorted list of slopes (with quantization and subband-component information) to generate the optimal RD list of RD points. Notice that, although the YCoCg components gains ($\\frac{3}{2}\\Delta_{\\text{Y}} = \\Delta_{\\text{Co}} = \\frac{3}{2}\\Delta_{\\text{Cg}}$) have not been taken into consideration, the RD points are sorted by their slope, and therefore this information has already influenced on the RD points.\n",
    "\n",
    "Notice that initially, all the subband-components are initialized to zero, and the quantization steps (one per subband) are set to zero the subbands (see `Q_steps_combination`). Then, starting with the subband with the highest contribution (information that is provided by `sorted_slopes`) the, subband-components are progressively  quantized and dequantized.\n",
    "\n",
    "Notice that the distortion can measured in the YCoCg/block-DCT domain because both transforms are considered orthogonal, making unnecessary the inverse transforms. Otherwise, the distortion should be measured in the image domain."
   ]
  },
  {
   "cell_type": "code",
   "execution_count": null,
   "metadata": {
    "scrolled": true
   },
   "outputs": [],
   "source": [
    "optimal_RD_points = []\n",
    "DCT_subbands_prog = np.zeros_like(DCT_subbands)\n",
    "Q_steps_combination = np.full(shape=(block_x_side, block_y_side, N_components), fill_value=99999999)\n",
    "for s in sorted_slopes:\n",
    "    sbc_index = s[1]\n",
    "    _y = sbc_index[0]\n",
    "    _x = sbc_index[1]\n",
    "    _c = sbc_index[2]\n",
    "    Q_steps_combination[_y, _x, _c] = s[2]\n",
    "    #DCT_subbands_prog[blocks_in_y*_y : blocks_in_y*(_y + 1), blocks_in_x*_x : blocks_in_x*(_x + 1), _c] \\\n",
    "    #    = DCT_subbands[blocks_in_y*_y : blocks_in_y*(_y + 1), blocks_in_x*_x : blocks_in_x*(_x + 1), _c]\n",
    "    DCT_subbands_prog = DCT_subbands.copy()\n",
    "    DCT_subbands_prog_k = block_DCT.quantize(DCT_subbands_prog, Q_steps_combination)\n",
    "    DCT_subbands_prog_dQ = block_DCT.dequantize(DCT_subbands_prog_k, Q_steps_combination)\n",
    "    \n",
    "    # Uncomment the following line to measure the distortion in the YUV+DCT domain.\n",
    "    # Use only if both, the spatial transform and the color transform are orthogonal.\n",
    "    #RMSE = distortion.RMSE(DCT_subbands, DCT_subbands_prog_dQ)\n",
    "\n",
    "    # Uncomment the following 3 lines to measure the distortion in the YUV domain.\n",
    "    # Use only if the color transform is orthogonal.\n",
    "    #DCT_blocks_prog_dQ = block_DCT.get_blocks(DCT_subbands_prog_dQ, block_y_side, block_x_side)\n",
    "    #YUV_img_prog = block_DCT.synthesize_image(DCT_blocks_prog_dQ, block_y_side, block_x_side)\n",
    "    #RMSE = distortion.RMSE(YUV_img, YUV_img_prog)\n",
    "    \n",
    "    # Uncomment the following 7 lines to measure the distortion in the RGB domain.\n",
    "    # Notice that if the color transform domain is not orthogonal,\n",
    "    # the RMSE should be measured in the RGB domain.\n",
    "    DCT_blocks_prog_dQ = block_DCT.get_blocks(DCT_subbands_prog_dQ, block_y_side, block_x_side)\n",
    "    YUV_img_prog = block_DCT.synthesize_image(DCT_blocks_prog_dQ, block_y_side, block_x_side)\n",
    "    for c in range(3):\n",
    "        YUV_img_prog[..., c] += int(avgs[c])\n",
    "    img_prog = YUV.to_RGB(YUV_img_prog)\n",
    "    RMSE = distortion.RMSE(img, img_prog)\n",
    "\n",
    "    # Add 128 to convert 2's complement 8-bits integers to unsigned 8-bit integers.\n",
    "    BPP = RGB_image.write((DCT_subbands_prog_k + 128).astype(np.uint8), f\"/tmp/{_y}_{_x}_{_c}_{s[0]}_\", 0)*8/(YUV_img.shape[0]*YUV_img.shape[1])\n",
    "    point = (BPP, RMSE)\n",
    "    print(\"sbc =\", sbc_index, \"Q_step =\", s[2], \"BPP =\", BPP, \"RMSE =\", RMSE)\n",
    "    optimal_RD_points.append(point)"
   ]
  },
  {
   "cell_type": "markdown",
   "metadata": {},
   "source": [
    "### Read JPEG RD data to compare\n",
    "Notice that the chromas have not been subsampled in JPEG."
   ]
  },
  {
   "cell_type": "code",
   "execution_count": null,
   "metadata": {},
   "outputs": [],
   "source": [
    "JPEG_RD_points = []\n",
    "with open(\"../JPEG/JPEG.txt\", 'r') as f:\n",
    "    for line in f:\n",
    "        rate, _distortion = line.split('\\t')\n",
    "        JPEG_RD_points.append((float(rate), float(_distortion)))"
   ]
  },
  {
   "cell_type": "code",
   "execution_count": null,
   "metadata": {},
   "outputs": [],
   "source": [
    "#DCT2 = []\n",
    "#with open(\"DCT.txt\", 'r') as f:\n",
    "#    for line in f:\n",
    "#        rate, _distortion = line.split('\\t')\n",
    "#        DCT2.append((float(rate), float(_distortion)))"
   ]
  },
  {
   "cell_type": "markdown",
   "metadata": {},
   "source": [
    "### Compare"
   ]
  },
  {
   "cell_type": "code",
   "execution_count": null,
   "metadata": {},
   "outputs": [],
   "source": [
    "pylab.figure(dpi=150)\n",
    "pylab.plot(*zip(*RD_points_subbands), label=\"Without RDO\")\n",
    "#pylab.plot(*zip(*optimal_RD_points), label=\"With RDO\")\n",
    "#pylab.plot(*zip(*optimal_RD_points_128), label=\"optimal quantization 128\")\n",
    "pylab.plot(*zip(*JPEG_RD_points), label=\"JPEG\")\n",
    "#pylab.plot(*zip(*DCT2), label=\"old\")\n",
    "pylab.title(f\"{YUV.name}/{block_y_side}x{block_x_side}-DCT\")\n",
    "pylab.xlabel(\"Bits/Pixel\")\n",
    "pylab.ylabel(\"RMSE\")\n",
    "plt.legend(loc=\"best\")\n",
    "#pylab.yscale('log')\n",
    "#pylab.xscale('log')\n",
    "pylab.show()"
   ]
  },
  {
   "cell_type": "code",
   "execution_count": null,
   "metadata": {},
   "outputs": [],
   "source": [
    "with open('DCT_RDO.txt', 'w') as f:\n",
    "    for item in optimal_RD_points:\n",
    "        f.write(f\"{item[0]}\\t{item[1]}\\n\")"
   ]
  },
  {
   "cell_type": "markdown",
   "metadata": {},
   "source": [
    "## Conclusions\n",
    "\n",
    "RDO over $\\Delta$ provides optimality in those combinations where $\\Delta$ is not the same for all subband-components. This is a consequence of progressively selecting those quantization steps for the subband-components that contribute more to the quality of the reconstruction between constant-$\\Delta$ quantization patterns. Notice that between each different constant-$\\Delta$ quantization pattern there are so many different-$\\Delta$ quantization patterns as the number of subband-components. Notice also that the pattern of quantization steps must be known by the decoder to reconstruct the image."
   ]
  },
  {
   "cell_type": "markdown",
   "metadata": {},
   "source": [
    "## Use the RGB domain to compare the distortion (TODO)"
   ]
  },
  {
   "cell_type": "markdown",
   "metadata": {},
   "source": [
    "## Optimizing the block-size\n",
    "\n",
    "So far, we have used a constant block-size. However, this can be suboptimal (different images and areas of those images can be analyzed better, from a RD point of view, variying the block-size). The idea is to decompose the image into blocks building a quad-tree, in which a node (a quadrant) is splitted if its RD slope considering the quadrant as a single block (of for example 16x16 pixels) is smaller than its RD slope considering 4 blocks (of 8x8 pixels). We have supposed that the image is a square. On the contrary, the image should be procesed by squared tiles (TO-DO).\n",
    "\n",
    "The optimal splitting pattern is chosen computing, for the given quantization step, the best score:\n",
    "$$\n",
    "\\frac{1}{\\text{RMSE}\\times\\text{BPP}}\n",
    "$$\n",
    "\n",
    "Notice that the quad-tree must be transmitted to the decoder, and a way of encode the tree is to send a sequence of symbols 0 and 1, symbol 0 representing that the quadrant is not divided, and symbol 1 that the quadrant is divided. For example:\n",
    "\n",
    "    +-------+---+---+ +---+---+\n",
    "    |       |   |   | | 1 | 2 |\n",
    "    |       +---+---+ +---+---+\n",
    "    |       |   |   | | 3 | 4 |\n",
    "    +---+-+-+---+---+ +---+---+\n",
    "    |   + + +       |\n",
    "    +---+-+-+       |\n",
    "    |   |   |       |\n",
    "    +---+---+-------+\n",
    "    01    1        0\n",
    "      0000 01    00\n",
    "             0000 <- removable if the minimum block size has been reached\n",
    "             \n",
    "Only luminance is considered."
   ]
  },
  {
   "cell_type": "code",
   "execution_count": null,
   "metadata": {},
   "outputs": [],
   "source": [
    "# Returns True if the current block_size if optimal\n",
    "def is_block_size_optimal(block, Q_step):\n",
    "    # First compute the slope of the block\n",
    "    DCT = block_DCT.analyze_block(block)\n",
    "    Q_DCT = Q.quantize(DCT, Q_step)\n",
    "    R = information.entropy(Q_DCT.flatten().astype(np.int16))\n",
    "    D = distortion.RMSE(Q_DCT, DCT)\n",
    "    block_slope = 1/(R*D)\n",
    "    # Now compute the slope, but applying the block_DCT to each quadrant\n",
    "    DCT = block_DCT.analyze_image(block, block.shape[0]//2, block.shape[1]//2)\n",
    "    Q_DCT = Q.quantize(DCT, Q_step)\n",
    "    R = information.entropy(Q_DCT.flatten().astype(np.int16))\n",
    "    D = distortion.RMSE(Q_DCT, DCT)\n",
    "    splitted_block_slope = 1/(R*D)\n",
    "    #print(block_slope, splitted_block_slope)\n",
    "    return block_slope > splitted_block_slope"
   ]
  },
  {
   "cell_type": "code",
   "execution_count": null,
   "metadata": {},
   "outputs": [],
   "source": [
    "max_block_side = 32\n",
    "min_block_side = 4\n",
    "Q_step = 64\n",
    "\n",
    "luma = YUV_img[..., 0]\n",
    "\n",
    "for log_block_side in range(6, 1, -1): # min_block_side = 2²=4, max_block_side = 2⁵=32\n",
    "    block_side = 1 << log_block_side\n",
    "    block_size_is_optimal = np.zeros(shape=(luma.shape[0]//block_side, luma.shape[1]//block_side), dtype=bool)\n",
    "    #DCT_luma = block_DCT.analyze_image(luma, block_side, block_side)\n",
    "    # For each block\n",
    "    for y in range(luma.shape[0]//block_side):\n",
    "        for x in range(luma.shape[1]//block_side):\n",
    "            if not block_size_is_optimal[y, x]:\n",
    "                block = luma[y*block_side:(y+1)*block_side, x*block_side:(x+1)*block_side]\n",
    "                if is_block_size_optimal(block, Q_step):\n",
    "                    block_size_is_optimal[y, x] = 1\n",
    "                    print('.', end='') # No divide the block\n",
    "                else:\n",
    "                    block_is_optimal[y, x] = 0\n",
    "                    print('O', end='') # Divide the block\n",
    "    block_is_optimal_copy = block_is_optimal.copy()\n",
    "    print('')"
   ]
  },
  {
   "cell_type": "code",
   "execution_count": null,
   "metadata": {},
   "outputs": [],
   "source": [
    "Q_DCT_blocks = block_DCT.uniform_quantize(DCT_blocks, max_block_side, max_block_side, N_components, Q_step)\n",
    "for y in range(luma.shape[0]//max_block_side):\n",
    "    for x in range(luma.shape[1]//max_block_side):\n",
    "        Q_DCT_block = Q_DCT_blocks[y*max_block_side:(y+1)*max_block_side, x*max_block_side:(x+1)*max_block_side]\n",
    "        DCT_block = DCT_blocks[y*max_block_side:(y+1)*max_block_side, x*max_block_side:(x+1)*max_block_side]\n",
    "        block_rate = distortion.entropy(Q_DCT_block.flatten().astype(np.int16))\n",
    "        block_distortion = distortion.RMSE(Q_DCT_block, DCT_block)\n",
    "        block_slope = 1/block_rate*block_distortion\n",
    "        for yy in range(DCT_block.shape[0]):\n",
    "            for xx in range(DCT_block.shape[1])"
   ]
  },
  {
   "cell_type": "code",
   "execution_count": null,
   "metadata": {},
   "outputs": [],
   "source": [
    "def local_entropy(image, x_range, y_range):\n",
    "    pass\n",
    "\n",
    "!ln -sf ~/MRVC/src/DWT.py .\n",
    "import DWT\n",
    "import pywt\n",
    "\n",
    "img = image_3.read(test_image, 0)\n",
    "YUV_img = YUV.from_RGB(img.astype(np.int16))\n",
    "\n",
    "wavelet_name = \"Haar\"\n",
    "wavelet = pywt.Wavelet(wavelet_name)\n",
    "N_levels = 3\n",
    "decom = DWT.analyze(YUV_img, wavelet, N_levels)\n",
    "\n",
    "Q_step = 256\n",
    "\n",
    "LL = decom[0]\n",
    "LL_k = Q.quantize(LL, Q_step) # Baybe bettter Q.get_indexes()\n",
    "LL_dQ = Q.dequantize(LL_k, Q_step) # Q.get_signal()\n",
    "decom_dQ = [LL_dQ]\n",
    "for sr in decom[1:]: # sr = spatial_resolution\n",
    "    sr_dQ = []\n",
    "    for sb in sr: # sb = subband\n",
    "        sb_k = Q.quantize(sb, Q_step)\n",
    "        sb_dQ = Q.dequantize(sb_k, Q_step)\n",
    "        sr_dQ.append(sb_dQ)\n",
    "    decom_dQ.append(tuple(sr_dQ))\n",
    "YUV_img_dQ = DWT.synthesize(decom_dQ, wavelet, N_levels)\n",
    "img_dQ = YUV.to_RGB(YUV_img_dQ)\n",
    "img_dQ = np.clip(img_dQ, a_min=0, a_max=255).astype(np.uint8)\n",
    "image_3.show(img_dQ.astype(np.uint8), f\"Q_step={Q_step}\")\n",
    "image_1.show(YUV_img_dQ[...,0].astype(np.uint8), f\"Q_step={Q_step}\")"
   ]
  },
  {
   "cell_type": "markdown",
   "metadata": {},
   "source": [
    "## Optimizing the block-shape"
   ]
  },
  {
   "cell_type": "code",
   "execution_count": null,
   "metadata": {},
   "outputs": [],
   "source": []
  }
 ],
 "metadata": {
  "kernelspec": {
   "display_name": "Python 3 (ipykernel)",
   "language": "python",
   "name": "python3"
  },
  "language_info": {
   "codemirror_mode": {
    "name": "ipython",
    "version": 3
   },
   "file_extension": ".py",
   "mimetype": "text/x-python",
   "name": "python",
   "nbconvert_exporter": "python",
   "pygments_lexer": "ipython3",
   "version": "3.10.5"
  }
 },
 "nbformat": 4,
 "nbformat_minor": 4
}

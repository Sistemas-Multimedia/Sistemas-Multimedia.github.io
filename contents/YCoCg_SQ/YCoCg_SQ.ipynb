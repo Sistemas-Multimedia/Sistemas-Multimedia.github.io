{
 "cells": [
  {
   "cell_type": "markdown",
   "metadata": {},
   "source": [
    "[![Binder](https://mybinder.org/badge_logo.svg)](https://nbviewer.org/github/Sistemas-Multimedia/Sistemas-Multimedia.github.io/blob/master/milestones/06-YUV_compression/YCoCg_compression.ipynb)"
   ]
  },
  {
   "cell_type": "markdown",
   "metadata": {},
   "source": [
    "# Removing RGB redundancy with the [$\\text{YCoCg}$](https://en.wikipedia.org/wiki/YCoCg) transform"
   ]
  },
  {
   "cell_type": "code",
   "execution_count": null,
   "metadata": {},
   "outputs": [],
   "source": [
    "%matplotlib inline\n",
    "\n",
    "import matplotlib\n",
    "import matplotlib.pyplot as plt\n",
    "import matplotlib.axes as ax\n",
    "#plt.rcParams['text.usetex'] = True\n",
    "#plt.rcParams['text.latex.preamble'] = [r'\\usepackage{amsmath}'] #for \\text command\n",
    "\n",
    "import pylab\n",
    "import math\n",
    "import numpy as np\n",
    "from scipy import signal\n",
    "import cv2\n",
    "import os\n",
    "!ln -sf ~/repos/information_theory/information.py .\n",
    "!ln -sf ~/repos/information_theory/distortion.py .\n",
    "!ln -sf ~/repos/scalar_quantization/quantization.py .\n",
    "!ln -sf ~/repos/scalar_quantization/deadzone_quantization.py .\n",
    "!ln -sf ~/repos/image_IO/image_1.py .\n",
    "!ln -sf ~/repos/image_IO/image_3.py .\n",
    "!ln -sf ~/repos/image_IO/logging_config.py .\n",
    "!ln -sf ~/repos/YCoCg/YCoCg.py .\n",
    "#!ln -sf ../common.py .\n",
    "import quantization\n",
    "import deadzone_quantization as deadzone\n",
    "import YCoCg\n",
    "import distortion\n",
    "import information\n",
    "import image_3 as RGB_image\n",
    "import image_1 as gray_image\n",
    "import colored\n",
    "#import common"
   ]
  },
  {
   "cell_type": "markdown",
   "metadata": {},
   "source": [
    "## Configuration"
   ]
  },
  {
   "cell_type": "code",
   "execution_count": null,
   "metadata": {},
   "outputs": [],
   "source": [
    "# Prefix of the RGB image to be quantized.\n",
    "\n",
    "HOME = os.environ[\"HOME\"]\n",
    "#fn = HOME + \"/MRVC/sequences/stockholm/\"\n",
    "fn = HOME + \"/repos/MRVC/images/lena_color/\"\n",
    "image_dtype = np.uint8 # For 8 bpp/component images\n",
    "#image_dtype = np.uint16 # For 16 bpp/component images\n",
    "\n",
    "YCoCg_components = ['Y', 'Co', 'Cg']\n",
    "\n",
    "#N_Q_steps = 8\n",
    "#Q_steps = [int(256*i/N_Q_steps) for i in range(N_Q_steps + 1, 0, -1)]\n",
    "#Q_steps = [2**i for i in range(N_Q_steps - 1, -1, -1)]\n",
    "Q_steps = [i for i in range(128, 32, -4)]\n",
    "print(Q_steps)\n",
    "\n",
    "#quantizer = midtread\n",
    "quantizer = deadzone.Deadzone_Quantizer\n",
    "#quantizer = midrise\n",
    "\n",
    "RGB_image.write = RGB_image.debug_write # Faster, but lower compression\n",
    "#RGB_image.write = information.write # The fastest, but returns only an estimation of the length\n",
    "gray_image.write = gray_image.debug_write # Faster, but lower compression\n",
    "#gray_image.write = information.write # The fastest, but returns only an estimation of the length"
   ]
  },
  {
   "cell_type": "markdown",
   "metadata": {},
   "source": [
    "## Read the image and show it"
   ]
  },
  {
   "cell_type": "code",
   "execution_count": null,
   "metadata": {},
   "outputs": [],
   "source": [
    "RGB_img = RGB_image.read(fn).astype(image_dtype)\n",
    "RGB_image.show(RGB_img, fn + \"000.png\")"
   ]
  },
  {
   "cell_type": "code",
   "execution_count": null,
   "metadata": {},
   "outputs": [],
   "source": [
    "RGB_img.shape"
   ]
  },
  {
   "cell_type": "code",
   "execution_count": null,
   "metadata": {},
   "outputs": [],
   "source": [
    "RGB_img.dtype"
   ]
  },
  {
   "cell_type": "markdown",
   "metadata": {},
   "source": [
    "## (RGB <-> YCoCg) transform of the image"
   ]
  },
  {
   "cell_type": "code",
   "execution_count": null,
   "metadata": {},
   "outputs": [],
   "source": [
    "YCoCg_img = YCoCg.from_RGB(RGB_img.astype(np.int16))\n",
    "print(YCoCg_img.dtype)\n",
    "Y_img = YCoCg_img[...,0]\n",
    "Co_img = YCoCg_img[...,1]\n",
    "Cg_img = YCoCg_img[...,2]"
   ]
  },
  {
   "cell_type": "code",
   "execution_count": null,
   "metadata": {
    "scrolled": false
   },
   "outputs": [],
   "source": [
    "gray_image.show_normalized(Y_img, fn + \"000 (Y comp.)\")\n",
    "gray_image.show_normalized(Co_img, fn + \"000 (Co comp.)\")\n",
    "gray_image.show_normalized(Cg_img, fn + \"000 (Cg comp.)\")"
   ]
  },
  {
   "cell_type": "markdown",
   "metadata": {},
   "source": [
    "The Y component is always positive, but the chromas can be positive and negative. "
   ]
  },
  {
   "cell_type": "markdown",
   "metadata": {},
   "source": [
    "## Energy of the YCoCg channels"
   ]
  },
  {
   "cell_type": "code",
   "execution_count": null,
   "metadata": {},
   "outputs": [],
   "source": [
    "Y_avg_energy = information.average_energy(Y_img)\n",
    "Co_avg_energy = information.average_energy(Co_img)\n",
    "Cg_avg_energy = information.average_energy(Cg_img)\n",
    "print(\"Energy of Y =\", int(Y_avg_energy))\n",
    "print(\"Energy of Co =\", int(Co_avg_energy))\n",
    "print(\"Energy of Cg =\", int(Cg_avg_energy))\n",
    "total_YCoCg_avg_energy = Y_avg_energy + Co_avg_energy + Cg_avg_energy\n",
    "print(f\"Total average energy (computed by adding the energies of the YCoCg components {int(Y_avg_energy)} + {int(Co_avg_energy)} + {int(Cg_avg_energy)}) = {int(total_YCoCg_avg_energy)}\")\n",
    "print(f\"Total RGB average energy (computed directly from the RGB image) = {int(information.average_energy(RGB_img)*3)}\")"
   ]
  },
  {
   "cell_type": "markdown",
   "metadata": {},
   "source": [
    "The forward YCoCg transform is not energy preserving. Moreover, the energy is more concentrated in the YCoCg domain, more specifically in the Y channel."
   ]
  },
  {
   "cell_type": "code",
   "execution_count": null,
   "metadata": {},
   "outputs": [],
   "source": [
    "RGB_recons_img = YCoCg.to_RGB(YCoCg_img)\n",
    "print(f\"Total RGB average energy of reconstruction = {int(information.average_energy(RGB_recons_img)*3)}\")"
   ]
  },
  {
   "cell_type": "markdown",
   "metadata": {},
   "source": [
    "The backward YCoCg is not energy perserving, but the complete pair of transforms (RGB <-> YCoCg) is almost unitary (1 gain)."
   ]
  },
  {
   "cell_type": "markdown",
   "metadata": {},
   "source": [
    "## (RGB <-> YCoCg) transform error"
   ]
  },
  {
   "cell_type": "code",
   "execution_count": null,
   "metadata": {},
   "outputs": [],
   "source": [
    "RGB_image.show(RGB_recons_img, fn + \"000.png (YCoCg recons)\")"
   ]
  },
  {
   "cell_type": "code",
   "execution_count": null,
   "metadata": {},
   "outputs": [],
   "source": [
    "np.array_equal(RGB_img, RGB_recons_img)"
   ]
  },
  {
   "cell_type": "code",
   "execution_count": null,
   "metadata": {},
   "outputs": [],
   "source": [
    "print(RGB_img.max(), RGB_img.min(), np.average(RGB_img))"
   ]
  },
  {
   "cell_type": "code",
   "execution_count": null,
   "metadata": {},
   "outputs": [],
   "source": [
    "print(RGB_recons_img.max(), RGB_recons_img.min(), np.average(RGB_recons_img))"
   ]
  },
  {
   "cell_type": "code",
   "execution_count": null,
   "metadata": {
    "scrolled": false
   },
   "outputs": [],
   "source": [
    "RGB_image.show_normalized(RGB_img - RGB_recons_img, \"Reconstruction error (rounding error)\")"
   ]
  },
  {
   "cell_type": "markdown",
   "metadata": {},
   "source": [
    "Even using integer denominators in the forward transform, the use of floating point arithmetic results in an irreversible transform. "
   ]
  },
  {
   "cell_type": "markdown",
   "metadata": {},
   "source": [
    "## Relative gains of the synthesis filters\n",
    "The quantization step should be adjusted to the synthesis filters gains in order to effectively provide the desired number of [bins](http://www.winlab.rutgers.edu/~crose/322_html/quantization.pdf) (different dequantized values)."
   ]
  },
  {
   "cell_type": "code",
   "execution_count": null,
   "metadata": {},
   "outputs": [],
   "source": [
    "val = 30\n",
    "delta_YCoCg = np.array([val, 0, 0]).reshape(1,1,3)\n",
    "delta_RGB = YCoCg.to_RGB(delta_YCoCg)\n",
    "energy_Y = information.average_energy(delta_RGB)\n",
    "print(\"delta_YCoCg =\", delta_YCoCg, \"<-> delta_RGB =\", delta_RGB, \"=> Y gain =\", energy_Y)\n",
    "\n",
    "delta_YCoCg = np.array([0, val, 0]).reshape(1,1,3)\n",
    "delta_RGB = YCoCg.to_RGB(delta_YCoCg)\n",
    "energy_Co = information.average_energy(delta_RGB)\n",
    "print(\"delta_YCoCg =\", delta_YCoCg, \"<-> delta_RGB =\", delta_RGB, \"=> Cr gain =\", energy_Co)\n",
    "\n",
    "delta_YCoCg = np.array([0, 0, val]).reshape(1,1,3)\n",
    "delta_RGB = YCoCg.to_RGB(delta_YCoCg)\n",
    "energy_Cg = information.average_energy(delta_RGB)\n",
    "print(\"delta_YCoCg =\", delta_YCoCg, \"<-> delta_RGB =\", delta_RGB, \"=> Cb gain =\", energy_Cg)\n",
    "\n",
    "delta_YCoCg = np.array([val, val, val]).reshape(1,1,3)\n",
    "delta_RGB = YCoCg.to_RGB(delta_YCoCg)\n",
    "print(\"delta_YCoCg =\", delta_YCoCg, \"<-> delta_RGB =\", delta_RGB, \"=> Total gain =\", information.average_energy(delta_RGB))"
   ]
  },
  {
   "cell_type": "code",
   "execution_count": null,
   "metadata": {},
   "outputs": [],
   "source": [
    "print(energy_Y/energy_Co, 3/2)"
   ]
  },
  {
   "cell_type": "code",
   "execution_count": null,
   "metadata": {},
   "outputs": [],
   "source": [
    "print(energy_Y/energy_Cg, 3/3)"
   ]
  },
  {
   "cell_type": "code",
   "execution_count": null,
   "metadata": {},
   "outputs": [],
   "source": [
    "val = 2\n",
    "delta_YCoCg = np.array([val, 0, 0]).reshape(1,1,3)\n",
    "delta_RGB = YCoCg.to_RGB(delta_YCoCg)\n",
    "energy_Y = information.average_energy(delta_RGB)\n",
    "print(\"delta_YCoCg =\", delta_YCoCg, \"<-> delta_RGB =\", delta_RGB, \"=> Y gain =\", energy_Y)\n",
    "\n",
    "delta_YCoCg = np.array([0, val, 0]).reshape(1,1,3)\n",
    "delta_RGB = YCoCg.to_RGB(delta_YCoCg)\n",
    "energy_Co = information.average_energy(delta_RGB)\n",
    "print(\"delta_YCoCg =\", delta_YCoCg, \"<-> delta_RGB =\", delta_RGB, \"=> Cr gain =\", energy_Co)\n",
    "\n",
    "delta_YCoCg = np.array([0, 0, val]).reshape(1,1,3)\n",
    "delta_RGB = YCoCg.to_RGB(delta_YCoCg)\n",
    "energy_Cg = information.average_energy(delta_RGB)\n",
    "print(\"delta_YCoCg =\", delta_YCoCg, \"<-> delta_RGB =\", delta_RGB, \"=> Cb gain =\", energy_Cg)\n",
    "\n",
    "delta_YCoCg = np.array([val, val, val]).reshape(1,1,3)\n",
    "delta_RGB = YCoCg.to_RGB(delta_YCoCg)\n",
    "print(\"delta_YCoCg =\", delta_YCoCg, \"<-> delta_RGB =\", delta_RGB, \"=> Total gain =\", information.average_energy(delta_RGB))"
   ]
  },
  {
   "cell_type": "code",
   "execution_count": null,
   "metadata": {},
   "outputs": [],
   "source": [
    "print(energy_Y/energy_Co, 3/2)"
   ]
  },
  {
   "cell_type": "code",
   "execution_count": null,
   "metadata": {},
   "outputs": [],
   "source": [
    "print(energy_Y/energy_Cg, 3/3)"
   ]
  },
  {
   "cell_type": "markdown",
   "metadata": {},
   "source": [
    "The energy of the components is not additive. The gain of the Cr subband is 1.5 times smaller, independently of the coefficients amplitude."
   ]
  },
  {
   "cell_type": "markdown",
   "metadata": {},
   "source": [
    "## Amplitude shift in the YCrCb domain\n",
    "\n",
    "To decide how to quantize, it is necessary to known how the amplitudes of the image are *translated* to the transformed domain. A good choice to find out this is to transform electronic noise. In our case, lets use a random image with ([normal](https://numpy.org/doc/stable/reference/random/generated/numpy.random.normal.html)) [Gaussian noise](https://en.wikipedia.org/wiki/Gaussian_noise) with mean 128, YCoCg-it, and check where the transformed noise has its mean. Notice that, by definition, the noise cannot be decorrelated by transforms, and therefore, the noise is simply transfered to the transform domain."
   ]
  },
  {
   "cell_type": "code",
   "execution_count": null,
   "metadata": {},
   "outputs": [],
   "source": [
    "# loc = mean, scale=standard deviation, size=number of samples\n",
    "RGB_noise = np.random.normal(loc=128, scale=10, size=512*512*3).reshape(512,512,3).astype(np.int16)\n",
    "RGB_image.show(RGB_noise, \"Gaussian RGB noise\")"
   ]
  },
  {
   "cell_type": "code",
   "execution_count": null,
   "metadata": {
    "scrolled": false
   },
   "outputs": [],
   "source": [
    "YCoCg_noise = YCoCg.from_RGB(RGB_noise)\n",
    "gray_image.show_normalized(YCoCg_noise[..., 0], \"Gaussian Y noise\")\n",
    "gray_image.show_normalized(YCoCg_noise[..., 1], \"Gaussian Co noise\")\n",
    "gray_image.show_normalized(YCoCg_noise[..., 2], \"Gaussian Cg noise\")"
   ]
  },
  {
   "cell_type": "markdown",
   "metadata": {},
   "source": [
    "The YCoCg works as the DCT. The chromas are centered at 0."
   ]
  },
  {
   "cell_type": "markdown",
   "metadata": {},
   "source": [
    "## Simple quantization in the YCoCg domain ($\\Delta_{\\text{Y}} = \\Delta_{\\text{Co}} = \\Delta_{\\text{Cg}}$)\n",
    "Notice that, although the transform is near orthogonal, we will measure the distortion in the RGB domain."
   ]
  },
  {
   "cell_type": "code",
   "execution_count": null,
   "metadata": {
    "scrolled": false
   },
   "outputs": [],
   "source": [
    "def YCoCg_compute_RD_curve_simple(RGB_img, Q_steps, Q):\n",
    "    RGB_img = RGB_img.copy().astype(np.int16)\n",
    "    avg0 = np.average(RGB_img[..., 0]).astype(np.int16)\n",
    "    avg1 = np.average(RGB_img[..., 1]).astype(np.int16)\n",
    "    avg2 = np.average(RGB_img[..., 2]).astype(np.int16)\n",
    "    RGB_img[..., 0] -= avg0\n",
    "    RGB_img[..., 1] -= avg1\n",
    "    RGB_img[..., 2] -= avg2\n",
    "\n",
    "    YCoCg_img = YCoCg.from_RGB(RGB_img)\n",
    "    points = []\n",
    "    RGB_image.show_normalized(RGB_img,'')\n",
    "    for Q_step in Q_steps:\n",
    "        YCoCg_y = np.empty_like(YCoCg_img)\n",
    "        k = np.empty_like(YCoCg_img, dtype=np.uint8)\n",
    "        Q = quantizer(Q_step=Q_step)\n",
    "        YCoCg_y[...,0], k[...,0] = Q.quan_dequan(YCoCg_img[...,0])\n",
    "        YCoCg_y[...,1], k[...,1] = Q.quan_dequan(YCoCg_img[...,1])\n",
    "        YCoCg_y[...,2], k[...,2] = Q.quan_dequan(YCoCg_img[...,2])\n",
    "\n",
    "        #rate = common.bits_per_color_pixel(k.astype(np.uint8), str(Q_step) + '_')\n",
    "        rate = RGB_image.write(k.astype(np.uint8), str(Q_step) + '_', 0)*8/(k.shape[0]*k.shape[1])\n",
    "        RGB_y = YCoCg.to_RGB(YCoCg_y)\n",
    "        _distortion = distortion.RMSE(RGB_img, RGB_y)\n",
    "        RGB_y[..., 0] += avg0\n",
    "        RGB_y[..., 1] += avg1\n",
    "        RGB_y[..., 2] += avg2\n",
    "        #RGB_image.show(RGB_y, '')\n",
    "        points.append((rate, _distortion))\n",
    "        print(f\"q_step={Q_step:>3}, rate={rate:>7} bits/pixel, distortion={_distortion:>6.1f}\")\n",
    "    return points\n",
    "\n",
    "YCoCg_RD_curve_simple = YCoCg_compute_RD_curve_simple(RGB_img, Q_steps, quantizer)"
   ]
  },
  {
   "cell_type": "markdown",
   "metadata": {},
   "source": [
    "## Considering the subband gains ($\\frac{3}{2}\\Delta_{\\text{Y}} = \\Delta_{\\text{Co}} = \\frac{3}{2}\\Delta_{\\text{Cg}}$)\n",
    "Notice that, although the transform is near orthogonal, we will measure the distortion in the RGB domain."
   ]
  },
  {
   "cell_type": "code",
   "execution_count": null,
   "metadata": {},
   "outputs": [],
   "source": [
    "def YCoCg_compute_RD_curve_gains(RGB_img, Q_steps, Q):\n",
    "    relative_Y_gain = 1\n",
    "    relative_Co_gain = 2/3\n",
    "    relative_Cg_gain = 1\n",
    "\n",
    "    RGB_img = RGB_img.copy().astype(np.int16)\n",
    "    avg0 = np.average(RGB_img[..., 0]).astype(np.int16)\n",
    "    avg1 = np.average(RGB_img[..., 1]).astype(np.int16)\n",
    "    avg2 = np.average(RGB_img[..., 2]).astype(np.int16)\n",
    "    RGB_img[..., 0] -= avg0\n",
    "    RGB_img[..., 1] -= avg1\n",
    "    RGB_img[..., 2] -= avg2\n",
    "\n",
    "    YCoCg_img = YCoCg.from_RGB(RGB_img)\n",
    "    points = []\n",
    "    #RGB_image.show_normalized(RGB_img,'')\n",
    "    for Q_step in Q_steps:\n",
    "        #YCoCg_y = np.empty_like(YCoCg_img)\n",
    "        YCoCg_y = np.copy(YCoCg_img)\n",
    "        k = np.empty_like(YCoCg_img, dtype=np.uint8)\n",
    "        relative_Y_Q_step = int(Q_step/relative_Y_gain)\n",
    "        relative_Co_Q_step = int(Q_step/relative_Co_gain)\n",
    "        relative_Cg_Q_step = int(Q_step/relative_Cg_gain)\n",
    "        Q = quantizer(Q_step=relative_Y_Q_step)\n",
    "        YCoCg_y[...,0], k[...,0] = Q.quan_dequan(YCoCg_y[...,0])\n",
    "        Q = quantizer(Q_step=relative_Co_Q_step)\n",
    "        YCoCg_y[...,1], k[...,1] = Q.quan_dequan(YCoCg_y[...,1])\n",
    "        Q = quantizer(Q_step=relative_Cg_Q_step)\n",
    "        YCoCg_y[...,2], k[...,2] = Q.quan_dequan(YCoCg_y[...,2])\n",
    "\n",
    "        #rate = common.bits_per_color_pixel(k.astype(np.uint8), str(Q_step) + '_')\n",
    "        rate = RGB_image.write(k.astype(np.uint8), str(Q_step) + '_', 0)*8/(k.shape[0]*k.shape[1])\n",
    "        RGB_y = YCoCg.to_RGB(YCoCg_y)\n",
    "        _distortion = distortion.RMSE(RGB_img, RGB_y)\n",
    "        RGB_y[..., 0] += avg0\n",
    "        RGB_y[..., 1] += avg1\n",
    "        RGB_y[..., 2] += avg2\n",
    "        #RGB_image.show(RGB_y, f\"{Q_step}\")\n",
    "        points.append((rate, _distortion))\n",
    "        print(f\"Q_step_pattern={[relative_Y_Q_step, relative_Co_Q_step, relative_Cg_Q_step]}, rate={rate:>7} bits/pixel, distortion={_distortion:>6.1f}\")\n",
    "    return points\n",
    "\n",
    "YCoCg_RD_curve_gains = YCoCg_compute_RD_curve_gains(RGB_img, Q_steps, quantizer)"
   ]
  },
  {
   "cell_type": "code",
   "execution_count": null,
   "metadata": {},
   "outputs": [],
   "source": [
    "pylab.figure(dpi=150)\n",
    "#pylab.plot(*zip(*RGB_DCT_SQ), c='g', marker='.', label=\"DCT\", linestyle=\"dashed\")\n",
    "pylab.plot(*zip(*YCoCg_RD_curve_simple), c='b', marker='.', label=\"$\\mathbf{\\Delta}^{\\mathrm{Y}}_i = \\mathbf{\\Delta}^{\\mathrm{Co}}_i = \\mathbf{\\Delta}^{\\mathrm{Cg}}_i$\", linestyle=\"dotted\")\n",
    "pylab.plot(*zip(*YCoCg_RD_curve_gains), c='r', marker='.', label=\"$(3/2)\\Delta_{\\mathrm{Y}} = \\Delta_{\\mathrm{Co}} = (3/2)\\Delta_{\\mathrm{Cg}}$\", linestyle=\"dotted\")\n",
    "pylab.title(fn)\n",
    "pylab.xlabel(\"BPP\")\n",
    "pylab.ylabel(\"RMSE\")\n",
    "pylab.legend(loc='upper right')\n",
    "pylab.show()"
   ]
  },
  {
   "cell_type": "markdown",
   "metadata": {},
   "source": [
    "As it can be seen, the ($(3/2)\\Delta_{\\mathrm{Y}} = \\Delta_{\\mathrm{Co}} = (3/2)\\Delta_{\\mathrm{Cg}}$)-curve is slightly better than the ($\\Delta_{\\mathrm{Y}} = \\Delta_{\\mathrm{Co}} = \\Delta_{\\mathrm{Cg}}$)-curve, particularly at low bit-rates, that is where we are more interested in the RD performance. Therefore, as a general rule, the quantization steps must be adjusted to the gains of the subbands, reducing the quantization step in those subbands with the higher gains."
   ]
  },
  {
   "cell_type": "markdown",
   "metadata": {},
   "source": [
    "## Compare"
   ]
  },
  {
   "cell_type": "code",
   "execution_count": null,
   "metadata": {},
   "outputs": [],
   "source": [
    "N_Q_steps = 8\n",
    "#Q_steps = [int(256*i/N_Q_steps) for i in range(N_Q_steps + 1, 0, -1)]\n",
    "Q_steps = [2**i for i in range(N_Q_steps - 1, -1, -1)]"
   ]
  },
  {
   "cell_type": "code",
   "execution_count": null,
   "metadata": {},
   "outputs": [],
   "source": [
    "YCoCg_RD_curve_gains = YCoCg_compute_RD_curve_gains(RGB_img, Q_steps, quantizer)"
   ]
  },
  {
   "cell_type": "code",
   "execution_count": null,
   "metadata": {},
   "outputs": [],
   "source": [
    "RGB_DCT_SQ = []\n",
    "with open(f'../RGB_DCT_SQ/RGB_DCT_SQ.txt', 'r') as f:\n",
    "    for line in f:\n",
    "        rate, _distortion = line.split('\\t')\n",
    "        RGB_DCT_SQ.append((float(rate), float(_distortion)))"
   ]
  },
  {
   "cell_type": "code",
   "execution_count": null,
   "metadata": {},
   "outputs": [],
   "source": [
    "pylab.figure(dpi=150)\n",
    "pylab.plot(*zip(*RGB_DCT_SQ), c='g', marker='.', label=\"DCT\", linestyle=\"dashed\")\n",
    "pylab.plot(*zip(*YCoCg_RD_curve_gains), c='r', marker='.', label=\"$(3/2)\\Delta_{\\mathrm{Y}} = \\Delta_{\\mathrm{Co}} = (3/2)\\Delta_{\\mathrm{Cg}}$\", linestyle=\"dotted\")\n",
    "pylab.title(fn)\n",
    "pylab.xlabel(\"BPP\")\n",
    "pylab.ylabel(\"RMSE\")\n",
    "pylab.legend(loc='upper right')\n",
    "pylab.show()"
   ]
  },
  {
   "cell_type": "markdown",
   "metadata": {},
   "source": [
    "Both transforms RD-performs quite similar."
   ]
  },
  {
   "cell_type": "code",
   "execution_count": null,
   "metadata": {},
   "outputs": [],
   "source": [
    "with open('YCoCg_SQ.txt', 'w') as f:\n",
    "    for item in YCoCg_RD_curve_gains:\n",
    "        f.write(f\"{item[0]}\\t{item[1]}\\n\")"
   ]
  },
  {
   "cell_type": "code",
   "execution_count": null,
   "metadata": {},
   "outputs": [],
   "source": [
    "import time\n",
    "while True:\n",
    "    time.sleep(1)"
   ]
  },
  {
   "cell_type": "markdown",
   "metadata": {},
   "source": [
    "## Ignore the rest ..."
   ]
  },
  {
   "cell_type": "code",
   "execution_count": null,
   "metadata": {},
   "outputs": [],
   "source": [
    "def YCoCg_RD_curve(RGB_img):\n",
    "    RD_points = []\n",
    "    #for q_step in range(0, 8):\n",
    "    for Q_step in range(1, 256):\n",
    "        YCoCg_img = YCoCg.from_RGB(RGB_img.astype(np.int16))\n",
    "        #k, dequantized_YCoCg_img = q_deq(YCoCg_img, 1<<q_step)\n",
    "        k, dequantized_YCoCg_img = q_deq(YCoCg_img, Q_step)\n",
    "        k = k.astype(np.uint8)\n",
    "        rate = bits_per_RGB_pixel(k)\n",
    "        dequantized_RGB_img = YCoCg.to_RGB(dequantized_YCoCg_img)\n",
    "        _distortion = distortion.RMSE(RGB_img, dequantized_RGB_img)\n",
    "        RD_points.append((rate, _distortion))\n",
    "        print(f\"Q_step={Q_step:>3}, rate={rate:>7} BPS, distortion={_distortion:>6.1f}\")\n",
    "    return RD_points\n",
    "\n",
    "#YCoCg_points = YCoCg_RD_curve(img)\n",
    "\n",
    "relative_Y_gain = 3/2\n",
    "relative_Co_gain = 1\n",
    "relative_Cg_gain = 3/2\n",
    "def YCoCg_RD_curve_with_gains(RGB_img):\n",
    "    RD_points = []\n",
    "    #for q_step in range(0, 8):\n",
    "    for Q_step in range(1, 256):\n",
    "        YCoCg_img = YCoCg.from_RGB(RGB_img.astype(np.int16))\n",
    "        dequantized_YCoCg_img = np.empty_like(YCoCg_img)\n",
    "        k = np.empty_like(YCoCg_img, dtype=np.uint8)\n",
    "        k[:,:,0], dequantized_YCoCg_img[:,:,0] = q_deq(YCoCg_img[:,:,0], (Q_step)/relative_Y_gain)\n",
    "        k[:,:,1], dequantized_YCoCg_img[:,:,1] = q_deq(YCoCg_img[:,:,1], (Q_step)/relative_Co_gain)\n",
    "        k[:,:,2], dequantized_YCoCg_img[:,:,2] = q_deq(YCoCg_img[:,:,2], (Q_step)/relative_Cg_gain)\n",
    "        #k[0], dequantized_YCoCg_img[0] = q_deq(YCoCg_img[0], q_step/relative_Y_gain)\n",
    "        #k[1], dequantized_YCoCg_img[1] = q_deq(YCoCg_img[1], q_step/relative_Co_gain)\n",
    "        #k[2], dequantized_YCoCg_img[2] = q_deq(YCoCg_img[2], q_step/relative_Cg_gain)\n",
    "        rate = bits_per_RGB_pixel(k)\n",
    "        dequantized_RGB_img = YCoCg.to_RGB(dequantized_YCoCg_img)\n",
    "        _distortion = distortion.RMSE(RGB_img, dequantized_RGB_img)\n",
    "        RD_points.append((rate, _distortion))\n",
    "        print(f\"Q_step={Q_step:>3}, rate={rate:>7} BPS, distortion={_distortion:>6.1f}\")\n",
    "    return RD_points\n",
    "\n",
    "#YCoCg_gains_points = YCoCg_RD_curve_with_gains(img)"
   ]
  },
  {
   "cell_type": "markdown",
   "metadata": {},
   "source": [
    "## Compare with the DCT"
   ]
  },
  {
   "cell_type": "code",
   "execution_count": null,
   "metadata": {},
   "outputs": [],
   "source": [
    "pylab.figure(dpi=150)\n",
    "pylab.plot(*zip(*DCT_RD_curve), c='r', marker='.', label=\"DCT\", linestyle=\"dashed\")\n",
    "pylab.plot(*zip(*YCoCg_RD_curve_simple), c='r', marker='.', label=\"$\\Delta_{\\mathrm{Y}} = \\Delta_{\\mathrm{Co}} = \\Delta_{\\mathrm{Cg}}$\", linestyle=\"dotted\")\n",
    "pylab.title(fn)\n",
    "pylab.xlabel(\"BPP\")\n",
    "pylab.ylabel(\"RMSE\")\n",
    "pylab.legend(loc='upper right')\n",
    "pylab.show()"
   ]
  },
  {
   "cell_type": "markdown",
   "metadata": {},
   "source": [
    "## RD curve of each YCoCg component"
   ]
  },
  {
   "cell_type": "code",
   "execution_count": null,
   "metadata": {},
   "outputs": [],
   "source": [
    "def YCoCg_compute_RD_curve_per_component(RGB_img, Q_steps, Q, components):\n",
    "    relative_Y_gain = 3/2\n",
    "    relative_Co_gain = 1\n",
    "    relative_Cg_gain = 3/2\n",
    "\n",
    "    RGB_img = RGB_img.astype(np.int16)\n",
    "    RGB_img[..., 0] -= np.average(RGB_img[..., 0]).astype(np.int16)\n",
    "    RGB_img[..., 1] -= np.average(RGB_img[..., 1]).astype(np.int16)\n",
    "    RGB_img[..., 2] -= np.average(RGB_img[..., 2]).astype(np.int16)\n",
    "    \n",
    "    YCoCg_img = YCoCg.from_RGB(RGB_img)\n",
    "    YCoCg_img_copy = YCoCg_img.copy()\n",
    "    N_components = len(components)\n",
    "    RD_points = []\n",
    "    for c in range(N_components):\n",
    "        RD_points.append([])\n",
    "    for Q_step in Q_steps:\n",
    "        k = np.empty_like(YCoCg_img, dtype=np.uint8)\n",
    "        k[...,0] = Q.quantize(YCoCg_img[...,0], (Q_step)/relative_Y_gain)\n",
    "        k[...,1] = Q.quantize(YCoCg_img[...,1], (Q_step)/relative_Co_gain)\n",
    "        k[...,2] = Q.quantize(YCoCg_img[...,2], (Q_step)/relative_Cg_gain)\n",
    "        YCoCg_k = Q.quantize(YCoCg_img, Q_step)\n",
    "        for component_index in range(N_components):\n",
    "            component_name = components[component_index]\n",
    "            #YCoCg_y = np.zeros_like(YCoCg_img)\n",
    "            YCoCg_y = YCoCg_img_copy.copy()\n",
    "            YCoCg_y[..., component_index] = Q.dequantize(YCoCg_k[..., component_index], Q_step)\n",
    "            #rate = common.bits_per_gray_pixel(YCoCg_k[..., component_index], str(Q_step) + '_' + component_name + '_' + str(components[component_index]))\n",
    "            rate = gray_image.write(YCoCg_k[..., component_index], str(Q_step) + '_' + component_name + '_' + str(components[component_index]), 0)*8/YCoCg_k[..., component_index].size\n",
    "            RGB_y = YCoCg.to_RGB(YCoCg_y)\n",
    "            _distortion = distortion.RMSE(RGB_img, RGB_y)\n",
    "            #common.show(RGB_y, components[component_index] + ' ' + str(Q_step))\n",
    "            RD_points[component_index].append((rate, _distortion, component_name, Q_step))\n",
    "            print(f\"{components[component_index]} q_step={Q_step:>3}, rate={rate:>7} bits/pixel, distortion={_distortion:>6.1f}\")\n",
    "    return RD_points\n",
    "           \n",
    "YCoCg_RD_curve_per_component = YCoCg_compute_RD_curve_per_component(RGB_img, Q_steps, Q, YCoCg_components)\n",
    "YCoCg_RD_curve_per_component"
   ]
  },
  {
   "cell_type": "markdown",
   "metadata": {},
   "source": [
    "## Display the curves of the components"
   ]
  },
  {
   "cell_type": "code",
   "execution_count": null,
   "metadata": {},
   "outputs": [],
   "source": [
    "pylab.figure(dpi=150)\n",
    "#pylab.plot(*zip(*YCoCg_points), c='m', marker=\"x\",\n",
    "#           label='$\\Delta_{\\mathrm{Y}} = \\Delta_{\\mathrm{Co}} = \\Delta_{\\mathrm{Cg}}$')\n",
    "pylab.plot(*zip(*[(i[0], i[1]) for i in YCoCg_RD_curve_per_component[0]]), c='r', marker=\"o\", label='Y')              \n",
    "pylab.plot(*zip(*[(i[0], i[1]) for i in YCoCg_RD_curve_per_component[1]]), c='g', marker=\"o\", label=\"Co\")              \n",
    "pylab.plot(*zip(*[(i[0], i[1]) for i in YCoCg_RD_curve_per_component[2]]), c='b', marker=\"o\", label=\"Cb\")              \n",
    "pylab.title(\"RD Performance\")\n",
    "pylab.xlabel(\"Bits/Pixel\")\n",
    "pylab.ylabel(\"RMSE\")\n",
    "plt.legend(loc='upper right')\n",
    "pylab.show()"
   ]
  },
  {
   "cell_type": "markdown",
   "metadata": {},
   "source": [
    "## Compute the slope of each point"
   ]
  },
  {
   "cell_type": "code",
   "execution_count": null,
   "metadata": {},
   "outputs": [],
   "source": [
    "def compute_slope(left_BPP, left_MSE, right_BPP, right_MSE):\n",
    "    delta_BPP = right_BPP - left_BPP\n",
    "    delta_MSE = left_MSE - right_MSE\n",
    "    if delta_BPP > 0:\n",
    "        slope = delta_MSE / delta_BPP\n",
    "    else:\n",
    "        slope = 0\n",
    "    return slope\n",
    "\n",
    "def compute_slopes(RD_points):\n",
    "    counter = 0\n",
    "    _RD_slopes = []\n",
    "    points_iterator = iter(RD_points)\n",
    "    left = next(points_iterator)\n",
    "    left_BPP = left[0]\n",
    "    left_MSE = left[1]\n",
    "    right = next(points_iterator)\n",
    "    right_BPP = right[0]\n",
    "    right_MSE = right[1]\n",
    "    slope = compute_slope(left_BPP, left_MSE, right_BPP, right_MSE)\n",
    "    _RD_slopes.append((slope, left[2], left[3]))\n",
    "    _RD_slopes.append((slope, right[2], right[3]))\n",
    "    left = right\n",
    "    for right in points_iterator:\n",
    "        right_BPP = right[0]\n",
    "        right_MSE = right[1]\n",
    "        #print(RD_points[counter])\n",
    "        slope = compute_slope(left_BPP, left_MSE, right_BPP, right_MSE)\n",
    "        _RD_slopes.append((slope, right[2], right[3]))\n",
    "        counter += 1\n",
    "        left = right\n",
    "        left_BPP = left[0]\n",
    "        left_MSE = left[1]\n",
    "        #left_BPP = right_BPP\n",
    "        #left_MSE = right_MSE\n",
    "    RD_slopes = []\n",
    "    slopes_iterator = iter(_RD_slopes)\n",
    "    left = next(slopes_iterator)\n",
    "    #print(\"-->\",_RD_slopes)\n",
    "    #return _RD_slopes\n",
    "    #RD_slopes.append(left)\n",
    "    #print(left)\n",
    "    for right in slopes_iterator:\n",
    "        #print(left, right)\n",
    "        RD_slopes.append((((left[0] + right[0])/2), right[1], left[2]))\n",
    "        left = right\n",
    "    RD_slopes.append(right)\n",
    "    return RD_slopes"
   ]
  },
  {
   "cell_type": "code",
   "execution_count": null,
   "metadata": {},
   "outputs": [],
   "source": [
    "Y_slopes = compute_slopes(YCoCg_RD_curve_per_component[0])\n",
    "Co_slopes = compute_slopes(YCoCg_RD_curve_per_component[1])\n",
    "Cg_slopes = compute_slopes(YCoCg_RD_curve_per_component[2])"
   ]
  },
  {
   "cell_type": "code",
   "execution_count": null,
   "metadata": {},
   "outputs": [],
   "source": [
    "Y_slopes"
   ]
  },
  {
   "cell_type": "code",
   "execution_count": null,
   "metadata": {},
   "outputs": [],
   "source": [
    "Co_slopes"
   ]
  },
  {
   "cell_type": "code",
   "execution_count": null,
   "metadata": {},
   "outputs": [],
   "source": [
    "Cg_slopes"
   ]
  },
  {
   "cell_type": "markdown",
   "metadata": {},
   "source": [
    "## Filter the curves\n",
    "Remove those RD points that do not belong to the convex-hull."
   ]
  },
  {
   "cell_type": "code",
   "execution_count": null,
   "metadata": {},
   "outputs": [],
   "source": [
    "def filter_slopes(slopes):\n",
    "    filtered_slopes = []\n",
    "    slopes_iterator = iter(slopes)\n",
    "    prev = next(slopes_iterator)\n",
    "    for curr in slopes_iterator:\n",
    "        if prev[0] < curr[0]:\n",
    "            print(f\"deleted {prev}\")\n",
    "        else:\n",
    "            filtered_slopes.append(prev)\n",
    "        prev = curr\n",
    "    filtered_slopes.append(prev)\n",
    "    return filtered_slopes"
   ]
  },
  {
   "cell_type": "code",
   "execution_count": null,
   "metadata": {},
   "outputs": [],
   "source": [
    "Y_slopes = filter_slopes(Y_slopes)\n",
    "Y_slopes"
   ]
  },
  {
   "cell_type": "code",
   "execution_count": null,
   "metadata": {},
   "outputs": [],
   "source": [
    "Co_slopes = filter_slopes(Co_slopes)\n",
    "Co_slopes"
   ]
  },
  {
   "cell_type": "code",
   "execution_count": null,
   "metadata": {},
   "outputs": [],
   "source": [
    "Cg_slopes = filter_slopes(Cg_slopes)\n",
    "Cg_slopes"
   ]
  },
  {
   "cell_type": "markdown",
   "metadata": {},
   "source": [
    "## Sort the slopes at each quantization step\n",
    "Notice that the TPs (Truncation Points) generated in a component must be used in order."
   ]
  },
  {
   "cell_type": "code",
   "execution_count": null,
   "metadata": {},
   "outputs": [],
   "source": [
    "all_slopes = Y_slopes + Co_slopes + Cg_slopes\n",
    "sorted_slopes = sorted(all_slopes, key=lambda x: x[0])[::-1]\n",
    "sorted_slopes"
   ]
  },
  {
   "cell_type": "markdown",
   "metadata": {},
   "source": [
    "## Compute the optimal RD curve\n",
    "And finally, let's compute the RD curve (remember that the previous points are only an estimation of the order in which the quantization steps should be increased in each component to build the RD curve, not the real RD curve that measures the distortion in the RGB domain)."
   ]
  },
  {
   "cell_type": "code",
   "execution_count": null,
   "metadata": {
    "scrolled": false
   },
   "outputs": [],
   "source": [
    "def YCoCg_compute_optimal_curve(RGB_img, sorted_slopes, Q, components):\n",
    "    relative_gain = []\n",
    "    relative_gain.append(3/2)\n",
    "    relative_gain.append(1)\n",
    "    relative_gain.append(3/2)\n",
    "\n",
    "    RGB_img = RGB_img.astype(np.int16)\n",
    "    \n",
    "    #RGB_img[..., 0] -= np.average(RGB_img[..., 0]).astype(np.int16)\n",
    "    #RGB_img[..., 1] -= np.average(RGB_img[..., 1]).astype(np.int16)\n",
    "    #RGB_img[..., 2] -= np.average(RGB_img[..., 2]).astype(np.int16)\n",
    "    avgs = [np.average(RGB_img[..., c]) for c in range(3)]\n",
    "    print(f\"avgs={avgs}\")\n",
    "    for c in range(3):\n",
    "        RGB_img[..., c] -= int(avgs[c])\n",
    "\n",
    "    RD_points = []\n",
    "    Q_steps_per_component = [256, 256, 256] # This should generate a black image (the average of each component is 0).\n",
    "    YCoCg_img = YCoCg.from_RGB(RGB_img)\n",
    "    for i in sorted_slopes:\n",
    "        component, Q_step = i[1], i[2]\n",
    "        Q_steps_per_component[components.index(component)] = Q_step\n",
    "        YCoCg_k = np.empty_like(YCoCg_img, dtype=np.int16)\n",
    "        YCoCg_y = np.empty_like(YCoCg_img)\n",
    "        for c, Q_step in zip(components, Q_steps_per_component):\n",
    "            component_index = components.index(c)\n",
    "            YCoCg_k[..., component_index] = Q.quantize(YCoCg_img[..., component_index], Q_step/relative_gain[component_index])\n",
    "            YCoCg_y[..., component_index] = Q.dequantize(YCoCg_k[..., component_index], Q_step/relative_gain[component_index])\n",
    "        #rate = common.bits_per_color_pixel((YCoCg_k + 128).astype(np.uint8), str(Q_steps_per_component) + '_')\n",
    "        rate = RGB_image.write((YCoCg_k + 128).astype(np.uint8), str(Q_steps_per_component).replace(\" \", \"\").replace(\"[\", \"\").replace(\"]\",\"\").replace(\",\",\"_\") + '_', 0)*8/YCoCg_k.size\n",
    "        RGB_y = YCoCg.to_RGB(YCoCg_y)\n",
    "        #RGB_y = YCoCg.to_RGB(YCoCg_img)\n",
    "        #common.show(YCoCg_k)\n",
    "        _distortion = distortion.RMSE(RGB_img, RGB_y)\n",
    "        for c in range(3):\n",
    "            RGB_y[..., c] += int(avgs[c])\n",
    "        RGB_image.show(RGB_y, f\"Q_step={Q_steps_per_component}, rate={rate:>7} bits/pixel, distortion={_distortion:>6.1f}\")\n",
    "        RD_points.append((rate, _distortion))\n",
    "        print(f\"Q_step={Q_steps_per_component}, rate={rate:>7} bits/pixel, distortion={_distortion:>6.1f}\")\n",
    "    return RD_points\n",
    "\n",
    "YCoCg_optimal_RD_points = YCoCg_compute_optimal_curve(RGB_img, sorted_slopes, Q, YCoCg_components)\n",
    "YCoCg_optimal_RD_points"
   ]
  },
  {
   "cell_type": "markdown",
   "metadata": {},
   "source": [
    "## Compare the curves"
   ]
  },
  {
   "cell_type": "code",
   "execution_count": null,
   "metadata": {},
   "outputs": [],
   "source": [
    "pylab.figure(dpi=150)\n",
    "pylab.plot(*zip(*YCoCg_simple_RD_curve), c='b', marker='o', label=\"$(3/2)\\Delta_{\\mathrm{Y}} = \\Delta_{\\mathrm{Co}} = (3/2)\\Delta_{\\mathrm{Cg}}$\", linestyle=\"dashed\")\n",
    "pylab.plot(*zip(*YCoCg_optimal_RD_points), c='r', marker='x', label=\"RDO\", linestyle=\"dotted\")\n",
    "pylab.title(fn)\n",
    "pylab.xlabel(\"Bits/Pixel\")\n",
    "pylab.ylabel(\"RMSE in RGB domain\")\n",
    "pylab.legend(loc='upper right')\n",
    "pylab.show()"
   ]
  },
  {
   "cell_type": "code",
   "execution_count": null,
   "metadata": {},
   "outputs": [],
   "source": [
    "with open('YCoCg.txt', 'w') as f:\n",
    "    for item in YCoCg_optimal_RD_points:\n",
    "        f.write(f\"{item[0]}\\t{item[1]}\\n\")"
   ]
  },
  {
   "cell_type": "markdown",
   "metadata": {},
   "source": [
    "## Conclusión\n",
    "The performance of the simple quantization solution ($(3/2)\\Delta_{\\mathrm{Y}} = \\Delta_{\\mathrm{Co}} = (3/2)\\Delta_{\\mathrm{Cg}}$\n",
    ") is very close to the optimal one."
   ]
  },
  {
   "cell_type": "markdown",
   "metadata": {},
   "source": [
    "## Lets compare"
   ]
  },
  {
   "cell_type": "code",
   "execution_count": null,
   "metadata": {
    "scrolled": false
   },
   "outputs": [],
   "source": [
    "DCT_points = []\n",
    "with open(f'./color_DCT.txt', 'r') as f:\n",
    "    for line in f:\n",
    "        rate, _distortion = line.split('\\t')\n",
    "        DCT_points.append((float(rate), float(_distortion)))\n",
    "        \n",
    "YCrCb_points = []\n",
    "with open(f'./YCrCb.txt', 'r') as f:\n",
    "    for line in f:\n",
    "        rate, _distortion = line.split('\\t')\n",
    "        YCrCb_points.append((float(rate), float(_distortion)))\n",
    "        \n",
    "YCoCg_points = []\n",
    "with open(f'./YCoCg.txt', 'r') as f:\n",
    "    for line in f:\n",
    "        rate, _distortion = line.split('\\t')\n",
    "        YCoCg_points.append((float(rate), float(_distortion)))\n",
    "        \n",
    "pylab.figure(dpi=150)\n",
    "pylab.plot(*zip(*DCT_points), c='b', marker='o', label=\"Quantizing in the color-DCT domain\", linestyle=\"dashed\")\n",
    "pylab.plot(*zip(*YCrCb_points), c='r', marker='x', label=\"Quantizing in the YCrCb domain\", linestyle=\"dotted\")\n",
    "pylab.plot(*zip(*YCoCg_points), c='g', marker='x', label=\"Quantizing in the YCoCg domain\", linestyle=\"dotted\")\n",
    "pylab.title(\"Rate/Distortion\")\n",
    "pylab.xlabel(\"Bits/Pixel\")\n",
    "pylab.ylabel(\"RMSE in RGB domain\")\n",
    "pylab.legend(loc='upper right')\n",
    "pylab.show()"
   ]
  },
  {
   "cell_type": "markdown",
   "metadata": {},
   "source": [
    "## Ignore the rest ..."
   ]
  },
  {
   "cell_type": "markdown",
   "metadata": {},
   "source": [
    "Conclusions:\n",
    "1. The distortions are not additive.\n",
    "2. The slopes of the curves for different quantization steps are different.\n",
    "3. The channel Y should be quantized less."
   ]
  },
  {
   "cell_type": "markdown",
   "metadata": {},
   "source": [
    "## Compute the slopes\n",
    "In a different list for each component."
   ]
  },
  {
   "cell_type": "code",
   "execution_count": null,
   "metadata": {},
   "outputs": [],
   "source": [
    "def compute_slopes(RD_points):\n",
    "    extended_RD_points = [(0.0, 0.0, '', -1)] + RD_points\n",
    "    counter = 0\n",
    "    RD_slopes = [(9.0E9, RD_points[0])]\n",
    "    points_iterator = iter(RD_points)\n",
    "    next(points_iterator)\n",
    "    for i in points_iterator:\n",
    "        BPP = i[0] # Rate \n",
    "        delta_BPP = BPP - RD_points[counter][0]\n",
    "        MSE = i[1] # Distortion\n",
    "        delta_MSE = MSE - RD_points[counter][1] \n",
    "        if delta_BPP > 0:\n",
    "            slope = abs(delta_MSE/delta_BPP)\n",
    "        else:\n",
    "            slope = 0\n",
    "        component = i[2]\n",
    "        q_step = i[3]\n",
    "        print((slope, i), delta_MSE, delta_BPP)\n",
    "        RD_slopes.append((slope, i))\n",
    "        counter += 1\n",
    "    return RD_slopes\n",
    "\n",
    "Yrb_slopes = compute_slopes(Yrb_points)\n",
    "Cr_slopes = compute_slopes(Cr_points)\n",
    "Cb_slopes = compute_slopes(Cb_points)\n",
    "\n",
    "Yog_slopes = compute_slopes(Yog_points)\n",
    "Co_slopes = compute_slopes(Co_points)\n",
    "Cg_slopes = compute_slopes(Cg_points)"
   ]
  },
  {
   "cell_type": "markdown",
   "metadata": {},
   "source": [
    "## Merge the RD slopes and sort them\n",
    "By slope."
   ]
  },
  {
   "cell_type": "code",
   "execution_count": null,
   "metadata": {},
   "outputs": [],
   "source": [
    "all_YCrCb_slopes = Yrb_slopes + Cr_slopes + Cb_slopes\n",
    "sorted_YCrCb_slopes = sorted(all_YCrCb_slopes, key=lambda x: x[0])[::-1]\n",
    "\n",
    "all_YCoCg_slopes = Yog_slopes + Co_slopes + Cg_slopes\n",
    "sorted_YCoCg_slopes = sorted(all_YCoCg_slopes, key=lambda x: x[0])[::-1]"
   ]
  },
  {
   "cell_type": "markdown",
   "metadata": {},
   "source": [
    "## Build the RD curve\n",
    "\n",
    "Progressively quantize the image using the Q_steps described in the sorted list of monotonously decreasing slopes, and then, compute the distortion and the bit-rate. Remember that the quantization indexes images must be normalized or equalized to be displayed properly, and also, that they are in the YUV domain."
   ]
  },
  {
   "cell_type": "code",
   "execution_count": null,
   "metadata": {},
   "outputs": [],
   "source": [
    "# Falta hacer la transformada!!\n",
    "\n",
    "def YCrCb_get_suboptimal_RD_curve(RGB_img, sorted_slopes, components):\n",
    "    points = []\n",
    "    Q_steps_per_component = [256, 256, 256] # This should generate a black image.\n",
    "    k = np.empty_like(RGB_img)\n",
    "    y = np.empty_like(RGB_img)\n",
    "    YCrCb_img = YCrCb.from_RGB(RGB_img.astype(np.uint8))\n",
    "    for i in sorted_slopes:\n",
    "        point = i[1]\n",
    "        component = point[2]\n",
    "        Q_step = point[3]\n",
    "        Q_steps_per_component[components.index(component)] = Q_step\n",
    "        #print(i, Q_steps_per_component)\n",
    "        for c,Q_step in zip(components, Q_steps_per_component):\n",
    "            k[..., components.index(c)], y[..., components.index(c)] = q_deq(YCrCb_img[..., components.index(c)], Q_step)\n",
    "        k = k.astype(np.uint8)\n",
    "        rate = bits_per_RGB_pixel(k, str(Q_steps_per_component) + '_')\n",
    "        #_distortion = distortion.MSE(YCrCb_img, y)\n",
    "        #YCoCg_img[...,2] = dequantized_Cg_img\n",
    "        dequantized_RGB_img = YCrCb.to_RGB(y)\n",
    "        _distortion = distortion.MSE(RGB_img, dequantized_RGB_img)        \n",
    "        points.append((rate, _distortion))\n",
    "        print(f\"Q_step={Q_steps_per_component}, rate={rate:>7} bits/pixel, distortion={_distortion:>6.1f}\")\n",
    "    return points\n",
    "\n",
    "def YCoCg_get_suboptimal_RD_curve(RGB_img, sorted_slopes, components):\n",
    "    points = []\n",
    "    Q_steps_per_component = [256, 256, 256] # This should generate a black image.\n",
    "    k = np.empty_like(RGB_img)\n",
    "    y = np.empty_like(RGB_img)\n",
    "    YCrCb_img = YCoCg.from_RGB(RGB_img.astype(np.int16))\n",
    "    for i in sorted_slopes:\n",
    "        point = i[1]\n",
    "        component = point[2]\n",
    "        Q_step = point[3]\n",
    "        Q_steps_per_component[components.index(component)] = Q_step\n",
    "        #print(i, Q_steps_per_component)\n",
    "        for c,Q_step in zip(components, Q_steps_per_component):\n",
    "            k[..., components.index(c)], y[..., components.index(c)] = q_deq(YCrCb_img[..., components.index(c)], Q_step)\n",
    "        k = k.astype(np.uint8)\n",
    "        rate = bits_per_RGB_pixel(k, str(Q_steps_per_component) + '_')\n",
    "        #_distortion = distortion.MSE(YCrCb_img, y)\n",
    "        #YCoCg_img[...,2] = dequantized_Cg_img\n",
    "        dequantized_RGB_img = YCoCg.to_RGB(y)\n",
    "        _distortion = distortion.MSE(RGB_img, dequantized_RGB_img)        \n",
    "        points.append((rate, _distortion))\n",
    "        print(f\"Q_step={Q_steps_per_component}, rate={rate:>7} bits/pixel, distortion={_distortion:>6.1f}\")\n",
    "    return points\n",
    "\n",
    "YCrCb_suboptimal_points = YCrCb_get_suboptimal_RD_curve(img, sorted_YCrCb_slopes, ['Yrb', 'Cr', 'Cb'])\n",
    "YCoCg_suboptimal_points = YCoCg_get_suboptimal_RD_curve(img, sorted_YCoCg_slopes, ['Yog', 'Co', 'Cg'])"
   ]
  },
  {
   "cell_type": "markdown",
   "metadata": {},
   "source": [
    "## Optimal quantization in the RGB domain\n",
    "See [RGB_quantization.ipynb](file:///home/vruiz/Sistemas-Multimedia.github.io/milestones/05-RGB_quantization/RGB_quantization.ipynb)."
   ]
  },
  {
   "cell_type": "code",
   "execution_count": null,
   "metadata": {},
   "outputs": [],
   "source": [
    "RGB_points = []\n",
    "with open('../05-RGB_quantization/RGB.txt', 'r') as f:\n",
    "    #rate, _distortion = f.read()\n",
    "    #RGB_points.append((rate, _distortion))\n",
    "    for line in f:\n",
    "        rate, _distortion = line.split('\\t')\n",
    "        RGB_points.append((float(rate), float(_distortion)))"
   ]
  },
  {
   "cell_type": "markdown",
   "metadata": {},
   "source": [
    "## RD curve using same $\\Delta$ for each YUV channel ($\\Delta_{\\text{Y}} = \\Delta_{\\text{U}} = \\Delta_{\\text{V}}$)"
   ]
  },
  {
   "cell_type": "code",
   "execution_count": null,
   "metadata": {
    "scrolled": false
   },
   "outputs": [],
   "source": [
    "def YCrCb_RD_curve_same_delta(RGB_img):\n",
    "    RD_points = []\n",
    "    for q in range(0, 8):\n",
    "        YCrCb_img = YCrCb.from_RGB(RGB_img.astype(np.uint8))\n",
    "        #YCrCb_img = YCrCb_img.astype(np.int16)\n",
    "        k, dequantized_YCrCb_img = q_deq(YCrCb_img, 1<<q)\n",
    "        k = k.astype(np.uint8)\n",
    "        #show(dequantized_YCrCb_img, q_step)\n",
    "        rate = bits_per_RGB_pixel(k, \"YCrCb\" + str(1<<q) + \"_\")\n",
    "        dequantized_RGB_img = YCrCb.to_RGB(dequantized_YCrCb_img.astype(np.uint8))\n",
    "        _distortion = distortion.MSE(RGB_img, dequantized_RGB_img)\n",
    "        RD_points.append((rate, _distortion))\n",
    "        print(f\"Q_step={1<<q:>3}, rate={rate:>7} bits/pixel, distortion={_distortion:>6.1f}\")\n",
    "    return RD_points\n",
    "\n",
    "YCrCb_points_same_delta = YCrCb_RD_curve_same_delta(img)"
   ]
  },
  {
   "cell_type": "code",
   "execution_count": null,
   "metadata": {},
   "outputs": [],
   "source": [
    "with open('YCrCb.txt', 'w') as f:\n",
    "    for item in YCrCb_points_same_delta:\n",
    "        f.write(f\"{item[0]}\\t{item[1]}\\n\")"
   ]
  },
  {
   "cell_type": "code",
   "execution_count": null,
   "metadata": {
    "scrolled": false
   },
   "outputs": [],
   "source": [
    "def YCoCg_RD_curve_same_delta(RGB_frame):\n",
    "    RD_points = []\n",
    "    for q in range(0, 8):\n",
    "        YCoCg_frame = YCoCg.from_RGB(RGB_frame.astype(np.int16))\n",
    "        k, dequantized_YCoCg_frame = q_deq(YCoCg_frame, 1<<q)\n",
    "        k = k.astype(np.uint8)\n",
    "        rate = bits_per_RGB_pixel(k, \"YCoCg\" + str(1<<q) + \"_\")\n",
    "        dequantized_RGB_frame = YCoCg.to_RGB(dequantized_YCoCg_frame.astype(np.int16))\n",
    "        _distortion = distortion.MSE(RGB_frame, dequantized_RGB_frame)\n",
    "        RD_points.append((rate, _distortion))\n",
    "        print(f\"Q_step={1<<q:>3}, rate={rate:>7} bits/pixel, distortion={_distortion:>6.1f}\")\n",
    "    return RD_points\n",
    "\n",
    "YCoCg_points_same_delta = YCoCg_RD_curve_same_delta(img)"
   ]
  },
  {
   "cell_type": "code",
   "execution_count": null,
   "metadata": {},
   "outputs": [],
   "source": [
    "with open('YCoCg.txt', 'w') as f:\n",
    "    for item in YCoCg_points_same_delta:\n",
    "        f.write(f\"{item[0]}\\t{item[1]}\\n\")"
   ]
  },
  {
   "cell_type": "markdown",
   "metadata": {},
   "source": [
    "## Let's compare!"
   ]
  },
  {
   "cell_type": "code",
   "execution_count": null,
   "metadata": {},
   "outputs": [],
   "source": [
    "pylab.figure(dpi=150)\n",
    "pylab.plot(*zip(*RGB_points), marker=\"o\", label=\"$\\Delta_{\\mathrm{R}}=\\Delta_{\\mathrm{G}}=\\Delta_{\\mathrm{B}}}$\")\n",
    "pylab.plot(*zip(*YCrCb_points_same_delta), marker=\"o\", label=\"$\\Delta_{\\mathrm{Y}}=\\Delta_{\\mathrm{Cr}}=\\Delta_{\\mathrm{Cb}}}$\")\n",
    "pylab.plot(*zip(*YCoCg_points_same_delta), marker=\"o\", label=\"$\\Delta_{\\mathrm{Y}}=\\Delta_{\\mathrm{Co}}=\\Delta_{\\mathrm{Cg}}}$\")\n",
    "pylab.plot(*zip(*YCrCb_suboptimal_points), marker=\"o\", label=\"Suboptimal YCrCb\")\n",
    "pylab.plot(*zip(*YCoCg_suboptimal_points), marker=\"o\", label=\"Suboptimal YCoCg\")\n",
    "pylab.title(\"Rate/Distortion Performance \")\n",
    "pylab.xlabel(\"Bits/Pixel\")\n",
    "pylab.ylabel(\"MSE\")\n",
    "pylab.legend(loc='upper right')\n",
    "pylab.show()"
   ]
  },
  {
   "cell_type": "markdown",
   "metadata": {},
   "source": [
    "## Conclusions:\n",
    "1. In general, quantization is more effective in the transformed domain.\n",
    "2. At low bit-rates, it's better to quantize in YCoCb domain than to quantize in the YCrCb one. "
   ]
  },
  {
   "cell_type": "markdown",
   "metadata": {},
   "source": [
    "### RD using channel gains in YCoCg domain"
   ]
  },
  {
   "cell_type": "code",
   "execution_count": null,
   "metadata": {},
   "outputs": [],
   "source": [
    "def YCoCg_RD_curve(RGB_img):\n",
    "    RD_points = []\n",
    "    #for q_step in range(0, 8):\n",
    "    for Q_step in range(1, 256):\n",
    "        YCoCg_img = YCoCg.from_RGB(RGB_img.astype(np.int16))\n",
    "        #k, dequantized_YCoCg_img = q_deq(YCoCg_img, 1<<q_step)\n",
    "        k, dequantized_YCoCg_img = q_deq(YCoCg_img, Q_step)\n",
    "        k = k.astype(np.uint8)\n",
    "        rate = bits_per_RGB_pixel(k)\n",
    "        dequantized_RGB_img = YCoCg.to_RGB(dequantized_YCoCg_img)\n",
    "        _distortion = distortion.MSE(RGB_img, dequantized_RGB_img)\n",
    "        RD_points.append((rate, _distortion))\n",
    "        print(f\"Q_step={Q_step:>3}, rate={rate:>7} BPS, distortion={_distortion:>6.1f}\")\n",
    "    return RD_points\n",
    "\n",
    "YCoCg_points = YCoCg_RD_curve(img)\n",
    "\n",
    "relative_Y_gain = 3/2\n",
    "relative_Co_gain = 1\n",
    "relative_Cg_gain = 3/2\n",
    "def YCoCg_RD_curve_with_gains(RGB_img):\n",
    "    RD_points = []\n",
    "    #for q_step in range(0, 8):\n",
    "    for Q_step in range(1, 256):\n",
    "        YCoCg_img = YCoCg.from_RGB(RGB_img.astype(np.int16))\n",
    "        dequantized_YCoCg_img = np.empty_like(YCoCg_img)\n",
    "        k = np.empty_like(YCoCg_img, dtype=np.uint8)\n",
    "        k[:,:,0], dequantized_YCoCg_img[:,:,0] = q_deq(YCoCg_img[:,:,0], (Q_step)/relative_Y_gain)\n",
    "        k[:,:,1], dequantized_YCoCg_img[:,:,1] = q_deq(YCoCg_img[:,:,1], (Q_step)/relative_Co_gain)\n",
    "        k[:,:,2], dequantized_YCoCg_img[:,:,2] = q_deq(YCoCg_img[:,:,2], (Q_step)/relative_Cg_gain)\n",
    "        #k[0], dequantized_YCoCg_img[0] = q_deq(YCoCg_img[0], q_step/relative_Y_gain)\n",
    "        #k[1], dequantized_YCoCg_img[1] = q_deq(YCoCg_img[1], q_step/relative_Co_gain)\n",
    "        #k[2], dequantized_YCoCg_img[2] = q_deq(YCoCg_img[2], q_step/relative_Cg_gain)\n",
    "        rate = bits_per_RGB_pixel(k)\n",
    "        dequantized_RGB_img = YCoCg.to_RGB(dequantized_YCoCg_img)\n",
    "        _distortion = distortion.MSE(RGB_img, dequantized_RGB_img)\n",
    "        RD_points.append((rate, _distortion))\n",
    "        print(f\"Q_step={Q_step:>3}, rate={rate:>7} BPS, distortion={_distortion:>6.1f}\")\n",
    "    return RD_points\n",
    "\n",
    "YCoCg_gains_points = YCoCg_RD_curve_with_gains(img)"
   ]
  },
  {
   "cell_type": "code",
   "execution_count": null,
   "metadata": {
    "scrolled": false
   },
   "outputs": [],
   "source": [
    "pylab.figure(dpi=150)\n",
    "pylab.scatter(*zip(*YCoCg_points), c='r', marker=\".\", s=0.5,\n",
    "           label='$\\Delta_{\\mathrm{Y}}=\\Delta_{\\mathrm{Co}}=\\Delta_{\\mathrm{Cg}}$')\n",
    "pylab.scatter(*zip(*YCoCg_gains_points), c='b', marker=\"x\", s=1,\n",
    "           label='$\\Delta_{\\mathrm{Y}}=' + \"{:3.1f}\".format(relative_Y_gain) + '\\Delta_{\\mathrm{Cg}}' +\n",
    "           ';\\Delta_{\\mathrm{Cg}}=' + \"{:3.1f}\".format(relative_Cg_gain) + '\\Delta_{\\mathrm{Co}}$')\n",
    "pylab.title(\"Performance of Quantization in Different Domains\")\n",
    "pylab.xlabel(\"Bits/Pixel\")\n",
    "pylab.ylabel(\"MSE\")\n",
    "plt.legend(loc='upper right')\n",
    "pylab.show()"
   ]
  },
  {
   "cell_type": "markdown",
   "metadata": {},
   "source": [
    "### Comparing the three domains using the same quantization steps"
   ]
  },
  {
   "cell_type": "code",
   "execution_count": null,
   "metadata": {},
   "outputs": [],
   "source": [
    "pylab.figure(dpi=150)\n",
    "pylab.plot(*zip(*RGB_points), c='b', marker=\"x\",\n",
    "           label='$\\Delta_{\\mathrm{R}}=\\Delta_{\\mathrm{G}}=\\Delta_{\\mathrm{B}}$')\n",
    "#pylab.plot(*zip(*YCrCb_points), c='r', marker=\"x\",\n",
    "#           label='$\\Delta_{\\mathrm{Y}}=\\Delta_{\\mathrm{Cr}}=\\Delta_{\\mathrm{Cb}}$')\n",
    "#pylab.plot(*zip(*YYCrCb_gains_points), c='m', marker=\"x\",\n",
    "#           label='$\\Delta_{\\mathrm{Y}}=' + \"{:3.1f}\".format(Y_gain) + '\\Delta_{\\mathrm{Cr}}' +\n",
    "#           ';\\Delta_{\\mathrm{Cb}}=' + \"{:3.1f}\".format(Cb_gain) + '\\Delta_{\\mathrm{Cr}}$')\n",
    "pylab.plot(*zip(*YCoCg_points), c='g', marker=\"x\",\n",
    "           label='$\\Delta_{\\mathrm{Y}}=\\Delta_{\\mathrm{Co}}=\\Delta_{\\mathrm{Cg}}$')\n",
    "pylab.title(\"Performance of Quantization in Different Domains\")\n",
    "pylab.xlabel(\"Bits/Pixel\")\n",
    "pylab.ylabel(\"MSE\")\n",
    "plt.legend(loc='upper right')\n",
    "pylab.show()"
   ]
  },
  {
   "cell_type": "code",
   "execution_count": null,
   "metadata": {},
   "outputs": [],
   "source": [
    "Cr_gain = 1.0 # 2.4754\n",
    "Cb_gain = 3.25832/2.4754\n",
    "Y_gain = 3/2.4754\n",
    "def YYCrCb_RD_curve_with_gains(RGB_frame):\n",
    "    RD_points = []\n",
    "    for q_step in range(0, 8):\n",
    "        YYCrCb_frame = YCrCb.from_RGB(RGB_frame.astype(np.uint8))\n",
    "        dequantized_YYCrCb_frame = np.empty_like(YYCrCb_frame)\n",
    "        k = np.empty_like(YYCrCb_frame, dtype=np.uint8)\n",
    "        k[:,:,0], dequantized_YYCrCb_frame[:,:,0] = q_deq(YYCrCb_frame[:,:,0], (1<<q_step)/Y_gain)\n",
    "        k[:,:,1], dequantized_YYCrCb_frame[:,:,1] = q_deq(YYCrCb_frame[:,:,1], (1<<q_step)/Cr_gain)\n",
    "        k[:,:,2], dequantized_YYCrCb_frame[:,:,2] = q_deq(YYCrCb_frame[:,:,2], (1<<q_step)/Cb_gain)\n",
    "        rate = bits_per_RGB_pixel(k)\n",
    "        dequantized_YYCrCb_frame = dequantized_YYCrCb_frame.astype(np.uint8)\n",
    "        dequantized_RGB_frame = YCrCb.to_RGB(dequantized_YYCrCb_frame)\n",
    "        _distortion = distortion.MSE(RGB_frame, dequantized_RGB_frame)\n",
    "        RD_points.append((rate, _distortion))\n",
    "        print(f\"q_step={1<<q_step:>3}, rate={rate:>7} BPS, distortion={_distortion:>6.1f}\")\n",
    "    return RD_points\n",
    "\n",
    "YYCrCb_gains_points = YYCrCb_RD_curve_with_gains(img)"
   ]
  },
  {
   "cell_type": "markdown",
   "metadata": {},
   "source": [
    "Conclusions:\n",
    "1. In general, quantization is more effective in the transformed domain considering the RD plane.\n",
    "2. $\\Delta_{\\mathrm{Y}}=1.2\\Delta_{\\mathrm{Cr}}; \\Delta_{\\mathrm{Cb}}=1.3\\Delta_{\\mathrm{Cr}}$ is slightly better than $\\Delta_{\\mathrm{Y}}=\\Delta_{\\mathrm{Cr}}=\\Delta_{\\mathrm{Cb}}$, at low bit-rates, and viceversa.\n",
    "3. At low bit-rates, tt's better to quantize YCoCb than to quantize YCrCb. "
   ]
  },
  {
   "cell_type": "markdown",
   "metadata": {},
   "source": [
    "## Is $\\Delta_{\\mathrm{Y}}=1.2\\Delta_{\\mathrm{Cr}}; \\Delta_{\\mathrm{Cb}}=1.3\\Delta_{\\mathrm{Cr}}$ the best quantization in YCrCb?\n",
    "No, $\\Delta_{\\mathrm{Y}}=\\Delta_{\\mathrm{Cr}}=\\Delta_{\\mathrm{Cb}}$ is better than $\\Delta_{\\mathrm{Y}}=1.2\\Delta_{\\mathrm{Cr}}; \\Delta_{\\mathrm{Cb}}=1.3\\Delta_{\\mathrm{Cr}}$ at high bit-rates."
   ]
  },
  {
   "cell_type": "markdown",
   "metadata": {},
   "source": [
    "## Is $\\Delta_{\\mathrm{Y}}=1.2\\Delta_{\\mathrm{Cr}}; \\Delta_{\\mathrm{Cb}}=1.3\\Delta_{\\mathrm{Cr}}$ optimal at low bit-rates quantizing YCrCb?"
   ]
  },
  {
   "cell_type": "code",
   "execution_count": null,
   "metadata": {},
   "outputs": [],
   "source": [
    "N=5\n",
    "def only_Y_RD_curve(RGB_frame):\n",
    "    RD_points = []\n",
    "    for q_step in range(0, 8):\n",
    "        print(q_step, end=' ')\n",
    "        YCrCb_frame = YCrCb.from_RGB(RGB_frame.astype(np.uint8))\n",
    "        dequantized_YCrCb_frame = np.empty_like(YCrCb_frame)\n",
    "        k = np.empty_like(YCrCb_frame, dtype=np.uint8)\n",
    "        k[:,:,0], dequantized_YCrCb_frame[:,:,0] = q_deq(YCrCb_frame[:,:,0], 1<<q_step)\n",
    "        k[:,:,1], dequantized_YCrCb_frame[:,:,1] = q_deq(YCrCb_frame[:,:,1], 1<<N)\n",
    "        k[:,:,2], dequantized_YCrCb_frame[:,:,2] = q_deq(YCrCb_frame[:,:,2], 1<<N)\n",
    "        rate = bits_per_RGB_pixel(k)\n",
    "        dequantized_YCrCb_frame = dequantized_YCrCb_frame.astype(np.uint8)\n",
    "        assert dequantized_YCrCb_frame.all() >= 0\n",
    "        dequantized_RGB_frame = YCrCb.to_RGB(dequantized_YCrCb_frame)\n",
    "        _distortion = distortion.MSE(RGB_frame, dequantized_RGB_frame)\n",
    "        RD_points.append((rate, _distortion))\n",
    "    return RD_points\n",
    "\n",
    "def only_Cb_RD_curve(RGB_frame):\n",
    "    RD_points = []\n",
    "    for q_step in range(0, 8):\n",
    "        print(q_step, end=' ')\n",
    "        YCrCb_frame = YCrCb.from_RGB(RGB_frame.astype(np.uint8))\n",
    "        dequantized_YCrCb_frame = np.empty_like(YCrCb_frame)\n",
    "        k = np.empty_like(YCrCb_frame, dtype=np.uint8)\n",
    "        k[:,:,0], dequantized_YCrCb_frame[:,:,0] = q_deq(YCrCb_frame[:,:,0], 1<<N)\n",
    "        k[:,:,1], dequantized_YCrCb_frame[:,:,1] = q_deq(YCrCb_frame[:,:,1], 1<<q_step)\n",
    "        k[:,:,2], dequantized_YCrCb_frame[:,:,2] = q_deq(YCrCb_frame[:,:,2], 1<<N)\n",
    "        rate = bits_per_RGB_pixel(k)\n",
    "        assert dequantized_YCrCb_frame.all() >= 0\n",
    "        dequantized_YCrCb_frame = dequantized_YCrCb_frame.astype(np.uint8)\n",
    "        dequantized_RGB_frame = YCrCb.to_RGB(dequantized_YCrCb_frame)\n",
    "        _distortion = distortion.MSE(RGB_frame, dequantized_RGB_frame)\n",
    "        RD_points.append((rate, _distortion))\n",
    "    return RD_points\n",
    "\n",
    "def only_Cr_RD_curve(RGB_frame):\n",
    "    RD_points = []\n",
    "    for q_step in range(0, 8):\n",
    "        print(q_step, end=' ')\n",
    "        YCrCb_frame = YCrCb.from_RGB(RGB_frame.astype(np.uint8))\n",
    "        dequantized_YCrCb_frame = np.empty_like(YCrCb_frame)\n",
    "        k = np.empty_like(YCrCb_frame, dtype=np.uint8)\n",
    "        k[:,:,0], dequantized_YCrCb_frame[:,:,0] = q_deq(YCrCb_frame[:,:,0], 1<<N)\n",
    "        k[:,:,1], dequantized_YCrCb_frame[:,:,1] = q_deq(YCrCb_frame[:,:,1], 1<<N)\n",
    "        k[:,:,2], dequantized_YCrCb_frame[:,:,2] = q_deq(YCrCb_frame[:,:,2], 1<<q_step)\n",
    "        rate = bits_per_RGB_pixel(k)\n",
    "        dequantized_YCrCb_frame = dequantized_YCrCb_frame.astype(np.uint8)\n",
    "        assert dequantized_YCrCb_frame.all() >= 0\n",
    "        dequantized_RGB_frame = YCrCb.to_RGB(dequantized_YCrCb_frame)\n",
    "        _distortion = distortion.MSE(RGB_frame, dequantized_RGB_frame)\n",
    "        RD_points.append((rate, _distortion))\n",
    "    return RD_points\n",
    "\n",
    "only_Y_points = only_Y_RD_curve(img)\n",
    "only_Cb_points = only_Cb_RD_curve(img)\n",
    "only_Cr_points = only_Cr_RD_curve(img)"
   ]
  },
  {
   "cell_type": "code",
   "execution_count": null,
   "metadata": {},
   "outputs": [],
   "source": [
    "pylab.figure(dpi=150)\n",
    "pylab.plot(*zip(*YYCrCb_gains_points), c='m', marker=\"x\",\n",
    "           label='$\\Delta_{\\mathrm{Y}}=' + \"{:3.1f}\".format(Y_gain) + '\\Delta_{\\mathrm{Cr}}' +\n",
    "           ';\\Delta_{\\mathrm{Cb}}=' + \"{:3.1f}\".format(Cb_gain) + '\\Delta_{\\mathrm{Cr}}$')\n",
    "pylab.plot(*zip(*only_Y_points), c='r', marker=\"o\",\n",
    "           label='$\\Delta_{\\mathrm{Y}}~\\mathrm{varies},~\\Delta_{\\mathrm{Cr}}=\\Delta_{\\mathrm{Cb}}=$' + '{}'.format(1<<N))              \n",
    "pylab.plot(*zip(*only_Cb_points), c='g', marker=\"o\",\n",
    "           label='$\\Delta_{\\mathrm{Cb}}~\\mathrm{varies},~\\Delta_{\\mathrm{Y}}=\\Delta_{\\mathrm{Cr}}=$' + '{}'.format(1<<N))              \n",
    "pylab.plot(*zip(*only_Cr_points), c='b', marker=\"o\",\n",
    "           label='$\\Delta_{\\mathrm{Cr}}~\\mathrm{varies},~\\Delta_{\\mathrm{Y}}=\\Delta_{\\mathrm{Cb}}=$' + '{}'.format(1<<N))              \n",
    "pylab.title(\"RD Performance\")\n",
    "pylab.xlabel(\"Bits/Pixel\")\n",
    "pylab.ylabel(\"RMSE\")\n",
    "plt.legend(loc='upper right')\n",
    "pylab.show()"
   ]
  },
  {
   "cell_type": "markdown",
   "metadata": {},
   "source": [
    "No, there are combinations of $\\Delta_{\\mathrm{Y}}$, $\\Delta_{\\mathrm{Cr}}$, and $\\Delta_{\\mathrm{Cb}}$ better than $\\Delta_{\\mathrm{Y}}=1.2\\Delta_{\\mathrm{Cr}}; \\Delta_{\\mathrm{Cb}}=1.3\\Delta_{\\mathrm{Cr}}$ at low bit-rates."
   ]
  },
  {
   "cell_type": "markdown",
   "metadata": {},
   "source": [
    "## Is $\\Delta_{\\mathrm{Y}}=\\Delta_{\\mathrm{Co}}=\\Delta_{\\mathrm{Cg}}$ optimal quantizing YCoCb?"
   ]
  },
  {
   "cell_type": "code",
   "execution_count": null,
   "metadata": {},
   "outputs": [],
   "source": [
    "N=4\n",
    "def only_Y_RD_curve(RGB_frame):\n",
    "    RD_points = []\n",
    "    for q_step in range(0, 8):\n",
    "        print(q_step, end=' ')\n",
    "        YCoCg_frame = YCoCg.from_RGB(RGB_frame.astype(np.int16))\n",
    "        dequantized_YCoCg_frame = np.empty_like(YCoCg_frame)\n",
    "        k = np.empty_like(YCoCg_frame, dtype=np.uint8)\n",
    "        k[:,:,0], dequantized_YCoCg_frame[:,:,0] = q_deq(YCoCg_frame[:,:,0], 1<<q_step)\n",
    "        k[:,:,1], dequantized_YCoCg_frame[:,:,1] = q_deq(YCoCg_frame[:,:,1], 1<<N)\n",
    "        k[:,:,2], dequantized_YCoCg_frame[:,:,2] = q_deq(YCoCg_frame[:,:,2], 1<<N)\n",
    "        #k[:,:,1], dequantized_YCoCg_frame[:,:,1] = q_deq(YCoCg_frame[:,:,1], 1<<q_step)\n",
    "        #k[:,:,2], dequantized_YCoCg_frame[:,:,2] = q_deq(YCoCg_frame[:,:,2], 1<<q_step)\n",
    "        rate = bits_per_RGB_pixel(k)\n",
    "        dequantized_RGB_frame = YCoCg.to_RGB(dequantized_YCoCg_frame)\n",
    "        _distortion = distortion.MSE(RGB_frame, dequantized_RGB_frame)\n",
    "        RD_points.append((rate, _distortion))\n",
    "    return RD_points\n",
    "\n",
    "def only_Co_RD_curve(RGB_frame):\n",
    "    RD_points = []\n",
    "    for q_step in range(0, 8):\n",
    "        print(q_step, end=' ')\n",
    "        YCoCg_frame = YCoCg.from_RGB(RGB_frame.astype(np.int16))\n",
    "        dequantized_YCoCg_frame = np.empty_like(YCoCg_frame)\n",
    "        k = np.empty_like(YCoCg_frame, dtype=np.uint8)\n",
    "        k[:,:,0], dequantized_YCoCg_frame[:,:,0] = q_deq(YCoCg_frame[:,:,0], 1<<N)\n",
    "        k[:,:,1], dequantized_YCoCg_frame[:,:,1] = q_deq(YCoCg_frame[:,:,1], 1<<q_step)\n",
    "        k[:,:,2], dequantized_YCoCg_frame[:,:,2] = q_deq(YCoCg_frame[:,:,2], 1<<N)\n",
    "        rate = bits_per_RGB_pixel(k)\n",
    "        dequantized_RGB_frame = YCoCg.to_RGB(dequantized_YCoCg_frame)\n",
    "        _distortion = distortion.MSE(RGB_frame, dequantized_RGB_frame)\n",
    "        RD_points.append((rate, _distortion))\n",
    "    return RD_points\n",
    "\n",
    "def only_Cg_RD_curve(RGB_frame):\n",
    "    RD_points = []\n",
    "    for q_step in range(0, 8):\n",
    "        print(q_step, end=' ')\n",
    "        YCoCg_frame = YCoCg.from_RGB(RGB_frame.astype(np.int16))\n",
    "        dequantized_YCoCg_frame = np.empty_like(YCoCg_frame)\n",
    "        k = np.empty_like(YCoCg_frame, dtype=np.uint8)\n",
    "        k[:,:,0], dequantized_YCoCg_frame[:,:,0] = q_deq(YCoCg_frame[:,:,0], 1<<N)\n",
    "        k[:,:,1], dequantized_YCoCg_frame[:,:,1] = q_deq(YCoCg_frame[:,:,1], 1<<N)\n",
    "        k[:,:,2], dequantized_YCoCg_frame[:,:,2] = q_deq(YCoCg_frame[:,:,2], 1<<q_step)\n",
    "        rate = bits_per_RGB_pixel(k)\n",
    "        dequantized_RGB_frame = YCoCg.to_RGB(dequantized_YCoCg_frame)\n",
    "        _distortion = distortion.MSE(RGB_frame, dequantized_RGB_frame)\n",
    "        RD_points.append((rate, _distortion))\n",
    "    return RD_points\n",
    "\n",
    "only_Y_points = only_Y_RD_curve(img)\n",
    "only_Co_points = only_Co_RD_curve(img)\n",
    "only_Cg_points = only_Cg_RD_curve(img)"
   ]
  },
  {
   "cell_type": "code",
   "execution_count": null,
   "metadata": {},
   "outputs": [],
   "source": [
    "pylab.figure(dpi=150)\n",
    "pylab.plot(*zip(*only_Y_points), c='r', marker=\"o\",\n",
    "           label='$\\Delta_{\\mathrm{Y}}~\\mathrm{varies},~\\Delta_{\\mathrm{Co}}=\\Delta_{\\mathrm{Cg}}=$' + '{}'.format(1<<N))              \n",
    "pylab.plot(*zip(*only_Co_points), c='m', marker=\"o\",\n",
    "           label='$\\Delta_{\\mathrm{Co}}~\\mathrm{varies},~\\Delta_{\\mathrm{Y}}=\\Delta_{\\mathrm{Cg}}=$' + '{}'.format(1<<N))              \n",
    "pylab.plot(*zip(*only_Cg_points), c='b', marker=\"o\",\n",
    "           label='$\\Delta_{\\mathrm{Cg}}~\\mathrm{varies},~\\Delta_{\\mathrm{Y}}=\\Delta_{\\mathrm{Co}}=$' + '{}'.format(1<<N))              \n",
    "pylab.plot(*zip(*YCoCg_points), c='g', marker=\"x\",\n",
    "           label='$\\Delta_{\\mathrm{Y}}=\\Delta_{\\mathrm{Co}}=\\Delta_{\\mathrm{Cg}}$')\n",
    "pylab.title(\"RD Performance\")\n",
    "pylab.xlabel(\"Bits/Pixel\")\n",
    "pylab.ylabel(\"RMSE\")\n",
    "plt.legend(loc='upper right')\n",
    "pylab.show()"
   ]
  },
  {
   "cell_type": "markdown",
   "metadata": {},
   "source": [
    "At least, using the same experiment than before, $\\Delta_{\\mathrm{Y}}=\\Delta_{\\mathrm{Co}}=\\Delta_{\\mathrm{Cg}}$ seems to be near optimal quantizing YCoCb."
   ]
  },
  {
   "cell_type": "markdown",
   "metadata": {},
   "source": [
    "## Ignore the rest ..."
   ]
  },
  {
   "cell_type": "markdown",
   "metadata": {},
   "source": [
    "## Some experiments showing the impact of the lack of orthogonality"
   ]
  },
  {
   "cell_type": "code",
   "execution_count": null,
   "metadata": {},
   "outputs": [],
   "source": [
    "def _YCbCr_RD_curve(RGB_frame, N):\n",
    "    RD_points = []\n",
    "    for q_step in range(0, 8):\n",
    "        print(q_step, end=' ')\n",
    "        YCbCr_frame = RGB_to_YCbCr(RGB_frame.astype(np.uint8))\n",
    "        dequantized_YCbCr_frame = np.empty_like(YCbCr_frame)\n",
    "        k = np.empty_like(YCbCr_frame)\n",
    "        k[:,:,0], dequantized_YCbCr_frame[:,:,0] = q_deq(YCbCr_frame[:,:,0], 1<<q_step)\n",
    "        k[:,:,1], dequantized_YCbCr_frame[:,:,1] = q_deq(YCbCr_frame[:,:,1], 1<<N)\n",
    "        k[:,:,2], dequantized_YCbCr_frame[:,:,2] = q_deq(YCbCr_frame[:,:,2], 1<<N)\n",
    "        rate = bytes_per_color_frame(k)\n",
    "        dequantized_YCbCr_frame = dequantized_YCbCr_frame.astype(np.uint8)\n",
    "        dequantized_RGB_frame = YCbCr_to_RGB(dequantized_YCbCr_frame)\n",
    "        distortion = RMSE(RGB_frame, dequantized_RGB_frame)\n",
    "        RD_points.append((rate, distortion))\n",
    "    return RD_points\n",
    "\n",
    "_YCbCr_points_8 = _YCbCr_RD_curve(frame, 8)\n",
    "_YCbCr_points_7 = _YCbCr_RD_curve(frame, 7)\n",
    "_YCbCr_points_6 = _YCbCr_RD_curve(frame, 6)\n",
    "_YCbCr_points_5 = _YCbCr_RD_curve(frame, 5)\n",
    "_YCbCr_points_4 = _YCbCr_RD_curve(frame, 4)\n",
    "_YCbCr_points_3 = _YCbCr_RD_curve(frame, 3)"
   ]
  },
  {
   "cell_type": "code",
   "execution_count": null,
   "metadata": {},
   "outputs": [],
   "source": [
    "1<<4"
   ]
  },
  {
   "cell_type": "code",
   "execution_count": null,
   "metadata": {},
   "outputs": [],
   "source": [
    "pylab.figure(dpi=150)\n",
    "pylab.plot(*zip(*YCbCr_points), c='r', marker=\"x\",\n",
    "           label='$\\Delta_{\\mathrm{Y}}=\\Delta_{\\mathrm{Cr}}=\\Delta_{\\mathrm{Cb}}$')\n",
    "pylab.plot(*zip(*_YCbCr_points_8), c='b', marker=\"x\",\n",
    "           label='$\\Delta_{\\mathrm{Y}}~\\mathrm{varies},~\\Delta_{\\mathrm{Cr}}=\\Delta_{\\mathrm{Cb}}=$' + '{}'.format(1<<8))\n",
    "pylab.plot(*zip(*_YCbCr_points_7), c='g', marker=\"x\",\n",
    "           label='$\\Delta_{\\mathrm{Y}}~\\mathrm{varies},~\\Delta_{\\mathrm{Cr}}=\\Delta_{\\mathrm{Cb}}=$' + '{}'.format(1<<7))\n",
    "pylab.plot(*zip(*_YCbCr_points_6), c='c', marker=\"x\",\n",
    "           label='$\\Delta_{\\mathrm{Y}}~\\mathrm{varies},~\\Delta_{\\mathrm{Cr}}=\\Delta_{\\mathrm{Cb}}=$' + '{}'.format(1<<6))\n",
    "pylab.plot(*zip(*_YCbCr_points_5), c='m', marker=\"x\",\n",
    "           label='$\\Delta_{\\mathrm{Y}}~\\mathrm{varies},~\\Delta_{\\mathrm{Cr}}=\\Delta_{\\mathrm{Cb}}=$' + '{}'.format(1<<5))\n",
    "pylab.plot(*zip(*_YCbCr_points_4), c='y', marker=\"x\",\n",
    "           label='$\\Delta_{\\mathrm{Y}}~\\mathrm{varies},~\\Delta_{\\mathrm{Cr}}=\\Delta_{\\mathrm{Cb}}=$' + '{}'.format(1<<4))\n",
    "pylab.plot(*zip(*_YCbCr_points_3), c='k', marker=\"o\",\n",
    "           label='$\\Delta_{\\mathrm{Y}}~\\mathrm{varies},~\\Delta_{\\mathrm{Cr}}=\\Delta_{\\mathrm{Cb}}=$' + '{}'.format(1<<3))\n",
    "pylab.plot(*zip(*YCbCr_gains_points), c='m', marker=\"+\",\n",
    "           label='$\\Delta_{\\mathrm{Y}}=' + \"{:3.1f}\".format(Y_gain) + '\\Delta_{\\mathrm{Cr}}' +\n",
    "           ';\\Delta_{\\mathrm{Cb}}=' + \"{:3.1f}\".format(Cb_gain) + '\\Delta_{\\mathrm{Cr}}$')\n",
    "pylab.title(\"The lack of non-orthogonality in the YCrCb transform\")\n",
    "pylab.xlabel(\"Bytes/Frame\")\n",
    "pylab.ylabel(\"RMSE\")\n",
    "plt.legend(loc='upper right')\n",
    "pylab.show()"
   ]
  },
  {
   "cell_type": "markdown",
   "metadata": {},
   "source": [
    "From this experiment we conclude that:\n",
    "1. The luma should not be \"deleted\" from the code-stream (see curve $\\Delta_{\\mathrm{Y}}=\\Delta_{\\mathrm{Cr}}=\\Delta_{\\mathrm{Cb}}$).\n",
    "2. There are better combinations than $\\Delta_{\\mathrm{Y}}=\\Delta_{\\mathrm{Cr}}=\\Delta_{\\mathrm{Cb}}$ and $\\Delta_{\\mathrm{Y}}=1.2\\Delta_{\\mathrm{Cr}};\\Delta_{\\mathrm{Cb}}=1.3\\Delta_{\\mathrm{Cr}}$."
   ]
  },
  {
   "cell_type": "markdown",
   "metadata": {},
   "source": [
    "### YCrCb"
   ]
  },
  {
   "cell_type": "markdown",
   "metadata": {},
   "source": [
    "It's possible to find better combinations than $\\Delta_{\\mathrm{Y}}=1.2\\Delta_{\\mathrm{Cr}};\\Delta_{\\mathrm{Cb}}=1.3\\Delta_{\\mathrm{Cr}}$."
   ]
  },
  {
   "cell_type": "markdown",
   "metadata": {},
   "source": [
    "Notice that, at least visually, it does not make sense to use $\\Delta_{\\mathrm{Y}}\\ge 8$ because the reconstructed image will be very dark or even black. The same holds for YCoCg."
   ]
  },
  {
   "cell_type": "code",
   "execution_count": null,
   "metadata": {},
   "outputs": [],
   "source": [
    "ycc = RGB_to_YCbCr(frame.astype(np.uint8))\n",
    "ycc[:,:,0] = 0\n",
    "frame2 = YCbCr_to_RGB(ycc)\n",
    "print(frame2.min(), frame2.max())\n",
    "show_frame(frame2, \"$\\Delta_{\\mathrm{Y}} \\ge 8$\" + \" (YCbCr domain)\")"
   ]
  },
  {
   "cell_type": "markdown",
   "metadata": {},
   "source": [
    "### YCoCg"
   ]
  },
  {
   "cell_type": "markdown",
   "metadata": {},
   "source": [
    "Notice that, at least visually, it does not make sense to use $\\Delta_{\\mathrm{Y}}\\ge 8$ because the reconstructed image will be very dark or even black. The same holds for YCoCg."
   ]
  },
  {
   "cell_type": "code",
   "execution_count": null,
   "metadata": {},
   "outputs": [],
   "source": [
    "ycc = RGB_to_YCoCg(frame)\n",
    "ycc[:,:,0]= 0\n",
    "frame2 = YCoCg_to_RGB(ycc)\n",
    "print(frame2.min(), frame2.max())\n",
    "show_frame(frame2, \"$\\Delta_{\\mathrm{Y}} \\ge 8$\" + \" (YCoCg domain)\")"
   ]
  },
  {
   "cell_type": "code",
   "execution_count": null,
   "metadata": {},
   "outputs": [],
   "source": [
    "def YCbCr_RD_curve_only_Y(RGB_frame):\n",
    "    RD_points = []\n",
    "    for q_step in range(0, 8):\n",
    "        print(q_step, end=' ')\n",
    "        YCbCr_frame = RGB_to_YCbCr(RGB_frame.astype(np.uint8))\n",
    "        YCbCr_frame[:,:,1] = 0\n",
    "        YCbCr_frame[:,:,2] = 0\n",
    "        k, dequantized_YCbCr_frame = q_deq(YCbCr_frame, 1<<q_step)\n",
    "        k[:,:,0] = 0\n",
    "        rate = byte_rate(k)\n",
    "        dequantized_YCbCr_frame = dequantized_YCbCr_frame.astype(np.uint8)\n",
    "        dequantized_RGB_frame = YCbCr_to_RGB(dequantized_YCbCr_frame)\n",
    "        distortion = RMSE(RGB_frame, dequantized_RGB_frame)\n",
    "        RD_points.append((rate, distortion))\n",
    "    return RD_points\n",
    "\n",
    "def YCbCr_RD_curve_only_Cb(RGB_frame):\n",
    "    RD_points = []\n",
    "    for q_step in range(0, 8):\n",
    "        print(q_step, end=' ')\n",
    "        YCbCr_frame = RGB_to_YCbCr(RGB_frame.astype(np.uint8))\n",
    "        YCbCr_frame[:,:,0] = 0\n",
    "        YCbCr_frame[:,:,2] = 0\n",
    "        k, dequantized_YCbCr_frame = q_deq(YCbCr_frame, 1<<q_step)\n",
    "        rate = byte_rate(k)\n",
    "        dequantized_YCbCr_frame = dequantized_YCbCr_frame.astype(np.uint8)\n",
    "        dequantized_RGB_frame = YCbCr_to_RGB(dequantized_YCbCr_frame)\n",
    "        distortion = RMSE(RGB_frame, dequantized_RGB_frame)\n",
    "        RD_points.append((rate, distortion))\n",
    "    return RD_points\n",
    "\n",
    "def YCbCr_RD_curve_only_Cr(RGB_frame):\n",
    "    RD_points = []\n",
    "    for q_step in range(0, 8):\n",
    "        print(q_step, end=' ')\n",
    "        YCbCr_frame = RGB_to_YCbCr(RGB_frame.astype(np.uint8))\n",
    "        YCbCr_frame[:,:,0] = 0\n",
    "        YCbCr_frame[:,:,1] = 0\n",
    "        k, dequantized_YCbCr_frame = q_deq(YCbCr_frame, 1<<q_step)\n",
    "        rate = byte_rate(k)\n",
    "        dequantized_YCbCr_frame = dequantized_YCbCr_frame.astype(np.uint8)\n",
    "        dequantized_RGB_frame = YCbCr_to_RGB(dequantized_YCbCr_frame)\n",
    "        distortion = RMSE(RGB_frame, dequantized_RGB_frame)\n",
    "        RD_points.append((rate, distortion))\n",
    "    return RD_points\n",
    "\n",
    "only_Y_curve = YCbCr_RD_curve_only_Y(frame)\n",
    "only_Cb_curve = YCbCr_RD_curve_only_Cb(frame)\n",
    "only_Cr_curve = YCbCr_RD_curve_only_Cr(frame)"
   ]
  },
  {
   "cell_type": "code",
   "execution_count": null,
   "metadata": {},
   "outputs": [],
   "source": [
    "pylab.figure(dpi=150)\n",
    "pylab.scatter(*zip(*only_Y_curve), s=2, c='r', marker=\"o\", label='only Y')\n",
    "pylab.plot(*zip(*only_Y_curve), c='r', marker=\"o\")\n",
    "pylab.scatter(*zip(*only_Cb_curve), s=2, c='g', marker=\"o\", label='only Cb')\n",
    "pylab.plot(*zip(*only_Cb_curve), c='g', marker=\"o\")\n",
    "pylab.scatter(*zip(*only_Cr_curve), s=2, c='b', marker=\"o\", label='only Cr')\n",
    "pylab.plot(*zip(*only_Cr_curve), c='b', marker=\"o\")\n",
    "pylab.title(\"R/D Performance\")\n",
    "pylab.xlabel(\"Bytes/Frame\")\n",
    "pylab.ylabel(\"RMSE\")\n",
    "plt.legend(loc='upper right')\n",
    "pylab.show()"
   ]
  },
  {
   "cell_type": "code",
   "execution_count": null,
   "metadata": {},
   "outputs": [],
   "source": []
  },
  {
   "cell_type": "code",
   "execution_count": null,
   "metadata": {},
   "outputs": [],
   "source": [
    "def YCbCr_RD_curve_2(RGB_frame):\n",
    "    RD_points = []\n",
    "    for q_step in range(0, 8):\n",
    "        print(q_step, end=' ')\n",
    "        YCbCr_frame = RGB_to_YCbCr(RGB_frame.astype(np.uint16))\n",
    "        YCbCr_frame[:,:,1] //= 2\n",
    "        YCbCr_frame[:,:,2] //= 2\n",
    "        k, dequantized_YCbCr_frame = q_deq(YCbCr_frame, 1<<q_step)\n",
    "        dequantized_YCbCr_frame[:,:,1] *= 2\n",
    "        dequantized_YCbCr_frame[:,:,2] *= 2\n",
    "        rate = byte_rate(k)\n",
    "        dequantized_YCbCr_frame = dequantized_YCbCr_frame.astype(np.uint16)\n",
    "        dequantized_RGB_frame = YCbCr_to_RGB(dequantized_YCbCr_frame)\n",
    "        distortion = RMSE(RGB_frame, dequantized_RGB_frame)\n",
    "        RD_points.append((rate, distortion))\n",
    "    return RD_points\n",
    "\n",
    "YCbCr_quantization_2 = YCbCr_RD_curve_2(frame)"
   ]
  },
  {
   "cell_type": "code",
   "execution_count": null,
   "metadata": {},
   "outputs": [],
   "source": [
    "pylab.figure(dpi=150)\n",
    "pylab.scatter(*zip(*RGB_quantization), s=2, c='b', marker=\"o\", label='RGB quantization')\n",
    "pylab.plot(*zip(*RGB_quantization), c='b', marker=\"o\")\n",
    "pylab.scatter(*zip(*YCbCr_quantization), s=2, c='r', marker=\"o\", label='YCbCr quantization')\n",
    "pylab.plot(*zip(*YCbCr_quantization), c='r', marker=\"o\")\n",
    "pylab.scatter(*zip(*YCbCr_quantization_2), s=2, c='g', marker=\"o\", label='YCbCr quantization 2')\n",
    "pylab.plot(*zip(*YCbCr_quantization_2), c='g', marker=\"o\")\n",
    "pylab.title(\"R/D Only Quantization\")\n",
    "pylab.xlabel(\"Bytes/Frame\")\n",
    "pylab.ylabel(\"RMSE\")\n",
    "plt.legend(loc='upper right')\n",
    "pylab.show()"
   ]
  },
  {
   "cell_type": "code",
   "execution_count": null,
   "metadata": {},
   "outputs": [],
   "source": [
    "YCbCr_test_frame = np.array([255, 0, 0], dtype=np.int16).reshape((1,1,1))\n",
    "print(YCbCr_to_RGB(YCbCr_test_frame))"
   ]
  },
  {
   "cell_type": "code",
   "execution_count": null,
   "metadata": {},
   "outputs": [],
   "source": [
    "np.array([255, 0, 0], dtype=np.int16)"
   ]
  },
  {
   "cell_type": "code",
   "execution_count": null,
   "metadata": {},
   "outputs": [],
   "source": [
    "YCbCr_test_frame = np.zeros_like(frame).astype(np.uint16)"
   ]
  },
  {
   "cell_type": "code",
   "execution_count": null,
   "metadata": {},
   "outputs": [],
   "source": [
    "type(YCbCr_test_frame[0,0,0])"
   ]
  },
  {
   "cell_type": "code",
   "execution_count": null,
   "metadata": {},
   "outputs": [],
   "source": [
    "YCbCr_test_frame[1,1,2] = 255"
   ]
  },
  {
   "cell_type": "code",
   "execution_count": null,
   "metadata": {},
   "outputs": [],
   "source": [
    "RGB_test_frame = YCbCr_to_RGB(YCbCr_test_frame)"
   ]
  },
  {
   "cell_type": "code",
   "execution_count": null,
   "metadata": {},
   "outputs": [],
   "source": [
    "print(average_energy(RGB_test_frame))"
   ]
  },
  {
   "cell_type": "code",
   "execution_count": null,
   "metadata": {},
   "outputs": [],
   "source": [
    "show_frame(RGB_test_frame, \"\")"
   ]
  },
  {
   "cell_type": "code",
   "execution_count": null,
   "metadata": {},
   "outputs": [],
   "source": []
  },
  {
   "cell_type": "code",
   "execution_count": null,
   "metadata": {
    "scrolled": true
   },
   "outputs": [],
   "source": [
    "def print_gains(val):\n",
    "    Y_delta = np.array([val, 0, 0]).astype(np.uint8).reshape(1,1,3)\n",
    "    RGB_Y_delta = YCoCg.to_RGB(Y_delta)\n",
    "    RGB_energy_Y_delta = information.energy(RGB_Y_delta)\n",
    "    \n",
    "    Co_delta = np.array([0, val, 0]).astype(np.uint8).reshape(1,1,3)\n",
    "    RGB_Co_delta = YCoCg.to_RGB(Co_delta)\n",
    "    RGB_energy_Co_delta = information.energy(RGB_Co_delta)\n",
    "    \n",
    "    Cg_delta = np.array([0, 0, val]).astype(np.uint8).reshape(1,1,3)\n",
    "    RGB_Cg_delta = YCoCg.to_RGB(Cg_delta)\n",
    "    RGB_energy_Cg_delta = information.energy(RGB_Cg_delta)\n",
    "    \n",
    "    zero = np.array([0, 0, 0]).astype(np.uint8).reshape(1,1,3)\n",
    "    RGB_zero = YCoCg.to_RGB(zero)\n",
    "    RGB_energy_zero = information.energy(RGB_zero)\n",
    "\n",
    "    print(f\"Energy of {Y_delta} in the RGB domain ({RGB_Y_delta}) = {RGB_energy_Y_delta}\")\n",
    "    print(f\"Energy of {Co_delta} in the RGB domain ({RGB_Co_delta}) = {RGB_energy_Co_delta}\")\n",
    "    print(f\"Energy of {Cg_delta} in the RGB domain ({RGB_Cg_delta}) = {RGB_energy_Cg_delta}\")\n",
    "    print(f\"Energy of {zero} in the RGB domain ({RGB_zero}) = {RGB_energy_zero}\")\n",
    "    \n",
    "    max_ = max(RGB_energy_Y_delta, RGB_energy_Co_delta, RGB_energy_Cg_delta)\n",
    "    Y_relative_gain = RGB_energy_Y_delta / max_\n",
    "    Co_relative_gain = RGB_energy_Co_delta / max_\n",
    "    Cg_relative_gain = RGB_energy_Cg_delta / max_\n",
    "    print(f\"Relative gain of Y component = {Y_relative_gain}\")\n",
    "    print(f\"Relative gain of Co component = {Co_relative_gain}\")\n",
    "    print(f\"Relative gain of Cg component = {Cg_relative_gain}\")\n",
    "    \n",
    "print_info(255)\n",
    "print()\n",
    "print_info(1)\n",
    "print()\n",
    "print_info(10)\n",
    "print()\n",
    "print_info(0)"
   ]
  },
  {
   "cell_type": "markdown",
   "metadata": {},
   "source": [
    "## Build the optimal RD curve\n",
    "\n",
    "Neither YCrCb nor YCoCg are orthogonal spaces, which means that even considering the channel gains, the contributions of the channels to the quality of the reconstruction are not additive (the channels are not independent). This implies that the search of the optimal QSs cannot be done by simply sorting the slopes of each OTP of each channel, but by searching for each OTP the best combination of QSs, that not necessarily need to be embbeded (i.e., it can not be asserted that the optimal QSs for a quality level Q generated by a combination $[\\Delta_Y^Q, \\Delta_U^Q, \\Delta_V^Q]$ > $[\\Delta_Y^{Q+1}, \\Delta_U^{Q+1}, \\Delta_V^{Q+1}]$, for all the channels). Unfortunately, this fact significantly complicates the optimal bit-rate control through quantization. \n",
    "\n",
    "A way to deal with this problem is ignore the orthogonality lack (well, the YCoCg transform is almost orthogonal, and therefore, we are not supposing something terribly wrong). This is that we are going to implement."
   ]
  }
 ],
 "metadata": {
  "kernelspec": {
   "display_name": "Python 3 (ipykernel)",
   "language": "python",
   "name": "python3"
  },
  "language_info": {
   "codemirror_mode": {
    "name": "ipython",
    "version": 3
   },
   "file_extension": ".py",
   "mimetype": "text/x-python",
   "name": "python",
   "nbconvert_exporter": "python",
   "pygments_lexer": "ipython3",
   "version": "3.10.5"
  }
 },
 "nbformat": 4,
 "nbformat_minor": 4
}

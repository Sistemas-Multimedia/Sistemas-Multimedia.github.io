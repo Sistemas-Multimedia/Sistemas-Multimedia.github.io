{
 "cells": [
  {
   "cell_type": "markdown",
   "metadata": {},
   "source": [
    "[![Binder](https://mybinder.org/badge_logo.svg)](https://nbviewer.org/github/Sistemas-Multimedia/Sistemas-Multimedia.github.io/blob/master/contents/vector_quantization/VQ_grayscale_image.ipynb)"
   ]
  },
  {
   "cell_type": "markdown",
   "metadata": {},
   "source": [
    "[![Colab](https://badgen.net/badge/Launch/on%20Google%20Colab/blue?icon=notebook)](https://colab.research.google.com/github/Sistemas-Multimedia/Sistemas-Multimedia.github.io/blob/master/contents/vector_quantization/VQ_grayscale_image.ipynb)"
   ]
  },
  {
   "cell_type": "markdown",
   "metadata": {},
   "source": [
    "\n",
    "# Vector Quantization (in the 2D domain) of a gray-scale image\n",
    "\n",
    "Spatial VQ using [K-means](https://scikit-learn.org/stable/modules/generated/sklearn.cluster.KMeans.html#sklearn.cluster.KMeans)."
   ]
  },
  {
   "cell_type": "code",
   "execution_count": null,
   "metadata": {},
   "outputs": [],
   "source": [
    "%%bash\n",
    "if [ -d \"$HOME/repos\" ]; then\n",
    "    echo \"\\\"$HOME/repos\\\" exists\"\n",
    "else\n",
    "    mkdir ~/repos\n",
    "    echo Created $HOME/repos\n",
    "fi"
   ]
  },
  {
   "cell_type": "code",
   "execution_count": null,
   "metadata": {},
   "outputs": [],
   "source": [
    "%%bash\n",
    "if [ -d \"$HOME/repos/scalar_quantization\" ]; then\n",
    "    cd $HOME/repos/scalar_quantization\n",
    "    echo \"$HOME/repos/scalar_quantization ... \"\n",
    "    git pull \n",
    "else\n",
    "    cd $HOME/repos\n",
    "    git clone https://github.com/vicente-gonzalez-ruiz/scalar_quantization.git\n",
    "fi"
   ]
  },
  {
   "cell_type": "code",
   "execution_count": null,
   "metadata": {},
   "outputs": [],
   "source": [
    "%%bash\n",
    "if [ -d \"$HOME/repos/image_IO\" ]; then\n",
    "    cd $HOME/repos/image_IO\n",
    "    echo \"$HOME/repos/image_IO ... \"\n",
    "    git pull \n",
    "else\n",
    "    cd $HOME/repos\n",
    "    git clone https://github.com/vicente-gonzalez-ruiz/image_IO.git\n",
    "fi"
   ]
  },
  {
   "cell_type": "code",
   "execution_count": null,
   "metadata": {},
   "outputs": [],
   "source": [
    "%%bash\n",
    "if [ -d \"$HOME/repos/MRVC\" ]; then\n",
    "    cd $HOME/repos/MRVC\n",
    "    echo \"$HOME/repos/MRVC ... \"\n",
    "    git pull \n",
    "else\n",
    "    cd $HOME/repos\n",
    "    git clone https://github.com/Sistemas-Multimedia/MRVC.git\n",
    "fi"
   ]
  },
  {
   "cell_type": "code",
   "execution_count": null,
   "metadata": {},
   "outputs": [],
   "source": [
    "#!ln -sf ~/repos/scalar_quantization/deadzone_quantizer.py .\n",
    "!ln -sf ~/repos/information_theory/information.py .\n",
    "!ln -sf ~/repos/information_theory/distortion.py .\n",
    "!ln -sf ~/repos/image_IO/image_1.py .\n",
    "!ln -sf ~/repos/image_IO/logging_config.py ."
   ]
  },
  {
   "cell_type": "code",
   "execution_count": null,
   "metadata": {},
   "outputs": [],
   "source": [
    "try:\n",
    "    import matplotlib.pyplot as plt\n",
    "except:\n",
    "    !pip install matplotlib\n",
    "    import matplotlib.pyplot as plt\n",
    "%matplotlib inline\n",
    "\n",
    "try:\n",
    "    import scipy\n",
    "except:\n",
    "    !pip install scipy\n",
    "\n",
    "import numpy as np\n",
    "\n",
    "try:\n",
    "    import cv2\n",
    "except:\n",
    "    !pip install opencv-python\n",
    "    !pip install opencv-python-headless # Binder compatibility\n",
    "\n",
    "try:\n",
    "    from sklearn import cluster\n",
    "except:\n",
    "    !pip install sklearn\n",
    "    from sklearn import cluster\n",
    "\n",
    "import os\n",
    "import pylab\n",
    "\n",
    "try:\n",
    "    import colored\n",
    "except:\n",
    "    !pip install colored\n",
    "\n",
    "import image_1 as gray_image\n",
    "\n",
    "try:\n",
    "    import skimage\n",
    "except:\n",
    "    !pip install scikit-image\n",
    "    import skimage\n",
    "    \n",
    "import distortion\n",
    "import math"
   ]
  },
  {
   "cell_type": "markdown",
   "metadata": {},
   "source": [
    "## Configuration"
   ]
  },
  {
   "cell_type": "code",
   "execution_count": null,
   "metadata": {},
   "outputs": [],
   "source": [
    "home = os.environ[\"HOME\"]\n",
    "fn = home + \"/repos/MRVC/images/lena_bw/\"\n",
    "block_width = 16\n",
    "block_height = 16\n",
    "n_clusters = 256  # Number of bins\n",
    "N_tries = 3  # Number of times K-means is run\n",
    "#range_of_N_bins = range(2, 256, 1)\n",
    "range_of_N_bins = [1<<i for i in range(1, 8)]\n",
    "#gray_image.write = gray_image.debug_write # faster\n",
    "gray_image.write = gray_image.write # higher compression"
   ]
  },
  {
   "cell_type": "markdown",
   "metadata": {},
   "source": [
    "## Read the image and show it"
   ]
  },
  {
   "cell_type": "code",
   "execution_count": null,
   "metadata": {},
   "outputs": [],
   "source": [
    "img = gray_image.read(fn, 0)\n",
    "gray_image.show(img, fn + \"000.png\")"
   ]
  },
  {
   "cell_type": "markdown",
   "metadata": {},
   "source": [
    "## Example"
   ]
  },
  {
   "cell_type": "code",
   "execution_count": null,
   "metadata": {},
   "outputs": [],
   "source": [
    "block_length = block_width*block_height\n",
    "np.random.seed(seed=1)  # makes the random numbers predictable\n",
    "k_means = cluster.KMeans(init=\"k-means++\", n_clusters=n_clusters, n_init=N_tries)\n",
    "blocks = []\n",
    "for i in range(0, img.shape[0], block_width):\n",
    "    for j in range(0, img.shape[1], block_height):\n",
    "        blocks.append(np.reshape(img[i:i + block_width, j:j + block_height], block_length))\n",
    "blocks = np.asarray(blocks).astype(float)\n",
    "k_means.fit(blocks)\n",
    "centroids = k_means.cluster_centers_.squeeze().astype(np.uint8)  # the code-book\n",
    "labels = k_means.labels_  # Labels of the centroids\n",
    "\n",
    "labels = labels.reshape(img.shape[0]//block_height, img.shape[1]//block_width)\n",
    "img_dequantized = np.empty_like(img)\n",
    "for i in range(0, img.shape[0], block_width):\n",
    "    for j in range(0, img.shape[1], block_height):\n",
    "        img_dequantized[i:i + block_width, j:j + block_height] = centroids[labels[i//block_width,j//block_height]].reshape(block_height, block_width)"
   ]
  },
  {
   "cell_type": "code",
   "execution_count": null,
   "metadata": {},
   "outputs": [],
   "source": [
    "gray_image.show(img_dequantized, \"Dequantized Image\")\n",
    "assert len(centroids) == n_clusters\n",
    "print(\"centroids =\\n\", centroids)\n",
    "bits_per_block = int(math.log(n_clusters)/math.log(2))\n",
    "print(f\"{len(centroids)} centroids ({bits_per_block} bits/block)\")\n",
    "blocks_in_y = img.shape[0]//block_height\n",
    "blocks_in_x = img.shape[1]//block_width\n",
    "print(f\"{blocks_in_y}x{blocks_in_x} blocks (vectors) in the image\")\n",
    "number_of_blocks = blocks_in_y*blocks_in_x\n",
    "total_number_of_bits = number_of_blocks*bits_per_block\n",
    "print(f\"total number of output bytes = {total_number_of_bits//8}\")"
   ]
  },
  {
   "cell_type": "markdown",
   "metadata": {},
   "source": [
    "## RD performance"
   ]
  },
  {
   "cell_type": "code",
   "execution_count": null,
   "metadata": {
    "scrolled": true
   },
   "outputs": [],
   "source": [
    "def RD_curve(img, range_of_N_bins):\n",
    "    blocks = []\n",
    "    for i in range(0, img.shape[0], block_width):\n",
    "        for j in range(0, img.shape[1], block_height):\n",
    "            blocks.append(np.reshape(img[i:i + block_width, j:j + block_height], block_length))\n",
    "    blocks = np.asarray(blocks).astype(float)\n",
    "    points = []\n",
    "    for n in range_of_N_bins:\n",
    "        k_means = cluster.KMeans(init=\"k-means++\", n_clusters=n, n_init=N_tries)\n",
    "        k_means.fit(blocks)\n",
    "        centroids = k_means.cluster_centers_.squeeze().astype(np.uint8)\n",
    "        k = k_means.labels_.astype(np.uint8)  # bit-depth depends on number of bins! \n",
    "        k = k.reshape(img.shape[0]//block_height, img.shape[1]//block_width)\n",
    "        y = np.empty_like(img)\n",
    "        for i in range(0, img.shape[0], block_width):\n",
    "            for j in range(0, img.shape[1], block_height):\n",
    "                y[i:i + block_width, j:j + block_height] = centroids[k[i//block_width,j//block_height]].reshape(block_height, block_width)\n",
    "        print(\"Quantization indexes: \", np.unique(k))\n",
    "        rate = gray_image.write(k, \"/tmp/\" + str(n) + '_', 0)*8/img.size\n",
    "        _distortion = distortion.RMSE(img, y)\n",
    "        if not n%10:\n",
    "            plt.title(f\"{n}\")\n",
    "            plt.imshow(y, cmap=plt.cm.gray, vmin=0, vmax=256)\n",
    "            plt.show()\n",
    "        points.append((rate, _distortion))\n",
    "        print(f\"n={n:>3}, rate={rate:>7} bits/pixel, distortion={_distortion:>6.1f}\")\n",
    "    return points\n",
    "RD_points = RD_curve(img, range_of_N_bins)"
   ]
  },
  {
   "cell_type": "code",
   "execution_count": null,
   "metadata": {},
   "outputs": [],
   "source": [
    "pylab.figure(dpi=150)\n",
    "#pylab.scatter(*zip(*RD_points), label=f\"VQ+PNG\", s=1, marker='.')\n",
    "pylab.plot(*zip(*RD_points), c='m', marker='x', label=f\"VQ(2D)+PNG\", linestyle=\"dotted\")\n",
    "pylab.title(f\"Rate/Distortion Performance\")\n",
    "pylab.xlabel(\"Bits/Pixel\")\n",
    "pylab.ylabel(\"RMSE\")\n",
    "pylab.legend(loc='upper right')\n",
    "pylab.show()"
   ]
  },
  {
   "cell_type": "code",
   "execution_count": null,
   "metadata": {},
   "outputs": [],
   "source": [
    "with open(f\"VQ_2D_RD_points.txt\", 'w') as f:\n",
    "    for item in RD_points:\n",
    "        f.write(f\"{item[0]}\\t{item[1]}\\n\")"
   ]
  },
  {
   "cell_type": "code",
   "execution_count": null,
   "metadata": {},
   "outputs": [],
   "source": [
    "import time\n",
    "while True:\n",
    "    time.sleep(1)"
   ]
  },
  {
   "cell_type": "code",
   "execution_count": null,
   "metadata": {},
   "outputs": [],
   "source": []
  }
 ],
 "metadata": {
  "kernelspec": {
   "display_name": "Python 3 (ipykernel)",
   "language": "python",
   "name": "python3"
  },
  "language_info": {
   "codemirror_mode": {
    "name": "ipython",
    "version": 3
   },
   "file_extension": ".py",
   "mimetype": "text/x-python",
   "name": "python",
   "nbconvert_exporter": "python",
   "pygments_lexer": "ipython3",
   "version": "3.10.5"
  }
 },
 "nbformat": 4,
 "nbformat_minor": 1
}

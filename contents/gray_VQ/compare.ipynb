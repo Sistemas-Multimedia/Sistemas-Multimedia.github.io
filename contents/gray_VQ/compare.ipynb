{
 "cells": [
  {
   "cell_type": "markdown",
   "metadata": {
    "id": "_9VV-M3Ugsed"
   },
   "source": [
    "[![Binder](https://mybinder.org/badge_logo.svg)](https://nbviewer.org/github/Sistemas-Multimedia/Sistemas-Multimedia.github.io/blob/master/contents/vector_quantization/compare.ipynb)"
   ]
  },
  {
   "cell_type": "markdown",
   "metadata": {
    "id": "Nu7Inetugsee"
   },
   "source": [
    "[![Colab](https://badgen.net/badge/Launch/on%20Google%20Colab/blue?icon=notebook)](https://colab.research.google.com/github/Sistemas-Multimedia/Sistemas-Multimedia.github.io/blob/master/contents/vector_quantization/compare.ipynb)"
   ]
  },
  {
   "cell_type": "markdown",
   "metadata": {
    "id": "Z0z43gX7gsef"
   },
   "source": [
    "# Quantizers comparison in the Gray-scale domain"
   ]
  },
  {
   "cell_type": "code",
   "execution_count": null,
   "metadata": {
    "colab": {
     "base_uri": "https://localhost:8080/"
    },
    "id": "Sa98u1pSgseg",
    "outputId": "16d0d97e-d5bf-430a-b662-5d8f06913b93"
   },
   "outputs": [],
   "source": [
    "%%bash\n",
    "if [ -d \"$HOME/repos\" ]; then\n",
    "    echo \"\\\"$HOME/repos\\\" exists\"\n",
    "else\n",
    "    mkdir ~/repos\n",
    "    echo Created $HOME/repos\n",
    "fi"
   ]
  },
  {
   "cell_type": "code",
   "execution_count": null,
   "metadata": {
    "colab": {
     "base_uri": "https://localhost:8080/"
    },
    "id": "PVl1M0XXgsei",
    "outputId": "3801cac7-aea6-477b-a03d-87a3f36deaf5"
   },
   "outputs": [],
   "source": [
    "%%bash\n",
    "if [ -d \"$HOME/repos/scalar_quantization\" ]; then\n",
    "    cd $HOME/repos/scalar_quantization\n",
    "    echo \"$HOME/repos/scalar_quantization ... \"\n",
    "    git pull \n",
    "else\n",
    "    cd $HOME/repos\n",
    "    git clone https://github.com/vicente-gonzalez-ruiz/scalar_quantization.git\n",
    "fi"
   ]
  },
  {
   "cell_type": "code",
   "execution_count": null,
   "metadata": {
    "colab": {
     "base_uri": "https://localhost:8080/"
    },
    "id": "cDH5YL6sgsej",
    "outputId": "39a126a2-40ad-4cb7-90ba-842ff326920f"
   },
   "outputs": [],
   "source": [
    "%%bash\n",
    "if [ -d \"$HOME/repos/MRVC\" ]; then\n",
    "    cd $HOME/repos/MRVC\n",
    "    echo \"$HOME/repos/MRVC ... \"\n",
    "    git pull \n",
    "else\n",
    "    cd $HOME/repos\n",
    "    git clone https://github.com/Sistemas-Multimedia/MRVC.git\n",
    "fi"
   ]
  },
  {
   "cell_type": "code",
   "execution_count": null,
   "metadata": {
    "colab": {
     "base_uri": "https://localhost:8080/"
    },
    "id": "Q52-R_xdgsek",
    "outputId": "80865911-aefc-4ac6-8edf-4e3ebe0430fc"
   },
   "outputs": [],
   "source": [
    "if 'google.colab' in str(get_ipython()):\n",
    "    !wget https://raw.githubusercontent.com/Sistemas-Multimedia/Sistemas-Multimedia.github.io/master/contents/scalar_quantization/deadzone.ipynb\n",
    "    !wget https://raw.githubusercontent.com/Sistemas-Multimedia/Sistemas-Multimedia.github.io/master/contents/vector_quantization/VQ_grayscale_image.ipynb"
   ]
  },
  {
   "cell_type": "code",
   "execution_count": null,
   "metadata": {
    "id": "y6O7p224gsel"
   },
   "outputs": [],
   "source": [
    "!ln -sf ~/MRVC/src/debug.py .\n",
    "!ln -sf ~/MRVC/src/logging_config.py .\n",
    "!ln -sf ~/repos/scalar_quantization/distortion.py .\n",
    "!ln -sf ~/repos/image_IO/image_3.py .\n",
    "!ln -sf ~/repos/image_IO/image_1.py .\n",
    "!ln -sf ~/repos/scalar_quantization/information.py .\n",
    "!ln -sf ~/repos/image_IO/logging_config.py ."
   ]
  },
  {
   "cell_type": "code",
   "execution_count": null,
   "metadata": {
    "id": "7WwY8alIgsem"
   },
   "outputs": [],
   "source": [
    "try:\n",
    "    import matplotlib.pyplot as plt\n",
    "except:\n",
    "    !pip install matplotlib\n",
    "    import matplotlib\n",
    "    import matplotlib.pyplot as plt\n",
    "    import matplotlib.axes as ax\n",
    "    #plt.rcParams['text.usetex'] = True\n",
    "    #plt.rcParams['text.latex.preamble'] = [r'\\usepackage{amsmath}'] #for \\text command\n",
    "%matplotlib inline\n",
    "\n",
    "import pylab\n",
    "import os"
   ]
  },
  {
   "cell_type": "code",
   "execution_count": null,
   "metadata": {
    "id": "quiMWok6gseo"
   },
   "outputs": [],
   "source": [
    "def load(path):\n",
    "    curve = []\n",
    "    with open(path, 'r') as f:\n",
    "        for line in f:\n",
    "            rate, _distortion = line.split('\\t')\n",
    "            curve.append((float(rate), float(_distortion)))\n",
    "    return curve"
   ]
  },
  {
   "cell_type": "code",
   "execution_count": null,
   "metadata": {
    "colab": {
     "base_uri": "https://localhost:8080/",
     "height": 1000
    },
    "id": "YLgUlIxogseq",
    "outputId": "2ce4bb29-2181-4ca5-8c0b-ca1a531451b7"
   },
   "outputs": [],
   "source": [
    "if 'google.colab' in str(get_ipython()):\n",
    "    %run ./deadzone.ipynb\n",
    "    deadzone_RD = load(\"./dead-zone_RD_points.txt\")\n",
    "    print(\"loaded ./dead-zone_RD_points.txt\")\n",
    "elif not os.path.exists(\"../gray_SQ/dead-zone_RD_points.txt\"):\n",
    "    %run ../scalar_quantization/deadzone.ipynb\n",
    "    deadzone_RD = load(\"../gray_SQ/dead-zone_RD_points.txt\")\n",
    "    print(\"loaded ../gray_SQ/dead-zone_RD_points.txt after regenerating the file\")\n",
    "else:\n",
    "    deadzone_RD = load(\"../gray_SQ/dead-zone_RD_points.txt\")\n",
    "    print(\"loaded ../gray_SQ/dead-zone_RD_points.txt without regenerating the file\")"
   ]
  },
  {
   "cell_type": "code",
   "execution_count": null,
   "metadata": {
    "colab": {
     "base_uri": "https://localhost:8080/",
     "height": 1000
    },
    "id": "1U7sErcygseq",
    "outputId": "64b176f3-785d-456c-878a-80da0080c85e"
   },
   "outputs": [],
   "source": [
    "if not os.path.exists(\"gray_VQ.txt\"):\n",
    "    %run ./VQ_2D_gray.ipynb\n",
    "VQ_RD = load(\"gray_VQ.txt\")"
   ]
  },
  {
   "cell_type": "code",
   "execution_count": null,
   "metadata": {
    "colab": {
     "base_uri": "https://localhost:8080/",
     "height": 599
    },
    "id": "vty17Uf7gser",
    "outputId": "1ba859e5-a2b3-4013-cfb0-91d48d8acbf1"
   },
   "outputs": [],
   "source": [
    "pylab.figure(dpi=150)\n",
    "pylab.plot(*zip(*deadzone_RD), c='m', marker='x', label=\"Dead-zone\", linestyle=\"dotted\")\n",
    "pylab.plot(*zip(*VQ_RD), c='k', marker='x', label=\"VQ\", linestyle=\"dotted\")\n",
    "pylab.title(\"Rate/Distortion Performance \")\n",
    "pylab.xlabel(\"Bits/Pixel\")\n",
    "pylab.ylabel(\"RMSE\")\n",
    "pylab.legend(loc='upper right')\n",
    "pylab.xscale(\"log\")\n",
    "#pylab.yscale(\"log\")\n",
    "pylab.show()"
   ]
  },
  {
   "cell_type": "code",
   "execution_count": null,
   "metadata": {
    "id": "H9RrP_oPgses"
   },
   "outputs": [],
   "source": []
  },
  {
   "cell_type": "code",
   "execution_count": null,
   "metadata": {},
   "outputs": [],
   "source": []
  }
 ],
 "metadata": {
  "colab": {
   "name": "compare.ipynb",
   "provenance": []
  },
  "kernelspec": {
   "display_name": "Python 3 (ipykernel)",
   "language": "python",
   "name": "python3"
  },
  "language_info": {
   "codemirror_mode": {
    "name": "ipython",
    "version": 3
   },
   "file_extension": ".py",
   "mimetype": "text/x-python",
   "name": "python",
   "nbconvert_exporter": "python",
   "pygments_lexer": "ipython3",
   "version": "3.10.5"
  }
 },
 "nbformat": 4,
 "nbformat_minor": 1
}

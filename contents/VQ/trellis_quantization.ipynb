{
 "cells": [
  {
   "cell_type": "markdown",
   "id": "747c0bf6",
   "metadata": {},
   "source": [
    "# Trellis-Coded Quantization (TCQ)"
   ]
  },
  {
   "cell_type": "code",
   "execution_count": null,
   "id": "09a4efa3",
   "metadata": {},
   "outputs": [],
   "source": [
    "import numpy as np\n",
    "from scipy.spatial.distance import cdist"
   ]
  },
  {
   "cell_type": "code",
   "execution_count": null,
   "id": "b6ac89ed",
   "metadata": {},
   "outputs": [],
   "source": [
    "N_levels  = 8  ## Number of quantization levels in the trellis quantizer\n",
    "Q_step    = 1  ## Quantization step size\n",
    "min_level = -3.5\n",
    "N_states  = 4"
   ]
  },
  {
   "cell_type": "code",
   "execution_count": null,
   "id": "f7a03cf3",
   "metadata": {},
   "outputs": [],
   "source": [
    "max_level = min_level + (N_levels - 1)*Q_step\n",
    "decision_levels = np.linspace(min_level, max_level, N_levels)"
   ]
  },
  {
   "cell_type": "code",
   "execution_count": null,
   "id": "e6f49c1c",
   "metadata": {},
   "outputs": [],
   "source": [
    "decision_levels"
   ]
  },
  {
   "cell_type": "code",
   "execution_count": null,
   "id": "9dc61e76",
   "metadata": {},
   "outputs": [],
   "source": [
    "states__decision_levels = []\n",
    "for i in range(N_states):\n",
    "    states__decision_levels.append(decision_levels[i::N_states])"
   ]
  },
  {
   "cell_type": "code",
   "execution_count": null,
   "id": "4d9fb088",
   "metadata": {},
   "outputs": [],
   "source": [
    "states__decision_levels"
   ]
  },
  {
   "cell_type": "code",
   "execution_count": null,
   "id": "aab81470",
   "metadata": {},
   "outputs": [],
   "source": [
    "FSM = [\n",
    "    [0, 2],\n",
    "    [0, 2],\n",
    "    [1, 3],\n",
    "    [3, 1]\n",
    "]  ## [State][Input]"
   ]
  },
  {
   "cell_type": "code",
   "execution_count": null,
   "id": "56a54bc7",
   "metadata": {},
   "outputs": [],
   "source": [
    "FSM[0][1]"
   ]
  },
  {
   "cell_type": "code",
   "execution_count": null,
   "id": "63e5de34",
   "metadata": {},
   "outputs": [],
   "source": [
    "sample = np.array([0.2, 1.6, 2.3])"
   ]
  },
  {
   "cell_type": "code",
   "execution_count": null,
   "id": "60202441",
   "metadata": {},
   "outputs": [],
   "source": [
    "np.min(np.abs(states__decision_levels - sample[0]))"
   ]
  },
  {
   "cell_type": "code",
   "execution_count": null,
   "id": "91a74a24",
   "metadata": {},
   "outputs": [],
   "source": [
    "cost_0 = np.zeros(shape=(N_states, N_states))"
   ]
  },
  {
   "cell_type": "code",
   "execution_count": null,
   "id": "32d5e2a6",
   "metadata": {},
   "outputs": [],
   "source": [
    "for i in len(cost_0):\n",
    "    cost_0[i, i] = "
   ]
  },
  {
   "cell_type": "code",
   "execution_count": null,
   "id": "c631cab5",
   "metadata": {},
   "outputs": [],
   "source": [
    "for i in range(N_states):\n",
    "    step_0[i, i] = "
   ]
  },
  {
   "cell_type": "code",
   "execution_count": null,
   "id": "95ab6fda",
   "metadata": {},
   "outputs": [],
   "source": [
    "%matplotlib inline\n",
    "#%matplotlib qt\n",
    "import sk_dsp_comm.sigsys as ss\n",
    "import scipy.signal as signal\n",
    "from IPython.display import Audio, display\n",
    "from IPython.display import Image, SVG"
   ]
  },
  {
   "cell_type": "code",
   "execution_count": null,
   "id": "e7c8487b",
   "metadata": {},
   "outputs": [],
   "source": [
    "pylab.rcParams['savefig.dpi'] = 100 # default 72\n",
    "#pylab.rcParams['figure.figsize'] = (6.0, 4.0) # default (6,4)\n",
    "#%config InlineBackend.figure_formats=['png'] # default for inline viewing\n",
    "%config InlineBackend.figure_formats=['svg'] # SVG inline viewing\n",
    "#%config InlineBackend.figure_formats=['pdf'] # render pdf figs for LaTeX"
   ]
  },
  {
   "cell_type": "code",
   "execution_count": null,
   "id": "939601fa",
   "metadata": {},
   "outputs": [],
   "source": [
    "import scipy.special as special\n",
    "import sk_dsp_comm.digitalcom as dc\n",
    "import sk_dsp_comm.fec_conv as fec"
   ]
  },
  {
   "cell_type": "code",
   "execution_count": null,
   "id": "a688e76d",
   "metadata": {},
   "outputs": [],
   "source": [
    "cc1 = fec.FECConv(('111','101'),10)"
   ]
  },
  {
   "cell_type": "code",
   "execution_count": null,
   "id": "c87e9bfe",
   "metadata": {},
   "outputs": [],
   "source": [
    "cc1.trellis_plot()"
   ]
  },
  {
   "cell_type": "code",
   "execution_count": null,
   "id": "043288da",
   "metadata": {},
   "outputs": [],
   "source": [
    "cc1 = fec.FECConv(('11101','10011'),8)#memory of 8, 3 bit trellis, 8 states"
   ]
  },
  {
   "cell_type": "code",
   "execution_count": null,
   "id": "6353cab0",
   "metadata": {},
   "outputs": [],
   "source": [
    "cc1.trellis_plot()"
   ]
  },
  {
   "cell_type": "code",
   "execution_count": null,
   "id": "59438c4a",
   "metadata": {},
   "outputs": [],
   "source": [
    "N_bits_per_frame = 800 # 100 weights of the byte or int-8 \n",
    "\n",
    "# Encode with shift register starting state of '0000'\n",
    "state = '0000'\n",
    "# Create 100000 random 0/1 bits\n",
    "x = randint(0,2,N_bits_per_frame) #I imagine this to be my parameter vector\n",
    "\n",
    "y,state = cc1.conv_encoder(x,state)"
   ]
  },
  {
   "cell_type": "code",
   "execution_count": null,
   "id": "77be65bb",
   "metadata": {},
   "outputs": [],
   "source": [
    "x"
   ]
  },
  {
   "cell_type": "code",
   "execution_count": null,
   "id": "88c482da",
   "metadata": {},
   "outputs": [],
   "source": [
    "x.shape"
   ]
  },
  {
   "cell_type": "code",
   "execution_count": null,
   "id": "fa67aec8",
   "metadata": {},
   "outputs": [],
   "source": [
    "y"
   ]
  },
  {
   "cell_type": "code",
   "execution_count": null,
   "id": "b6c2f70c",
   "metadata": {},
   "outputs": [],
   "source": [
    "y.shape"
   ]
  },
  {
   "cell_type": "code",
   "execution_count": null,
   "id": "0fd9a324",
   "metadata": {},
   "outputs": [],
   "source": [
    "y.dtype"
   ]
  },
  {
   "cell_type": "code",
   "execution_count": null,
   "id": "24be9a3e",
   "metadata": {},
   "outputs": [],
   "source": [
    "y.real"
   ]
  },
  {
   "cell_type": "code",
   "execution_count": null,
   "id": "56ce6bf7",
   "metadata": {},
   "outputs": [],
   "source": [
    "y.imag"
   ]
  },
  {
   "cell_type": "code",
   "execution_count": null,
   "id": "c9a7704a",
   "metadata": {},
   "outputs": [],
   "source": [
    "np.max(y.imag)"
   ]
  },
  {
   "cell_type": "code",
   "execution_count": null,
   "id": "e856aff3",
   "metadata": {},
   "outputs": [],
   "source": [
    "state"
   ]
  },
  {
   "cell_type": "code",
   "execution_count": null,
   "id": "91013512",
   "metadata": {},
   "outputs": [],
   "source": [
    "# Scale & level shift to three-bit quantization levels [0,7]\n",
    "\n",
    "y = (y.real+1)/2*8\n",
    "\n",
    "z = cc1.viterbi_decoder(y,'soft',quant_level=3)#I imagine this to be the quantized sequence"
   ]
  },
  {
   "cell_type": "code",
   "execution_count": null,
   "id": "595bf01b",
   "metadata": {},
   "outputs": [],
   "source": [
    "z"
   ]
  },
  {
   "cell_type": "code",
   "execution_count": null,
   "id": "59242d93",
   "metadata": {},
   "outputs": [],
   "source": []
  }
 ],
 "metadata": {
  "kernelspec": {
   "display_name": "Python 3 (ipykernel)",
   "language": "python",
   "name": "python3"
  },
  "language_info": {
   "codemirror_mode": {
    "name": "ipython",
    "version": 3
   },
   "file_extension": ".py",
   "mimetype": "text/x-python",
   "name": "python",
   "nbconvert_exporter": "python",
   "pygments_lexer": "ipython3",
   "version": "3.10.2"
  }
 },
 "nbformat": 4,
 "nbformat_minor": 5
}

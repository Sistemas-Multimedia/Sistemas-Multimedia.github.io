{
 "cells": [
  {
   "cell_type": "markdown",
   "id": "700126b9",
   "metadata": {},
   "source": [
    "# Simple IPP Video Coding\n",
    "\n",
    "IPP-temporal decorrelation scheme where no RDO over the block type is performed (all blocks in the I-picture are I-blocks and all blocks in the P-pictures are P-blocks). No motion compensation is used.\n",
    "\n",
    "1. Read a GOP.\n",
    "2. Compensate the motion in the GOP, considering the drift error.\n",
    "3. Encode the IPP data structure."
   ]
  },
  {
   "cell_type": "code",
   "execution_count": null,
   "id": "d4e1261a",
   "metadata": {},
   "outputs": [],
   "source": [
    "import math\n",
    "!ln -sf ~/repos/image_IO/image_3.py .\n",
    "import image_3 as frame_RGB\n",
    "!ln -sf ~/information_theory/information.py .\n",
    "import information\n",
    "!ln -sf ~/information_theory/distortion.py .\n",
    "import distortion\n",
    "#!ln -sf ~/repos/YCoCg/YCoCg.py .\n",
    "#import YCoCg as YUV\n",
    "!ln -sf ~/repos/DCT/color_DCT.py .\n",
    "import color_DCT as YUV\n",
    "!ln -sf ~/repos/scalar_quantization/quantization.py .\n",
    "import quantization\n",
    "!ln -sf ~/repos/scalar_quantization/deadzone_quantization.py .\n",
    "#import deadzone_quantization as deadzone\n",
    "from deadzone_quantization import Deadzone_Quantizer as Quantizer"
   ]
  },
  {
   "cell_type": "code",
   "execution_count": null,
   "id": "8ffcafa6",
   "metadata": {},
   "outputs": [],
   "source": [
    "def encode_picture(video_prefix, picture_index=0, Q_step=1):\n",
    "    "
   ]
  },
  {
   "cell_type": "code",
   "execution_count": null,
   "id": "4452436f",
   "metadata": {},
   "outputs": [],
   "source": [
    "def encode_GOP(GOP, Q_step=1):\n",
    "    \n",
    "    GOP_size = len(GOP)\n",
    "    for k in range(1, GOP_size, 1):\n",
    "    W_k = YUV.from_RGB(V_k) # (a)\n",
    "    W_k_1 = W_k # (b)\n",
    "    E_k = W_k # (f)\n",
    "    reconstructed_picture = "
   ]
  },
  {
   "cell_type": "code",
   "execution_count": null,
   "id": "7b21b984",
   "metadata": {},
   "outputs": [],
   "source": [
    "def encode_sequence(video_prefix, first_picture=0, N_pictures=16, GOP_size=16, Q_step=1):\n",
    "    k = first_frame\n",
    "    N_GOPs = math.ceil(N_pictures/GOP_size)\n",
    "    print(\"N_GOPs =\", N_GOPs)\n",
    "    for GOP_number in range(N_GOPs):\n",
    "        print(\"Processing GOP number =\", GOP_number)\n",
    "        GOP = []\n",
    "        for picture_number_in_GOP in range(GOP_size):\n",
    "            k = GOP_number*GOP_size + picture_number_in_GOP\n",
    "            print(\"Reading frame number =\", k)\n",
    "            V_k = frame_RGB.read(video_prefix, k).astype(np.int16) - 128\n",
    "            W_k = YUV.from_RGB(V_k)\n",
    "            GOP.append(W_k)\n",
    "        encode_GOP(GOP, Q_step)"
   ]
  }
 ],
 "metadata": {
  "kernelspec": {
   "display_name": "Python 3 (ipykernel)",
   "language": "python",
   "name": "python3"
  },
  "language_info": {
   "codemirror_mode": {
    "name": "ipython",
    "version": 3
   },
   "file_extension": ".py",
   "mimetype": "text/x-python",
   "name": "python",
   "nbconvert_exporter": "python",
   "pygments_lexer": "ipython3",
   "version": "3.10.5"
  }
 },
 "nbformat": 4,
 "nbformat_minor": 5
}

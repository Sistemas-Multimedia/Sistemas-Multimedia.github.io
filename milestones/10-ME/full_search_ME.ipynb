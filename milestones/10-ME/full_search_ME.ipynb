{
 "cells": [
  {
   "cell_type": "markdown",
   "metadata": {},
   "source": [
    "[![Binder](https://mybinder.org/badge_logo.svg)](https://nbviewer.org/github/Sistemas-Multimedia/Sistemas-Multimedia.github.io/blob/master/milestones/10-ME/full_search_ME.ipynb)"
   ]
  },
  {
   "cell_type": "markdown",
   "metadata": {},
   "source": [
    "# Full search block-based ME (Motion Estimation)\n",
    "The predicted frame is divided into blocks and each one is characterized by a motion vector using exhaustive search. This guarantees reaching the global optimal (the best motion field)."
   ]
  },
  {
   "cell_type": "code",
   "execution_count": null,
   "metadata": {},
   "outputs": [],
   "source": [
    "import numpy as np\n",
    "!ln -sf ~/MRVC/src/image_3.py .\n",
    "import image_3 as frame\n",
    "!ln -sf ~/MRVC/src/YCoCg.py .\n",
    "import YCoCg as YUV\n",
    "!ln -sf ~/MRVC/src/config.py .\n",
    "!ln -sf ~/MRVC/src/debug.py .\n",
    "!ln -sf ~/MRVC/src/motion.py .\n",
    "import motion\n",
    "import matplotlib\n",
    "import matplotlib.pyplot as plt\n",
    "%matplotlib inline\n",
    "import cv2 as cv"
   ]
  },
  {
   "cell_type": "code",
   "execution_count": null,
   "metadata": {},
   "outputs": [],
   "source": [
    "def normalize(img):\n",
    "    max_component = np.max(img)\n",
    "    min_component = np.min(img)\n",
    "    max_min_component = max_component - min_component\n",
    "    return (img-min_component)/max_min_component\n",
    "\n",
    "def show_frame(frame, prefix=None):\n",
    "    #frame = normalize(frame)\n",
    "    plt.figure(figsize=(10,10))\n",
    "    plt.title(prefix, fontsize=20)\n",
    "    plt.imshow(frame)\n",
    "\n",
    "def show_vectors2(flow, dpi=150, downsampling=1):\n",
    "    #plt.figure.set_dpi(200)\n",
    "    plt.figure(dpi=dpi)\n",
    "    plt.quiver(flow[..., 0][::downsampling], flow[..., 1][::downsampling])\n",
    "    plt.show()\n",
    "    \n",
    "def show_vectors(flow, dpi=150):\n",
    "    #plt.figure.set_dpi(200)\n",
    "    plt.figure(dpi=dpi)\n",
    "    plt.quiver(flow[..., 0], flow[..., 1])\n",
    "    plt.show()"
   ]
  },
  {
   "cell_type": "code",
   "execution_count": null,
   "metadata": {},
   "outputs": [],
   "source": [
    "R = YUV.from_RGB(frame.read(\"/home/vruiz/MRVC/sequences/moving_circles/\", 0).astype(np.int16))[...,0]\n",
    "P = YUV.from_RGB(frame.read(\"/home/vruiz/MRVC/sequences/moving_circles/\", 1).astype(np.int16))[...,0]"
   ]
  },
  {
   "cell_type": "code",
   "execution_count": null,
   "metadata": {},
   "outputs": [],
   "source": [
    "show_frame(R, \"Reference\")"
   ]
  },
  {
   "cell_type": "code",
   "execution_count": null,
   "metadata": {
    "scrolled": false
   },
   "outputs": [],
   "source": [
    "show_frame(P, \"Predicted\")"
   ]
  },
  {
   "cell_type": "code",
   "execution_count": null,
   "metadata": {},
   "outputs": [],
   "source": [
    "P.max()"
   ]
  },
  {
   "cell_type": "code",
   "execution_count": null,
   "metadata": {},
   "outputs": [],
   "source": [
    "P.min()"
   ]
  },
  {
   "cell_type": "markdown",
   "metadata": {},
   "source": [
    "## Compute dense motion"
   ]
  },
  {
   "cell_type": "code",
   "execution_count": null,
   "metadata": {
    "scrolled": false
   },
   "outputs": [],
   "source": [
    "def full_search_block_based_ME(predicted, reference, block_side=16, search_range=32):\n",
    "    extended_reference = np.zeros((reference.shape[0] + search_range, reference.shape[1] + search_range))\n",
    "    extended_reference[search_range//2 : reference.shape[0] + search_range//2,\n",
    "                       search_range//2 : reference.shape[1] + search_range//2] = reference\n",
    "    flow = np.zeros((predicted.shape[0]//block_side, predicted.shape[1]//block_side, 2), dtype=np.int8)\n",
    "    for block_y_coor in range(0, predicted.shape[0], block_side):\n",
    "        for block_x_coor in range(0, predicted.shape[1], block_side):\n",
    "            #print(block_y_coor, block_x_coor)\n",
    "            errors_by_search_area = np.empty((search_range, search_range))\n",
    "            counter = 0\n",
    "            for search_range_y_coor in range(block_y_coor - search_range//2, block_y_coor + search_range//2):\n",
    "                for search_range_x_coor in range(block_x_coor - search_range//2, block_x_coor + search_range//2):\n",
    "                    #left_top_corner = [block_y_coor + search_range_y_coor, block_x_coor + search_range_x_coor]\n",
    "                    #right_bottom_corner = [left_top_corner[0] + search_range, left_top_corner[1] + search_range]\n",
    "                    #print(left_top_corner, right_bottom_corner)\n",
    "                    print(search_range_y_coor, search_range_x_coor)\n",
    "                    extended_reference_block = extended_reference[search_range_y_coor + search_range//2 :\n",
    "                                                                  search_range_y_coor + search_range//2 + block_side,\n",
    "                                                                  search_range_x_coor + search_range//2 :\n",
    "                                                                  search_range_x_coor + search_range//2 + block_side]\n",
    "                    predicted_block = predicted[block_y_coor :\n",
    "                                                block_y_coor + block_side,\n",
    "                                                block_x_coor :\n",
    "                                                block_x_coor + block_side]\n",
    "                    errors_in_search_area = extended_reference_block - predicted_block\n",
    "                                            \n",
    "                    #print(\"extended\", extended_reference_block)\n",
    "                    #print(\"predicted\", predicted_block)\n",
    "                    #print(\"error\", errors_in_search_area)\n",
    "                    absolute_error_by_block = np.sum(np.abs(errors_in_search_area))\n",
    "                    #print(counter, absolute_error_by_block)\n",
    "                    errors_by_search_area[(search_range_y_coor + search_range//2) % search_range,\n",
    "                                          (search_range_x_coor + search_range//2) % search_range] = absolute_error_by_block\n",
    "                    counter += 1\n",
    "            #print(errors_by_search_area)\n",
    "            mv_index = np.argmin(errors_by_search_area)\n",
    "            #print(mv_index)\n",
    "            MV_y = mv_index // block_side\n",
    "            MV_x = mv_index % block_side\n",
    "            flow[block_y_coor // block_side, block_x_coor // block_side] = (MV_y, MV_x)\n",
    "    return flow\n",
    "block_side = 4\n",
    "flow = full_search_block_based_ME(P, R, block_side=block_side, search_range=8)"
   ]
  },
  {
   "cell_type": "code",
   "execution_count": null,
   "metadata": {},
   "outputs": [],
   "source": [
    "flow.shape"
   ]
  },
  {
   "cell_type": "code",
   "execution_count": null,
   "metadata": {},
   "outputs": [],
   "source": [
    "for y in range(P.shape[0]//block_side):\n",
    "    for x in range(P.shape[1]//block_side):\n",
    "        print(flow[y, x], end=' ')\n",
    "    print()"
   ]
  },
  {
   "cell_type": "code",
   "execution_count": null,
   "metadata": {},
   "outputs": [],
   "source": [
    "show_vectors(flow[::1, ::1])"
   ]
  },
  {
   "cell_type": "code",
   "execution_count": null,
   "metadata": {},
   "outputs": [],
   "source": [
    "flow.max()"
   ]
  },
  {
   "cell_type": "code",
   "execution_count": null,
   "metadata": {},
   "outputs": [],
   "source": [
    "flow.min()"
   ]
  },
  {
   "cell_type": "code",
   "execution_count": null,
   "metadata": {},
   "outputs": [],
   "source": [
    "for i in range(64):\n",
    "    for j in range(64):\n",
    "        print((np.rint(flow)[i,j][1]), end=' ')\n",
    "    print()"
   ]
  },
  {
   "cell_type": "code",
   "execution_count": null,
   "metadata": {},
   "outputs": [],
   "source": [
    "show_frame(flow[...,0])"
   ]
  },
  {
   "cell_type": "code",
   "execution_count": null,
   "metadata": {},
   "outputs": [],
   "source": [
    "show_frame(flow[...,1])"
   ]
  },
  {
   "cell_type": "code",
   "execution_count": null,
   "metadata": {},
   "outputs": [],
   "source": [
    "show_frame(motion.colorize(flow), \"Motion in HSV color domain\")"
   ]
  },
  {
   "cell_type": "code",
   "execution_count": null,
   "metadata": {
    "scrolled": false
   },
   "outputs": [],
   "source": [
    "R = frame.read(\"/home/vruiz/MRVC/sequences/moving_circles/\", 0)\n",
    "P = frame.read(\"/home/vruiz/MRVC/sequences/moving_circles/\", 1)\n",
    "prediction = motion.make_prediction(R, flow)\n",
    "show_frame(prediction, \"Prediction\")\n",
    "show_frame(P, \"Predicted\")"
   ]
  },
  {
   "cell_type": "code",
   "execution_count": null,
   "metadata": {},
   "outputs": [],
   "source": [
    "show_frame(P-prediction, \"Error\")"
   ]
  }
 ],
 "metadata": {
  "kernelspec": {
   "display_name": "Python 3",
   "language": "python",
   "name": "python3"
  },
  "language_info": {
   "codemirror_mode": {
    "name": "ipython",
    "version": 3
   },
   "file_extension": ".py",
   "mimetype": "text/x-python",
   "name": "python",
   "nbconvert_exporter": "python",
   "pygments_lexer": "ipython3",
   "version": "3.9.7"
  }
 },
 "nbformat": 4,
 "nbformat_minor": 4
}

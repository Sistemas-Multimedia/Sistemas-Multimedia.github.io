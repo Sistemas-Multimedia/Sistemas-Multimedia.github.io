{
 "cells": [
  {
   "cell_type": "markdown",
   "metadata": {},
   "source": [
    "[![Binder](https://mybinder.org/badge_logo.svg)](https://nbviewer.org/github/Sistemas-Multimedia/Sistemas-Multimedia.github.io/blob/master/milestones/10-ME/full_search_ME.ipynb)"
   ]
  },
  {
   "cell_type": "markdown",
   "metadata": {},
   "source": [
    "# Full search ME (Motion Estimation)"
   ]
  },
  {
   "cell_type": "code",
   "execution_count": null,
   "metadata": {},
   "outputs": [],
   "source": [
    "import numpy as np\n",
    "!ln -sf ~/MRVC/src/image_3.py .\n",
    "import image_3 as frame\n",
    "!ln -sf ~/MRVC/src/YCoCg.py .\n",
    "import YCoCg as YUV\n",
    "!ln -sf ~/MRVC/src/motion.py .\n",
    "import motion\n",
    "import matplotlib\n",
    "import matplotlib.pyplot as plt\n",
    "%matplotlib inline\n",
    "import cv2 as cv"
   ]
  },
  {
   "cell_type": "code",
   "execution_count": null,
   "metadata": {},
   "outputs": [],
   "source": [
    "def normalize(img):\n",
    "    max_component = np.max(img)\n",
    "    min_component = np.min(img)\n",
    "    max_min_component = max_component - min_component\n",
    "    return (img-min_component)/max_min_component\n",
    "\n",
    "def show_frame(frame, prefix=None):\n",
    "    #frame = normalize(frame)\n",
    "    plt.figure(figsize=(10,10))\n",
    "    plt.title(prefix, fontsize=20)\n",
    "    plt.imshow(frame)\n",
    "\n",
    "def show_vectors2(flow, dpi=150, downsampling=1):\n",
    "    #plt.figure.set_dpi(200)\n",
    "    plt.figure(dpi=dpi)\n",
    "    plt.quiver(flow[..., 0][::downsampling], flow[..., 1][::downsampling])\n",
    "    plt.show()\n",
    "    \n",
    "def show_vectors(flow, dpi=150):\n",
    "    #plt.figure.set_dpi(200)\n",
    "    plt.figure(dpi=dpi)\n",
    "    plt.quiver(flow[..., 0], flow[..., 1])\n",
    "    plt.show()"
   ]
  },
  {
   "cell_type": "code",
   "execution_count": null,
   "metadata": {},
   "outputs": [],
   "source": [
    "R = YUV.from_RGB(frame.read(\"/home/vruiz/MRVC/sequences/moving_circles/\", 0).astype(np.int16))[...,0]\n",
    "P = YUV.from_RGB(frame.read(\"/home/vruiz/MRVC/sequences/moving_circles/\", 1).astype(np.int16))[...,0]"
   ]
  },
  {
   "cell_type": "code",
   "execution_count": null,
   "metadata": {},
   "outputs": [],
   "source": [
    "show_frame(R, \"Reference\")"
   ]
  },
  {
   "cell_type": "code",
   "execution_count": null,
   "metadata": {
    "scrolled": true
   },
   "outputs": [],
   "source": [
    "show_frame(P, \"Predicted\")"
   ]
  },
  {
   "cell_type": "markdown",
   "metadata": {},
   "source": [
    "## Estimate dense motion"
   ]
  },
  {
   "cell_type": "code",
   "execution_count": null,
   "metadata": {},
   "outputs": [],
   "source": [
    "flow = motion.full_search_dense_ME(P, R) # Using default values"
   ]
  },
  {
   "cell_type": "code",
   "execution_count": null,
   "metadata": {},
   "outputs": [],
   "source": [
    "show_vectors(flow[::1, ::1])"
   ]
  },
  {
   "cell_type": "code",
   "execution_count": null,
   "metadata": {},
   "outputs": [],
   "source": [
    "flow.max()"
   ]
  },
  {
   "cell_type": "code",
   "execution_count": null,
   "metadata": {},
   "outputs": [],
   "source": [
    "flow.min()"
   ]
  },
  {
   "cell_type": "code",
   "execution_count": null,
   "metadata": {},
   "outputs": [],
   "source": [
    "for i in range(64):\n",
    "    for j in range(64):\n",
    "        print((np.rint(flow)[i,j][1]), end=' ')\n",
    "    print()"
   ]
  },
  {
   "cell_type": "code",
   "execution_count": null,
   "metadata": {},
   "outputs": [],
   "source": [
    "show_frame(flow[...,0])"
   ]
  },
  {
   "cell_type": "code",
   "execution_count": null,
   "metadata": {},
   "outputs": [],
   "source": [
    "show_frame(flow[...,1])"
   ]
  },
  {
   "cell_type": "code",
   "execution_count": null,
   "metadata": {},
   "outputs": [],
   "source": [
    "show_frame(motion.colorize(flow), \"Motion in HSV color domain\")"
   ]
  },
  {
   "cell_type": "code",
   "execution_count": null,
   "metadata": {
    "scrolled": false
   },
   "outputs": [],
   "source": [
    "R = frame.read(\"/home/vruiz/MRVC/sequences/moving_circles/\", 0)\n",
    "P = frame.read(\"/home/vruiz/MRVC/sequences/moving_circles/\", 1)\n",
    "prediction = motion.make_prediction(R, flow)\n",
    "show_frame(prediction, \"Prediction\")\n",
    "show_frame(P, \"Predicted\")"
   ]
  },
  {
   "cell_type": "code",
   "execution_count": null,
   "metadata": {},
   "outputs": [],
   "source": [
    "show_frame(P-prediction, \"Error\")"
   ]
  }
 ],
 "metadata": {
  "kernelspec": {
   "display_name": "Python 3",
   "language": "python",
   "name": "python3"
  },
  "language_info": {
   "codemirror_mode": {
    "name": "ipython",
    "version": 3
   },
   "file_extension": ".py",
   "mimetype": "text/x-python",
   "name": "python",
   "nbconvert_exporter": "python",
   "pygments_lexer": "ipython3",
   "version": "3.9.6"
  }
 },
 "nbformat": 4,
 "nbformat_minor": 4
}

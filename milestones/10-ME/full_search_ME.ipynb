{
 "cells": [
  {
   "cell_type": "markdown",
   "metadata": {},
   "source": [
    "[![Binder](https://mybinder.org/badge_logo.svg)](https://nbviewer.org/github/Sistemas-Multimedia/Sistemas-Multimedia.github.io/blob/master/milestones/10-ME/full_search_ME.ipynb)"
   ]
  },
  {
   "cell_type": "markdown",
   "metadata": {},
   "source": [
    "# Full search block-based ME (Motion Estimation)\n",
    "The predicted frame is divided into blocks and each one is characterized by a motion vector using exhaustive search. This guarantees reaching the global optimal (the best motion field)."
   ]
  },
  {
   "cell_type": "code",
   "execution_count": 1,
   "metadata": {},
   "outputs": [
    {
     "name": "stdout",
     "output_type": "stream",
     "text": [
      "OFCA: default number of levels = 3\n",
      "OFCA: default window size = 33x33\n",
      "OFCA: default number of iterations = 3\n",
      "OFCA: extension mode = 1\n",
      "OFCA: default poly_n 7\n",
      "OFCA: default poly_sigma 1.5\n"
     ]
    }
   ],
   "source": [
    "import numpy as np\n",
    "!ln -sf ~/MRVC/src/image_3.py .\n",
    "import image_3 as frame\n",
    "!ln -sf ~/MRVC/src/YCoCg.py .\n",
    "import YCoCg as YUV\n",
    "!ln -sf ~/MRVC/src/config.py .\n",
    "!ln -sf ~/MRVC/src/debug.py .\n",
    "!ln -sf ~/MRVC/src/motion.py .\n",
    "import motion\n",
    "import matplotlib\n",
    "import matplotlib.pyplot as plt\n",
    "%matplotlib inline\n",
    "import cv2 as cv"
   ]
  },
  {
   "cell_type": "code",
   "execution_count": 2,
   "metadata": {},
   "outputs": [],
   "source": [
    "def normalize(img):\n",
    "    max_component = np.max(img)\n",
    "    min_component = np.min(img)\n",
    "    max_min_component = max_component - min_component\n",
    "    return (img-min_component)/max_min_component\n",
    "\n",
    "def show_frame(frame, prefix=None):\n",
    "    #frame = normalize(frame)\n",
    "    plt.figure(figsize=(2,2))\n",
    "    plt.title(prefix, fontsize=10)\n",
    "    plt.imshow(frame)\n",
    "\n",
    "def show_vectors2(flow, dpi=150, downsampling=1):\n",
    "    #plt.figure.set_dpi(200)\n",
    "    plt.figure(dpi=dpi)\n",
    "    plt.quiver(flow[..., 0][::downsampling], flow[..., 1][::downsampling])\n",
    "    plt.show()\n",
    "    \n",
    "def show_vectors(flow, dpi=150):\n",
    "    #plt.figure.set_dpi(200)\n",
    "    plt.figure(dpi=dpi)\n",
    "    plt.quiver(flow[..., 1], flow[..., 0])\n",
    "    plt.show()"
   ]
  },
  {
   "cell_type": "code",
   "execution_count": 3,
   "metadata": {},
   "outputs": [
    {
     "name": "stdout",
     "output_type": "stream",
     "text": [
      "\u001b[38;5;2mimage_3.read: /home/vruiz/MRVC/sequences/moving_circles/000.png (64, 64, 3) uint8 684 \u001b[0m\n",
      "\u001b[38;5;2mimage_3.read: /home/vruiz/MRVC/sequences/moving_circles/001.png (64, 64, 3) uint8 684 \u001b[0m\n"
     ]
    }
   ],
   "source": [
    "R = YUV.from_RGB(frame.read(\"/home/vruiz/MRVC/sequences/moving_circles/\", 0).astype(np.int16))[...,0]\n",
    "P = YUV.from_RGB(frame.read(\"/home/vruiz/MRVC/sequences/moving_circles/\", 1).astype(np.int16))[...,0]"
   ]
  },
  {
   "cell_type": "code",
   "execution_count": 4,
   "metadata": {},
   "outputs": [
    {
     "data": {
      "image/png": "[encoded data removed]",
      "text/plain": [
       "<Figure size 144x144 with 1 Axes>"
      ]
     },
     "metadata": {
      "needs_background": "light"
     },
     "output_type": "display_data"
    }
   ],
   "source": [
    "show_frame(R, \"Reference\")"
   ]
  },
  {
   "cell_type": "code",
   "execution_count": 5,
   "metadata": {
    "scrolled": false
   },
   "outputs": [
    {
     "data": {
      "image/png": "[encoded data removed]",
      "text/plain": [
       "<Figure size 144x144 with 1 Axes>"
      ]
     },
     "metadata": {
      "needs_background": "light"
     },
     "output_type": "display_data"
    }
   ],
   "source": [
    "show_frame(P, \"Predicted\")"
   ]
  },
  {
   "cell_type": "markdown",
   "metadata": {},
   "source": [
    "The top circle moves to the right and the bottom circle moves to the left. Therefore, if we want to generate the predicted frame (bottom) from the reference one (top), all the top MVs (Motion Vectors) related to the circle should be (x=1, y=0), and all the bottom MVs (-1, 0)."
   ]
  },
  {
   "cell_type": "code",
   "execution_count": 25,
   "metadata": {
    "scrolled": false
   },
   "outputs": [
    {
     "name": "stdout",
     "output_type": "stream",
     "text": [
      "4 4\n",
      "index= 0 y= -4 x= -4\n",
      "[[0 0 0 0 0 0 0 0 0]\n",
      " [0 0 0 0 0 0 0 0 0]\n",
      " [0 0 0 0 0 0 0 0 0]\n",
      " [0 0 0 0 0 0 0 0 0]\n",
      " [0 0 0 0 0 0 0 0 0]\n",
      " [0 0 0 0 0 0 0 0 0]\n",
      " [0 0 0 0 0 0 0 0 0]\n",
      " [0 0 0 0 0 0 0 0 0]\n",
      " [0 0 0 0 0 0 0 0 0]]\n",
      "index= 39 y= 0 x= -1\n",
      "[[ 6393  6399  6358  6308  5687  5177  5461  5919  6265]\n",
      " [ 6399  6345  6244  5984  4809  4963  5321  5931  6591]\n",
      " [ 6360  6246  6083  5241  3954  4416  5374  6078  6942]\n",
      " [ 6314  6138  5617  3577  2774  4346  5464  6438  7286]\n",
      " [ 6165  5561  3984     0  4017  5793  6793  7541  8375]\n",
      " [ 5304  4180  2799  3585  6558  7636  8408  9144  9722]\n",
      " [ 5021  4447  4336  5282  7567  8407  9237 10033 10837]\n",
      " [ 5362  5388  5419  6251  8246  9144 10034 10890 11754]\n",
      " [ 5928  6028  6333  7097  8762  9884 10834 11750 12674]]\n",
      "index= 39 y= 0 x= -1\n",
      "[[ 7509  7153  7632  8228  8311  8399  8479  8525  8561]\n",
      " [ 7210  6746  6551  7721  8018  8166  8306  8412  8508]\n",
      " [ 7094  6026  5509  6789  7680  7890  8090  8256  8412]\n",
      " [ 7007  5799  4142  4934  7023  7603  7865  8091  8307]\n",
      " [ 7453  6053  4074     0  4041  5821  6825  7571  8089]\n",
      " [ 9186  8810  7903  4947  4096  5340  6072  6658  7260]\n",
      " [10754  9930  9111  6843  5812  5932  6524  6842  7302]\n",
      " [11732 10848  9971  8015  7084  7026  7038  7264  7512]\n",
      " [12715 11755 10670  9042  8205  7847  7767  7855  7789]]\n",
      "index= 0 y= -4 x= -4\n",
      "[[0 0 0 0 0 0 0 0 0]\n",
      " [0 0 0 0 0 0 0 0 0]\n",
      " [0 0 0 0 0 0 0 0 0]\n",
      " [0 0 0 0 0 0 0 0 0]\n",
      " [0 0 0 0 0 0 0 0 0]\n",
      " [0 0 0 0 0 0 0 0 0]\n",
      " [0 0 0 0 0 0 0 0 0]\n",
      " [0 0 0 0 0 0 0 0 0]\n",
      " [0 0 0 0 0 0 0 0 0]]\n",
      "index= 0 y= -4 x= -4\n",
      "[[0 0 0 0 0 0 0 0 0]\n",
      " [0 0 0 0 0 0 0 0 0]\n",
      " [0 0 0 0 0 0 0 0 0]\n",
      " [0 0 0 0 0 0 0 0 0]\n",
      " [0 0 0 0 0 0 0 0 0]\n",
      " [0 0 0 0 0 0 0 0 0]\n",
      " [0 0 0 0 0 0 0 0 0]\n",
      " [0 0 0 0 0 0 0 0 0]\n",
      " [0 0 0 0 0 0 0 0 0]]\n",
      "index= 39 y= 0 x= -1\n",
      "[[ 6581  6623  6869  7492  8798 10372 11381 12357 13339]\n",
      " [ 5975  5933  5907  6448  8482  9606 10555 11471 12393]\n",
      " [ 5628  4996  4812  5315  7965  8865  9754 10610 11472]\n",
      " [ 5882  4700  3256  3585  6995  8127  8958  9754 10390]\n",
      " [ 6727  6065  4435     0  4468  6298  7355  8159  9055]\n",
      " [ 6882  6646  6070  3577  3215  4849  6026  7056  7962]\n",
      " [ 6961  6787  6563  5274  4348  4882  5899  6659  7577]\n",
      " [ 7008  6894  6732  6181  5045  5421  5848  6520  7230]\n",
      " [ 7048  6994  6892  6703  5725  5665  6008  6524  6932]]\n",
      "index= 39 y= 0 x= -1\n",
      "[[13275 12231 10695  9452  8754  8462  8443  8597  8589]\n",
      " [12268 11300 10198  8223  7589  7597  7676  7966  8266]\n",
      " [11284 10400  9498  6891  6305  6497  7154  7524  8046]\n",
      " [ 9757  9321  8335  4954  4564  5888  6675  7315  7979]\n",
      " [ 8043  6589  4529     0  4496  6356  7415  8219  8795]\n",
      " [ 7590  6328  4584  4941  7481  8133  8454  8740  9018]\n",
      " [ 7636  6504  5894  6837  8175  8447  8706  8932  9150]\n",
      " [ 7756  7202  6776  7929  8525  8733  8932  9098  9256]\n",
      " [ 8073  7633  7655  8638  8862  9010  9149  9255  9353]]\n",
      "index= 0 y= -4 x= -4\n",
      "[[0 0 0 0 0 0 0 0 0]\n",
      " [0 0 0 0 0 0 0 0 0]\n",
      " [0 0 0 0 0 0 0 0 0]\n",
      " [0 0 0 0 0 0 0 0 0]\n",
      " [0 0 0 0 0 0 0 0 0]\n",
      " [0 0 0 0 0 0 0 0 0]\n",
      " [0 0 0 0 0 0 0 0 0]\n",
      " [0 0 0 0 0 0 0 0 0]\n",
      " [0 0 0 0 0 0 0 0 0]]\n",
      "index= 0 y= -4 x= -4\n",
      "[[0 0 0 0 0 0 0 0 0]\n",
      " [0 0 0 0 0 0 0 0 0]\n",
      " [0 0 0 0 0 0 0 0 0]\n",
      " [0 0 0 0 0 0 0 0 0]\n",
      " [0 0 0 0 0 0 0 0 0]\n",
      " [0 0 0 0 0 0 0 0 0]\n",
      " [0 0 0 0 0 0 0 0 0]\n",
      " [0 0 0 0 0 0 0 0 0]\n",
      " [0 0 0 0 0 0 0 0 0]]\n",
      "index= 41 y= 0 x= 1\n",
      "[[ 7822  7828  7787  7739  7658  7568  6948  6480  6808]\n",
      " [ 7828  7774  7673  7565  7424  7124  5950  6146  6548]\n",
      " [ 7789  7675  7514  7346  7143  6261  4975  5479  6481]\n",
      " [ 7743  7569  7348  7118  6557  4477  3675  5289  6451]\n",
      " [ 7662  7348  6761  5793  4024     0  4032  5836  7028]\n",
      " [ 7159  6349  5608  4848  3659  4485  7457  8493  9073]\n",
      " [ 6742  6306  5995  5395  5316  6302  8586  9384 10188]\n",
      " [ 6905  6673  6456  6456  6519  7391  9385 10241 11105]\n",
      " [ 7125  7207  7142  7216  7553  8357 10021 11101 12025]]\n",
      "index= 41 y= 0 x= 1\n",
      "[[ 6982  6598  6115  5813  6332  6968  7050  7096  7132]\n",
      " [ 7255  6557  5936  5526  5371  6581  6877  6983  7079]\n",
      " [ 7563  6653  5940  4926  4449  5769  6659  6827  6983]\n",
      " [ 7840  6954  5973  4819  3202  4034  6122  6660  6878]\n",
      " [ 8802  7764  6857  5821  4034     0  4026  5778  6590]\n",
      " [ 9835  9461  8882  8142  7043  4047  3197  4483  5407]\n",
      " [11403 10579  9780  8982  8131  5823  4793  4955  5573]\n",
      " [12381 11497 10638  9780  8871  6875  5945  5929  5967]\n",
      " [13364 12420 11501 10567  9450  7782  6946  6630  6576]]\n",
      "index= 0 y= -4 x= -4\n",
      "[[0 0 0 0 0 0 0 0 0]\n",
      " [0 0 0 0 0 0 0 0 0]\n",
      " [0 0 0 0 0 0 0 0 0]\n",
      " [0 0 0 0 0 0 0 0 0]\n",
      " [0 0 0 0 0 0 0 0 0]\n",
      " [0 0 0 0 0 0 0 0 0]\n",
      " [0 0 0 0 0 0 0 0 0]\n",
      " [0 0 0 0 0 0 0 0 0]\n",
      " [0 0 0 0 0 0 0 0 0]]\n",
      "index= 0 y= -4 x= -4\n",
      "[[0 0 0 0 0 0 0 0 0]\n",
      " [0 0 0 0 0 0 0 0 0]\n",
      " [0 0 0 0 0 0 0 0 0]\n",
      " [0 0 0 0 0 0 0 0 0]\n",
      " [0 0 0 0 0 0 0 0 0]\n",
      " [0 0 0 0 0 0 0 0 0]\n",
      " [0 0 0 0 0 0 0 0 0]\n",
      " [0 0 0 0 0 0 0 0 0]\n",
      " [0 0 0 0 0 0 0 0 0]]\n",
      "index= 41 y= 0 x= 1\n",
      "[[ 7901  7919  7795  7810  8088  8752 10057 11589 12571]\n",
      " [ 7633  7349  7069  7000  7006  7588  9621 10703 11625]\n",
      " [ 7462  6970  6602  5943  5791  6335  8984  9842 10704]\n",
      " [ 7854  6984  6186  5367  4115  4485  7894  8984  9622]\n",
      " [ 8341  7967  7323  6298  4476     0  4485  6341  7591]\n",
      " [ 8430  8196  7914  7625  7011  4477  4116  5792  7010]\n",
      " [ 8509  8335  8113  7886  7624  6294  5369  5945  7003]\n",
      " [ 8556  8442  8280  8113  7913  7321  6186  6604  7072]\n",
      " [ 8596  8542  8440  8333  8193  7963  6986  6968  7352]]\n",
      "index= 41 y= 0 x= 1\n",
      "[[14043 13039 12061 11044  9476  8192  7495  7245  7253]\n",
      " [13036 12092 11174 10233  9099  7083  6450  6500  6606]\n",
      " [12052 11168 10310  9453  8519  5871  5286  5520  6204]\n",
      " [10525 10091  9453  8654  7476  4054  3665  5031  6011]\n",
      " [ 9509  8411  7447  6356  4488     0  4479  6313  7179]\n",
      " [ 8538  7592  6558  5349  3643  4041  6580  7190  7470]\n",
      " [ 8218  7248  6484  5405  4833  5817  7154  7384  7602]\n",
      " [ 7916  7168  6484  5983  5595  6789  7384  7550  7708]\n",
      " [ 7669  7229  6681  6294  6354  7378  7601  7707  7805]]\n",
      "index= 0 y= -4 x= -4\n",
      "[[0 0 0 0 0 0 0 0 0]\n",
      " [0 0 0 0 0 0 0 0 0]\n",
      " [0 0 0 0 0 0 0 0 0]\n",
      " [0 0 0 0 0 0 0 0 0]\n",
      " [0 0 0 0 0 0 0 0 0]\n",
      " [0 0 0 0 0 0 0 0 0]\n",
      " [0 0 0 0 0 0 0 0 0]\n",
      " [0 0 0 0 0 0 0 0 0]\n",
      " [0 0 0 0 0 0 0 0 0]]\n"
     ]
    },
    {
     "data": {
      "image/png": "[encoded data removed]",
      "text/plain": [
       "<Figure size 144x144 with 1 Axes>"
      ]
     },
     "metadata": {
      "needs_background": "light"
     },
     "output_type": "display_data"
    }
   ],
   "source": [
    "def full_search_block_based_ME_(P, R, block_side=16, max_abs_motion=8):\n",
    "    assert max_abs_motion > 0\n",
    "    extended_R = cv.copyMakeBorder(R, max_abs_motion, max_abs_motion, max_abs_motion, max_abs_motion, cv.BORDER_REPLICATE) \n",
    "    extended_R[max_abs_motion : R.shape[0] + max_abs_motion,\n",
    "               max_abs_motion : R.shape[1] + max_abs_motion] = R\n",
    "    show_frame(extended_R)\n",
    "    motion = np.zeros((P.shape[0]//block_side, P.shape[1]//block_side, 2), dtype=np.int8)\n",
    "    # All the coordinates are absolute (respect to P and R, that must have the same dimensions)\n",
    "    for block_y_coor in range(0, P.shape[0], block_side):\n",
    "        for block_x_coor in range(0, P.shape[1], block_side):\n",
    "            errors_by_search_area = np.empty((block_side + max_abs_motion, block_side + max_abs_motion))\n",
    "            counter = 0\n",
    "            for search_range_y_coor in range(block_y_coor - max_abs_motion, block_y_coor + max_abs_motion):\n",
    "                for search_range_x_coor in range(block_x_coor - max_abs_motion, block_x_coor + max_abs_motion):\n",
    "                    #left_top_corner = [block_y_coor + search_range_y_coor, block_x_coor + search_range_x_coor]\n",
    "                    #right_bottom_corner = [left_top_corner[0] + search_range, left_top_corner[1] + search_range]\n",
    "                    R_block = extended_R[search_range_y_coor + max_abs_motion :\n",
    "                                         search_range_y_coor + max_abs_motion + block_side,\n",
    "                                         search_range_x_coor + max_abs_motion :\n",
    "                                         search_range_x_coor + max_abs_motion + block_side]\n",
    "                    P_block = P[block_y_coor :\n",
    "                                block_y_coor + block_side,\n",
    "                                block_x_coor :\n",
    "                                block_x_coor + block_side]\n",
    "                    print(search_range_y_coor+ max_abs_motion , search_range_y_coor + max_abs_motion  + block_side)\n",
    "                    #print(block_side, R_block.shape, P_block.shape)\n",
    "                    errors_in_search_area = np.abs(R_block - P_block)\n",
    "                    show_frame(R_block, f\"({search_range_y_coor + max_abs_motion}:{search_range_y_coor + max_abs_motion + block_side}, {search_range_x_coor + max_abs_motion}:{search_range_x_coor + max_abs_motion + block_side})\")\n",
    "                    show_frame(P_block)\n",
    "                    show_frame(errors_in_search_area, f\"{block_x_coor} {block_y_coor} x={search_range_x_coor} y={search_range_y_coor}\")\n",
    "                    error_by_block = np.sum(errors_in_search_area)\n",
    "                    print((search_range_y_coor + max_abs_motion) % search_range)\n",
    "                    errors_by_search_area[(search_range_y_coor + max_abs_motion) % search_range,\n",
    "                                          (search_range_x_coor + max_abs_motion) % search_range] = error_by_block\n",
    "                    #print(block_y_coor, block_x_coor, search_range_y_coor,\n",
    "                    #      search_range_x_coor, R_block.shape, P_block.shape,\n",
    "                    #      errors_in_search_area.shape, errors_in_search_area)\n",
    "                    counter += 1\n",
    "            mv_index = np.argmin(errors_by_search_area)\n",
    "            MV_y = mv_index // search_range\n",
    "            MV_x = mv_index % search_range\n",
    "            flow[block_y_coor // block_side, block_x_coor // block_side] = (MV_x, MV_y)\n",
    "            #print(mv_index, MV_y, MV_x, errors_by_search_area[MV_y, MV_x])\n",
    "    return flow\n",
    "\n",
    "def full_search_block_based_ME_(P, R, block_side=16, max_abs_motion=8):\n",
    "    assert max_abs_motion > 0\n",
    "    extended_R = cv.copyMakeBorder(R, max_abs_motion, max_abs_motion, max_abs_motion, max_abs_motion, cv.BORDER_REPLICATE) \n",
    "    extended_R[max_abs_motion : R.shape[0] + max_abs_motion,\n",
    "               max_abs_motion : R.shape[1] + max_abs_motion] = R\n",
    "    show_frame(extended_R, \"extended R\")\n",
    "    blocks_in_y = P.shape[0]//block_side\n",
    "    blocks_in_x = P.shape[1]//block_side\n",
    "    MVs = np.zeros((blocks_in_y, blocks_in_x, 2), dtype=np.int8)\n",
    "    for block_y_coor in range(blocks_in_y):\n",
    "        for block_x_coor in range(blocks_in_x):\n",
    "            errors_by_search_area = np.empty((block_side + 2*max_abs_motion, block_side + 2*max_abs_motion))\n",
    "            for search_range_y_coor in range(2*max_abs_motion):\n",
    "                for search_range_x_coor in range(2*max_abs_motion):\n",
    "                    R_block = extended_R[block_y_coor*block_side + search_range_y_coor:\n",
    "                                         (block_y_coor + 1)*block_side + search_range_y_coor,\n",
    "                                         block_x_coor*block_side + search_range_x_coor:\n",
    "                                         (block_x_coor + 1)*block_side + search_range_x_coor]\n",
    "                    #print(block_y_coor, block_x_coor, search_range_y_coor, search_range_x_coor,\n",
    "                    #      block_y_coor*block_side - search_range_y_coor + max_abs_motion,\n",
    "                    #                     (block_y_coor + 1)*block_side - search_range_y_coor + max_abs_motion,\n",
    "                    #                     block_x_coor*block_side - search_range_x_coor + max_abs_motion,\n",
    "                    #                     (block_x_coor + 1)*block_side - search_range_x_coor + max_abs_motion)\n",
    "                    P_block = P[block_y_coor*block_side :\n",
    "                                (block_y_coor + 1)*block_side,\n",
    "                                block_x_coor*block_side :\n",
    "                                (block_x_coor + 1)*block_side]\n",
    "                    #print(search_range_y_coor+ max_abs_motion , search_range_y_coor + max_abs_motion  + block_side)\n",
    "                    #print(block_side, R_block.shape, P_block.shape)\n",
    "                    errors_in_search_area = np.abs(R_block - P_block)\n",
    "                    show_frame(R_block, f\"R ({block_y_coor*block_side + search_range_y_coor}:{(block_y_coor + 1)*block_side + search_range_y_coor}, {block_x_coor*block_side + search_range_x_coor}:{(block_x_coor + 1)*block_side + search_range_x_coor})\")\n",
    "                    show_frame(P_block, f\"P ({block_y_coor*block_side}:{(block_y_coor + 1)*block_side},{block_x_coor*block_side}:{(block_x_coor + 1)*block_side})\")\n",
    "                    show_frame(errors_in_search_area, f\"{block_x_coor} {block_y_coor} x={search_range_x_coor} y={search_range_y_coor}\")\n",
    "                    error_by_block = np.sum(errors_in_search_area)\n",
    "                    #print((search_range_y_coor + max_abs_motion) % search_range)\n",
    "                    errors_by_search_area[block_y_coor, block_x_coor] = error_by_block\n",
    "                    #print(block_y_coor, block_x_coor, search_range_y_coor,\n",
    "                    #      search_range_x_coor, R_block.shape, P_block.shape,\n",
    "                    #      errors_in_search_area.shape, errors_in_search_area)\n",
    "            mv_index = np.argmin(errors_by_search_area)\n",
    "            #MV_y = mv_index // \n",
    "            #MV_x = mv_index % search_range\n",
    "            print(mv_index, errors_by_search_area.shape)\n",
    "            #motion[block_y_coor, block_x_coor] = (MV_x, MV_y)\n",
    "            #print(mv_index, MV_y, MV_x, errors_by_search_area[MV_y, MV_x])\n",
    "    return MVs\n",
    "\n",
    "def full_search_block_based_ME(P, R, block_side=16, max_abs_motion=8):\n",
    "    \n",
    "    def local_search(by, bx):\n",
    "        errors_by_search_area = np.empty((2*max_abs_motion + 1, 2*max_abs_motion + 1))\n",
    "        for ry in range(-max_abs_motion, max_abs_motion + 1):\n",
    "            for rx in range(-max_abs_motion, max_abs_motion + 1):\n",
    "                R_block = extended_R[by*block_side + ry + max_abs_motion:\n",
    "                                    (by + 1)*block_side + ry + max_abs_motion,\n",
    "                                    bx*block_side + rx + max_abs_motion:\n",
    "                                    (bx + 1)*block_side + rx + max_abs_motion]\n",
    "                #show_frame(R_block, f\"R ({by} {bx} {ry} {rx} {by*block_side + ry + max_abs_motion}:{(by + 1)*block_side + ry + max_abs_motion}, {bx*block_side + rx + max_abs_motion}:{(bx + 1)*block_side + rx + max_abs_motion})\")\n",
    "                P_block = P[by*block_side : (by + 1)*block_side, bx*block_side : (bx + 1)*block_side]\n",
    "                #show_frame(P_block, f\"P ({by*block_side}:{(by + 1)*block_side},{bx*block_side}:{(bx + 1)*block_side})\")\n",
    "                errors_in_search_area = np.abs(R_block - P_block)\n",
    "                error_by_block = np.sum(errors_in_search_area)\n",
    "                #show_frame(errors_in_search_area, f\"by={by} bx={bx} ry={ry} rx={rx} error={error_by_block}\")\n",
    "                errors_by_search_area[ry + max_abs_motion, rx + max_abs_motion] = error_by_block\n",
    "                #show_frame(errors_by_search_area, \"errors\")\n",
    "\n",
    "    assert max_abs_motion > 0\n",
    "    extended_R = cv.copyMakeBorder(R, max_abs_motion, max_abs_motion, max_abs_motion, max_abs_motion, cv.BORDER_REPLICATE) \n",
    "    extended_R[max_abs_motion : R.shape[0] + max_abs_motion,\n",
    "               max_abs_motion : R.shape[1] + max_abs_motion] = R\n",
    "    show_frame(extended_R, \"extended R\")\n",
    "    blocks_in_y = P.shape[0]//block_side\n",
    "    blocks_in_x = P.shape[1]//block_side\n",
    "    MVs = np.zeros((blocks_in_y, blocks_in_x, 2), dtype=np.int8)\n",
    "    print(blocks_in_y, blocks_in_x)\n",
    "    for by in range(blocks_in_y):\n",
    "        for bx in range(blocks_in_x):\n",
    "            local_search(by, bx)\n",
    "            mv_index = np.argmin(errors_by_search_area)\n",
    "            MV_y = mv_index // (2*max_abs_motion + 1) - max_abs_motion\n",
    "            MV_x = mv_index  % (2*max_abs_motion + 1)  - max_abs_motion\n",
    "            print(\"index=\", mv_index, \"y=\", MV_y, \"x=\", MV_x)\n",
    "            print(errors_by_search_area.astype(np.int))\n",
    "            MVs[by, bx] = (MV_x, MV_y)\n",
    "    return MVs\n",
    "\n",
    "block_side = 16\n",
    "max_abs_motion = 4\n",
    "MVs = full_search_block_based_ME(P, R, block_side=block_side, max_abs_motion=max_abs_motion)"
   ]
  },
  {
   "cell_type": "code",
   "execution_count": 27,
   "metadata": {},
   "outputs": [
    {
     "data": {
      "text/plain": [
       "(4, 4, 2)"
      ]
     },
     "execution_count": 27,
     "metadata": {},
     "output_type": "execute_result"
    }
   ],
   "source": [
    "MVs.shape"
   ]
  },
  {
   "cell_type": "code",
   "execution_count": 28,
   "metadata": {},
   "outputs": [
    {
     "name": "stdout",
     "output_type": "stream",
     "text": [
      "[-4 -4] [-4 -4] [-4 -4] [-4 -4] \n",
      "[-1  0] [-1  0] [1 0] [1 0] \n",
      "[-1  0] [-1  0] [1 0] [1 0] \n",
      "[-4 -4] [-4 -4] [-4 -4] [-4 -4] \n"
     ]
    }
   ],
   "source": [
    "for y in range(P.shape[0]//block_side):\n",
    "    for x in range(P.shape[1]//block_side):\n",
    "        print(MVs[x, y], end=' ')\n",
    "    print()"
   ]
  },
  {
   "cell_type": "code",
   "execution_count": 29,
   "metadata": {},
   "outputs": [
    {
     "data": {
      "image/png": "[encoded data removed]",
      "text/plain": [
       "<Figure size 900x600 with 1 Axes>"
      ]
     },
     "metadata": {
      "needs_background": "light"
     },
     "output_type": "display_data"
    }
   ],
   "source": [
    "show_vectors(MVs[::1, ::1])"
   ]
  },
  {
   "cell_type": "code",
   "execution_count": 30,
   "metadata": {},
   "outputs": [
    {
     "data": {
      "text/plain": [
       "1"
      ]
     },
     "execution_count": 30,
     "metadata": {},
     "output_type": "execute_result"
    }
   ],
   "source": [
    "MVs.max()"
   ]
  },
  {
   "cell_type": "code",
   "execution_count": 31,
   "metadata": {},
   "outputs": [
    {
     "data": {
      "text/plain": [
       "-4"
      ]
     },
     "execution_count": 31,
     "metadata": {},
     "output_type": "execute_result"
    }
   ],
   "source": [
    "MVs.min()"
   ]
  },
  {
   "cell_type": "code",
   "execution_count": 34,
   "metadata": {},
   "outputs": [
    {
     "data": {
      "image/png": "[encoded data removed]",
      "text/plain": [
       "<Figure size 144x144 with 1 Axes>"
      ]
     },
     "metadata": {
      "needs_background": "light"
     },
     "output_type": "display_data"
    }
   ],
   "source": [
    "show_frame(MVs[...,0])"
   ]
  },
  {
   "cell_type": "code",
   "execution_count": 35,
   "metadata": {},
   "outputs": [
    {
     "data": {
      "image/png": "[encoded data removed]",
      "text/plain": [
       "<Figure size 144x144 with 1 Axes>"
      ]
     },
     "metadata": {
      "needs_background": "light"
     },
     "output_type": "display_data"
    }
   ],
   "source": [
    "show_frame(MVs[...,1])"
   ]
  },
  {
   "cell_type": "code",
   "execution_count": 36,
   "metadata": {},
   "outputs": [
    {
     "data": {
      "image/png": "[encoded data removed]",
      "text/plain": [
       "<Figure size 144x144 with 1 Axes>"
      ]
     },
     "metadata": {
      "needs_background": "light"
     },
     "output_type": "display_data"
    }
   ],
   "source": [
    "show_frame(motion.colorize(MVs.astype(np.float32)), \"Motion in HSV color domain\")"
   ]
  },
  {
   "cell_type": "code",
   "execution_count": 37,
   "metadata": {
    "scrolled": false
   },
   "outputs": [
    {
     "name": "stdout",
     "output_type": "stream",
     "text": [
      "\u001b[38;5;2mimage_3.read: /home/vruiz/MRVC/sequences/moving_circles/000.png (64, 64, 3) uint8 684 \u001b[0m\n",
      "\u001b[38;5;2mimage_3.read: /home/vruiz/MRVC/sequences/moving_circles/001.png (64, 64, 3) uint8 684 \u001b[0m\n",
      "(64, 64, 2)\n"
     ]
    },
    {
     "data": {
      "image/png": "[encoded data removed]",
      "text/plain": [
       "<Figure size 144x144 with 1 Axes>"
      ]
     },
     "metadata": {
      "needs_background": "light"
     },
     "output_type": "display_data"
    },
    {
     "data": {
      "image/png": "[encoded data removed]",
      "text/plain": [
       "<Figure size 144x144 with 1 Axes>"
      ]
     },
     "metadata": {
      "needs_background": "light"
     },
     "output_type": "display_data"
    }
   ],
   "source": [
    "R = frame.read(\"/home/vruiz/MRVC/sequences/moving_circles/\", 0)\n",
    "P = frame.read(\"/home/vruiz/MRVC/sequences/moving_circles/\", 1)\n",
    "from scipy import ndimage\n",
    "_MVs = np.empty((P.shape[0], P.shape[1], 2), dtype=np.float32)\n",
    "print(_MVs.shape)\n",
    "_MVs[..., 0] = ndimage.zoom(MVs[..., 0], P.shape[0]/MVs.shape[0])\n",
    "_MVs[..., 1] = ndimage.zoom(MVs[..., 1], P.shape[0]/MVs.shape[0])\n",
    "prediction = motion.make_prediction(R, _MVs)\n",
    "show_frame(prediction, \"Prediction\")\n",
    "show_frame(P, \"Predicted\")"
   ]
  },
  {
   "cell_type": "code",
   "execution_count": 38,
   "metadata": {},
   "outputs": [
    {
     "data": {
      "image/png": "[encoded data removed]",
      "text/plain": [
       "<Figure size 144x144 with 1 Axes>"
      ]
     },
     "metadata": {
      "needs_background": "light"
     },
     "output_type": "display_data"
    }
   ],
   "source": [
    "show_frame(P-prediction, \"Error\")"
   ]
  },
  {
   "cell_type": "code",
   "execution_count": null,
   "metadata": {},
   "outputs": [],
   "source": []
  }
 ],
 "metadata": {
  "kernelspec": {
   "display_name": "Python 3",
   "language": "python",
   "name": "python3"
  },
  "language_info": {
   "codemirror_mode": {
    "name": "ipython",
    "version": 3
   },
   "file_extension": ".py",
   "mimetype": "text/x-python",
   "name": "python",
   "nbconvert_exporter": "python",
   "pygments_lexer": "ipython3",
   "version": "3.9.6"
  }
 },
 "nbformat": 4,
 "nbformat_minor": 4
}

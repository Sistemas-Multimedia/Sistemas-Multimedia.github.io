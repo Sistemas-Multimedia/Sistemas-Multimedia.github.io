{
 "cells": [
  {
   "cell_type": "markdown",
   "metadata": {},
   "source": [
    "[![Binder](https://mybinder.org/badge_logo.svg)](https://nbviewer.org/github/Sistemas-Multimedia/Sistemas-Multimedia.github.io/blob/master/milestones/10-ME/full_search_ME.ipynb)"
   ]
  },
  {
   "cell_type": "markdown",
   "metadata": {},
   "source": [
    "# Full search block-based ME (Motion Estimation)\n",
    "The predicted frame is divided into blocks and each one is characterized by a motion vector using exhaustive search. This guarantees reaching the global optimal (the best motion field)."
   ]
  },
  {
   "cell_type": "code",
   "execution_count": null,
   "metadata": {},
   "outputs": [],
   "source": [
    "import numpy as np\n",
    "!ln -sf ~/MRVC/src/image_3.py .\n",
    "import image_3 as frame\n",
    "!ln -sf ~/MRVC/src/YCoCg.py .\n",
    "import YCoCg as YUV\n",
    "!ln -sf ~/MRVC/src/config.py .\n",
    "!ln -sf ~/MRVC/src/debug.py .\n",
    "!ln -sf ~/MRVC/src/motion.py .\n",
    "import motion\n",
    "import matplotlib\n",
    "import matplotlib.pyplot as plt\n",
    "%matplotlib inline\n",
    "import cv2 as cv\n",
    "plt.rcParams['text.usetex'] = True"
   ]
  },
  {
   "cell_type": "code",
   "execution_count": null,
   "metadata": {},
   "outputs": [],
   "source": [
    "def normalize(img):\n",
    "    max_component = np.max(img)\n",
    "    min_component = np.min(img)\n",
    "    max_min_component = max_component - min_component\n",
    "    return (img-min_component)/max_min_component\n",
    "\n",
    "def show_frame(frame, prefix=None):\n",
    "    #frame = normalize(frame)\n",
    "    plt.figure(figsize=(10,10))\n",
    "    plt.title(prefix, fontsize=10)\n",
    "    plt.imshow(frame)\n",
    "\n",
    "def show_vectors2(flow, dpi=150, downsampling=1):\n",
    "    #plt.figure.set_dpi(200)\n",
    "    plt.figure(dpi=dpi)\n",
    "    plt.quiver(flow[..., 0][::downsampling], flow[..., 1][::downsampling])\n",
    "    plt.show()\n",
    "    \n",
    "def show_vectors(flow, dpi=150):\n",
    "    #plt.figure.set_dpi(200)\n",
    "    plt.figure(dpi=dpi)\n",
    "    plt.quiver(flow[..., 0], flow[..., 1])\n",
    "    plt.show()"
   ]
  },
  {
   "cell_type": "code",
   "execution_count": null,
   "metadata": {},
   "outputs": [],
   "source": [
    "R = YUV.from_RGB(frame.read(\"/home/vruiz/MRVC/sequences/moving_circles/\", 0).astype(np.int16))[...,0]\n",
    "P = YUV.from_RGB(frame.read(\"/home/vruiz/MRVC/sequences/moving_circles/\", 1).astype(np.int16))[...,0]"
   ]
  },
  {
   "cell_type": "code",
   "execution_count": null,
   "metadata": {},
   "outputs": [],
   "source": [
    "show_frame(R, \"reference $R$\")"
   ]
  },
  {
   "cell_type": "code",
   "execution_count": null,
   "metadata": {
    "scrolled": false
   },
   "outputs": [],
   "source": [
    "show_frame(P, \"predicted $P$\")"
   ]
  },
  {
   "cell_type": "markdown",
   "metadata": {},
   "source": [
    "The top circle moves to the right and the bottom circle moves to the left. Therefore, if we want to generate the predicted frame (bottom) from the reference one (top), all the top MVs (Motion Vectors) related to the circle should be (x=1, y=0), and all the bottom MVs (-1, 0)."
   ]
  },
  {
   "cell_type": "code",
   "execution_count": null,
   "metadata": {
    "scrolled": false
   },
   "outputs": [],
   "source": [
    "def full_search_block_based_ME_(P, R, block_side=16, max_abs_motion=8):\n",
    "    assert max_abs_motion > 0\n",
    "    extended_R = cv.copyMakeBorder(R, max_abs_motion, max_abs_motion, max_abs_motion, max_abs_motion, cv.BORDER_REPLICATE) \n",
    "    extended_R[max_abs_motion : R.shape[0] + max_abs_motion,\n",
    "               max_abs_motion : R.shape[1] + max_abs_motion] = R\n",
    "    show_frame(extended_R)\n",
    "    motion = np.zeros((P.shape[0]//block_side, P.shape[1]//block_side, 2), dtype=np.int8)\n",
    "    # All the coordinates are absolute (respect to P and R, that must have the same dimensions)\n",
    "    for block_y_coor in range(0, P.shape[0], block_side):\n",
    "        for block_x_coor in range(0, P.shape[1], block_side):\n",
    "            errors_by_search_area = np.empty((block_side + max_abs_motion, block_side + max_abs_motion))\n",
    "            counter = 0\n",
    "            for search_range_y_coor in range(block_y_coor - max_abs_motion, block_y_coor + max_abs_motion):\n",
    "                for search_range_x_coor in range(block_x_coor - max_abs_motion, block_x_coor + max_abs_motion):\n",
    "                    #left_top_corner = [block_y_coor + search_range_y_coor, block_x_coor + search_range_x_coor]\n",
    "                    #right_bottom_corner = [left_top_corner[0] + search_range, left_top_corner[1] + search_range]\n",
    "                    R_block = extended_R[search_range_y_coor + max_abs_motion :\n",
    "                                         search_range_y_coor + max_abs_motion + block_side,\n",
    "                                         search_range_x_coor + max_abs_motion :\n",
    "                                         search_range_x_coor + max_abs_motion + block_side]\n",
    "                    P_block = P[block_y_coor :\n",
    "                                block_y_coor + block_side,\n",
    "                                block_x_coor :\n",
    "                                block_x_coor + block_side]\n",
    "                    print(search_range_y_coor+ max_abs_motion , search_range_y_coor + max_abs_motion  + block_side)\n",
    "                    #print(block_side, R_block.shape, P_block.shape)\n",
    "                    errors_in_search_area = np.abs(R_block - P_block)\n",
    "                    show_frame(R_block, f\"({search_range_y_coor + max_abs_motion}:{search_range_y_coor + max_abs_motion + block_side}, {search_range_x_coor + max_abs_motion}:{search_range_x_coor + max_abs_motion + block_side})\")\n",
    "                    show_frame(P_block)\n",
    "                    show_frame(errors_in_search_area, f\"{block_x_coor} {block_y_coor} x={search_range_x_coor} y={search_range_y_coor}\")\n",
    "                    error_by_block = np.sum(errors_in_search_area)\n",
    "                    print((search_range_y_coor + max_abs_motion) % search_range)\n",
    "                    errors_by_search_area[(search_range_y_coor + max_abs_motion) % search_range,\n",
    "                                          (search_range_x_coor + max_abs_motion) % search_range] = error_by_block\n",
    "                    #print(block_y_coor, block_x_coor, search_range_y_coor,\n",
    "                    #      search_range_x_coor, R_block.shape, P_block.shape,\n",
    "                    #      errors_in_search_area.shape, errors_in_search_area)\n",
    "                    counter += 1\n",
    "            mv_index = np.argmin(errors_by_search_area)\n",
    "            MV_y = mv_index // search_range\n",
    "            MV_x = mv_index % search_range\n",
    "            flow[block_y_coor // block_side, block_x_coor // block_side] = (MV_x, MV_y)\n",
    "            #print(mv_index, MV_y, MV_x, errors_by_search_area[MV_y, MV_x])\n",
    "    return flow\n",
    "\n",
    "def full_search_block_based_ME_(P, R, block_side=16, max_abs_motion=8):\n",
    "    assert max_abs_motion > 0\n",
    "    extended_R = cv.copyMakeBorder(R, max_abs_motion, max_abs_motion, max_abs_motion, max_abs_motion, cv.BORDER_REPLICATE) \n",
    "    extended_R[max_abs_motion : R.shape[0] + max_abs_motion,\n",
    "               max_abs_motion : R.shape[1] + max_abs_motion] = R\n",
    "    show_frame(extended_R, \"extended R\")\n",
    "    blocks_in_y = P.shape[0]//block_side\n",
    "    blocks_in_x = P.shape[1]//block_side\n",
    "    MVs = np.zeros((blocks_in_y, blocks_in_x, 2), dtype=np.int8)\n",
    "    for block_y_coor in range(blocks_in_y):\n",
    "        for block_x_coor in range(blocks_in_x):\n",
    "            errors_by_search_area = np.empty((block_side + 2*max_abs_motion, block_side + 2*max_abs_motion))\n",
    "            for search_range_y_coor in range(2*max_abs_motion):\n",
    "                for search_range_x_coor in range(2*max_abs_motion):\n",
    "                    R_block = extended_R[block_y_coor*block_side + search_range_y_coor:\n",
    "                                         (block_y_coor + 1)*block_side + search_range_y_coor,\n",
    "                                         block_x_coor*block_side + search_range_x_coor:\n",
    "                                         (block_x_coor + 1)*block_side + search_range_x_coor]\n",
    "                    #print(block_y_coor, block_x_coor, search_range_y_coor, search_range_x_coor,\n",
    "                    #      block_y_coor*block_side - search_range_y_coor + max_abs_motion,\n",
    "                    #                     (block_y_coor + 1)*block_side - search_range_y_coor + max_abs_motion,\n",
    "                    #                     block_x_coor*block_side - search_range_x_coor + max_abs_motion,\n",
    "                    #                     (block_x_coor + 1)*block_side - search_range_x_coor + max_abs_motion)\n",
    "                    P_block = P[block_y_coor*block_side :\n",
    "                                (block_y_coor + 1)*block_side,\n",
    "                                block_x_coor*block_side :\n",
    "                                (block_x_coor + 1)*block_side]\n",
    "                    #print(search_range_y_coor+ max_abs_motion , search_range_y_coor + max_abs_motion  + block_side)\n",
    "                    #print(block_side, R_block.shape, P_block.shape)\n",
    "                    errors_in_search_area = np.abs(R_block - P_block)\n",
    "                    show_frame(R_block, f\"R ({block_y_coor*block_side + search_range_y_coor}:{(block_y_coor + 1)*block_side + search_range_y_coor}, {block_x_coor*block_side + search_range_x_coor}:{(block_x_coor + 1)*block_side + search_range_x_coor})\")\n",
    "                    show_frame(P_block, f\"P ({block_y_coor*block_side}:{(block_y_coor + 1)*block_side},{block_x_coor*block_side}:{(block_x_coor + 1)*block_side})\")\n",
    "                    show_frame(errors_in_search_area, f\"{block_x_coor} {block_y_coor} x={search_range_x_coor} y={search_range_y_coor}\")\n",
    "                    error_by_block = np.sum(errors_in_search_area)\n",
    "                    #print((search_range_y_coor + max_abs_motion) % search_range)\n",
    "                    errors_by_search_area[block_y_coor, block_x_coor] = error_by_block\n",
    "                    #print(block_y_coor, block_x_coor, search_range_y_coor,\n",
    "                    #      search_range_x_coor, R_block.shape, P_block.shape,\n",
    "                    #      errors_in_search_area.shape, errors_in_search_area)\n",
    "            mv_index = np.argmin(errors_by_search_area)\n",
    "            #MV_y = mv_index // \n",
    "            #MV_x = mv_index % search_range\n",
    "            print(mv_index, errors_by_search_area.shape)\n",
    "            #motion[block_y_coor, block_x_coor] = (MV_x, MV_y)\n",
    "            #print(mv_index, MV_y, MV_x, errors_by_search_area[MV_y, MV_x])\n",
    "    return MVs\n",
    "\n",
    "def full_search_block_based_ME(P, R, block_side=16, max_abs_motion=8):\n",
    "    \n",
    "    def local_search(by, bx):\n",
    "        errors_by_search_area = np.empty((2*max_abs_motion + 1, 2*max_abs_motion + 1))\n",
    "        for ry in range(-max_abs_motion, max_abs_motion + 1):\n",
    "            for rx in range(-max_abs_motion, max_abs_motion + 1):\n",
    "                R_block = extended_R[by*block_side + ry + max_abs_motion:\n",
    "                                    (by + 1)*block_side + ry + max_abs_motion,\n",
    "                                    bx*block_side + rx + max_abs_motion:\n",
    "                                    (bx + 1)*block_side + rx + max_abs_motion]\n",
    "                #show_frame(R_block, f\"R ({by} {bx} {ry} {rx} {by*block_side + ry + max_abs_motion}:{(by + 1)*block_side + ry + max_abs_motion}, {bx*block_side + rx + max_abs_motion}:{(bx + 1)*block_side + rx + max_abs_motion})\")\n",
    "                P_block = P[by*block_side : (by + 1)*block_side, bx*block_side : (bx + 1)*block_side]\n",
    "                #show_frame(P_block, f\"P ({by*block_side}:{(by + 1)*block_side},{bx*block_side}:{(bx + 1)*block_side})\")\n",
    "                #errors_in_search_area = np.abs(R_block - P_block)\n",
    "                #error_by_block = np.sum(errors_in_search_area)\n",
    "                error = R_block.astype(np.float32) - P_block\n",
    "                errors_in_search_area = error*error\n",
    "                error_by_block = np.average(errors_in_search_area)\n",
    "                #show_frame(errors_in_search_area, f\"by={by} bx={bx} ry={ry} rx={rx} error={error_by_block}\")\n",
    "                errors_by_search_area[ry + max_abs_motion, rx + max_abs_motion] = error_by_block\n",
    "                #show_frame(errors_by_search_area, \"errors\")\n",
    "        mv_index = np.argmin(errors_by_search_area)\n",
    "        if errors_by_search_area[max_abs_motion, max_abs_motion] == errors_by_search_area[0, 0]:\n",
    "            MV_y, MV_x = 0, 0\n",
    "        else:\n",
    "            MV_y = mv_index // (2*max_abs_motion + 1) - max_abs_motion\n",
    "            MV_x = mv_index  % (2*max_abs_motion + 1) - max_abs_motion\n",
    "        #print(\"index=\", mv_index, \"y=\", MV_y, \"x=\", MV_x)\n",
    "        #print(errors_by_search_area.astype(np.int))\n",
    "        return MV_y, MV_x\n",
    "\n",
    "    assert max_abs_motion > 0\n",
    "    extended_R = cv.copyMakeBorder(R, max_abs_motion, max_abs_motion, max_abs_motion, max_abs_motion, cv.BORDER_REPLICATE) \n",
    "    extended_R[max_abs_motion : R.shape[0] + max_abs_motion,\n",
    "               max_abs_motion : R.shape[1] + max_abs_motion] = R\n",
    "    #show_frame(extended_R, \"extended R\")\n",
    "    blocks_in_y = P.shape[0]//block_side\n",
    "    blocks_in_x = P.shape[1]//block_side\n",
    "    MVs = np.zeros((blocks_in_y, blocks_in_x, 2), dtype=np.int8)\n",
    "    #print(blocks_in_y, blocks_in_x)\n",
    "    for by in range(blocks_in_y):\n",
    "        for bx in range(blocks_in_x):\n",
    "            MV_y, MV_x = local_search(by, bx)\n",
    "            MVs[by, bx] = (MV_x, MV_y)\n",
    "    return MVs\n",
    "\n",
    "block_side = 32\n",
    "max_abs_motion = 1\n",
    "MVs = full_search_block_based_ME(P, R, block_side=block_side, max_abs_motion=max_abs_motion)"
   ]
  },
  {
   "cell_type": "code",
   "execution_count": null,
   "metadata": {},
   "outputs": [],
   "source": [
    "MVs.shape"
   ]
  },
  {
   "cell_type": "code",
   "execution_count": null,
   "metadata": {},
   "outputs": [],
   "source": [
    "for y in range(P.shape[0]//block_side):\n",
    "    for x in range(P.shape[1]//block_side):\n",
    "        print(MVs[y, x], end=' ')\n",
    "    print()"
   ]
  },
  {
   "cell_type": "code",
   "execution_count": null,
   "metadata": {},
   "outputs": [],
   "source": [
    "show_vectors(MVs[::1, ::1])"
   ]
  },
  {
   "cell_type": "markdown",
   "metadata": {},
   "source": [
    "## Interpolate the MVs\n",
    "The predictor expects a dense motion field."
   ]
  },
  {
   "cell_type": "code",
   "execution_count": null,
   "metadata": {},
   "outputs": [],
   "source": [
    "from scipy import ndimage\n",
    "_MVs = np.empty((P.shape[0], P.shape[1], 2), dtype=np.float32)\n",
    "print(_MVs.shape)\n",
    "_MVs[..., 0] = ndimage.zoom(MVs[..., 0], P.shape[0]/MVs.shape[0], order=0)\n",
    "_MVs[..., 1] = ndimage.zoom(MVs[..., 1], P.shape[0]/MVs.shape[0], order=0)"
   ]
  },
  {
   "cell_type": "markdown",
   "metadata": {},
   "source": [
    "## Make the prediction"
   ]
  },
  {
   "cell_type": "code",
   "execution_count": null,
   "metadata": {},
   "outputs": [],
   "source": [
    "hat_P = motion.make_prediction(R, _MVs)\n",
    "show_frame(R, \"reference ${\\mathbf R}$\")\n",
    "show_frame(P, \"predicted $P$\")\n",
    "show_frame(hat_P, \"prediction $\\hat{P}$\")\n",
    "show_frame(P-hat_P, \"error\")"
   ]
  },
  {
   "cell_type": "markdown",
   "metadata": {},
   "source": [
    "## More distance"
   ]
  },
  {
   "cell_type": "code",
   "execution_count": null,
   "metadata": {},
   "outputs": [],
   "source": [
    "R = YUV.from_RGB(frame.read(\"/home/vruiz/MRVC/sequences/moving_circles/\", 0).astype(np.int16))[...,0]\n",
    "P = YUV.from_RGB(frame.read(\"/home/vruiz/MRVC/sequences/moving_circles/\", 2).astype(np.int16))[...,0]"
   ]
  },
  {
   "cell_type": "code",
   "execution_count": null,
   "metadata": {},
   "outputs": [],
   "source": [
    "show_frame(R, \"reference ${\\mathbf R}$\")\n",
    "show_frame(P, \"predicted ${\\mathbf P}$\")"
   ]
  },
  {
   "cell_type": "code",
   "execution_count": null,
   "metadata": {},
   "outputs": [],
   "source": [
    "block_side = 16\n",
    "max_abs_motion = 4\n",
    "MVs = full_search_block_based_ME(P, R, block_side=block_side, max_abs_motion=max_abs_motion)"
   ]
  },
  {
   "cell_type": "code",
   "execution_count": null,
   "metadata": {},
   "outputs": [],
   "source": [
    "show_vectors(MVs[::1, ::1])"
   ]
  },
  {
   "cell_type": "code",
   "execution_count": null,
   "metadata": {},
   "outputs": [],
   "source": [
    "from scipy import ndimage\n",
    "_MVs = np.empty((P.shape[0], P.shape[1], 2), dtype=np.float32)\n",
    "_MVs[..., 0] = ndimage.zoom(MVs[..., 0], P.shape[0]/MVs.shape[0], order=0)\n",
    "_MVs[..., 1] = ndimage.zoom(MVs[..., 1], P.shape[0]/MVs.shape[0], order=0)\n",
    "show_vectors(_MVs[::1, ::1])"
   ]
  },
  {
   "cell_type": "code",
   "execution_count": null,
   "metadata": {
    "scrolled": false
   },
   "outputs": [],
   "source": [
    "hat_P = motion.make_prediction(R, _MVs)\n",
    "show_frame(hat_P, \"prediction $\\hat{\\mathbf P}$\")\n",
    "show_frame(P-hat_P, \"error\")"
   ]
  },
  {
   "cell_type": "markdown",
   "metadata": {},
   "source": [
    "## Even more distance"
   ]
  },
  {
   "cell_type": "code",
   "execution_count": null,
   "metadata": {},
   "outputs": [],
   "source": [
    "R = YUV.from_RGB(frame.read(\"/home/vruiz/MRVC/sequences/moving_circles/\", 0).astype(np.int16))[...,0]\n",
    "P = YUV.from_RGB(frame.read(\"/home/vruiz/MRVC/sequences/moving_circles/\", 4).astype(np.int16))[...,0]"
   ]
  },
  {
   "cell_type": "code",
   "execution_count": null,
   "metadata": {},
   "outputs": [],
   "source": [
    "show_frame(R, \"reference ${\\mathbf R}$\")\n",
    "show_frame(P, \"predicted ${\\mathbf P}$\")"
   ]
  },
  {
   "cell_type": "code",
   "execution_count": null,
   "metadata": {},
   "outputs": [],
   "source": [
    "block_side = 16\n",
    "max_abs_motion = 8\n",
    "MVs = full_search_block_based_ME(P, R, block_side=block_side, max_abs_motion=max_abs_motion)"
   ]
  },
  {
   "cell_type": "code",
   "execution_count": null,
   "metadata": {},
   "outputs": [],
   "source": [
    "show_vectors(MVs[::1, ::1])"
   ]
  },
  {
   "cell_type": "code",
   "execution_count": null,
   "metadata": {},
   "outputs": [],
   "source": [
    "from scipy import ndimage\n",
    "_MVs = np.empty((P.shape[0], P.shape[1], 2), dtype=np.float32)\n",
    "_MVs[..., 0] = ndimage.zoom(MVs[..., 0], P.shape[0]/MVs.shape[0], order=0)\n",
    "_MVs[..., 1] = ndimage.zoom(MVs[..., 1], P.shape[0]/MVs.shape[0], order=0)\n",
    "show_vectors(_MVs[::1, ::1])"
   ]
  },
  {
   "cell_type": "code",
   "execution_count": null,
   "metadata": {},
   "outputs": [],
   "source": [
    "hat_P = motion.make_prediction(R, _MVs)\n",
    "show_frame(hat_P, \"prediction $\\hat{\\mathbf P}$\")\n",
    "show_frame(P-hat_P, \"error\")"
   ]
  },
  {
   "cell_type": "markdown",
   "metadata": {},
   "source": [
    "## Now with a real image"
   ]
  },
  {
   "cell_type": "code",
   "execution_count": null,
   "metadata": {},
   "outputs": [],
   "source": [
    "prefix = \"/home/vruiz/MRVC/sequences/stockholm/\"\n",
    "R = frame.read(prefix, 0)[100:356,100:612]\n",
    "P = frame.read(prefix, 1)[100:356,100:612]\n",
    "show_frame(R, \"reference ${\\mathbf R}$\")\n",
    "show_frame(P, \"predicted ${\\mathbf P}$\")"
   ]
  },
  {
   "cell_type": "code",
   "execution_count": null,
   "metadata": {},
   "outputs": [],
   "source": [
    "block_side = 16\n",
    "max_abs_motion = 8\n",
    "MVs = full_search_block_based_ME(P, R, block_side=block_side, max_abs_motion=max_abs_motion)"
   ]
  },
  {
   "cell_type": "code",
   "execution_count": null,
   "metadata": {},
   "outputs": [],
   "source": [
    "show_vectors(MVs[::1, ::1])"
   ]
  },
  {
   "cell_type": "code",
   "execution_count": null,
   "metadata": {},
   "outputs": [],
   "source": [
    "from scipy import ndimage\n",
    "_MVs = np.empty((P.shape[0], P.shape[1], 2), dtype=np.float32)\n",
    "print(_MVs.shape)\n",
    "_MVs[..., 0] = ndimage.zoom(MVs[..., 0], P.shape[0]/MVs.shape[0], order=0)\n",
    "_MVs[..., 1] = ndimage.zoom(MVs[..., 1], P.shape[0]/MVs.shape[0], order=0)"
   ]
  },
  {
   "cell_type": "code",
   "execution_count": null,
   "metadata": {},
   "outputs": [],
   "source": [
    "hat_P = motion.make_prediction(R, _MVs)\n",
    "show_frame(hat_P, \"prediction $\\hat{P}$\")\n",
    "show_frame(P-hat_P, \"error\")"
   ]
  }
 ],
 "metadata": {
  "kernelspec": {
   "display_name": "Python 3",
   "language": "python",
   "name": "python3"
  },
  "language_info": {
   "codemirror_mode": {
    "name": "ipython",
    "version": 3
   },
   "file_extension": ".py",
   "mimetype": "text/x-python",
   "name": "python",
   "nbconvert_exporter": "python",
   "pygments_lexer": "ipython3",
   "version": "3.9.6"
  }
 },
 "nbformat": 4,
 "nbformat_minor": 4
}

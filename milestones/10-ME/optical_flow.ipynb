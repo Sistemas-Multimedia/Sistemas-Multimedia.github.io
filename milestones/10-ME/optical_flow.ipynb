{
 "cells": [
  {
   "cell_type": "markdown",
   "metadata": {},
   "source": [
    "# Computing the (dense) optical flow with OpenCV"
   ]
  },
  {
   "cell_type": "code",
   "execution_count": null,
   "metadata": {},
   "outputs": [],
   "source": [
    "%matplotlib inline\n",
    "\n",
    "import matplotlib\n",
    "import matplotlib.pyplot as plt\n",
    "import matplotlib.axes as ax\n",
    "plt.rcParams['text.usetex'] = True\n",
    "#plt.rcParams['text.latex.preamble'] = [r'\\usepackage{amsmath}'] #for \\text command\n",
    "\n",
    "import pylab\n",
    "import math\n",
    "import numpy as np\n",
    "from scipy import signal\n",
    "import cv2\n",
    "import os\n",
    "\n",
    "!ln -sf ~/MRVC/src/frame.py .\n",
    "import frame"
   ]
  },
  {
   "cell_type": "code",
   "execution_count": null,
   "metadata": {},
   "outputs": [],
   "source": [
    "def load_frame(prefix):\n",
    "    fn = f\"{prefix}.png\"\n",
    "    frame = cv2.imread(fn, cv2.IMREAD_UNCHANGED) # [rows, cols, comp]\n",
    "    frame = cv2.cvtColor(frame, cv2.COLOR_BGR2RGB)\n",
    "    frame = np.array(frame)\n",
    "    frame = frame.astype(np.float32) - 32768.0\n",
    "    frame = frame.astype(np.int16)\n",
    "    return frame"
   ]
  },
  {
   "cell_type": "code",
   "execution_count": null,
   "metadata": {},
   "outputs": [],
   "source": [
    "prefix = \"/home/vruiz/MRVC/sequences/stockholm_5_frames/\"\n",
    "R = frame.load(prefix + \"000\")\n",
    "P = frame.load(prefix + \"001\")"
   ]
  },
  {
   "cell_type": "code",
   "execution_count": null,
   "metadata": {},
   "outputs": [],
   "source": [
    "def RGB_to_YCoCg(RGB_frame):\n",
    "    R, G, B = RGB_frame[:,:,0], RGB_frame[:,:,1], RGB_frame[:,:,2]\n",
    "    YCoCg_frame = np.empty_like(RGB_frame)\n",
    "    YCoCg_frame[:,:,0] =  R/4 + G/2 + B/4 \n",
    "    YCoCg_frame[:,:,1] =  R/2       - B/2\n",
    "    YCoCg_frame[:,:,2] = -R/4 + G/2 - B/4\n",
    "    return YCoCg_frame"
   ]
  },
  {
   "cell_type": "code",
   "execution_count": null,
   "metadata": {},
   "outputs": [],
   "source": [
    "R = RGB_to_YCoCg(R)[:,:,0]\n",
    "P = RGB_to_YCoCg(P)[:,:,0]"
   ]
  },
  {
   "cell_type": "code",
   "execution_count": null,
   "metadata": {},
   "outputs": [],
   "source": [
    "R = YCoCg.from_RGB(R)[0]\n",
    "P = YCoCg.from_RGB(P)[0]"
   ]
  },
  {
   "cell_type": "code",
   "execution_count": null,
   "metadata": {},
   "outputs": [],
   "source": [
    "def merge(frame):\n",
    "    return cv2.merge((frame[0], frame[1], frame[2]))\n",
    "\n",
    "def show(img, title, fn=None):\n",
    "    #plt.figure(figsize = (10,10))\n",
    "    plt.title(title)\n",
    "    plt.imshow((img-img.min())/(img.max()-img.min()), cmap=\"gray\")\n",
    "    if fn != None:\n",
    "        plt.savefig(fn, dpi=200)"
   ]
  },
  {
   "cell_type": "code",
   "execution_count": null,
   "metadata": {},
   "outputs": [],
   "source": [
    "show(R, \"the reference frame $R$\", \"R.svg\")"
   ]
  },
  {
   "cell_type": "code",
   "execution_count": null,
   "metadata": {},
   "outputs": [],
   "source": [
    "show(P, \"the predicted frame $P$\", \"P.svg\")"
   ]
  },
  {
   "cell_type": "code",
   "execution_count": null,
   "metadata": {},
   "outputs": [],
   "source": [
    "flow = cv2.calcOpticalFlowFarneback(\n",
    "    prev=P,        # Be carefull\n",
    "    next=R,        # with this!\n",
    "    flow=None,\n",
    "    pyr_scale=0.5,\n",
    "    levels=3,      # Play\n",
    "    winsize=7,     # with\n",
    "    iterations=3,  # this\n",
    "    poly_n=5,\n",
    "    poly_sigma=1.2,\n",
    "    flags=0)"
   ]
  },
  {
   "cell_type": "code",
   "execution_count": null,
   "metadata": {},
   "outputs": [],
   "source": [
    "show(flow[:,:,0], \"motion in the Y axis\", \"y_motion.svg\")"
   ]
  },
  {
   "cell_type": "code",
   "execution_count": null,
   "metadata": {},
   "outputs": [],
   "source": [
    "show(flow[:,:,1], \"motion in the X axis\", \"x_motion.svg\")"
   ]
  },
  {
   "cell_type": "code",
   "execution_count": null,
   "metadata": {},
   "outputs": [],
   "source": [
    "def estimate_frame(reference, flow):\n",
    "    height, width = flow.shape[:2]\n",
    "    map_x = np.tile(np.arange(width), (height, 1))\n",
    "    map_y = np.swapaxes(np.tile(np.arange(height), (width, 1)), 0, 1)\n",
    "    map_xy = (flow + np.dstack((map_x, map_y))).astype('float32')\n",
    "    return cv2.remap(reference, map_xy, None, \n",
    "            interpolation=cv2.INTER_LINEAR,\n",
    "            borderMode=cv2.BORDER_REPLICATE)"
   ]
  },
  {
   "cell_type": "code",
   "execution_count": null,
   "metadata": {},
   "outputs": [],
   "source": [
    "hat_P = estimate_frame(R, flow)"
   ]
  },
  {
   "cell_type": "code",
   "execution_count": null,
   "metadata": {},
   "outputs": [],
   "source": [
    "show(hat_P, \"predicted frame $\\hat{P}$\", \"hat_P.svg\")"
   ]
  },
  {
   "cell_type": "code",
   "execution_count": null,
   "metadata": {},
   "outputs": [],
   "source": [
    "show(P-R, \"prediction error without motion estimation ($P-R$)\", \"without_ME.svg\")"
   ]
  },
  {
   "cell_type": "code",
   "execution_count": null,
   "metadata": {},
   "outputs": [],
   "source": [
    "show(P-hat_P, \"prediction error with motion estimation ($P-\\hat{P}$)\", \"with_ME.svg\")"
   ]
  },
  {
   "cell_type": "code",
   "execution_count": null,
   "metadata": {},
   "outputs": [],
   "source": []
  }
 ],
 "metadata": {
  "kernelspec": {
   "display_name": "Python 3",
   "language": "python",
   "name": "python3"
  },
  "language_info": {
   "codemirror_mode": {
    "name": "ipython",
    "version": 3
   },
   "file_extension": ".py",
   "mimetype": "text/x-python",
   "name": "python",
   "nbconvert_exporter": "python",
   "pygments_lexer": "ipython3",
   "version": "3.9.1"
  }
 },
 "nbformat": 4,
 "nbformat_minor": 4
}

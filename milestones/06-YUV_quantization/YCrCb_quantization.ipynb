{
 "cells": [
  {
   "cell_type": "markdown",
   "metadata": {},
   "source": [
    "# YCrCb image compression\n",
    "\n",
    "Removing the redundancy in the color domain with the YCrCb transform."
   ]
  },
  {
   "cell_type": "code",
   "execution_count": null,
   "metadata": {},
   "outputs": [],
   "source": [
    "%matplotlib inline\n",
    "\n",
    "import matplotlib\n",
    "import matplotlib.pyplot as plt\n",
    "import matplotlib.axes as ax\n",
    "#plt.rcParams['text.usetex'] = True\n",
    "#plt.rcParams['text.latex.preamble'] = [r'\\usepackage{amsmath}'] #for \\text command\n",
    "import pylab\n",
    "import math\n",
    "import numpy as np\n",
    "from scipy import signal\n",
    "import cv2\n",
    "import os\n",
    "!ln -sf ~/quantization/deadzone_quantizer.py .\n",
    "!ln -sf ~/quantization/midtread_quantizer.py .\n",
    "!ln -sf ~/quantization/midrise_quantizer.py .\n",
    "!ln -sf ~/quantization/distortion.py .\n",
    "!ln -sf ~/quantization/information.py .\n",
    "!ln -sf ~/MRVC/src/YCrCb.py .\n",
    "!ln -sf ~/MRVC/src/debug.py .\n",
    "!ln -sf ~/MRVC/src/image_3.py .\n",
    "!ln -sf ~/MRVC/src/image_1.py .\n",
    "!ln -sf ../common.py .\n",
    "import deadzone_quantizer as Q\n",
    "import midtread_quantizer as midtread\n",
    "import midrise_quantizer as midrise\n",
    "import YCrCb\n",
    "import distortion\n",
    "import information\n",
    "import image_3 as RGB_image\n",
    "import image_1 as gray_image\n",
    "import colored\n",
    "import common"
   ]
  },
  {
   "cell_type": "markdown",
   "metadata": {},
   "source": [
    "## Configuration"
   ]
  },
  {
   "cell_type": "code",
   "execution_count": null,
   "metadata": {},
   "outputs": [],
   "source": [
    "# Prefix of the RGB image to be quantized.\n",
    "\n",
    "home = os.environ[\"HOME\"]\n",
    "#fn = home + \"/MRVC/sequences/stockholm/\"\n",
    "fn = home + \"/MRVC/sequences/lena_color/\"\n",
    "\n",
    "YCrCb_components = ['Y', 'Cr', 'Cb']\n",
    "\n",
    "# Number of quantization steps.\n",
    "N_Q_steps = 8\n",
    "#Q_steps = [256*i/N_Q_steps for i in range(N_Q_steps + 1, 0, -1)]\n",
    "Q_steps = [2**i for i in range(7, -1, -1)]\n",
    "print(Q_steps)\n",
    "\n",
    "quantizer = midtread\n",
    "#quantizer = deadzone\n",
    "#quantizer = midrise"
   ]
  },
  {
   "cell_type": "markdown",
   "metadata": {},
   "source": [
    "## Read the image and show it"
   ]
  },
  {
   "cell_type": "code",
   "execution_count": null,
   "metadata": {},
   "outputs": [],
   "source": [
    "RGB_img = RGB_image.read(fn).astype(np.int16)\n",
    "common.show(RGB_img, fn + \"000.png\")"
   ]
  },
  {
   "cell_type": "code",
   "execution_count": null,
   "metadata": {},
   "outputs": [],
   "source": [
    "RGB_img.shape"
   ]
  },
  {
   "cell_type": "markdown",
   "metadata": {},
   "source": [
    "## (RGB -> YCrCb) transform of the image"
   ]
  },
  {
   "cell_type": "code",
   "execution_count": null,
   "metadata": {},
   "outputs": [],
   "source": [
    "YCrCb_img = YCrCb.from_RGB(RGB_img)\n",
    "Y_img = YCrCb_img[...,0]\n",
    "Cr_img = YCrCb_img[...,1]\n",
    "Cb_img = YCrCb_img[...,2]"
   ]
  },
  {
   "cell_type": "code",
   "execution_count": null,
   "metadata": {},
   "outputs": [],
   "source": [
    "common.show_gray(Y_img, fn + \"000 (Y comp.)\")"
   ]
  },
  {
   "cell_type": "code",
   "execution_count": null,
   "metadata": {},
   "outputs": [],
   "source": [
    "common.show_gray(Cr_img, fn + \"000 (Cr comp.)\")"
   ]
  },
  {
   "cell_type": "code",
   "execution_count": null,
   "metadata": {},
   "outputs": [],
   "source": [
    "common.show_gray(Cb_img, fn + \"000 (Cb comp.)\")"
   ]
  },
  {
   "cell_type": "markdown",
   "metadata": {},
   "source": [
    "The YCbCr components ranges between [0, 255]."
   ]
  },
  {
   "cell_type": "markdown",
   "metadata": {},
   "source": [
    "## Energy of the YCrCb components"
   ]
  },
  {
   "cell_type": "code",
   "execution_count": null,
   "metadata": {},
   "outputs": [],
   "source": [
    "Y_avg_energy = information.average_energy(Y_img)\n",
    "Cr_avg_energy = information.average_energy(Cr_img)\n",
    "Cb_avg_energy = information.average_energy(Cb_img)\n",
    "print(f\"Average energy in the Y image = {Y_avg_energy}\")\n",
    "print(f\"Average energy in the Cr image = {Cr_avg_energy}\")\n",
    "print(f\"Average energy in the Cb image = {Cb_avg_energy}\")\n",
    "total_YCrCb_avg_energy = Y_avg_energy + Cr_avg_energy + Cb_avg_energy\n",
    "print(f\"Total average energy (computed by adding the energies of the YCrCb components) = {total_YCrCb_avg_energy}\")\n",
    "print(f\"Total RGB average energy (computed directly from the RGB image) = {information.average_energy(RGB_img)*3}\")"
   ]
  },
  {
   "cell_type": "markdown",
   "metadata": {},
   "source": [
    "The forward YCrCb transform is not energy preserving, but is close."
   ]
  },
  {
   "cell_type": "code",
   "execution_count": null,
   "metadata": {},
   "outputs": [],
   "source": [
    "RGB_recons_img = YCrCb.to_RGB(YCrCb_img)\n",
    "print(f\"Total RGB average energy of reconstruction () = {information.average_energy(RGB_recons_img)*3}\")"
   ]
  },
  {
   "cell_type": "markdown",
   "metadata": {},
   "source": [
    "Neither the backward (inverse) YCrCb transform is. However, it could be an error generated by the use of floating point arithmetic."
   ]
  },
  {
   "cell_type": "markdown",
   "metadata": {},
   "source": [
    "## (RGB <-> YCrCb) transform error"
   ]
  },
  {
   "cell_type": "code",
   "execution_count": null,
   "metadata": {},
   "outputs": [],
   "source": [
    "common.show(RGB_recons_img, fn + \"000.png (YCrCb recons)\")"
   ]
  },
  {
   "cell_type": "code",
   "execution_count": null,
   "metadata": {},
   "outputs": [],
   "source": [
    "np.array_equal(RGB_img, RGB_recons_img)"
   ]
  },
  {
   "cell_type": "code",
   "execution_count": null,
   "metadata": {},
   "outputs": [],
   "source": [
    "print(RGB_img.max(), RGB_img.min())"
   ]
  },
  {
   "cell_type": "code",
   "execution_count": null,
   "metadata": {},
   "outputs": [],
   "source": [
    "print(RGB_recons_img.max(), RGB_recons_img.min())"
   ]
  },
  {
   "cell_type": "code",
   "execution_count": null,
   "metadata": {},
   "outputs": [],
   "source": [
    "common.show(RGB_img-RGB_recons_img, \"Reconstruction error (rounding error)\")"
   ]
  },
  {
   "cell_type": "markdown",
   "metadata": {},
   "source": [
    "The YCrCb transform is irreversible. In general, only integer arithmetic operations guarantees reversibility."
   ]
  },
  {
   "cell_type": "markdown",
   "metadata": {},
   "source": [
    "## Synthesis filters gains\n",
    "\n",
    "The synthesis filters gains are important because the quantization steps of each YCrCb component should be adjusted in order to effectively provide the desired number of [bins](http://www.winlab.rutgers.edu/~crose/322_html/quantization.pdf) (different dequantized values) in each component."
   ]
  },
  {
   "cell_type": "code",
   "execution_count": null,
   "metadata": {},
   "outputs": [],
   "source": [
    "def print_info(val):\n",
    "    Y_delta = np.array([val, 0, 0]).astype(np.uint8).reshape(1,1,3)\n",
    "    RGB_Y_delta = YCrCb.to_RGB(Y_delta)\n",
    "    RGB_energy_Y_delta = information.energy(RGB_Y_delta)\n",
    "    \n",
    "    Cr_delta = np.array([0, val, 0]).astype(np.uint8).reshape(1,1,3)\n",
    "    RGB_Cr_delta = YCrCb.to_RGB(Cr_delta)\n",
    "    RGB_energy_Cr_delta = information.energy(RGB_Cr_delta)\n",
    "    \n",
    "    Cb_delta = np.array([0, 0, val]).astype(np.uint8).reshape(1,1,3)\n",
    "    RGB_Cb_delta = YCrCb.to_RGB(Cb_delta)\n",
    "    RGB_energy_Cb_delta = information.energy(RGB_Cb_delta)\n",
    "    \n",
    "    zero = np.array([0, 0, 0]).astype(np.uint8).reshape(1,1,3)\n",
    "    RGB_zero = YCrCb.to_RGB(zero)\n",
    "    RGB_energy_zero = information.energy(RGB_zero)\n",
    "\n",
    "    print(f\"Energy of {Y_delta} in the RGB domain ({RGB_Y_delta}) = {RGB_energy_Y_delta}\")\n",
    "    print(f\"Energy of {Cr_delta} in the RGB domain ({RGB_Cr_delta}) = {RGB_energy_Cr_delta}\")\n",
    "    print(f\"Energy of {Cb_delta} in the RGB domain ({RGB_Cb_delta}) = {RGB_energy_Cb_delta}\")\n",
    "    print(f\"Energy of {zero} in the RGB domain ({RGB_zero}) = {RGB_energy_zero}\")\n",
    "    \n",
    "    max_ = max(RGB_energy_Y_delta, RGB_energy_Cr_delta, RGB_energy_Cb_delta)\n",
    "    Y_relative_gain = RGB_energy_Y_delta / max_\n",
    "    Cr_relative_gain = RGB_energy_Cr_delta / max_\n",
    "    Cb_relative_gain = RGB_energy_Cb_delta / max_\n",
    "    print(f\"Relative gain of Y component = {Y_relative_gain}\")\n",
    "    print(f\"Relative gain of Cr component = {Cr_relative_gain}\")\n",
    "    print(f\"Relative gain of Cb component = {Cb_relative_gain}\")\n",
    "    \n",
    "print_info(255)\n",
    "print_info(1)\n",
    "print_info(0)"
   ]
  },
  {
   "cell_type": "markdown",
   "metadata": {},
   "source": [
    "Unfortunately, as it can be seen, the gain of the filters of the inverse transform depends on the value of the \"delta\" in the YCrCb domain. This is a consequence of the no orthogonality of the transform (the analysis filters are not independent, and the same happens with the synthesis filters). Therefore, if we minimize the quantization error in the YCrCb domain we will not minimize the quantization error in the RGB domain. This also implies that the distortion cannot be measured in the YCrCb domain when we are performing a Rate/Distortion Optimization (RDO)."
   ]
  },
  {
   "cell_type": "markdown",
   "metadata": {},
   "source": [
    "## Simple quantization in the YCrCb domain ($\\Delta_{\\text{Y}} = \\Delta_{\\text{Cb}} = \\Delta_{\\text{Cr}}$)\n",
    "Notice that the distortion is measured in the RGB domain."
   ]
  },
  {
   "cell_type": "code",
   "execution_count": null,
   "metadata": {},
   "outputs": [],
   "source": [
    "def YCrCb_same_delta_RD_curve(RGB_img, Q_steps, quantizer):\n",
    "    YCrCb_img = YCrCb.from_RGB(RGB_img).astype(np.int16)\n",
    "    points = []\n",
    "    for Q_step in Q_steps:\n",
    "        y_YCrCb, k = quantizer.quan_dequan(YCrCb_img, Q_step)\n",
    "        k_min = np.min(k)\n",
    "        rate = common.bits_per_color_pixel((k - k_min).astype(np.uint8), str(Q_step) + '_')\n",
    "        y_RGB = YCrCb.to_RGB(y_YCrCb)\n",
    "        _distortion = distortion.MSE(RGB_img, y_RGB)\n",
    "        points.append((rate, _distortion))\n",
    "        print(f\"q_step={Q_step:>3}, rate={rate:>7} bits/pixel, distortion={_distortion:>6.1f}\")\n",
    "    return points\n",
    "\n",
    "YCrCb_same_delta_RD_points = YCrCb_same_delta_RD_curve(RGB_img, Q_steps, quantizer)"
   ]
  },
  {
   "cell_type": "markdown",
   "metadata": {},
   "source": [
    "## Let's see the RD curve"
   ]
  },
  {
   "cell_type": "code",
   "execution_count": null,
   "metadata": {},
   "outputs": [],
   "source": [
    "pylab.figure(dpi=150)\n",
    "pylab.plot(*zip(*YCrCb_same_delta_RD_points), c='g', marker='.', label=\"$\\Delta_{\\mathrm{Y}} = \\Delta_{\\mathrm{Cr}} = \\Delta_{\\mathrm{Cb}}$\", linestyle=\"dashed\")\n",
    "pylab.title(\"Rate/Distortion\")\n",
    "pylab.xlabel(\"Bits/Pixel\")\n",
    "pylab.ylabel(\"MSE in RGB domain\")\n",
    "pylab.legend(loc='upper right')\n",
    "pylab.show()"
   ]
  },
  {
   "cell_type": "markdown",
   "metadata": {},
   "source": [
    "## Better RD curves?\n",
    "\n",
    "The method `YCrCb_same_delta_RD_curve(img, Q_steps, quantizer)` generates a RD curve where each point is the result of using $\\Delta_{\\text{Y}} = \\Delta_{\\text{Cb}} = \\Delta_{\\text{Cr}}$. However, a better (at least with more points) RD curve can be generated with:\n",
    "\n",
    "1. Convert the image from RGB to YCrCb.\n",
    "2. The RD curve of each YCrCb channel is computed, for a number of quantization steps, measuring the distortion in the RGB domain (remember that the YCrCb transform is not orthogonal and therefore, the distortion in the RGB domain cannot be estimated in the YCrCb domain).  We will quantize one component at each iteration and the rest of components will be unquantized. This is necessary to ensure that the low-pass component (Y) is always considered in each reconstruction. Otherwise, the distortion (at least using the MSE) will not be estimated correctly.\n",
    "3. Compute the slope of each segment of the RD curve. Except for the most left point, the slopes are computed as the average between the slopes of the straight lines that connect to the corresponding point.\n",
    "4. For each quantization step, sort the RD points by their slope.\n",
    "5. Recompute the optimal RD curve using the quantization steps provided by the sorted RD points."
   ]
  },
  {
   "cell_type": "markdown",
   "metadata": {},
   "source": [
    "## RD curve of each YCrCb component"
   ]
  },
  {
   "cell_type": "code",
   "execution_count": null,
   "metadata": {
    "scrolled": false
   },
   "outputs": [],
   "source": [
    "def component_RD_curve_(component, Q_steps, quantizer, component_name):\n",
    "    assert component.dtype == np.int64\n",
    "    component -= 128\n",
    "    points = []\n",
    "    for Q_step in Q_steps:\n",
    "        y, k = quantizer.quan_dequan(component, Q_step)\n",
    "        k = (k + 128).astype(np.uint8)\n",
    "        rate = common.bits_per_gray_pixel(k, component_name + str(Q_step) + '_')\n",
    "        _distortion = distortion.MSE(component, y)\n",
    "        points.append((rate, _distortion, component_name, Q_step))\n",
    "        print(f\"q_step={Q_step:>3}, rate={rate:.3f} bits/pixel, distortion={_distortion}\")\n",
    "    return points\n",
    "\n",
    "def component_RD_curve(RGB_img, Q_steps, quantizer, components, component_name):\n",
    "    YCrCb_img = YCrCb.from_RGB(RGB_img).astype(np.int16)\n",
    "    YCrCb_img -= 128\n",
    "    points = []\n",
    "    component_index = components.index(component_name)\n",
    "    for Q_step in Q_steps:\n",
    "        component_img = YCrCb_img[...,component_index]\n",
    "        y = np.zeros_like(YCrCb_img)\n",
    "        y[..., component_index], k = quantizer.quan_dequan(component_img, Q_step)\n",
    "        k = (k + 128).astype(np.uint8)\n",
    "        rate = common.bits_per_gray_pixel(k[..., component_index], component_name + str(Q_step) + '_')\n",
    "        y_RGB = YCrCb.to_RGB(y + 128)\n",
    "        _distortion = distortion.MSE(RGB_img, y_RGB)\n",
    "        #common.show(y_RGB, '')\n",
    "        points.append((rate, _distortion, component_name, Q_step))\n",
    "        print(f\"q_step={Q_step:>3}, rate={rate:.3f} bits/pixel, distortion={_distortion}\")\n",
    "    return points\n",
    "\n",
    "def croma_component_RD_curve(RGB_img, Q_steps, quantizer, components, component_name):\n",
    "    YCrCb_img = YCrCb.from_RGB(RGB_img).astype(np.int16)\n",
    "    YCrCb_img -= 128\n",
    "    points = []\n",
    "    component_index = components.index(component_name)\n",
    "    for Q_step in Q_steps:\n",
    "        component_img = YCrCb_img[...,component_index]\n",
    "        y = np.zeros_like(YCrCb_img)\n",
    "        y[..., 0], _ = quantizer.quan_dequan(YCrCb_img[...,0], Q_step)\n",
    "        y[..., component_index], k = quantizer.quan_dequan(component_img, Q_step)\n",
    "        k = (k + 128).astype(np.uint8)\n",
    "        rate = common.bits_per_gray_pixel(k, component_name + str(Q_step) + '_')\n",
    "        y_RGB = YCrCb.to_RGB(y + 128)\n",
    "        _distortion = distortion.MSE(RGB_img, y_RGB)\n",
    "        #common.show(y_RGB, '')\n",
    "        points.append((rate, _distortion, component_name, Q_step))\n",
    "        print(f\"q_step={Q_step:>3}, rate={rate:.3f} bits/pixel, distortion={_distortion}\")\n",
    "    return points\n",
    "\n",
    "def YCrCb_RD_curve_per_component_(RGB_img, Q_steps, Q, components):\n",
    "    YCrCb_img = YCrCb.from_RGB(RGB_img).astype(np.int16)\n",
    "    YCrCb_img -= 128\n",
    "    N_components = len(components)\n",
    "    RD_points = N_components*[[]]\n",
    "    for Q_step in Q_steps:\n",
    "        YCrCb_k = Q.quantize(YCrCb_img, Q_step)\n",
    "        for component_index in range(N_components):\n",
    "            YCrCb_y = np.zeros_like(YCrCb_img)\n",
    "            YCrCb_y[..., component_index] = Q.dequantize(YCrCb_k[..., component_index], Q_step) + 128\n",
    "            rate = common.bits_per_gray_pixel(YCrCb_k[..., component_index] + 128, str(Q_step) + '_' + components[component_index])\n",
    "            RGB_y = YCrCb.to_RGB(YCrCb_y)\n",
    "            _distortion = distortion.MSE(RGB_img, RGB_y)\n",
    "            common.show(RGB_y, str(Q_step))\n",
    "            RD_points[component_index].append((rate, _distortion))\n",
    "            print(f\"q_step={Q_step:>3}, rate={rate:>7} bits/pixel, distortion={_distortion:>6.1f}\")\n",
    "    return RD_points\n",
    "\n",
    "def YCrCb_RD_curve_per_component(RGB_img, Q_steps, Q, components):\n",
    "    YCrCb_img = YCrCb.from_RGB(RGB_img).astype(np.int16)\n",
    "    YCrCb_img -= 128\n",
    "    YCrCb_img_copy = YCrCb_img.copy()\n",
    "    N_components = len(components)\n",
    "    RD_points = []\n",
    "    for c in range(N_components):\n",
    "        RD_points.append([])\n",
    "    for Q_step in Q_steps:\n",
    "        YCrCb_k = Q.quantize(YCrCb_img, Q_step)\n",
    "        for component_index in range(N_components):\n",
    "            component_name = components[component_index]\n",
    "            YCrCb_y = YCrCb_img_copy.copy()\n",
    "            YCrCb_y[..., component_index] = Q.dequantize(YCrCb_k[..., component_index], Q_step)\n",
    "            rate = common.bits_per_gray_pixel(YCrCb_k[..., component_index] + 128, str(Q_step) + '_' + component_name)\n",
    "            RGB_y = YCrCb.to_RGB(YCrCb_y + 128)\n",
    "            _distortion = distortion.MSE(RGB_img, RGB_y)\n",
    "            #common.show(RGB_y, components[component_index] + ' ' + str(Q_step))\n",
    "            RD_points[component_index].append((rate, _distortion, component_name, Q_step))\n",
    "            print(f\"{components[component_index]} q_step={Q_step:>3}, rate={rate:>7} bits/pixel, distortion={_distortion:>6.1f}\")\n",
    "    return RD_points\n",
    "\n",
    "YCrCb_curve_per_component = YCrCb_RD_curve_per_component(RGB_img, Q_steps, quantizer, YCrCb_components)\n",
    "YCrCb_curve_per_component"
   ]
  },
  {
   "cell_type": "code",
   "execution_count": null,
   "metadata": {},
   "outputs": [],
   "source": [
    "pylab.figure(dpi=150)\n",
    "pylab.plot(*zip(*[(i[0], i[1]) for i in YCrCb_curve_per_component[0]]), c='r', marker='.', label=\"$\\mathrm{Y}}$\", linestyle=\"dashed\")\n",
    "pylab.plot(*zip(*[(i[0], i[1]) for i in YCrCb_curve_per_component[1]]), c='g', marker='.', label=\"$\\mathrm{Cr}}$\", linestyle=\"dashed\")\n",
    "pylab.plot(*zip(*[(i[0], i[1]) for i in YCrCb_curve_per_component[2]]), c='b', marker='.', label=\"$\\mathrm{Cb}}$\", linestyle=\"dashed\")\n",
    "pylab.title(\"Rate/Distortion\")\n",
    "pylab.xlabel(\"Bits/Pixel\")\n",
    "pylab.ylabel(\"MSE in the RGB Domain\")\n",
    "pylab.legend(loc='upper right')\n",
    "pylab.show()"
   ]
  },
  {
   "cell_type": "markdown",
   "metadata": {},
   "source": [
    "## Compute the slope of each point"
   ]
  },
  {
   "cell_type": "code",
   "execution_count": null,
   "metadata": {},
   "outputs": [],
   "source": [
    "def compute_slopes_(RD_points):\n",
    "    extended_RD_points = [(0.0, 9.0E9, '', -1)] + RD_points\n",
    "    counter = 0\n",
    "    RD_slopes = []\n",
    "    for i in RD_points:\n",
    "        BPP = i[0] # Rate \n",
    "        #print(RD_points[counter])\n",
    "        delta_BPP = BPP - extended_RD_points[counter][0]\n",
    "        MSE = i[1] # Distortion\n",
    "        delta_MSE = MSE - extended_RD_points[counter][1] \n",
    "        #print(f\"q_step={1<<q_step:>3}, rate={rate:>7} bytes, distortion={_distortion:>6.1f}\")\n",
    "        if delta_BPP > 0:\n",
    "            slope = delta_MSE/delta_BPP\n",
    "        else:\n",
    "            slope = 0\n",
    "        print((slope, i), delta_MSE, delta_BPP)\n",
    "        RD_slopes.append((slope, i[2], i[3]))\n",
    "        counter += 1\n",
    "    return RD_slopes\n",
    "\n",
    "def compute_slope(left_BPP, left_MSE, right_BPP, right_MSE):\n",
    "    delta_BPP = right_BPP - left_BPP\n",
    "    delta_MSE = left_MSE - right_MSE\n",
    "    if delta_BPP > 0:\n",
    "        slope = delta_MSE / delta_BPP\n",
    "    else:\n",
    "        slope = 0\n",
    "    return slope\n",
    "\n",
    "def compute_slopes(RD_points):\n",
    "    counter = 0\n",
    "    _RD_slopes = []\n",
    "    points_iterator = iter(RD_points)\n",
    "    left = next(points_iterator)\n",
    "    left_BPP = left[0]\n",
    "    left_MSE = left[1]\n",
    "    right = next(points_iterator)\n",
    "    right_BPP = right[0]\n",
    "    right_MSE = right[1]\n",
    "    slope = compute_slope(left_BPP, left_MSE, right_BPP, right_MSE)\n",
    "    _RD_slopes.append((slope, left[2], left[3]))\n",
    "    _RD_slopes.append((slope, right[2], right[3]))\n",
    "    left = right\n",
    "    for right in points_iterator:\n",
    "        right_BPP = right[0]\n",
    "        right_MSE = right[1]\n",
    "        #print(RD_points[counter])\n",
    "        slope = compute_slope(left_BPP, left_MSE, right_BPP, right_MSE)\n",
    "        _RD_slopes.append((slope, right[2], right[3]))\n",
    "        counter += 1\n",
    "        left = right\n",
    "        left_BPP = left[0]\n",
    "        left_MSE = left[1]\n",
    "        #left_BPP = right_BPP\n",
    "        #left_MSE = right_MSE\n",
    "    RD_slopes = []\n",
    "    slopes_iterator = iter(_RD_slopes)\n",
    "    left = next(slopes_iterator)\n",
    "    #print(\"-->\",_RD_slopes)\n",
    "    #return _RD_slopes\n",
    "    #RD_slopes.append(left)\n",
    "    #print(left)\n",
    "    for right in slopes_iterator:\n",
    "        #print(left, right)\n",
    "        RD_slopes.append((((left[0] + right[0])/2), right[1], left[2]))\n",
    "        left = right\n",
    "    RD_slopes.append(right)\n",
    "    return RD_slopes\n",
    "\n",
    "#print(\"(Slope (rate, distortion, component, Q_step)) delta_MSE delta_BPP:\\n\")\n",
    "Y_slopes = common.compute_slopes(YCrCb_curve_per_component[0])\n",
    "Cr_slopes = common.compute_slopes(YCrCb_curve_per_component[1])\n",
    "Cb_slopes = common.compute_slopes(YCrCb_curve_per_component[2])"
   ]
  },
  {
   "cell_type": "code",
   "execution_count": null,
   "metadata": {},
   "outputs": [],
   "source": [
    "Y_slopes"
   ]
  },
  {
   "cell_type": "code",
   "execution_count": null,
   "metadata": {},
   "outputs": [],
   "source": [
    "Cr_slopes"
   ]
  },
  {
   "cell_type": "code",
   "execution_count": null,
   "metadata": {},
   "outputs": [],
   "source": [
    "Cb_slopes"
   ]
  },
  {
   "cell_type": "markdown",
   "metadata": {},
   "source": [
    "Sort the slopes at each quantization step. The TPs generated in a component must be used in order."
   ]
  },
  {
   "cell_type": "code",
   "execution_count": null,
   "metadata": {},
   "outputs": [],
   "source": [
    "_i = 0\n",
    "sorted_slopes = []\n",
    "#print(Q_steps)\n",
    "for _Q_step in range(len(Q_steps)):\n",
    "    #print(_i)\n",
    "    YCrCb_slopes_for_such_Q_step = [Y_slopes[_i], Cr_slopes[_i], Cb_slopes[_i]]\n",
    "    sorted_slopes.append(sorted(YCrCb_slopes_for_such_Q_step, key=lambda x: x[0])[::-1])\n",
    "    #sorted_slopes.append(YCrCb_slopes_for_such_Q_step)\n",
    "    #print(YCrCb_slopes_for_such_Q_step)\n",
    "    _i += 1\n",
    "\n",
    "#all_slopes = Y_slopes + Cr_slopes + Cb_slopes\n",
    "#sorted_slopes = sorted(all_slopes, key=lambda x: x[0])[::-1]\n",
    "sorted_slopes"
   ]
  },
  {
   "cell_type": "code",
   "execution_count": null,
   "metadata": {},
   "outputs": [],
   "source": [
    "one_list = []\n",
    "for _list in sorted_slopes:\n",
    "    one_list += _list\n",
    "    print(_list)\n",
    "one_list"
   ]
  },
  {
   "cell_type": "markdown",
   "metadata": {},
   "source": [
    "Crominance without luminance makes not sense from a visual point of view, but these are the number :-/"
   ]
  },
  {
   "cell_type": "code",
   "execution_count": null,
   "metadata": {},
   "outputs": [],
   "source": [
    "#sorted_slopes[0], sorted_slopes[2] = sorted_slopes[2], sorted_slopes[0]\n",
    "#sorted_slopes"
   ]
  },
  {
   "cell_type": "markdown",
   "metadata": {},
   "source": [
    "And finally, let's compute the RD curve (remember that the previous points are only an estimation of the order in which the quantization steps should be increased in each component to build the RD curve, not the real RD curve that measures the distortion in the RGB domain)."
   ]
  },
  {
   "cell_type": "code",
   "execution_count": null,
   "metadata": {
    "scrolled": false
   },
   "outputs": [],
   "source": [
    "def generate_curve(RGB_img, sorted_slopes, quantizer, components):\n",
    "    points = []\n",
    "    Q_steps_per_component = [256, 256, 256] # This should generate a black image.\n",
    "    YCrCb_img = YCrCb.from_RGB(RGB_img).astype(np.int16)\n",
    "    k = np.empty_like(YCrCb_img)\n",
    "    y = np.empty_like(YCrCb_img)\n",
    "    YCrCb_img -= 128\n",
    "    for i in sorted_slopes:\n",
    "        print(i)\n",
    "        #point = i[1]\n",
    "        #component = point[2]\n",
    "        #Q_step = point[3]\n",
    "        component, Q_step = i[1], i[2]\n",
    "        Q_steps_per_component[components.index(component)] = Q_step\n",
    "        for c, Q_step in zip(components, Q_steps_per_component):\n",
    "            component_index = components.index(c)\n",
    "            y[..., component_index], k[..., component_index] = quantizer.quan_dequan(YCrCb_img[..., component_index], Q_step)\n",
    "        k = k.astype(np.uint8)\n",
    "        rate = common.bits_per_color_pixel(k, str(Q_steps_per_component) + '_')\n",
    "        y_RGB = YCrCb.to_RGB(y + 128)\n",
    "        _distortion = distortion.MSE(RGB_img, y_RGB)\n",
    "        #common.show(y_RGB, f\"Q_step={Q_steps_per_component}, rate={rate:>7} bits/pixel, distortion={_distortion:>6.1f}\")\n",
    "        points.append((rate, _distortion))\n",
    "        print(f\"Q_step={Q_steps_per_component}, rate={rate:>7} bits/pixel, distortion={_distortion:>6.1f}\")\n",
    "    return points\n",
    "\n",
    "sorted_points = generate_curve(RGB_img, one_list, quantizer, YCrCb_components)\n",
    "sorted_points"
   ]
  },
  {
   "cell_type": "code",
   "execution_count": null,
   "metadata": {},
   "outputs": [],
   "source": [
    "pylab.figure(dpi=150)\n",
    "pylab.plot(*zip(*YCrCb_same_delta_RD_points), c='g', marker='o', label=\"$\\Delta_{\\mathrm{Y}} = \\Delta_{\\mathrm{Cb}} = \\Delta_{\\mathrm{Cr}}$\", linestyle=\"dashed\")\n",
    "pylab.plot(*zip(*sorted_points), c='b', marker='x', label=\"Sorted Slopes\", linestyle=\"dotted\")\n",
    "pylab.title(\"Rate/Distortion Performance \")\n",
    "pylab.xlabel(\"Bits/Pixel\")\n",
    "pylab.ylabel(\"MSE in RGB domain\")\n",
    "pylab.legend(loc='upper right')\n",
    "pylab.show()"
   ]
  },
  {
   "cell_type": "markdown",
   "metadata": {},
   "source": [
    "## Conclusion\n",
    "\n",
    "In general, the basic quantization scheme that uses the same quantization step size for all the components performs almost optimal."
   ]
  }
 ],
 "metadata": {
  "kernelspec": {
   "display_name": "Python 3",
   "language": "python",
   "name": "python3"
  },
  "language_info": {
   "codemirror_mode": {
    "name": "ipython",
    "version": 3
   },
   "file_extension": ".py",
   "mimetype": "text/x-python",
   "name": "python",
   "nbconvert_exporter": "python",
   "pygments_lexer": "ipython3",
   "version": "3.9.6"
  }
 },
 "nbformat": 4,
 "nbformat_minor": 4
}

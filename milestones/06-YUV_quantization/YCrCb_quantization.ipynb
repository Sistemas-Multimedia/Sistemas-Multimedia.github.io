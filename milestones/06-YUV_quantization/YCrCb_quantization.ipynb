{
 "cells": [
  {
   "cell_type": "markdown",
   "metadata": {},
   "source": [
    "# YCrCb image compression\n",
    "\n",
    "Compressing color images with PNG in the YCrCb domain."
   ]
  },
  {
   "cell_type": "code",
   "execution_count": null,
   "metadata": {},
   "outputs": [],
   "source": [
    "%matplotlib inline\n",
    "\n",
    "import matplotlib\n",
    "import matplotlib.pyplot as plt\n",
    "import matplotlib.axes as ax\n",
    "#plt.rcParams['text.usetex'] = True\n",
    "#plt.rcParams['text.latex.preamble'] = [r'\\usepackage{amsmath}'] #for \\text command\n",
    "import pylab\n",
    "import math\n",
    "import numpy as np\n",
    "from scipy import signal\n",
    "import cv2\n",
    "import os\n",
    "!ln -sf ~/quantization/deadzone_quantizer.py .\n",
    "!ln -sf ~/quantization/midtread_quantizer.py .\n",
    "!ln -sf ~/quantization/midrise_quantizer.py .\n",
    "!ln -sf ~/quantization/distortion.py .\n",
    "!ln -sf ~/quantization/information.py .\n",
    "!ln -sf ~/MRVC/src/YCrCb.py .\n",
    "!ln -sf ~/MRVC/src/debug.py .\n",
    "!ln -sf ~/MRVC/src/image_3.py .\n",
    "!ln -sf ~/MRVC/src/image_1.py .\n",
    "!ln -sf ../common.py .\n",
    "import deadzone_quantizer as Q\n",
    "import midtread_quantizer as midtread\n",
    "import midrise_quantizer as midrise\n",
    "import YCrCb\n",
    "import distortion\n",
    "import information\n",
    "import image_3 as RGB_image\n",
    "import image_1 as gray_image\n",
    "import colored\n",
    "import common"
   ]
  },
  {
   "cell_type": "markdown",
   "metadata": {},
   "source": [
    "## Configuration"
   ]
  },
  {
   "cell_type": "code",
   "execution_count": null,
   "metadata": {},
   "outputs": [],
   "source": [
    "# Prefix of the RGB image to be quantized.\n",
    "\n",
    "home = os.environ[\"HOME\"]\n",
    "fn = home + \"/MRVC/sequences/stockholm/\"\n",
    "#fn = home + \"/MRVC/sequences/lena_color/\"\n",
    "\n",
    "YCrCb_components = ['Y', 'Cr', 'Cb']\n",
    "\n",
    "# Number of quantization steps.\n",
    "N_Q_steps = 8\n",
    "#Q_steps = [256*i/N_Q_steps for i in range(N_Q_steps + 1, 0, -1)]\n",
    "Q_steps = [2**i for i in range(7, -1, -1)]\n",
    "print(Q_steps)\n",
    "\n",
    "quantizer = midtread\n",
    "#quantizer = deadzone\n",
    "#quantizer = midrise"
   ]
  },
  {
   "cell_type": "markdown",
   "metadata": {},
   "source": [
    "## Read the image and show it"
   ]
  },
  {
   "cell_type": "code",
   "execution_count": null,
   "metadata": {},
   "outputs": [],
   "source": [
    "RGB_img = RGB_image.read(fn).astype(np.int16)\n",
    "common.show(RGB_img, fn + \"000.png\")"
   ]
  },
  {
   "cell_type": "code",
   "execution_count": null,
   "metadata": {},
   "outputs": [],
   "source": [
    "RGB_img.shape"
   ]
  },
  {
   "cell_type": "markdown",
   "metadata": {},
   "source": [
    "## (RGB -> YCrCb) transform"
   ]
  },
  {
   "cell_type": "code",
   "execution_count": null,
   "metadata": {},
   "outputs": [],
   "source": [
    "YCrCb_img = YCrCb.from_RGB(RGB_img)\n",
    "Y_img = YCrCb_img[...,0]\n",
    "Cr_img = YCrCb_img[...,1]\n",
    "Cb_img = YCrCb_img[...,2]"
   ]
  },
  {
   "cell_type": "code",
   "execution_count": null,
   "metadata": {},
   "outputs": [],
   "source": [
    "common.show_gray(Y_img, fn + \"000 (Y comp.)\")"
   ]
  },
  {
   "cell_type": "code",
   "execution_count": null,
   "metadata": {},
   "outputs": [],
   "source": [
    "common.show_gray(Cr_img, fn + \"000 (Cr comp.)\")"
   ]
  },
  {
   "cell_type": "code",
   "execution_count": null,
   "metadata": {},
   "outputs": [],
   "source": [
    "common.show_gray(Cb_img, fn + \"000 (Cb comp.)\")"
   ]
  },
  {
   "cell_type": "markdown",
   "metadata": {},
   "source": [
    "The YCbCr components ranges between [0, 255]."
   ]
  },
  {
   "cell_type": "markdown",
   "metadata": {},
   "source": [
    "## Energy of the YCrCb components"
   ]
  },
  {
   "cell_type": "code",
   "execution_count": null,
   "metadata": {},
   "outputs": [],
   "source": [
    "Y_avg_energy = information.average_energy(Y_img)\n",
    "Cr_avg_energy = information.average_energy(Cr_img)\n",
    "Cb_avg_energy = information.average_energy(Cb_img)\n",
    "print(f\"Average energy in the Y image = {Y_avg_energy}\")\n",
    "print(f\"Average energy in the Cr image = {Cr_avg_energy}\")\n",
    "print(f\"Average energy in the Cb image = {Cb_avg_energy}\")\n",
    "total_YCrCb_avg_energy = Y_avg_energy + Cr_avg_energy + Cb_avg_energy\n",
    "print(f\"Total average energy (computed by adding the energies of the YCrCb components) = {total_YCrCb_avg_energy}\")\n",
    "print(f\"Total RGB average energy (computed directly from the RGB image) = {information.average_energy(RGB_img)*3}\")"
   ]
  },
  {
   "cell_type": "markdown",
   "metadata": {},
   "source": [
    "The forward YCrCb transform is not energy preserving, but is close."
   ]
  },
  {
   "cell_type": "markdown",
   "metadata": {},
   "source": [
    "## Is the RGB <-> YCrCb transform energy preserving?"
   ]
  },
  {
   "cell_type": "code",
   "execution_count": null,
   "metadata": {},
   "outputs": [],
   "source": [
    "recons_img = YCrCb.to_RGB(YCrCb_img)\n",
    "print(f\"Total RGB average energy of reconstruction () = {information.average_energy(recons_img)*3}\")"
   ]
  },
  {
   "cell_type": "code",
   "execution_count": null,
   "metadata": {},
   "outputs": [],
   "source": [
    "common.show(recons_img, fn + \"000.png (YCrCb recons)\")"
   ]
  },
  {
   "cell_type": "markdown",
   "metadata": {},
   "source": [
    "Neither the backward (inverse) YCrCb transform is. However, it could be an error generated by the use of floating point arithmetic."
   ]
  },
  {
   "cell_type": "markdown",
   "metadata": {},
   "source": [
    "## (RGB <-> YCrCb) transform error"
   ]
  },
  {
   "cell_type": "code",
   "execution_count": null,
   "metadata": {},
   "outputs": [],
   "source": [
    "RGB_img2 = YCrCb.to_RGB(YCrCb_img)"
   ]
  },
  {
   "cell_type": "code",
   "execution_count": null,
   "metadata": {},
   "outputs": [],
   "source": [
    "np.array_equal(RGB_img, RGB_img2)"
   ]
  },
  {
   "cell_type": "code",
   "execution_count": null,
   "metadata": {},
   "outputs": [],
   "source": [
    "print(RGB_img.max(), RGB_img.min())"
   ]
  },
  {
   "cell_type": "code",
   "execution_count": null,
   "metadata": {},
   "outputs": [],
   "source": [
    "print(RGB_img2.max(), RGB_img2.min())"
   ]
  },
  {
   "cell_type": "code",
   "execution_count": null,
   "metadata": {},
   "outputs": [],
   "source": [
    "common.show(RGB_img-RGB_img2, \"Reconstruction error (rounding error)\")"
   ]
  },
  {
   "cell_type": "markdown",
   "metadata": {},
   "source": [
    "The YCrCb transform is irreversible. In general, only integer arithmetic operations guarantees reversibility."
   ]
  },
  {
   "cell_type": "markdown",
   "metadata": {},
   "source": [
    "## Synthesis filters gains\n",
    "\n",
    "The synthesis filters gains are important because the quantization steps of each YCrCb component should be adjusted in order to effectively provide the desired number of [bins](http://www.winlab.rutgers.edu/~crose/322_html/quantization.pdf) (different dequantized values) in each component."
   ]
  },
  {
   "cell_type": "code",
   "execution_count": null,
   "metadata": {},
   "outputs": [],
   "source": [
    "def print_info(val):\n",
    "    delta_Y = np.array([val, 0, 0]).astype(np.uint8).reshape(1,1,3)\n",
    "    RGB_delta_Y = YCrCb.to_RGB(delta_Y)\n",
    "    RGB_energy_delta_Y = information.energy(RGB_delta_Y)\n",
    "    \n",
    "    delta_Cr = np.array([0, val, 0]).astype(np.uint8).reshape(1,1,3)\n",
    "    RGB_delta_Cr = YCrCb.to_RGB(delta_Cr)\n",
    "    RGB_energy_delta_Cr = information.energy(RGB_delta_Cr)\n",
    "    \n",
    "    delta_Cb = np.array([0, 0, val]).astype(np.uint8).reshape(1,1,3)\n",
    "    RGB_delta_Cb = YCrCb.to_RGB(delta_Cb)\n",
    "    RGB_energy_delta_Cb = information.energy(RGB_delta_Cb)\n",
    "    \n",
    "    print(f\"Energy of {delta_Y} in the RGB domain {RGB_delta_Y} = {RGB_energy_delta_Y}\")\n",
    "    print(f\"Energy of {delta_Cr} in the RGB domain {RGB_delta_Cr} = {RGB_energy_delta_Cr}\")\n",
    "    print(f\"Energy of {delta_Cb} in the RGB domain {RGB_delta_Cb} = {RGB_energy_delta_Cb}\")\n",
    "    \n",
    "    max_ = max(RGB_energy_delta_Y, RGB_energy_delta_Cr, RGB_energy_delta_Cb)\n",
    "    relative_Y_gain = RGB_energy_delta_Y / max_\n",
    "    relative_Cr_gain = RGB_energy_delta_Cr / max_\n",
    "    relative_Cb_gain = RGB_energy_delta_Cb / max_\n",
    "    print(f\"Relative gain of Y component = {relative_Y_gain}\")\n",
    "    print(f\"Relative gain of Cr component = {relative_Cr_gain}\")\n",
    "    print(f\"Relative gain of Cb component = {relative_Cb_gain}\")\n",
    "    \n",
    "print_info(255)\n",
    "print_info(1)\n",
    "print_info(0)"
   ]
  },
  {
   "cell_type": "markdown",
   "metadata": {},
   "source": [
    "Unfortunately, as it can be seen, the gain of the filters of the inverse transform depends on the value of the \"delta\" in the YCrCb domain. This is a consequence of the no orthogonality of the transform (the analysis filters are not independent, and the same happens with the synthesis filters). Therefore, if we minimize the quantization error in the YCrCb domain we will not minimize the quantization error in the RGB domain. This also implies that the distortion cannot be measured in the YCrCb domain when we are performing a Rate/Distortion Optimization (RDO)."
   ]
  },
  {
   "cell_type": "markdown",
   "metadata": {},
   "source": [
    "## Simple quantization in the YCrCb domain ($\\Delta_{\\text{Y}} = \\Delta_{\\text{Cb}} = \\Delta_{\\text{Cr}}$)\n",
    "Notice that the distortion is measured in the RGB domain."
   ]
  },
  {
   "cell_type": "code",
   "execution_count": null,
   "metadata": {},
   "outputs": [],
   "source": [
    "def YCrCb_same_delta_RD_curve(RGB_img, Q_steps, quantizer):\n",
    "    YCrCb_img = YCrCb.from_RGB(RGB_img).astype(np.int16)\n",
    "    YCrCb_img -= 128\n",
    "    points = []\n",
    "    for Q_step in Q_steps:\n",
    "        y_YCrCb, k = quantizer.quan_dequan(YCrCb_img, Q_step)\n",
    "        k = (k + 128).astype(np.uint8)\n",
    "        rate = common.bits_per_color_pixel(k, str(Q_step) + '_')\n",
    "        y_RGB = YCrCb.to_RGB(y_YCrCb + 128)\n",
    "        _distortion = distortion.MSE(RGB_img, y_RGB)\n",
    "        points.append((rate, _distortion))\n",
    "        print(f\"q_step={Q_step:>3}, rate={rate:>7} bits/pixel, distortion={_distortion:>6.1f}\")\n",
    "    return points\n",
    "\n",
    "YCrCb_same_delta_RD_points = YCrCb_same_delta_RD_curve(RGB_img, Q_steps, quantizer)"
   ]
  },
  {
   "cell_type": "markdown",
   "metadata": {},
   "source": [
    "## Better RD curves?\n",
    "\n",
    "The method `YCrCb_same_delta_RD_curve(img, Q_steps, quantizer)` generates a RD curve where each point is the result of using $\\Delta_{\\text{Y}} = \\Delta_{\\text{Cb}} = \\Delta_{\\text{Cr}}$. However, a better (at least with more points) RD curve can be generated with:\n",
    "\n",
    "1. Convert the image from RGB to YCrCb.\n",
    "2. The RD curve of each YCrCb channel is computed, for a number of quantization steps, measuring the distortion in the RGB domain (remember that the YCrCb transform is not orthogonal and therefore, the distortion in the RGB domain cannot be estimated in the YCrCb domain).\n",
    "3. Compute the slope of each segment of the RD curve. Except for the most left point, the slopes are computed as the average between the slopes of the straight lines that connect to the corresponding point.\n",
    "4. For each quantization step, sort the RD points by their slope.\n",
    "\n",
    "To compute the distortion generated by the quantization of a component, we will measure such distortion when only the corresponding component has been quantized (the rest of components are not quantized).\n",
    "\n",
    "To compute the rate generated by the quantization of a component, we will measure the length of the PNG file that compress such component (the rest of components are ignored)."
   ]
  },
  {
   "cell_type": "code",
   "execution_count": null,
   "metadata": {
    "scrolled": false
   },
   "outputs": [],
   "source": [
    "def component_RD_curve_(component, Q_steps, quantizer, component_name):\n",
    "    assert component.dtype == np.int64\n",
    "    component -= 128\n",
    "    points = []\n",
    "    for Q_step in Q_steps:\n",
    "        y, k = quantizer.quan_dequan(component, Q_step)\n",
    "        k = (k + 128).astype(np.uint8)\n",
    "        rate = common.bits_per_gray_pixel(k, component_name + str(Q_step) + '_')\n",
    "        _distortion = distortion.MSE(component, y)\n",
    "        points.append((rate, _distortion, component_name, Q_step))\n",
    "        print(f\"q_step={Q_step:>3}, rate={rate:.3f} bits/pixel, distortion={_distortion}\")\n",
    "    return points\n",
    "\n",
    "def component_RD_curve(RGB_img, Q_steps, quantizer, components, component_name):\n",
    "    YCrCb_img = YCrCb.from_RGB(RGB_img).astype(np.int16)\n",
    "    YCrCb_img -= 128\n",
    "    points = []\n",
    "    component_index = components.index(component_name)\n",
    "    for Q_step in Q_steps:\n",
    "        component_img = YCrCb_img[...,component_index]\n",
    "        y = np.zeros_like(YCrCb_img)\n",
    "        y[..., component_index], k = quantizer.quan_dequan(component_img, Q_step)\n",
    "        k = (k + 128).astype(np.uint8)\n",
    "        rate = common.bits_per_gray_pixel(k[..., component_index], component_name + str(Q_step) + '_')\n",
    "        y_RGB = YCrCb.to_RGB(y + 128)\n",
    "        _distortion = distortion.MSE(RGB_img, y_RGB)\n",
    "        #common.show(y_RGB, '')\n",
    "        points.append((rate, _distortion, component_name, Q_step))\n",
    "        print(f\"q_step={Q_step:>3}, rate={rate:.3f} bits/pixel, distortion={_distortion}\")\n",
    "    return points\n",
    "\n",
    "def croma_component_RD_curve(RGB_img, Q_steps, quantizer, components, component_name):\n",
    "    YCrCb_img = YCrCb.from_RGB(RGB_img).astype(np.int16)\n",
    "    YCrCb_img -= 128\n",
    "    points = []\n",
    "    component_index = components.index(component_name)\n",
    "    for Q_step in Q_steps:\n",
    "        component_img = YCrCb_img[...,component_index]\n",
    "        y = np.zeros_like(YCrCb_img)\n",
    "        y[..., 0], _ = quantizer.quan_dequan(YCrCb_img[...,0], Q_step)\n",
    "        y[..., component_index], k = quantizer.quan_dequan(component_img, Q_step)\n",
    "        k = (k + 128).astype(np.uint8)\n",
    "        rate = common.bits_per_gray_pixel(k, component_name + str(Q_step) + '_')\n",
    "        y_RGB = YCrCb.to_RGB(y + 128)\n",
    "        _distortion = distortion.MSE(RGB_img, y_RGB)\n",
    "        #common.show(y_RGB, '')\n",
    "        points.append((rate, _distortion, component_name, Q_step))\n",
    "        print(f\"q_step={Q_step:>3}, rate={rate:.3f} bits/pixel, distortion={_distortion}\")\n",
    "    return points\n",
    "\n",
    "def YCrCb_RD_curve_per_component_(RGB_img, Q_steps, Q, components):\n",
    "    YCrCb_img = YCrCb.from_RGB(RGB_img).astype(np.int16)\n",
    "    YCrCb_img -= 128\n",
    "    N_components = len(components)\n",
    "    RD_points = N_components*[[]]\n",
    "    for Q_step in Q_steps:\n",
    "        YCrCb_k = Q.quantize(YCrCb_img, Q_step)\n",
    "        for component_index in range(N_components):\n",
    "            YCrCb_y = np.zeros_like(YCrCb_img)\n",
    "            YCrCb_y[..., component_index] = Q.dequantize(YCrCb_k[..., component_index], Q_step) + 128\n",
    "            rate = common.bits_per_gray_pixel(YCrCb_k[..., component_index] + 128, str(Q_step) + '_' + components[component_index])\n",
    "            RGB_y = YCrCb.to_RGB(YCrCb_y)\n",
    "            _distortion = distortion.MSE(RGB_img, RGB_y)\n",
    "            common.show(RGB_y, str(Q_step))\n",
    "            RD_points[component_index].append((rate, _distortion))\n",
    "            print(f\"q_step={Q_step:>3}, rate={rate:>7} bits/pixel, distortion={_distortion:>6.1f}\")\n",
    "    return RD_points\n",
    "\n",
    "def YCrCb_RD_curve_per_component(RGB_img, Q_steps, Q, components):\n",
    "    YCrCb_img = YCrCb.from_RGB(RGB_img).astype(np.int16)\n",
    "    YCrCb_img -= 128\n",
    "    YCrCb_img_copy = YCrCb_img.copy()\n",
    "    N_components = len(components)\n",
    "    RD_points = []\n",
    "    for c in range(N_components):\n",
    "        RD_points.append([])\n",
    "    for Q_step in Q_steps:\n",
    "        YCrCb_k = Q.quantize(YCrCb_img, Q_step)\n",
    "        for component_index in range(N_components):\n",
    "            component_name = components[component_index]\n",
    "            YCrCb_y = YCrCb_img_copy.copy()\n",
    "            YCrCb_y[..., component_index] = Q.dequantize(YCrCb_k[..., component_index], Q_step)\n",
    "            rate = common.bits_per_gray_pixel(YCrCb_k[..., component_index] + 128, str(Q_step) + '_' + component_name)\n",
    "            RGB_y = YCrCb.to_RGB(YCrCb_y + 128)\n",
    "            _distortion = distortion.MSE(RGB_img, RGB_y)\n",
    "            #common.show(RGB_y, components[component_index] + ' ' + str(Q_step))\n",
    "            RD_points[component_index].append((rate, _distortion, component_name, Q_step))\n",
    "            print(f\"{components[component_index]} q_step={Q_step:>3}, rate={rate:>7} bits/pixel, distortion={_distortion:>6.1f}\")\n",
    "    return RD_points\n",
    "\n",
    "YCrCb_curve_per_component = YCrCb_RD_curve_per_component(RGB_img, Q_steps, quantizer, YCrCb_components)\n",
    "YCrCb_curve_per_component"
   ]
  },
  {
   "cell_type": "code",
   "execution_count": null,
   "metadata": {},
   "outputs": [],
   "source": [
    "pylab.figure(dpi=150)\n",
    "pylab.plot(*zip(*[(i[0], i[1]) for i in YCrCb_curve_per_component[0]]), c='r', marker='.', label=\"$\\mathrm{Y}}$\", linestyle=\"dashed\")\n",
    "pylab.plot(*zip(*[(i[0], i[1]) for i in YCrCb_curve_per_component[1]]), c='g', marker='.', label=\"$\\mathrm{Cr}}$\", linestyle=\"dashed\")\n",
    "pylab.plot(*zip(*[(i[0], i[1]) for i in YCrCb_curve_per_component[2]]), c='b', marker='.', label=\"$\\mathrm{Cb}}$\", linestyle=\"dashed\")\n",
    "#pylab.plot(*zip(*YCrCb_curve_per_component[0]), c='r', marker='.', label=\"$\\mathrm{Y}}$\", linestyle=\"dashed\")\n",
    "#pylab.plot(*zip(*YCrCb_curve_per_component[1]), c='g', marker='.', label=\"$\\mathrm{Cr}$\", linestyle=\"dashed\")\n",
    "#pylab.plot(*zip(*YCrCb_curve_per_component[2]), c='b', marker='.', label=\"$\\mathrm{Cb}$\", linestyle=\"dashed\")\n",
    "#pylab.plot(*zip(*[(i[0], i[1]) for i in Cr_curve]), c='g', marker='.', label=\"Cr\", linestyle=\"dashed\")\n",
    "#pylab.plot(*zip(*[(i[0], i[1]) for i in Cb_curve]), c='b', marker='.', label=\"Cb\", linestyle=\"dashed\")\n",
    "pylab.title(\"Rate/Distortion Trade-Off\")\n",
    "pylab.xlabel(\"Bits/Pixel\")\n",
    "pylab.ylabel(\"MSE in the RGB Domain\")\n",
    "pylab.legend(loc='upper right')\n",
    "pylab.show()"
   ]
  },
  {
   "cell_type": "code",
   "execution_count": null,
   "metadata": {},
   "outputs": [],
   "source": [
    "def compute_slopes_(RD_points):\n",
    "    extended_RD_points = [(0.0, 9.0E9, '', -1)] + RD_points\n",
    "    counter = 0\n",
    "    RD_slopes = []\n",
    "    for i in RD_points:\n",
    "        BPP = i[0] # Rate \n",
    "        #print(RD_points[counter])\n",
    "        delta_BPP = BPP - extended_RD_points[counter][0]\n",
    "        MSE = i[1] # Distortion\n",
    "        delta_MSE = MSE - extended_RD_points[counter][1] \n",
    "        #print(f\"q_step={1<<q_step:>3}, rate={rate:>7} bytes, distortion={_distortion:>6.1f}\")\n",
    "        if delta_BPP > 0:\n",
    "            slope = delta_MSE/delta_BPP\n",
    "        else:\n",
    "            slope = 0\n",
    "        print((slope, i), delta_MSE, delta_BPP)\n",
    "        RD_slopes.append((slope, i[2], i[3]))\n",
    "        counter += 1\n",
    "    return RD_slopes\n",
    "\n",
    "def compute_slope(left_BPP, left_MSE, right_BPP, right_MSE):\n",
    "    delta_BPP = right_BPP - left_BPP\n",
    "    delta_MSE = left_MSE - right_MSE\n",
    "    if delta_BPP > 0:\n",
    "        slope = delta_MSE / delta_BPP\n",
    "    else:\n",
    "        slope = 0\n",
    "    return slope\n",
    "\n",
    "def compute_slopes(RD_points):\n",
    "    counter = 0\n",
    "    _RD_slopes = []\n",
    "    points_iterator = iter(RD_points)\n",
    "    left = next(points_iterator)\n",
    "    left_BPP = left[0]\n",
    "    left_MSE = left[1]\n",
    "    right = next(points_iterator)\n",
    "    right_BPP = right[0]\n",
    "    right_MSE = right[1]\n",
    "    slope = compute_slope(left_BPP, left_MSE, right_BPP, right_MSE)\n",
    "    _RD_slopes.append((slope, left[2], left[3]))\n",
    "    _RD_slopes.append((slope, right[2], right[3]))\n",
    "    left = right\n",
    "    for right in points_iterator:\n",
    "        right_BPP = right[0]\n",
    "        right_MSE = right[1]\n",
    "        #print(RD_points[counter])\n",
    "        slope = compute_slope(left_BPP, left_MSE, right_BPP, right_MSE)\n",
    "        _RD_slopes.append((slope, right[2], right[3]))\n",
    "        counter += 1\n",
    "        left = right\n",
    "        left_BPP = left[0]\n",
    "        left_MSE = left[1]\n",
    "        #left_BPP = right_BPP\n",
    "        #left_MSE = right_MSE\n",
    "    RD_slopes = []\n",
    "    slopes_iterator = iter(_RD_slopes)\n",
    "    left = next(slopes_iterator)\n",
    "    #print(\"-->\",_RD_slopes)\n",
    "    #return _RD_slopes\n",
    "    #RD_slopes.append(left)\n",
    "    #print(left)\n",
    "    for right in slopes_iterator:\n",
    "        #print(left, right)\n",
    "        RD_slopes.append((((left[0] + right[0])/2), right[1], left[2]))\n",
    "        left = right\n",
    "    RD_slopes.append(right)\n",
    "    return RD_slopes\n",
    "\n",
    "#print(\"(Slope (rate, distortion, component, Q_step)) delta_MSE delta_BPP:\\n\")\n",
    "Y_slopes = compute_slopes(YCrCb_curve_per_component[0])\n",
    "Cr_slopes = compute_slopes(YCrCb_curve_per_component[1])\n",
    "Cb_slopes = compute_slopes(YCrCb_curve_per_component[2])"
   ]
  },
  {
   "cell_type": "code",
   "execution_count": null,
   "metadata": {},
   "outputs": [],
   "source": [
    "Y_slopes"
   ]
  },
  {
   "cell_type": "code",
   "execution_count": null,
   "metadata": {},
   "outputs": [],
   "source": [
    "Cr_slopes"
   ]
  },
  {
   "cell_type": "code",
   "execution_count": null,
   "metadata": {},
   "outputs": [],
   "source": [
    "Cb_slopes"
   ]
  },
  {
   "cell_type": "markdown",
   "metadata": {},
   "source": [
    "Sort the slopes at each quantization step. The TPs generated in a component must be used in order."
   ]
  },
  {
   "cell_type": "code",
   "execution_count": null,
   "metadata": {},
   "outputs": [],
   "source": [
    "_i = 0\n",
    "sorted_slopes = []\n",
    "#print(Q_steps)\n",
    "for _Q_step in range(len(Q_steps)):\n",
    "    #print(_i)\n",
    "    YCrCb_slopes_for_such_Q_step = [Y_slopes[_i], Cr_slopes[_i], Cb_slopes[_i]]\n",
    "    sorted_slopes.append(sorted(YCrCb_slopes_for_such_Q_step, key=lambda x: x[0])[::-1])\n",
    "    #sorted_slopes.append(YCrCb_slopes_for_such_Q_step)\n",
    "    #print(YCrCb_slopes_for_such_Q_step)\n",
    "    _i += 1\n",
    "\n",
    "#all_slopes = Y_slopes + Cr_slopes + Cb_slopes\n",
    "#sorted_slopes = sorted(all_slopes, key=lambda x: x[0])[::-1]\n",
    "sorted_slopes"
   ]
  },
  {
   "cell_type": "code",
   "execution_count": null,
   "metadata": {},
   "outputs": [],
   "source": [
    "one_list = []\n",
    "for _list in sorted_slopes:\n",
    "    one_list += _list\n",
    "    print(_list)\n",
    "one_list"
   ]
  },
  {
   "cell_type": "markdown",
   "metadata": {},
   "source": [
    "Crominance without luminance makes not sense from a visual point of view, but these are the number :-/"
   ]
  },
  {
   "cell_type": "code",
   "execution_count": null,
   "metadata": {},
   "outputs": [],
   "source": [
    "#sorted_slopes[0], sorted_slopes[2] = sorted_slopes[2], sorted_slopes[0]\n",
    "#sorted_slopes"
   ]
  },
  {
   "cell_type": "markdown",
   "metadata": {},
   "source": [
    "And finally, let's compute the RD curve (remember that the previous points are only an estimation of the order in which the quantization steps should be increased in each component to build the RD curve, not the real RD curve that measures the distortion in the RGB domain)."
   ]
  },
  {
   "cell_type": "code",
   "execution_count": null,
   "metadata": {
    "scrolled": false
   },
   "outputs": [],
   "source": [
    "def generate_curve(RGB_img, sorted_slopes, quantizer, components):\n",
    "    points = []\n",
    "    Q_steps_per_component = [256, 256, 256] # This should generate a black image.\n",
    "    YCrCb_img = YCrCb.from_RGB(RGB_img).astype(np.int16)\n",
    "    k = np.empty_like(YCrCb_img)\n",
    "    y = np.empty_like(YCrCb_img)\n",
    "    YCrCb_img -= 128\n",
    "    for i in sorted_slopes:\n",
    "        print(i)\n",
    "        #point = i[1]\n",
    "        #component = point[2]\n",
    "        #Q_step = point[3]\n",
    "        component, Q_step = i[1], i[2]\n",
    "        Q_steps_per_component[components.index(component)] = Q_step\n",
    "        for c, Q_step in zip(components, Q_steps_per_component):\n",
    "            component_index = components.index(c)\n",
    "            y[..., component_index], k[..., component_index] = quantizer.quan_dequan(YCrCb_img[..., component_index], Q_step)\n",
    "        k = k.astype(np.uint8)\n",
    "        rate = common.bits_per_color_pixel(k, str(Q_steps_per_component) + '_')\n",
    "        y_RGB = YCrCb.to_RGB(y + 128)\n",
    "        _distortion = distortion.MSE(RGB_img, y_RGB)\n",
    "        #common.show(y_RGB, f\"Q_step={Q_steps_per_component}, rate={rate:>7} bits/pixel, distortion={_distortion:>6.1f}\")\n",
    "        points.append((rate, _distortion))\n",
    "        print(f\"Q_step={Q_steps_per_component}, rate={rate:>7} bits/pixel, distortion={_distortion:>6.1f}\")\n",
    "    return points\n",
    "\n",
    "sorted_points = generate_curve(RGB_img, one_list, quantizer, YCrCb_components)\n",
    "sorted_points"
   ]
  },
  {
   "cell_type": "code",
   "execution_count": null,
   "metadata": {},
   "outputs": [],
   "source": [
    "pylab.figure(dpi=150)\n",
    "pylab.plot(*zip(*YCrCb_same_delta_RD_points), c='g', marker='o', label=\"$\\Delta_{\\mathrm{Y}} = \\Delta_{\\mathrm{Cb}} = \\Delta_{\\mathrm{Cr}}$\", linestyle=\"dashed\")\n",
    "pylab.plot(*zip(*sorted_points), c='b', marker='x', label=\"Sorted Slopes\", linestyle=\"dotted\")\n",
    "pylab.title(\"Rate/Distortion Performance \")\n",
    "pylab.xlabel(\"Bits/Pixel\")\n",
    "pylab.ylabel(\"MSE in RGB domain\")\n",
    "pylab.legend(loc='upper right')\n",
    "pylab.show()"
   ]
  },
  {
   "cell_type": "markdown",
   "metadata": {},
   "source": [
    "## Conclusion\n",
    "\n",
    "In general, the basic quantization scheme that uses the same quantization step size for all the components performs almost optimal."
   ]
  },
  {
   "cell_type": "markdown",
   "metadata": {},
   "source": [
    "## Ignore the rest"
   ]
  },
  {
   "cell_type": "code",
   "execution_count": null,
   "metadata": {},
   "outputs": [],
   "source": []
  },
  {
   "cell_type": "code",
   "execution_count": null,
   "metadata": {},
   "outputs": [],
   "source": [
    "pylab.figure(dpi=150)\n",
    "#pylab.plot(*zip(*YCrCb_points), c='m', marker=\"x\",\n",
    "#           label='$\\Delta_{\\mathrm{Y}} = \\Delta_{\\mathrm{Cr}} = \\Delta_{\\mathrm{Cb}}$')\n",
    "pylab.scatter(*zip(*[(i[0], i[1]) for i in Y_points_same_deltas]), c='r', marker=\".\", s=0.5, label='Y',)              \n",
    "pylab.scatter(*zip(*[(i[0], i[1]) for i in Cr_points_same_deltas]), c='g', marker=\".\", s=0.5, label='Cr')              \n",
    "pylab.scatter(*zip(*[(i[0], i[1]) for i in Cb_points_same_deltas]), c='b', marker=\".\", s=0.5, label='Cb')              \n",
    "#pylab.scatter(*zip(*[(i[0], i[1]) for i in Y_points_gain_deltas]), c='r', marker=\".\", s=0.5, label='Only Y', linestyle=\"dotted\")              \n",
    "#pylab.scatter(*zip(*[(i[0], i[1]) for i in Cb_points_gain_deltas]), c='b', marker=\".\", s=0.5, label='Only Cb', linestyle=\"dotted\")              \n",
    "pylab.title(\"RD Performance\")\n",
    "pylab.xlabel(\"Bits/Pixel\")\n",
    "pylab.ylabel(\"MSE\")\n",
    "plt.legend(loc='upper right')\n",
    "pylab.show()"
   ]
  },
  {
   "cell_type": "markdown",
   "metadata": {},
   "source": [
    "## Build the RD curve\n",
    "\n",
    "Progressively quantize the image using the Q_steps described in the sorted list of monotonously decreasing slopes, and then, compute the distortion and the bit-rate. Remember that the quantization indexes images must be normalized or equalized to be displayed properly, and also, that they are in the YCrCb domain."
   ]
  },
  {
   "cell_type": "code",
   "execution_count": null,
   "metadata": {},
   "outputs": [],
   "source": [
    "# Falta hacer la transformada!!\n",
    "\n",
    "def YCrCb_get_suboptimal_RD_curve(RGB_img, sorted_slopes, components):\n",
    "    points = []\n",
    "    Q_steps_per_component = [256, 256, 256] # This should generate a black image.\n",
    "    k = np.empty_like(RGB_img)\n",
    "    y = np.empty_like(RGB_img)\n",
    "    for _y in range(RGB_img.shape[1]):\n",
    "        for _x in range(RGB_img.shape[0]):\n",
    "            DCT_img[_y, _x, :] = dct(RGB_img[_y, _x, :], type=DCT_type, norm=norm)\n",
    "    for i in sorted_slopes:\n",
    "        point = i[1]\n",
    "        component = point[2]\n",
    "        Q_step = point[3]\n",
    "        Q_steps_per_component[components.index(component)] = Q_step\n",
    "        #print(i, Q_steps_per_component)\n",
    "        for c,Q_step in zip(components, Q_steps_per_component):\n",
    "            k[..., components.index(c)], y[..., components.index(c)] = q_deq(YCrCb_img[..., components.index(c)], Q_step)\n",
    "        k = k.astype(np.uint8)\n",
    "        rate = common.bits_per_RGB_pixel(k, str(Q_steps_per_component) + '_')\n",
    "        #_distortion = distortion.MSE(YCrCb_img, y)\n",
    "        #YCoCg_img[...,2] = dequantized_Cg_img\n",
    "        dequantized_RGB_img = YCrCb.to_RGB(y)\n",
    "        _distortion = distortion.MSE(RGB_img, dequantized_RGB_img)        \n",
    "        points.append((rate, _distortion))\n",
    "        print(f\"Q_step={Q_steps_per_component}, rate={rate:>7} bits/pixel, distortion={_distortion:>6.1f}\")\n",
    "    return points\n",
    "\n",
    "YCrCb_suboptimal_points = YCrCb_get_suboptimal_RD_curve(img, sorted_YCrCb_slopes, ['Yrb', 'Cr', 'Cb'])"
   ]
  },
  {
   "cell_type": "code",
   "execution_count": null,
   "metadata": {},
   "outputs": [],
   "source": [
    " "
   ]
  },
  {
   "cell_type": "markdown",
   "metadata": {},
   "source": [
    "## Build the optimal RD curve\n",
    "\n",
    "Neither YCrCb nor YCoCg are orthogonal spaces, which means that even considering the channel gains, the contributions of the channels to the quality of the reconstruction are not additive (the channels are not independent). This implies that the search of the optimal QSs cannot be done by simply sorting the slopes of each OTP of each channel, but by searching for each OTP the best combination of QSs, that not necessarily need to be embbeded (i.e., it can not be asserted that the optimal QSs for a quality level Q generated by a combination $[\\Delta_Y^Q, \\Delta_U^Q, \\Delta_V^Q]$ > $[\\Delta_Y^{Q+1}, \\Delta_U^{Q+1}, \\Delta_V^{Q+1}]$, for all the channels). Unfortunately, this fact significantly complicates the optimal bit-rate control through quantization. \n",
    "\n",
    "A way to deal with this problem is ignore the orthogonality lack (well, the YCoCg transform is almost orthogonal, and therefore, we are not supposing something terribly wrong). This is that we are going to implement."
   ]
  },
  {
   "cell_type": "markdown",
   "metadata": {},
   "source": [
    "## RD curves of each YCrCb channel ($\\Delta_\\text{Y}=\\Delta_\\text{Cr}=\\Delta_\\text{Cb}$)\n",
    "\n",
    "Notice that we compute the distortion in the RGB domain because the transform is not orthogonal. The bit-rate is computed using only the corresponding channel. Remember that the quantization indexes images need to be normalized or equalized to be displayed properly."
   ]
  },
  {
   "cell_type": "code",
   "execution_count": null,
   "metadata": {
    "scrolled": true
   },
   "outputs": [],
   "source": [
    "def Y_RD_curve_same_deltas(RGB_img, QSs):\n",
    "    RD_points = []\n",
    "    for Q_step in range(1, 256):\n",
    "        YCrCb_img = YCrCb.from_RGB(RGB_img.astype(np.uint8))\n",
    "        Y_img = YCrCb_img[:,:,0]\n",
    "        dequantized_Y_img = np.empty_like(Y_img)\n",
    "        k, dequantized_Y_img = Q.quan_dequan(Y_img, Q_step)\n",
    "        rate = common.bits_per_gray_pixel(k, 'Y' + str(Q_step) + '_')\n",
    "        #_distortion = distortion.MSE(Y_img, dequantized_Y_img)\n",
    "        YCrCb_img[...,0] = dequantized_Y_img\n",
    "        dequantized_RGB_img = YCrCb.to_RGB(YCrCb_img)\n",
    "        _distortion = distortion.MSE(RGB_img, dequantized_RGB_img)\n",
    "        RD_points.append((rate, _distortion, 'Y', Q_step))\n",
    "        print(f\"q_step={Q_step:>3}, rate={rate:.3f} bits/pixel, distortion={_distortion}\")\n",
    "    return RD_points\n",
    "\n",
    "def Cr_RD_curve_same_deltas(RGB_img, QSs):\n",
    "    RD_points = []\n",
    "    for Q_step in range(1, 128):\n",
    "        YCrCb_img = YCrCb.from_RGB(RGB_img.astype(np.uint8))\n",
    "        Cr_img = YCrCb_img[:,:,1]\n",
    "        dequantized_Cr_img = np.empty_like(Cr_img)\n",
    "        k, dequantized_Cr_img = Q.quan_dequan(Cr_img, Q_step)\n",
    "        rate = common.bits_per_gray_pixel(k, 'Cr' + str(Q_step) + '_')\n",
    "        #_distortion = distortion.MSE(Cr_img, dequantized_Cr_img)\n",
    "        YCrCb_img[...,1] = dequantized_Cr_img\n",
    "        dequantized_RGB_img = YCrCb.to_RGB(YCrCb_img)\n",
    "        _distortion = distortion.MSE(RGB_img, dequantized_RGB_img)\n",
    "        RD_points.append((rate, _distortion, 'Cr', Q_step))\n",
    "        print(f\"q_step={Q_step:>3}, rate={rate:.3f} bits/pixel, distortion={_distortion}\")\n",
    "    return RD_points\n",
    "\n",
    "def Cb_RD_curve_same_deltas(RGB_img, QSs):\n",
    "    RD_points = []\n",
    "    for Q_step in range(1, 128):\n",
    "        YCrCb_img = YCrCb.from_RGB(RGB_img.astype(np.uint8))\n",
    "        Cb_img = YCrCb_img[:,:,2]\n",
    "        dequantized_Cb_img = np.empty_like(Cb_img)\n",
    "        k, dequantized_Cb_img = Q.quan_dequan(Cb_img, Q_step)\n",
    "        rate = common.bits_per_gray_pixel(k, 'Cb' + str(Q_step) + '_')\n",
    "        #_distortion = distortion.MSE(Cb_img, dequantized_Cb_img)\n",
    "        YCrCb_img[...,2] = dequantized_Cb_img\n",
    "        dequantized_RGB_img = YCrCb.to_RGB(YCrCb_img)\n",
    "        _distortion = distortion.MSE(RGB_img, dequantized_RGB_img)        \n",
    "        RD_points.append((rate, _distortion, 'Cb', Q_step))\n",
    "        print(f\"q_step={Q_step:>3}, rate={rate:.3f} bits/pixel, distortion={_distortion}\")\n",
    "    return RD_points\n",
    "\n",
    "Y_points_same_deltas = Y_RD_curve_same_deltas(img, QSs)\n",
    "Cr_points_same_deltas = Cr_RD_curve_same_deltas(img, QSs)\n",
    "Cb_points_same_deltas = Cb_RD_curve_same_deltas(img, QSs)"
   ]
  },
  {
   "cell_type": "markdown",
   "metadata": {},
   "source": [
    "## RD curves of each YCrCb channel ($\\frac{3}{2.4754}\\Delta_\\text{Y}=\\Delta_\\text{Cr}=\\frac{3.25832}{2.4754}\\Delta_\\text{Cb}$)\n",
    "\n",
    "Relative gains of each component:\n",
    "\n",
    "* For Y: $3/2.4754=1.21192534539872343863$\n",
    "* For Cr: $2.4754/2.4754=1$\n",
    "* For Cb: $3.25832/2.4754=1.31628019713985618485$\n",
    "\n",
    "The QSs are divided by these relative gains."
   ]
  },
  {
   "cell_type": "code",
   "execution_count": null,
   "metadata": {},
   "outputs": [],
   "source": [
    "def Y_RD_curve_gain_deltas(RGB_img, QSs):\n",
    "    RD_points = []\n",
    "    for Q_step in range(1, 128):\n",
    "        YCrCb_img = YCrCb.from_RGB(RGB_img.astype(np.uint8))\n",
    "        Y_img = YCrCb_img[:,:,0]\n",
    "        dequantized_Y_img = np.empty_like(Y_img)\n",
    "        Q_step /= 1.21192534539872343863\n",
    "        k, dequantized_Y_img = Q.quan_dequan(Y_img, Q_step)\n",
    "        rate = common.bits_per_gray_pixel(k, 'Yrb' + str(Q_step) + '_')\n",
    "        #_distortion = distortion.MSE(Y_img, dequantized_Y_img)\n",
    "        YCrCb_img[...,0] = dequantized_Y_img\n",
    "        dequantized_RGB_img = YCrCb.to_RGB(YCrCb_img)\n",
    "        _distortion = distortion.MSE(RGB_img, dequantized_RGB_img)\n",
    "        RD_points.append((rate, _distortion, 'Yrb', Q_step))\n",
    "        print(f\"q_step={Q_step:>3}, rate={rate:.3f} bits/pixel, distortion={_distortion}\")\n",
    "    return RD_points\n",
    "\n",
    "def Cb_RD_curve_gain_deltas(RGB_img, QSs):\n",
    "    RD_points = []\n",
    "    for Q_step in range(1, 128):\n",
    "        YCrCb_img = YCrCb.from_RGB(RGB_img.astype(np.uint8))\n",
    "        Cb_img = YCrCb_img[:,:,2]\n",
    "        dequantized_Cb_img = np.empty_like(Cb_img)\n",
    "        Q_step /= 1.31628019713985618485\n",
    "        k, dequantized_Cb_img = Q.quan_dequan(Cb_img, Q_step)\n",
    "        rate = common.bits_per_gray_pixel(k, 'Cb' + str(Q_step) + '_')\n",
    "        #_distortion = distortion.MSE(Cb_img, dequantized_Cb_img)\n",
    "        YCrCb_img[...,2] = dequantized_Cb_img\n",
    "        dequantized_RGB_img = YCrCb.to_RGB(YCrCb_img)\n",
    "        _distortion = distortion.MSE(RGB_img, dequantized_RGB_img)        \n",
    "        RD_points.append((rate, _distortion, 'Cb', Q_step))\n",
    "        print(f\"q_step={Q_step:>3}, rate={rate:.3f} bits/pixel, distortion={_distortion}\")\n",
    "    return RD_points\n",
    "\n",
    "Y_points_gain_deltas = Y_RD_curve_gain_deltas(img, QSs)\n",
    "Cb_points_gain_deltas = Cb_RD_curve_gain_deltas(img, QSs)"
   ]
  },
  {
   "cell_type": "code",
   "execution_count": null,
   "metadata": {},
   "outputs": [],
   "source": [
    "pylab.figure(dpi=150)\n",
    "#pylab.plot(*zip(*YCrCb_points), c='m', marker=\"x\",\n",
    "#           label='$\\Delta_{\\mathrm{Y}} = \\Delta_{\\mathrm{Cr}} = \\Delta_{\\mathrm{Cb}}$')\n",
    "pylab.scatter(*zip(*[(i[0], i[1]) for i in Y_points_same_deltas]), c='r', marker=\".\", s=0.5, label='Y',)              \n",
    "pylab.scatter(*zip(*[(i[0], i[1]) for i in Cr_points_same_deltas]), c='g', marker=\".\", s=0.5, label='Cr')              \n",
    "pylab.scatter(*zip(*[(i[0], i[1]) for i in Cb_points_same_deltas]), c='b', marker=\".\", s=0.5, label='Cb')              \n",
    "#pylab.scatter(*zip(*[(i[0], i[1]) for i in Y_points_gain_deltas]), c='r', marker=\".\", s=0.5, label='Only Y', linestyle=\"dotted\")              \n",
    "#pylab.scatter(*zip(*[(i[0], i[1]) for i in Cb_points_gain_deltas]), c='b', marker=\".\", s=0.5, label='Only Cb', linestyle=\"dotted\")              \n",
    "pylab.title(\"RD Performance\")\n",
    "pylab.xlabel(\"Bits/Pixel\")\n",
    "pylab.ylabel(\"MSE\")\n",
    "plt.legend(loc='upper right')\n",
    "pylab.show()"
   ]
  },
  {
   "cell_type": "markdown",
   "metadata": {},
   "source": [
    "Conclusions:\n",
    "1. The distortions are not additive.\n",
    "2. The slopes of the curves for different quantization steps are different."
   ]
  },
  {
   "cell_type": "markdown",
   "metadata": {},
   "source": [
    "## Compute the slopes\n",
    "In a different list for each component."
   ]
  },
  {
   "cell_type": "code",
   "execution_count": null,
   "metadata": {},
   "outputs": [],
   "source": [
    "Yrb_slopes = common.compute_slopes(Yrb_points)\n",
    "Cr_slopes = common.compute_slopes(Cr_points)\n",
    "Cb_slopes = common.compute_slopes(Cb_points)"
   ]
  },
  {
   "cell_type": "markdown",
   "metadata": {},
   "source": [
    "## Merge the RD slopes and sort them\n",
    "By slope."
   ]
  },
  {
   "cell_type": "code",
   "execution_count": null,
   "metadata": {},
   "outputs": [],
   "source": [
    "all_YCrCb_slopes = Yrb_slopes + Cr_slopes + Cb_slopes\n",
    "sorted_YCrCb_slopes = sorted(all_YCrCb_slopes, key=lambda x: x[0])[::-1]"
   ]
  },
  {
   "cell_type": "markdown",
   "metadata": {},
   "source": [
    "## Build the RD curve\n",
    "\n",
    "Progressively quantize the image using the Q_steps described in the sorted list of monotonously decreasing slopes, and then, compute the distortion and the bit-rate. Remember that the quantization indexes images must be normalized or equalized to be displayed properly, and also, that they are in the YCrCb domain."
   ]
  },
  {
   "cell_type": "code",
   "execution_count": null,
   "metadata": {},
   "outputs": [],
   "source": [
    "# Falta hacer la transformada!!\n",
    "\n",
    "def YCrCb_get_suboptimal_RD_curve(RGB_img, sorted_slopes, components):\n",
    "    points = []\n",
    "    Q_steps_per_component = [256, 256, 256] # This should generate a black image.\n",
    "    k = np.empty_like(RGB_img)\n",
    "    y = np.empty_like(RGB_img)\n",
    "    YCrCb_img = YCrCb.from_RGB(RGB_img.astype(np.uint8))\n",
    "    for i in sorted_slopes:\n",
    "        point = i[1]\n",
    "        component = point[2]\n",
    "        Q_step = point[3]\n",
    "        Q_steps_per_component[components.index(component)] = Q_step\n",
    "        #print(i, Q_steps_per_component)\n",
    "        for c,Q_step in zip(components, Q_steps_per_component):\n",
    "            k[..., components.index(c)], y[..., components.index(c)] = q_deq(YCrCb_img[..., components.index(c)], Q_step)\n",
    "        k = k.astype(np.uint8)\n",
    "        rate = common.bits_per_RGB_pixel(k, str(Q_steps_per_component) + '_')\n",
    "        #_distortion = distortion.MSE(YCrCb_img, y)\n",
    "        #YCoCg_img[...,2] = dequantized_Cg_img\n",
    "        dequantized_RGB_img = YCrCb.to_RGB(y)\n",
    "        _distortion = distortion.MSE(RGB_img, dequantized_RGB_img)        \n",
    "        points.append((rate, _distortion))\n",
    "        print(f\"Q_step={Q_steps_per_component}, rate={rate:>7} bits/pixel, distortion={_distortion:>6.1f}\")\n",
    "    return points\n",
    "\n",
    "YCrCb_suboptimal_points = YCrCb_get_suboptimal_RD_curve(img, sorted_YCrCb_slopes, ['Yrb', 'Cr', 'Cb'])"
   ]
  },
  {
   "cell_type": "markdown",
   "metadata": {},
   "source": [
    "## Optimal quantization in the RGB domain\n",
    "See [RGB_quantization.ipynb](file:///home/vruiz/Sistemas-Multimedia.github.io/milestones/05-RGB_quantization/RGB_quantization.ipynb)."
   ]
  },
  {
   "cell_type": "code",
   "execution_count": null,
   "metadata": {},
   "outputs": [],
   "source": [
    "RGB_points = []\n",
    "with open('../05-RGB_quantization/RGB.txt', 'r') as f:\n",
    "    #rate, _distortion = f.read()\n",
    "    #RGB_points.append((rate, _distortion))\n",
    "    for line in f:\n",
    "        rate, _distortion = line.split('\\t')\n",
    "        RGB_points.append((float(rate), float(_distortion)))"
   ]
  },
  {
   "cell_type": "markdown",
   "metadata": {},
   "source": [
    "## RD curve using same $\\Delta$ for each YCrCb channel ($\\Delta_{\\text{Y}} = \\Delta_{\\text{Cr}} = \\Delta_{\\text{Cb}}$)"
   ]
  },
  {
   "cell_type": "code",
   "execution_count": null,
   "metadata": {
    "scrolled": false
   },
   "outputs": [],
   "source": [
    "def YCrCb_RD_curve_same_delta(RGB_img):\n",
    "    RD_points = []\n",
    "    for q in range(0, 8):\n",
    "        YCrCb_img = YCrCb.from_RGB(RGB_img.astype(np.uint8))\n",
    "        #YCrCb_img = YCrCb_img.astype(np.int16)\n",
    "        k, dequantized_YCrCb_img = Q.quan_dequan(YCrCb_img, 1<<q)\n",
    "        k = k.astype(np.uint8)\n",
    "        #show(dequantized_YCrCb_img, q_step)\n",
    "        rate = common.bits_per_RGB_pixel(k, \"YCrCb\" + str(1<<q) + \"_\")\n",
    "        dequantized_RGB_img = YCrCb.to_RGB(dequantized_YCrCb_img.astype(np.uint8))\n",
    "        _distortion = distortion.MSE(RGB_img, dequantized_RGB_img)\n",
    "        RD_points.append((rate, _distortion))\n",
    "        print(f\"Q_step={1<<q:>3}, rate={rate:>7} bits/pixel, distortion={_distortion:>6.1f}\")\n",
    "    return RD_points\n",
    "\n",
    "YCrCb_points_same_delta = YCrCb_RD_curve_same_delta(img)"
   ]
  },
  {
   "cell_type": "code",
   "execution_count": null,
   "metadata": {},
   "outputs": [],
   "source": [
    "with open('YCrCb.txt', 'w') as f:\n",
    "    for item in YCrCb_points_same_delta:\n",
    "        f.write(f\"{item[0]}\\t{item[1]}\\n\")"
   ]
  },
  {
   "cell_type": "markdown",
   "metadata": {},
   "source": [
    "## Let's compare!"
   ]
  },
  {
   "cell_type": "code",
   "execution_count": null,
   "metadata": {},
   "outputs": [],
   "source": [
    "pylab.figure(dpi=150)\n",
    "pylab.scatter(*zip(*RGB_points), marker=\".\", label=\"$\\Delta_{\\mathrm{R}}=\\Delta_{\\mathrm{G}}=\\Delta_{\\mathrm{B}}}$\")\n",
    "pylab.scatter(*zip(*YCrCb_points_same_delta), marker=\"o\", label=\"$\\Delta_{\\mathrm{Y}}=\\Delta_{\\mathrm{Cr}}=\\Delta_{\\mathrm{Cb}}}$\")\n",
    "#pylab.scatter(*zip(*YCrCb_suboptimal_points), marker=\"o\", label=\"Suboptimal YCrCb\")\n",
    "pylab.title(\"Rate/Distortion Performance \")\n",
    "pylab.xlabel(\"Bits/Pixel\")\n",
    "pylab.ylabel(\"MSE\")\n",
    "pylab.legend(loc='upper right')\n",
    "pylab.show()"
   ]
  },
  {
   "cell_type": "markdown",
   "metadata": {},
   "source": [
    "## Conclusions:\n",
    "1. In general, quantization is more effective in the transformed domain.\n",
    "2. At low bit-rates, it's better to quantize in YCoCb domain than to quantize in the YCrCb one. "
   ]
  },
  {
   "cell_type": "markdown",
   "metadata": {},
   "source": [
    "### RD using channel gains in YCoCg domain"
   ]
  },
  {
   "cell_type": "code",
   "execution_count": null,
   "metadata": {},
   "outputs": [],
   "source": [
    "def YCoCg_RD_curve(RGB_img):\n",
    "    RD_points = []\n",
    "    #for q_step in range(0, 8):\n",
    "    for Q_step in range(1, 256):\n",
    "        YCoCg_img = YCoCg.from_RGB(RGB_img.astype(np.int16))\n",
    "        #k, dequantized_YCoCg_img = q_deq(YCoCg_img, 1<<q_step)\n",
    "        k, dequantized_YCoCg_img = common.q_deq(YCoCg_img, Q_step)\n",
    "        k = k.astype(np.uint8)\n",
    "        rate = common.bits_per_RGB_pixel(k)\n",
    "        dequantized_RGB_img = YCoCg.to_RGB(dequantized_YCoCg_img)\n",
    "        _distortion = distortion.MSE(RGB_img, dequantized_RGB_img)\n",
    "        RD_points.append((rate, _distortion))\n",
    "        print(f\"Q_step={Q_step:>3}, rate={rate:>7} BPS, distortion={_distortion:>6.1f}\")\n",
    "    return RD_points\n",
    "\n",
    "YCoCg_points = YCoCg_RD_curve(img)\n",
    "\n",
    "relative_Y_gain = 3/2\n",
    "relative_Co_gain = 1\n",
    "relative_Cg_gain = 3/2\n",
    "def YCoCg_RD_curve_with_gains(RGB_img):\n",
    "    RD_points = []\n",
    "    #for q_step in range(0, 8):\n",
    "    for Q_step in range(1, 256):\n",
    "        YCoCg_img = YCoCg.from_RGB(RGB_img.astype(np.int16))\n",
    "        dequantized_YCoCg_img = np.empty_like(YCoCg_img)\n",
    "        k = np.empty_like(YCoCg_img, dtype=np.uint8)\n",
    "        k[:,:,0], dequantized_YCoCg_img[:,:,0] = common.q_deq(YCoCg_img[:,:,0], (Q_step)/relative_Y_gain)\n",
    "        k[:,:,1], dequantized_YCoCg_img[:,:,1] = common.q_deq(YCoCg_img[:,:,1], (Q_step)/relative_Co_gain)\n",
    "        k[:,:,2], dequantized_YCoCg_img[:,:,2] = common.q_deq(YCoCg_img[:,:,2], (Q_step)/relative_Cg_gain)\n",
    "        print((Q_step)/relative_Cg_gain)\n",
    "        #k[0], dequantized_YCoCg_img[0] = q_deq(YCoCg_img[0], q_step/relative_Y_gain)\n",
    "        #k[1], dequantized_YCoCg_img[1] = q_deq(YCoCg_img[1], q_step/relative_Co_gain)\n",
    "        #k[2], dequantized_YCoCg_img[2] = q_deq(YCoCg_img[2], q_step/relative_Cg_gain)\n",
    "        rate = common.bits_per_RGB_pixel(k)\n",
    "        dequantized_RGB_img = YCoCg.to_RGB(dequantized_YCoCg_img)\n",
    "        _distortion = distortion.MSE(RGB_img, dequantized_RGB_img)\n",
    "        RD_points.append((rate, _distortion))\n",
    "        print(f\"Q_step={Q_step:>3}, rate={rate:>7} BPS, distortion={_distortion:>6.1f}\")\n",
    "    return RD_points\n",
    "\n",
    "YCoCg_gains_points = YCoCg_RD_curve_with_gains(img)"
   ]
  },
  {
   "cell_type": "code",
   "execution_count": null,
   "metadata": {
    "scrolled": false
   },
   "outputs": [],
   "source": [
    "pylab.figure(dpi=150)\n",
    "pylab.scatter(*zip(*YCoCg_points), c='r', marker=\".\", s=0.5,\n",
    "           label='$\\Delta_{\\mathrm{Y}}=\\Delta_{\\mathrm{Co}}=\\Delta_{\\mathrm{Cg}}$')\n",
    "pylab.scatter(*zip(*YCoCg_gains_points), c='b', marker=\"x\", s=1,\n",
    "           label='$\\Delta_{\\mathrm{Y}}=' + \"{:3.1f}\".format(relative_Y_gain) + '\\Delta_{\\mathrm{Cg}}' +\n",
    "           ';\\Delta_{\\mathrm{Cg}}=' + \"{:3.1f}\".format(relative_Cg_gain) + '\\Delta_{\\mathrm{Co}}$')\n",
    "pylab.title(\"Performance of Quantization in Different Domains\")\n",
    "pylab.xlabel(\"Bits/Pixel\")\n",
    "pylab.ylabel(\"MSE\")\n",
    "plt.legend(loc='upper right')\n",
    "pylab.show()"
   ]
  },
  {
   "cell_type": "markdown",
   "metadata": {},
   "source": [
    "### Comparing the three domains using the same quantization steps"
   ]
  },
  {
   "cell_type": "code",
   "execution_count": null,
   "metadata": {},
   "outputs": [],
   "source": [
    "pylab.figure(dpi=150)\n",
    "pylab.plot(*zip(*RGB_points), c='b', marker=\"x\",\n",
    "           label='$\\Delta_{\\mathrm{R}}=\\Delta_{\\mathrm{G}}=\\Delta_{\\mathrm{B}}$')\n",
    "#pylab.plot(*zip(*YCrCb_points), c='r', marker=\"x\",\n",
    "#           label='$\\Delta_{\\mathrm{Y}}=\\Delta_{\\mathrm{Cr}}=\\Delta_{\\mathrm{Cb}}$')\n",
    "#pylab.plot(*zip(*YYCrCb_gains_points), c='m', marker=\"x\",\n",
    "#           label='$\\Delta_{\\mathrm{Y}}=' + \"{:3.1f}\".format(Y_gain) + '\\Delta_{\\mathrm{Cr}}' +\n",
    "#           ';\\Delta_{\\mathrm{Cb}}=' + \"{:3.1f}\".format(Cb_gain) + '\\Delta_{\\mathrm{Cr}}$')\n",
    "pylab.plot(*zip(*YCoCg_points), c='g', marker=\"x\",\n",
    "           label='$\\Delta_{\\mathrm{Y}}=\\Delta_{\\mathrm{Co}}=\\Delta_{\\mathrm{Cg}}$')\n",
    "pylab.title(\"Performance of Quantization in Different Domains\")\n",
    "pylab.xlabel(\"Bits/Pixel\")\n",
    "pylab.ylabel(\"MSE\")\n",
    "plt.legend(loc='upper right')\n",
    "pylab.show()"
   ]
  },
  {
   "cell_type": "code",
   "execution_count": null,
   "metadata": {},
   "outputs": [],
   "source": [
    "Cr_gain = 1.0 # 2.4754\n",
    "Cb_gain = 3.25832/2.4754\n",
    "Y_gain = 3/2.4754\n",
    "def YYCrCb_RD_curve_with_gains(RGB_frame):\n",
    "    RD_points = []\n",
    "    for q_step in range(0, 8):\n",
    "        YYCrCb_frame = YCrCb.from_RGB(RGB_frame.astype(np.uint8))\n",
    "        dequantized_YYCrCb_frame = np.empty_like(YYCrCb_frame)\n",
    "        k = np.empty_like(YYCrCb_frame, dtype=np.uint8)\n",
    "        k[:,:,0], dequantized_YYCrCb_frame[:,:,0] = common.q_deq(YYCrCb_frame[:,:,0], (1<<q_step)/Y_gain)\n",
    "        k[:,:,1], dequantized_YYCrCb_frame[:,:,1] = common.q_deq(YYCrCb_frame[:,:,1], (1<<q_step)/Cr_gain)\n",
    "        k[:,:,2], dequantized_YYCrCb_frame[:,:,2] = common.q_deq(YYCrCb_frame[:,:,2], (1<<q_step)/Cb_gain)\n",
    "        rate = common.bits_per_RGB_pixel(k)\n",
    "        dequantized_YYCrCb_frame = dequantized_YYCrCb_frame.astype(np.uint8)\n",
    "        dequantized_RGB_frame = YCrCb.to_RGB(dequantized_YYCrCb_frame)\n",
    "        _distortion = distortion.MSE(RGB_frame, dequantized_RGB_frame)\n",
    "        RD_points.append((rate, _distortion))\n",
    "        print(f\"q_step={1<<q_step:>3}, rate={rate:>7} BPS, distortion={_distortion:>6.1f}\")\n",
    "    return RD_points\n",
    "\n",
    "YYCrCb_gains_points = YYCrCb_RD_curve_with_gains(img)"
   ]
  },
  {
   "cell_type": "markdown",
   "metadata": {},
   "source": [
    "Conclusions:\n",
    "1. In general, quantization is more effective in the transformed domain considering the RD plane.\n",
    "2. $\\Delta_{\\mathrm{Y}}=1.2\\Delta_{\\mathrm{Cr}}; \\Delta_{\\mathrm{Cb}}=1.3\\Delta_{\\mathrm{Cr}}$ is slightly better than $\\Delta_{\\mathrm{Y}}=\\Delta_{\\mathrm{Cr}}=\\Delta_{\\mathrm{Cb}}$, at low bit-rates, and viceversa.\n",
    "3. At low bit-rates, tt's better to quantize YCoCb than to quantize YCrCb. "
   ]
  },
  {
   "cell_type": "markdown",
   "metadata": {},
   "source": [
    "## Is $\\Delta_{\\mathrm{Y}}=1.2\\Delta_{\\mathrm{Cr}}; \\Delta_{\\mathrm{Cb}}=1.3\\Delta_{\\mathrm{Cr}}$ the best quantization in YCrCb?\n",
    "No, $\\Delta_{\\mathrm{Y}}=\\Delta_{\\mathrm{Cr}}=\\Delta_{\\mathrm{Cb}}$ is better than $\\Delta_{\\mathrm{Y}}=1.2\\Delta_{\\mathrm{Cr}}; \\Delta_{\\mathrm{Cb}}=1.3\\Delta_{\\mathrm{Cr}}$ at high bit-rates."
   ]
  },
  {
   "cell_type": "markdown",
   "metadata": {},
   "source": [
    "## Is $\\Delta_{\\mathrm{Y}}=1.2\\Delta_{\\mathrm{Cr}}; \\Delta_{\\mathrm{Cb}}=1.3\\Delta_{\\mathrm{Cr}}$ optimal at low bit-rates quantizing YCrCb?"
   ]
  },
  {
   "cell_type": "code",
   "execution_count": null,
   "metadata": {},
   "outputs": [],
   "source": [
    "N=5\n",
    "def only_Y_RD_curve(RGB_frame):\n",
    "    RD_points = []\n",
    "    for q_step in range(0, 8):\n",
    "        print(q_step, end=' ')\n",
    "        YCrCb_frame = YCrCb.from_RGB(RGB_frame.astype(np.uint8))\n",
    "        dequantized_YCrCb_frame = np.empty_like(YCrCb_frame)\n",
    "        k = np.empty_like(YCrCb_frame, dtype=np.uint8)\n",
    "        k[:,:,0], dequantized_YCrCb_frame[:,:,0] = q_deq(YCrCb_frame[:,:,0], 1<<q_step)\n",
    "        k[:,:,1], dequantized_YCrCb_frame[:,:,1] = q_deq(YCrCb_frame[:,:,1], 1<<N)\n",
    "        k[:,:,2], dequantized_YCrCb_frame[:,:,2] = q_deq(YCrCb_frame[:,:,2], 1<<N)\n",
    "        rate = bits_per_RGB_pixel(k)\n",
    "        dequantized_YCrCb_frame = dequantized_YCrCb_frame.astype(np.uint8)\n",
    "        assert dequantized_YCrCb_frame.all() >= 0\n",
    "        dequantized_RGB_frame = YCrCb.to_RGB(dequantized_YCrCb_frame)\n",
    "        _distortion = distortion.MSE(RGB_frame, dequantized_RGB_frame)\n",
    "        RD_points.append((rate, _distortion))\n",
    "    return RD_points\n",
    "\n",
    "def only_Cb_RD_curve(RGB_frame):\n",
    "    RD_points = []\n",
    "    for q_step in range(0, 8):\n",
    "        print(q_step, end=' ')\n",
    "        YCrCb_frame = YCrCb.from_RGB(RGB_frame.astype(np.uint8))\n",
    "        dequantized_YCrCb_frame = np.empty_like(YCrCb_frame)\n",
    "        k = np.empty_like(YCrCb_frame, dtype=np.uint8)\n",
    "        k[:,:,0], dequantized_YCrCb_frame[:,:,0] = q_deq(YCrCb_frame[:,:,0], 1<<N)\n",
    "        k[:,:,1], dequantized_YCrCb_frame[:,:,1] = q_deq(YCrCb_frame[:,:,1], 1<<q_step)\n",
    "        k[:,:,2], dequantized_YCrCb_frame[:,:,2] = q_deq(YCrCb_frame[:,:,2], 1<<N)\n",
    "        rate = bits_per_RGB_pixel(k)\n",
    "        assert dequantized_YCrCb_frame.all() >= 0\n",
    "        dequantized_YCrCb_frame = dequantized_YCrCb_frame.astype(np.uint8)\n",
    "        dequantized_RGB_frame = YCrCb.to_RGB(dequantized_YCrCb_frame)\n",
    "        _distortion = distortion.MSE(RGB_frame, dequantized_RGB_frame)\n",
    "        RD_points.append((rate, _distortion))\n",
    "    return RD_points\n",
    "\n",
    "def only_Cr_RD_curve(RGB_frame):\n",
    "    RD_points = []\n",
    "    for q_step in range(0, 8):\n",
    "        print(q_step, end=' ')\n",
    "        YCrCb_frame = YCrCb.from_RGB(RGB_frame.astype(np.uint8))\n",
    "        dequantized_YCrCb_frame = np.empty_like(YCrCb_frame)\n",
    "        k = np.empty_like(YCrCb_frame, dtype=np.uint8)\n",
    "        k[:,:,0], dequantized_YCrCb_frame[:,:,0] = q_deq(YCrCb_frame[:,:,0], 1<<N)\n",
    "        k[:,:,1], dequantized_YCrCb_frame[:,:,1] = q_deq(YCrCb_frame[:,:,1], 1<<N)\n",
    "        k[:,:,2], dequantized_YCrCb_frame[:,:,2] = q_deq(YCrCb_frame[:,:,2], 1<<q_step)\n",
    "        rate = bits_per_RGB_pixel(k)\n",
    "        dequantized_YCrCb_frame = dequantized_YCrCb_frame.astype(np.uint8)\n",
    "        assert dequantized_YCrCb_frame.all() >= 0\n",
    "        dequantized_RGB_frame = YCrCb.to_RGB(dequantized_YCrCb_frame)\n",
    "        _distortion = distortion.MSE(RGB_frame, dequantized_RGB_frame)\n",
    "        RD_points.append((rate, _distortion))\n",
    "    return RD_points\n",
    "\n",
    "only_Y_points = only_Y_RD_curve(img)\n",
    "only_Cb_points = only_Cb_RD_curve(img)\n",
    "only_Cr_points = only_Cr_RD_curve(img)"
   ]
  },
  {
   "cell_type": "code",
   "execution_count": null,
   "metadata": {},
   "outputs": [],
   "source": [
    "pylab.figure(dpi=150)\n",
    "pylab.plot(*zip(*YYCrCb_gains_points), c='m', marker=\"x\",\n",
    "           label='$\\Delta_{\\mathrm{Y}}=' + \"{:3.1f}\".format(Y_gain) + '\\Delta_{\\mathrm{Cr}}' +\n",
    "           ';\\Delta_{\\mathrm{Cb}}=' + \"{:3.1f}\".format(Cb_gain) + '\\Delta_{\\mathrm{Cr}}$')\n",
    "pylab.plot(*zip(*only_Y_points), c='r', marker=\"o\",\n",
    "           label='$\\Delta_{\\mathrm{Y}}~\\mathrm{varies},~\\Delta_{\\mathrm{Cr}}=\\Delta_{\\mathrm{Cb}}=$' + '{}'.format(1<<N))              \n",
    "pylab.plot(*zip(*only_Cb_points), c='g', marker=\"o\",\n",
    "           label='$\\Delta_{\\mathrm{Cb}}~\\mathrm{varies},~\\Delta_{\\mathrm{Y}}=\\Delta_{\\mathrm{Cr}}=$' + '{}'.format(1<<N))              \n",
    "pylab.plot(*zip(*only_Cr_points), c='b', marker=\"o\",\n",
    "           label='$\\Delta_{\\mathrm{Cr}}~\\mathrm{varies},~\\Delta_{\\mathrm{Y}}=\\Delta_{\\mathrm{Cb}}=$' + '{}'.format(1<<N))              \n",
    "pylab.title(\"RD Performance\")\n",
    "pylab.xlabel(\"Bits/Pixel\")\n",
    "pylab.ylabel(\"RMSE\")\n",
    "plt.legend(loc='upper right')\n",
    "pylab.show()"
   ]
  },
  {
   "cell_type": "markdown",
   "metadata": {},
   "source": [
    "No, there are combinations of $\\Delta_{\\mathrm{Y}}$, $\\Delta_{\\mathrm{Cr}}$, and $\\Delta_{\\mathrm{Cb}}$ better than $\\Delta_{\\mathrm{Y}}=1.2\\Delta_{\\mathrm{Cr}}; \\Delta_{\\mathrm{Cb}}=1.3\\Delta_{\\mathrm{Cr}}$ at low bit-rates."
   ]
  },
  {
   "cell_type": "markdown",
   "metadata": {},
   "source": [
    "## Is $\\Delta_{\\mathrm{Y}}=\\Delta_{\\mathrm{Co}}=\\Delta_{\\mathrm{Cg}}$ optimal quantizing YCoCb?"
   ]
  },
  {
   "cell_type": "code",
   "execution_count": null,
   "metadata": {},
   "outputs": [],
   "source": [
    "N=4\n",
    "def only_Y_RD_curve(RGB_frame):\n",
    "    RD_points = []\n",
    "    for q_step in range(0, 8):\n",
    "        print(q_step, end=' ')\n",
    "        YCoCg_frame = YCoCg.from_RGB(RGB_frame.astype(np.int16))\n",
    "        dequantized_YCoCg_frame = np.empty_like(YCoCg_frame)\n",
    "        k = np.empty_like(YCoCg_frame, dtype=np.uint8)\n",
    "        k[:,:,0], dequantized_YCoCg_frame[:,:,0] = q_deq(YCoCg_frame[:,:,0], 1<<q_step)\n",
    "        k[:,:,1], dequantized_YCoCg_frame[:,:,1] = q_deq(YCoCg_frame[:,:,1], 1<<N)\n",
    "        k[:,:,2], dequantized_YCoCg_frame[:,:,2] = q_deq(YCoCg_frame[:,:,2], 1<<N)\n",
    "        #k[:,:,1], dequantized_YCoCg_frame[:,:,1] = q_deq(YCoCg_frame[:,:,1], 1<<q_step)\n",
    "        #k[:,:,2], dequantized_YCoCg_frame[:,:,2] = q_deq(YCoCg_frame[:,:,2], 1<<q_step)\n",
    "        rate = bits_per_RGB_pixel(k)\n",
    "        dequantized_RGB_frame = YCoCg.to_RGB(dequantized_YCoCg_frame)\n",
    "        _distortion = distortion.MSE(RGB_frame, dequantized_RGB_frame)\n",
    "        RD_points.append((rate, _distortion))\n",
    "    return RD_points\n",
    "\n",
    "def only_Co_RD_curve(RGB_frame):\n",
    "    RD_points = []\n",
    "    for q_step in range(0, 8):\n",
    "        print(q_step, end=' ')\n",
    "        YCoCg_frame = YCoCg.from_RGB(RGB_frame.astype(np.int16))\n",
    "        dequantized_YCoCg_frame = np.empty_like(YCoCg_frame)\n",
    "        k = np.empty_like(YCoCg_frame, dtype=np.uint8)\n",
    "        k[:,:,0], dequantized_YCoCg_frame[:,:,0] = q_deq(YCoCg_frame[:,:,0], 1<<N)\n",
    "        k[:,:,1], dequantized_YCoCg_frame[:,:,1] = q_deq(YCoCg_frame[:,:,1], 1<<q_step)\n",
    "        k[:,:,2], dequantized_YCoCg_frame[:,:,2] = q_deq(YCoCg_frame[:,:,2], 1<<N)\n",
    "        rate = bits_per_RGB_pixel(k)\n",
    "        dequantized_RGB_frame = YCoCg.to_RGB(dequantized_YCoCg_frame)\n",
    "        _distortion = distortion.MSE(RGB_frame, dequantized_RGB_frame)\n",
    "        RD_points.append((rate, _distortion))\n",
    "    return RD_points\n",
    "\n",
    "def only_Cg_RD_curve(RGB_frame):\n",
    "    RD_points = []\n",
    "    for q_step in range(0, 8):\n",
    "        print(q_step, end=' ')\n",
    "        YCoCg_frame = YCoCg.from_RGB(RGB_frame.astype(np.int16))\n",
    "        dequantized_YCoCg_frame = np.empty_like(YCoCg_frame)\n",
    "        k = np.empty_like(YCoCg_frame, dtype=np.uint8)\n",
    "        k[:,:,0], dequantized_YCoCg_frame[:,:,0] = q_deq(YCoCg_frame[:,:,0], 1<<N)\n",
    "        k[:,:,1], dequantized_YCoCg_frame[:,:,1] = q_deq(YCoCg_frame[:,:,1], 1<<N)\n",
    "        k[:,:,2], dequantized_YCoCg_frame[:,:,2] = q_deq(YCoCg_frame[:,:,2], 1<<q_step)\n",
    "        rate = bits_per_RGB_pixel(k)\n",
    "        dequantized_RGB_frame = YCoCg.to_RGB(dequantized_YCoCg_frame)\n",
    "        _distortion = distortion.MSE(RGB_frame, dequantized_RGB_frame)\n",
    "        RD_points.append((rate, _distortion))\n",
    "    return RD_points\n",
    "\n",
    "only_Y_points = only_Y_RD_curve(img)\n",
    "only_Co_points = only_Co_RD_curve(img)\n",
    "only_Cg_points = only_Cg_RD_curve(img)"
   ]
  },
  {
   "cell_type": "code",
   "execution_count": null,
   "metadata": {},
   "outputs": [],
   "source": [
    "pylab.figure(dpi=150)\n",
    "pylab.plot(*zip(*only_Y_points), c='r', marker=\"o\",\n",
    "           label='$\\Delta_{\\mathrm{Y}}~\\mathrm{varies},~\\Delta_{\\mathrm{Co}}=\\Delta_{\\mathrm{Cg}}=$' + '{}'.format(1<<N))              \n",
    "pylab.plot(*zip(*only_Co_points), c='m', marker=\"o\",\n",
    "           label='$\\Delta_{\\mathrm{Co}}~\\mathrm{varies},~\\Delta_{\\mathrm{Y}}=\\Delta_{\\mathrm{Cg}}=$' + '{}'.format(1<<N))              \n",
    "pylab.plot(*zip(*only_Cg_points), c='b', marker=\"o\",\n",
    "           label='$\\Delta_{\\mathrm{Cg}}~\\mathrm{varies},~\\Delta_{\\mathrm{Y}}=\\Delta_{\\mathrm{Co}}=$' + '{}'.format(1<<N))              \n",
    "pylab.plot(*zip(*YCoCg_points), c='g', marker=\"x\",\n",
    "           label='$\\Delta_{\\mathrm{Y}}=\\Delta_{\\mathrm{Co}}=\\Delta_{\\mathrm{Cg}}$')\n",
    "pylab.title(\"RD Performance\")\n",
    "pylab.xlabel(\"Bits/Pixel\")\n",
    "pylab.ylabel(\"RMSE\")\n",
    "plt.legend(loc='upper right')\n",
    "pylab.show()"
   ]
  },
  {
   "cell_type": "markdown",
   "metadata": {},
   "source": [
    "At least, using the same experiment than before, $\\Delta_{\\mathrm{Y}}=\\Delta_{\\mathrm{Co}}=\\Delta_{\\mathrm{Cg}}$ seems to be near optimal quantizing YCoCb."
   ]
  },
  {
   "cell_type": "markdown",
   "metadata": {},
   "source": [
    "## Ignore the rest ..."
   ]
  },
  {
   "cell_type": "markdown",
   "metadata": {},
   "source": [
    "## Some experiments showing the impact of the lack of orthogonality"
   ]
  },
  {
   "cell_type": "code",
   "execution_count": null,
   "metadata": {},
   "outputs": [],
   "source": [
    "def _YCbCr_RD_curve(RGB_frame, N):\n",
    "    RD_points = []\n",
    "    for q_step in range(0, 8):\n",
    "        print(q_step, end=' ')\n",
    "        YCbCr_frame = RGB_to_YCbCr(RGB_frame.astype(np.uint8))\n",
    "        dequantized_YCbCr_frame = np.empty_like(YCbCr_frame)\n",
    "        k = np.empty_like(YCbCr_frame)\n",
    "        k[:,:,0], dequantized_YCbCr_frame[:,:,0] = q_deq(YCbCr_frame[:,:,0], 1<<q_step)\n",
    "        k[:,:,1], dequantized_YCbCr_frame[:,:,1] = q_deq(YCbCr_frame[:,:,1], 1<<N)\n",
    "        k[:,:,2], dequantized_YCbCr_frame[:,:,2] = q_deq(YCbCr_frame[:,:,2], 1<<N)\n",
    "        rate = bytes_per_color_frame(k)\n",
    "        dequantized_YCbCr_frame = dequantized_YCbCr_frame.astype(np.uint8)\n",
    "        dequantized_RGB_frame = YCbCr_to_RGB(dequantized_YCbCr_frame)\n",
    "        distortion = RMSE(RGB_frame, dequantized_RGB_frame)\n",
    "        RD_points.append((rate, distortion))\n",
    "    return RD_points\n",
    "\n",
    "_YCbCr_points_8 = _YCbCr_RD_curve(frame, 8)\n",
    "_YCbCr_points_7 = _YCbCr_RD_curve(frame, 7)\n",
    "_YCbCr_points_6 = _YCbCr_RD_curve(frame, 6)\n",
    "_YCbCr_points_5 = _YCbCr_RD_curve(frame, 5)\n",
    "_YCbCr_points_4 = _YCbCr_RD_curve(frame, 4)\n",
    "_YCbCr_points_3 = _YCbCr_RD_curve(frame, 3)"
   ]
  },
  {
   "cell_type": "code",
   "execution_count": null,
   "metadata": {},
   "outputs": [],
   "source": [
    "1<<4"
   ]
  },
  {
   "cell_type": "code",
   "execution_count": null,
   "metadata": {},
   "outputs": [],
   "source": [
    "pylab.figure(dpi=150)\n",
    "pylab.plot(*zip(*YCbCr_points), c='r', marker=\"x\",\n",
    "           label='$\\Delta_{\\mathrm{Y}}=\\Delta_{\\mathrm{Cr}}=\\Delta_{\\mathrm{Cb}}$')\n",
    "pylab.plot(*zip(*_YCbCr_points_8), c='b', marker=\"x\",\n",
    "           label='$\\Delta_{\\mathrm{Y}}~\\mathrm{varies},~\\Delta_{\\mathrm{Cr}}=\\Delta_{\\mathrm{Cb}}=$' + '{}'.format(1<<8))\n",
    "pylab.plot(*zip(*_YCbCr_points_7), c='g', marker=\"x\",\n",
    "           label='$\\Delta_{\\mathrm{Y}}~\\mathrm{varies},~\\Delta_{\\mathrm{Cr}}=\\Delta_{\\mathrm{Cb}}=$' + '{}'.format(1<<7))\n",
    "pylab.plot(*zip(*_YCbCr_points_6), c='c', marker=\"x\",\n",
    "           label='$\\Delta_{\\mathrm{Y}}~\\mathrm{varies},~\\Delta_{\\mathrm{Cr}}=\\Delta_{\\mathrm{Cb}}=$' + '{}'.format(1<<6))\n",
    "pylab.plot(*zip(*_YCbCr_points_5), c='m', marker=\"x\",\n",
    "           label='$\\Delta_{\\mathrm{Y}}~\\mathrm{varies},~\\Delta_{\\mathrm{Cr}}=\\Delta_{\\mathrm{Cb}}=$' + '{}'.format(1<<5))\n",
    "pylab.plot(*zip(*_YCbCr_points_4), c='y', marker=\"x\",\n",
    "           label='$\\Delta_{\\mathrm{Y}}~\\mathrm{varies},~\\Delta_{\\mathrm{Cr}}=\\Delta_{\\mathrm{Cb}}=$' + '{}'.format(1<<4))\n",
    "pylab.plot(*zip(*_YCbCr_points_3), c='k', marker=\"o\",\n",
    "           label='$\\Delta_{\\mathrm{Y}}~\\mathrm{varies},~\\Delta_{\\mathrm{Cr}}=\\Delta_{\\mathrm{Cb}}=$' + '{}'.format(1<<3))\n",
    "pylab.plot(*zip(*YCbCr_gains_points), c='m', marker=\"+\",\n",
    "           label='$\\Delta_{\\mathrm{Y}}=' + \"{:3.1f}\".format(Y_gain) + '\\Delta_{\\mathrm{Cr}}' +\n",
    "           ';\\Delta_{\\mathrm{Cb}}=' + \"{:3.1f}\".format(Cb_gain) + '\\Delta_{\\mathrm{Cr}}$')\n",
    "pylab.title(\"The lack of non-orthogonality in the YCrCb transform\")\n",
    "pylab.xlabel(\"Bytes/Frame\")\n",
    "pylab.ylabel(\"RMSE\")\n",
    "plt.legend(loc='upper right')\n",
    "pylab.show()"
   ]
  },
  {
   "cell_type": "markdown",
   "metadata": {},
   "source": [
    "From this experiment we conclude that:\n",
    "1. The luma should not be \"deleted\" from the code-stream (see curve $\\Delta_{\\mathrm{Y}}=\\Delta_{\\mathrm{Cr}}=\\Delta_{\\mathrm{Cb}}$).\n",
    "2. There are better combinations than $\\Delta_{\\mathrm{Y}}=\\Delta_{\\mathrm{Cr}}=\\Delta_{\\mathrm{Cb}}$ and $\\Delta_{\\mathrm{Y}}=1.2\\Delta_{\\mathrm{Cr}};\\Delta_{\\mathrm{Cb}}=1.3\\Delta_{\\mathrm{Cr}}$."
   ]
  },
  {
   "cell_type": "markdown",
   "metadata": {},
   "source": [
    "### YCrCb"
   ]
  },
  {
   "cell_type": "markdown",
   "metadata": {},
   "source": [
    "It's possible to find better combinations than $\\Delta_{\\mathrm{Y}}=1.2\\Delta_{\\mathrm{Cr}};\\Delta_{\\mathrm{Cb}}=1.3\\Delta_{\\mathrm{Cr}}$."
   ]
  },
  {
   "cell_type": "markdown",
   "metadata": {},
   "source": [
    "Notice that, at least visually, it does not make sense to use $\\Delta_{\\mathrm{Y}}\\ge 8$ because the reconstructed image will be very dark or even black. The same holds for YCoCg."
   ]
  },
  {
   "cell_type": "code",
   "execution_count": null,
   "metadata": {},
   "outputs": [],
   "source": [
    "ycc = RGB_to_YCbCr(frame.astype(np.uint8))\n",
    "ycc[:,:,0] = 0\n",
    "frame2 = YCbCr_to_RGB(ycc)\n",
    "print(frame2.min(), frame2.max())\n",
    "show_frame(frame2, \"$\\Delta_{\\mathrm{Y}} \\ge 8$\" + \" (YCbCr domain)\")"
   ]
  },
  {
   "cell_type": "markdown",
   "metadata": {},
   "source": [
    "### YCoCg"
   ]
  },
  {
   "cell_type": "markdown",
   "metadata": {},
   "source": [
    "Notice that, at least visually, it does not make sense to use $\\Delta_{\\mathrm{Y}}\\ge 8$ because the reconstructed image will be very dark or even black. The same holds for YCoCg."
   ]
  },
  {
   "cell_type": "code",
   "execution_count": null,
   "metadata": {},
   "outputs": [],
   "source": [
    "ycc = RGB_to_YCoCg(frame)\n",
    "ycc[:,:,0]= 0\n",
    "frame2 = YCoCg_to_RGB(ycc)\n",
    "print(frame2.min(), frame2.max())\n",
    "show_frame(frame2, \"$\\Delta_{\\mathrm{Y}} \\ge 8$\" + \" (YCoCg domain)\")"
   ]
  },
  {
   "cell_type": "code",
   "execution_count": null,
   "metadata": {},
   "outputs": [],
   "source": [
    "def YCbCr_RD_curve_only_Y(RGB_frame):\n",
    "    RD_points = []\n",
    "    for q_step in range(0, 8):\n",
    "        print(q_step, end=' ')\n",
    "        YCbCr_frame = RGB_to_YCbCr(RGB_frame.astype(np.uint8))\n",
    "        YCbCr_frame[:,:,1] = 0\n",
    "        YCbCr_frame[:,:,2] = 0\n",
    "        k, dequantized_YCbCr_frame = q_deq(YCbCr_frame, 1<<q_step)\n",
    "        k[:,:,0] = 0\n",
    "        rate = byte_rate(k)\n",
    "        dequantized_YCbCr_frame = dequantized_YCbCr_frame.astype(np.uint8)\n",
    "        dequantized_RGB_frame = YCbCr_to_RGB(dequantized_YCbCr_frame)\n",
    "        distortion = RMSE(RGB_frame, dequantized_RGB_frame)\n",
    "        RD_points.append((rate, distortion))\n",
    "    return RD_points\n",
    "\n",
    "def YCbCr_RD_curve_only_Cb(RGB_frame):\n",
    "    RD_points = []\n",
    "    for q_step in range(0, 8):\n",
    "        print(q_step, end=' ')\n",
    "        YCbCr_frame = RGB_to_YCbCr(RGB_frame.astype(np.uint8))\n",
    "        YCbCr_frame[:,:,0] = 0\n",
    "        YCbCr_frame[:,:,2] = 0\n",
    "        k, dequantized_YCbCr_frame = q_deq(YCbCr_frame, 1<<q_step)\n",
    "        rate = byte_rate(k)\n",
    "        dequantized_YCbCr_frame = dequantized_YCbCr_frame.astype(np.uint8)\n",
    "        dequantized_RGB_frame = YCbCr_to_RGB(dequantized_YCbCr_frame)\n",
    "        distortion = RMSE(RGB_frame, dequantized_RGB_frame)\n",
    "        RD_points.append((rate, distortion))\n",
    "    return RD_points\n",
    "\n",
    "def YCbCr_RD_curve_only_Cr(RGB_frame):\n",
    "    RD_points = []\n",
    "    for q_step in range(0, 8):\n",
    "        print(q_step, end=' ')\n",
    "        YCbCr_frame = RGB_to_YCbCr(RGB_frame.astype(np.uint8))\n",
    "        YCbCr_frame[:,:,0] = 0\n",
    "        YCbCr_frame[:,:,1] = 0\n",
    "        k, dequantized_YCbCr_frame = q_deq(YCbCr_frame, 1<<q_step)\n",
    "        rate = byte_rate(k)\n",
    "        dequantized_YCbCr_frame = dequantized_YCbCr_frame.astype(np.uint8)\n",
    "        dequantized_RGB_frame = YCbCr_to_RGB(dequantized_YCbCr_frame)\n",
    "        distortion = RMSE(RGB_frame, dequantized_RGB_frame)\n",
    "        RD_points.append((rate, distortion))\n",
    "    return RD_points\n",
    "\n",
    "only_Y_curve = YCbCr_RD_curve_only_Y(frame)\n",
    "only_Cb_curve = YCbCr_RD_curve_only_Cb(frame)\n",
    "only_Cr_curve = YCbCr_RD_curve_only_Cr(frame)"
   ]
  },
  {
   "cell_type": "code",
   "execution_count": null,
   "metadata": {},
   "outputs": [],
   "source": [
    "pylab.figure(dpi=150)\n",
    "pylab.scatter(*zip(*only_Y_curve), s=2, c='r', marker=\"o\", label='only Y')\n",
    "pylab.plot(*zip(*only_Y_curve), c='r', marker=\"o\")\n",
    "pylab.scatter(*zip(*only_Cb_curve), s=2, c='g', marker=\"o\", label='only Cb')\n",
    "pylab.plot(*zip(*only_Cb_curve), c='g', marker=\"o\")\n",
    "pylab.scatter(*zip(*only_Cr_curve), s=2, c='b', marker=\"o\", label='only Cr')\n",
    "pylab.plot(*zip(*only_Cr_curve), c='b', marker=\"o\")\n",
    "pylab.title(\"R/D Performance\")\n",
    "pylab.xlabel(\"Bytes/Frame\")\n",
    "pylab.ylabel(\"RMSE\")\n",
    "plt.legend(loc='upper right')\n",
    "pylab.show()"
   ]
  },
  {
   "cell_type": "code",
   "execution_count": null,
   "metadata": {},
   "outputs": [],
   "source": []
  },
  {
   "cell_type": "code",
   "execution_count": null,
   "metadata": {},
   "outputs": [],
   "source": [
    "def YCbCr_RD_curve_2(RGB_frame):\n",
    "    RD_points = []\n",
    "    for q_step in range(0, 8):\n",
    "        print(q_step, end=' ')\n",
    "        YCbCr_frame = RGB_to_YCbCr(RGB_frame.astype(np.uint16))\n",
    "        YCbCr_frame[:,:,1] //= 2\n",
    "        YCbCr_frame[:,:,2] //= 2\n",
    "        k, dequantized_YCbCr_frame = q_deq(YCbCr_frame, 1<<q_step)\n",
    "        dequantized_YCbCr_frame[:,:,1] *= 2\n",
    "        dequantized_YCbCr_frame[:,:,2] *= 2\n",
    "        rate = byte_rate(k)\n",
    "        dequantized_YCbCr_frame = dequantized_YCbCr_frame.astype(np.uint16)\n",
    "        dequantized_RGB_frame = YCbCr_to_RGB(dequantized_YCbCr_frame)\n",
    "        distortion = RMSE(RGB_frame, dequantized_RGB_frame)\n",
    "        RD_points.append((rate, distortion))\n",
    "    return RD_points\n",
    "\n",
    "YCbCr_quantization_2 = YCbCr_RD_curve_2(frame)"
   ]
  },
  {
   "cell_type": "code",
   "execution_count": null,
   "metadata": {},
   "outputs": [],
   "source": [
    "pylab.figure(dpi=150)\n",
    "pylab.scatter(*zip(*RGB_quantization), s=2, c='b', marker=\"o\", label='RGB quantization')\n",
    "pylab.plot(*zip(*RGB_quantization), c='b', marker=\"o\")\n",
    "pylab.scatter(*zip(*YCbCr_quantization), s=2, c='r', marker=\"o\", label='YCbCr quantization')\n",
    "pylab.plot(*zip(*YCbCr_quantization), c='r', marker=\"o\")\n",
    "pylab.scatter(*zip(*YCbCr_quantization_2), s=2, c='g', marker=\"o\", label='YCbCr quantization 2')\n",
    "pylab.plot(*zip(*YCbCr_quantization_2), c='g', marker=\"o\")\n",
    "pylab.title(\"R/D Only Quantization\")\n",
    "pylab.xlabel(\"Bytes/Frame\")\n",
    "pylab.ylabel(\"RMSE\")\n",
    "plt.legend(loc='upper right')\n",
    "pylab.show()"
   ]
  },
  {
   "cell_type": "code",
   "execution_count": null,
   "metadata": {},
   "outputs": [],
   "source": [
    "YCbCr_test_frame = np.array([255, 0, 0], dtype=np.int16).reshape((1,1,1))\n",
    "print(YCbCr_to_RGB(YCbCr_test_frame))"
   ]
  },
  {
   "cell_type": "code",
   "execution_count": null,
   "metadata": {},
   "outputs": [],
   "source": [
    "np.array([255, 0, 0], dtype=np.int16)"
   ]
  },
  {
   "cell_type": "code",
   "execution_count": null,
   "metadata": {},
   "outputs": [],
   "source": [
    "YCbCr_test_frame = np.zeros_like(frame).astype(np.uint16)"
   ]
  },
  {
   "cell_type": "code",
   "execution_count": null,
   "metadata": {},
   "outputs": [],
   "source": [
    "type(YCbCr_test_frame[0,0,0])"
   ]
  },
  {
   "cell_type": "code",
   "execution_count": null,
   "metadata": {},
   "outputs": [],
   "source": [
    "YCbCr_test_frame[1,1,2] = 255"
   ]
  },
  {
   "cell_type": "code",
   "execution_count": null,
   "metadata": {},
   "outputs": [],
   "source": [
    "RGB_test_frame = YCbCr_to_RGB(YCbCr_test_frame)"
   ]
  },
  {
   "cell_type": "code",
   "execution_count": null,
   "metadata": {},
   "outputs": [],
   "source": [
    "print(average_energy(RGB_test_frame))"
   ]
  },
  {
   "cell_type": "code",
   "execution_count": null,
   "metadata": {},
   "outputs": [],
   "source": [
    "show_frame(RGB_test_frame, \"\")"
   ]
  },
  {
   "cell_type": "code",
   "execution_count": null,
   "metadata": {},
   "outputs": [],
   "source": []
  }
 ],
 "metadata": {
  "kernelspec": {
   "display_name": "Python 3",
   "language": "python",
   "name": "python3"
  },
  "language_info": {
   "codemirror_mode": {
    "name": "ipython",
    "version": 3
   },
   "file_extension": ".py",
   "mimetype": "text/x-python",
   "name": "python",
   "nbconvert_exporter": "python",
   "pygments_lexer": "ipython3",
   "version": "3.9.6"
  }
 },
 "nbformat": 4,
 "nbformat_minor": 4
}

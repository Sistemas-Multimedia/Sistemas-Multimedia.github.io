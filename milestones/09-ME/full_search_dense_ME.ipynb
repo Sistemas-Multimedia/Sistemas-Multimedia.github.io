{
 "cells": [
  {
   "cell_type": "markdown",
   "metadata": {},
   "source": [
    "[![Binder](https://mybinder.org/badge_logo.svg)](https://nbviewer.org/github/Sistemas-Multimedia/Sistemas-Multimedia.github.io/blob/master/milestones/09-ME/full_search_dense_ME.ipynb)"
   ]
  },
  {
   "cell_type": "markdown",
   "metadata": {},
   "source": [
    "# Full search dense (1x1) ME\n",
    "\n",
    "If we extrapolate the idea used in `full_search_block_based_BE()` when the `block_side==1`, there are a huge amount of redundant substractions when adjacent blocks are processed. In the following implementation, the subtractions are performed only once because all the \"blocks\" (that in this case are of one pixel) are subtracted at each seaching point (one for search area). Another characteristic of this algorithm is that the error frames are smoothed to increase the correlation between the motion vectors."
   ]
  },
  {
   "cell_type": "code",
   "execution_count": null,
   "metadata": {},
   "outputs": [],
   "source": [
    "import numpy as np\n",
    "import image_3\n",
    "import YCoCg as YUV\n",
    "import motion\n",
    "import matplotlib\n",
    "import matplotlib.pyplot as plt\n",
    "%matplotlib inline\n",
    "plt.rcParams['text.usetex'] = True\n",
    "!ln -sf ~/MRVC/src/LP.py .\n",
    "import LP\n",
    "import cv2 as cv\n",
    "!ln -sf ~/quantization/information.py .\n",
    "import information"
   ]
  },
  {
   "cell_type": "markdown",
   "metadata": {},
   "source": [
    "## Testing with moving circles (max_abs_motion=1)"
   ]
  },
  {
   "cell_type": "code",
   "execution_count": null,
   "metadata": {},
   "outputs": [],
   "source": [
    "R = image_3.read(\"/home/vruiz/MRVC/sequences/moving_circles/\", 0)\n",
    "image_3.show(R, 'Reference')\n",
    "R_Y = YUV.from_RGB(R.astype(np.int16))[...,0]\n",
    "P = image_3.read(\"/home/vruiz/MRVC/sequences/moving_circles/\", 1)\n",
    "image_3.show(P, 'Predicted')\n",
    "P_Y = YUV.from_RGB(P.astype(np.int16))[...,0]"
   ]
  },
  {
   "cell_type": "markdown",
   "metadata": {},
   "source": [
    "The top circle moves to the right and the bottom circle moves to the left. Therefore, if we want to generate the predicted frame (bottom) from the reference one (top), all the top MVs (Motion Vectors) related to the circle should be (x=1, y=0), and all the bottom MVs (-1, 0)."
   ]
  },
  {
   "cell_type": "code",
   "execution_count": null,
   "metadata": {},
   "outputs": [],
   "source": [
    "MVs = motion.full_search_dense_ME(P_Y, R_Y, 16, 17)"
   ]
  },
  {
   "cell_type": "code",
   "execution_count": null,
   "metadata": {},
   "outputs": [],
   "source": [
    "motion.show_vectors(MVs)"
   ]
  },
  {
   "cell_type": "code",
   "execution_count": null,
   "metadata": {},
   "outputs": [],
   "source": [
    "hatP = motion.make_prediction(R, MVs.astype(np.float32))"
   ]
  },
  {
   "cell_type": "code",
   "execution_count": null,
   "metadata": {
    "scrolled": false
   },
   "outputs": [],
   "source": [
    "image_3.show(R, \"reference ${\\mathbf R}$\")\n",
    "image_3.show(P, \"predicted ${\\mathbf P}$\")\n",
    "image_3.show(hatP, \"prediction $\\hat{\\mathbf P}$\")\n",
    "image_3.show(image_3.normalize(hatP - P), \"prediction error\")"
   ]
  },
  {
   "cell_type": "markdown",
   "metadata": {},
   "source": [
    "## Testing with moving circles (max_abs_motion=2)"
   ]
  },
  {
   "cell_type": "code",
   "execution_count": null,
   "metadata": {},
   "outputs": [],
   "source": [
    "R = image_3.read(\"/home/vruiz/MRVC/sequences/moving_circles/\", 0)\n",
    "R_Y = YUV.from_RGB(R.astype(np.int16))[...,0]\n",
    "P = image_3.read(\"/home/vruiz/MRVC/sequences/moving_circles/\", 2)\n",
    "P_Y = YUV.from_RGB(P.astype(np.int16))[...,0]"
   ]
  },
  {
   "cell_type": "code",
   "execution_count": null,
   "metadata": {},
   "outputs": [],
   "source": [
    "MVs = motion.full_search_dense_ME(P_Y, R_Y, 16, 17)"
   ]
  },
  {
   "cell_type": "code",
   "execution_count": null,
   "metadata": {},
   "outputs": [],
   "source": [
    "motion.show_vectors(MVs)"
   ]
  },
  {
   "cell_type": "code",
   "execution_count": null,
   "metadata": {},
   "outputs": [],
   "source": [
    "hatP = motion.make_prediction(R, MVs.astype(np.float32))"
   ]
  },
  {
   "cell_type": "code",
   "execution_count": null,
   "metadata": {
    "scrolled": false
   },
   "outputs": [],
   "source": [
    "image_3.show(R, \"reference ${\\mathbf R}$\")\n",
    "image_3.show(P, \"predicted ${\\mathbf P}$\")\n",
    "image_3.show(hatP, \"prediction $\\hat{\\mathbf P}$\")\n",
    "image_3.show(P - hatP + 128).astype(np.uint8), \"prediction error ($P-\\hat{P}$)\")"
   ]
  },
  {
   "cell_type": "markdown",
   "metadata": {},
   "source": [
    "## Testing with mobile"
   ]
  },
  {
   "cell_type": "code",
   "execution_count": null,
   "metadata": {},
   "outputs": [],
   "source": [
    "R = image_3.read(\"/home/vruiz/MRVC/sequences/mobile/\", 0)\n",
    "R_Y = YUV.from_RGB(R.astype(np.int16))[...,0]\n",
    "P = image_3.read(\"/home/vruiz/MRVC/sequences/mobile/\", 1)\n",
    "P_Y = YUV.from_RGB(P.astype(np.int16))[...,0]"
   ]
  },
  {
   "cell_type": "markdown",
   "metadata": {},
   "source": [
    "### First, without ME"
   ]
  },
  {
   "cell_type": "code",
   "execution_count": null,
   "metadata": {},
   "outputs": [],
   "source": [
    "image_3.show(R, \"reference ${\\mathbf R}$\")\n",
    "P_entropy = information.entropy(P.flatten())\n",
    "image_3.show(P, \"predicted ${\\mathbf P}$\" + f\" entropy={P_entropy:1.2f} bits/component\")\n",
    "P_R = np.clip(P.astype(np.int16) - R + 128, 0, 255)\n",
    "P_R_entropy = information.entropy(P_R.flatten())\n",
    "image_3.show(P_R.astype(np.uint8), \"(No ME) $({\\mathbf P} - {\\mathbf R})$\" + f\" entropy={P_R_entropy:1.2f} bits/component\")"
   ]
  },
  {
   "cell_type": "markdown",
   "metadata": {},
   "source": [
    "### Second, with ME"
   ]
  },
  {
   "cell_type": "code",
   "execution_count": null,
   "metadata": {},
   "outputs": [],
   "source": [
    "MVs = motion.full_search_dense_ME(P_Y, R_Y, 16, 17)"
   ]
  },
  {
   "cell_type": "code",
   "execution_count": null,
   "metadata": {},
   "outputs": [],
   "source": [
    "MVs_entropy = information.entropy(MVs.flatten())"
   ]
  },
  {
   "cell_type": "code",
   "execution_count": null,
   "metadata": {},
   "outputs": [],
   "source": [
    "motion.show_vectors(MVs[::10, ::10], title=\"${\\mathbf V}$\" + f\", 1x1 ME\" + f\", entropy={MVs_entropy:1.2f} bits/component\" +  f\", {MVs.shape[0]}x{MVs.shape[1]} vectors\")"
   ]
  },
  {
   "cell_type": "code",
   "execution_count": null,
   "metadata": {},
   "outputs": [],
   "source": [
    "hatP = motion.make_prediction(R, MVs.astype(np.float32))"
   ]
  },
  {
   "cell_type": "code",
   "execution_count": null,
   "metadata": {
    "scrolled": false
   },
   "outputs": [],
   "source": [
    "#image_3.show(R, \"reference ${\\mathbf R}$\")\n",
    "#image_3.show(P, \"predicted ${\\mathbf P}$\" + f\", entropy={P_entropy:1.2f} bits/component\")\n",
    "image_3.show(hatP, \"prediction $\\hat{\\mathbf P}$\")\n",
    "P_hatP = P - hatP\n",
    "P_hatP_entropy = information.entropy(P_hatP.flatten())\n",
    "image_3.show((P_hatP + 128).astype(np.uint8), \"${\\mathbf P} - \\hat{\\mathbf P}$\" + f\", entropy={P_hatP_entropy:1.2f} bits/component\")"
   ]
  },
  {
   "cell_type": "code",
   "execution_count": null,
   "metadata": {},
   "outputs": [],
   "source": [
    "print(\"Entropy of the predicted frame:                 \", f\"{P_entropy:1.3f}\", \"bits/component\")\n",
    "print(\"Entropy of the residue frame without ME:        \", f\"{P_R_entropy:1.3f}\", \"bits/component\")\n",
    "print(\"Entropy of the residue frame using ME:          \", f\"{P_hatP_entropy:1.3f}\", \"bits/component\")\n",
    "print(\"Entropy reduction in the texture without ME:    \", f\"{P_entropy - P_R_entropy:1.3f}\", \"bits/component\")\n",
    "print(\"Entropy reduction in the texture using ME:      \", f\"{P_entropy - P_hatP_entropy:1.3f}\", \"bits/component\")\n",
    "print(\"Entropy of the components of the motion vectors:\", f\"{MVs_entropy:1.3f}\", \"bits/component\")\n",
    "total_entropy = P_hatP_entropy + MVs_entropy\n",
    "print(\"Entropy the texture + motion vectors:           \", f\"{total_entropy:1.3f}\", \"bits/component\")"
   ]
  },
  {
   "cell_type": "markdown",
   "metadata": {},
   "source": [
    "## Testing with bus\n",
    "TODO: compute entropies."
   ]
  },
  {
   "cell_type": "code",
   "execution_count": null,
   "metadata": {},
   "outputs": [],
   "source": [
    "R = image_3.read(\"/home/vruiz/MRVC/sequences/bus/\", 0)\n",
    "R_Y = YUV.from_RGB(R.astype(np.int16))[...,0]\n",
    "P = image_3.read(\"/home/vruiz/MRVC/sequences/bus/\", 1)\n",
    "P_Y = YUV.from_RGB(P.astype(np.int16))[...,0]"
   ]
  },
  {
   "cell_type": "code",
   "execution_count": null,
   "metadata": {},
   "outputs": [],
   "source": [
    "MVs = motion.full_search_dense_ME(P_Y, R_Y, 16, 17)"
   ]
  },
  {
   "cell_type": "code",
   "execution_count": null,
   "metadata": {},
   "outputs": [],
   "source": [
    "motion.show_vectors(MVs[::10, ::10])"
   ]
  },
  {
   "cell_type": "code",
   "execution_count": null,
   "metadata": {},
   "outputs": [],
   "source": [
    "hatP = motion.make_prediction(R, MVs.astype(np.float32))"
   ]
  },
  {
   "cell_type": "code",
   "execution_count": null,
   "metadata": {
    "scrolled": true
   },
   "outputs": [],
   "source": [
    "image_3.show(R, \"reference ${\\mathbf R}$\")\n",
    "image_3.show(P, \"predicted ${\\mathbf P}$\")\n",
    "image_3.show(hatP, \"prediction $\\hat{\\mathbf P}$\")\n",
    "image_3.show((hatP - P + 128).astype(np.uint8), \"prediction error\")"
   ]
  },
  {
   "cell_type": "markdown",
   "metadata": {},
   "source": [
    "## Testing with a tile of stockholm\n",
    "TODO: compute entropies."
   ]
  },
  {
   "cell_type": "code",
   "execution_count": null,
   "metadata": {},
   "outputs": [],
   "source": [
    "prefix = \"/home/vruiz/MRVC/sequences/stockholm/\"\n",
    "R = image_3.read(prefix, 0)[100:356,100:612]\n",
    "P = image_3.read(prefix, 1)[100:356,100:612]\n",
    "R_Y = YUV.from_RGB(R.astype(np.int16))[...,0]\n",
    "P_Y = YUV.from_RGB(P.astype(np.int16))[...,0]"
   ]
  },
  {
   "cell_type": "code",
   "execution_count": null,
   "metadata": {},
   "outputs": [],
   "source": [
    "MVs = motion.full_search_dense_ME(P_Y, R_Y, 16, 17)"
   ]
  },
  {
   "cell_type": "code",
   "execution_count": null,
   "metadata": {},
   "outputs": [],
   "source": [
    "entropy = information.entropy(MVs.flatten())\n",
    "motion.show_vectors(MVs[::10, ::10], title=\"${\\mathbf V}$ (1x1 ME) \" + f\"entropy={entropy:1.2f} bits/component\" + f\", {MVs.shape[0]}x{MVs.shape[1]} vectors\")"
   ]
  },
  {
   "cell_type": "code",
   "execution_count": null,
   "metadata": {},
   "outputs": [],
   "source": [
    "hatP = motion.make_prediction(R, MVs.astype(np.float32))"
   ]
  },
  {
   "cell_type": "code",
   "execution_count": null,
   "metadata": {
    "scrolled": false
   },
   "outputs": [],
   "source": [
    "image_3.show(R, \"reference ${\\mathbf R}$\")\n",
    "image_3.show(P, \"predicted ${\\mathbf P}$\")\n",
    "image_3.show(hatP, \"prediction $\\hat{\\mathbf P}$\")\n",
    "P_hatP = P - hatP\n",
    "entropy = information.entropy(P_hatP.flatten())\n",
    "image_3.show((P_hatP + 128).astype(np.uint8), \"${\\mathbf P}$ - $\\hat{\\mathbf P}$ (1x1 ME)\" + f\" entropy={entropy:1.2f} bits/component\")"
   ]
  },
  {
   "cell_type": "markdown",
   "metadata": {},
   "source": [
    "## Ignore the rest"
   ]
  },
  {
   "cell_type": "code",
   "execution_count": null,
   "metadata": {},
   "outputs": [],
   "source": [
    "########################################################################################"
   ]
  },
  {
   "cell_type": "code",
   "execution_count": null,
   "metadata": {},
   "outputs": [],
   "source": [
    "R = YUV.from_RGB(frame.read(\"/home/vruiz/MRVC/sequences/bus/\", 0).astype(np.int16))\n",
    "P = YUV.from_RGB(frame.read(\"/home/vruiz/MRVC/sequences/bus/\", 1).astype(np.int16))"
   ]
  },
  {
   "cell_type": "code",
   "execution_count": null,
   "metadata": {},
   "outputs": [],
   "source": [
    "MVs = full_search_dense_ME(P[...,0], R[...,0], 32, 17)"
   ]
  },
  {
   "cell_type": "code",
   "execution_count": null,
   "metadata": {},
   "outputs": [],
   "source": [
    "R = frame.read(\"/home/vruiz/MRVC/sequences/bus/\", 0)\n",
    "P = frame.read(\"/home/vruiz/MRVC/sequences/bus/\", 1)\n",
    "prediction = motion.make_prediction(R, MVs.astype(np.float32))\n",
    "show_frame(prediction, \"Prediction\")\n",
    "show_frame(P, \"Predicted\")\n",
    "show_frame(normalize(prediction-P), \"error\")"
   ]
  },
  {
   "cell_type": "code",
   "execution_count": null,
   "metadata": {},
   "outputs": [],
   "source": [
    "R = YUV.from_RGB(frame.read(\"/home/vruiz/MRVC/sequences/bus/\", 0).astype(np.int16))\n",
    "P = YUV.from_RGB(frame.read(\"/home/vruiz/MRVC/sequences/bus/\", 1).astype(np.int16))"
   ]
  },
  {
   "cell_type": "code",
   "execution_count": null,
   "metadata": {},
   "outputs": [],
   "source": [
    "MVs = full_search_dense_ME(P[...,0], R[...,0], 32, 17)"
   ]
  },
  {
   "cell_type": "code",
   "execution_count": null,
   "metadata": {},
   "outputs": [],
   "source": [
    "R = frame.read(\"/home/vruiz/MRVC/sequences/bus/\", 0)\n",
    "P = frame.read(\"/home/vruiz/MRVC/sequences/bus/\", 1)\n",
    "prediction = motion.make_prediction(R, MVs.astype(np.float32))\n",
    "show_frame(prediction, \"Prediction\")\n",
    "show_frame(P, \"Predicted\")\n",
    "show_frame(normalize(prediction-P), \"error\")"
   ]
  },
  {
   "cell_type": "code",
   "execution_count": null,
   "metadata": {},
   "outputs": [],
   "source": [
    "R = YUV.from_RGB(frame.read(\"/home/vruiz/MRVC/sequences/stockholm/\", 0).astype(np.int16))\n",
    "P = YUV.from_RGB(frame.read(\"/home/vruiz/MRVC/sequences/stockholm/\", 1).astype(np.int16))"
   ]
  },
  {
   "cell_type": "code",
   "execution_count": null,
   "metadata": {},
   "outputs": [],
   "source": [
    "MVs = full_search_dense_ME(P[...,0], R[...,0], 32, 17)"
   ]
  },
  {
   "cell_type": "code",
   "execution_count": null,
   "metadata": {},
   "outputs": [],
   "source": [
    "R = frame.read(\"/home/vruiz/MRVC/sequences/stockholm/\", 0)\n",
    "P = frame.read(\"/home/vruiz/MRVC/sequences/stockholm/\", 1)\n",
    "prediction = motion.make_prediction(R, MVs.astype(np.float32))\n",
    "show_frame(prediction, \"Prediction\")\n",
    "show_frame(P, \"Predicted\")\n",
    "show_frame(normalize(prediction-P), \"error\")"
   ]
  },
  {
   "cell_type": "code",
   "execution_count": null,
   "metadata": {},
   "outputs": [],
   "source": [
    "# Copiado common.py Z_interpolation\n",
    "\n",
    "# (x, y)\n",
    "#      5       3       8\n",
    "#      1       0       2\n",
    "#      7       4       6\n",
    "# (-1,-1) ( 0,-1) ( 1,-1)\n",
    "# (-1, 0) ( 0, 0) ( 1, 0)\n",
    "# (-1, 1) ( 0, 1) ( 1, 1)\n",
    "spiral  = np.array([( 0, 0), (-1, 0), ( 1, 0), ( 0,-1), ( 0, 1), (-1,-1), ( 1, 1), (-1, 1), ( 1,-1)], dtype=np.int16)\n",
    "#                        0        1        2        3        4        5        6        7        8\n",
    "\n",
    "# (0,0) (1,0) (2,0)\n",
    "# (0,1) (1,1) (2,1)\n",
    "# (0,2) (1,2) (2,2)\n",
    "spiral_ = np.array([( 1, 1), ( 0, 1), ( 2, 1), ( 1, 0), ( 1, 2), ( 0, 0), ( 2, 2), ( 0, 2), ( 2, 0)], dtype=np.int16)\n",
    "\n",
    "def spiral_estimate(P, R, window_side=15):\n",
    "    print(\"window_side =\", window_side)\n",
    "    extended_R = np.zeros((R.shape[0]+2, R.shape[1]+2))\n",
    "    extended_R[1:R.shape[0]+1, 1:R.shape[1]+1] = R\n",
    "    print(\"extended_R.shape\", extended_R.shape)\n",
    "    #extended_R = np.pad(R, (1, 1), 'edge')\n",
    "    #print(\"extended_R.shape\", extended_R.shape)\n",
    "    D = np.zeros((P.shape[0], P.shape[1], 9), dtype=np.float32)\n",
    "    for i in range(9):\n",
    "        diff = extended_R[spiral_[i][1] : R.shape[0] + spiral_[i][1],\n",
    "                          spiral_[i][0] : R.shape[1] + spiral_[i][0]] - P\n",
    "        D[:,:,i] = diff*diff\n",
    "    # Tenemos la distancia L2, pixel-wise, para cada posible desplazamiento de ambas matrices, R y P.\n",
    "    # Ahora se trata de encontrar una nueva matriz de distancias donde se tenga en cuenta las distancias adyacentes.\n",
    "    DD = np.empty_like(D).astype(np.float32)\n",
    "    DD[...] = D\n",
    "    kernel = np.ones((window_side,window_side),np.float32)/(window_side*window_side)\n",
    "    D = cv.filter2D(DD, -1, kernel)\n",
    "    #show_frame(D[...,0]+D[...,1])\n",
    "    #show_frame(D[...,0])\n",
    "    #for y in range(D.shape[0]):\n",
    "    #    for x in range(D.shape[1]):\n",
    "    #        print(D[y,x], end=' ')\n",
    "    #    print()\n",
    "    #print(80*\"=\")\n",
    "    flow_indexes = np.argmin(np.rint(D), axis=2)\n",
    "    flow = spiral[flow_indexes]\n",
    "    return flow\n",
    "    \n",
    "def local_estimate(P, R, window_side=15):\n",
    "    flow = np.zeros((R.shape[0], R.shape[1], 2), dtype=np.int16)\n",
    "    flow = spiral_estimate(P, R, window_side=window_side)\n",
    "    return flow"
   ]
  },
  {
   "cell_type": "code",
   "execution_count": null,
   "metadata": {},
   "outputs": [],
   "source": [
    "R = frame.read(\"../sequences/moving_circles/\", 0)\n",
    "P = frame.read(\"../sequences/moving_circles/\", 1)\n",
    "R_Y = YUV.from_RGB(R.astype(np.int16))[...,0]\n",
    "P_Y = YUV.from_RGB(P.astype(np.int16))[...,0]"
   ]
  },
  {
   "cell_type": "code",
   "execution_count": null,
   "metadata": {},
   "outputs": [],
   "source": [
    "MVs = local_estimate(P_Y, R_Y)"
   ]
  },
  {
   "cell_type": "code",
   "execution_count": null,
   "metadata": {},
   "outputs": [],
   "source": [
    "show_frame(MVs[...,0])"
   ]
  },
  {
   "cell_type": "code",
   "execution_count": null,
   "metadata": {},
   "outputs": [],
   "source": [
    "prediction = motion.make_prediction(R, MVs)\n",
    "show_frame(prediction)\n",
    "show_frame(P)"
   ]
  },
  {
   "cell_type": "code",
   "execution_count": null,
   "metadata": {
    "scrolled": false
   },
   "outputs": [],
   "source": [
    "show_frame(P-prediction)"
   ]
  },
  {
   "cell_type": "code",
   "execution_count": null,
   "metadata": {},
   "outputs": [],
   "source": [
    "R = YUV.from_RGB(frame.read(\"../sequences/moving_circles/\", 0).astype(np.int16))[...,0]\n",
    "P = YUV.from_RGB(frame.read(\"../sequences/moving_circles/\", 2).astype(np.int16))[...,0]"
   ]
  },
  {
   "cell_type": "code",
   "execution_count": null,
   "metadata": {},
   "outputs": [],
   "source": [
    "flow = local_estimate(P, R)"
   ]
  },
  {
   "cell_type": "code",
   "execution_count": null,
   "metadata": {},
   "outputs": [],
   "source": [
    "show_frame(flow[...,0])"
   ]
  },
  {
   "cell_type": "code",
   "execution_count": null,
   "metadata": {},
   "outputs": [],
   "source": [
    "R = frame.read(\"../sequences/moving_circles/\", 0)\n",
    "P = frame.read(\"../sequences/moving_circles/\", 2)\n",
    "prediction = motion.make_prediction(R, flow)\n",
    "show_frame(prediction)\n",
    "show_frame(P)"
   ]
  },
  {
   "cell_type": "code",
   "execution_count": null,
   "metadata": {},
   "outputs": [],
   "source": [
    "show_frame(P-prediction)"
   ]
  },
  {
   "cell_type": "code",
   "execution_count": null,
   "metadata": {},
   "outputs": [],
   "source": [
    "########### Antiguo "
   ]
  },
  {
   "cell_type": "code",
   "execution_count": null,
   "metadata": {},
   "outputs": [],
   "source": [
    "R = YUV.from_RGB(frame.read(\"../sequences/moving_circles/\", 0).astype(np.int16))[...,0]\n",
    "P = YUV.from_RGB(frame.read(\"../sequences/moving_circles/\", 2).astype(np.int16))[...,0]"
   ]
  },
  {
   "cell_type": "code",
   "execution_count": null,
   "metadata": {},
   "outputs": [],
   "source": [
    "#      5       3       8\n",
    "#      1       0       2\n",
    "#      7       4       6\n",
    "# (-1,-1) (-1, 0) (-1, 1)\n",
    "# ( 0,-1) ( 0, 0) ( 0, 1)\n",
    "# ( 1,-1) ( 1, 0) ( 1, 1)\n",
    "#spiral  = np.array([(-1,-1), (-1, 1), ( 1,-1), ( 1, 1), (-1, 0), ( 1, 0), ( 0,-1), ( 0, 1), ( 0, 0)])\n",
    "spiral  = np.array([( 0, 0), (-1,-1), (-1, 1), ( 1,-1), ( 1, 1), (-1, 0), ( 1, 0), ( 0,-1), ( 0, 1)])\n",
    "spiral  = np.array([( 0, 0), ( 0,-1), ( 0, 1), (-1, 0), ( 1, 0), (-1,-1), ( 1, 1), ( 1,-1), (-1, 1)])\n",
    "\n",
    "# (0,0) (0,1) (0,2)\n",
    "# (1,0) (1,1) (1,2)\n",
    "# (2,0) (2,1) (2,2)\n",
    "spiral_ = np.array([( 1, 1), ( 0, 0), ( 0, 2), ( 2, 0), ( 2, 2), ( 0, 1), ( 2, 1), ( 1, 0), ( 1, 2)])\n",
    "spiral_ = np.array([( 1, 1), ( 1, 0), ( 1, 2), ( 0, 1), ( 2, 1), ( 0, 0), ( 2, 2), ( 2, 0), ( 0, 2)])"
   ]
  },
  {
   "cell_type": "code",
   "execution_count": null,
   "metadata": {},
   "outputs": [],
   "source": [
    "# (x, y)\n",
    "#      5       3       8\n",
    "#      1       0       2\n",
    "#      7       4       6\n",
    "# (-1,-1) ( 0,-1) ( 1,-1)\n",
    "# (-1, 0) ( 0, 0) ( 1, 0)\n",
    "# (-1, 1) ( 0, 1) ( 1, 1)\n",
    "spiral  = np.array([( 0, 0), (-1, 0), ( 1, 0), ( 0,-1), ( 0, 1), (-1,-1), ( 1, 1), (-1, 1), ( 1,-1)], dtype=np.int16)\n",
    "#                        0        1        2        3        4        5        6        7        8\n",
    "\n",
    "# (0,0) (1,0) (2,0)\n",
    "# (0,1) (1,1) (2,1)\n",
    "# (0,2) (1,2) (2,2)\n",
    "spiral_ = np.array([( 1, 1), ( 0, 1), ( 2, 1), ( 1, 0), ( 1, 2), ( 0, 0), ( 2, 2), ( 0, 2), ( 2, 0)], dtype=np.int16)"
   ]
  },
  {
   "cell_type": "code",
   "execution_count": null,
   "metadata": {},
   "outputs": [],
   "source": [
    "print(spiral.dtype)"
   ]
  },
  {
   "cell_type": "code",
   "execution_count": null,
   "metadata": {},
   "outputs": [],
   "source": [
    "extended_R = np.zeros((R.shape[0]+2, R.shape[1]+2))\n",
    "extended_R[1:R.shape[0]+1, 1:R.shape[1]+1] = R"
   ]
  },
  {
   "cell_type": "code",
   "execution_count": null,
   "metadata": {},
   "outputs": [],
   "source": [
    "#extended_R = np.pad(R, (1, 1), 'edge') # Ojo, no funciona"
   ]
  },
  {
   "cell_type": "code",
   "execution_count": null,
   "metadata": {},
   "outputs": [],
   "source": [
    "show_frame(extended_R)"
   ]
  },
  {
   "cell_type": "code",
   "execution_count": null,
   "metadata": {},
   "outputs": [],
   "source": [
    "D = np.zeros((P.shape[0], P.shape[1], 9), dtype=np.float32)"
   ]
  },
  {
   "cell_type": "code",
   "execution_count": null,
   "metadata": {},
   "outputs": [],
   "source": [
    "for i in range(9):\n",
    "    diff = extended_R[spiral_[i][1]:R.shape[0]+spiral_[i][1], spiral_[i][0]:R.shape[1]+spiral_[i][0]] - P\n",
    "    D[:,:,i] = diff*diff"
   ]
  },
  {
   "cell_type": "code",
   "execution_count": null,
   "metadata": {},
   "outputs": [],
   "source": [
    "print(D[0,0,0], D[0,0,1], D[0,0,2], D[0,0,3])"
   ]
  },
  {
   "cell_type": "code",
   "execution_count": null,
   "metadata": {},
   "outputs": [],
   "source": [
    "DD = np.empty_like(D).astype(np.float32)\n",
    "DD[...] = D\n",
    "print(D[0,0,1])\n",
    "show_frame(D[...,0])\n",
    "kernel = np.ones((15,15),np.float32)/(15*15)\n",
    "D = cv.filter2D(DD,-1,kernel)\n",
    "#show_frame(D[...,0]+D[...,1])\n",
    "show_frame(np.rint(D[...,0]))\n"
   ]
  },
  {
   "cell_type": "code",
   "execution_count": null,
   "metadata": {},
   "outputs": [],
   "source": [
    "flow_indexes = np.argmin(np.rint(D), axis=2)\n",
    "for i in range(64):\n",
    "    for j in range(64):\n",
    "        print(flow_indexes[i,j], end='')\n",
    "    print()"
   ]
  },
  {
   "cell_type": "code",
   "execution_count": null,
   "metadata": {},
   "outputs": [],
   "source": [
    "show_frame(flow_indexes)"
   ]
  },
  {
   "cell_type": "code",
   "execution_count": null,
   "metadata": {},
   "outputs": [],
   "source": [
    "print(D[0,0,0], D[0,0,1], D[0,0,2], D[0,0,3])"
   ]
  },
  {
   "cell_type": "code",
   "execution_count": null,
   "metadata": {},
   "outputs": [],
   "source": [
    "flow = spiral[flow_indexes]"
   ]
  },
  {
   "cell_type": "code",
   "execution_count": null,
   "metadata": {},
   "outputs": [],
   "source": [
    "show_frame(D[:,:,1] - D[:,:,8])"
   ]
  },
  {
   "cell_type": "code",
   "execution_count": null,
   "metadata": {},
   "outputs": [],
   "source": [
    "R = frame.read(\"../sequences/moving_circles/\", 0)"
   ]
  },
  {
   "cell_type": "code",
   "execution_count": null,
   "metadata": {},
   "outputs": [],
   "source": [
    "show_frame(R)"
   ]
  },
  {
   "cell_type": "code",
   "execution_count": null,
   "metadata": {},
   "outputs": [],
   "source": [
    "prediction = motion.make_prediction(R, flow.astype(np.float32))"
   ]
  },
  {
   "cell_type": "code",
   "execution_count": null,
   "metadata": {
    "scrolled": false
   },
   "outputs": [],
   "source": [
    "show_frame(prediction)"
   ]
  },
  {
   "cell_type": "code",
   "execution_count": null,
   "metadata": {},
   "outputs": [],
   "source": [
    "P = frame.read(\"../sequences/moving_circles/\", 1)\n",
    "show_frame(P)"
   ]
  },
  {
   "cell_type": "code",
   "execution_count": null,
   "metadata": {},
   "outputs": [],
   "source": [
    "R = YUV.from_RGB(frame.read(\"../sequences/moving_circles/\", 0).astype(np.int16))\n",
    "P = YUV.from_RGB(frame.read(\"../sequences/moving_circles/\", 2).astype(np.int16))"
   ]
  },
  {
   "cell_type": "code",
   "execution_count": null,
   "metadata": {},
   "outputs": [],
   "source": [
    "def spiral_estimate(P, R, window_side=15):\n",
    "    print(\"window_side =\", window_side)\n",
    "    extended_R = np.zeros((R.shape[0]+2, R.shape[1]+2))\n",
    "    extended_R[1:R.shape[0]+1, 1:R.shape[1]+1] = R\n",
    "    print(\"extended_R.shape\", extended_R.shape)\n",
    "    #extended_R = np.pad(R, (1, 1), 'edge')\n",
    "    #print(\"extended_R.shape\", extended_R.shape)\n",
    "    D = np.zeros((P.shape[0], P.shape[1], 9), dtype=np.float32)\n",
    "    for i in range(9):\n",
    "        diff = extended_R[spiral_[i][1] : R.shape[0] + spiral_[i][1],\n",
    "                          spiral_[i][0] : R.shape[1] + spiral_[i][0]] - P\n",
    "        D[:,:,i] = diff*diff\n",
    "    # Tenemos la distancia L2, pixel-wise, para cada posible desplazamiento de ambas matrices, R y P.\n",
    "    # Ahora se trata de encontrar una nueva matriz de distancias donde se tenga en cuenta las distancias adyacentes.\n",
    "    DD = np.empty_like(D).astype(np.float32)\n",
    "    DD[...] = D\n",
    "    kernel = np.ones((window_side,window_side),np.float32)/(window_side*window_side)\n",
    "    D = cv.filter2D(DD, -1, kernel)\n",
    "    #show_frame(D[...,0]+D[...,1])\n",
    "    #show_frame(D[...,0])\n",
    "    #for y in range(D.shape[0]):\n",
    "    #    for x in range(D.shape[1]):\n",
    "    #        print(D[y,x], end=' ')\n",
    "    #    print()\n",
    "    #print(80*\"=\")\n",
    "    flow_indexes = np.argmin(np.rint(D), axis=2)\n",
    "    for i in range(flow_indexes.shape[0]):\n",
    "        for j in range(flow_indexes.shape[1]):\n",
    "            print(flow_indexes[i,j], end='')\n",
    "        print()\n",
    "    print(80*\"=\")\n",
    "    flow = spiral[flow_indexes]\n",
    "    return flow"
   ]
  },
  {
   "cell_type": "code",
   "execution_count": null,
   "metadata": {
    "scrolled": false
   },
   "outputs": [],
   "source": [
    "flow = spiral_estimate(P[...,0], R[...,0])"
   ]
  },
  {
   "cell_type": "code",
   "execution_count": null,
   "metadata": {},
   "outputs": [],
   "source": [
    "# Funciona para log2_search_area = 0 y 1 (search_area 1 y 2)\n",
    "def estimate(P, R, log2_search_area, n_levels):\n",
    "    if log2_search_area > 0:\n",
    "        P_pyramid = LP.analyze(P, log2_search_area)\n",
    "        R_pyramid = LP.analyze(R, log2_search_area)\n",
    "    else:\n",
    "        P_pyramid = [P]\n",
    "        R_pyramid = [R]\n",
    "    #total_flow = np.zeros(((R_pyramid[0].shape[0]+1)//2, (R_pyramid[0].shape[1]+1)//2, 2), dtype=np.int16)\n",
    "    total_flow = np.zeros((R_pyramid[0].shape[0], R_pyramid[0].shape[1], 2), dtype=np.int16)\n",
    "    for l in range(n_levels):\n",
    "        _R_pyramid = motion.make_prediction(R_pyramid[l], total_flow.astype(np.float32))\n",
    "        flow = spiral_estimate(P_pyramid[l], _R_pyramid)\n",
    "        total_flow *= 2\n",
    "        total_flow += flow\n",
    "        total_flow = total_flow.astype(np.int16)\n",
    "        #for y in range(total_flow.shape[0]):\n",
    "        #    for x in range(total_flow.shape[1]):\n",
    "        #        print(total_flow[y,x], end=' ')\n",
    "        #    print()\n",
    "        #print(80*\"=\")\n",
    "        #show_frame(R_pyramid[l+1])\n",
    "        R_pyramid[l+1] = LP.synthesize_step(R_pyramid[l], R_pyramid[l+1])\n",
    "        P_pyramid[l+1] = LP.synthesize_step(P_pyramid[l], P_pyramid[l+1])\n",
    "        total_flow = LP.synthesize_step(total_flow.astype(np.float32), np.zeros(total_flow.shape)).astype(np.int16)\n",
    "    _R = motion.make_prediction(R, total_flow.astype(np.float32))\n",
    "    flow = spiral_estimate(P, _R)\n",
    "    if log2_search_area > 0:\n",
    "        #total_flow = LP.synthesize_step(total_flow.astype(np.float32), np.zeros(total_flow.shape)).astype(np.int16)\n",
    "        #total_flow *= 2\n",
    "        total_flow += flow\n",
    "        total_flow = total_flow.astype(np.int16)\n",
    "    else:\n",
    "        return flow\n",
    "    return total_flow"
   ]
  },
  {
   "cell_type": "code",
   "execution_count": null,
   "metadata": {
    "scrolled": false
   },
   "outputs": [],
   "source": [
    "flow = estimate(P[...,0], R[...,0], 0, 0)"
   ]
  },
  {
   "cell_type": "code",
   "execution_count": null,
   "metadata": {},
   "outputs": [],
   "source": [
    "def local_estimate(P, R):\n",
    "    flow = np.zeros((R.shape[0], R.shape[1], 2), dtype=np.int16)\n",
    "    flow = spiral_estimate(P, R)\n",
    "    return flow"
   ]
  },
  {
   "cell_type": "code",
   "execution_count": null,
   "metadata": {},
   "outputs": [],
   "source": [
    "local_estimate(P[...,0], R[...,0])"
   ]
  },
  {
   "cell_type": "code",
   "execution_count": null,
   "metadata": {},
   "outputs": [],
   "source": [
    "def spiral_estimate2(initial_flow, P, R, window_side=15):\n",
    "    print(\"window_side =\", window_side)\n",
    "    print(\"inital_flow.dtype\", initial_flow.dtype)\n",
    "    print(\"R.shape\", R.shape)\n",
    "    print(\"initial_flow.shape\", initial_flow.shape)\n",
    "    extended_R = np.zeros((R.shape[0]+2, R.shape[1]+2))\n",
    "    extended_R[1:R.shape[0]+1, 1:R.shape[1]+1] = motion.make_prediction(R, initial_flow)[:R.shape[0], :R.shape[1]]\n",
    "    show_frame(R, \"R\")\n",
    "    show_frame(extended_R[1:R.shape[0]+1, 1:R.shape[1]+1], \"extended_R\")\n",
    "    show_frame(P, \"P\")\n",
    "    D = np.zeros((P.shape[0], P.shape[1], 9), dtype=np.float32)\n",
    "    for i in range(9):\n",
    "        diff = extended_R[spiral_[i][1] : R.shape[0] + spiral_[i][1],\n",
    "                          spiral_[i][0] : R.shape[1] + spiral_[i][0]] - P\n",
    "        #print(diff)\n",
    "        D[:,:,i] = abs(diff)#diff*diff\n",
    "    # Tenemos la distancia L2, pixel-wise, para cada posible desplazamiento de ambas matrices, R y P.\n",
    "    # Ahora se trata de encontrar una nueva matriz de distancias donde se tenga en cuenta las distancias adyacentes.\n",
    "    DD = np.empty_like(D).astype(np.float32)\n",
    "    DD[...] = D\n",
    "    #kernel = np.ones((window_side,window_side),np.float32)/(window_side*window_side)\n",
    "    #D = cv.filter2D(DD, -1, kernel).astype(np.int)\n",
    "    print(DD.shape, window_side)\n",
    "    D = cv.GaussianBlur(DD, (window_side, window_side), 0).astype(np.int)\n",
    "    #show_frame(D[...,0]+D[...,1])\n",
    "    #show_frame(D[...,0])\n",
    "    #for y in range(D.shape[0]):\n",
    "    #    for x in range(D.shape[1]):\n",
    "    #        print(D[y,x], end=' ')\n",
    "    #    print()\n",
    "    #print(80*\"=\")\n",
    "    #for i in range(9):\n",
    "    #    print(D[...,i])\n",
    "    flow_indexes = np.argmin(D, axis=2)\n",
    "    #for i in range(flow_indexes.shape[0]):\n",
    "    #    for j in range(flow_indexes.shape[1]):\n",
    "    #        print(flow_indexes[i,j], end='')\n",
    "    #    print()\n",
    "    #print(80*\"=\")\n",
    "    #print(spiral[flow_indexes].shape)\n",
    "    #print(initial_flow.shape)\n",
    "    flow = initial_flow[:flow_indexes.shape[0], :flow_indexes.shape[1]] + spiral[flow_indexes]\n",
    "    return flow"
   ]
  },
  {
   "cell_type": "code",
   "execution_count": null,
   "metadata": {},
   "outputs": [],
   "source": [
    "flow = np.zeros((R.shape[0], R.shape[1], 2), dtype=np.int16)\n",
    "print(\"flow.shape\", flow.shape)\n",
    "flow = spiral_estimate2(flow, P[...,0], R[:,:,0])"
   ]
  },
  {
   "cell_type": "code",
   "execution_count": null,
   "metadata": {},
   "outputs": [],
   "source": [
    "def estimate2(P, R, log2_search_area, n_levels, w_side=17):\n",
    "    if log2_search_area > 0:\n",
    "        P_pyramid = LP.analyze(P, log2_search_area)\n",
    "        R_pyramid = LP.analyze(R, log2_search_area)\n",
    "    else:\n",
    "        P_pyramid = [P]\n",
    "        R_pyramid = [R]\n",
    "    #total_flow = np.zeros(((R_pyramid[0].shape[0]+1)//2, (R_pyramid[0].shape[1]+1)//2, 2), dtype=np.int16)\n",
    "    flow = np.zeros((R_pyramid[0].shape[0], R_pyramid[0].shape[1], 2), dtype=np.int16)\n",
    "    for l in range(n_levels):\n",
    "        #_R_pyramid = motion.make_prediction(R_pyramid[l], total_flow.astype(np.float32))\n",
    "        #show_frame(_R_pyramid, f\"R_pyramid[{l}]\")\n",
    "        #show_frame(R_pyramid[l], f\"R_pyramid[{l}]\")\n",
    "        #show_frame(P_pyramid[l], f\"P_pyramid[{l}]\")\n",
    "        #flow = spiral_estimate2(flow, P_pyramid[l], R_pyramid[l], window_side = w_side >> (log2_search_area - l))\n",
    "        w_side >>= (log2_search_area - l)\n",
    "        if w_side < 15:\n",
    "            w_side = 15\n",
    "        flow = spiral_estimate2(flow, P_pyramid[l], R_pyramid[l], window_side = w_side)\n",
    "        #total_flow *= 2\n",
    "        #total_flow += flow\n",
    "        #total_flow = total_flow.astype(np.int16)\n",
    "        #for y in range(total_flow.shape[0]):\n",
    "        #    for x in range(total_flow.shape[1]):\n",
    "        #        print(total_flow[y,x], end=' ')\n",
    "        #    print()\n",
    "        #print(80*\"=\")\n",
    "        #show_frame(R_pyramid[l+1])\n",
    "        R_pyramid[l+1] = LP.synthesize_step(R_pyramid[l], R_pyramid[l+1])\n",
    "        P_pyramid[l+1] = LP.synthesize_step(P_pyramid[l], P_pyramid[l+1])\n",
    "        flow = LP.synthesize_step(flow.astype(np.float32), np.zeros(flow.shape)).astype(np.int16)\n",
    "        flow *= 2\n",
    "    #_R = motion.make_prediction(R, total_flow.astype(np.float32))\n",
    "    #show_frame(R, f\"_R\")\n",
    "    #show_frame(P, f\"P\")\n",
    "    flow = spiral_estimate2(flow, P, R, window_side = w_side)\n",
    "    #total_flow = total_flow.astype(np.int16)\n",
    "    return flow"
   ]
  },
  {
   "cell_type": "code",
   "execution_count": null,
   "metadata": {
    "scrolled": false
   },
   "outputs": [],
   "source": [
    "R = frame.read(\"../sequences/moving_circles/\", 0)\n",
    "P = frame.read(\"../sequences/moving_circles/\", 1)"
   ]
  },
  {
   "cell_type": "code",
   "execution_count": null,
   "metadata": {},
   "outputs": [],
   "source": [
    "show_frame(R); show_frame(P)"
   ]
  },
  {
   "cell_type": "code",
   "execution_count": null,
   "metadata": {},
   "outputs": [],
   "source": [
    "np.set_printoptions(linewidth=120)\n",
    "flow = estimate2(P[...,0], R[...,0], 3, 3, w_side=31)"
   ]
  },
  {
   "cell_type": "code",
   "execution_count": null,
   "metadata": {},
   "outputs": [],
   "source": [
    "show_frame(flow[...,0])"
   ]
  },
  {
   "cell_type": "code",
   "execution_count": null,
   "metadata": {},
   "outputs": [],
   "source": [
    "show_vectors(flow[::2, ::2])"
   ]
  },
  {
   "cell_type": "code",
   "execution_count": null,
   "metadata": {},
   "outputs": [],
   "source": [
    "show_frame(flow[...,1])"
   ]
  },
  {
   "cell_type": "code",
   "execution_count": null,
   "metadata": {},
   "outputs": [],
   "source": [
    "prediction = motion.make_prediction(R, flow.astype(np.float32))"
   ]
  },
  {
   "cell_type": "code",
   "execution_count": null,
   "metadata": {},
   "outputs": [],
   "source": [
    "show_frame(prediction)"
   ]
  },
  {
   "cell_type": "code",
   "execution_count": null,
   "metadata": {},
   "outputs": [],
   "source": [
    "show_frame(P)"
   ]
  },
  {
   "cell_type": "code",
   "execution_count": null,
   "metadata": {},
   "outputs": [],
   "source": [
    "show_frame(R)"
   ]
  },
  {
   "cell_type": "code",
   "execution_count": null,
   "metadata": {},
   "outputs": [],
   "source": [
    "show_frame(prediction-P)"
   ]
  },
  {
   "cell_type": "markdown",
   "metadata": {},
   "source": [
    "## Ahora probamos con un desplazamiento de 2"
   ]
  },
  {
   "cell_type": "code",
   "execution_count": null,
   "metadata": {},
   "outputs": [],
   "source": [
    "R = YUV.from_RGB(frame.read(\"../sequences/moving_circle/\", 0).astype(np.int16))\n",
    "P = YUV.from_RGB(frame.read(\"../sequences/moving_circle/\", 2).astype(np.int16))"
   ]
  },
  {
   "cell_type": "code",
   "execution_count": null,
   "metadata": {
    "scrolled": false
   },
   "outputs": [],
   "source": [
    "#flow = estimate2(P[...,0], R[...,0], 1, 1, w_side=33)\n",
    "flow = estimate2(P[...,0], R[...,0], 3, 3, w_side=33)"
   ]
  },
  {
   "cell_type": "code",
   "execution_count": null,
   "metadata": {},
   "outputs": [],
   "source": [
    "prediction = motion.make_prediction(R, flow.astype(np.float32))"
   ]
  },
  {
   "cell_type": "code",
   "execution_count": null,
   "metadata": {
    "scrolled": false
   },
   "outputs": [],
   "source": [
    "show_frame(prediction, \"Prediction\")\n",
    "show_frame(P, \"Predicted\")\n",
    "show_frame(prediction-P)"
   ]
  },
  {
   "cell_type": "markdown",
   "metadata": {},
   "source": [
    "## Ahora probamos con un desplazamiento de 3"
   ]
  },
  {
   "cell_type": "code",
   "execution_count": null,
   "metadata": {},
   "outputs": [],
   "source": [
    "R = YUV.from_RGB(frame.read(\"../sequences/moving_circle/\", 0).astype(np.int16))\n",
    "P = YUV.from_RGB(frame.read(\"../sequences/moving_circle/\", 3).astype(np.int16))"
   ]
  },
  {
   "cell_type": "code",
   "execution_count": null,
   "metadata": {},
   "outputs": [],
   "source": [
    "flow = estimate2(P[...,0], R[...,0], 2, 2, w_side=33)"
   ]
  },
  {
   "cell_type": "code",
   "execution_count": null,
   "metadata": {},
   "outputs": [],
   "source": [
    "prediction = motion.make_prediction(R, flow.astype(np.float32))"
   ]
  },
  {
   "cell_type": "code",
   "execution_count": null,
   "metadata": {
    "scrolled": true
   },
   "outputs": [],
   "source": [
    "show_frame(prediction, \"Prediction\")\n",
    "show_frame(P, \"Predicted\")\n",
    "show_frame(prediction-P)"
   ]
  },
  {
   "cell_type": "markdown",
   "metadata": {},
   "source": [
    "## Ahora probamos con un desplazamiento de 4"
   ]
  },
  {
   "cell_type": "code",
   "execution_count": null,
   "metadata": {},
   "outputs": [],
   "source": [
    "R = YUV.from_RGB(frame.read(\"../sequences/moving_circle/\", 0).astype(np.int16))\n",
    "P = YUV.from_RGB(frame.read(\"../sequences/moving_circle/\", 4).astype(np.int16))"
   ]
  },
  {
   "cell_type": "code",
   "execution_count": null,
   "metadata": {},
   "outputs": [],
   "source": [
    "flow = estimate2(P[...,0], R[...,0], 3, 3, w_side=33)"
   ]
  },
  {
   "cell_type": "code",
   "execution_count": null,
   "metadata": {},
   "outputs": [],
   "source": [
    "prediction = motion.make_prediction(R, flow.astype(np.float32))"
   ]
  },
  {
   "cell_type": "code",
   "execution_count": null,
   "metadata": {
    "scrolled": false
   },
   "outputs": [],
   "source": [
    "show_frame(prediction, \"Prediction\")\n",
    "show_frame(P, \"Predicted\")\n",
    "show_frame(prediction-P)"
   ]
  },
  {
   "cell_type": "markdown",
   "metadata": {},
   "source": [
    "## Más imágenes reales"
   ]
  },
  {
   "cell_type": "code",
   "execution_count": null,
   "metadata": {},
   "outputs": [],
   "source": [
    "R = YUV.from_RGB(frame.read(\"../sequences/bus/\", 0).astype(np.int16))\n",
    "P = YUV.from_RGB(frame.read(\"../sequences/bus/\", 1).astype(np.int16))"
   ]
  },
  {
   "cell_type": "code",
   "execution_count": null,
   "metadata": {},
   "outputs": [],
   "source": [
    "flow = estimate2(P[...,0], R[...,0], 5, 5, w_side=65)"
   ]
  },
  {
   "cell_type": "code",
   "execution_count": null,
   "metadata": {},
   "outputs": [],
   "source": [
    "initial_flow = np.zeros((P.shape[0], P.shape[1], 2), dtype=np.float32)\n",
    "OF_flow = motion.estimate(P[...,0], R[...,0], initial_flow=initial_flow )"
   ]
  },
  {
   "cell_type": "code",
   "execution_count": null,
   "metadata": {},
   "outputs": [],
   "source": [
    "show_vectors(flow[::8, ::8])"
   ]
  },
  {
   "cell_type": "code",
   "execution_count": null,
   "metadata": {},
   "outputs": [],
   "source": [
    "show_vectors(OF_flow[::8, ::8])"
   ]
  },
  {
   "cell_type": "code",
   "execution_count": null,
   "metadata": {},
   "outputs": [],
   "source": [
    "R = frame.read(\"../sequences/bus/\", 0)\n",
    "P = frame.read(\"../sequences/bus/\", 1)\n",
    "prediction = motion.make_prediction(R, flow.astype(np.float32))"
   ]
  },
  {
   "cell_type": "code",
   "execution_count": null,
   "metadata": {
    "scrolled": false
   },
   "outputs": [],
   "source": [
    "show_frame(prediction, \"Prediction Mío\")\n",
    "show_frame(P, \"Predicted\")\n",
    "show_frame(motion.make_prediction(R, OF_flow), \"OF\")"
   ]
  },
  {
   "cell_type": "code",
   "execution_count": null,
   "metadata": {},
   "outputs": [],
   "source": [
    "frame.write(prediction, \"/tmp/\", 1)\n",
    "frame.write(R, \"/tmp/\", 2)\n",
    "frame.write(motion.make_prediction(R, OF_flow), \"/tmp/\", 3)"
   ]
  },
  {
   "cell_type": "code",
   "execution_count": null,
   "metadata": {},
   "outputs": [],
   "source": [
    "frame.write(prediction, \"/tmp/p\", 0)"
   ]
  },
  {
   "cell_type": "code",
   "execution_count": null,
   "metadata": {},
   "outputs": [],
   "source": [
    "frame.write(motion.make_prediction(R, OF_flow), \"/tmp/pp\", 0)"
   ]
  },
  {
   "cell_type": "markdown",
   "metadata": {},
   "source": [
    "## Imágenes reales"
   ]
  },
  {
   "cell_type": "code",
   "execution_count": null,
   "metadata": {},
   "outputs": [],
   "source": [
    "R = YUV.from_RGB(frame.read(\"../sequences/mobile/\", 0).astype(np.int16))\n",
    "P = YUV.from_RGB(frame.read(\"../sequences/mobile/\", 1).astype(np.int16))"
   ]
  },
  {
   "cell_type": "code",
   "execution_count": null,
   "metadata": {},
   "outputs": [],
   "source": [
    "flow = estimate2(P[...,0], R[...,0], 3, 3, w_side=33)"
   ]
  },
  {
   "cell_type": "code",
   "execution_count": null,
   "metadata": {},
   "outputs": [],
   "source": [
    "initial_flow = np.zeros((P.shape[0], P.shape[1], 2), dtype=np.float32)\n",
    "OF_flow = motion.estimate(P[...,0], R[...,0], initial_flow=initial_flow )"
   ]
  },
  {
   "cell_type": "code",
   "execution_count": null,
   "metadata": {},
   "outputs": [],
   "source": [
    "R = frame.read(\"../sequences/mobile/\", 0)\n",
    "P = frame.read(\"../sequences/mobile/\", 1)\n",
    "prediction = motion.make_prediction(R, flow.astype(np.float32))"
   ]
  },
  {
   "cell_type": "code",
   "execution_count": null,
   "metadata": {
    "scrolled": false
   },
   "outputs": [],
   "source": [
    "show_frame(prediction, \"Prediction\")\n",
    "show_frame(P, \"Predicted\")\n",
    "show_frame((prediction-P)*10, \"mio\")\n",
    "show_frame((R-P)*10, \"sin\")\n",
    "show_frame((motion.make_prediction(R, OF_flow) - P)*10, \"OF\")"
   ]
  },
  {
   "cell_type": "code",
   "execution_count": null,
   "metadata": {},
   "outputs": [],
   "source": [
    "frame.write(prediction-P, \"/tmp/\", 1)\n",
    "frame.write(R-P, \"/tmp/\", 2)\n",
    "frame.write(motion.make_prediction(R, OF_flow) - P, \"/tmp/\", 3)"
   ]
  },
  {
   "cell_type": "code",
   "execution_count": null,
   "metadata": {},
   "outputs": [],
   "source": [
    "frame.write(prediction, \"/tmp/p\", 0)"
   ]
  },
  {
   "cell_type": "code",
   "execution_count": null,
   "metadata": {},
   "outputs": [],
   "source": [
    "frame.write(motion.make_prediction(R, OF_flow), \"/tmp/pp\", 0)"
   ]
  },
  {
   "cell_type": "markdown",
   "metadata": {},
   "source": [
    "## Brute force"
   ]
  },
  {
   "cell_type": "code",
   "execution_count": null,
   "metadata": {},
   "outputs": [],
   "source": [
    "def spiral_estimate2(initial_flow, P, R, window_side=15):\n",
    "    print(\"window_side =\", window_side)\n",
    "    print(\"inital_flow.dtype\", initial_flow.dtype)\n",
    "    print(\"R.shape\", R.shape)\n",
    "    print(\"initial_flow.shape\", initial_flow.shape)\n",
    "    extended_R = np.zeros((R.shape[0]+2, R.shape[1]+2))\n",
    "    extended_R[1:R.shape[0]+1, 1:R.shape[1]+1] = motion.make_prediction(R, initial_flow)[:R.shape[0], :R.shape[1]]\n",
    "    show_frame(R, \"R\")\n",
    "    show_frame(extended_R[1:R.shape[0]+1, 1:R.shape[1]+1], \"extended_R\")\n",
    "    show_frame(P, \"P\")\n",
    "    D = np.zeros((P.shape[0], P.shape[1], 9), dtype=np.float32)\n",
    "    for i in range(9):\n",
    "        diff = extended_R[spiral_[i][1] : R.shape[0] + spiral_[i][1],\n",
    "                          spiral_[i][0] : R.shape[1] + spiral_[i][0]] - P\n",
    "        #print(diff)\n",
    "        D[:,:,i] = abs(diff)#diff*diff\n",
    "    # Tenemos la distancia L2, pixel-wise, para cada posible desplazamiento de ambas matrices, R y P.\n",
    "    # Ahora se trata de encontrar una nueva matriz de distancias donde se tenga en cuenta las distancias adyacentes.\n",
    "    DD = np.empty_like(D).astype(np.float32)\n",
    "    DD[...] = D\n",
    "    #kernel = np.ones((window_side,window_side),np.float32)/(window_side*window_side)\n",
    "    #D = cv.filter2D(DD, -1, kernel).astype(np.int)\n",
    "    D = cv.GaussianBlur(DD, (window_side, window_side), 0).astype(np.int)\n",
    "    #show_frame(D[...,0]+D[...,1])\n",
    "    #show_frame(D[...,0])\n",
    "    #for y in range(D.shape[0]):\n",
    "    #    for x in range(D.shape[1]):\n",
    "    #        print(D[y,x], end=' ')\n",
    "    #    print()\n",
    "    #print(80*\"=\")\n",
    "    #for i in range(9):\n",
    "    #    print(D[...,i])\n",
    "    flow_indexes = np.argmin(D, axis=2)\n",
    "    #for i in range(flow_indexes.shape[0]):\n",
    "    #    for j in range(flow_indexes.shape[1]):\n",
    "    #        print(flow_indexes[i,j], end='')\n",
    "    #    print()\n",
    "    #print(80*\"=\")\n",
    "    #print(spiral[flow_indexes].shape)\n",
    "    #print(initial_flow.shape)\n",
    "    flow = initial_flow[:flow_indexes.shape[0], :flow_indexes.shape[1]] + spiral[flow_indexes]\n",
    "    return flow"
   ]
  },
  {
   "cell_type": "code",
   "execution_count": null,
   "metadata": {},
   "outputs": [],
   "source": [
    "R = YUV.from_RGB(frame.read(\"../sequences/moving_circle/\", 0).astype(np.int16))[...,0]\n",
    "P = YUV.from_RGB(frame.read(\"../sequences/moving_circle/\", 4).astype(np.int16))[...,0]\n",
    "#show_frame(R)"
   ]
  },
  {
   "cell_type": "code",
   "execution_count": null,
   "metadata": {
    "scrolled": false
   },
   "outputs": [],
   "source": [
    "search_area_side = 8\n",
    "window_side = 17\n",
    "extended_R = np.zeros((R.shape[0] + search_area_side, R.shape[1] + search_area_side))\n",
    "extended_R[search_area_side//2:R.shape[0]+search_area_side//2,\n",
    "           search_area_side//2:R.shape[1]+search_area_side//2] = R\n",
    "show_frame(extended_R)\n",
    "flow = np.zeros((P.shape[0], P.shape[1], 2), dtype=np.int8)\n",
    "#print(flow.shape)\n",
    "min_error = np.full((P.shape[0], P.shape[1]), 255, dtype=np.uint8)\n",
    "#print(min_error.max())\n",
    "for y in range(search_area_side):\n",
    "    for x in range(search_area_side):\n",
    "        error = extended_R[y:P.shape[0] + y,\n",
    "                           x:P.shape[1] + x] - P\n",
    "        a_error = abs(error)\n",
    "        blur_a_error = cv.GaussianBlur(a_error, (window_side, window_side), 0).astype(np.int)\n",
    "        #print(blur_a_error.max())\n",
    "        which_min = blur_a_error <= min_error\n",
    "        #print(which_min.shape)\n",
    "        #where_min = np.argmin(np.array([min_error, blur_a_error]), axis=0)\n",
    "        #flow = np.where(which_min, flow[y, x], (x, y))\n",
    "        #flow = np.where(which_min, flow, 1)\n",
    "        flow[:,:,0] = np.where(which_min, x-search_area_side//2, flow[:,:,0])\n",
    "        flow[:,:,1] = np.where(which_min, y-search_area_side//2, flow[:,:,1])\n",
    "        #print(where_min.shape)\n",
    "        #print(y, x, where_min)\n",
    "        min_error = np.minimum(min_error, blur_a_error)\n",
    "        #print(min_error.shape)\n",
    "        #show_frame(where_min, f\"{y} {x}\")\n",
    "        #show_frame(min_error, f\"min {y} {x}\")\n",
    "        #show_frame(blur_a_error, f\"blur {y} {x}\")\n",
    "#x = y = search_area_side//2\n",
    "#error = extended_R[y:P.shape[0] + y, x:P.shape[1] + x] - P\n",
    "#a_error = abs(error)\n",
    "#blur_a_error = cv.GaussianBlur(a_error, (window_side, window_side), 0).astype(np.int)\n",
    "#show_frame(blur_a_error, f\"blur {0} {0}\")\n",
    "#which_min = blur_a_error <= min_error\n",
    "#print(\"max =\", min_error.max())\n",
    "#flow[:,:,0] = np.where(which_min, x-search_area_side//2, flow[:,:,0])\n",
    "#flow[:,:,1] = np.where(which_min, y-search_area_side//2, flow[:,:,1])\n",
    "\n",
    "#show_vectors(flow[::8, ::8])\n",
    "show_vectors(flow[::1, ::1])\n",
    "print(flow.min())"
   ]
  },
  {
   "cell_type": "code",
   "execution_count": null,
   "metadata": {},
   "outputs": [],
   "source": [
    "R = frame.read(\"../sequences/moving_circle/\", 0)\n",
    "P = frame.read(\"../sequences/moving_circle/\", 4)\n",
    "prediction = motion.make_prediction(R, flow.astype(np.float32))\n",
    "show_frame(prediction)\n",
    "show_frame(P-prediction)"
   ]
  },
  {
   "cell_type": "code",
   "execution_count": null,
   "metadata": {},
   "outputs": [],
   "source": [
    "def full_search_motion_estimation(predicted, reference, search_range, overlapping_area_side):\n",
    "    extended_reference = np.zeros((R.shape[0] + search_range, R.shape[1] + search_range))\n",
    "    extended_reference[search_range//2 : reference.shape[0]+search_range//2,\n",
    "                       search_range//2 : reference.shape[1]+search_range//2] = reference\n",
    "    flow = np.zeros((predicted.shape[0], predicted.shape[1], 2), dtype=np.int8)\n",
    "    min_error = np.full((predicted.shape[0], predicted.shape[1]), 255, dtype=np.uint8)\n",
    "    for y in range(search_range):\n",
    "        print(f\"{y}/{search_range-1}\", end='\\r')\n",
    "        for x in range(search_range):\n",
    "            error = extended_reference[y : predicted.shape[0] + y,\n",
    "                                       x : predicted.shape[1] + x] - predicted\n",
    "            a_error = abs(error)\n",
    "            blur_a_error = cv.GaussianBlur(a_error, (overlapping_area_side, overlapping_area_side), 0).astype(np.int)\n",
    "            which_min = blur_a_error <= min_error\n",
    "            flow[:,:,0] = np.where(which_min, x-search_range//2, flow[:,:,0])\n",
    "            flow[:,:,1] = np.where(which_min, y-search_range//2, flow[:,:,1])\n",
    "            min_error = np.minimum(min_error, blur_a_error)\n",
    "    return flow"
   ]
  },
  {
   "cell_type": "code",
   "execution_count": null,
   "metadata": {},
   "outputs": [],
   "source": [
    "R = YUV.from_RGB(frame.read(\"../sequences/bus/\", 0).astype(np.int16))\n",
    "P = YUV.from_RGB(frame.read(\"../sequences/bus/\", 1).astype(np.int16))"
   ]
  },
  {
   "cell_type": "code",
   "execution_count": null,
   "metadata": {},
   "outputs": [],
   "source": [
    "R = cv.pyrUp(R)\n",
    "P = cv.pyrUp(P)"
   ]
  },
  {
   "cell_type": "code",
   "execution_count": null,
   "metadata": {},
   "outputs": [],
   "source": [
    "print(R.shape, P.shape)"
   ]
  },
  {
   "cell_type": "code",
   "execution_count": null,
   "metadata": {},
   "outputs": [],
   "source": [
    "flow = full_search_motion_estimation(P[...,0], R[...,0], 32, 17)"
   ]
  },
  {
   "cell_type": "code",
   "execution_count": null,
   "metadata": {},
   "outputs": [],
   "source": [
    "print(flow.shape)"
   ]
  },
  {
   "cell_type": "code",
   "execution_count": null,
   "metadata": {
    "scrolled": true
   },
   "outputs": [],
   "source": [
    "R = frame.read(\"../sequences/bus/\", 0)\n",
    "R = cv.pyrUp(R)\n",
    "P = frame.read(\"../sequences/bus/\", 1)\n",
    "P = cv.pyrUp(P)\n",
    "prediction = motion.make_prediction(R, flow.astype(np.float32))\n",
    "show_frame(prediction, \"Prediction\")\n",
    "show_frame(P, \"Predicted\")\n",
    "show_frame(normalize(prediction-P), \"error\")"
   ]
  },
  {
   "cell_type": "code",
   "execution_count": null,
   "metadata": {},
   "outputs": [],
   "source": [
    "R = YUV.from_RGB(frame.read(\"../sequences/bus/\", 0).astype(np.int16))[...,0]\n",
    "P = YUV.from_RGB(frame.read(\"../sequences/bus/\", 1).astype(np.int16))[...,0]\n",
    "OF_flow = motion.estimate(P.astype(np.float32), R.astype(np.float32),\n",
    "                          initial_flow=np.zeros((P.shape[0], P.shape[1], 2), dtype=np.float32),\n",
    "                          levels=3, wside=200, iters=1)\n",
    "R = frame.read(\"../sequences/bus/\", 0)\n",
    "P = frame.read(\"../sequences/bus/\", 1)\n",
    "prediction = motion.make_prediction(R, OF_flow.astype(np.float32))\n",
    "show_frame(prediction, \"Prediction\")\n",
    "show_frame(P, \"Predicted\")\n",
    "show_frame(normalize(prediction-P), \"error\")"
   ]
  },
  {
   "cell_type": "code",
   "execution_count": null,
   "metadata": {},
   "outputs": [],
   "source": [
    "        #min_error = np.argmin([min_error, blur_a_error], axis=2)\n",
    "        show_frame(blur_a_error, f\"{y} {x}\")\n",
    "        "
   ]
  },
  {
   "cell_type": "code",
   "execution_count": null,
   "metadata": {},
   "outputs": [],
   "source": [
    "############################3"
   ]
  },
  {
   "cell_type": "code",
   "execution_count": null,
   "metadata": {},
   "outputs": [],
   "source": [
    "D = []\n",
    "for i in _spiral:\n",
    "    difference = extended_R[i[0]:R.shape[0]+i[0], i[1]:R.shape[1]+i[1]] - P\n",
    "    D.append(difference)"
   ]
  },
  {
   "cell_type": "code",
   "execution_count": null,
   "metadata": {},
   "outputs": [],
   "source": [
    "D[1].max()"
   ]
  }
 ],
 "metadata": {
  "kernelspec": {
   "display_name": "Python 3 (ipykernel)",
   "language": "python",
   "name": "python3"
  },
  "language_info": {
   "codemirror_mode": {
    "name": "ipython",
    "version": 3
   },
   "file_extension": ".py",
   "mimetype": "text/x-python",
   "name": "python",
   "nbconvert_exporter": "python",
   "pygments_lexer": "ipython3",
   "version": "3.10.1"
  }
 },
 "nbformat": 4,
 "nbformat_minor": 4
}

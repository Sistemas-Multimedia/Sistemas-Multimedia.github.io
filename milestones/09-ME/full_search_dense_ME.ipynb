{
 "cells": [
  {
   "cell_type": "markdown",
   "metadata": {},
   "source": [
    "[![Binder](https://mybinder.org/badge_logo.svg)](https://nbviewer.org/github/Sistemas-Multimedia/Sistemas-Multimedia.github.io/blob/master/milestones/10-ME/full_search_dense_ME.ipynb)"
   ]
  },
  {
   "cell_type": "markdown",
   "metadata": {},
   "source": [
    "# Full search dense motion estimation"
   ]
  },
  {
   "cell_type": "code",
   "execution_count": null,
   "metadata": {},
   "outputs": [],
   "source": [
    "import numpy as np\n",
    "import image_3 as frame\n",
    "import YCoCg as YUV\n",
    "import motion\n",
    "import matplotlib\n",
    "import matplotlib.pyplot as plt\n",
    "%matplotlib inline\n",
    "plt.rcParams['text.usetex'] = True\n",
    "!ln -sf ~/MRVC/src/LP.py .\n",
    "import LP\n",
    "import cv2 as cv\n",
    "from common import show_frame\n",
    "from common import show_vectors\n",
    "from common import normalize\n",
    "!ln -sf ~/quantization/information.py .\n",
    "import information"
   ]
  },
  {
   "cell_type": "markdown",
   "metadata": {},
   "source": [
    "If we extrapolate the idea used in `full_search_block_based_BE()` when the `block_side==1`, there are a huge amount of redundant substractions when adjacent blocks are processed. In the following implementation, the subtractions are performed only once because all the \"blocks\" (that in this case are of one pixel) are subtracted at each seaching point (one for search area). Another characteristic of this algorithm is that the error frames are smoothed to increase the correlation between the motion vectors."
   ]
  },
  {
   "cell_type": "code",
   "execution_count": null,
   "metadata": {},
   "outputs": [],
   "source": [
    "# Copiado de MRVC/src/motion.py\n",
    "OVERLAPPING_AREA_SIDE = 17\n",
    "SEARCH_RANGE = 32\n",
    "def full_search_dense_ME(P, R, sr=SEARCH_RANGE, oas=OVERLAPPING_AREA_SIDE):\n",
    "    assert OVERLAPPING_AREA_SIDE % 2 != 0 # This a requirement of cv.GaussianBLur\n",
    "    extended_R = np.zeros((R.shape[0] + sr, R.shape[1] + sr)) # Ojo, probar extension\n",
    "    extended_R[sr//2 : R.shape[0] + sr//2, sr//2 : R.shape[1] + sr//2] = R\n",
    "    MVs = np.zeros((P.shape[0], P.shape[1], 2), dtype=np.int8)\n",
    "    min_error = np.full((P.shape[0], P.shape[1]), 255, dtype=np.uint8)\n",
    "    for y in range(sr):\n",
    "        print(f\"{y}/{sr - 1}\", end='\\r')\n",
    "        for x in range(sr):\n",
    "            error = extended_R[y : P.shape[0] + y, x : P.shape[1] + x] - P\n",
    "            a_error = abs(error) # Ojo probar MSE\n",
    "            blur_a_error = cv.GaussianBlur(a_error, (oas, oas), 0).astype(np.int)\n",
    "            which_min = blur_a_error <= min_error\n",
    "            MVs[:,:,0] = np.where(which_min, x - sr//2, MVs[:,:,0])\n",
    "            MVs[:,:,1] = np.where(which_min, y - sr//2, MVs[:,:,1])\n",
    "            min_error = np.minimum(min_error, blur_a_error)\n",
    "    return MVs.astype(np.float)"
   ]
  },
  {
   "cell_type": "markdown",
   "metadata": {},
   "source": [
    "## Testing with moving circles (max_abs_motion=1)"
   ]
  },
  {
   "cell_type": "code",
   "execution_count": null,
   "metadata": {},
   "outputs": [],
   "source": [
    "R = frame.read(\"/home/vruiz/MRVC/sequences/moving_circles/\", 0)\n",
    "R_Y = YUV.from_RGB(R.astype(np.int16))[...,0]\n",
    "P = frame.read(\"/home/vruiz/MRVC/sequences/moving_circles/\", 1)\n",
    "P_Y = YUV.from_RGB(P.astype(np.int16))[...,0]"
   ]
  },
  {
   "cell_type": "code",
   "execution_count": null,
   "metadata": {},
   "outputs": [],
   "source": [
    "MVs = full_search_dense_ME(P_Y, R_Y, 16, 17)"
   ]
  },
  {
   "cell_type": "code",
   "execution_count": null,
   "metadata": {},
   "outputs": [],
   "source": [
    "show_vectors(MVs)"
   ]
  },
  {
   "cell_type": "code",
   "execution_count": null,
   "metadata": {},
   "outputs": [],
   "source": [
    "hatP = motion.make_prediction(R, MVs.astype(np.float32))"
   ]
  },
  {
   "cell_type": "code",
   "execution_count": null,
   "metadata": {
    "scrolled": false
   },
   "outputs": [],
   "source": [
    "show_frame(R, \"reference ${\\mathbf R}$\")\n",
    "show_frame(P, \"predicted ${\\mathbf P}$\")\n",
    "show_frame(hatP, \"prediction $\\hat{\\mathbf P}$\")\n",
    "show_frame(normalize(hatP - P), \"prediction error\")"
   ]
  },
  {
   "cell_type": "markdown",
   "metadata": {},
   "source": [
    "## Testing with moving circles (max_abs_motion=2)"
   ]
  },
  {
   "cell_type": "code",
   "execution_count": null,
   "metadata": {},
   "outputs": [],
   "source": [
    "R = frame.read(\"/home/vruiz/MRVC/sequences/moving_circles/\", 0)\n",
    "R_Y = YUV.from_RGB(R.astype(np.int16))[...,0]\n",
    "P = frame.read(\"/home/vruiz/MRVC/sequences/moving_circles/\", 2)\n",
    "P_Y = YUV.from_RGB(P.astype(np.int16))[...,0]"
   ]
  },
  {
   "cell_type": "code",
   "execution_count": null,
   "metadata": {},
   "outputs": [],
   "source": [
    "MVs = full_search_dense_ME(P_Y, R_Y, 16, 17)"
   ]
  },
  {
   "cell_type": "code",
   "execution_count": null,
   "metadata": {},
   "outputs": [],
   "source": [
    "show_vectors(MVs)"
   ]
  },
  {
   "cell_type": "code",
   "execution_count": null,
   "metadata": {},
   "outputs": [],
   "source": [
    "hatP = motion.make_prediction(R, MVs.astype(np.float32))"
   ]
  },
  {
   "cell_type": "code",
   "execution_count": null,
   "metadata": {
    "scrolled": false
   },
   "outputs": [],
   "source": [
    "show_frame(R, \"reference ${\\mathbf R}$\")\n",
    "show_frame(P, \"predicted ${\\mathbf P}$\")\n",
    "show_frame(hatP, \"prediction $\\hat{\\mathbf P}$\")\n",
    "show_frame(normalize(hatP - P), \"prediction error\")"
   ]
  },
  {
   "cell_type": "markdown",
   "metadata": {},
   "source": [
    "## Testing with mobile"
   ]
  },
  {
   "cell_type": "code",
   "execution_count": null,
   "metadata": {},
   "outputs": [],
   "source": [
    "R = frame.read(\"/home/vruiz/MRVC/sequences/mobile/\", 0)\n",
    "R_Y = YUV.from_RGB(R.astype(np.int16))[...,0]\n",
    "P = frame.read(\"/home/vruiz/MRVC/sequences/mobile/\", 1)\n",
    "P_Y = YUV.from_RGB(P.astype(np.int16))[...,0]"
   ]
  },
  {
   "cell_type": "code",
   "execution_count": null,
   "metadata": {},
   "outputs": [],
   "source": [
    "MVs = full_search_dense_ME(P_Y, R_Y, 16, 17)"
   ]
  },
  {
   "cell_type": "code",
   "execution_count": null,
   "metadata": {},
   "outputs": [],
   "source": [
    "show_vectors(MVs[::10, ::10])"
   ]
  },
  {
   "cell_type": "code",
   "execution_count": null,
   "metadata": {},
   "outputs": [],
   "source": [
    "hatP = motion.make_prediction(R, MVs.astype(np.float32))"
   ]
  },
  {
   "cell_type": "code",
   "execution_count": null,
   "metadata": {
    "scrolled": false
   },
   "outputs": [],
   "source": [
    "show_frame(R, \"reference ${\\mathbf R}$\")\n",
    "show_frame(P, \"predicted ${\\mathbf P}$\")\n",
    "show_frame(hatP, \"prediction $\\hat{\\mathbf P}$\")\n",
    "show_frame(normalize(hatP - P), \"prediction error\")"
   ]
  },
  {
   "cell_type": "markdown",
   "metadata": {},
   "source": [
    "## Testing with bus"
   ]
  },
  {
   "cell_type": "code",
   "execution_count": null,
   "metadata": {},
   "outputs": [],
   "source": [
    "R = frame.read(\"/home/vruiz/MRVC/sequences/bus/\", 0)\n",
    "R_Y = YUV.from_RGB(R.astype(np.int16))[...,0]\n",
    "P = frame.read(\"/home/vruiz/MRVC/sequences/bus/\", 1)\n",
    "P_Y = YUV.from_RGB(P.astype(np.int16))[...,0]"
   ]
  },
  {
   "cell_type": "code",
   "execution_count": null,
   "metadata": {},
   "outputs": [],
   "source": [
    "MVs = full_search_dense_ME(P_Y, R_Y, 16, 17)"
   ]
  },
  {
   "cell_type": "code",
   "execution_count": null,
   "metadata": {},
   "outputs": [],
   "source": [
    "show_vectors(MVs[::10, ::10])"
   ]
  },
  {
   "cell_type": "code",
   "execution_count": null,
   "metadata": {},
   "outputs": [],
   "source": [
    "hatP = motion.make_prediction(R, MVs.astype(np.float32))"
   ]
  },
  {
   "cell_type": "code",
   "execution_count": null,
   "metadata": {
    "scrolled": false
   },
   "outputs": [],
   "source": [
    "show_frame(R, \"reference ${\\mathbf R}$\")\n",
    "show_frame(P, \"predicted ${\\mathbf P}$\")\n",
    "show_frame(hatP, \"prediction $\\hat{\\mathbf P}$\")\n",
    "show_frame(normalize(hatP - P), \"prediction error\")"
   ]
  },
  {
   "cell_type": "markdown",
   "metadata": {},
   "source": [
    "## Testing with a tile of stockholm"
   ]
  },
  {
   "cell_type": "code",
   "execution_count": null,
   "metadata": {},
   "outputs": [],
   "source": [
    "prefix = \"/home/vruiz/MRVC/sequences/stockholm/\"\n",
    "R = frame.read(prefix, 0)[100:356,100:612]\n",
    "P = frame.read(prefix, 1)[100:356,100:612]\n",
    "R_Y = YUV.from_RGB(R.astype(np.int16))[...,0]\n",
    "P_Y = YUV.from_RGB(P.astype(np.int16))[...,0]"
   ]
  },
  {
   "cell_type": "code",
   "execution_count": null,
   "metadata": {},
   "outputs": [],
   "source": [
    "MVs = full_search_dense_ME(P_Y, R_Y, 16, 17)"
   ]
  },
  {
   "cell_type": "code",
   "execution_count": null,
   "metadata": {},
   "outputs": [],
   "source": [
    "entropy = information.entropy(MVs.flatten())\n",
    "show_vectors(MVs[::10, ::10], title=\"${\\mathbf V}$ (dense ME) \" + f\"entropy={entropy:1.2f} bits/component\" + f\", {MVs.size} components\")"
   ]
  },
  {
   "cell_type": "code",
   "execution_count": null,
   "metadata": {},
   "outputs": [],
   "source": [
    "hat_P = motion.make_prediction(R, MVs.astype(np.float32))"
   ]
  },
  {
   "cell_type": "code",
   "execution_count": null,
   "metadata": {
    "scrolled": false
   },
   "outputs": [],
   "source": [
    "show_frame(R, \"${\\mathbf R}$\")\n",
    "show_frame(P, \"${\\mathbf P}$\")\n",
    "show_frame(hat_P, \"$\\hat{\\mathbf P}$ (dense ME)\")\n",
    "P_hat_P = P - hat_P + 128\n",
    "entropy = information.entropy(P_hat_P.flatten())\n",
    "show_frame(P_hat_P, \"${\\mathbf P}$ - $\\hat{\\mathbf P}$ (dense ME)\" + f\" entropy={entropy:1.2f} bits/pixel\")"
   ]
  },
  {
   "cell_type": "code",
   "execution_count": null,
   "metadata": {},
   "outputs": [],
   "source": []
  }
 ],
 "metadata": {
  "kernelspec": {
   "display_name": "Python 3",
   "language": "python",
   "name": "python3"
  },
  "language_info": {
   "codemirror_mode": {
    "name": "ipython",
    "version": 3
   },
   "file_extension": ".py",
   "mimetype": "text/x-python",
   "name": "python",
   "nbconvert_exporter": "python",
   "pygments_lexer": "ipython3",
   "version": "3.9.9"
  }
 },
 "nbformat": 4,
 "nbformat_minor": 4
}

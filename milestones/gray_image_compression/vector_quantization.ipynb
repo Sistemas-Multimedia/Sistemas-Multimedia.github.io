{
 "cells": [
  {
   "cell_type": "code",
   "execution_count": null,
   "metadata": {},
   "outputs": [],
   "source": [
    "%matplotlib inline"
   ]
  },
  {
   "cell_type": "markdown",
   "metadata": {},
   "source": [
    "\n",
    "# Vector Quantization\n",
    "\n",
    "Spatial VQ using K-means."
   ]
  },
  {
   "cell_type": "code",
   "execution_count": null,
   "metadata": {},
   "outputs": [],
   "source": [
    "!ln -sf ~/MRVC/src/logging_config.py .\n",
    "!ln -sf ~/repos/quantization/deadzone_quantizer.py .\n",
    "!ln -sf ~/repos/quantization/distortion.py .\n",
    "!ln -sf ~/MRVC/src/image_1.py .\n",
    "#!ln -sf ~/repos/quantization/information.py ."
   ]
  },
  {
   "cell_type": "code",
   "execution_count": null,
   "metadata": {},
   "outputs": [],
   "source": [
    "import numpy as np\n",
    "import scipy as sp\n",
    "import matplotlib.pyplot as plt\n",
    "from sklearn import cluster\n",
    "import os\n",
    "import pylab\n",
    "import image_1 as gray_image\n",
    "import distortion\n",
    "import math"
   ]
  },
  {
   "cell_type": "markdown",
   "metadata": {},
   "source": [
    "## Configuration"
   ]
  },
  {
   "cell_type": "code",
   "execution_count": null,
   "metadata": {},
   "outputs": [],
   "source": [
    "home = os.environ[\"HOME\"]\n",
    "fn = home + \"/MRVC/images/lena_bw/\"\n",
    "block_width = 16\n",
    "block_height = 16\n",
    "n_clusters = 256  # Number of bins\n",
    "N_tries = 3  # Number of times K-means is run\n",
    "N_bins = range(2, 128, 1)\n",
    "gray_image.write = gray_image.debug_write # faster\n",
    "#gray_image.write = gray_image.write # higher compression"
   ]
  },
  {
   "cell_type": "markdown",
   "metadata": {},
   "source": [
    "## Read the image and show it"
   ]
  },
  {
   "cell_type": "code",
   "execution_count": null,
   "metadata": {},
   "outputs": [],
   "source": [
    "img = gray_image.read(fn, 0)\n",
    "gray_image.show(img, fn + \"000.png\")"
   ]
  },
  {
   "cell_type": "markdown",
   "metadata": {},
   "source": [
    "## Example"
   ]
  },
  {
   "cell_type": "code",
   "execution_count": null,
   "metadata": {},
   "outputs": [],
   "source": [
    "block_length = block_width*block_height\n",
    "np.random.seed(seed=1)  # makes the random numbers predictable\n",
    "k_means = cluster.KMeans(init=\"k-means++\", n_clusters=n_clusters, n_init=N_tries)\n",
    "blocks = []\n",
    "for i in range(0, img.shape[0], block_width):\n",
    "    for j in range(0, img.shape[1], block_height):\n",
    "        blocks.append(np.reshape(img[i:i + block_width, j:j + block_height], block_length))\n",
    "blocks = np.asarray(blocks).astype(float)\n",
    "k_means.fit(blocks)\n",
    "centroids = k_means.cluster_centers_.squeeze().astype(np.uint8)  # the code-book\n",
    "labels = k_means.labels_  # Labels of the centroids\n",
    "\n",
    "labels = labels.reshape(img.shape[0]//block_height, img.shape[1]//block_width)\n",
    "img_dequantized = np.empty_like(img)\n",
    "for i in range(0, img.shape[0], block_width):\n",
    "    for j in range(0, img.shape[1], block_height):\n",
    "        img_dequantized[i:i + block_width, j:j + block_height] = centroids[labels[i//block_width,j//block_height]].reshape(block_height, block_width)"
   ]
  },
  {
   "cell_type": "code",
   "execution_count": null,
   "metadata": {},
   "outputs": [],
   "source": [
    "gray_image.show(img_dequantized, \"Dequantized Image\")\n",
    "assert len(centroids) == n_clusters\n",
    "print(\"centroids =\\n\", centroids)\n",
    "bits_per_block = int(math.log(n_clusters)/math.log(2))\n",
    "print(f\"{len(centroids)} centroids ({bits_per_block} bits/block)\")\n",
    "blocks_in_y = img.shape[0]//block_height\n",
    "blocks_in_x = img.shape[1]//block_width\n",
    "print(f\"{blocks_in_y}x{blocks_in_x} blocks (vectors) in the image\")\n",
    "number_of_blocks = blocks_in_y*blocks_in_x\n",
    "total_number_of_bits = number_of_blocks*bits_per_block\n",
    "print(f\"total number of output bytes = {total_number_of_bits//8}\")"
   ]
  },
  {
   "cell_type": "code",
   "execution_count": null,
   "metadata": {},
   "outputs": [],
   "source": [
    "\n"
   ]
  },
  {
   "cell_type": "code",
   "execution_count": null,
   "metadata": {
    "scrolled": false
   },
   "outputs": [],
   "source": [
    "def RD_curve(img, N_bins):\n",
    "    points = []\n",
    "    flatten_img = img.reshape((-1, 1))  # flatten\n",
    "    for n in N_bins:\n",
    "        k_means = cluster.KMeans(n_clusters=n, n_init=N_tries)\n",
    "        k_means.fit(flatten_img)\n",
    "        centroids = k_means.cluster_centers_.squeeze().astype(np.uint8)  # Centroids\n",
    "        k = k_means.labels_.astype(np.uint8)  # Labels of the centroids\n",
    "        #y = np.choose(k, centroids)\n",
    "        y = centroids[k[range(len(k))]]\n",
    "        y.shape = img.shape\n",
    "        k.shape = img.shape\n",
    "        print(\"Quantization indexes: \", np.unique(k))\n",
    "        rate = gray_image.write(k, \"/tmp/\" + str(n) + '_', 0)*8/k.size\n",
    "        _distortion = distortion.RMSE(img, y)\n",
    "        if n<16:\n",
    "            plt.imshow(y, cmap=plt.cm.gray, vmin=0, vmax=256)\n",
    "            plt.show()\n",
    "        points.append((rate, _distortion))\n",
    "        print(f\"n={n:>3}, rate={rate:>7} bits/pixel, distortion={_distortion:>6.1f}\")\n",
    "    return points\n",
    "\n",
    "RD_points = RD_curve(img, N_bins)"
   ]
  },
  {
   "cell_type": "code",
   "execution_count": null,
   "metadata": {},
   "outputs": [],
   "source": [
    "pylab.figure(dpi=150)\n",
    "pylab.scatter(*zip(*RD_points), label=f\"K-means PNG\", s=1, marker='.')\n",
    "#pylab.plot(*zip(*RD_points), c='m', marker='x', label=f\"K-means\", linestyle=\"dotted\")\n",
    "pylab.title(f\"Rate/Distortion Performance\")\n",
    "pylab.xlabel(\"Bits/Pixel\")\n",
    "pylab.ylabel(\"RMSE\")\n",
    "pylab.legend(loc='upper right')\n",
    "pylab.show()"
   ]
  },
  {
   "cell_type": "code",
   "execution_count": null,
   "metadata": {},
   "outputs": [],
   "source": [
    "with open(f\"Lloyd-Max_RD_points.txt\", 'w') as f:\n",
    "    for item in RD_points:\n",
    "        f.write(f\"{item[0]}\\t{item[1]}\\n\")"
   ]
  }
 ],
 "metadata": {
  "kernelspec": {
   "display_name": "Python 3 (ipykernel)",
   "language": "python",
   "name": "python3"
  },
  "language_info": {
   "codemirror_mode": {
    "name": "ipython",
    "version": 3
   },
   "file_extension": ".py",
   "mimetype": "text/x-python",
   "name": "python",
   "nbconvert_exporter": "python",
   "pygments_lexer": "ipython3",
   "version": "3.10.2"
  }
 },
 "nbformat": 4,
 "nbformat_minor": 1
}

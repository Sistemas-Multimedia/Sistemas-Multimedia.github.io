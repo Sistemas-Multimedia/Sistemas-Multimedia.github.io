{
 "cells": [
  {
   "cell_type": "markdown",
   "metadata": {},
   "source": [
    "[![Binder](https://mybinder.org/badge_logo.svg)](https://nbviewer.org/github/Sistemas-Multimedia/Sistemas-Multimedia.github.io/blob/master/milestones/07-DCT/block_DCT_compression.ipynb)"
   ]
  },
  {
   "cell_type": "markdown",
   "metadata": {},
   "source": [
    "# III... video compression"
   ]
  },
  {
   "cell_type": "markdown",
   "metadata": {},
   "source": [
    "## Parameters"
   ]
  },
  {
   "cell_type": "code",
   "execution_count": null,
   "metadata": {},
   "outputs": [],
   "source": [
    "import numpy as np\n",
    "import matplotlib\n",
    "import matplotlib.pyplot as plt\n",
    "%matplotlib inline\n",
    "!ln -sf ~/MRVC/src/image_3.py .\n",
    "import image_3 as image\n",
    "!ln -sf ~/MRVC/src/image_1.py .\n",
    "import image_1 as component\n",
    "!ln -sf ~/MRVC/src/block_DCT.py .\n",
    "!ln -sf ~/MRVC/src/YCoCg.py .\n",
    "import YCoCg as color\n",
    "#!ln -sf ~/MRVC/src/color_DCT.py .\n",
    "#import color_DCT as color\n",
    "#!ln -sf ~/MRVC/src/RGB.py .\n",
    "#import RGB as color\n",
    "import cv2 # pip install opencv-python\n",
    "!ln -sf ~/quantization/information.py .\n",
    "import information\n",
    "!ln -sf ~/quantization/distortion.py .\n",
    "import distortion\n",
    "import os\n",
    "import pylab\n",
    "!ln -sf ~/quantization/deadzone_quantizer.py .\n",
    "import deadzone_quantizer as Q\n",
    "import math\n",
    "import block_DCT as DCT"
   ]
  },
  {
   "cell_type": "code",
   "execution_count": null,
   "metadata": {},
   "outputs": [],
   "source": [
    "G = 2 # GOP size"
   ]
  },
  {
   "cell_type": "code",
   "execution_count": null,
   "metadata": {},
   "outputs": [],
   "source": [
    "!~/MRVC/sequences/container/runme.sh -n $G"
   ]
  },
  {
   "cell_type": "code",
   "execution_count": null,
   "metadata": {},
   "outputs": [],
   "source": [
    "sequence = \"/tmp/original_\""
   ]
  },
  {
   "cell_type": "code",
   "execution_count": null,
   "metadata": {},
   "outputs": [],
   "source": [
    "block_y_side = block_x_side = 8"
   ]
  },
  {
   "cell_type": "code",
   "execution_count": null,
   "metadata": {},
   "outputs": [],
   "source": [
    "N_components = 3"
   ]
  },
  {
   "cell_type": "code",
   "execution_count": null,
   "metadata": {},
   "outputs": [],
   "source": [
    "entropy_estimator = \"PNG\"\n",
    "if entropy_estimator == \"PNG\":\n",
    "    def compute_BPP(_image, filename_prefix, index):\n",
    "        BPP = image.write(_image, filename_prefix, index)*8/_image.size\n",
    "        return BPP\n",
    "else:\n",
    "    def compute_BPP(_image, filename_prefix, index):\n",
    "        entropy = information.entropy(_image.flatten().astype(np.int16))\n",
    "        return entropy"
   ]
  },
  {
   "cell_type": "markdown",
   "metadata": {},
   "source": [
    "## Quantization steps"
   ]
  },
  {
   "cell_type": "code",
   "execution_count": null,
   "metadata": {},
   "outputs": [],
   "source": [
    "Q_steps = [128, 64, 32, 16, 8]"
   ]
  },
  {
   "cell_type": "markdown",
   "metadata": {},
   "source": [
    "## Using same $\\Delta$ for all coefficients"
   ]
  },
  {
   "cell_type": "markdown",
   "metadata": {},
   "source": [
    "### Version 0: Each (quantization indexes) decomposition is written in a different PNG file"
   ]
  },
  {
   "cell_type": "code",
   "execution_count": null,
   "metadata": {},
   "outputs": [],
   "source": [
    "RD_points_no_RDO = []\n",
    "for Q_step in Q_steps:\n",
    "    acc_BPP = 0 # Accacumulated rate\n",
    "    acc_MSE = 0 # Accumulated distortion\n",
    "    for i in range(G):\n",
    "        x = image.read(sequence, i)\n",
    "        xx = color.from_RGB(x.astype(np.int16) - 128)\n",
    "        yy = DCT.analyze_image(xx, block_y_side, block_x_side)\n",
    "        yy_k = DCT.uniform_quantize(yy, block_y_side, block_x_side, N_components, Q_step)\n",
    "        yy_dQ = DCT.uniform_dequantize(yy_k, block_y_side, block_x_side, N_components, Q_step)\n",
    "        zz_dQ = DCT.synthesize_image(yy_dQ, block_y_side, block_x_side)\n",
    "        z_dQ = color.to_RGB(zz_dQ) + 128\n",
    "        MSE = distortion.MSE(x, z_dQ)\n",
    "        acc_MSE += MSE\n",
    "        yy_k_subbands = DCT.get_subbands(yy_k, block_y_side, block_x_side)\n",
    "        assert (yy_k_subbands.all() >= -128), f\"min value = {np.min(yy_k_subbands)}\"\n",
    "        assert (yy_k_subbands.all() <= 127), f\"min value = {np.max(yy_k_subbands)}\"\n",
    "        if __debug__:\n",
    "            print(np.min(yy_k_subbands), np.max(yy_k_subbands))\n",
    "        BPP = compute_BPP((yy_k_subbands + 128).astype(np.uint8), f\"/tmp/{Q_step}_\", i)\n",
    "        acc_BPP += BPP\n",
    "    RD_points_no_RDO.append((acc_BPP/G, acc_MSE/G))\n",
    "    print(i, Q_step, end=' ', flush=True)"
   ]
  },
  {
   "cell_type": "code",
   "execution_count": null,
   "metadata": {
    "scrolled": true
   },
   "outputs": [],
   "source": [
    "RD_points_no_RDO"
   ]
  },
  {
   "cell_type": "markdown",
   "metadata": {},
   "source": [
    "### Version 1: All (quantization indexes) decomposition are concatenated and then written into a single PNG file"
   ]
  },
  {
   "cell_type": "code",
   "execution_count": null,
   "metadata": {
    "scrolled": true
   },
   "outputs": [],
   "source": [
    "RD_points_no_RDO_one_PNG = []\n",
    "for Q_step in Q_steps:\n",
    "    avg_MSE = 0\n",
    "    sequence_of_quantized_decompositions = []\n",
    "    for i in range(G):\n",
    "        x = image.read(sequence, i)\n",
    "        xx = color.from_RGB(x.astype(np.int16) - 128)\n",
    "        yy = DCT.analyze_image(xx, block_y_side, block_x_side)\n",
    "        yy_k = DCT.uniform_quantize(yy, block_y_side, block_x_side, N_components, Q_step)\n",
    "        yy_dQ = DCT.uniform_dequantize(yy_k, block_y_side, block_x_side, N_components, Q_step)\n",
    "        zz_dQ = DCT.synthesize_image(yy_dQ, block_y_side, block_x_side)\n",
    "        z_dQ = color.to_RGB(zz_dQ) + 128\n",
    "        MSE = distortion.MSE(x, z_dQ)\n",
    "        avg_MSE += MSE\n",
    "        yy_k_subbands = DCT.get_subbands(yy_k, block_y_side, block_x_side)\n",
    "        sequence_of_quantized_decompositions.append(yy_k_subbands)\n",
    "    concatenation = np.concatenate(sequence_of_quantized_decompositions)\n",
    "    assert (concatenation.all() >= -128), f\"min value = {np.min(concatenation)}\"\n",
    "    assert (concatenation.all() <= 127), f\"min value = {np.max(concatenation)}\"\n",
    "    if __debug__:\n",
    "        print(np.min(concatenation), np.max(concatenation))\n",
    "    BPP = compute_BPP((concatenation + 128).astype(np.uint8), f\"/tmp/{Q_step}_\", 0)\n",
    "    RD_points_no_RDO_one_PNG.append((BPP, avg_MSE/G))\n",
    "    print(i, Q_step, end=' ', flush=True)"
   ]
  },
  {
   "cell_type": "code",
   "execution_count": null,
   "metadata": {},
   "outputs": [],
   "source": [
    "RD_points_no_RDO_one_PNG"
   ]
  },
  {
   "cell_type": "code",
   "execution_count": null,
   "metadata": {},
   "outputs": [],
   "source": [
    "pylab.figure(dpi=150)\n",
    "pylab.plot(*zip(*RD_points_no_RDO), label=\"Different PNG files\")\n",
    "pylab.plot(*zip(*RD_points_no_RDO_one_PNG), label=\"One PNG file\")\n",
    "pylab.title(\"\")\n",
    "pylab.xlabel(\"BPP\")\n",
    "pylab.ylabel(\"MSE\")\n",
    "plt.legend(loc=\"best\")\n",
    "pylab.show()"
   ]
  },
  {
   "cell_type": "markdown",
   "metadata": {},
   "source": [
    "The differences are insignificant."
   ]
  },
  {
   "cell_type": "markdown",
   "metadata": {},
   "source": [
    "## Using RDO (Rate/Distortion Optimization)"
   ]
  },
  {
   "cell_type": "markdown",
   "metadata": {},
   "source": [
    "### Find the optimal progression of combinations of quantization steps\n",
    "Each input frame is transformed. The resulting subband-components are quantized and their RD contribution estimated, supossing that the distortion can be measured in the transform domain, and the spatial/statistical decorrelation of the entropy codec between subband-components is zero."
   ]
  },
  {
   "cell_type": "code",
   "execution_count": null,
   "metadata": {},
   "outputs": [],
   "source": [
    "RD_points = []\n",
    "RD_slopes = []\n",
    "N_components = xx.shape[2]\n",
    "single_list = []\n",
    "counter = 0\n",
    "\n",
    "for frame_number in range(G):\n",
    "    x = image.read(sequence, frame_number)\n",
    "    blocks_in_y = x.shape[0]//block_y_side\n",
    "    blocks_in_x = x.shape[1]//block_x_side\n",
    "\n",
    "    xx = color.from_RGB(x.astype(np.int16))\n",
    "    xx[...,0] -= np.average(xx[...,0]).astype(np.int16)\n",
    "    xx[...,1] -= np.average(xx[...,1]).astype(np.int16)\n",
    "    xx[...,2] -= np.average(xx[...,2]).astype(np.int16)\n",
    "\n",
    "    yy = DCT.analyze_image(xx, block_y_side, block_x_side)\n",
    "    yy = DCT.get_subbands(yy, block_y_side, block_x_side)\n",
    "\n",
    "    for _y in range(block_y_side):\n",
    "        for _x in range(block_x_side):\n",
    "            for _c in range(N_components):\n",
    "                sbc = yy[blocks_in_y*_y : blocks_in_y*(_y + 1),\n",
    "                         blocks_in_x*_x : blocks_in_x*(_x + 1),\n",
    "                         _c]\n",
    "                sbc_energy = information.average_energy(sbc)\n",
    "                # The first point of each RD curve has a maximum distortion equal\n",
    "                # to the energy of the subband and a rate = 0\n",
    "                RD_points.append([(0, sbc_energy)]) # (Rate, Distortion) of a subband-component of a frame\n",
    "                RD_slopes.append([])\n",
    "                counter += 1\n",
    "    print(counter)\n",
    "    #input()\n",
    "\n",
    "    for _y in range(block_y_side):\n",
    "        for _x in range(block_x_side):\n",
    "            for _c in range(N_components):\n",
    "                sbc = yy[blocks_in_y*_y : blocks_in_y*(_y + 1),\n",
    "                         blocks_in_x*_x : blocks_in_x*(_x + 1),\n",
    "                         _c]\n",
    "                frame_subband_component_number = 0\n",
    "                for Q_step in Q_steps:\n",
    "                    sbc_k = Q.quantize(sbc, Q_step)\n",
    "                    sbc_dQ = Q.dequantize(sbc_k, Q_step)\n",
    "                    MSE = distortion.MSE(sbc, sbc_dQ)\n",
    "                    assert (sbc_k.all() >= 0), f\"min value = {np.min(sbc_k)}\"\n",
    "                    assert (sbc_k.all() <= 255), f\"min value = {np.max(sbc_k)}\"\n",
    "                    BPP = component.write(sbc_k.astype(np.uint8), f\"/tmp/{_y}_{_x}_{Q_step}_\", 0)*8/xx.size\n",
    "                    #BPP_Q_indexes = information.PNG_BPP((Q_indexes.astype(np.int32) + 32768).astype(np.uint16), \"/tmp/BPP_\")[0]\n",
    "                    #BPP_Q_indexes = information.entropy(Q_indexes.astype(np.int16).flatten())\n",
    "                    point = (BPP, MSE)\n",
    "                    RD_points[frame_number*block_y_side*block_x_side*N_components + (_y*block_x_side + _x)*N_components + _c].append(point)\n",
    "                    print(\"Q_step =\", Q_step, \"BPP =\", point[0], \"MSE =\", point[1])\n",
    "                    delta_BPP = BPP - RD_points[frame_number*block_y_side*block_x_side*N_components + (_y*block_x_side + _x)*N_components + _c][frame_subband_component_number][0]\n",
    "                    delta_MSE = RD_points[frame_number*block_y_side*block_x_side*N_components + (_y*block_x_side + _x)*N_components + _c][frame_subband_component_number][1] - MSE\n",
    "                    if delta_BPP > 0:\n",
    "                        slope = delta_MSE/delta_BPP\n",
    "                        RD_slopes[frame_number*block_y_side*block_x_side*N_components + (_y*block_x_side + _x)*N_components + _c].append((slope, (frame_number, _y, _x, _c), Q_step))\n",
    "                    else:\n",
    "                        slope = 0\n",
    "                    frame_subband_component_number += 1\n",
    "\n",
    "    def filter_slopes(slopes):\n",
    "        filtered_slopes = []\n",
    "        slopes_iterator = iter(slopes)\n",
    "        prev = next(slopes_iterator)\n",
    "        for curr in slopes_iterator:\n",
    "            if prev[0] < curr[0]:\n",
    "                print(f\"deleted {prev}\")\n",
    "            else:\n",
    "                filtered_slopes.append(prev)\n",
    "            prev = curr\n",
    "        filtered_slopes.append(prev)\n",
    "        return filtered_slopes\n",
    "\n",
    "    filtered_slopes = []\n",
    "    for i in RD_slopes:\n",
    "        filtered_slopes.append(filter_slopes(i))\n",
    "\n",
    "    for l in filtered_slopes:\n",
    "        #l = filter_slopes(l)\n",
    "        for i in l:\n",
    "            #if i[1] > 0:\n",
    "            single_list.append(i)"
   ]
  },
  {
   "cell_type": "code",
   "execution_count": null,
   "metadata": {},
   "outputs": [],
   "source": [
    "sorted_slopes = sorted(single_list, key=lambda x: x[0])[::-1]"
   ]
  },
  {
   "cell_type": "code",
   "execution_count": null,
   "metadata": {},
   "outputs": [],
   "source": [
    "sorted_slopes"
   ]
  },
  {
   "cell_type": "markdown",
   "metadata": {},
   "source": [
    "## Build the optimal RD curve\n",
    "For each quantization steps combination, again, compute the distortion in the transform domain, but now the rate contribution is measured compressing all the decompositions."
   ]
  },
  {
   "cell_type": "code",
   "execution_count": null,
   "metadata": {
    "scrolled": true
   },
   "outputs": [],
   "source": [
    "frame = image.read(sequence, frame_number) # Used only to get the shape\n",
    "blocks_in_y = frame.shape[0]//block_y_side\n",
    "blocks_in_x = frame.shape[1]//block_x_side\n",
    "decomposed_GOF = []\n",
    "for frame_number in range(G):\n",
    "    frame = image.read(sequence, frame_number)\n",
    "    YUV_frame = color.from_RGB(frame.astype(np.int16))\n",
    "    YUV_frame[...,0] -= np.average(YUV_frame[...,0]).astype(np.int16)\n",
    "    YUV_frame[...,1] -= np.average(YUV_frame[...,1]).astype(np.int16)\n",
    "    YUV_frame[...,2] -= np.average(YUV_frame[...,2]).astype(np.int16)\n",
    "    DCT_blocks = DCT.analyze_image(YUV_frame, block_y_side, block_x_side)\n",
    "    DCT_decomposition = DCT.get_subbands(DCT_blocks, block_y_side, block_x_side)\n",
    "    decomposed_GOF.append(DCT_decomposition)\n",
    "\n",
    "optimal_RD_points = []\n",
    "Q_steps_combinations = []\n",
    "reconstructed_decompositions = []\n",
    "for i in range(G):\n",
    "    reconstructed_decompositions.append(np.zeros_like(decomposed_GOF[0]))\n",
    "    Q_steps_combinations.append(np.full(shape=(block_x_side, block_y_side, N_components), fill_value=99999999))\n",
    "    \n",
    "for s in sorted_slopes:\n",
    "    sbc_index = s[1]\n",
    "    decomposition = sbc_index[0]\n",
    "    _y = sbc_index[1]\n",
    "    _x = sbc_index[2]\n",
    "    _c = sbc_index[3]\n",
    "    reconstructed_decompositions\n",
    "        [decomposition]\n",
    "        [blocks_in_y*_y : blocks_in_y*(_y + 1), blocks_in_x*_x : blocks_in_x*(_x + 1), c]\n",
    "        = decomposed_GOF[decomposition]\n",
    "                        [blocks_in_y*_y : blocks_in_y*(_y + 1), blocks_in_x*_x : blocks_in_x*(_x + 1), _c]\n",
    "    Q_steps_combination[decomposition][_y, _x, _c] = s[2]\n",
    "    yy_prog_k = DCT.quantize(yy_prog, Q_steps_combination)\n",
    "    yy_prog_dQ = DCT.dequantize(yy_prog_k, Q_steps_combination)\n",
    "    \n",
    "    MSE = distortion.MSE(yy, yy_prog_dQ)\n",
    "\n",
    "    BPP = image.write((yy_prog_k + 128).astype(np.uint8), f\"/tmp/{_y}_{_x}_{_c}_{s[0]}_\", 0)*8/xx.size\n",
    "    point = (BPP, MSE)\n",
    "    print(\"sbc =\", sbc_index, \"Q_step =\", s[2], \"BPP =\", BPP, \"MSE =\", MSE)\n",
    "    optimal_RD_points.append(point)"
   ]
  },
  {
   "cell_type": "markdown",
   "metadata": {},
   "source": [
    "## Compare"
   ]
  },
  {
   "cell_type": "code",
   "execution_count": null,
   "metadata": {},
   "outputs": [],
   "source": [
    "pylab.figure(dpi=150)\n",
    "pylab.plot(*zip(*RD_points_no_RDO), label=\"No RDO\")\n",
    "pylab.plot(*zip(*optimal_RD_points), label=\"Using RDO\")\n",
    "pylab.title(\"Effect of using RDO\")\n",
    "pylab.xlabel(\"Bits/Pixel\")\n",
    "pylab.ylabel(\"MSE\")\n",
    "plt.legend(loc=\"best\")\n",
    "#pylab.yscale('log')\n",
    "#pylab.xscale('log')\n",
    "pylab.show()"
   ]
  }
 ],
 "metadata": {
  "kernelspec": {
   "display_name": "Python 3 (ipykernel)",
   "language": "python",
   "name": "python3"
  },
  "language_info": {
   "codemirror_mode": {
    "name": "ipython",
    "version": 3
   },
   "file_extension": ".py",
   "mimetype": "text/x-python",
   "name": "python",
   "nbconvert_exporter": "python",
   "pygments_lexer": "ipython3",
   "version": "3.10.0"
  }
 },
 "nbformat": 4,
 "nbformat_minor": 4
}

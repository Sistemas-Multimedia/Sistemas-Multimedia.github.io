{
 "cells": [
  {
   "cell_type": "markdown",
   "metadata": {},
   "source": [
    "[![Binder](https://mybinder.org/badge_logo.svg)](https://nbviewer.org/github/Sistemas-Multimedia/Sistemas-Multimedia.github.io/blob/master/milestones/07-DCT/block_DCT_compression.ipynb)"
   ]
  },
  {
   "cell_type": "markdown",
   "metadata": {},
   "source": [
    "# III... video compression"
   ]
  },
  {
   "cell_type": "markdown",
   "metadata": {},
   "source": [
    "## Parameters"
   ]
  },
  {
   "cell_type": "code",
   "execution_count": null,
   "metadata": {},
   "outputs": [],
   "source": [
    "import numpy as np\n",
    "import matplotlib\n",
    "import matplotlib.pyplot as plt\n",
    "%matplotlib inline\n",
    "!ln -sf ~/MRVC/src/image_3.py .\n",
    "import image_3 as image\n",
    "!ln -sf ~/MRVC/src/image_1.py .\n",
    "import image_1 as component\n",
    "!ln -sf ~/MRVC/src/block_DCT.py .\n",
    "!ln -sf ~/MRVC/src/YCoCg.py .\n",
    "import YCoCg as color\n",
    "#!ln -sf ~/MRVC/src/color_DCT.py .\n",
    "#import color_DCT as color\n",
    "#!ln -sf ~/MRVC/src/RGB.py .\n",
    "#import RGB as color\n",
    "import cv2 # pip install opencv-python\n",
    "!ln -sf ~/quantization/information.py .\n",
    "import information\n",
    "!ln -sf ~/quantization/distortion.py .\n",
    "import distortion\n",
    "import os\n",
    "import pylab\n",
    "!ln -sf ~/quantization/deadzone_quantizer.py .\n",
    "import deadzone_quantizer as Q\n",
    "import math\n",
    "import block_DCT as DCT"
   ]
  },
  {
   "cell_type": "code",
   "execution_count": null,
   "metadata": {},
   "outputs": [],
   "source": [
    "G = 2 # GOP size"
   ]
  },
  {
   "cell_type": "code",
   "execution_count": null,
   "metadata": {},
   "outputs": [],
   "source": [
    "HOME = os.environ[\"HOME\"]\n",
    "!~/MRVC/sequences/container/runme.sh\n",
    "test_image = \"/tmp/original_\""
   ]
  },
  {
   "cell_type": "code",
   "execution_count": null,
   "metadata": {},
   "outputs": [],
   "source": [
    "block_y_side = block_x_side = 8"
   ]
  },
  {
   "cell_type": "code",
   "execution_count": null,
   "metadata": {},
   "outputs": [],
   "source": [
    "N_components = 3"
   ]
  },
  {
   "cell_type": "code",
   "execution_count": null,
   "metadata": {},
   "outputs": [],
   "source": [
    "entropy_estimator = \"PNG\"\n",
    "if entropy_estimator == \"PNG\":\n",
    "    def compute_BPP(_image, filename_prefix):\n",
    "        BPP = image.write(_image, filename_prefix, 0)*8/_image.size\n",
    "        return BPP\n",
    "else:\n",
    "    def compute_BPP(_image, filename_prefix=''):\n",
    "        entropy = information.entropy(_image.flatten().astype(np.int16))\n",
    "        return entropy"
   ]
  },
  {
   "cell_type": "markdown",
   "metadata": {},
   "source": [
    "## Quantization steps"
   ]
  },
  {
   "cell_type": "code",
   "execution_count": null,
   "metadata": {},
   "outputs": [],
   "source": [
    "Q_steps = [128, 64, 32, 16, 8]"
   ]
  },
  {
   "cell_type": "markdown",
   "metadata": {},
   "source": [
    "## Using same $\\Delta$ for all coefficients"
   ]
  },
  {
   "cell_type": "code",
   "execution_count": null,
   "metadata": {},
   "outputs": [],
   "source": [
    "    RD_points_no_RDO = []\n",
    "for i in range(G):\n",
    "    x = image.read(test_image, i)\n",
    "    xx = color.from_RGB(x.astype(np.int16) - 128)\n",
    "\n",
    "    for Q_step in Q_steps:\n",
    "        yy = DCT.analyze_image(xx, block_y_side, block_x_side)\n",
    "        yy_k = DCT.uniform_quantize(yy, block_y_side, block_x_side, N_components, Q_step)\n",
    "        yy_dQ = DCT.uniform_dequantize(yy_k, block_y_side, block_x_side, N_components, Q_step)\n",
    "        zz_dQ = DCT.synthesize_image(yy_dQ, block_y_side, block_x_side)\n",
    "        z_dQ = color.to_RGB(zz_dQ) + 128\n",
    "        MSE = distortion.MSE(x, z_dQ)\n",
    "        yy_k_subbands = DCT.get_subbands(yy_k, block_y_side, block_x_side)\n",
    "        BPP = compute_BPP((yy_k_subbands + 128).astype(np.uint8), f\"/tmp/{Q_step}_\")\n",
    "        RD_points_no_RDO.append((BPP, MSE))\n",
    "        print(i, Q_step, end=' ', flush=True)"
   ]
  },
  {
   "cell_type": "code",
   "execution_count": null,
   "metadata": {},
   "outputs": [],
   "source": [
    "RD_points_no_RDO"
   ]
  },
  {
   "cell_type": "code",
   "execution_count": null,
   "metadata": {},
   "outputs": [],
   "source": [
    "pylab.figure(dpi=150)\n",
    "pylab.plot(*zip(*RD_points_no_RDO), label=\"No RDO\")\n",
    "pylab.title(\"\")\n",
    "pylab.xlabel(\"BPP\")\n",
    "pylab.ylabel(\"MSE\")\n",
    "plt.legend(loc=\"best\")\n",
    "pylab.show()"
   ]
  },
  {
   "cell_type": "markdown",
   "metadata": {},
   "source": [
    "## Using RDO (Rate/Distortion Optimization)"
   ]
  },
  {
   "cell_type": "markdown",
   "metadata": {},
   "source": [
    "### Find the optimal progression of quantization steps"
   ]
  },
  {
   "cell_type": "code",
   "execution_count": null,
   "metadata": {},
   "outputs": [],
   "source": [
    "RD_points = []\n",
    "RD_slopes = []\n",
    "N_components = xx.shape[2]\n",
    "single_list = []\n",
    "\n",
    "for i in range(G):\n",
    "    x = image.read(test_image, i)\n",
    "    blocks_in_y = x.shape[0]//block_y_side\n",
    "    blocks_in_x = x.shape[1]//block_x_side\n",
    "\n",
    "    #xx = color.from_RGB(x.astype(np.int16) - 128)\n",
    "    xx = color.from_RGB(x.astype(np.int16))\n",
    "    xx[...,0] -= np.average(xx[...,0]).astype(np.int16)\n",
    "    xx[...,1] -= np.average(xx[...,1]).astype(np.int16)\n",
    "    xx[...,2] -= np.average(xx[...,2]).astype(np.int16)\n",
    "\n",
    "    yy = DCT.analyze_image(xx, block_y_side, block_x_side)\n",
    "    yy = DCT.get_subbands(yy, block_y_side, block_x_side)\n",
    "\n",
    "    for _y in range(block_y_side):\n",
    "        for _x in range(block_x_side):\n",
    "            for _c in range(N_components):\n",
    "                sbc = yy[blocks_in_y*_y : blocks_in_y*(_y + 1),\n",
    "                         blocks_in_x*_x : blocks_in_x*(_x + 1),\n",
    "                         _c]\n",
    "                sbc_energy = information.average_energy(sbc)\n",
    "                # The first point of each RD curve has a maximum distortion equal\n",
    "                # to the energy of the subband and a rate = 0\n",
    "                RD_points.append([(0, sbc_energy)])\n",
    "                RD_slopes.append([])\n",
    "\n",
    "    for _y in range(block_y_side):\n",
    "        for _x in range(block_x_side):\n",
    "            for _c in range(N_components):\n",
    "                sbc = yy[blocks_in_y*_y : blocks_in_y*(_y + 1),\n",
    "                         blocks_in_x*_x : blocks_in_x*(_x + 1),\n",
    "                        _c]\n",
    "                counter = 0\n",
    "                for Q_step in Q_steps:\n",
    "                    sbc_k = Q.quantize(sbc, Q_step)\n",
    "                    sbc_dQ = Q.dequantize(sbc_k, Q_step)\n",
    "                    MSE = distortion.MSE(sbc, sbc_dQ)\n",
    "                    BPP = component.write(sbc_k.astype(np.uint8), f\"/tmp/{_y}_{_x}_{Q_step}_\", 0)*8/xx.size\n",
    "                    #BPP_Q_indexes = information.PNG_BPP((Q_indexes.astype(np.int32) + 32768).astype(np.uint16), \"/tmp/BPP_\")[0]\n",
    "                    #BPP_Q_indexes = information.entropy(Q_indexes.astype(np.int16).flatten())\n",
    "                    point = (BPP, MSE)\n",
    "                    RD_points[(_y * block_x_side * N_components + _x * N_components ) + _c].append(point)\n",
    "                    print(\"Q_step =\", Q_step, \"BPP =\", point[0], \"MSE =\", point[1])\n",
    "                    delta_BPP = BPP - RD_points[(_y * block_x_side * N_components + _x * N_components ) + _c][counter][0]\n",
    "                    delta_MSE = RD_points[(_y * block_x_side * N_components + _x * N_components ) + _c][counter][1] - MSE\n",
    "                    if delta_BPP > 0:\n",
    "                        slope = delta_MSE/delta_BPP\n",
    "                        RD_slopes[(_y * block_x_side * N_components + _x * N_components) + _c].append((slope, (_y, _x, _c), Q_step))\n",
    "                    else:\n",
    "                        slope = 0\n",
    "                    #RD_slopes[(_y * block_x_side * N_components + _x * N_components) + _c].append((Q_step, slope, (_y, _x, _c)))\n",
    "                    counter += 1\n",
    "\n",
    "    def filter_slopes(slopes):\n",
    "        filtered_slopes = []\n",
    "        slopes_iterator = iter(slopes)\n",
    "        prev = next(slopes_iterator)\n",
    "        for curr in slopes_iterator:\n",
    "            if prev[0] < curr[0]:\n",
    "                print(f\"deleted {prev}\")\n",
    "            else:\n",
    "                filtered_slopes.append(prev)\n",
    "            prev = curr\n",
    "        filtered_slopes.append(prev)\n",
    "        return filtered_slopes\n",
    "\n",
    "    filtered_slopes = []\n",
    "    for i in RD_slopes:\n",
    "        filtered_slopes.append(filter_slopes(i))\n",
    "\n",
    "    for l in filtered_slopes:\n",
    "        #l = filter_slopes(l)\n",
    "        for i in l:\n",
    "            #if i[1] > 0:\n",
    "            single_list.append(i)"
   ]
  },
  {
   "cell_type": "code",
   "execution_count": null,
   "metadata": {},
   "outputs": [],
   "source": [
    "sorted_slopes = sorted(single_list, key=lambda x: x[0])[::-1]"
   ]
  },
  {
   "cell_type": "markdown",
   "metadata": {},
   "source": [
    "## Build the optimal RD curve"
   ]
  },
  {
   "cell_type": "code",
   "execution_count": null,
   "metadata": {
    "scrolled": true
   },
   "outputs": [],
   "source": [
    "optimal_RD_points = []\n",
    "yy_prog = np.zeros_like(yy)\n",
    "Q_steps_combination = np.full(shape=(block_x_side, block_y_side, N_components), fill_value=99999999)\n",
    "for s in sorted_slopes:\n",
    "    sbc_index = s[1]\n",
    "    _y = sbc_index[0]\n",
    "    _x = sbc_index[1]\n",
    "    _c = sbc_index[2]\n",
    "    Q_steps_combination[_y, _x, _c] = s[2]\n",
    "    yy_prog[blocks_in_y*_y : blocks_in_y*(_y + 1),\n",
    "            blocks_in_x*_x : blocks_in_x*(_x + 1),\n",
    "            _c] = yy[blocks_in_y*_y : blocks_in_y*(_y + 1),\n",
    "                     blocks_in_x*_x : blocks_in_x*(_x + 1),\n",
    "                     _c]\n",
    "    yy_prog_k = DCT.quantize(yy_prog, Q_steps_combination)\n",
    "    yy_prog_dQ = DCT.dequantize(yy_prog_k, Q_steps_combination)\n",
    "    \n",
    "    MSE = distortion.MSE(yy, yy_prog_dQ)\n",
    "\n",
    "    BPP = image.write((yy_prog_k + 128).astype(np.uint8), f\"/tmp/{_y}_{_x}_{_c}_{s[0]}_\", 0)*8/xx.size\n",
    "    point = (BPP, MSE)\n",
    "    print(\"sbc =\", sbc_index, \"Q_step =\", s[2], \"BPP =\", BPP, \"MSE =\", MSE)\n",
    "    optimal_RD_points.append(point)"
   ]
  },
  {
   "cell_type": "markdown",
   "metadata": {},
   "source": [
    "## Compare"
   ]
  },
  {
   "cell_type": "code",
   "execution_count": null,
   "metadata": {},
   "outputs": [],
   "source": [
    "pylab.figure(dpi=150)\n",
    "pylab.plot(*zip(*RD_points_no_RDO), label=\"No RDO\")\n",
    "pylab.plot(*zip(*optimal_RD_points), label=\"Using RDO\")\n",
    "pylab.title(\"Effect of using RDO\")\n",
    "pylab.xlabel(\"Bits/Pixel\")\n",
    "pylab.ylabel(\"MSE\")\n",
    "plt.legend(loc=\"best\")\n",
    "#pylab.yscale('log')\n",
    "#pylab.xscale('log')\n",
    "pylab.show()"
   ]
  }
 ],
 "metadata": {
  "kernelspec": {
   "display_name": "Python 3 (ipykernel)",
   "language": "python",
   "name": "python3"
  },
  "language_info": {
   "codemirror_mode": {
    "name": "ipython",
    "version": 3
   },
   "file_extension": ".py",
   "mimetype": "text/x-python",
   "name": "python",
   "nbconvert_exporter": "python",
   "pygments_lexer": "ipython3",
   "version": "3.10.0"
  }
 },
 "nbformat": 4,
 "nbformat_minor": 4
}

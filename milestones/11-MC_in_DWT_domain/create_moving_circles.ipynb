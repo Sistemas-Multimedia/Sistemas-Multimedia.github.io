{
 "cells": [
  {
   "cell_type": "markdown",
   "metadata": {},
   "source": [
    "# Creating 3 images with a moving circle"
   ]
  },
  {
   "cell_type": "code",
   "execution_count": null,
   "metadata": {},
   "outputs": [],
   "source": [
    "import numpy as np\n",
    "import cv2\n",
    "import matplotlib.pyplot as plt\n",
    "import matplotlib.image as mimg\n",
    "%matplotlib inline"
   ]
  },
  {
   "cell_type": "markdown",
   "metadata": {},
   "source": [
    "### Create three images\n",
    "With a circle of diameter 10 that moves from coordinate (30, 20), (30, 21), and (30, 22). (row, column)"
   ]
  },
  {
   "cell_type": "code",
   "execution_count": null,
   "metadata": {
    "scrolled": true
   },
   "outputs": [],
   "source": [
    "%%bash\n",
    "/home/vruiz/MRVC/tools/moving_circle.sh -w 64 -h 64 -x 20 -y 30 -d 10 -f 3\n",
    "mv /tmp/moving_circle_000.png .\n",
    "mv /tmp/moving_circle_001.png .\n",
    "mv /tmp/moving_circle_002.png ."
   ]
  },
  {
   "cell_type": "markdown",
   "metadata": {},
   "source": [
    "### Displaying stuff"
   ]
  },
  {
   "cell_type": "code",
   "execution_count": null,
   "metadata": {},
   "outputs": [],
   "source": [
    "def normalize(img):\n",
    "    max_component = np.max(img)\n",
    "    min_component = np.min(img)\n",
    "    max_min_component = max_component - min_component\n",
    "    return (img-min_component)/max_min_component\n",
    "\n",
    "def show_img(prefix):\n",
    "    img = load_img(prefix)\n",
    "    img = normalize(img)\n",
    "    plt.figure(figsize=(10,10))\n",
    "    plt.title(prefix, fontsize=20)\n",
    "    plt.imshow(img)\n",
    "    \n",
    "def load_frame(prefix):\n",
    "    fn = f\"{prefix}.png\"\n",
    "    print(fn)\n",
    "    frame = cv2.imread(fn, cv2.IMREAD_UNCHANGED) # [rows, columns, components]\n",
    "    frame = cv2.cvtColor(frame, cv2.COLOR_BGR2RGB)\n",
    "    print(frame.max())\n",
    "    frame = np.array(frame)\n",
    "    frame = frame.astype(np.float32) - 32768.0\n",
    "    return frame\n",
    "\n",
    "def write_frame(frame, prefix):\n",
    "    frame = frame.astype(np.float32)\n",
    "    frame += 32768.0\n",
    "    frame = frame.astype(np.uint16)\n",
    "    cv2.imwrite(f\"{prefix}.png\", frame)\n",
    "\n",
    "def show_seq(prefix=\"/tmp/\", frames=5):\n",
    "    for i in range(frames):\n",
    "        show_img(f\"{prefix}{i:03d}\")\n",
    "\n",
    "def show_motion(prefix=\"/tmp/\", frames=5):\n",
    "    plt.figure(figsize=(10,10))\n",
    "    prev = load_frame(f\"{prefix}000\")\n",
    "    imgplot = plt.imshow(normalize(prev))\n",
    "    for i in range(1, frames, 1):\n",
    "        img = load_frame(f\"{prefix}{i:03d}\")\n",
    "        diff = img - prev\n",
    "        prev = img\n",
    "        diff = normalize(diff)\n",
    "        plt.figure(figsize=(10,10))\n",
    "        plt.title(f\"{prefix}{i:03d}\", fontsize=20)\n",
    "        plt.imshow(diff)"
   ]
  },
  {
   "cell_type": "markdown",
   "metadata": {},
   "source": [
    "### Show the sequence"
   ]
  },
  {
   "cell_type": "code",
   "execution_count": null,
   "metadata": {
    "scrolled": false
   },
   "outputs": [],
   "source": [
    "prefix = \"moving_circle_\"\n",
    "show_motion(prefix, frames=3)"
   ]
  },
  {
   "cell_type": "markdown",
   "metadata": {},
   "source": [
    "### Color transform stuff"
   ]
  },
  {
   "cell_type": "code",
   "execution_count": null,
   "metadata": {},
   "outputs": [],
   "source": [
    "def RGB_to_YCoCg(RGB_frame):\n",
    "    R, G, B = RGB_frame[:,:,0], RGB_frame[:,:,1], RGB_frame[:,:,2]\n",
    "    YCoCg_frame = np.empty_like(RGB_frame)\n",
    "    YCoCg_frame[:,:,0] =  R/4 + G/2 + B/4 \n",
    "    YCoCg_frame[:,:,1] =  R/2       - B/2\n",
    "    YCoCg_frame[:,:,2] = -R/4 + G/2 - B/4\n",
    "    return YCoCg_frame"
   ]
  },
  {
   "cell_type": "markdown",
   "metadata": {},
   "source": [
    "### Load the images"
   ]
  },
  {
   "cell_type": "code",
   "execution_count": null,
   "metadata": {
    "scrolled": true
   },
   "outputs": [],
   "source": [
    "frame_0 = load_frame(prefix + \"000\")\n",
    "frame_1 = load_frame(prefix + \"001\")\n",
    "frame_2 = load_frame(prefix + \"002\")\n",
    "write_frame(frame_1-frame_0, \"difference_0\")\n",
    "write_frame(frame_2-frame_0, \"difference_1\")"
   ]
  },
  {
   "cell_type": "markdown",
   "metadata": {},
   "source": [
    "### Work only with luma"
   ]
  },
  {
   "cell_type": "code",
   "execution_count": null,
   "metadata": {},
   "outputs": [],
   "source": [
    "frame_0_Y = RGB_to_YCoCg(frame_0)[:,:,0]\n",
    "frame_1_Y = RGB_to_YCoCg(frame_1)[:,:,0]\n",
    "frame_2_Y = RGB_to_YCoCg(frame_2)[:,:,0]"
   ]
  },
  {
   "cell_type": "code",
   "execution_count": null,
   "metadata": {
    "scrolled": true
   },
   "outputs": [],
   "source": [
    "plt.figure(figsize=(10,10))\n",
    "plt.title(\"Frame 0. Circle at (30, 20)\", fontsize=20)\n",
    "plt.imshow(frame_0_Y, cmap='gray')\n",
    "plt.savefig(\"frame_0_Y.png\")\n",
    "plt.show()"
   ]
  },
  {
   "cell_type": "code",
   "execution_count": null,
   "metadata": {
    "scrolled": true
   },
   "outputs": [],
   "source": [
    "plt.figure(figsize=(10,10))\n",
    "plt.title(\"Frame 1. Circle at (30, 21)\", fontsize=20)\n",
    "plt.imshow(frame_1_Y, cmap='gray')\n",
    "plt.savefig(\"frame_1_Y.png\")\n",
    "plt.show()"
   ]
  },
  {
   "cell_type": "code",
   "execution_count": null,
   "metadata": {
    "scrolled": true
   },
   "outputs": [],
   "source": [
    "plt.figure(figsize=(10,10))\n",
    "plt.title(\"Frame 2. Circle at (30, 22)\", fontsize=20)\n",
    "plt.imshow(frame_2_Y, cmap='gray')\n",
    "plt.savefig(\"frame_2_Y.png\")\n",
    "plt.show()"
   ]
  }
 ],
 "metadata": {
  "kernelspec": {
   "display_name": "Python 3",
   "language": "python",
   "name": "python3"
  },
  "language_info": {
   "codemirror_mode": {
    "name": "ipython",
    "version": 3
   },
   "file_extension": ".py",
   "mimetype": "text/x-python",
   "name": "python",
   "nbconvert_exporter": "python",
   "pygments_lexer": "ipython3",
   "version": "3.9.1"
  }
 },
 "nbformat": 4,
 "nbformat_minor": 4
}

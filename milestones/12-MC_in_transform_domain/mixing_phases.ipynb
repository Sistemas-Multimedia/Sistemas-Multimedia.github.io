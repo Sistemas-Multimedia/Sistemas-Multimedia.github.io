{
 "cells": [
  {
   "cell_type": "code",
   "execution_count": null,
   "metadata": {},
   "outputs": [],
   "source": [
    "import numpy as np\n",
    "%matplotlib inline\n",
    "import matplotlib\n",
    "import matplotlib.pyplot as plt\n",
    "import pywt\n",
    "import math"
   ]
  },
  {
   "cell_type": "code",
   "execution_count": null,
   "metadata": {},
   "outputs": [],
   "source": [
    "signal = np.array([0, 1, 10, 8, 5, 7, 9, 18, 2, 6, 0, 0])\n",
    "print(signal)"
   ]
  },
  {
   "cell_type": "code",
   "execution_count": null,
   "metadata": {},
   "outputs": [],
   "source": [
    "L_phase0, H_phase0 = pywt.dwt(signal, \"haar\")\n",
    "print(L_phase0, H_phase0)"
   ]
  },
  {
   "cell_type": "code",
   "execution_count": null,
   "metadata": {},
   "outputs": [],
   "source": [
    "shifted_signal = np.roll(signal,1)\n",
    "print(shifted_signal)"
   ]
  },
  {
   "cell_type": "code",
   "execution_count": null,
   "metadata": {},
   "outputs": [],
   "source": [
    "L_phase1, H_phase1 = pywt.dwt(shifted_signal, \"haar\")\n",
    "print(L_phase1, H_phase1)"
   ]
  },
  {
   "cell_type": "code",
   "execution_count": null,
   "metadata": {},
   "outputs": [],
   "source": [
    "L_overcomplete = np.empty(len(signal))\n",
    "L_overcomplete[0::2] = L_phase0[:]\n",
    "L_overcomplete[1::2] = L_phase1[:]\n",
    "print(L_overcomplete)"
   ]
  },
  {
   "cell_type": "code",
   "execution_count": null,
   "metadata": {},
   "outputs": [],
   "source": [
    "H_overcomplete = np.empty(len(signal))\n",
    "H_overcomplete[0::2] = H_phase0[:]\n",
    "H_overcomplete[1::2] = H_phase1[:]\n",
    "print(H_overcomplete)"
   ]
  },
  {
   "cell_type": "code",
   "execution_count": null,
   "metadata": {},
   "outputs": [],
   "source": [
    "print(pywt.idwt(L_phase0, H_phase0, \"haar\"))"
   ]
  },
  {
   "cell_type": "code",
   "execution_count": null,
   "metadata": {},
   "outputs": [],
   "source": [
    "print(pywt.idwt(L_phase1, H_phase1, \"haar\"))"
   ]
  },
  {
   "cell_type": "code",
   "execution_count": null,
   "metadata": {},
   "outputs": [],
   "source": [
    "zoom = pywt.waverec([L_phase1, H_phase1, None], \"haar\")*math.sqrt(2)\n",
    "zoom"
   ]
  },
  {
   "cell_type": "code",
   "execution_count": null,
   "metadata": {},
   "outputs": [],
   "source": [
    "print(pywt.idwt(L_phase0, H_phase1, \"haar\"))"
   ]
  },
  {
   "cell_type": "code",
   "execution_count": null,
   "metadata": {},
   "outputs": [],
   "source": [
    "print(pywt.idwt(L_phase1, H_phase0, \"haar\"))"
   ]
  },
  {
   "cell_type": "code",
   "execution_count": null,
   "metadata": {},
   "outputs": [],
   "source": [
    "L_mixed = [L_phase0[0], L_phase1[1], L_phase0[2], L_phase1[3], L_phase0[4], L_phase1[5]]\n",
    "H_mixed = [H_phase0[0], H_phase1[1], H_phase0[2], H_phase1[3], H_phase0[4], H_phase1[5]]\n",
    "print(pywt.idwt(L_mixed, H_mixed, \"haar\"))"
   ]
  },
  {
   "cell_type": "code",
   "execution_count": null,
   "metadata": {},
   "outputs": [],
   "source": [
    "print(pywt.idwt([L_phase0[0]], [H_phase0[0]], \"haar\")[0], end=' ')\n",
    "print(pywt.idwt([L_phase1[1]], [H_phase1[1]], \"haar\")[0], end=' ')\n",
    "print(pywt.idwt([L_phase0[1]], [H_phase0[1]], \"haar\")[0], end=' ')\n",
    "print(pywt.idwt([L_phase1[2]], [H_phase1[2]], \"haar\")[0], end=' ')\n",
    "print(pywt.idwt([L_phase0[2]], [H_phase0[2]], \"haar\")[0], end=' ')\n"
   ]
  },
  {
   "cell_type": "code",
   "execution_count": null,
   "metadata": {},
   "outputs": [],
   "source": []
  },
  {
   "cell_type": "code",
   "execution_count": null,
   "metadata": {},
   "outputs": [],
   "source": [
    "print(pywt.idwt([0, L_phase0[0]], [0, H_phase0[0]], \"haar\"), end=' ')\n",
    "print(pywt.idwt([L_phase1[1], L_phase1[1]], [0, H_phase1[1]], \"haar\"), end=' ')\n",
    "print(pywt.idwt([L_phase0[2], L_phase0[2]], [0, H_phase0[2]], \"haar\"), end=' ')\n",
    "print(pywt.idwt([L_phase0[2]], [H_phase0[2]], \"haar\")[0], end=' ')\n"
   ]
  },
  {
   "cell_type": "code",
   "execution_count": null,
   "metadata": {},
   "outputs": [],
   "source": []
  }
 ],
 "metadata": {
  "kernelspec": {
   "display_name": "Python 3",
   "language": "python",
   "name": "python3"
  },
  "language_info": {
   "codemirror_mode": {
    "name": "ipython",
    "version": 3
   },
   "file_extension": ".py",
   "mimetype": "text/x-python",
   "name": "python",
   "nbconvert_exporter": "python",
   "pygments_lexer": "ipython3",
   "version": "3.9.1"
  }
 },
 "nbformat": 4,
 "nbformat_minor": 4
}

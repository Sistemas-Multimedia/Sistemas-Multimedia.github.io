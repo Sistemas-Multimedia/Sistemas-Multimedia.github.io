{
 "cells": [
  {
   "cell_type": "markdown",
   "metadata": {
    "colab_type": "text",
    "id": "view-in-github"
   },
   "source": [
    "<a href=\"https://colab.research.google.com/github/Sistemas-Multimedia/Sistemas-Multimedia.github.io/blob/master/milestones/04-the_data/display_video.ipynb\" target=\"_parent\"><img src=\"https://colab.research.google.com/assets/colab-badge.svg\" alt=\"Open In Colab\"/></a>"
   ]
  },
  {
   "cell_type": "markdown",
   "metadata": {},
   "source": [
    "# Display a sequence of video"
   ]
  },
  {
   "cell_type": "code",
   "execution_count": null,
   "metadata": {},
   "outputs": [],
   "source": [
    "import numpy as np\n",
    "import cv2 # pip install opencv-python\n",
    "import matplotlib.pyplot as plt\n",
    "import matplotlib.image as mpimg\n",
    "!ln -sf ~/MRVC/src/frame.py .\n",
    "import frame"
   ]
  },
  {
   "cell_type": "code",
   "execution_count": null,
   "metadata": {},
   "outputs": [],
   "source": [
    "def m_erge(frame_):\n",
    "    return cv2.merge((frame_[0], frame_[1], frame_[2]))\n",
    "\n",
    "def show(img, title):\n",
    "    img = frame.normalize(img)\n",
    "    plt.figure(figsize=(10,10))\n",
    "    plt.title(title, fontsize=20)\n",
    "    plt.imshow(img)\n",
    "\n",
    "def show_seq(prefix=\"/tmp/\", n_frames=5):\n",
    "    for i in range(n_frames):\n",
    "        img = frame.read(f\"{prefix}{i:03d}\")\n",
    "        show(img, f\"{prefix}{i:03d}\")\n",
    "\n",
    "def show_motion(prefix=\"/tmp/\", n_frames=5):\n",
    "    plt.figure(figsize=(10,10))\n",
    "    prev = frame.read(f\"{prefix}000\")\n",
    "    plt.title(f\"{prefix}000\", fontsize=20)\n",
    "    plt.imshow(frame.normalize(prev))\n",
    "    for i in range(1, n_frames, 1):\n",
    "        img = frame.read(f\"{prefix}{i:03d}\")\n",
    "        diff = img.astype(np.int16) - prev\n",
    "        prev = img\n",
    "        diff = frame.normalize(diff)\n",
    "        plt.figure(figsize=(10,10))\n",
    "        plt.title(f\"{prefix}{i:03d}\", fontsize=20)\n",
    "        plt.imshow(diff)\n",
    "        #plt.imshow(diff[0])"
   ]
  },
  {
   "cell_type": "code",
   "execution_count": null,
   "metadata": {},
   "outputs": [],
   "source": [
    "img = frame.read(\"/home/vruiz/MRVC/sequences/stockholm_5_frames/000\") # <- Your path here!\n",
    "show(img, \"stockholm000\")"
   ]
  },
  {
   "cell_type": "code",
   "execution_count": null,
   "metadata": {
    "scrolled": false
   },
   "outputs": [],
   "source": [
    "show_seq(\"/home/vruiz/MRVC/sequences/stockholm_5_frames/\") # <- Your path here!"
   ]
  },
  {
   "cell_type": "code",
   "execution_count": null,
   "metadata": {},
   "outputs": [],
   "source": [
    "show_motion(\"/home/vruiz/MRVC/sequences/stockholm_5_frames/\") # <- Your path here!"
   ]
  }
 ],
 "metadata": {
  "colab": {
   "include_colab_link": true,
   "name": "ejemplo.ipynb",
   "provenance": []
  },
  "kernelspec": {
   "display_name": "Python 3",
   "language": "python",
   "name": "python3"
  },
  "language_info": {
   "codemirror_mode": {
    "name": "ipython",
    "version": 3
   },
   "file_extension": ".py",
   "mimetype": "text/x-python",
   "name": "python",
   "nbconvert_exporter": "python",
   "pygments_lexer": "ipython3",
   "version": "3.9.1"
  }
 },
 "nbformat": 4,
 "nbformat_minor": 1
}

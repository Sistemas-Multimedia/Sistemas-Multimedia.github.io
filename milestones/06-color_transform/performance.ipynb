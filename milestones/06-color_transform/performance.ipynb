{
 "cells": [
  {
   "cell_type": "markdown",
   "metadata": {},
   "source": [
    "# RD performance of some color transforms"
   ]
  },
  {
   "cell_type": "code",
   "execution_count": null,
   "metadata": {},
   "outputs": [],
   "source": [
    "%matplotlib inline\n",
    "\n",
    "import matplotlib\n",
    "import matplotlib.pyplot as plt\n",
    "import matplotlib.axes as ax\n",
    "plt.rcParams['text.usetex'] = True\n",
    "#plt.rcParams['text.latex.preamble'] = [r'\\usepackage{amsmath}'] #for \\text command\n",
    "\n",
    "import pylab\n",
    "import math\n",
    "import numpy as np\n",
    "from scipy import signal\n",
    "import cv2\n",
    "import os\n",
    "!ln -sf ~/MRVC/src/deadzone.py .\n",
    "import deadzone as Q\n",
    "!ln -sf ~/MRVC/src/frame.py .\n",
    "import frame\n",
    "!ln -sf ~/MRVC/src/YCrCb.py .\n",
    "import YCrCb\n",
    "!ln -sf ~/MRVC/src/YCoCg.py .\n",
    "import YCoCg"
   ]
  },
  {
   "cell_type": "code",
   "execution_count": null,
   "metadata": {},
   "outputs": [],
   "source": [
    "def q_deq(x, quantization_step):\n",
    "    k = Q.quantize(x, quantization_step)\n",
    "    y = Q.dequantize(k, quantization_step)\n",
    "    return k, y\n",
    "\n",
    "# Notice that the dead-zone to have effect,\n",
    "# the samples should be allowed to negative."
   ]
  },
  {
   "cell_type": "code",
   "execution_count": null,
   "metadata": {},
   "outputs": [],
   "source": [
    "def load_indexes(prefix):\n",
    "    frame.read(prefix)\n",
    "    \n",
    "def write_indexes(prefix):\n",
    "    frame.write(prefix)"
   ]
  },
  {
   "cell_type": "code",
   "execution_count": null,
   "metadata": {},
   "outputs": [],
   "source": [
    "fn = \"/home/vruiz/MRVC/sequences/stockholm_5_frames/000\"\n",
    "img = frame.read(fn)"
   ]
  },
  {
   "cell_type": "code",
   "execution_count": null,
   "metadata": {},
   "outputs": [],
   "source": [
    "def show(img, title):\n",
    "    img = frame.normalize(img)\n",
    "    plt.figure(figsize=(10,10))\n",
    "    plt.title(title, fontsize=20)\n",
    "    plt.imshow(img)"
   ]
  },
  {
   "cell_type": "code",
   "execution_count": null,
   "metadata": {},
   "outputs": [],
   "source": [
    "show(img, \"stockholm000\")"
   ]
  },
  {
   "cell_type": "code",
   "execution_count": null,
   "metadata": {},
   "outputs": [],
   "source": [
    "def show_gray(img, title):\n",
    "    img = frame.normalize(img)\n",
    "    plt.figure(figsize=(10,10))\n",
    "    plt.title(title, fontsize=20)\n",
    "    plt.imshow(img, cmap='gray')"
   ]
  },
  {
   "cell_type": "code",
   "execution_count": null,
   "metadata": {},
   "outputs": [],
   "source": [
    "show_gray(img[:,:,0], \"stockholm (R component)\")"
   ]
  },
  {
   "cell_type": "code",
   "execution_count": null,
   "metadata": {},
   "outputs": [],
   "source": [
    "show_gray(img[:,:,1], \"stockholm0000 (G component)\")"
   ]
  },
  {
   "cell_type": "code",
   "execution_count": null,
   "metadata": {},
   "outputs": [],
   "source": [
    "show_gray(img[:,:,2], \"stockholm000 (B component)\")"
   ]
  },
  {
   "cell_type": "code",
   "execution_count": null,
   "metadata": {},
   "outputs": [],
   "source": [
    "def RGB_to_YCrCb(RGB_frame):\n",
    "    # Remember that cv2.cvtColor only works with unsigneds!\n",
    "    YCrCb_frame = cv2.cvtColor(RGB_frame, cv2.COLOR_RGB2YCR_CB)\n",
    "    return YCrCb_frame\n",
    "\n",
    "def YCrCb_to_RGB(YCrCb_frame):\n",
    "    RGB_frame = cv2.cvtColor(YCrCb_frame, cv2.COLOR_YCR_CB2RGB)\n",
    "    return RGB_frame\n",
    "\n",
    "def RGB_to_YCoCg(RGB_frame):\n",
    "    R, G, B = RGB_frame[:,:,0], RGB_frame[:,:,1], RGB_frame[:,:,2]\n",
    "    YCoCg_frame = np.empty_like(RGB_frame)\n",
    "    YCoCg_frame[:,:,0] =  R/4 + G/2 + B/4 \n",
    "    YCoCg_frame[:,:,1] =  R/2       - B/2\n",
    "    YCoCg_frame[:,:,2] = -R/4 + G/2 - B/4\n",
    "    return YCoCg_frame\n",
    "\n",
    "def YCoCg_to_RGB(YCoCg_frame):\n",
    "    Y, Co, Cg = YCoCg_frame[:,:,0], YCoCg_frame[:,:,1], YCoCg_frame[:,:,2]\n",
    "    RGB_frame = np.empty_like(YCoCg_frame)\n",
    "    RGB_frame[:,:,0] = Y + Co - Cg \n",
    "    RGB_frame[:,:,1] = Y      + Cg\n",
    "    RGB_frame[:,:,2] = Y - Co - Cg\n",
    "    return RGB_frame"
   ]
  },
  {
   "cell_type": "markdown",
   "metadata": {},
   "source": [
    "### Is the YCrCb reversible?"
   ]
  },
  {
   "cell_type": "code",
   "execution_count": null,
   "metadata": {},
   "outputs": [],
   "source": [
    "YCrCb_img = YCrCb.from_RGB(img.astype(np.uint8))\n",
    "print(YCrCb_img.shape)\n",
    "img2 = YCrCb.to_RGB(YCrCb_img)\n",
    "print(np.array_equal(img, img2))\n",
    "print(img.max(), img.min())\n",
    "print(YCrCb_img.max(), YCrCb_img.min(), np.average(YCrCb_img))"
   ]
  },
  {
   "cell_type": "code",
   "execution_count": null,
   "metadata": {},
   "outputs": [],
   "source": [
    "show_gray(YCrCb_img[:,:,0], \"stockholm000 (Y component, YCrCb domain)\")"
   ]
  },
  {
   "cell_type": "code",
   "execution_count": null,
   "metadata": {},
   "outputs": [],
   "source": [
    "show_gray(YCrCb_img[:,:,1], \"stockholm000 (Cr component, YCrCb domain)\")"
   ]
  },
  {
   "cell_type": "code",
   "execution_count": null,
   "metadata": {},
   "outputs": [],
   "source": [
    "show_gray(YCrCb_img[:,:,2], \"stockholm000 (Cb component)\")"
   ]
  },
  {
   "cell_type": "markdown",
   "metadata": {},
   "source": [
    "### Is the YCoCg reversible?"
   ]
  },
  {
   "cell_type": "code",
   "execution_count": null,
   "metadata": {},
   "outputs": [],
   "source": [
    "YCoCg_img = YCoCg.from_RGB(img.astype(np.int16))\n",
    "img2 = YCoCg.to_RGB(YCoCg_img)\n",
    "print(np.array_equal(img, img2))\n",
    "print(img.max(), img.min())\n",
    "print(YCoCg_img.max(), YCoCg_img.min(), np.average(YCoCg_img))"
   ]
  },
  {
   "cell_type": "code",
   "execution_count": null,
   "metadata": {},
   "outputs": [],
   "source": [
    "show(img, \"stockholm000 (original)\")"
   ]
  },
  {
   "cell_type": "code",
   "execution_count": null,
   "metadata": {},
   "outputs": [],
   "source": [
    "show(img2, \"stockholm000 (reconstructed through YCoCg)\")"
   ]
  },
  {
   "cell_type": "code",
   "execution_count": null,
   "metadata": {},
   "outputs": [],
   "source": [
    "show(img-img2, 'stockholm000 - YCoCg.to\\_RGB(YCoCg.from\\_RGB(stockholm000))')"
   ]
  },
  {
   "cell_type": "code",
   "execution_count": null,
   "metadata": {},
   "outputs": [],
   "source": [
    "show_gray(YCoCg_img[:,:,0], \"stockholm000 (Y component)\")"
   ]
  },
  {
   "cell_type": "code",
   "execution_count": null,
   "metadata": {},
   "outputs": [],
   "source": [
    "show_gray(YCoCg_img[:,:,1], \"stockholm000 (Co component)\")"
   ]
  },
  {
   "cell_type": "code",
   "execution_count": null,
   "metadata": {
    "scrolled": true
   },
   "outputs": [],
   "source": [
    "show_gray(YCoCg_img[:,:,2], \"stockholm000 (Cg component)\")"
   ]
  },
  {
   "cell_type": "markdown",
   "metadata": {},
   "source": [
    "## RD stuff"
   ]
  },
  {
   "cell_type": "markdown",
   "metadata": {},
   "source": [
    "### Rate measurement"
   ]
  },
  {
   "cell_type": "code",
   "execution_count": null,
   "metadata": {},
   "outputs": [],
   "source": [
    "def bytes_per_frame(img):\n",
    "    frame.write(img, \"/tmp/frame\")\n",
    "    length_in_bytes = os.path.getsize(\"/tmp/frame.png\")\n",
    "    return length_in_bytes\n",
    "\n",
    "def bytes_per_grayframe(img):\n",
    "    cv2.imwrite(\"/tmp/frame.png\", img)\n",
    "    length_in_bytes = os.path.getsize(\"/tmp/frame.png\")\n",
    "    return length_in_bytes"
   ]
  },
  {
   "cell_type": "markdown",
   "metadata": {},
   "source": [
    "### Distortion measurement"
   ]
  },
  {
   "cell_type": "code",
   "execution_count": null,
   "metadata": {},
   "outputs": [],
   "source": [
    "def average_energy(x):\n",
    "    return np.sum(x.astype(np.double)*x.astype(np.double))/(np.size(x))\n",
    "\n",
    "def MSE(x, y):\n",
    "    error_signal = x.astype(np.float32) - y\n",
    "    return average_energy(error_signal)\n",
    "\n",
    "def RMSE(x, y):\n",
    "    error_signal = x.astype(np.float32) - y\n",
    "    return math.sqrt(MSE(error_signal))"
   ]
  },
  {
   "cell_type": "markdown",
   "metadata": {},
   "source": [
    "## Gains of the YCrCb synthesis filters "
   ]
  },
  {
   "cell_type": "code",
   "execution_count": null,
   "metadata": {},
   "outputs": [],
   "source": [
    "val = 10\n",
    "delta_YCrCb = np.array([val, 0, 0]).astype(np.uint8).reshape(1,1,3)\n",
    "delta_RGB = YCrCb.to_RGB(delta_YCrCb)\n",
    "print(\"delta_YCrCb =\", delta_YCrCb, \"delta_RGB =\", delta_RGB, \"Y gain =\", average_energy(delta_RGB))\n",
    "\n",
    "delta_YCrCb = np.array([0, val, 0]).astype(np.uint8).reshape(1,1,3)\n",
    "delta_RGB = YCrCb.to_RGB(delta_YCrCb)\n",
    "print(\"delta_YCrCb =\", delta_YCrCb, \"delta_RGB =\", delta_RGB, \"Cr gain =\", average_energy(delta_RGB))\n",
    "\n",
    "delta_YCrCb = np.array([0, 0, val]).astype(np.uint8).reshape(1,1,3)\n",
    "delta_RGB = YCrCb.to_RGB(delta_YCrCb)\n",
    "print(\"delta_YCrCb =\", delta_YCrCb, \"delta_RGB =\", delta_RGB, \"Cb gain =\", average_energy(delta_RGB))\n",
    "\n",
    "delta_YCrCb = np.array([val, val, val]).astype(np.uint8).reshape(1,1,3)\n",
    "delta_RGB = YCrCb.to_RGB(delta_YCrCb)\n",
    "print(\"delta_YCrCb =\", delta_YCrCb, \"delta_RGB =\", delta_RGB, \"Total gain =\", average_energy(delta_RGB))"
   ]
  },
  {
   "cell_type": "markdown",
   "metadata": {},
   "source": [
    "As we can see, the energy of the components in the YCrCb domain is not additive (the same happens with the distortion generated by the quantization)."
   ]
  },
  {
   "cell_type": "code",
   "execution_count": null,
   "metadata": {},
   "outputs": [],
   "source": [
    "val = 10\n",
    "delta_YCoCg = np.array([val, 0, 0]).reshape(1,1,3)\n",
    "delta_RGB = YCoCg.to_RGB(delta_YCoCg)\n",
    "print(\"delta_YCoCg =\", delta_YCoCg, \"delta_RGB =\", delta_RGB, \"Y gain =\", average_energy(delta_RGB))\n",
    "\n",
    "delta_YCoCg = np.array([0, val, 0]).reshape(1,1,3)\n",
    "delta_RGB = YCoCg.to_RGB(delta_YCoCg)\n",
    "print(\"delta_YCoCg =\", delta_YCoCg, \"delta_RGB =\", delta_RGB, \"Cr gain =\", average_energy(delta_RGB))\n",
    "\n",
    "delta_YCoCg = np.array([0, 0, val]).reshape(1,1,3)\n",
    "delta_RGB = YCoCg.to_RGB(delta_YCoCg)\n",
    "print(\"delta_YCoCg =\", delta_YCoCg, \"delta_RGB =\", delta_RGB, \"Cb gain =\", average_energy(delta_RGB))\n",
    "\n",
    "delta_YCoCg = np.array([val, val, val]).reshape(1,1,3)\n",
    "delta_RGB = YCoCg.to_RGB(delta_YCoCg)\n",
    "print(\"delta_YCoCg =\", delta_YCoCg, \"delta_RGB =\", delta_RGB, \"Total gain =\", average_energy(delta_RGB))"
   ]
  },
  {
   "cell_type": "markdown",
   "metadata": {},
   "source": [
    "With the YCoCg happens the same (the energy of the components is not additive). The gains matches with the theory."
   ]
  },
  {
   "cell_type": "markdown",
   "metadata": {},
   "source": [
    "### Energy of the RGB channels"
   ]
  },
  {
   "cell_type": "code",
   "execution_count": null,
   "metadata": {},
   "outputs": [],
   "source": [
    "R_energy = average_energy(img[:,:,0])\n",
    "G_energy = average_energy(img[:,:,1])\n",
    "B_energy = average_energy(img[:,:,2])\n",
    "print(\"Energy of R =\", R_energy)\n",
    "print(\"Energy of G =\", G_energy)\n",
    "print(\"Energy of B =\", B_energy)"
   ]
  },
  {
   "cell_type": "markdown",
   "metadata": {},
   "source": [
    "### Energy of the YCrCb channels"
   ]
  },
  {
   "cell_type": "code",
   "execution_count": null,
   "metadata": {},
   "outputs": [],
   "source": [
    "YCrCb_frame = YCrCb.from_RGB(img.astype(np.uint8))\n",
    "Y_energy = average_energy(YCrCb_frame[:,:,0])\n",
    "Cr_energy = average_energy(YCrCb_frame[:,:,1])\n",
    "Cb_energy = average_energy(YCrCb_frame[:,:,2])\n",
    "print(\"Energy of Y =\", Y_energy)\n",
    "print(\"Energy of Cr =\", Cr_energy)\n",
    "print(\"Energy of Cb =\", Cb_energy)"
   ]
  },
  {
   "cell_type": "markdown",
   "metadata": {},
   "source": [
    "### Energy of the YCoCg channels"
   ]
  },
  {
   "cell_type": "code",
   "execution_count": null,
   "metadata": {},
   "outputs": [],
   "source": [
    "YCoCg_frame = YCoCg.from_RGB(img.astype(np.int16))\n",
    "Y_energy = average_energy(YCoCg_frame[:,:,0])\n",
    "Co_energy = average_energy(YCoCg_frame[:,:,1])\n",
    "Cg_energy = average_energy(YCoCg_frame[:,:,2])\n",
    "print(\"Energy of Y =\", Y_energy)\n",
    "print(\"Energy of Co =\", Co_energy)\n",
    "print(\"Energy of Cg =\", Cg_energy)"
   ]
  },
  {
   "cell_type": "markdown",
   "metadata": {},
   "source": [
    "The energy is more concentrated in the YCoCg domain, more specifically in the Y channel."
   ]
  },
  {
   "cell_type": "markdown",
   "metadata": {},
   "source": [
    "### Quantization in the RGB domain ($\\Delta_{\\text{R}} = \\Delta_{\\text{G}} = \\Delta_{\\text{B}}$)"
   ]
  },
  {
   "cell_type": "code",
   "execution_count": null,
   "metadata": {},
   "outputs": [],
   "source": [
    "def RGB_RD_curve(x):\n",
    "    points = []\n",
    "    for q_step in range(0, 8):\n",
    "        k, y = q_deq(x, 1<<q_step)\n",
    "        k = k.astype(np.uint8)\n",
    "        rate = bytes_per_frame(k)\n",
    "        distortion = MSE(x, y)\n",
    "        points.append((rate, distortion))\n",
    "        print(f\"q_step={1<<q_step:>3}, rate={rate:>7} bytes, distortion={distortion:>6.1f}\")\n",
    "    return points\n",
    "\n",
    "RGB_points = RGB_RD_curve(img)"
   ]
  },
  {
   "cell_type": "markdown",
   "metadata": {},
   "source": [
    "### RD using quantization in the YCbCr domain ($\\Delta_{\\text{Y}} = \\Delta_{\\text{Cr}} = \\Delta_{\\text{Cb}}$)"
   ]
  },
  {
   "cell_type": "code",
   "execution_count": null,
   "metadata": {
    "scrolled": false
   },
   "outputs": [],
   "source": [
    "def YCrCb_RD_curve(RGB_frame):\n",
    "    RD_points = []\n",
    "    for q_step in range(0, 8):\n",
    "        YCrCb_frame = YCrCb.from_RGB(RGB_frame.astype(np.uint8))\n",
    "        #YCrCb_frame = YCrCb_frame.astype(np.int16)\n",
    "        k, dequantized_YCrCb_frame = q_deq(YCrCb_frame, 1<<q_step)\n",
    "        k = k.astype(np.uint8)\n",
    "        #show(dequantized_YCrCb_frame, q_step)\n",
    "        rate = bytes_per_frame(k)\n",
    "        dequantized_RGB_frame = YCrCb.to_RGB(dequantized_YCrCb_frame.astype(np.uint8))\n",
    "        distortion = MSE(RGB_frame, dequantized_RGB_frame)\n",
    "        RD_points.append((rate, distortion))\n",
    "        print(f\"q_step={1<<q_step:>3}, rate={rate:>7} bytes, distortion={distortion:>6.1f}\")\n",
    "    return RD_points\n",
    "\n",
    "YCrCb_points = YCrCb_RD_curve(img)"
   ]
  },
  {
   "cell_type": "markdown",
   "metadata": {},
   "source": [
    "### RD curves of each YCrCb channel"
   ]
  },
  {
   "cell_type": "code",
   "execution_count": null,
   "metadata": {},
   "outputs": [],
   "source": [
    "def only_Y_RD_curve(RGB_frame):\n",
    "    RD_points = []\n",
    "    for q_step in range(0, 8):\n",
    "        Y_frame = YCrCb.from_RGB(RGB_frame.astype(np.uint8))[:,:,0]\n",
    "        dequantized_Y_frame = np.empty_like(Y_frame)\n",
    "        k = np.empty_like(Y_frame, dtype=np.uint8)\n",
    "        k, dequantized_Y_frame = q_deq(Y_frame, 1<<q_step)\n",
    "        rate = bytes_per_grayframe(k)\n",
    "        distortion = MSE(Y_frame, dequantized_Y_frame)\n",
    "        RD_points.append((rate, distortion))\n",
    "        print(f\"q_step={1<<q_step:>3}, rate={rate:>7} bytes, distortion={distortion:>6.1f}\")\n",
    "    return RD_points\n",
    "\n",
    "def only_Cr_RD_curve(RGB_frame):\n",
    "    RD_points = []\n",
    "    for q_step in range(0, 8):\n",
    "        Cr_frame = YCrCb.from_RGB(RGB_frame.astype(np.uint8))[:,:,1]\n",
    "        dequantized_Cr_frame = np.empty_like(Cr_frame)\n",
    "        k = np.empty_like(Cr_frame, dtype=np.uint8)\n",
    "        k, dequantized_Cr_frame = q_deq(Cr_frame, 1<<q_step)\n",
    "        rate = bytes_per_grayframe(k)\n",
    "        distortion = MSE(Cr_frame, dequantized_Cr_frame)\n",
    "        RD_points.append((rate, distortion))\n",
    "        print(f\"q_step={1<<q_step:>3}, rate={rate:>7} bytes, distortion={distortion:>6.1f}\")\n",
    "    return RD_points\n",
    "\n",
    "def only_Cb_RD_curve(RGB_frame):\n",
    "    RD_points = []\n",
    "    for q_step in range(0, 8):\n",
    "        Cb_frame = YCrCb.from_RGB(RGB_frame.astype(np.uint8))[:,:,2]\n",
    "        dequantized_Cb_frame = np.empty_like(Cb_frame)\n",
    "        k = np.empty_like(Cb_frame, dtype=np.uint8)\n",
    "        k, dequantized_Cb_frame = q_deq(Cb_frame, 1<<q_step)\n",
    "        rate = bytes_per_grayframe(k)\n",
    "        distortion = MSE(Cb_frame, dequantized_Cb_frame)\n",
    "        RD_points.append((rate, distortion))\n",
    "        print(f\"q_step={1<<q_step:>3}, rate={rate:>7} bytes, distortion={distortion:>6.1f}\")\n",
    "    return RD_points\n",
    "\n",
    "only_Y_points = only_Y_RD_curve(img)\n",
    "only_Cb_points = only_Cb_RD_curve(img)\n",
    "only_Cr_points = only_Cr_RD_curve(img)"
   ]
  },
  {
   "cell_type": "code",
   "execution_count": null,
   "metadata": {},
   "outputs": [],
   "source": [
    "pylab.figure(dpi=150)\n",
    "pylab.plot(*zip(*YCrCb_points), c='m', marker=\"x\",\n",
    "           label='$\\Delta_{\\mathrm{Y}} = \\Delta_{\\mathrm{Cr}} = \\Delta_{\\mathrm{Cb}}$')\n",
    "pylab.plot(*zip(*only_Y_points), c='r', marker=\"o\",\n",
    "           label='Only Y')              \n",
    "pylab.plot(*zip(*only_Cr_points), c='g', marker=\"o\",\n",
    "           label='Only Cr')              \n",
    "pylab.plot(*zip(*only_Cb_points), c='b', marker=\"o\",\n",
    "           label='Only Cb')              \n",
    "pylab.title(\"RD Performance\")\n",
    "pylab.xlabel(\"Bytes/Frame\")\n",
    "pylab.ylabel(\"MSE\")\n",
    "plt.legend(loc='upper right')\n",
    "pylab.show()"
   ]
  },
  {
   "cell_type": "markdown",
   "metadata": {},
   "source": [
    "Conclusions:\n",
    "1. The distortions are not additive.\n",
    "2. The slopes of the curves for different quantization steps are different."
   ]
  },
  {
   "cell_type": "markdown",
   "metadata": {},
   "source": [
    "### RD using quantization in the YCoCg domain ($\\Delta_{\\text{Y}} = \\Delta_{\\text{Co}} = \\Delta_{\\text{Cg}}$)"
   ]
  },
  {
   "cell_type": "code",
   "execution_count": null,
   "metadata": {},
   "outputs": [],
   "source": [
    "def YCoCg_RD_curve(RGB_frame):\n",
    "    RD_points = []\n",
    "    for q_step in range(0, 8):\n",
    "        YCoCg_frame = YCoCg.from_RGB(RGB_frame.astype(np.int16))\n",
    "        k, dequantized_YCoCg_frame = q_deq(YCoCg_frame, 1<<q_step)\n",
    "        k = k.astype(np.uint8)\n",
    "        rate = bytes_per_frame(k)\n",
    "        dequantized_RGB_frame = YCoCg.to_RGB(dequantized_YCoCg_frame.astype(np.int16))\n",
    "        distortion = MSE(RGB_frame, dequantized_RGB_frame)\n",
    "        RD_points.append((rate, distortion))\n",
    "        print(f\"q_step={1<<q_step:>3}, rate={rate:>7} bytes, distortion={distortion:>6.1f}\")\n",
    "    return RD_points\n",
    "\n",
    "YCoCg_points = YCoCg_RD_curve(img)"
   ]
  },
  {
   "cell_type": "markdown",
   "metadata": {},
   "source": [
    "### RD curves of each YCoCg channel"
   ]
  },
  {
   "cell_type": "code",
   "execution_count": null,
   "metadata": {},
   "outputs": [],
   "source": [
    "def only_Y_RD_curve(RGB_frame):\n",
    "    RD_points = []\n",
    "    for q_step in range(0, 8):\n",
    "        Y_frame = YCoCg.from_RGB(RGB_frame.astype(np.int16))[:,:,0]\n",
    "        dequantized_Y_frame = np.empty_like(Y_frame)\n",
    "        #k = np.empty_like(Y_frame)\n",
    "        k, dequantized_Y_frame = q_deq(Y_frame, 1<<q_step)\n",
    "        k = k.astype(np.uint8)\n",
    "        rate = bytes_per_grayframe(k)\n",
    "        distortion = MSE(Y_frame, dequantized_Y_frame)\n",
    "        RD_points.append((rate, distortion))\n",
    "        print(f\"q_step={1<<q_step:>3}, rate={rate:>7} bytes, distortion={distortion:>6.1f}\")\n",
    "    return RD_points\n",
    "\n",
    "def only_Co_RD_curve(RGB_frame):\n",
    "    RD_points = []\n",
    "    for q_step in range(0, 8):\n",
    "        Co_frame = YCoCg.from_RGB(RGB_frame.astype(np.int16))[:,:,1]\n",
    "        dequantized_Co_frame = np.empty_like(Co_frame)\n",
    "        #k = np.empty_like(Co_frame)\n",
    "        k, dequantized_Co_frame = q_deq(Co_frame, 1<<q_step)\n",
    "        k = k.astype(np.uint8)\n",
    "        rate = bytes_per_grayframe(k)\n",
    "        distortion = MSE(Co_frame, dequantized_Co_frame)\n",
    "        RD_points.append((rate, distortion))\n",
    "        print(f\"q_step={1<<q_step:>3}, rate={rate:>7} bytes, distortion={distortion:>6.1f}\")\n",
    "    return RD_points\n",
    "\n",
    "def only_Cg_RD_curve(RGB_frame):\n",
    "    RD_points = []\n",
    "    for q_step in range(0, 8):\n",
    "        Cg_frame = YCoCg.from_RGB(RGB_frame.astype(np.int16))[:,:,2]\n",
    "        dequantized_Cg_frame = np.empty_like(Cg_frame)\n",
    "        #k = np.empty_like(Cg_frame)\n",
    "        k, dequantized_Cg_frame = q_deq(Cg_frame, 1<<q_step)\n",
    "        k = k.astype(np.uint8)\n",
    "        rate = bytes_per_grayframe(k)\n",
    "        distortion = MSE(Cg_frame, dequantized_Cg_frame)\n",
    "        RD_points.append((rate, distortion))\n",
    "        print(f\"q_step={1<<q_step:>3}, rate={rate:>7} bytes, distortion={distortion:>6.1f}\")\n",
    "    return RD_points\n",
    "\n",
    "print(img.dtype)\n",
    "only_Y_points = only_Y_RD_curve(img)\n",
    "only_Co_points = only_Co_RD_curve(img)\n",
    "only_Cg_points = only_Cg_RD_curve(img)"
   ]
  },
  {
   "cell_type": "code",
   "execution_count": null,
   "metadata": {},
   "outputs": [],
   "source": [
    "pylab.figure(dpi=150)\n",
    "pylab.plot(*zip(*YCoCg_points), c='m', marker=\"x\",\n",
    "           label='$\\Delta_{\\mathrm{Y}} = \\Delta_{\\mathrm{Co}} = \\Delta_{\\mathrm{Cg}}$')\n",
    "pylab.plot(*zip(*only_Y_points), c='r', marker=\"o\",\n",
    "           label='Only Y')              \n",
    "pylab.plot(*zip(*only_Co_points), c='g', marker=\"o\",\n",
    "           label='Only Co')              \n",
    "pylab.plot(*zip(*only_Cg_points), c='b', marker=\"o\",\n",
    "           label='Only Cg')              \n",
    "pylab.title(\"RD Performance\")\n",
    "pylab.xlabel(\"Bytes/Frame\")\n",
    "pylab.ylabel(\"MSE\")\n",
    "plt.legend(loc='upper right')\n",
    "pylab.show()"
   ]
  },
  {
   "cell_type": "markdown",
   "metadata": {},
   "source": [
    "Conclusions:\n",
    "1. The distortions are not additive.\n",
    "2. The slopes of the curves for different quantization steps are different.\n",
    "3. The channel Y should be quantized less."
   ]
  },
  {
   "cell_type": "markdown",
   "metadata": {},
   "source": [
    "### RD using channel gains in YCoCg domain"
   ]
  },
  {
   "cell_type": "code",
   "execution_count": null,
   "metadata": {},
   "outputs": [],
   "source": [
    "def YCoCg_RD_curve(RGB_frame):\n",
    "    RD_points = []\n",
    "    #for q_step in range(0, 8):\n",
    "    for q_step in range(1, 256):\n",
    "        YCoCg_frame = YCoCg.from_RGB(RGB_frame.astype(np.int16))\n",
    "        #k, dequantized_YCoCg_frame = q_deq(YCoCg_frame, 1<<q_step)\n",
    "        k, dequantized_YCoCg_frame = q_deq(YCoCg_frame, q_step)\n",
    "        k = k.astype(np.uint8)\n",
    "        rate = bytes_per_frame(k)\n",
    "        dequantized_RGB_frame = YCoCg.to_RGB(dequantized_YCoCg_frame)\n",
    "        distortion = MSE(RGB_frame, dequantized_RGB_frame)\n",
    "        RD_points.append((rate, distortion))\n",
    "        print(f\"q_step={q_step:>3}, rate={rate:>7} bytes, distortion={distortion:>6.1f}\")\n",
    "    return RD_points\n",
    "\n",
    "YCoCg_points = YCoCg_RD_curve(img)\n",
    "\n",
    "relative_Y_gain = 3/2\n",
    "relative_Co_gain = 1\n",
    "relative_Cg_gain = 3/2\n",
    "def YCoCg_RD_curve_with_gains(RGB_frame):\n",
    "    RD_points = []\n",
    "    #for q_step in range(0, 8):\n",
    "    for q_step in range(1, 256):\n",
    "        YCoCg_frame = YCoCg.from_RGB(RGB_frame.astype(np.int16))\n",
    "        dequantized_YCoCg_frame = np.empty_like(YCoCg_frame)\n",
    "        k = np.empty_like(YCoCg_frame, dtype=np.uint8)\n",
    "        k[:,:,0], dequantized_YCoCg_frame[:,:,0] = q_deq(YCoCg_frame[:,:,0], (1<<q_step)/relative_Y_gain)\n",
    "        k[:,:,1], dequantized_YCoCg_frame[:,:,1] = q_deq(YCoCg_frame[:,:,1], (1<<q_step)/relative_Co_gain)\n",
    "        k[:,:,2], dequantized_YCoCg_frame[:,:,2] = q_deq(YCoCg_frame[:,:,2], (1<<q_step)/relative_Cg_gain)\n",
    "        #k[0], dequantized_YCoCg_frame[0] = q_deq(YCoCg_frame[0], q_step/relative_Y_gain)\n",
    "        #k[1], dequantized_YCoCg_frame[1] = q_deq(YCoCg_frame[1], q_step/relative_Co_gain)\n",
    "        #k[2], dequantized_YCoCg_frame[2] = q_deq(YCoCg_frame[2], q_step/relative_Cg_gain)\n",
    "        rate = bytes_per_frame(k)\n",
    "        dequantized_RGB_frame = YCoCg.to_RGB(dequantized_YCoCg_frame)\n",
    "        distortion = MSE(RGB_frame, dequantized_RGB_frame)\n",
    "        RD_points.append((rate, distortion))\n",
    "        print(f\"q_step={q_step:>3}, rate={rate:>7} bytes, distortion={distortion:>6.1f}\")\n",
    "    return RD_points\n",
    "\n",
    "YCoCg_gains_points = YCoCg_RD_curve_with_gains(img)"
   ]
  },
  {
   "cell_type": "code",
   "execution_count": null,
   "metadata": {},
   "outputs": [],
   "source": [
    "pylab.figure(dpi=150)\n",
    "pylab.scatter(*zip(*YCoCg_points), c='g', marker=\".\", s=0.5,\n",
    "           label='$\\Delta_{\\mathrm{Y}}=\\Delta_{\\mathrm{Co}}=\\Delta_{\\mathrm{Cg}}$')\n",
    "pylab.scatter(*zip(*YCoCg_gains_points), c='m', marker=\".\", s=0.5,\n",
    "           label='$\\Delta_{\\mathrm{Y}}=' + \"{:3.1f}\".format(relative_Y_gain) + '\\Delta_{\\mathrm{Cg}}' +\n",
    "           ';\\Delta_{\\mathrm{Cg}}=' + \"{:3.1f}\".format(relative_Cg_gain) + '\\Delta_{\\mathrm{Co}}$')\n",
    "pylab.title(\"Performance of Quantization in Different Domains\")\n",
    "pylab.xlabel(\"Bytes/Frame\")\n",
    "pylab.ylabel(\"MSE\")\n",
    "plt.legend(loc='upper right')\n",
    "pylab.show()"
   ]
  },
  {
   "cell_type": "markdown",
   "metadata": {},
   "source": [
    "### Comparing the three domains using the same quantization steps"
   ]
  },
  {
   "cell_type": "code",
   "execution_count": null,
   "metadata": {},
   "outputs": [],
   "source": [
    "pylab.figure(dpi=150)\n",
    "pylab.plot(*zip(*RGB_points), c='b', marker=\"x\",\n",
    "           label='$\\Delta_{\\mathrm{R}}=\\Delta_{\\mathrm{G}}=\\Delta_{\\mathrm{B}}$')\n",
    "pylab.plot(*zip(*YCrCb_points), c='r', marker=\"x\",\n",
    "           label='$\\Delta_{\\mathrm{Y}}=\\Delta_{\\mathrm{Cr}}=\\Delta_{\\mathrm{Cb}}$')\n",
    "#pylab.plot(*zip(*YYCrCb_gains_points), c='m', marker=\"x\",\n",
    "#           label='$\\Delta_{\\mathrm{Y}}=' + \"{:3.1f}\".format(Y_gain) + '\\Delta_{\\mathrm{Cr}}' +\n",
    "#           ';\\Delta_{\\mathrm{Cb}}=' + \"{:3.1f}\".format(Cb_gain) + '\\Delta_{\\mathrm{Cr}}$')\n",
    "pylab.plot(*zip(*YCoCg_points), c='g', marker=\"x\",\n",
    "           label='$\\Delta_{\\mathrm{Y}}=\\Delta_{\\mathrm{Co}}=\\Delta_{\\mathrm{Cg}}$')\n",
    "pylab.title(\"Performance of Quantization in Different Domains\")\n",
    "pylab.xlabel(\"Bytes/Frame\")\n",
    "pylab.ylabel(\"MSE\")\n",
    "plt.legend(loc='upper right')\n",
    "pylab.show()"
   ]
  },
  {
   "cell_type": "markdown",
   "metadata": {},
   "source": [
    "Conclusions:\n",
    "1. In general, quantization is more effective in the transformed domain.\n",
    "3. At low bit-rates, it's better to quantize YCoCb than to quantize YCrCb. "
   ]
  },
  {
   "cell_type": "code",
   "execution_count": null,
   "metadata": {},
   "outputs": [],
   "source": [
    "Cr_gain = 1.0 # 2.4754\n",
    "Cb_gain = 3.25832/2.4754\n",
    "Y_gain = 3/2.4754\n",
    "def YYCrCb_RD_curve_with_gains(RGB_frame):\n",
    "    RD_points = []\n",
    "    for q_step in range(0, 8):\n",
    "        YYCrCb_frame = YCrCb.from_RGB(RGB_frame.astype(np.uint8))\n",
    "        dequantized_YYCrCb_frame = np.empty_like(YYCrCb_frame)\n",
    "        k = np.empty_like(YYCrCb_frame, dtype=np.uint8)\n",
    "        k[:,:,0], dequantized_YYCrCb_frame[:,:,0] = q_deq(YYCrCb_frame[:,:,0], (1<<q_step)/Y_gain)\n",
    "        k[:,:,1], dequantized_YYCrCb_frame[:,:,1] = q_deq(YYCrCb_frame[:,:,1], (1<<q_step)/Cr_gain)\n",
    "        k[:,:,2], dequantized_YYCrCb_frame[:,:,2] = q_deq(YYCrCb_frame[:,:,2], (1<<q_step)/Cb_gain)\n",
    "        rate = bytes_per_frame(k)\n",
    "        dequantized_YYCrCb_frame = dequantized_YYCrCb_frame.astype(np.uint8)\n",
    "        dequantized_RGB_frame = YCrCb.to_RGB(dequantized_YYCrCb_frame)\n",
    "        distortion = MSE(RGB_frame, dequantized_RGB_frame)\n",
    "        RD_points.append((rate, distortion))\n",
    "        print(f\"q_step={1<<q_step:>3}, rate={rate:>7} bytes, distortion={distortion:>6.1f}\")\n",
    "    return RD_points\n",
    "\n",
    "YYCrCb_gains_points = YYCrCb_RD_curve_with_gains(img)"
   ]
  },
  {
   "cell_type": "markdown",
   "metadata": {},
   "source": [
    "Conclusions:\n",
    "1. In general, quantization is more effective in the transformed domain considering the RD plane.\n",
    "2. $\\Delta_{\\mathrm{Y}}=1.2\\Delta_{\\mathrm{Cr}}; \\Delta_{\\mathrm{Cb}}=1.3\\Delta_{\\mathrm{Cr}}$ is slightly better than $\\Delta_{\\mathrm{Y}}=\\Delta_{\\mathrm{Cr}}=\\Delta_{\\mathrm{Cb}}$, at low bit-rates, and viceversa.\n",
    "3. At low bit-rates, tt's better to quantize YCoCb than to quantize YCrCb. "
   ]
  },
  {
   "cell_type": "markdown",
   "metadata": {},
   "source": [
    "## Is $\\Delta_{\\mathrm{Y}}=1.2\\Delta_{\\mathrm{Cr}}; \\Delta_{\\mathrm{Cb}}=1.3\\Delta_{\\mathrm{Cr}}$ the best quantization in YCrCb?\n",
    "No, $\\Delta_{\\mathrm{Y}}=\\Delta_{\\mathrm{Cr}}=\\Delta_{\\mathrm{Cb}}$ is better than $\\Delta_{\\mathrm{Y}}=1.2\\Delta_{\\mathrm{Cr}}; \\Delta_{\\mathrm{Cb}}=1.3\\Delta_{\\mathrm{Cr}}$ at high bit-rates."
   ]
  },
  {
   "cell_type": "markdown",
   "metadata": {},
   "source": [
    "## Is $\\Delta_{\\mathrm{Y}}=1.2\\Delta_{\\mathrm{Cr}}; \\Delta_{\\mathrm{Cb}}=1.3\\Delta_{\\mathrm{Cr}}$ optimal at low bit-rates quantizing YCrCb?"
   ]
  },
  {
   "cell_type": "code",
   "execution_count": null,
   "metadata": {},
   "outputs": [],
   "source": [
    "N=5\n",
    "def only_Y_RD_curve(RGB_frame):\n",
    "    RD_points = []\n",
    "    for q_step in range(0, 8):\n",
    "        print(q_step, end=' ')\n",
    "        YCrCb_frame = YCrCb.from_RGB(RGB_frame.astype(np.uint8))\n",
    "        dequantized_YCrCb_frame = np.empty_like(YCrCb_frame)\n",
    "        k = np.empty_like(YCrCb_frame, dtype=np.uint8)\n",
    "        k[:,:,0], dequantized_YCrCb_frame[:,:,0] = q_deq(YCrCb_frame[:,:,0], 1<<q_step)\n",
    "        k[:,:,1], dequantized_YCrCb_frame[:,:,1] = q_deq(YCrCb_frame[:,:,1], 1<<N)\n",
    "        k[:,:,2], dequantized_YCrCb_frame[:,:,2] = q_deq(YCrCb_frame[:,:,2], 1<<N)\n",
    "        rate = bytes_per_frame(k)\n",
    "        dequantized_YCrCb_frame = dequantized_YCrCb_frame.astype(np.uint8)\n",
    "        assert dequantized_YCrCb_frame.all() >= 0\n",
    "        dequantized_RGB_frame = YCrCb.to_RGB(dequantized_YCrCb_frame)\n",
    "        distortion = MSE(RGB_frame, dequantized_RGB_frame)\n",
    "        RD_points.append((rate, distortion))\n",
    "    return RD_points\n",
    "\n",
    "def only_Cb_RD_curve(RGB_frame):\n",
    "    RD_points = []\n",
    "    for q_step in range(0, 8):\n",
    "        print(q_step, end=' ')\n",
    "        YCrCb_frame = YCrCb.from_RGB(RGB_frame.astype(np.uint8))\n",
    "        dequantized_YCrCb_frame = np.empty_like(YCrCb_frame)\n",
    "        k = np.empty_like(YCrCb_frame, dtype=np.uint8)\n",
    "        k[:,:,0], dequantized_YCrCb_frame[:,:,0] = q_deq(YCrCb_frame[:,:,0], 1<<N)\n",
    "        k[:,:,1], dequantized_YCrCb_frame[:,:,1] = q_deq(YCrCb_frame[:,:,1], 1<<q_step)\n",
    "        k[:,:,2], dequantized_YCrCb_frame[:,:,2] = q_deq(YCrCb_frame[:,:,2], 1<<N)\n",
    "        rate = bytes_per_frame(k)\n",
    "        assert dequantized_YCrCb_frame.all() >= 0\n",
    "        dequantized_YCrCb_frame = dequantized_YCrCb_frame.astype(np.uint8)\n",
    "        dequantized_RGB_frame = YCrCb.to_RGB(dequantized_YCrCb_frame)\n",
    "        distortion = MSE(RGB_frame, dequantized_RGB_frame)\n",
    "        RD_points.append((rate, distortion))\n",
    "    return RD_points\n",
    "\n",
    "def only_Cr_RD_curve(RGB_frame):\n",
    "    RD_points = []\n",
    "    for q_step in range(0, 8):\n",
    "        print(q_step, end=' ')\n",
    "        YCrCb_frame = YCrCb.from_RGB(RGB_frame.astype(np.uint8))\n",
    "        dequantized_YCrCb_frame = np.empty_like(YCrCb_frame)\n",
    "        k = np.empty_like(YCrCb_frame, dtype=np.uint8)\n",
    "        k[:,:,0], dequantized_YCrCb_frame[:,:,0] = q_deq(YCrCb_frame[:,:,0], 1<<N)\n",
    "        k[:,:,1], dequantized_YCrCb_frame[:,:,1] = q_deq(YCrCb_frame[:,:,1], 1<<N)\n",
    "        k[:,:,2], dequantized_YCrCb_frame[:,:,2] = q_deq(YCrCb_frame[:,:,2], 1<<q_step)\n",
    "        rate = bytes_per_frame(k)\n",
    "        dequantized_YCrCb_frame = dequantized_YCrCb_frame.astype(np.uint8)\n",
    "        assert dequantized_YCrCb_frame.all() >= 0\n",
    "        dequantized_RGB_frame = YCrCb.to_RGB(dequantized_YCrCb_frame)\n",
    "        distortion = MSE(RGB_frame, dequantized_RGB_frame)\n",
    "        RD_points.append((rate, distortion))\n",
    "    return RD_points\n",
    "\n",
    "only_Y_points = only_Y_RD_curve(img)\n",
    "only_Cb_points = only_Cb_RD_curve(img)\n",
    "only_Cr_points = only_Cr_RD_curve(img)"
   ]
  },
  {
   "cell_type": "code",
   "execution_count": null,
   "metadata": {},
   "outputs": [],
   "source": [
    "pylab.figure(dpi=150)\n",
    "pylab.plot(*zip(*YYCrCb_gains_points), c='m', marker=\"x\",\n",
    "           label='$\\Delta_{\\mathrm{Y}}=' + \"{:3.1f}\".format(Y_gain) + '\\Delta_{\\mathrm{Cr}}' +\n",
    "           ';\\Delta_{\\mathrm{Cb}}=' + \"{:3.1f}\".format(Cb_gain) + '\\Delta_{\\mathrm{Cr}}$')\n",
    "pylab.plot(*zip(*only_Y_points), c='r', marker=\"o\",\n",
    "           label='$\\Delta_{\\mathrm{Y}}~\\mathrm{varies},~\\Delta_{\\mathrm{Cr}}=\\Delta_{\\mathrm{Cb}}=$' + '{}'.format(1<<N))              \n",
    "pylab.plot(*zip(*only_Cb_points), c='g', marker=\"o\",\n",
    "           label='$\\Delta_{\\mathrm{Cb}}~\\mathrm{varies},~\\Delta_{\\mathrm{Y}}=\\Delta_{\\mathrm{Cr}}=$' + '{}'.format(1<<N))              \n",
    "pylab.plot(*zip(*only_Cr_points), c='b', marker=\"o\",\n",
    "           label='$\\Delta_{\\mathrm{Cr}}~\\mathrm{varies},~\\Delta_{\\mathrm{Y}}=\\Delta_{\\mathrm{Cb}}=$' + '{}'.format(1<<N))              \n",
    "pylab.title(\"RD Performance\")\n",
    "pylab.xlabel(\"Bytes/Frame\")\n",
    "pylab.ylabel(\"RMSE\")\n",
    "plt.legend(loc='upper right')\n",
    "pylab.show()"
   ]
  },
  {
   "cell_type": "markdown",
   "metadata": {},
   "source": [
    "No, there are combinations of $\\Delta_{\\mathrm{Y}}$, $\\Delta_{\\mathrm{Cr}}$, and $\\Delta_{\\mathrm{Cb}}$ better than $\\Delta_{\\mathrm{Y}}=1.2\\Delta_{\\mathrm{Cr}}; \\Delta_{\\mathrm{Cb}}=1.3\\Delta_{\\mathrm{Cr}}$ at low bit-rates."
   ]
  },
  {
   "cell_type": "markdown",
   "metadata": {},
   "source": [
    "## Is $\\Delta_{\\mathrm{Y}}=\\Delta_{\\mathrm{Co}}=\\Delta_{\\mathrm{Cg}}$ optimal quantizing YCoCb?"
   ]
  },
  {
   "cell_type": "code",
   "execution_count": null,
   "metadata": {},
   "outputs": [],
   "source": [
    "N=4\n",
    "def only_Y_RD_curve(RGB_frame):\n",
    "    RD_points = []\n",
    "    for q_step in range(0, 8):\n",
    "        print(q_step, end=' ')\n",
    "        YCoCg_frame = YCoCg.from_RGB(RGB_frame.astype(np.int16))\n",
    "        dequantized_YCoCg_frame = np.empty_like(YCoCg_frame)\n",
    "        k = np.empty_like(YCoCg_frame, dtype=np.uint8)\n",
    "        k[:,:,0], dequantized_YCoCg_frame[:,:,0] = q_deq(YCoCg_frame[:,:,0], 1<<q_step)\n",
    "        k[:,:,1], dequantized_YCoCg_frame[:,:,1] = q_deq(YCoCg_frame[:,:,1], 1<<N)\n",
    "        k[:,:,2], dequantized_YCoCg_frame[:,:,2] = q_deq(YCoCg_frame[:,:,2], 1<<N)\n",
    "        #k[:,:,1], dequantized_YCoCg_frame[:,:,1] = q_deq(YCoCg_frame[:,:,1], 1<<q_step)\n",
    "        #k[:,:,2], dequantized_YCoCg_frame[:,:,2] = q_deq(YCoCg_frame[:,:,2], 1<<q_step)\n",
    "        rate = bytes_per_frame(k)\n",
    "        dequantized_RGB_frame = YCoCg.to_RGB(dequantized_YCoCg_frame)\n",
    "        distortion = MSE(RGB_frame, dequantized_RGB_frame)\n",
    "        RD_points.append((rate, distortion))\n",
    "    return RD_points\n",
    "\n",
    "def only_Co_RD_curve(RGB_frame):\n",
    "    RD_points = []\n",
    "    for q_step in range(0, 8):\n",
    "        print(q_step, end=' ')\n",
    "        YCoCg_frame = YCoCg.from_RGB(RGB_frame.astype(np.int16))\n",
    "        dequantized_YCoCg_frame = np.empty_like(YCoCg_frame)\n",
    "        k = np.empty_like(YCoCg_frame, dtype=np.uint8)\n",
    "        k[:,:,0], dequantized_YCoCg_frame[:,:,0] = q_deq(YCoCg_frame[:,:,0], 1<<N)\n",
    "        k[:,:,1], dequantized_YCoCg_frame[:,:,1] = q_deq(YCoCg_frame[:,:,1], 1<<q_step)\n",
    "        k[:,:,2], dequantized_YCoCg_frame[:,:,2] = q_deq(YCoCg_frame[:,:,2], 1<<N)\n",
    "        rate = bytes_per_frame(k)\n",
    "        dequantized_RGB_frame = YCoCg.to_RGB(dequantized_YCoCg_frame)\n",
    "        distortion = MSE(RGB_frame, dequantized_RGB_frame)\n",
    "        RD_points.append((rate, distortion))\n",
    "    return RD_points\n",
    "\n",
    "def only_Cg_RD_curve(RGB_frame):\n",
    "    RD_points = []\n",
    "    for q_step in range(0, 8):\n",
    "        print(q_step, end=' ')\n",
    "        YCoCg_frame = YCoCg.from_RGB(RGB_frame.astype(np.int16))\n",
    "        dequantized_YCoCg_frame = np.empty_like(YCoCg_frame)\n",
    "        k = np.empty_like(YCoCg_frame, dtype=np.uint8)\n",
    "        k[:,:,0], dequantized_YCoCg_frame[:,:,0] = q_deq(YCoCg_frame[:,:,0], 1<<N)\n",
    "        k[:,:,1], dequantized_YCoCg_frame[:,:,1] = q_deq(YCoCg_frame[:,:,1], 1<<N)\n",
    "        k[:,:,2], dequantized_YCoCg_frame[:,:,2] = q_deq(YCoCg_frame[:,:,2], 1<<q_step)\n",
    "        rate = bytes_per_frame(k)\n",
    "        dequantized_RGB_frame = YCoCg.to_RGB(dequantized_YCoCg_frame)\n",
    "        distortion = MSE(RGB_frame, dequantized_RGB_frame)\n",
    "        RD_points.append((rate, distortion))\n",
    "    return RD_points\n",
    "\n",
    "only_Y_points = only_Y_RD_curve(img)\n",
    "only_Co_points = only_Co_RD_curve(img)\n",
    "only_Cg_points = only_Cg_RD_curve(img)"
   ]
  },
  {
   "cell_type": "code",
   "execution_count": null,
   "metadata": {},
   "outputs": [],
   "source": [
    "pylab.figure(dpi=150)\n",
    "pylab.plot(*zip(*only_Y_points), c='r', marker=\"o\",\n",
    "           label='$\\Delta_{\\mathrm{Y}}~\\mathrm{varies},~\\Delta_{\\mathrm{Co}}=\\Delta_{\\mathrm{Cg}}=$' + '{}'.format(1<<N))              \n",
    "pylab.plot(*zip(*only_Co_points), c='m', marker=\"o\",\n",
    "           label='$\\Delta_{\\mathrm{Co}}~\\mathrm{varies},~\\Delta_{\\mathrm{Y}}=\\Delta_{\\mathrm{Cg}}=$' + '{}'.format(1<<N))              \n",
    "pylab.plot(*zip(*only_Cg_points), c='b', marker=\"o\",\n",
    "           label='$\\Delta_{\\mathrm{Cg}}~\\mathrm{varies},~\\Delta_{\\mathrm{Y}}=\\Delta_{\\mathrm{Co}}=$' + '{}'.format(1<<N))              \n",
    "pylab.plot(*zip(*YCoCg_points), c='g', marker=\"x\",\n",
    "           label='$\\Delta_{\\mathrm{Y}}=\\Delta_{\\mathrm{Co}}=\\Delta_{\\mathrm{Cg}}$')\n",
    "pylab.title(\"RD Performance\")\n",
    "pylab.xlabel(\"Bytes/Frame\")\n",
    "pylab.ylabel(\"RMSE\")\n",
    "plt.legend(loc='upper right')\n",
    "pylab.show()"
   ]
  },
  {
   "cell_type": "markdown",
   "metadata": {},
   "source": [
    "At least, using the same experiment that before, $\\Delta_{\\mathrm{Y}}=\\Delta_{\\mathrm{Co}}=\\Delta_{\\mathrm{Cg}}$ seems to be near optimal quantizing YCoCb."
   ]
  },
  {
   "cell_type": "markdown",
   "metadata": {},
   "source": [
    "## Ignore the rest ..."
   ]
  },
  {
   "cell_type": "markdown",
   "metadata": {},
   "source": [
    "## Some experiments showing the impact of the lack of orthogonality"
   ]
  },
  {
   "cell_type": "code",
   "execution_count": null,
   "metadata": {},
   "outputs": [],
   "source": [
    "def _YCbCr_RD_curve(RGB_frame, N):\n",
    "    RD_points = []\n",
    "    for q_step in range(0, 8):\n",
    "        print(q_step, end=' ')\n",
    "        YCbCr_frame = RGB_to_YCbCr(RGB_frame.astype(np.uint8))\n",
    "        dequantized_YCbCr_frame = np.empty_like(YCbCr_frame)\n",
    "        k = np.empty_like(YCbCr_frame)\n",
    "        k[:,:,0], dequantized_YCbCr_frame[:,:,0] = q_deq(YCbCr_frame[:,:,0], 1<<q_step)\n",
    "        k[:,:,1], dequantized_YCbCr_frame[:,:,1] = q_deq(YCbCr_frame[:,:,1], 1<<N)\n",
    "        k[:,:,2], dequantized_YCbCr_frame[:,:,2] = q_deq(YCbCr_frame[:,:,2], 1<<N)\n",
    "        rate = bytes_per_frame(k)\n",
    "        dequantized_YCbCr_frame = dequantized_YCbCr_frame.astype(np.uint8)\n",
    "        dequantized_RGB_frame = YCbCr_to_RGB(dequantized_YCbCr_frame)\n",
    "        distortion = RMSE(RGB_frame, dequantized_RGB_frame)\n",
    "        RD_points.append((rate, distortion))\n",
    "    return RD_points\n",
    "\n",
    "_YCbCr_points_8 = _YCbCr_RD_curve(frame, 8)\n",
    "_YCbCr_points_7 = _YCbCr_RD_curve(frame, 7)\n",
    "_YCbCr_points_6 = _YCbCr_RD_curve(frame, 6)\n",
    "_YCbCr_points_5 = _YCbCr_RD_curve(frame, 5)\n",
    "_YCbCr_points_4 = _YCbCr_RD_curve(frame, 4)\n",
    "_YCbCr_points_3 = _YCbCr_RD_curve(frame, 3)"
   ]
  },
  {
   "cell_type": "code",
   "execution_count": null,
   "metadata": {},
   "outputs": [],
   "source": [
    "1<<4"
   ]
  },
  {
   "cell_type": "code",
   "execution_count": null,
   "metadata": {},
   "outputs": [],
   "source": [
    "pylab.figure(dpi=150)\n",
    "pylab.plot(*zip(*YCbCr_points), c='r', marker=\"x\",\n",
    "           label='$\\Delta_{\\mathrm{Y}}=\\Delta_{\\mathrm{Cr}}=\\Delta_{\\mathrm{Cb}}$')\n",
    "pylab.plot(*zip(*_YCbCr_points_8), c='b', marker=\"x\",\n",
    "           label='$\\Delta_{\\mathrm{Y}}~\\mathrm{varies},~\\Delta_{\\mathrm{Cr}}=\\Delta_{\\mathrm{Cb}}=$' + '{}'.format(1<<8))\n",
    "pylab.plot(*zip(*_YCbCr_points_7), c='g', marker=\"x\",\n",
    "           label='$\\Delta_{\\mathrm{Y}}~\\mathrm{varies},~\\Delta_{\\mathrm{Cr}}=\\Delta_{\\mathrm{Cb}}=$' + '{}'.format(1<<7))\n",
    "pylab.plot(*zip(*_YCbCr_points_6), c='c', marker=\"x\",\n",
    "           label='$\\Delta_{\\mathrm{Y}}~\\mathrm{varies},~\\Delta_{\\mathrm{Cr}}=\\Delta_{\\mathrm{Cb}}=$' + '{}'.format(1<<6))\n",
    "pylab.plot(*zip(*_YCbCr_points_5), c='m', marker=\"x\",\n",
    "           label='$\\Delta_{\\mathrm{Y}}~\\mathrm{varies},~\\Delta_{\\mathrm{Cr}}=\\Delta_{\\mathrm{Cb}}=$' + '{}'.format(1<<5))\n",
    "pylab.plot(*zip(*_YCbCr_points_4), c='y', marker=\"x\",\n",
    "           label='$\\Delta_{\\mathrm{Y}}~\\mathrm{varies},~\\Delta_{\\mathrm{Cr}}=\\Delta_{\\mathrm{Cb}}=$' + '{}'.format(1<<4))\n",
    "pylab.plot(*zip(*_YCbCr_points_3), c='k', marker=\"o\",\n",
    "           label='$\\Delta_{\\mathrm{Y}}~\\mathrm{varies},~\\Delta_{\\mathrm{Cr}}=\\Delta_{\\mathrm{Cb}}=$' + '{}'.format(1<<3))\n",
    "pylab.plot(*zip(*YCbCr_gains_points), c='m', marker=\"+\",\n",
    "           label='$\\Delta_{\\mathrm{Y}}=' + \"{:3.1f}\".format(Y_gain) + '\\Delta_{\\mathrm{Cr}}' +\n",
    "           ';\\Delta_{\\mathrm{Cb}}=' + \"{:3.1f}\".format(Cb_gain) + '\\Delta_{\\mathrm{Cr}}$')\n",
    "pylab.title(\"The lack of non-orthogonality in the YCrCb transform\")\n",
    "pylab.xlabel(\"Bytes/Frame\")\n",
    "pylab.ylabel(\"RMSE\")\n",
    "plt.legend(loc='upper right')\n",
    "pylab.show()"
   ]
  },
  {
   "cell_type": "markdown",
   "metadata": {},
   "source": [
    "From this experiment we conclude that:\n",
    "1. The luma should not be \"deleted\" from the code-stream (see curve $\\Delta_{\\mathrm{Y}}=\\Delta_{\\mathrm{Cr}}=\\Delta_{\\mathrm{Cb}}$).\n",
    "2. There are better combinations than $\\Delta_{\\mathrm{Y}}=\\Delta_{\\mathrm{Cr}}=\\Delta_{\\mathrm{Cb}}$ and $\\Delta_{\\mathrm{Y}}=1.2\\Delta_{\\mathrm{Cr}};\\Delta_{\\mathrm{Cb}}=1.3\\Delta_{\\mathrm{Cr}}$."
   ]
  },
  {
   "cell_type": "markdown",
   "metadata": {},
   "source": [
    "### YCrCb"
   ]
  },
  {
   "cell_type": "markdown",
   "metadata": {},
   "source": [
    "It's possible to find better combinations than $\\Delta_{\\mathrm{Y}}=1.2\\Delta_{\\mathrm{Cr}};\\Delta_{\\mathrm{Cb}}=1.3\\Delta_{\\mathrm{Cr}}$."
   ]
  },
  {
   "cell_type": "markdown",
   "metadata": {},
   "source": [
    "Notice that, at least visually, it does not make sense to use $\\Delta_{\\mathrm{Y}}\\ge 8$ because the reconstructed image will be very dark or even black. The same holds for YCoCg."
   ]
  },
  {
   "cell_type": "code",
   "execution_count": null,
   "metadata": {},
   "outputs": [],
   "source": [
    "ycc = RGB_to_YCbCr(frame.astype(np.uint8))\n",
    "ycc[:,:,0] = 0\n",
    "frame2 = YCbCr_to_RGB(ycc)\n",
    "print(frame2.min(), frame2.max())\n",
    "show_frame(frame2, \"$\\Delta_{\\mathrm{Y}} \\ge 8$\" + \" (YCbCr domain)\")"
   ]
  },
  {
   "cell_type": "markdown",
   "metadata": {},
   "source": [
    "### YCoCg"
   ]
  },
  {
   "cell_type": "markdown",
   "metadata": {},
   "source": [
    "Notice that, at least visually, it does not make sense to use $\\Delta_{\\mathrm{Y}}\\ge 8$ because the reconstructed image will be very dark or even black. The same holds for YCoCg."
   ]
  },
  {
   "cell_type": "code",
   "execution_count": null,
   "metadata": {},
   "outputs": [],
   "source": [
    "ycc = RGB_to_YCoCg(frame)\n",
    "ycc[:,:,0]= 0\n",
    "frame2 = YCoCg_to_RGB(ycc)\n",
    "print(frame2.min(), frame2.max())\n",
    "show_frame(frame2, \"$\\Delta_{\\mathrm{Y}} \\ge 8$\" + \" (YCoCg domain)\")"
   ]
  },
  {
   "cell_type": "code",
   "execution_count": null,
   "metadata": {},
   "outputs": [],
   "source": [
    "def YCbCr_RD_curve_only_Y(RGB_frame):\n",
    "    RD_points = []\n",
    "    for q_step in range(0, 8):\n",
    "        print(q_step, end=' ')\n",
    "        YCbCr_frame = RGB_to_YCbCr(RGB_frame.astype(np.uint8))\n",
    "        YCbCr_frame[:,:,1] = 0\n",
    "        YCbCr_frame[:,:,2] = 0\n",
    "        k, dequantized_YCbCr_frame = q_deq(YCbCr_frame, 1<<q_step)\n",
    "        k[:,:,0] = 0\n",
    "        rate = byte_rate(k)\n",
    "        dequantized_YCbCr_frame = dequantized_YCbCr_frame.astype(np.uint8)\n",
    "        dequantized_RGB_frame = YCbCr_to_RGB(dequantized_YCbCr_frame)\n",
    "        distortion = RMSE(RGB_frame, dequantized_RGB_frame)\n",
    "        RD_points.append((rate, distortion))\n",
    "    return RD_points\n",
    "\n",
    "def YCbCr_RD_curve_only_Cb(RGB_frame):\n",
    "    RD_points = []\n",
    "    for q_step in range(0, 8):\n",
    "        print(q_step, end=' ')\n",
    "        YCbCr_frame = RGB_to_YCbCr(RGB_frame.astype(np.uint8))\n",
    "        YCbCr_frame[:,:,0] = 0\n",
    "        YCbCr_frame[:,:,2] = 0\n",
    "        k, dequantized_YCbCr_frame = q_deq(YCbCr_frame, 1<<q_step)\n",
    "        rate = byte_rate(k)\n",
    "        dequantized_YCbCr_frame = dequantized_YCbCr_frame.astype(np.uint8)\n",
    "        dequantized_RGB_frame = YCbCr_to_RGB(dequantized_YCbCr_frame)\n",
    "        distortion = RMSE(RGB_frame, dequantized_RGB_frame)\n",
    "        RD_points.append((rate, distortion))\n",
    "    return RD_points\n",
    "\n",
    "def YCbCr_RD_curve_only_Cr(RGB_frame):\n",
    "    RD_points = []\n",
    "    for q_step in range(0, 8):\n",
    "        print(q_step, end=' ')\n",
    "        YCbCr_frame = RGB_to_YCbCr(RGB_frame.astype(np.uint8))\n",
    "        YCbCr_frame[:,:,0] = 0\n",
    "        YCbCr_frame[:,:,1] = 0\n",
    "        k, dequantized_YCbCr_frame = q_deq(YCbCr_frame, 1<<q_step)\n",
    "        rate = byte_rate(k)\n",
    "        dequantized_YCbCr_frame = dequantized_YCbCr_frame.astype(np.uint8)\n",
    "        dequantized_RGB_frame = YCbCr_to_RGB(dequantized_YCbCr_frame)\n",
    "        distortion = RMSE(RGB_frame, dequantized_RGB_frame)\n",
    "        RD_points.append((rate, distortion))\n",
    "    return RD_points\n",
    "\n",
    "only_Y_curve = YCbCr_RD_curve_only_Y(frame)\n",
    "only_Cb_curve = YCbCr_RD_curve_only_Cb(frame)\n",
    "only_Cr_curve = YCbCr_RD_curve_only_Cr(frame)"
   ]
  },
  {
   "cell_type": "code",
   "execution_count": null,
   "metadata": {},
   "outputs": [],
   "source": [
    "pylab.figure(dpi=150)\n",
    "pylab.scatter(*zip(*only_Y_curve), s=2, c='r', marker=\"o\", label='only Y')\n",
    "pylab.plot(*zip(*only_Y_curve), c='r', marker=\"o\")\n",
    "pylab.scatter(*zip(*only_Cb_curve), s=2, c='g', marker=\"o\", label='only Cb')\n",
    "pylab.plot(*zip(*only_Cb_curve), c='g', marker=\"o\")\n",
    "pylab.scatter(*zip(*only_Cr_curve), s=2, c='b', marker=\"o\", label='only Cr')\n",
    "pylab.plot(*zip(*only_Cr_curve), c='b', marker=\"o\")\n",
    "pylab.title(\"R/D Performance\")\n",
    "pylab.xlabel(\"Bytes/Frame\")\n",
    "pylab.ylabel(\"RMSE\")\n",
    "plt.legend(loc='upper right')\n",
    "pylab.show()"
   ]
  },
  {
   "cell_type": "code",
   "execution_count": null,
   "metadata": {},
   "outputs": [],
   "source": []
  },
  {
   "cell_type": "code",
   "execution_count": null,
   "metadata": {},
   "outputs": [],
   "source": [
    "def YCbCr_RD_curve_2(RGB_frame):\n",
    "    RD_points = []\n",
    "    for q_step in range(0, 8):\n",
    "        print(q_step, end=' ')\n",
    "        YCbCr_frame = RGB_to_YCbCr(RGB_frame.astype(np.uint16))\n",
    "        YCbCr_frame[:,:,1] //= 2\n",
    "        YCbCr_frame[:,:,2] //= 2\n",
    "        k, dequantized_YCbCr_frame = q_deq(YCbCr_frame, 1<<q_step)\n",
    "        dequantized_YCbCr_frame[:,:,1] *= 2\n",
    "        dequantized_YCbCr_frame[:,:,2] *= 2\n",
    "        rate = byte_rate(k)\n",
    "        dequantized_YCbCr_frame = dequantized_YCbCr_frame.astype(np.uint16)\n",
    "        dequantized_RGB_frame = YCbCr_to_RGB(dequantized_YCbCr_frame)\n",
    "        distortion = RMSE(RGB_frame, dequantized_RGB_frame)\n",
    "        RD_points.append((rate, distortion))\n",
    "    return RD_points\n",
    "\n",
    "YCbCr_quantization_2 = YCbCr_RD_curve_2(frame)"
   ]
  },
  {
   "cell_type": "code",
   "execution_count": null,
   "metadata": {},
   "outputs": [],
   "source": [
    "pylab.figure(dpi=150)\n",
    "pylab.scatter(*zip(*RGB_quantization), s=2, c='b', marker=\"o\", label='RGB quantization')\n",
    "pylab.plot(*zip(*RGB_quantization), c='b', marker=\"o\")\n",
    "pylab.scatter(*zip(*YCbCr_quantization), s=2, c='r', marker=\"o\", label='YCbCr quantization')\n",
    "pylab.plot(*zip(*YCbCr_quantization), c='r', marker=\"o\")\n",
    "pylab.scatter(*zip(*YCbCr_quantization_2), s=2, c='g', marker=\"o\", label='YCbCr quantization 2')\n",
    "pylab.plot(*zip(*YCbCr_quantization_2), c='g', marker=\"o\")\n",
    "pylab.title(\"R/D Only Quantization\")\n",
    "pylab.xlabel(\"Bytes/Frame\")\n",
    "pylab.ylabel(\"RMSE\")\n",
    "plt.legend(loc='upper right')\n",
    "pylab.show()"
   ]
  },
  {
   "cell_type": "code",
   "execution_count": null,
   "metadata": {},
   "outputs": [],
   "source": [
    "YCbCr_test_frame = np.array([255, 0, 0], dtype=np.int16).reshape((1,1,1))\n",
    "print(YCbCr_to_RGB(YCbCr_test_frame))"
   ]
  },
  {
   "cell_type": "code",
   "execution_count": null,
   "metadata": {},
   "outputs": [],
   "source": [
    "np.array([255, 0, 0], dtype=np.int16)"
   ]
  },
  {
   "cell_type": "code",
   "execution_count": null,
   "metadata": {},
   "outputs": [],
   "source": [
    "YCbCr_test_frame = np.zeros_like(frame).astype(np.uint16)"
   ]
  },
  {
   "cell_type": "code",
   "execution_count": null,
   "metadata": {},
   "outputs": [],
   "source": [
    "type(YCbCr_test_frame[0,0,0])"
   ]
  },
  {
   "cell_type": "code",
   "execution_count": null,
   "metadata": {},
   "outputs": [],
   "source": [
    "YCbCr_test_frame[1,1,2] = 255"
   ]
  },
  {
   "cell_type": "code",
   "execution_count": null,
   "metadata": {},
   "outputs": [],
   "source": [
    "RGB_test_frame = YCbCr_to_RGB(YCbCr_test_frame)"
   ]
  },
  {
   "cell_type": "code",
   "execution_count": null,
   "metadata": {},
   "outputs": [],
   "source": [
    "print(average_energy(RGB_test_frame))"
   ]
  },
  {
   "cell_type": "code",
   "execution_count": null,
   "metadata": {},
   "outputs": [],
   "source": [
    "show_frame(RGB_test_frame, \"\")"
   ]
  },
  {
   "cell_type": "code",
   "execution_count": null,
   "metadata": {},
   "outputs": [],
   "source": []
  }
 ],
 "metadata": {
  "kernelspec": {
   "display_name": "Python 3",
   "language": "python",
   "name": "python3"
  },
  "language_info": {
   "codemirror_mode": {
    "name": "ipython",
    "version": 3
   },
   "file_extension": ".py",
   "mimetype": "text/x-python",
   "name": "python",
   "nbconvert_exporter": "python",
   "pygments_lexer": "ipython3",
   "version": "3.9.1"
  }
 },
 "nbformat": 4,
 "nbformat_minor": 4
}

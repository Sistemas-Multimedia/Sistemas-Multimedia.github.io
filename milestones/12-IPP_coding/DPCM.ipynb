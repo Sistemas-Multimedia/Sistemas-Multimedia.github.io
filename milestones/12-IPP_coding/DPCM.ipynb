{
 "cells": [
  {
   "cell_type": "markdown",
   "metadata": {},
   "source": [
    "# DPCM (Differential Pulse Code Modulation)\n",
    "\n",
    "```\n",
    "                                 ~             ~\n",
    "   F_k    +---+   E_k   +---+    E_k    +---+  E_k\n",
    "--------->| - |-------->| Q |-----+---->| E |----+\n",
    "          +---+         +---+     |     +---+    |\n",
    "            ^-                    |              |\n",
    "            |                     v              |\n",
    "            |                   +----+           |\n",
    "            |                   |Q^-1|           |\n",
    "            |                   +----+           |\n",
    "            |                     | ~            |\n",
    "            |       ^             v E_k          |\n",
    "            |       F_k         +---+            |\n",
    "            +-----------------> | + |            |\n",
    "            |                   +---+            |\n",
    "            |                     | ~            |\n",
    "            |       ~             v F_k          |\n",
    "          +---+     F_k-1       +----+           |\n",
    "          | P |<----------------|Z^-1|           |\n",
    "          +---+                 +----+           |\n",
    "+------------------------------------------------+\n",
    "|                ~             ~               ~\n",
    "|       +-----+  E_k   +----+  E_k  +---+      F_k\n",
    "+------>|E^-1 |------->|Q^-1|------>| + |----------+-----> \n",
    "        +-----+        +----+       +---+          |\n",
    "                                  ^   ^            |\n",
    "                                  F_k |            |\n",
    "                                      |   ~        v\n",
    "                                    +---+ F_k-1 +----+\n",
    "                                    | P |<------|Z^-1|\n",
    "                                    +---+       +----+\n",
    "```"
   ]
  },
  {
   "cell_type": "code",
   "execution_count": 17,
   "metadata": {},
   "outputs": [],
   "source": [
    "delta = 1\n",
    "def Q(x):\n",
    "    k = x//delta\n",
    "    return k\n",
    "\n",
    "def iQ(k):\n",
    "    y = k*delta\n",
    "    return y\n",
    "\n",
    "def E(x):\n",
    "    return x\n",
    "\n",
    "def iE(x):\n",
    "    return x\n",
    "\n",
    "def P(x):\n",
    "    return x\n",
    "\n",
    "prev = 0\n",
    "def iZ(x):\n",
    "    global prev\n",
    "    y = prev\n",
    "    prev = x\n",
    "    return y"
   ]
  },
  {
   "cell_type": "markdown",
   "metadata": {},
   "source": [
    "## Encoder"
   ]
  },
  {
   "cell_type": "code",
   "execution_count": 18,
   "metadata": {},
   "outputs": [
    {
     "name": "stdout",
     "output_type": "stream",
     "text": [
      "[10, 11, 2, 2, 2, 2, 2, 2, 2, 2]\n"
     ]
    }
   ],
   "source": [
    "codestream = []\n",
    "\n",
    "reconstructed_F_k_1 = 0\n",
    "for k in range(10):\n",
    "    F_k = k + 10\n",
    "    prediction_F_k = P(reconstructed_F_k_1)\n",
    "    E_k = F_k - prediction_F_k\n",
    "    quantized_E_k = Q(E_k)\n",
    "    dequantized_E_k = iQ(quantized_E_k)\n",
    "    reconstructed_F_k = dequantized_E_k + prediction_F_k\n",
    "    reconstructed_F_k_1 = iZ(reconstructed_F_k)\n",
    "    codestream.append(E(quantized_E_k))\n",
    "\n",
    "print(codestream)"
   ]
  },
  {
   "cell_type": "markdown",
   "metadata": {},
   "source": [
    "## Decoder"
   ]
  },
  {
   "cell_type": "code",
   "execution_count": 19,
   "metadata": {},
   "outputs": [
    {
     "name": "stdout",
     "output_type": "stream",
     "text": [
      "[10, 30, 12, 32, 14, 34, 16, 36, 18, 38]\n"
     ]
    }
   ],
   "source": [
    "reconstructed_data = []\n",
    "reconstructed_F_k_1 = 0\n",
    "for k in range(10):\n",
    "    prediction_F_k = P(reconstructed_F_k_1)\n",
    "    quantized_E_k = iE(codestream[k])\n",
    "    dequantized_E_k = iQ(quantized_E_k)\n",
    "    reconstructed_F_k = dequantized_E_k + prediction_F_k\n",
    "    reconstructed_F_k_1 = iZ(reconstructed_F_k)\n",
    "    reconstructed_data.append(E(reconstructed_F_k))\n",
    "    \n",
    "print(reconstructed_data)"
   ]
  },
  {
   "cell_type": "code",
   "execution_count": 9,
   "metadata": {},
   "outputs": [
    {
     "name": "stdout",
     "output_type": "stream",
     "text": [
      "[10, 1, 1, 1, 1, 1, 1, 1, 1, 1]\n"
     ]
    }
   ],
   "source": [
    "codestream = []\n",
    "\n",
    "prediction_F_k = 0\n",
    "for k in range(10):\n",
    "    F_k = k + 10\n",
    "    E_k = F_k - prediction_F_k\n",
    "    quantized_E_k = Q(E_k)\n",
    "    dequantized_E_k = iQ(quantized_E_k)\n",
    "    reconstructed_F_k = dequantized_E_k + prediction_F_k\n",
    "    reconstructed_F_k_1 = iZ(reconstructed_F_k)\n",
    "    prediction_F_k = P(reconstructed_F_k_1)\n",
    "    codestream.append(E(quantized_E_k))\n",
    "\n",
    "print(codestream)"
   ]
  },
  {
   "cell_type": "code",
   "execution_count": null,
   "metadata": {},
   "outputs": [],
   "source": []
  }
 ],
 "metadata": {
  "kernelspec": {
   "display_name": "Python 3",
   "language": "python",
   "name": "python3"
  },
  "language_info": {
   "codemirror_mode": {
    "name": "ipython",
    "version": 3
   },
   "file_extension": ".py",
   "mimetype": "text/x-python",
   "name": "python",
   "nbconvert_exporter": "python",
   "pygments_lexer": "ipython3",
   "version": "3.8.5"
  }
 },
 "nbformat": 4,
 "nbformat_minor": 4
}

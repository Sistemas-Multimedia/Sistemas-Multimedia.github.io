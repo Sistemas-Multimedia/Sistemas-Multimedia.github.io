{
 "cells": [
  {
   "cell_type": "markdown",
   "metadata": {},
   "source": [
    "# Performance of quantization on the RGB domain"
   ]
  },
  {
   "cell_type": "code",
   "execution_count": null,
   "metadata": {},
   "outputs": [],
   "source": [
    "%matplotlib inline\n",
    "\n",
    "import matplotlib\n",
    "import matplotlib.pyplot as plt\n",
    "import matplotlib.axes as ax\n",
    "import pylab\n",
    "import math\n",
    "import numpy as np\n",
    "from scipy import signal\n",
    "import cv2\n",
    "import os\n",
    "!pwd\n",
    "!ln -sf ~/MRVC/src/deadzone.py .\n",
    "!ln -sf ~/MRVC/src/frame.py .\n",
    "import deadzone\n",
    "import frame"
   ]
  },
  {
   "cell_type": "code",
   "execution_count": null,
   "metadata": {},
   "outputs": [],
   "source": [
    "def __quantizer(x, quantization_step):\n",
    "    k = (x / quantization_step).astype(np.int16)\n",
    "    return k\n",
    "\n",
    "def __dequantizer(k, quantization_step):\n",
    "    y = quantization_step * k\n",
    "    return y\n",
    "\n",
    "def q_deq(x, quantization_step):\n",
    "    k = deadzone.quantize(x, quantization_step)\n",
    "    y = deadzone.dequantize(k, quantization_step)\n",
    "    return k, y\n",
    "\n",
    "# Notice that, although this is a dead-zone quantizer, we are not going\n",
    "# to work with negative samples, and therefore, the dead-zone\n",
    "# does not have any effect."
   ]
  },
  {
   "cell_type": "code",
   "execution_count": null,
   "metadata": {},
   "outputs": [],
   "source": [
    "def __load_frame(prefix):\n",
    "    fn = f\"{prefix}.png\"\n",
    "    frame = cv2.imread(fn, cv2.IMREAD_UNCHANGED) # [rows, cols, comp]\n",
    "    frame = cv2.cvtColor(frame, cv2.COLOR_BGR2RGB)\n",
    "    frame = np.array(frame)\n",
    "    frame = frame.astype(np.float32) - 32768.0\n",
    "    frame = frame.astype(np.uint8)\n",
    "    return frame\n",
    "\n",
    "def __write_frame(frame, prefix):\n",
    "    frame = frame.astype(np.float32)\n",
    "    frame += 32768.0\n",
    "    frame = frame.astype(np.uint16)\n",
    "    cv2.imwrite(f\"{prefix}.png\", frame)"
   ]
  },
  {
   "cell_type": "code",
   "execution_count": null,
   "metadata": {},
   "outputs": [],
   "source": [
    "def load_indexes(prefix):\n",
    "    #load_frame(prefix)\n",
    "    frame.load(prefix)\n",
    "    \n",
    "def write_indexes(prefix):\n",
    "    #write_frame(prefix)\n",
    "    #frame.write(prefix)\n",
    "    frame.save(prefix)"
   ]
  },
  {
   "cell_type": "code",
   "execution_count": null,
   "metadata": {},
   "outputs": [],
   "source": [
    "fn = \"/home/vruiz/MRVC/sequences/stockholm_5_frames/000\"\n",
    "_frame = frame.load(fn)\n",
    "print(_frame.max(), _frame.min())"
   ]
  },
  {
   "cell_type": "code",
   "execution_count": null,
   "metadata": {},
   "outputs": [],
   "source": [
    "def __normalize(img):\n",
    "    max_component = np.max(img)\n",
    "    min_component = np.min(img)\n",
    "    max_min_component = max_component - min_component\n",
    "    return (img-min_component)/max_min_component\n",
    "\n",
    "def merge(frame):\n",
    "    return cv2.merge((frame[0], frame[1], frame[2]))\n",
    "\n",
    "def show(_frame, prefix):\n",
    "    _frame = frame.normalize(_frame)\n",
    "    plt.figure(figsize=(10,10))\n",
    "    plt.title(prefix, fontsize=20)\n",
    "    plt.imshow(merge(_frame))"
   ]
  },
  {
   "cell_type": "code",
   "execution_count": null,
   "metadata": {},
   "outputs": [],
   "source": [
    "show(_frame, fn)"
   ]
  },
  {
   "cell_type": "code",
   "execution_count": null,
   "metadata": {},
   "outputs": [],
   "source": [
    "def average_energy(x):\n",
    "    return np.sum(x.astype(np.double)*x.astype(np.double))/(np.size(x))\n",
    "\n",
    "def MSE(x, y):\n",
    "    error_signal = x - y\n",
    "    return average_energy(error_signal)\n",
    "\n",
    "def RMSE(x, y):\n",
    "    error_signal = x - y\n",
    "    return math.sqrt(MSE(error_signal))"
   ]
  },
  {
   "cell_type": "code",
   "execution_count": null,
   "metadata": {},
   "outputs": [],
   "source": [
    "def bytes_per_frame(_frame):\n",
    "    frame.save(_frame, \"/tmp/frame\")\n",
    "    length_in_bytes = os.path.getsize(\"/tmp/frame.png\")\n",
    "    return length_in_bytes\n",
    "\n",
    "def bytes_per_grayframe(_frame):\n",
    "    cv2.imwrite(\"/tmp/frame.png\", _frame)\n",
    "    length_in_bytes = os.path.getsize(\"/tmp/frame.png\")\n",
    "    return length_in_bytes\n",
    "\n",
    "def entropy_in_bits_per_symbol(sequence_of_symbols):\n",
    "    value, counts = np.unique(sequence_of_symbols, return_counts = True)\n",
    "    probs = counts / len(sequence_of_symbols)\n",
    "    n_classes = np.count_nonzero(probs)\n",
    "\n",
    "    if n_classes <= 1:\n",
    "        return 0\n",
    "\n",
    "    entropy = 0.\n",
    "    for i in probs:\n",
    "        entropy -= i * math.log(i, 2)\n",
    "\n",
    "    return entropy"
   ]
  },
  {
   "cell_type": "markdown",
   "metadata": {},
   "source": [
    "## RD curve using same $\\Delta$ for each RGB channel\n",
    "To see the contribution of each channel to the RD curve."
   ]
  },
  {
   "cell_type": "code",
   "execution_count": null,
   "metadata": {},
   "outputs": [],
   "source": [
    "def RD_curve(x):\n",
    "    points = []\n",
    "    for q_step in range(0, 8):\n",
    "        k, y = q_deq(x, 1<<q_step)\n",
    "        #print(k.max())\n",
    "        rate = bytes_per_frame(k)\n",
    "        distortion = MSE(x, y)\n",
    "        points.append((rate, distortion))\n",
    "        print(f\"q_step={1<<q_step:>3}, rate={rate:>7} bytes, distortion={distortion:>6.1f}\")\n",
    "    return points\n",
    "\n",
    "RD_points = RD_curve(_frame)"
   ]
  },
  {
   "cell_type": "code",
   "execution_count": null,
   "metadata": {},
   "outputs": [],
   "source": [
    "pylab.figure(dpi=150)\n",
    "pylab.plot(*zip(*RD_points), c='m', marker=\"o\")\n",
    "pylab.title(\"RD of a RGB image\")\n",
    "pylab.xlabel(\"Bytes/Frame\")\n",
    "pylab.ylabel(\"MSE\")\n",
    "pylab.show()"
   ]
  },
  {
   "cell_type": "code",
   "execution_count": null,
   "metadata": {},
   "outputs": [],
   "source": [
    "k, y = q_deq(_frame, 64)\n",
    "show(y, \"\")"
   ]
  },
  {
   "cell_type": "markdown",
   "metadata": {},
   "source": [
    "## RD curves of each channel"
   ]
  },
  {
   "cell_type": "code",
   "execution_count": null,
   "metadata": {},
   "outputs": [],
   "source": [
    "def only_R_RD_curve(RGB_frame):\n",
    "    RD_points = []\n",
    "    for q_step in range(0, 8):\n",
    "        #R_frame = RGB_frame[:,:,0]\n",
    "        R_frame = RGB_frame[0]\n",
    "        #dequantized_R_frame = np.empty_like(RGB_frame)\n",
    "        #k = np.empty_like(RGB_frame)\n",
    "        k, dequantized_R_frame = q_deq(R_frame, 1<<q_step)\n",
    "        #dequantized_R_frame[0,:,:] = _dequantized_R_frame[:,:]\n",
    "        #k[0,:,:] = _k[:,:]\n",
    "        rate = bytes_per_grayframe(k)\n",
    "        distortion = MSE(R_frame, dequantized_R_frame)\n",
    "        RD_points.append((rate, distortion))\n",
    "        print(f\"q_step={1<<q_step:>3}, rate={rate:>7} bytes, distortion={distortion:>6.1f}\")\n",
    "    return RD_points\n",
    "\n",
    "def only_G_RD_curve(RGB_frame):\n",
    "    RD_points = []\n",
    "    for q_step in range(0, 8):\n",
    "        #G_frame = RGB_frame[:,:,1]\n",
    "        G_frame = RGB_frame[1]\n",
    "        #dequantized_G_frame = np.empty_like(RGB_frame)\n",
    "        #k = np.empty_like(RGB_frame)\n",
    "        k, dequantized_G_frame = q_deq(G_frame, 1<<q_step)\n",
    "        #dequantized_G_frame[1,:,:] = _dequantized_G_frame[:,:]\n",
    "        #k[1,:,:] = _k[:,:]        \n",
    "        rate = bytes_per_grayframe(k)\n",
    "        distortion = MSE(G_frame, dequantized_G_frame)\n",
    "        RD_points.append((rate, distortion))\n",
    "        print(f\"q_step={1<<q_step:>3}, rate={rate:>7} bytes, distortion={distortion:>6.1f}\")\n",
    "    return RD_points\n",
    "\n",
    "def only_B_RD_curve(RGB_frame):\n",
    "    RD_points = []\n",
    "    for q_step in range(0, 8):\n",
    "        #B_frame = RGB_frame[:,:,2]\n",
    "        B_frame = RGB_frame[2]\n",
    "        #dequantized_B_frame = np.empty_like(RGB_frame)\n",
    "        #k = np.empty_like(RGB_frame)\n",
    "        k, dequantized_B_frame = q_deq(B_frame, 1<<q_step)\n",
    "        #dequantized_B_frame[2,:,:] = _dequantized_B_frame[:,:]\n",
    "        #k[2,:,:] = _k[:,:] \n",
    "        rate = bytes_per_grayframe(k)\n",
    "        distortion = MSE(B_frame, dequantized_B_frame)\n",
    "        RD_points.append((rate, distortion))\n",
    "        print(f\"q_step={1<<q_step:>3}, rate={rate:>7} bytes, distortion={distortion:>6.1f}\")\n",
    "    return RD_points\n",
    "\n",
    "only_R_points = only_R_RD_curve(_frame)\n",
    "only_G_points = only_G_RD_curve(_frame)\n",
    "only_B_points = only_B_RD_curve(_frame)"
   ]
  },
  {
   "cell_type": "code",
   "execution_count": null,
   "metadata": {},
   "outputs": [],
   "source": [
    "pylab.figure(dpi=150)\n",
    "pylab.plot(*zip(*RD_points), c='m', marker=\"x\",\n",
    "           label='$\\Delta_{\\mathrm{R}} = \\Delta_{\\mathrm{G}} = \\Delta_{\\mathrm{B}}$')\n",
    "pylab.plot(*zip(*only_R_points), c='r', marker=\"o\",\n",
    "           label='Only R')              \n",
    "pylab.plot(*zip(*only_G_points), c='g', marker=\"o\",\n",
    "           label='Only G')              \n",
    "pylab.plot(*zip(*only_B_points), c='b', marker=\"o\",\n",
    "           label='Only B')              \n",
    "pylab.title(\"RD Performance\")\n",
    "pylab.xlabel(\"Bytes/Frame\")\n",
    "pylab.ylabel(\"MSE\")\n",
    "plt.legend(loc='upper right')\n",
    "pylab.show()"
   ]
  },
  {
   "cell_type": "markdown",
   "metadata": {},
   "source": [
    "The $\\Delta_{\\mathrm{R}} = \\Delta_{\\mathrm{G}} = \\Delta_{\\mathrm{B}}$ quantization scheme is near optimal because the slope at the different quantization points is almost the same. This can be seen in the next experiment"
   ]
  },
  {
   "cell_type": "markdown",
   "metadata": {},
   "source": [
    "## Testing a different quantization configuration"
   ]
  },
  {
   "cell_type": "code",
   "execution_count": null,
   "metadata": {},
   "outputs": [],
   "source": [
    "N = 6\n",
    "def only_R_RD_curve(RGB_frame):\n",
    "    RD_points = []\n",
    "    for q_step in range(0, 8):\n",
    "        k_R, dequantized_RGB_frame_R = q_deq(RGB_frame[0], 1<<q_step)\n",
    "        k_G, dequantized_RGB_frame_G = q_deq(RGB_frame[1], 1<<N)\n",
    "        k_B, dequantized_RGB_frame_B = q_deq(RGB_frame[2], 1<<N)\n",
    "        k = np.array([k_R, k_G, k_B])\n",
    "        dequantized_RGB_frame = np.array([dequantized_RGB_frame_R, dequantized_RGB_frame_G, dequantized_RGB_frame_B])\n",
    "        rate = bytes_per_frame(k)\n",
    "        distortion = MSE(RGB_frame, dequantized_RGB_frame)\n",
    "        RD_points.append((rate, distortion))\n",
    "        print(f\"q_step={1<<q_step:>3}, rate={rate:>7} bytes, distortion={distortion:>6.1f}\")\n",
    "    return RD_points\n",
    "\n",
    "def only_G_RD_curve(RGB_frame):\n",
    "    RD_points = []\n",
    "    for q_step in range(0, 8):\n",
    "        k_R, dequantized_RGB_frame_R = q_deq(RGB_frame[0], 1<<N)\n",
    "        k_G, dequantized_RGB_frame_G = q_deq(RGB_frame[1], 1<<q_step)\n",
    "        k_B, dequantized_RGB_frame_B = q_deq(RGB_frame[2], 1<<N)\n",
    "        k = np.array([k_R, k_G, k_B])\n",
    "        dequantized_RGB_frame = np.array([dequantized_RGB_frame_R, dequantized_RGB_frame_G, dequantized_RGB_frame_B])\n",
    "        rate = bytes_per_frame(k)\n",
    "        distortion = MSE(RGB_frame, dequantized_RGB_frame)\n",
    "        RD_points.append((rate, distortion))\n",
    "        print(f\"q_step={1<<q_step:>3}, rate={rate:>7} bytes, distortion={distortion:>6.1f}\")\n",
    "    return RD_points\n",
    "\n",
    "def only_B_RD_curve(RGB_frame):\n",
    "    RD_points = []\n",
    "    for q_step in range(0, 8):\n",
    "        k_R, dequantized_RGB_frame_R = q_deq(RGB_frame[0], 1<<N)\n",
    "        k_G, dequantized_RGB_frame_G = q_deq(RGB_frame[1], 1<<N)\n",
    "        k_B, dequantized_RGB_frame_B = q_deq(RGB_frame[2], 1<<q_step)\n",
    "        k = np.array([k_R, k_G, k_B])\n",
    "        dequantized_RGB_frame = np.array([dequantized_RGB_frame_R, dequantized_RGB_frame_G, dequantized_RGB_frame_B])\n",
    "        rate = bytes_per_frame(k)\n",
    "        distortion = MSE(RGB_frame, dequantized_RGB_frame)\n",
    "        RD_points.append((rate, distortion))\n",
    "        print(f\"q_step={1<<q_step:>3}, rate={rate:>7} bytes, distortion={distortion:>6.1f}\")\n",
    "    return RD_points\n",
    "\n",
    "only_R_points = only_R_RD_curve(_frame)\n",
    "only_G_points = only_G_RD_curve(_frame)\n",
    "only_B_points = only_B_RD_curve(_frame)"
   ]
  },
  {
   "cell_type": "code",
   "execution_count": null,
   "metadata": {},
   "outputs": [],
   "source": [
    "pylab.figure(dpi=150)\n",
    "pylab.plot(*zip(*RD_points), c='m', marker=\"x\",\n",
    "           label='$\\Delta_{\\mathrm{R}} = \\Delta_{\\mathrm{G}} = \\Delta_{\\mathrm{B}}$')\n",
    "pylab.plot(*zip(*only_R_points), c='r', marker=\"o\",\n",
    "           label='$\\Delta_{\\mathrm{R}}~\\mathrm{varies},~\\Delta_{\\mathrm{G}}=\\Delta_{\\mathrm{B}}=$' + '{}'.format(1<<N))              \n",
    "pylab.plot(*zip(*only_G_points), c='g', marker=\"o\",\n",
    "           label='$\\Delta_{\\mathrm{G}}~\\mathrm{varies},~\\Delta_{\\mathrm{R}}=\\Delta_{\\mathrm{B}}=$' + '{}'.format(1<<N))              \n",
    "pylab.plot(*zip(*only_B_points), c='b', marker=\"o\",\n",
    "           label='$\\Delta_{\\mathrm{B}}~\\mathrm{varies},~\\Delta_{\\mathrm{R}}=\\Delta_{\\mathrm{G}}=$' + '{}'.format(1<<N))              \n",
    "pylab.title(\"RD Performance\")\n",
    "pylab.xlabel(\"Bytes/Frame\")\n",
    "pylab.ylabel(\"MSE\")\n",
    "plt.legend(loc='upper right')\n",
    "pylab.show()"
   ]
  },
  {
   "cell_type": "markdown",
   "metadata": {},
   "source": [
    "As it can be seen, the best configuration matches $\\Delta_{\\mathrm{R}} = \\Delta_{\\mathrm{G}} = \\Delta_{\\mathrm{B}}$."
   ]
  }
 ],
 "metadata": {
  "kernelspec": {
   "display_name": "Python 3",
   "language": "python",
   "name": "python3"
  },
  "language_info": {
   "codemirror_mode": {
    "name": "ipython",
    "version": 3
   },
   "file_extension": ".py",
   "mimetype": "text/x-python",
   "name": "python",
   "nbconvert_exporter": "python",
   "pygments_lexer": "ipython3",
   "version": "3.9.1"
  }
 },
 "nbformat": 4,
 "nbformat_minor": 4
}

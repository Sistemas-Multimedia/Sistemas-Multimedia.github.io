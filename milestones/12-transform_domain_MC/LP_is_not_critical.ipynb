{
 "cells": [
  {
   "cell_type": "markdown",
   "metadata": {
    "colab_type": "text",
    "id": "view-in-github"
   },
   "source": [
    "<a href=\"https://colab.research.google.com/github/vicente-gonzalez-ruiz/PRMC-experimentos/blob/master/src/shift_invariance_in_OLP.ipynb\" target=\"_parent\"><img src=\"https://colab.research.google.com/assets/colab-badge.svg\" alt=\"Open In Colab\"/></a>"
   ]
  },
  {
   "cell_type": "markdown",
   "metadata": {},
   "source": [
    "# Can the LP represented critically?\n",
    "Not."
   ]
  },
  {
   "cell_type": "code",
   "execution_count": null,
   "metadata": {},
   "outputs": [],
   "source": [
    "%matplotlib inline\n",
    "from io_stuff import *\n",
    "#import cv2\n",
    "#import matplotlib.pyplot as plt\n",
    "#import matplotlib.image as mpimg\n",
    "!ln -sf ~/MRVC/src/LP.py .\n",
    "!ln -sf ~/MRVC/src/config.py .\n",
    "!ln -sf ~/MRVC/src/YCoCg.py .\n",
    "!ln -sf ~/MRVC/src/YCrCb.py .\n",
    "import LP\n",
    "import YCoCg as YUV\n",
    "#import YCrCb as color_transform"
   ]
  },
  {
   "cell_type": "code",
   "execution_count": null,
   "metadata": {},
   "outputs": [],
   "source": [
    "%%bash\n",
    "\n",
    "# Create the two images (\"/tmp/moving_circle_000.png\" and \"/tmp/moving_circle_001.png\") with a circle\n",
    "# of diameter 10 that moves from coordinate (20,30) to (21,30).\n",
    "/home/vruiz/MRVC/tools/moving_circle.sh -w 128 -h 128 -x 20 -y 30 -d 10 -f 2"
   ]
  },
  {
   "cell_type": "code",
   "execution_count": null,
   "metadata": {},
   "outputs": [],
   "source": [
    "RGB_moving_circle_000 = cv2.imread(\"/tmp/moving_circle_000.png\").astype(np.int16)\n",
    "RGB_moving_circle_001 = cv2.imread(\"/tmp/moving_circle_001.png\").astype(np.int16)"
   ]
  },
  {
   "cell_type": "code",
   "execution_count": null,
   "metadata": {},
   "outputs": [],
   "source": [
    "plt.figure(figsize=(10,10))\n",
    "plt.title(\"/tmp/moving_circle_000.png\", fontsize=20)\n",
    "plt.imshow(RGB_moving_circle_000)"
   ]
  },
  {
   "cell_type": "code",
   "execution_count": null,
   "metadata": {},
   "outputs": [],
   "source": [
    "plt.figure(figsize=(10,10))\n",
    "plt.title(\"/tmp/moving_circle_001.png\", fontsize=20)\n",
    "plt.imshow(RGB_moving_circle_001)"
   ]
  },
  {
   "cell_type": "code",
   "execution_count": null,
   "metadata": {},
   "outputs": [],
   "source": [
    "YUV_moving_circle_000 = YUV.from_RGB(RGB_moving_circle_000)\n",
    "YUV_moving_circle_001 = YUV.from_RGB(RGB_moving_circle_001)"
   ]
  },
  {
   "cell_type": "code",
   "execution_count": null,
   "metadata": {},
   "outputs": [],
   "source": [
    "plt.figure(figsize=(10,10))\n",
    "plt.title(\"/tmp/moving_circle_000.png\", fontsize=20)\n",
    "plt.imshow(YUV_moving_circle_000[:,:,0], cmap=\"gray\")"
   ]
  },
  {
   "cell_type": "code",
   "execution_count": null,
   "metadata": {},
   "outputs": [],
   "source": [
    "plt.figure(figsize=(10,10))\n",
    "plt.title(\"/tmp/moving_circle_001.png\", fontsize=20)\n",
    "plt.imshow(YUV_moving_circle_001[:,:,0], cmap=\"gray\")"
   ]
  },
  {
   "cell_type": "code",
   "execution_count": null,
   "metadata": {},
   "outputs": [],
   "source": [
    "plt.plot(YUV_moving_circle_000[35, 0:40, 0])\n",
    "plt.show()\n",
    "plt.plot(YUV_moving_circle_001[35, 0:40, 0])\n",
    "plt.show()"
   ]
  },
  {
   "cell_type": "code",
   "execution_count": null,
   "metadata": {},
   "outputs": [],
   "source": [
    "n_levels = 2\n",
    "lp_000 = LP.analyze(YUV_moving_circle_000, n_levels)\n",
    "lp_001 = LP.analyze(YUV_moving_circle_001, n_levels)"
   ]
  },
  {
   "cell_type": "code",
   "execution_count": null,
   "metadata": {},
   "outputs": [],
   "source": [
    "def normalize(img):\n",
    "    max_component = np.max(img)\n",
    "    min_component = np.min(img)\n",
    "    max_min_component = max_component - min_component\n",
    "    return (img-min_component)/max_min_component\n",
    "\n",
    "def show_frame(frame, title=''):\n",
    "    frame = normalize(frame)\n",
    "    plt.figure(figsize=(10,10))\n",
    "    plt.title(title, fontsize=20)\n",
    "    plt.imshow(frame)"
   ]
  },
  {
   "cell_type": "code",
   "execution_count": null,
   "metadata": {},
   "outputs": [],
   "source": [
    "for l in range(n_levels+1):\n",
    "    plt.figure(figsize=(10,10))\n",
    "    plt.title(f\"{l}\")\n",
    "    plt.imshow(normalize(lp_000[l]))\n",
    "    plt.show()\n",
    "    plt.figure(figsize=(10,10))\n",
    "    plt.imshow(normalize(lp_001[l]))\n",
    "    plt.show()"
   ]
  },
  {
   "cell_type": "code",
   "execution_count": null,
   "metadata": {},
   "outputs": [],
   "source": [
    "for l in range(n_levels+1):\n",
    "    plt.figure(figsize=(10,10))\n",
    "    plt.title(f\"{l}\")\n",
    "    plt.imshow(lp_000[l][:,:,0], cmap=\"gray\")\n",
    "    plt.show()\n",
    "    plt.figure(figsize=(10,10))\n",
    "    plt.imshow(lp_001[l][:,:,0], cmap=\"gray\")\n",
    "    plt.show()"
   ]
  },
  {
   "cell_type": "markdown",
   "metadata": {},
   "source": [
    "### DWT of the base of the pyramid"
   ]
  },
  {
   "cell_type": "code",
   "execution_count": null,
   "metadata": {},
   "outputs": [],
   "source": [
    "import pywt"
   ]
  },
  {
   "cell_type": "code",
   "execution_count": null,
   "metadata": {},
   "outputs": [],
   "source": [
    "LL, (LH, HL, HH) = pywt.dwt2(lp_000[0][:,:,0], \"haar\")"
   ]
  },
  {
   "cell_type": "code",
   "execution_count": null,
   "metadata": {},
   "outputs": [],
   "source": [
    "plt.figure(figsize=(10,10))\n",
    "plt.title(\"/tmp/level 1 (image 000)\", fontsize=20)\n",
    "plt.imshow(LL, cmap=\"gray\")"
   ]
  },
  {
   "cell_type": "markdown",
   "metadata": {},
   "source": [
    "## Ignore the rest"
   ]
  },
  {
   "cell_type": "code",
   "execution_count": null,
   "metadata": {},
   "outputs": [],
   "source": [
    "%%bash\n",
    "\n",
    "# The images are in the RGB domain and we work in the YUV domain, so we convert them.\n",
    "/home/vruiz/MRVC/tools/RGB2YUV.py -i /tmp/moving_circle_000.png -o /tmp/YUV_moving_circle_000.png\n",
    "/home/vruiz/MRVC/tools/RGB2YUV.py -i /tmp/moving_circle_001.png -o /tmp/YUV_moving_circle_001.png"
   ]
  },
  {
   "cell_type": "code",
   "execution_count": null,
   "metadata": {},
   "outputs": [],
   "source": [
    "# Plot the first part (from pixel 0 to 39) of the horizontal line (row 35) of the luminance.\n",
    "YUV_moving_circle_000 = cv2.imread(\"/tmp/YUV_moving_circle_000.png\")\n",
    "YUV_moving_circle_001 = cv2.imread(\"/tmp/YUV_moving_circle_001.png\")\n",
    "plt.plot(YUV_moving_circle_000[35, 0:40, 0])\n",
    "plt.show()\n",
    "plt.plot(YUV_moving_circle_001[35, 0:40, 0])\n",
    "plt.show()"
   ]
  },
  {
   "cell_type": "code",
   "execution_count": null,
   "metadata": {},
   "outputs": [],
   "source": [
    "# Generate Gaussian pyramid (of 2 levels) for both images\n",
    "# (https://opencv-python-tutroals.readthedocs.io/en/latest/py_tutorials/py_imgproc/py_pyramids/py_pyramids.html)\n",
    "\n",
    "levels = 2\n",
    "\n",
    "G_000 = YUV_moving_circle_000[:,:,0]#.copy()\n",
    "G_001 = YUV_moving_circle_001[:,:,0]#.copy()\n",
    "gp_000 = [G_000]\n",
    "gp_001 = [G_001]\n",
    "for i in range(levels):\n",
    "    G_000 = cv2.pyrDown(G_000)\n",
    "    G_001 = cv2.pyrDown(G_001)\n",
    "    gp_000.append(G_000)\n",
    "    gp_001.append(G_001)"
   ]
  },
  {
   "cell_type": "code",
   "execution_count": null,
   "metadata": {},
   "outputs": [],
   "source": [
    "plt.figure(figsize=(10,10))\n",
    "plt.title(\"/tmp/level 1 (image 000)\", fontsize=20)\n",
    "plt.imshow(gp_000[0], cmap=\"gray\")"
   ]
  },
  {
   "cell_type": "code",
   "execution_count": null,
   "metadata": {},
   "outputs": [],
   "source": [
    "# Generate Laplacian Pyramid for both images.\n",
    "lp_000 = [gp_000[levels-1]]\n",
    "lp_001 = [gp_001[levels-1]]\n",
    "for i in range(levels-1, 0, -1):\n",
    "    GE_000 = cv2.pyrUp(gp_000[i])\n",
    "    GE_001 = cv2.pyrUp(gp_001[i])\n",
    "    #L_000 = cv2.subtract(gp_000[i-1], GE_000)\n",
    "    L_000 = gp_000[i-1]- GE_000\n",
    "    #L_001 = cv2.subtract(gp_001[i-1], GE_001)\n",
    "    L_001 = gp_001[i-1]- GE_001\n",
    "    lp_000.append(L_000)\n",
    "    lp_001.append(L_001)"
   ]
  },
  {
   "cell_type": "code",
   "execution_count": null,
   "metadata": {
    "scrolled": true
   },
   "outputs": [],
   "source": [
    "plt.figure(figsize=(10,10))\n",
    "plt.title(\"/tmp/level 1 (image 000)\", fontsize=20)\n",
    "plt.imshow(lp_000[1], cmap=\"gray\")"
   ]
  },
  {
   "cell_type": "code",
   "execution_count": null,
   "metadata": {},
   "outputs": [],
   "source": [
    "plt.figure(figsize=(10,10))\n",
    "plt.title(\"/tmp/level 1 (image 001)\", fontsize=20)\n",
    "plt.imshow(lp_001[1], cmap=\"gray\")"
   ]
  }
 ],
 "metadata": {
  "colab": {
   "include_colab_link": true,
   "name": "ejemplo.ipynb",
   "provenance": []
  },
  "kernelspec": {
   "display_name": "Python 3",
   "language": "python",
   "name": "python3"
  },
  "language_info": {
   "codemirror_mode": {
    "name": "ipython",
    "version": 3
   },
   "file_extension": ".py",
   "mimetype": "text/x-python",
   "name": "python",
   "nbconvert_exporter": "python",
   "pygments_lexer": "ipython3",
   "version": "3.9.1"
  }
 },
 "nbformat": 4,
 "nbformat_minor": 1
}

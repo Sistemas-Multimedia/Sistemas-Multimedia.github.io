{
 "cells": [
  {
   "cell_type": "markdown",
   "metadata": {},
   "source": [
    "# Shift-invariance in the PDWT (Pyramid DWT) domain"
   ]
  },
  {
   "cell_type": "code",
   "execution_count": null,
   "metadata": {},
   "outputs": [],
   "source": [
    "import numpy as np\n",
    "import cv2\n",
    "import matplotlib.pyplot as plt\n",
    "import matplotlib.image as mimg\n",
    "%matplotlib inline\n",
    "import pywt\n",
    "from io_stuff import *\n",
    "from color import *"
   ]
  },
  {
   "cell_type": "markdown",
   "metadata": {},
   "source": [
    "### Create the three images\n",
    "With a circle of diameter 10 that moves from coordinate (30, 20), (30, 21), and (30, 22). (row, column)"
   ]
  },
  {
   "cell_type": "code",
   "execution_count": null,
   "metadata": {},
   "outputs": [],
   "source": [
    "%%bash\n",
    "jupyter nbconvert --to notebook --execute create_moving_circles.ipynb"
   ]
  },
  {
   "cell_type": "markdown",
   "metadata": {},
   "source": [
    "### Load the images"
   ]
  },
  {
   "cell_type": "code",
   "execution_count": null,
   "metadata": {},
   "outputs": [],
   "source": [
    "prefix = \"moving_circle_\"\n",
    "frame_0 = load_img(prefix + \"000\")\n",
    "frame_1 = load_img(prefix + \"001\")\n",
    "frame_2 = load_img(prefix + \"002\")"
   ]
  },
  {
   "cell_type": "markdown",
   "metadata": {},
   "source": [
    "### Work only with luma"
   ]
  },
  {
   "cell_type": "code",
   "execution_count": null,
   "metadata": {},
   "outputs": [],
   "source": [
    "frame_0_Y = RGB_to_YCoCg(frame_0)[:,:,0]\n",
    "frame_1_Y = RGB_to_YCoCg(frame_1)[:,:,0]\n",
    "frame_2_Y = RGB_to_YCoCg(frame_2)[:,:,0]"
   ]
  },
  {
   "cell_type": "markdown",
   "metadata": {},
   "source": [
    "### 2D-DWT of the frames"
   ]
  },
  {
   "cell_type": "code",
   "execution_count": null,
   "metadata": {},
   "outputs": [],
   "source": [
    "f0_haar_L, (f0_haar_LH, f0_haar_HL, f0_haar_HH) = pywt.dwt2(frame_0_Y, 'haar')\n",
    "f1_haar_L, (f1_haar_LH, f1_haar_HL, f1_haar_HH) = pywt.dwt2(frame_1_Y, 'haar')\n",
    "f2_haar_L, (f2_haar_LH, f2_haar_HL, f2_haar_HH) = pywt.dwt2(frame_2_Y, 'haar')"
   ]
  },
  {
   "cell_type": "markdown",
   "metadata": {},
   "source": [
    "### Creation of the [H] subbands\n",
    "Remember that the L subband is the same that in the DWT, and therefore, we are not going to recompute it now."
   ]
  },
  {
   "cell_type": "code",
   "execution_count": null,
   "metadata": {},
   "outputs": [],
   "source": [
    "f0_haar_iH = pywt.idwt2([None,(f0_haar_LH, f0_haar_HL, f0_haar_HH)], 'haar')\n",
    "f1_haar_iH = pywt.idwt2([None,(f1_haar_LH, f1_haar_HL, f1_haar_HH)], 'haar')\n",
    "f2_haar_iH = pywt.idwt2([None,(f2_haar_LH, f2_haar_HL, f2_haar_HH)], 'haar')"
   ]
  },
  {
   "cell_type": "code",
   "execution_count": null,
   "metadata": {},
   "outputs": [],
   "source": [
    "plt.figure(figsize=(10,10))\n",
    "plt.title(\"Frame 0. Haar. [H].\", fontsize=20)\n",
    "plt.imshow(f0_haar_iH, cmap=\"gray\")\n",
    "plt.savefig('f0_haar_iH.png')\n",
    "plt.show()"
   ]
  },
  {
   "cell_type": "code",
   "execution_count": null,
   "metadata": {},
   "outputs": [],
   "source": [
    "plt.figure(figsize=(10,10))\n",
    "plt.title(\"Frame 1. Haar. [H].\", fontsize=20)\n",
    "plt.imshow(f1_haar_iH, cmap=\"gray\")\n",
    "plt.savefig('f1_haar_iH.png')\n",
    "plt.show()"
   ]
  },
  {
   "cell_type": "code",
   "execution_count": null,
   "metadata": {},
   "outputs": [],
   "source": [
    "plt.figure(figsize=(10,10))\n",
    "plt.title(\"Frame 2. Haar. [H].\", fontsize=20)\n",
    "plt.imshow(f2_haar_iH, cmap=\"gray\")\n",
    "plt.savefig('f2_haar_iH.png')\n",
    "plt.show()"
   ]
  },
  {
   "cell_type": "code",
   "execution_count": null,
   "metadata": {
    "scrolled": true
   },
   "outputs": [],
   "source": [
    "plt.title(\"Frames 0 and 1. Haar. [H]\")\n",
    "plt.plot(np.roll(f0_haar_iH[36, 0:40], 1), label=\"prediction\")\n",
    "plt.plot(f1_haar_iH[36, 0:40], linestyle=':', linewidth=4, label=\"predicted\")\n",
    "plt.legend()\n",
    "plt.savefig(\"f0_1_haar_iH.svg\")\n",
    "plt.show()"
   ]
  },
  {
   "cell_type": "code",
   "execution_count": null,
   "metadata": {},
   "outputs": [],
   "source": [
    "plt.title(\"Frames 0 and 2. Haar. [H]\")\n",
    "plt.plot(np.roll(f0_haar_iH[36, 0:40], 2), label=\"prediction\")\n",
    "plt.plot(f2_haar_iH[36, 0:40], linestyle=':', linewidth=4, label=\"predicted\")\n",
    "plt.legend()\n",
    "plt.savefig(\"f0_2_haar_iH.svg\")\n",
    "plt.show()"
   ]
  },
  {
   "cell_type": "markdown",
   "metadata": {},
   "source": [
    "### Let's see the results of the MC between frames 0 and 1 in the critical domain"
   ]
  },
  {
   "cell_type": "code",
   "execution_count": null,
   "metadata": {},
   "outputs": [],
   "source": [
    "predicted = f1_haar_iH\n",
    "prediction = np.roll(f0_haar_iH, 1) # Moves all rows\n",
    "error = predicted - prediction"
   ]
  },
  {
   "cell_type": "code",
   "execution_count": null,
   "metadata": {},
   "outputs": [],
   "source": [
    "plt.title(\"Prediction error. Haar. [H]\")\n",
    "plt.plot(error[36, 0:40], linestyle='-', linewidth=2)\n",
    "#plt.legend()\n",
    "plt.savefig(\"f0_1_haar_iH_error.svg\")\n",
    "plt.show()"
   ]
  },
  {
   "cell_type": "code",
   "execution_count": null,
   "metadata": {},
   "outputs": [],
   "source": [
    "error_L, (error_LH, error_HL, error_HH) = pywt.dwt2(error, 'haar')"
   ]
  },
  {
   "cell_type": "code",
   "execution_count": null,
   "metadata": {
    "scrolled": true
   },
   "outputs": [],
   "source": [
    "plt.title(\"Prediction error. Haar. H\")\n",
    "plt.plot(error_LH[18, 0:20], linestyle='-', linewidth=2, label=\"LH\")\n",
    "plt.plot(error_HL[18, 0:20], linestyle='-', linewidth=2, label=\"HL\")\n",
    "plt.plot(error_HH[18, 0:20], linestyle=':', linewidth=4, label=\"HH\")\n",
    "plt.legend()\n",
    "plt.savefig(\"f0_1_haar_LHHLHH_error.svg\")\n",
    "plt.show()"
   ]
  },
  {
   "cell_type": "markdown",
   "metadata": {},
   "source": [
    "It makes sense that we only have energy in one dimension (the horizontal one)."
   ]
  },
  {
   "cell_type": "markdown",
   "metadata": {},
   "source": [
    "### And now, the results of the MC between frames 0 and 2 in the critical domain"
   ]
  },
  {
   "cell_type": "code",
   "execution_count": null,
   "metadata": {},
   "outputs": [],
   "source": [
    "predicted = f2_haar_iH\n",
    "prediction = np.roll(f0_haar_iH, 2) # Moves all rows\n",
    "error = predicted - prediction"
   ]
  },
  {
   "cell_type": "code",
   "execution_count": null,
   "metadata": {},
   "outputs": [],
   "source": [
    "plt.title(\"Prediction error. Haar. [H]\")\n",
    "plt.plot(error[36, 0:40], linestyle='-', linewidth=2)\n",
    "#plt.legend()\n",
    "#plt.savefig(\"f0_1_haar_iH.svg\")\n",
    "plt.show()"
   ]
  },
  {
   "cell_type": "code",
   "execution_count": null,
   "metadata": {},
   "outputs": [],
   "source": [
    "error_L, (error_LH, error_HL, error_HH) = pywt.dwt2(error, 'haar')"
   ]
  },
  {
   "cell_type": "code",
   "execution_count": null,
   "metadata": {},
   "outputs": [],
   "source": [
    "plt.title(\"Prediction error. Haar. H\")\n",
    "plt.plot(error_LH[18, 0:20], linestyle='-', linewidth=2, label=\"LH\")\n",
    "plt.plot(error_HL[18, 0:20], linestyle='-', linewidth=2, label=\"HL\")\n",
    "plt.plot(error_HH[18, 0:20], linestyle=':', linewidth=4, label=\"HH\")\n",
    "plt.legend()\n",
    "#plt.savefig(\"f0_1_haar_iH.svg\")\n",
    "plt.show()"
   ]
  },
  {
   "cell_type": "code",
   "execution_count": null,
   "metadata": {},
   "outputs": [],
   "source": []
  }
 ],
 "metadata": {
  "kernelspec": {
   "display_name": "Python 3",
   "language": "python",
   "name": "python3"
  },
  "language_info": {
   "codemirror_mode": {
    "name": "ipython",
    "version": 3
   },
   "file_extension": ".py",
   "mimetype": "text/x-python",
   "name": "python",
   "nbconvert_exporter": "python",
   "pygments_lexer": "ipython3",
   "version": "3.9.1"
  }
 },
 "nbformat": 4,
 "nbformat_minor": 4
}

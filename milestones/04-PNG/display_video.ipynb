{
 "cells": [
  {
   "cell_type": "markdown",
   "metadata": {
    "colab_type": "text",
    "id": "view-in-github"
   },
   "source": [
    "[![Binder](https://mybinder.org/badge_logo.svg)](https://nbviewer.org/github/Sistemas-Multimedia/Sistemas-Multimedia.github.io/blob/master/milestones/04-the_data/display_video.ipynb)"
   ]
  },
  {
   "cell_type": "markdown",
   "metadata": {},
   "source": [
    "# Display a sequence of video"
   ]
  },
  {
   "cell_type": "code",
   "execution_count": null,
   "metadata": {},
   "outputs": [],
   "source": [
    "import numpy as np\n",
    "import cv2 # pip install opencv-python\n",
    "import matplotlib.pyplot as plt\n",
    "import matplotlib.image as mpimg\n",
    "import os\n",
    "!ln -sf ~/MRVC/src/image_3.py .\n",
    "import image_3 as frame"
   ]
  },
  {
   "cell_type": "code",
   "execution_count": null,
   "metadata": {},
   "outputs": [],
   "source": [
    "def show(img, title):\n",
    "    img = frame.normalize(img)\n",
    "    plt.figure(figsize=(10,10))\n",
    "    plt.title(title, fontsize=20)\n",
    "    plt.imshow(img)\n",
    "\n",
    "def show_seq(prefix=\"/tmp/\", n_frames=5):\n",
    "    for i in range(n_frames):\n",
    "        img = frame.read(prefix, i)\n",
    "        show(img, f\"{prefix}{i:03d}\")\n",
    "\n",
    "def show_motion(prefix=\"/tmp/\", n_frames=5):\n",
    "    plt.figure(figsize=(10,10))\n",
    "    prev = frame.read(prefix, 0)\n",
    "    plt.title(f\"{prefix}000\", fontsize=20)\n",
    "    plt.imshow(frame.normalize(prev))\n",
    "    for i in range(1, n_frames, 1):\n",
    "        img = frame.read(prefix, i)\n",
    "        diff = img.astype(np.int16) - prev\n",
    "        prev = img\n",
    "        diff = frame.normalize(diff)\n",
    "        plt.figure(figsize=(10,10))\n",
    "        plt.title(f\"{prefix}{i:03d}\", fontsize=20)\n",
    "        plt.imshow(diff)\n",
    "        #plt.imshow(diff[0])"
   ]
  },
  {
   "cell_type": "code",
   "execution_count": null,
   "metadata": {},
   "outputs": [],
   "source": [
    "HOME = os.environ[\"HOME\"]\n",
    "sequence_path = HOME + \"/MRVC/sequences/stockholm/\""
   ]
  },
  {
   "cell_type": "code",
   "execution_count": null,
   "metadata": {},
   "outputs": [],
   "source": [
    "img = frame.read(sequence_path, 0)\n",
    "show(img, \"stockholm000\")"
   ]
  },
  {
   "cell_type": "code",
   "execution_count": null,
   "metadata": {
    "scrolled": false
   },
   "outputs": [],
   "source": [
    "show_seq(sequence_path) # <- Your path here!"
   ]
  },
  {
   "cell_type": "code",
   "execution_count": null,
   "metadata": {
    "scrolled": false
   },
   "outputs": [],
   "source": [
    "show_motion(sequence_path)"
   ]
  }
 ],
 "metadata": {
  "colab": {
   "include_colab_link": true,
   "name": "ejemplo.ipynb",
   "provenance": []
  },
  "kernelspec": {
   "display_name": "Python 3 (ipykernel)",
   "language": "python",
   "name": "python3"
  },
  "language_info": {
   "codemirror_mode": {
    "name": "ipython",
    "version": 3
   },
   "file_extension": ".py",
   "mimetype": "text/x-python",
   "name": "python",
   "nbconvert_exporter": "python",
   "pygments_lexer": "ipython3",
   "version": "3.10.0"
  }
 },
 "nbformat": 4,
 "nbformat_minor": 1
}

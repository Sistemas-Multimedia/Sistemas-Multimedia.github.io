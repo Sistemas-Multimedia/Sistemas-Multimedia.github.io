{
 "cells": [
  {
   "cell_type": "markdown",
   "metadata": {},
   "source": [
    "# RD performance of the 2D-DWT"
   ]
  },
  {
   "cell_type": "code",
   "execution_count": null,
   "metadata": {},
   "outputs": [],
   "source": [
    "%matplotlib inline\n",
    "\n",
    "import matplotlib\n",
    "import matplotlib.pyplot as plt\n",
    "import matplotlib.axes as ax\n",
    "import math\n",
    "import numpy as np\n",
    "from scipy import signal\n",
    "import cv2\n",
    "import os\n",
    "import pywt\n",
    "import pylab\n",
    "!ln -sf ~/MRVC/src/deadzone.py .\n",
    "import deadzone\n",
    "!ln -sf ~/MRVC/src/frame.py .\n",
    "import frame\n",
    "!ln -sf ~/MRVC/src/YCoCg.py .\n",
    "import YCoCg\n",
    "!ln -sf ~/MRVC/src/DWT.py .\n",
    "import DWT"
   ]
  },
  {
   "cell_type": "code",
   "execution_count": null,
   "metadata": {},
   "outputs": [],
   "source": [
    "def q_deq(x, quantization_step):\n",
    "    k = deadzone.quantize(x, quantization_step)\n",
    "    y = deadzone.dequantize(k, quantization_step)\n",
    "    return k, y"
   ]
  },
  {
   "cell_type": "code",
   "execution_count": null,
   "metadata": {},
   "outputs": [],
   "source": [
    "def read_indexes(prefix):\n",
    "    frame.read(prefix)\n",
    "    \n",
    "def write_indexes(prefix):\n",
    "    frame.save(prefix)"
   ]
  },
  {
   "cell_type": "code",
   "execution_count": null,
   "metadata": {},
   "outputs": [],
   "source": [
    "fn = \"/home/vruiz/MRVC/sequences/stockholm_5_frames/000\"\n",
    "RGB_frame = frame.read(fn)"
   ]
  },
  {
   "cell_type": "code",
   "execution_count": null,
   "metadata": {},
   "outputs": [],
   "source": [
    "def show(img, title):\n",
    "    img = frame.normalize(img)\n",
    "    plt.figure(figsize=(10,10))\n",
    "    plt.title(title, fontsize=20)\n",
    "    plt.imshow(img)"
   ]
  },
  {
   "cell_type": "code",
   "execution_count": null,
   "metadata": {},
   "outputs": [],
   "source": [
    "show(RGB_frame, \"stockholm000\")"
   ]
  },
  {
   "cell_type": "code",
   "execution_count": null,
   "metadata": {},
   "outputs": [],
   "source": [
    "def average_energy(x):\n",
    "    return np.sum(x.astype(np.double)*x.astype(np.double))/(np.size(x))\n",
    "\n",
    "def MSE(x, y):\n",
    "    error_signal = x.astype(np.float32) - y\n",
    "    return average_energy(error_signal)\n",
    "\n",
    "def RMSE(x, y):\n",
    "    error_signal = x.astype(np.float32) - y\n",
    "    return math.sqrt(MSE(error_signal))"
   ]
  },
  {
   "cell_type": "code",
   "execution_count": null,
   "metadata": {},
   "outputs": [],
   "source": [
    "def bytes_per_frame(_frame):\n",
    "    frame.write(_frame, \"/tmp/frame\")\n",
    "    length_in_bytes = os.path.getsize(\"/tmp/frame.png\")\n",
    "    return length_in_bytes\n",
    "\n",
    "def bytes_per_grayframe(_frame):\n",
    "    cv2.imwrite(\"/tmp/frame.png\", _frame)\n",
    "    length_in_bytes = os.path.getsize(\"/tmp/frame.png\")\n",
    "    return length_in_bytes"
   ]
  },
  {
   "cell_type": "markdown",
   "metadata": {},
   "source": [
    "## Quantizing the RGB domain"
   ]
  },
  {
   "cell_type": "code",
   "execution_count": null,
   "metadata": {},
   "outputs": [],
   "source": [
    "def only_Q_RD_curve(frame):\n",
    "    points = []\n",
    "    for q_step in range(0, 8):\n",
    "        k, y = q_deq(frame, 1<<q_step)\n",
    "        k = k.astype(np.uint8)\n",
    "        rate = bytes_per_frame(k)\n",
    "        distortion = MSE(frame, y)\n",
    "        print(f\"q_step={1<<q_step:>3}, rate={rate:>7} bytes, distortion={distortion:>6.1f}\")\n",
    "        points.append((rate, distortion))\n",
    "    return points\n",
    "\n",
    "RGB_points = only_Q_RD_curve(RGB_frame)"
   ]
  },
  {
   "cell_type": "markdown",
   "metadata": {},
   "source": [
    "## Quantizing the YCoCg domain"
   ]
  },
  {
   "cell_type": "code",
   "execution_count": null,
   "metadata": {},
   "outputs": [],
   "source": [
    "def YCoCg_RD_curve(RGB_frame):\n",
    "    RD_points = []\n",
    "    for q_step in range(0, 8):\n",
    "        YCoCg_frame = YCoCg.from_RGB(RGB_frame.astype(np.int16))\n",
    "        k, dequantized_YCoCg_frame = q_deq(YCoCg_frame, 1<<q_step)\n",
    "        k = k.astype(np.uint8)\n",
    "        rate = bytes_per_frame(k)\n",
    "        dequantized_RGB_frame = YCoCg.to_RGB(dequantized_YCoCg_frame)\n",
    "        distortion = MSE(RGB_frame, dequantized_RGB_frame)\n",
    "        print(f\"q_step={1<<q_step:>3}, rate={rate:>7} bytes, distortion={distortion:>6.1f}\")\n",
    "        RD_points.append((rate, distortion))\n",
    "    return RD_points\n",
    "\n",
    "YCoCg_points = YCoCg_RD_curve(RGB_frame)"
   ]
  },
  {
   "cell_type": "code",
   "execution_count": null,
   "metadata": {},
   "outputs": [],
   "source": [
    "WAVELET = pywt.Wavelet(\"db5\")\n",
    "#WAVELET = pywt.Wavelet(\"bior3.5\")\n",
    "N_LEVELS = 3\n",
    "\n",
    "def color_DWT_analyze(color_frame, wavelet=WAVELET, n_levels=N_LEVELS):\n",
    "    n_channels = color_frame.shape[2]\n",
    "    color_decomposition = [None]*n_channels\n",
    "    for c in range(n_channels):\n",
    "        color_decomposition[c] = pywt.wavedec2(data=color_frame[:,:,c], wavelet=wavelet, mode='per', level=n_levels)\n",
    "    return color_decomposition # A list of \"gray\" decompositions\n",
    "\n",
    "def _color_DWT_analyze(color_frame, wavelet=WAVELET, n_levels=N_LEVELS):\n",
    "    n_channels = color_frame.shape[0]\n",
    "    color_decomposition = [None]*n_channels\n",
    "    for c in range(n_channels):\n",
    "        color_decomposition[c] = pywt.wavedec2(data=color_frame[c], wavelet=wavelet, mode='per', level=n_levels)\n",
    "    return color_decomposition # A list of \"gray\" decompositions\n",
    "\n",
    "def color_DWT_synthesize(color_decomposition, wavelet=WAVELET):\n",
    "    n_channels = len(color_decomposition)\n",
    "    #n_levels = len(color_decomposition[0])-1\n",
    "    # color_decomposition[0] <- First channel\n",
    "    # color_decomposition[0][0] <- cAn (lowest frequecy subband) of the first channel\n",
    "    # color_decomposition[0][1] <- (cHn, cVn, cDn) (lowest high-frequency subbands) of the first channel\n",
    "    # color_decomposition[0][1][0] <- cHn (LH subband) of the first channel\n",
    "    # See https://pywavelets.readthedocs.io/en/latest/ref/2d-dwt-and-idwt.html#d-multilevel-decomposition-using-wavedec2\n",
    "    _color_frame = []\n",
    "    for c in range(n_channels):\n",
    "        frame = pywt.waverec2(color_decomposition[c], wavelet=wavelet, mode='per')\n",
    "        _color_frame.append(frame)\n",
    "    n_rows = _color_frame[0].shape[0]\n",
    "    n_columns = _color_frame[0].shape[1]\n",
    "    color_frame = np.ndarray((n_rows, n_columns, n_channels), np.float64)\n",
    "    for c in range(n_channels):\n",
    "        color_frame[:,:,c] = _color_frame[c][:,:]\n",
    "    return color_frame\n",
    "\n",
    "def _color_DWT_synthesize(color_decomposition, wavelet=WAVELET):\n",
    "    n_channels = len(color_decomposition)\n",
    "    #n_levels = len(color_decomposition[0])-1\n",
    "    # color_decomposition[0] <- First channel\n",
    "    # color_decomposition[0][0] <- cAn (lowest frequecy subband) of the first channel\n",
    "    # color_decomposition[0][1] <- (cHn, cVn, cDn) (lowest high-frequency subbands) of the first channel\n",
    "    # color_decomposition[0][1][0] <- cHn (LH subband) of the first channel\n",
    "    # See https://pywavelets.readthedocs.io/en/latest/ref/2d-dwt-and-idwt.html#d-multilevel-decomposition-using-wavedec2\n",
    "    _color_frame = []\n",
    "    for c in range(n_channels):\n",
    "        _frame = pywt.waverec2(color_decomposition[c], wavelet=wavelet, mode='per')\n",
    "        _color_frame.append(_frame)\n",
    "    #n_rows = _color_frame[1].shape[0]\n",
    "    #n_columns = _color_frame[2].shape[1]\n",
    "    #color_frame = np.ndarray((n_channels, n_rows, n_columns), np.float64)\n",
    "    #for c in range(n_channels):\n",
    "    #    color_frame[c] = _color_frame[c][:,:]\n",
    "    return np.array(_color_frame)"
   ]
  },
  {
   "cell_type": "markdown",
   "metadata": {},
   "source": [
    "### Testing reversebility"
   ]
  },
  {
   "cell_type": "code",
   "execution_count": null,
   "metadata": {},
   "outputs": [],
   "source": [
    "RGB_decomposition = color_DWT_analyze(RGB_frame, n_levels=2)\n",
    "RGB_reconstructed_frame = color_DWT_synthesize(RGB_decomposition)\n",
    "(RGB_frame == RGB_reconstructed_frame).all()"
   ]
  },
  {
   "cell_type": "code",
   "execution_count": null,
   "metadata": {},
   "outputs": [],
   "source": [
    "RGB_decomposition = DWT.analyze(RGB_frame, n_levels=2)\n",
    "RGB_reconstructed_frame = DWT.synthesize(RGB_decomposition)\n",
    "(RGB_frame == RGB_reconstructed_frame).all()"
   ]
  },
  {
   "cell_type": "code",
   "execution_count": null,
   "metadata": {},
   "outputs": [],
   "source": [
    "RGB_reconstructed_frame.shape"
   ]
  },
  {
   "cell_type": "code",
   "execution_count": null,
   "metadata": {},
   "outputs": [],
   "source": [
    "show(RGB_frame, \"original\")"
   ]
  },
  {
   "cell_type": "code",
   "execution_count": null,
   "metadata": {},
   "outputs": [],
   "source": [
    "show(RGB_reconstructed_frame, \"reconstruction\")"
   ]
  },
  {
   "cell_type": "code",
   "execution_count": null,
   "metadata": {},
   "outputs": [],
   "source": [
    "show(RGB_frame - RGB_reconstructed_frame, \"difference\")"
   ]
  },
  {
   "cell_type": "code",
   "execution_count": null,
   "metadata": {},
   "outputs": [],
   "source": [
    "YCoCg_frame = YCoCg.from_RGB(RGB_frame)\n",
    "YCoCg_decomposition = color_DWT_analyze(YCoCg_frame, n_levels=2)\n",
    "YCoCg_reconstructed_frame = color_DWT_synthesize(YCoCg_decomposition)\n",
    "RGB_reconstructed_frame = YCoCg.to_RGB(YCoCg_reconstructed_frame)\n",
    "(RGB_frame == RGB_reconstructed_frame).all()"
   ]
  },
  {
   "cell_type": "code",
   "execution_count": null,
   "metadata": {},
   "outputs": [],
   "source": [
    "YCoCg_frame = YCoCg.from_RGB(RGB_frame.astype(np.int16))\n",
    "YCoCg_decomposition = DWT.analyze(YCoCg_frame, n_levels=2)\n",
    "YCoCg_reconstructed_frame = DWT.synthesize(YCoCg_decomposition)\n",
    "RGB_reconstructed_frame = YCoCg.to_RGB(YCoCg_reconstructed_frame)\n",
    "(RGB_frame == RGB_reconstructed_frame).all()"
   ]
  },
  {
   "cell_type": "code",
   "execution_count": null,
   "metadata": {},
   "outputs": [],
   "source": [
    "show(RGB_frame, \"original\") "
   ]
  },
  {
   "cell_type": "code",
   "execution_count": null,
   "metadata": {},
   "outputs": [],
   "source": [
    "show(RGB_reconstructed_frame, \"reconstruction\")"
   ]
  },
  {
   "cell_type": "code",
   "execution_count": null,
   "metadata": {},
   "outputs": [],
   "source": [
    "show(RGB_frame - RGB_reconstructed_frame, \"difference\")"
   ]
  },
  {
   "cell_type": "markdown",
   "metadata": {},
   "source": [
    "## Quantizing the YCoCg/DWT domain"
   ]
  },
  {
   "cell_type": "code",
   "execution_count": null,
   "metadata": {},
   "outputs": [],
   "source": [
    "def DWT_RD_curve(RGB_frame, n_levels=N_LEVELS):\n",
    "    n_channels = RGB_frame.shape[2]\n",
    "    RD_points = []\n",
    "    for q_step in range(0, 8):\n",
    "        YCoCg_frame = YCoCg.from_RGB(RGB_frame.astype(np.int16))\n",
    "        YCoCg_decomposition = DWT.analyze(YCoCg_frame, n_levels=n_levels)\n",
    "        dequantized_YCoCg_decomposition = []\n",
    "        rate = 0\n",
    "        for channel in range(n_channels):\n",
    "            # In a channel there is a decomposition\n",
    "            decomposition = YCoCg_decomposition[channel]\n",
    "            cAn = decomposition[0]\n",
    "            k, dequantized_cAn = q_deq(cAn, 1<<q_step)\n",
    "            k = k.astype(np.uint8)\n",
    "            dequantized_decomposition = [dequantized_cAn]\n",
    "            rate += bytes_per_frame(k)\n",
    "            rest_of_resolutions = decomposition[1:]\n",
    "            for resolution in rest_of_resolutions:\n",
    "                # In a resolution there is/are one/three subbands\n",
    "                dequantized_resolution = []\n",
    "                for subband in resolution:\n",
    "                    k, dequantized_subband = q_deq(subband, 1<<q_step)\n",
    "                    k = k.astype(np.uint8)\n",
    "                    rate += bytes_per_grayframe(k)\n",
    "                    dequantized_resolution.append(dequantized_subband)\n",
    "                dequantized_decomposition.append(tuple(dequantized_resolution))\n",
    "            dequantized_YCoCg_decomposition.append(dequantized_decomposition)\n",
    "        reconstructed_YCoCg_frame = DWT.synthesize(dequantized_YCoCg_decomposition)\n",
    "        reconstructed_RGB_frame = YCoCg.to_RGB(reconstructed_YCoCg_frame)\n",
    "        distortion = MSE(RGB_frame, reconstructed_RGB_frame)\n",
    "        print(f\"q_step={1<<q_step:>3}, rate={rate:>7} bytes, distortion={distortion:>6.1f}\")\n",
    "        RD_points.append((rate, distortion))\n",
    "    return RD_points\n",
    "\n",
    "DWT_points_1 = DWT_RD_curve(RGB_frame, n_levels=1)\n",
    "DWT_points_2 = DWT_RD_curve(RGB_frame, n_levels=2)\n",
    "DWT_points_3 = DWT_RD_curve(RGB_frame, n_levels=3)"
   ]
  },
  {
   "cell_type": "code",
   "execution_count": null,
   "metadata": {},
   "outputs": [],
   "source": [
    "pylab.figure(dpi=150)\n",
    "pylab.plot(*zip(*DWT_points_1), c='r', marker=\"x\", label='DWT(n_levels=1)')\n",
    "pylab.plot(*zip(*DWT_points_2), c='g', marker=\"x\", label='DWT(n_levels=2)')\n",
    "pylab.plot(*zip(*DWT_points_3), c='b', marker=\"x\", label='DWT(n_levels=3)')\n",
    "pylab.title(\"Impact of the Number of Levels\")\n",
    "pylab.xlabel(\"Bytes/Frame\")\n",
    "pylab.ylabel(\"MSE\")\n",
    "plt.legend(loc='upper right')\n",
    "pylab.show()"
   ]
  },
  {
   "cell_type": "code",
   "execution_count": null,
   "metadata": {},
   "outputs": [],
   "source": [
    "pylab.figure(dpi=150)\n",
    "pylab.plot(*zip(*RGB_points), c='b', marker=\"x\", label='RGB')\n",
    "pylab.plot(*zip(*YCoCg_points), c='g', marker=\"x\", label='YCoCg')\n",
    "pylab.plot(*zip(*DWT_points_3), c='r', marker=\"x\", label='YCoCg+DWT')\n",
    "pylab.title(\"Global Performance\")\n",
    "pylab.xlabel(\"Bytes/Frame\")\n",
    "pylab.ylabel(\"MSE\")\n",
    "plt.legend(loc='upper right')\n",
    "#plt.yscale('log')\n",
    "pylab.show()"
   ]
  },
  {
   "cell_type": "markdown",
   "metadata": {},
   "source": [
    "## Ignore the rest"
   ]
  },
  {
   "cell_type": "code",
   "execution_count": null,
   "metadata": {},
   "outputs": [],
   "source": [
    "def RGB_to_YCoCg(RGB_frame):\n",
    "    R, G, B = RGB_frame[:,:,0], RGB_frame[:,:,1], RGB_frame[:,:,2]\n",
    "    YCoCg_frame = np.empty_like(RGB_frame)\n",
    "    YCoCg_frame[:,:,0] =  R/4 + G/2 + B/4 \n",
    "    YCoCg_frame[:,:,1] =  R/2       - B/2\n",
    "    YCoCg_frame[:,:,2] = -R/4 + G/2 - B/4\n",
    "    return YCoCg_frame\n",
    "\n",
    "def YCoCg_to_RGB(YCoCg_frame):\n",
    "    Y, Co, Cg = YCoCg_frame[:,:,0], YCoCg_frame[:,:,1], YCoCg_frame[:,:,2]\n",
    "    RGB_frame = np.empty_like(YCoCg_frame)\n",
    "    RGB_frame[:,:,0] = Y + Co - Cg \n",
    "    RGB_frame[:,:,1] = Y      + Cg\n",
    "    RGB_frame[:,:,2] = Y - Co - Cg\n",
    "    return RGB_frame"
   ]
  }
 ],
 "metadata": {
  "kernelspec": {
   "display_name": "Python 3",
   "language": "python",
   "name": "python3"
  },
  "language_info": {
   "codemirror_mode": {
    "name": "ipython",
    "version": 3
   },
   "file_extension": ".py",
   "mimetype": "text/x-python",
   "name": "python",
   "nbconvert_exporter": "python",
   "pygments_lexer": "ipython3",
   "version": "3.9.1"
  }
 },
 "nbformat": 4,
 "nbformat_minor": 4
}

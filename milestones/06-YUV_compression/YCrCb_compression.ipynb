{
 "cells": [
  {
   "cell_type": "markdown",
   "metadata": {},
   "source": [
    "# YCrCb image compression\n",
    "\n",
    "Removing the redundancy in the color domain with the YCrCb transform. [Color-DCT image quantization](https://github.com/Sistemas-Multimedia/Sistemas-Multimedia.github.io/blob/master/milestones/06-YUV_quantization/DCT_color_quantization.ipynb) should be revised first."
   ]
  },
  {
   "cell_type": "code",
   "execution_count": null,
   "metadata": {},
   "outputs": [],
   "source": [
    "%matplotlib inline\n",
    "\n",
    "import matplotlib\n",
    "import matplotlib.pyplot as plt\n",
    "import matplotlib.axes as ax\n",
    "#plt.rcParams['text.usetex'] = True\n",
    "#plt.rcParams['text.latex.preamble'] = [r'\\usepackage{amsmath}'] #for \\text command\n",
    "import pylab\n",
    "import math\n",
    "import numpy as np\n",
    "from scipy import signal\n",
    "import cv2\n",
    "import os\n",
    "!ln -sf ~/quantization/deadzone_quantizer.py .\n",
    "!ln -sf ~/quantization/midtread_quantizer.py .\n",
    "!ln -sf ~/quantization/midrise_quantizer.py .\n",
    "!ln -sf ~/quantization/distortion.py .\n",
    "!ln -sf ~/quantization/information.py .\n",
    "!ln -sf ~/MRVC/src/YCrCb.py .\n",
    "!ln -sf ~/MRVC/src/debug.py .\n",
    "!ln -sf ~/MRVC/src/image_3.py .\n",
    "!ln -sf ~/MRVC/src/image_1.py .\n",
    "!ln -sf ../common.py .\n",
    "import deadzone_quantizer as deadzone\n",
    "import midtread_quantizer as midtread\n",
    "import midrise_quantizer as midrise\n",
    "import YCrCb\n",
    "import distortion\n",
    "import information\n",
    "import image_3 as RGB_image\n",
    "import image_1 as gray_image\n",
    "import colored\n",
    "import common"
   ]
  },
  {
   "cell_type": "markdown",
   "metadata": {},
   "source": [
    "## Configuration"
   ]
  },
  {
   "cell_type": "code",
   "execution_count": null,
   "metadata": {},
   "outputs": [],
   "source": [
    "# Prefix of the RGB image to be quantized.\n",
    "\n",
    "home = os.environ[\"HOME\"]\n",
    "#fn = home + \"/MRVC/sequences/stockholm/\"\n",
    "fn = home + \"/MRVC/sequences/lena_color/\"\n",
    "image_dtype = np.uint8 # For 8 bpp/component images\n",
    "#image_dtype = np.uint16 # For 16 bpp/component images\n",
    "\n",
    "YCrCb_components = ['Y', 'Cr', 'Cb']\n",
    "\n",
    "# Number of quantization steps.\n",
    "N_Q_steps = 8\n",
    "#Q_steps = [256*i/N_Q_steps for i in range(N_Q_steps + 1, 0, -1)]\n",
    "Q_steps = [2**i for i in range(7, -1, -1)]\n",
    "print(Q_steps)\n",
    "\n",
    "#quantizer = midtread\n",
    "quantizer = deadzone\n",
    "#quantizer = midrise"
   ]
  },
  {
   "cell_type": "markdown",
   "metadata": {},
   "source": [
    "## Read the image and show it"
   ]
  },
  {
   "cell_type": "code",
   "execution_count": null,
   "metadata": {},
   "outputs": [],
   "source": [
    "RGB_img = RGB_image.read(fn).astype(image_dtype)\n",
    "common.show(RGB_img, fn + \"000.png\")"
   ]
  },
  {
   "cell_type": "code",
   "execution_count": null,
   "metadata": {},
   "outputs": [],
   "source": [
    "RGB_img.shape"
   ]
  },
  {
   "cell_type": "code",
   "execution_count": null,
   "metadata": {},
   "outputs": [],
   "source": [
    "RGB_img.dtype"
   ]
  },
  {
   "cell_type": "markdown",
   "metadata": {},
   "source": [
    "## (RGB -> YCrCb) transform of the image"
   ]
  },
  {
   "cell_type": "code",
   "execution_count": null,
   "metadata": {},
   "outputs": [],
   "source": [
    "YCrCb_img = YCrCb.from_RGB(RGB_img)\n",
    "print(YCrCb_img.dtype)\n",
    "Y_img = YCrCb_img[...,0]\n",
    "Cr_img = YCrCb_img[...,1]\n",
    "Cb_img = YCrCb_img[...,2]"
   ]
  },
  {
   "cell_type": "code",
   "execution_count": null,
   "metadata": {},
   "outputs": [],
   "source": [
    "common.show_gray(Y_img, fn + \"000 (Y comp.)\")"
   ]
  },
  {
   "cell_type": "code",
   "execution_count": null,
   "metadata": {},
   "outputs": [],
   "source": [
    "common.show_gray(Cr_img, fn + \"000 (Cr comp.)\")"
   ]
  },
  {
   "cell_type": "code",
   "execution_count": null,
   "metadata": {},
   "outputs": [],
   "source": [
    "common.show_gray(Cb_img, fn + \"000 (Cb comp.)\")"
   ]
  },
  {
   "cell_type": "markdown",
   "metadata": {},
   "source": [
    "The YCbCr components ranges between [0, 255] (obviously, for 8 bpp/component images)."
   ]
  },
  {
   "cell_type": "markdown",
   "metadata": {},
   "source": [
    "## Energy of the YCrCb components"
   ]
  },
  {
   "cell_type": "code",
   "execution_count": null,
   "metadata": {},
   "outputs": [],
   "source": [
    "Y_avg_energy = information.average_energy(Y_img)\n",
    "Cr_avg_energy = information.average_energy(Cr_img)\n",
    "Cb_avg_energy = information.average_energy(Cb_img)\n",
    "print(f\"Average energy in the Y image = {int(Y_avg_energy)}\")\n",
    "print(f\"Average energy in the Cr image = {int(Cr_avg_energy)}\")\n",
    "print(f\"Average energy in the Cb image = {int(Cb_avg_energy)}\")\n",
    "total_YCrCb_avg_energy = Y_avg_energy + Cr_avg_energy + Cb_avg_energy\n",
    "print(f\"Total average energy (computed by adding the energies of the YCrCb components {int(Y_avg_energy)} + {int(Cr_avg_energy)} + {int(Cb_avg_energy)}) = {int(total_YCrCb_avg_energy)}\")\n",
    "print(f\"Total RGB average energy (computed directly from the RGB image) = {int(information.average_energy(RGB_img)*3)}\")"
   ]
  },
  {
   "cell_type": "markdown",
   "metadata": {},
   "source": [
    "The forward YCrCb transform is not energy preserving, but is close."
   ]
  },
  {
   "cell_type": "code",
   "execution_count": null,
   "metadata": {},
   "outputs": [],
   "source": [
    "RGB_recons_img = YCrCb.to_RGB(YCrCb_img)\n",
    "print(f\"Total RGB average energy of reconstruction = {int(information.average_energy(RGB_recons_img)*3)}\")"
   ]
  },
  {
   "cell_type": "markdown",
   "metadata": {},
   "source": [
    "Neither the backward (inverse) YCrCb transform is. However, it is very close (this could be an error generated by the use of floating point arithmetic). Therefore, (RGB <-> YCrCb) is a 1-gain transform."
   ]
  },
  {
   "cell_type": "markdown",
   "metadata": {},
   "source": [
    "## (RGB <-> YCrCb) transform error"
   ]
  },
  {
   "cell_type": "code",
   "execution_count": null,
   "metadata": {},
   "outputs": [],
   "source": [
    "common.show(RGB_recons_img, fn + \"000.png (YCrCb recons)\")"
   ]
  },
  {
   "cell_type": "code",
   "execution_count": null,
   "metadata": {},
   "outputs": [],
   "source": [
    "np.array_equal(RGB_img, RGB_recons_img)"
   ]
  },
  {
   "cell_type": "code",
   "execution_count": null,
   "metadata": {},
   "outputs": [],
   "source": [
    "print(RGB_img.max(), RGB_img.min(), np.average(RGB_img))"
   ]
  },
  {
   "cell_type": "code",
   "execution_count": null,
   "metadata": {},
   "outputs": [],
   "source": [
    "print(RGB_recons_img.max(), RGB_recons_img.min(), np.average(RGB_recons_img))"
   ]
  },
  {
   "cell_type": "code",
   "execution_count": null,
   "metadata": {},
   "outputs": [],
   "source": [
    "common.show(RGB_img - RGB_recons_img, \"Reconstruction error (rounding error)\")"
   ]
  },
  {
   "cell_type": "markdown",
   "metadata": {},
   "source": [
    "As expected, the YCrCb transform is irreversible. In general, only integer arithmetic operations guarantees reversibility."
   ]
  },
  {
   "cell_type": "markdown",
   "metadata": {},
   "source": [
    "## Synthesis filters gains\n",
    "\n",
    "The synthesis filters gains are important because the quantization steps of each YCrCb component should be adjusted in order to effectively provide the desired number of [bins](http://www.winlab.rutgers.edu/~crose/322_html/quantization.pdf) (different dequantized values) in each component."
   ]
  },
  {
   "cell_type": "code",
   "execution_count": null,
   "metadata": {},
   "outputs": [],
   "source": [
    "def print_info(val):\n",
    "    Y_delta = np.array([val, 0, 0]).astype(np.uint8).reshape(1,1,3)\n",
    "    RGB_Y_delta = YCrCb.to_RGB(Y_delta)\n",
    "    RGB_energy_Y_delta = information.energy(RGB_Y_delta)\n",
    "    \n",
    "    Cr_delta = np.array([0, val, 0]).astype(np.uint8).reshape(1,1,3)\n",
    "    RGB_Cr_delta = YCrCb.to_RGB(Cr_delta)\n",
    "    RGB_energy_Cr_delta = information.energy(RGB_Cr_delta)\n",
    "    \n",
    "    Cb_delta = np.array([0, 0, val]).astype(np.uint8).reshape(1,1,3)\n",
    "    RGB_Cb_delta = YCrCb.to_RGB(Cb_delta)\n",
    "    RGB_energy_Cb_delta = information.energy(RGB_Cb_delta)\n",
    "    \n",
    "    zero = np.array([0, 0, 0]).astype(np.uint8).reshape(1,1,3)\n",
    "    RGB_zero = YCrCb.to_RGB(zero)\n",
    "    RGB_energy_zero = information.energy(RGB_zero)\n",
    "\n",
    "    print(f\"Energy of {Y_delta} in the RGB domain ({RGB_Y_delta}) = {RGB_energy_Y_delta}\")\n",
    "    print(f\"Energy of {Cr_delta} in the RGB domain ({RGB_Cr_delta}) = {RGB_energy_Cr_delta}\")\n",
    "    print(f\"Energy of {Cb_delta} in the RGB domain ({RGB_Cb_delta}) = {RGB_energy_Cb_delta}\")\n",
    "    print(f\"Energy of {zero} in the RGB domain ({RGB_zero}) = {RGB_energy_zero}\")\n",
    "    \n",
    "    max_ = max(RGB_energy_Y_delta, RGB_energy_Cr_delta, RGB_energy_Cb_delta)\n",
    "    Y_relative_gain = RGB_energy_Y_delta / max_\n",
    "    Cr_relative_gain = RGB_energy_Cr_delta / max_\n",
    "    Cb_relative_gain = RGB_energy_Cb_delta / max_\n",
    "    print(f\"Relative gain of Y component = {Y_relative_gain}\")\n",
    "    print(f\"Relative gain of Cr component = {Cr_relative_gain}\")\n",
    "    print(f\"Relative gain of Cb component = {Cb_relative_gain}\")\n",
    "    \n",
    "print_info(255)\n",
    "print()\n",
    "print_info(1)\n",
    "print()\n",
    "print_info(0)"
   ]
  },
  {
   "cell_type": "markdown",
   "metadata": {},
   "source": [
    "Unfortunately, as it can be seen, the gain of the filters of the inverse transform depends on the value of the \"delta\" in the YCrCb domain. This is a consequence of the no orthogonality of the transform (the analysis filters are not independent, and the same happens with the synthesis filters). Therefore, if we minimize the quantization error in the YCrCb domain we will not minimize the quantization error in the RGB domain. This also implies that the distortion cannot be measured in the YCrCb domain when we are performing a Rate/Distortion Optimization (RDO).\n",
    "\n",
    "OJO REVISAR Con YCoCg"
   ]
  },
  {
   "cell_type": "markdown",
   "metadata": {},
   "source": [
    "## Amplitude shift in the YCrCb domain\n",
    "\n",
    "To decide how to quantize, it is necessary to known how the amplitudes the image are *translated* to the transformed domain. A good choice to find out this is to transform electronic noise. In our case, lets use a random image with ([normal](https://numpy.org/doc/stable/reference/random/generated/numpy.random.normal.html)) [Gaussian noise](https://en.wikipedia.org/wiki/Gaussian_noise) with mean 128 (the YCrCb only works with positive amplitudes), YCrCb-it, and check where the transformed noise has its mean. Notice that, by definition, the noise cannot be decorrelated by transforms, and therefore, the noise is simply transfered to the transform domain."
   ]
  },
  {
   "cell_type": "code",
   "execution_count": null,
   "metadata": {},
   "outputs": [],
   "source": [
    "# loc = mean, scale=standard deviation, size=number of samples\n",
    "RGB_noise = np.random.normal(loc=128, scale=10, size=512*512*3).reshape(512,512,3).astype(image_dtype)"
   ]
  },
  {
   "cell_type": "code",
   "execution_count": null,
   "metadata": {},
   "outputs": [],
   "source": [
    "common.show(RGB_noise, \"Gaussian RGB noise\")"
   ]
  },
  {
   "cell_type": "code",
   "execution_count": null,
   "metadata": {},
   "outputs": [],
   "source": [
    "YCrCb_noise = YCrCb.from_RGB(RGB_noise)"
   ]
  },
  {
   "cell_type": "code",
   "execution_count": null,
   "metadata": {},
   "outputs": [],
   "source": [
    "common.show_gray(YCrCb_noise[..., 0], \"Gaussian Y noise\")"
   ]
  },
  {
   "cell_type": "code",
   "execution_count": null,
   "metadata": {},
   "outputs": [],
   "source": [
    "common.show_gray(YCrCb_noise[..., 1], \"Gaussian Cr noise\")"
   ]
  },
  {
   "cell_type": "code",
   "execution_count": null,
   "metadata": {},
   "outputs": [],
   "source": [
    "common.show_gray(YCrCb_noise[..., 2], \"Gaussian Cr noise\")"
   ]
  },
  {
   "cell_type": "markdown",
   "metadata": {},
   "source": [
    "The forward YCrCb transform does not shift the signal in amplitude."
   ]
  },
  {
   "cell_type": "markdown",
   "metadata": {},
   "source": [
    "## Simple quantization in the YCrCb domain ($\\Delta_{\\text{Y}} = \\Delta_{\\text{Cb}} = \\Delta_{\\text{Cr}}$)\n",
    "Notice that the distortion must be measured in the RGB domain, and that if the quantization steps are high enough, a 128-mean reconstructed RGB image should be generated."
   ]
  },
  {
   "cell_type": "code",
   "execution_count": null,
   "metadata": {
    "scrolled": false
   },
   "outputs": [],
   "source": [
    "def YCrCb_same_delta_RD_curve(RGB_img, Q_steps, quantizer):\n",
    "    YCrCb_img = YCrCb.from_RGB(RGB_img).astype(np.int16)\n",
    "    points = []\n",
    "    YCrCb_img -= 128\n",
    "    for Q_step in Q_steps:\n",
    "        YCrCb_y, k = quantizer.quan_dequan(YCrCb_img, Q_step)\n",
    "        #common.show(YCrCb_y,'')\n",
    "        print(np.max(YCrCb_y), np.min(YCrCb_y), np.average(YCrCb_y), YCrCb_y.dtype)\n",
    "        #k_min = np.min(k)\n",
    "        #rate = common.bits_per_color_pixel((k - k_min).astype(np.uint8), str(Q_step) + '_')\n",
    "        rate = common.bits_per_color_pixel(k.astype(np.uint8), str(Q_step) + '_')\n",
    "        #RGB_y = YCrCb.to_RGB(YCrCb_y)\n",
    "        RGB_y = YCrCb.to_RGB((YCrCb_y + 128).astype(image_dtype))\n",
    "        common.show(RGB_y.astype(image_dtype),'')\n",
    "        _distortion = distortion.MSE(RGB_img, RGB_y)\n",
    "        #_distortion = np.mean((RGB_img - RGB_y)**2)\n",
    "        points.append((rate, _distortion))\n",
    "        print(f\"q_step={Q_step:>3}, rate={rate:>7} bits/pixel, distortion={_distortion:>6.1f}\")\n",
    "    return points\n",
    "\n",
    "def YCrCb_same_delta_RD_curve2(RGB_img, Q_steps, quantizer):\n",
    "    YCrCb_img = YCrCb.from_RGB(RGB_img).astype(np.int16)\n",
    "    points = []\n",
    "    YCrCb_img -= 128\n",
    "    for Q_step in Q_steps:\n",
    "        YCrCb_y, k = quantizer.quan_dequan(YCrCb_img, Q_step)\n",
    "        #common.show(YCrCb_y,'')\n",
    "        print(np.max(YCrCb_y), np.min(YCrCb_y), np.average(YCrCb_y), YCrCb_y.dtype)\n",
    "        k_min = np.min(k)\n",
    "        rate = common.bits_per_color_pixel((k - k_min).astype(np.uint8), str(Q_step) + '_')\n",
    "        #rate = common.bits_per_color_pixel(k.astype(np.uint8), str(Q_step) + '_')\n",
    "        #RGB_y = YCrCb.to_RGB(YCrCb_y)\n",
    "        RGB_y = YCrCb.to_RGB((YCrCb_y + 128).astype(image_dtype))\n",
    "        common.show(RGB_y.astype(image_dtype),'')\n",
    "        _distortion = distortion.MSE(RGB_img, RGB_y)\n",
    "        #_distortion = np.mean((RGB_img - RGB_y)**2)\n",
    "        points.append((rate, _distortion))\n",
    "        print(f\"q_step={Q_step:>3}, rate={rate:>7} bits/pixel, distortion={_distortion:>6.1f}\")\n",
    "    return points\n",
    "\n",
    "def YCrCb_same_delta_RD_curve2_(RGB_img, Q_steps, quantizer):\n",
    "    YCrCb_img = YCrCb.from_RGB(RGB_img).astype(np.int16)\n",
    "    assert (YCrCb_img==YCrCb.from_RGB(RGB_img)).all()\n",
    "    points = []\n",
    "    #YCrCb_img -= 128\n",
    "    for Q_step in Q_steps:\n",
    "        YCrCb_y, k = quantizer.quan_dequan(YCrCb_img, Q_step)\n",
    "        #common.show(YCrCb_y,'')\n",
    "        print(np.max(YCrCb_y), np.min(YCrCb_y), np.average(YCrCb_y), YCrCb_y.dtype)\n",
    "        #k_min = np.min(k)\n",
    "        #rate = common.bits_per_color_pixel((k - k_min).astype(np.uint8), str(Q_step) + '_')\n",
    "        rate = common.bits_per_color_pixel(k.astype(np.uint8), str(Q_step) + '_')\n",
    "        RGB_y = YCrCb.to_RGB(YCrCb_y.astype(image_dtype))\n",
    "        #RGB_y = YCrCb.to_RGB(YCrCb_y + 128)\n",
    "        common.show(RGB_y.astype(image_dtype),'')\n",
    "        #_distortion = distortion.MSE(RGB_img, RGB_y)\n",
    "        _distortion = np.mean((RGB_img - RGB_y)**2)\n",
    "        points.append((rate, _distortion))\n",
    "        print(f\"q_step={Q_step:>3}, rate={rate:>7} bits/pixel, distortion={_distortion:>6.1f}\")\n",
    "    return points\n",
    "\n",
    "def YCrCb_same_delta_RD_curve3(RGB_img, Q_steps, quantizer):\n",
    "    YCrCb_img = YCrCb.from_RGB(RGB_img).astype(np.int16)\n",
    "    points = []\n",
    "    Y_min = 128 #np.min(YCrCb_img[..., 0])\n",
    "    Cr_min = 128 #np.min(YCrCb_img[..., 1])\n",
    "    Cb_min = 128 #np.min(YCrCb_img[..., 2])\n",
    "    print(Y_min, Cr_min, Cb_min)\n",
    "    YCrCb_img[..., 0] -= Y_min\n",
    "    YCrCb_img[..., 1] -= Cr_min\n",
    "    YCrCb_img[..., 2] -= Cb_min\n",
    "    for Q_step in Q_steps:\n",
    "        YCrCb_y, k = quantizer.quan_dequan(YCrCb_img, Q_step)\n",
    "        k_min = np.min(k)\n",
    "        rate = common.bits_per_color_pixel((k - k_min).astype(np.uint8), str(Q_step) + '_')\n",
    "        #rate = common.bits_per_color_pixel(k.astype(np.uint8), str(Q_step) + '_')\n",
    "        #RGB_y = YCrCb.to_RGB(YCrCb_y + 128)\n",
    "        YCrCb_y[..., 0] += Y_min\n",
    "        YCrCb_y[..., 1] += Cr_min\n",
    "        YCrCb_y[..., 2] += Cb_min\n",
    "        RGB_y = YCrCb.to_RGB(YCrCb_y.astype(image_dtype))\n",
    "        _distortion = distortion.MSE(RGB_img, RGB_y)\n",
    "        points.append((rate, _distortion))\n",
    "        print(f\"q_step={Q_step:>3}, rate={rate:>7} bits/pixel, distortion={_distortion:>6.1f}\")\n",
    "    return points\n",
    "\n",
    "def YCrCb_same_delta_RD_curve4(RGB_img, Q_steps, quantizer):\n",
    "    YCrCb_img = YCrCb.from_RGB(RGB_img).astype(np.int16)\n",
    "    points = []\n",
    "    for Q_step in Q_steps:\n",
    "        YCrCb_y, k = quantizer.quan_dequan(YCrCb_img, Q_step)\n",
    "        rate = common.bits_per_color_pixel(k.astype(np.uint8), str(Q_step) + '_')\n",
    "        RGB_y = YCrCb.to_RGB(YCrCb_y.astype(image_dtype))\n",
    "        _distortion = distortion.MSE(RGB_img, RGB_y)\n",
    "        points.append((rate, _distortion))\n",
    "        print(f\"q_step={Q_step:>3}, rate={rate:>7} bits/pixel, distortion={_distortion:>6.1f}\")\n",
    "    return points\n",
    "\n",
    "def YCrCb_same_delta_RD_curve5(RGB_img, Q_steps, quantizer):\n",
    "    YCrCb_img = YCrCb.from_RGB(RGB_img)\n",
    "    print(YCrCb_img.dtype)\n",
    "    points = []\n",
    "    for Q_step in Q_steps:\n",
    "        YCrCb_y, k = quantizer.quan_dequan(YCrCb_img, Q_step)\n",
    "        rate = common.bits_per_color_pixel(k.astype(np.uint8), str(Q_step) + '_')\n",
    "        RGB_y = YCrCb.to_RGB(YCrCb_y.astype(image_dtype))\n",
    "        _distortion = distortion.MSE(RGB_img, RGB_y)\n",
    "        points.append((rate, _distortion))\n",
    "        print(f\"q_step={Q_step:>3}, rate={rate:>7} bits/pixel, distortion={_distortion:>6.1f}\")\n",
    "    return points\n",
    "\n",
    "def YCrCb_same_delta_RD_curve6(RGB_img, Q_steps, quantizer):\n",
    "    YCrCb_img = YCrCb.from_RGB(RGB_img).astype(np.int16)\n",
    "    points = []\n",
    "    for Q_step in Q_steps:\n",
    "        YCrCb_y, k = quantizer.quan_dequan(YCrCb_img, Q_step)\n",
    "        k_min = np.min(k)\n",
    "        rate = common.bits_per_color_pixel((k - k_min).astype(np.uint8), str(Q_step) + '_')\n",
    "        #rate = common.bits_per_color_pixel(k.astype(np.uint8), str(Q_step) + '_')\n",
    "        #RGB_y = YCrCb.to_RGB(YCrCb_y + 128)\n",
    "        RGB_y = YCrCb.to_RGB(YCrCb_y.astype(image_dtype))\n",
    "        _distortion = distortion.MSE(RGB_img, RGB_y)\n",
    "        points.append((rate, _distortion))\n",
    "        print(f\"q_step={Q_step:>3}, rate={rate:>7} bits/pixel, distortion={_distortion:>6.1f}\")\n",
    "    return points\n",
    "\n",
    "\n",
    "YCrCb_same_delta_RD_points = YCrCb_same_delta_RD_curve(RGB_img, Q_steps, quantizer)\n",
    "#YCrCb_same_delta_RD_points2 = YCrCb_same_delta_RD_curve2(RGB_img, Q_steps, quantizer)\n",
    "#YCrCb_same_delta_RD_points3 = YCrCb_same_delta_RD_curve3(RGB_img, Q_steps, quantizer)\n",
    "#YCrCb_same_delta_RD_points4 = YCrCb_same_delta_RD_curve4(RGB_img, Q_steps, quantizer)\n",
    "#YCrCb_same_delta_RD_points5 = YCrCb_same_delta_RD_curve5(RGB_img, Q_steps, quantizer)\n",
    "#YCrCb_same_delta_RD_points6 = YCrCb_same_delta_RD_curve6(RGB_img, Q_steps, quantizer)"
   ]
  },
  {
   "cell_type": "markdown",
   "metadata": {},
   "source": [
    "## Let's see the RD curve"
   ]
  },
  {
   "cell_type": "code",
   "execution_count": null,
   "metadata": {},
   "outputs": [],
   "source": [
    "pylab.figure(dpi=150)\n",
    "pylab.plot(*zip(*YCrCb_same_delta_RD_points), c='g', marker='.', label=\"$\\Delta_{\\mathrm{Y}} = \\Delta_{\\mathrm{Cr}} = \\Delta_{\\mathrm{Cb}}$\", linestyle=\"dashed\")\n",
    "#pylab.plot(*zip(*YCrCb_same_delta_RD_points2), c='b', marker='.', label=\"$\\Delta_{\\mathrm{Y}} = \\Delta_{\\mathrm{Cr}} = \\Delta_{\\mathrm{Cb}}$\", linestyle=\"dashed\")\n",
    "#pylab.plot(*zip(*YCrCb_same_delta_RD_points3), c='r', marker='.', label=\"$\\Delta_{\\mathrm{Y}} = \\Delta_{\\mathrm{Cr}} = \\Delta_{\\mathrm{Cb}}$\", linestyle=\"dashed\")\n",
    "#pylab.plot(*zip(*YCrCb_same_delta_RD_points4), c='m', marker='.', label=\"$\\Delta_{\\mathrm{Y}} = \\Delta_{\\mathrm{Cr}} = \\Delta_{\\mathrm{Cb}}$\", linestyle=\"dashed\")\n",
    "#pylab.plot(*zip(*YCrCb_same_delta_RD_points5), c='c', marker='.', label=\"$\\Delta_{\\mathrm{Y}} = \\Delta_{\\mathrm{Cr}} = \\Delta_{\\mathrm{Cb}}$\", linestyle=\"dashed\")\n",
    "#pylab.plot(*zip(*YCrCb_same_delta_RD_points6), c='y', marker='.', label=\"$\\Delta_{\\mathrm{Y}} = \\Delta_{\\mathrm{Cr}} = \\Delta_{\\mathrm{Cb}}$\", linestyle=\"dashed\")\n",
    "pylab.title(\"Rate/Distortion\")\n",
    "pylab.xlabel(\"Bits/Pixel\")\n",
    "pylab.ylabel(\"MSE in RGB domain\")\n",
    "pylab.legend(loc='upper right')\n",
    "pylab.show()"
   ]
  },
  {
   "cell_type": "markdown",
   "metadata": {},
   "source": [
    "## Optimal RD curve\n",
    "\n",
    "The method `YCrCb_same_delta_RD_curve(img, Q_steps, quantizer)` generates a RD curve where each point is the result of using $\\Delta_{\\text{Y}} = \\Delta_{\\text{Cb}} = \\Delta_{\\text{Cr}}$. However, a better (at least with more points) RD curve can be generated with:\n",
    "\n",
    "1. Convert the image from RGB to YCrCb.\n",
    "2. The RD curve of each YCrCb channel is computed, for a number of quantization steps, measuring the distortion in the RGB domain (remember that the YCrCb transform is not orthogonal and therefore, the distortion in the RGB domain cannot be estimated in the YCrCb domain).  We will quantize one component at each iteration and the rest of components will be unquantized. This is necessary to ensure that the low-pass component (Y) is always considered in each reconstruction. Otherwise, the distortion (at least using the MSE) will not be estimated correctly.\n",
    "3. Compute the slope of each segment of the RD curve. Except for the most left point, the slopes are computed as the average between the slopes of the straight lines that connect to the corresponding point.\n",
    "4. For each quantization step, sort the RD points by their slope.\n",
    "5. Recompute the optimal RD curve using the quantization steps provided by the sorted RD points."
   ]
  },
  {
   "cell_type": "markdown",
   "metadata": {},
   "source": [
    "## RD curve of each YCrCb component"
   ]
  },
  {
   "cell_type": "code",
   "execution_count": null,
   "metadata": {
    "scrolled": false
   },
   "outputs": [],
   "source": [
    "def YCrCb_RD_curve_per_component(RGB_img, Q_steps, Q, components):\n",
    "    YCrCb_img = YCrCb.from_RGB(RGB_img).astype(np.int16)\n",
    "    YCrCb_img -= 128\n",
    "    YCrCb_img_copy = YCrCb_img.copy()\n",
    "    N_components = len(components)\n",
    "    RD_points = []\n",
    "    for c in range(N_components):\n",
    "        RD_points.append([])\n",
    "    for Q_step in Q_steps:\n",
    "        YCrCb_k = Q.quantize(YCrCb_img, Q_step)\n",
    "        for component_index in range(N_components):\n",
    "            component_name = components[component_index]\n",
    "            YCrCb_y = YCrCb_img_copy.copy()\n",
    "            YCrCb_y[..., component_index] = Q.dequantize(YCrCb_k[..., component_index], Q_step)\n",
    "            rate = common.bits_per_gray_pixel(YCrCb_k[..., component_index] + 128, str(Q_step) + '_' + component_name)\n",
    "            RGB_y = YCrCb.to_RGB((YCrCb_y + 128).astype(image_dtype))\n",
    "            _distortion = distortion.MSE(RGB_img, RGB_y)\n",
    "            #common.show(RGB_y, components[component_index] + ' ' + str(Q_step))\n",
    "            RD_points[component_index].append((rate, _distortion, component_name, Q_step))\n",
    "            print(f\"{components[component_index]} q_step={Q_step:>3}, rate={rate:>7} bits/pixel, distortion={_distortion:>6.1f}\")\n",
    "    return RD_points\n",
    "\n",
    "def YCrCb_RD_curve_per_component_(RGB_img, Q_steps, Q, components):\n",
    "    YCrCb_img = YCrCb.from_RGB(RGB_img).astype(np.int16)\n",
    "    YCrCb_img_copy = YCrCb_img.copy()\n",
    "    N_components = len(components)\n",
    "    RD_points = []\n",
    "    for c in range(N_components):\n",
    "        RD_points.append([])\n",
    "    for Q_step in Q_steps:\n",
    "        YCrCb_k = Q.quantize(YCrCb_img, Q_step)\n",
    "        for component_index in range(N_components):\n",
    "            component_name = components[component_index]\n",
    "            YCrCb_y = YCrCb_img_copy.copy()\n",
    "            YCrCb_y[..., component_index] = Q.dequantize(YCrCb_k[..., component_index], Q_step)\n",
    "            rate = common.bits_per_gray_pixel(YCrCb_k[..., component_index] + 128, str(Q_step) + '_' + component_name)\n",
    "            RGB_y = YCrCb.to_RGB((YCrCb_y + 128).astype(image_dtype))\n",
    "            _distortion = distortion.MSE(RGB_img, RGB_y)\n",
    "            #common.show(RGB_y, components[component_index] + ' ' + str(Q_step))\n",
    "            RD_points[component_index].append((rate, _distortion, component_name, Q_step))\n",
    "            print(f\"{components[component_index]} q_step={Q_step:>3}, rate={rate:>7} bits/pixel, distortion={_distortion:>6.1f}\")\n",
    "    return RD_points\n",
    "\n",
    "YCrCb_curve_per_component = YCrCb_RD_curve_per_component(RGB_img, Q_steps, quantizer, YCrCb_components)\n",
    "YCrCb_curve_per_component"
   ]
  },
  {
   "cell_type": "markdown",
   "metadata": {},
   "source": [
    "## Display the curves of the components"
   ]
  },
  {
   "cell_type": "code",
   "execution_count": null,
   "metadata": {},
   "outputs": [],
   "source": [
    "pylab.figure(dpi=150)\n",
    "pylab.plot(*zip(*[(i[0], i[1]) for i in YCrCb_curve_per_component[0]]), c='r', marker='.', label=\"$\\mathrm{Y}}$\", linestyle=\"dashed\")\n",
    "pylab.plot(*zip(*[(i[0], i[1]) for i in YCrCb_curve_per_component[1]]), c='g', marker='.', label=\"$\\mathrm{Cr}}$\", linestyle=\"dashed\")\n",
    "pylab.plot(*zip(*[(i[0], i[1]) for i in YCrCb_curve_per_component[2]]), c='b', marker='.', label=\"$\\mathrm{Cb}}$\", linestyle=\"dashed\")\n",
    "pylab.title(\"Rate/Distortion\")\n",
    "pylab.xlabel(\"Bits/Pixel\")\n",
    "pylab.ylabel(\"MSE in the RGB Domain\")\n",
    "pylab.legend(loc='upper right')\n",
    "pylab.show()"
   ]
  },
  {
   "cell_type": "markdown",
   "metadata": {},
   "source": [
    "Notice that not all the points must belong to the convex-hull. These points does not minimize the RD curve."
   ]
  },
  {
   "cell_type": "markdown",
   "metadata": {},
   "source": [
    "## Compute the slope of each point"
   ]
  },
  {
   "cell_type": "code",
   "execution_count": null,
   "metadata": {},
   "outputs": [],
   "source": [
    "Y_slopes = common.compute_slopes(YCrCb_curve_per_component[0])\n",
    "Cr_slopes = common.compute_slopes(YCrCb_curve_per_component[1])\n",
    "Cb_slopes = common.compute_slopes(YCrCb_curve_per_component[2])"
   ]
  },
  {
   "cell_type": "code",
   "execution_count": null,
   "metadata": {},
   "outputs": [],
   "source": [
    "Y_slopes"
   ]
  },
  {
   "cell_type": "code",
   "execution_count": null,
   "metadata": {},
   "outputs": [],
   "source": [
    "Cr_slopes"
   ]
  },
  {
   "cell_type": "code",
   "execution_count": null,
   "metadata": {},
   "outputs": [],
   "source": [
    "Cb_slopes"
   ]
  },
  {
   "cell_type": "markdown",
   "metadata": {},
   "source": [
    "## Filter the curves\n",
    "Remove those RD points that do not belong to the convex-hull"
   ]
  },
  {
   "cell_type": "code",
   "execution_count": null,
   "metadata": {},
   "outputs": [],
   "source": [
    "Y_slopes = common.filter_slopes(Y_slopes)\n",
    "Y_slopes"
   ]
  },
  {
   "cell_type": "code",
   "execution_count": null,
   "metadata": {},
   "outputs": [],
   "source": [
    "Cr_slopes = common.filter_slopes(Cr_slopes)\n",
    "Cr_slopes"
   ]
  },
  {
   "cell_type": "code",
   "execution_count": null,
   "metadata": {},
   "outputs": [],
   "source": [
    "Cb_slopes = common.filter_slopes(Cb_slopes)\n",
    "Cb_slopes"
   ]
  },
  {
   "cell_type": "markdown",
   "metadata": {},
   "source": [
    "## Sort the slopes at each quantization step\n",
    "The TPs generated in a component must be used in order."
   ]
  },
  {
   "cell_type": "code",
   "execution_count": null,
   "metadata": {},
   "outputs": [],
   "source": [
    "all_slopes = Y_slopes + Cr_slopes + Cb_slopes\n",
    "sorted_slopes = sorted(all_slopes, key=lambda x: x[0])[::-1]\n",
    "sorted_slopes"
   ]
  },
  {
   "cell_type": "markdown",
   "metadata": {},
   "source": [
    "## Compute the optimal RD curve\n",
    "\n",
    "And finally, let's compute the RD curve (remember that the previous points are only an estimation of the order in which the quantization steps should be increased in each component to build the RD curve, not the real RD curve that measures the distortion in the RGB domain)."
   ]
  },
  {
   "cell_type": "code",
   "execution_count": null,
   "metadata": {
    "scrolled": false
   },
   "outputs": [],
   "source": [
    "def YCrCb_optimal_curve(RGB_img, sorted_slopes, quantizer, components):\n",
    "    points = []\n",
    "    Q_steps_per_component = [256, 256, 256] # This should produce a 128-mean image\n",
    "    YCrCb_img = YCrCb.from_RGB(RGB_img).astype(np.int16)\n",
    "    k = np.empty_like(YCrCb_img)\n",
    "    YCrCb_y = np.empty_like(YCrCb_img)\n",
    "    YCrCb_img -= 128\n",
    "    for i in sorted_slopes:\n",
    "        print(i)\n",
    "        #point = i[1]\n",
    "        #component = point[2]\n",
    "        #Q_step = point[3]\n",
    "        component, Q_step = i[1], i[2]\n",
    "        Q_steps_per_component[components.index(component)] = Q_step\n",
    "        for c, Q_step in zip(components, Q_steps_per_component):\n",
    "            component_index = components.index(c)\n",
    "            YCrCb_y[..., component_index], k[..., component_index] = quantizer.quan_dequan(YCrCb_img[..., component_index], Q_step)\n",
    "        k = k.astype(np.uint8)\n",
    "        rate = common.bits_per_color_pixel(k, str(Q_steps_per_component) + '_')\n",
    "        y_RGB = YCrCb.to_RGB((YCrCb_y + 128).astype(image_dtype))\n",
    "        #y_RGB = YCrCb.to_RGB(y)\n",
    "        _distortion = distortion.MSE(RGB_img, y_RGB)\n",
    "        #common.show(y_RGB, f\"Q_step={Q_steps_per_component}, rate={rate:>7} bits/pixel, distortion={_distortion:>6.1f}\")\n",
    "        points.append((rate, _distortion))\n",
    "        print(f\"Q_step={Q_steps_per_component}, rate={rate:>7} bits/pixel, distortion={_distortion:>6.1f}\")\n",
    "    return points\n",
    "\n",
    "def YCrCb_optimal_curve_(RGB_img, sorted_slopes, quantizer, components):\n",
    "    points = []\n",
    "    Q_steps_per_component = [256, 256, 256]\n",
    "    YCrCb_img = YCrCb.from_RGB(RGB_img).astype(np.int16)\n",
    "    k = np.empty_like(YCrCb_img)\n",
    "    YCrCb_y = np.empty_like(YCrCb_img)\n",
    "    YCrCb_img -= 128\n",
    "    for i in sorted_slopes:\n",
    "        print(i)\n",
    "        component, Q_step = i[1], i[2]\n",
    "        Q_steps_per_component[components.index(component)] = Q_step\n",
    "        for c, Q_step in zip(components, Q_steps_per_component):\n",
    "            component_index = components.index(c)\n",
    "            YCrCb_y[..., component_index], k[..., component_index] = quantizer.quan_dequan(YCrCb_img[..., component_index], Q_step)\n",
    "        k_min = np.min(k[..., component_index])\n",
    "        #k = (k - k_min).astype(np.uint8)\n",
    "        k = k.astype(np.uint8)\n",
    "        rate = common.bits_per_color_pixel(k, str(Q_steps_per_component) + '_')\n",
    "        #RGB_y = YCrCb.to_RGB(YCrCb_y)\n",
    "        RGB_y = YCrCb.to_RGB(YCrCb_y + 128)\n",
    "        _distortion = distortion.MSE(RGB_img, RGB_y)\n",
    "        #common.show(y_RGB, f\"Q_step={Q_steps_per_component}, rate={rate:>7} bits/pixel, distortion={_distortion:>6.1f}\")\n",
    "        points.append((rate, _distortion))\n",
    "        print(f\"Q_step={Q_steps_per_component}, rate={rate:>7} bits/pixel, distortion={_distortion:>6.1f}\")\n",
    "    return points\n",
    "\n",
    "YCrCb_optimal_RD_points = YCrCb_optimal_curve(RGB_img, sorted_slopes, quantizer, YCrCb_components)\n",
    "YCrCb_optimal_RD_points"
   ]
  },
  {
   "cell_type": "markdown",
   "metadata": {},
   "source": [
    "## Compare the curves"
   ]
  },
  {
   "cell_type": "code",
   "execution_count": null,
   "metadata": {},
   "outputs": [],
   "source": [
    "pylab.figure(dpi=150)\n",
    "pylab.plot(*zip(*YCrCb_same_delta_RD_points), c='b', marker='o', label=\"$\\Delta_{\\mathrm{Y}} = \\Delta_{\\mathrm{Cb}} = \\Delta_{\\mathrm{Cr}}$\", linestyle=\"dashed\")\n",
    "pylab.plot(*zip(*YCrCb_optimal_RD_points), c='r', marker='x', label=\"Optimal\", linestyle=\"dotted\")\n",
    "pylab.title(\"Rate/Distortion\")\n",
    "pylab.xlabel(\"Bits/Pixel\")\n",
    "pylab.ylabel(\"MSE in RGB domain\")\n",
    "pylab.legend(loc='upper right')\n",
    "pylab.show()"
   ]
  },
  {
   "cell_type": "code",
   "execution_count": null,
   "metadata": {},
   "outputs": [],
   "source": [
    "with open('YCrCb.txt', 'w') as f:\n",
    "    for item in YCrCb_optimal_RD_points:\n",
    "        f.write(f\"{item[0]}\\t{item[1]}\\n\")"
   ]
  },
  {
   "cell_type": "markdown",
   "metadata": {},
   "source": [
    "## Conclusion\n",
    "\n",
    "In general, the basic quantization scheme that uses the same quantization step size for all the components is almost optimal."
   ]
  },
  {
   "cell_type": "code",
   "execution_count": null,
   "metadata": {},
   "outputs": [],
   "source": [
    "DCT_points = []\n",
    "with open(f'./color_DCT.txt', 'r') as f:\n",
    "    for line in f:\n",
    "        rate, _distortion = line.split('\\t')\n",
    "        DCT_points.append((float(rate), float(_distortion)))"
   ]
  },
  {
   "cell_type": "code",
   "execution_count": null,
   "metadata": {},
   "outputs": [],
   "source": [
    "pylab.figure(dpi=150)\n",
    "pylab.plot(*zip(*DCT_points), c='b', marker='o', label=\"Quantizing in the color-DCT domain\", linestyle=\"dashed\")\n",
    "pylab.plot(*zip(*YCrCb_optimal_RD_points), c='r', marker='x', label=\"Quantizing in the YCrCb domain\", linestyle=\"dotted\")\n",
    "pylab.title(\"Rate/Distortion\")\n",
    "pylab.xlabel(\"Bits/Pixel\")\n",
    "pylab.ylabel(\"MSE in RGB domain\")\n",
    "pylab.legend(loc='upper right')\n",
    "pylab.show()"
   ]
  }
 ],
 "metadata": {
  "kernelspec": {
   "display_name": "Python 3",
   "language": "python",
   "name": "python3"
  },
  "language_info": {
   "codemirror_mode": {
    "name": "ipython",
    "version": 3
   },
   "file_extension": ".py",
   "mimetype": "text/x-python",
   "name": "python",
   "nbconvert_exporter": "python",
   "pygments_lexer": "ipython3",
   "version": "3.9.6"
  }
 },
 "nbformat": 4,
 "nbformat_minor": 4
}

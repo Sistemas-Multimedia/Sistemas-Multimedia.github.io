{
 "cells": [
  {
   "cell_type": "markdown",
   "metadata": {},
   "source": [
    "[![Binder](https://mybinder.org/badge_logo.svg)](https://nbviewer.org/github/Sistemas-Multimedia/Sistemas-Multimedia.github.io/blob/master/milestones/05-RGB_compression/companded.ipynb)"
   ]
  },
  {
   "cell_type": "markdown",
   "metadata": {},
   "source": [
    "# RGB compression using a companded quantizer"
   ]
  },
  {
   "cell_type": "code",
   "execution_count": null,
   "metadata": {},
   "outputs": [],
   "source": [
    "!ln -sf ~/MRVC/src/debug.py .\n",
    "!ln -sf ~/MRVC/src/logging_config.py .\n",
    "!ln -sf ~/repos/quantization/companded_quantizer.py .\n",
    "!ln -sf ~/repos/quantization/distortion.py .\n",
    "!ln -sf ~/MRVC/src/image_3.py .\n",
    "!ln -sf ~/MRVC/src/image_1.py .\n",
    "!ln -sf ~/repos/quantization/information.py ."
   ]
  },
  {
   "cell_type": "code",
   "execution_count": null,
   "metadata": {},
   "outputs": [],
   "source": [
    "%matplotlib inline\n",
    "\n",
    "import matplotlib\n",
    "import matplotlib.pyplot as plt\n",
    "import matplotlib.axes as ax\n",
    "#plt.rcParams['text.usetex'] = True\n",
    "#plt.rcParams['text.latex.preamble'] = [r'\\usepackage{amsmath}'] #for \\text command\n",
    "import pylab\n",
    "import math\n",
    "import numpy as np\n",
    "from scipy import signal\n",
    "import cv2\n",
    "import os\n",
    "import companded_quantizer as companded\n",
    "import distortion\n",
    "import image_3 as RGB_image\n",
    "import image_1 as gray_image\n",
    "import colored\n",
    "import information"
   ]
  },
  {
   "cell_type": "markdown",
   "metadata": {},
   "source": [
    "## Configuration"
   ]
  },
  {
   "cell_type": "code",
   "execution_count": null,
   "metadata": {},
   "outputs": [],
   "source": [
    "# Prefix of the RGB image to be quantized.\n",
    "\n",
    "home = os.environ[\"HOME\"]\n",
    "#fn = home + \"/MRVC/images/stockholm/\"\n",
    "#fn = home + \"/MRVC/images/Hommer/\"\n",
    "#fn = home + \"/MRVC/images/fluorescence/\"\n",
    "#fn = home + \"/MRVC/images/blue_rose/\"\n",
    "fn = home + \"/MRVC/images/lena_color/\"\n",
    "#fn = home + \"/MRVC/images/nored_lena/\"\n",
    "\n",
    "components = ['R', 'G', 'B']\n",
    "\n",
    "quantizer = companded\n",
    "\n",
    "# Maybe this does not make sense in digital quantization (generate loops in the RD domain\n",
    "# because the output number of quantization indexes is not a power of 2.)\n",
    "#Q_steps = range(128, 0, -4)\n",
    "\n",
    "Q_steps = [2**i for i in range(7, -1, -1)] # Quantization steps (simulating bit-plane encoding)\n",
    "\n",
    "#quantizer = companded\n",
    "#Q_steps = [2**i for i in range(16, -1, -1)] # Quantization steps (simulating bit-plane encoding)\n",
    "\n",
    "print(Q_steps)\n",
    "\n",
    "RGB_image.write = RGB_image.debug_write # faster\n",
    "#RGB_image.write = RGB_image.write # higher compression\n",
    "\n",
    "gray_image.write = gray_image.debug_write # faster\n",
    "#gray_image.write = gray_image.write # higher compression"
   ]
  },
  {
   "cell_type": "markdown",
   "metadata": {},
   "source": [
    "Notice that non embbeded quatization (using steps thar are different from a power of 2) steps (can produce loops in the RD curves due to the non-linearity of the integer division performed in the quantization)."
   ]
  },
  {
   "cell_type": "markdown",
   "metadata": {},
   "source": [
    "## Read the image and show it"
   ]
  },
  {
   "cell_type": "code",
   "execution_count": null,
   "metadata": {},
   "outputs": [],
   "source": [
    "RGB_img = RGB_image.read(fn).astype(np.int16) # 8 bits/components is not sufficient to shift the components to [-128, 127]\n",
    "print(RGB_img.dtype)\n",
    "print(RGB_img.max(), RGB_img.min())\n",
    "RGB_image.show(RGB_img, fn + \"000.png\")"
   ]
  },
  {
   "cell_type": "code",
   "execution_count": null,
   "metadata": {},
   "outputs": [],
   "source": [
    "gray_image.show(RGB_img[..., 0], fn + \" (R channel)\")"
   ]
  },
  {
   "cell_type": "code",
   "execution_count": null,
   "metadata": {},
   "outputs": [],
   "source": [
    "gray_image.show(RGB_img[..., 1], fn + \" (G channel)\")"
   ]
  },
  {
   "cell_type": "code",
   "execution_count": null,
   "metadata": {},
   "outputs": [],
   "source": [
    "gray_image.show(RGB_img[..., 2], fn + \" (B channel)\")"
   ]
  },
  {
   "cell_type": "markdown",
   "metadata": {},
   "source": [
    "## Show some quantizations"
   ]
  },
  {
   "cell_type": "code",
   "execution_count": null,
   "metadata": {},
   "outputs": [],
   "source": [
    "QS = 128 # Quantization Step\n",
    "RGB_img = RGB_img.astype(np.int16) - 128 # Quantized data must be centered at 0\n",
    "y, k = quantizer.quan_dequan(RGB_img, QS)\n",
    "print(\"Used quantization indexes:\", np.unique(k))\n",
    "RGB_image.show_normalized(k, f\"{quantizer.name} $\\\\Delta={QS}$\")"
   ]
  },
  {
   "cell_type": "code",
   "execution_count": null,
   "metadata": {},
   "outputs": [],
   "source": [
    "QS = 64 # Quantization Step\n",
    "RGB_img = RGB_img.astype(np.int16) - 128 # Quantized data must be centered at 0\n",
    "y, k = quantizer.quan_dequan(RGB_img, QS)\n",
    "print(\"Used quantization indexes:\", np.unique(k))\n",
    "RGB_image.show_normalized(k, f\"{quantizer.name} $\\\\Delta={QS}$\")"
   ]
  },
  {
   "cell_type": "markdown",
   "metadata": {},
   "source": [
    "## RD curve using same $\\Delta$ for each RGB channel ($\\Delta_{\\text{R}} = \\Delta_{\\text{G}} = \\Delta_{\\text{B}}$)\n",
    "To see the contribution of each channel to the RD curve."
   ]
  },
  {
   "cell_type": "code",
   "execution_count": null,
   "metadata": {},
   "outputs": [],
   "source": [
    "def same_delta_RD_curve(RGB_img, Q_steps, quantizer):\n",
    "    RGB_img -= 128\n",
    "    points = []\n",
    "    for Q_step in Q_steps:\n",
    "        y, k = quantizer.quan_dequan(RGB_img, Q_step)\n",
    "        k = (k + 128).astype(np.uint8) # Only positive components can be written in an PNG file\n",
    "        print(\"Quantization indexes: \", np.unique(k))\n",
    "        #rate = common.bits_per_color_pixel(k, str(Q_step) + '_') # Remember that k has 3 components\n",
    "        rate = RGB_image.debug_write(k, \"/tmp/\" + str(Q_step) + '_', 0)*8/k.size\n",
    "        _distortion = distortion.RMSE(RGB_img, y)\n",
    "        points.append((rate, _distortion))\n",
    "        print(f\"q_step={Q_step:>3}, rate={rate:>7} bits/pixel, distortion={_distortion:>6.1f}\")\n",
    "    return points\n",
    "\n",
    "#same_delta_RD_points = same_delta_RD_curve(img - 128, Q_steps, quantizer)\n",
    "same_delta_RD_points = same_delta_RD_curve(RGB_img, Q_steps, quantizer)"
   ]
  },
  {
   "cell_type": "code",
   "execution_count": null,
   "metadata": {},
   "outputs": [],
   "source": [
    "pylab.figure(dpi=150)\n",
    "pylab.plot(*zip(*same_delta_RD_points), c='m', marker='x', label=f\"{quantizer.name}\", linestyle=\"dotted\")\n",
    "pylab.title(f\"Rate/Distortion Performance ({quantizer.name})\")\n",
    "pylab.xlabel(\"Bits/Pixel\")\n",
    "pylab.ylabel(\"RMSE\")\n",
    "pylab.legend(loc='upper right')\n",
    "pylab.show()"
   ]
  },
  {
   "cell_type": "code",
   "execution_count": null,
   "metadata": {},
   "outputs": [],
   "source": [
    "print(quantizer.name)\n",
    "with open(f\"RGB_same_{quantizer.name}_RD_points.txt\", 'w') as f:\n",
    "    for item in same_delta_RD_points:\n",
    "        f.write(f\"{item[0]}\\t{item[1]}\\n\")"
   ]
  }
 ],
 "metadata": {
  "kernelspec": {
   "display_name": "Python 3 (ipykernel)",
   "language": "python",
   "name": "python3"
  },
  "language_info": {
   "codemirror_mode": {
    "name": "ipython",
    "version": 3
   },
   "file_extension": ".py",
   "mimetype": "text/x-python",
   "name": "python",
   "nbconvert_exporter": "python",
   "pygments_lexer": "ipython3",
   "version": "3.10.2"
  }
 },
 "nbformat": 4,
 "nbformat_minor": 4
}

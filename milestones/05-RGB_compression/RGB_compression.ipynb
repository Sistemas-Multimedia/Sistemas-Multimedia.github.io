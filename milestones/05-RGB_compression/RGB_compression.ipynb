{
 "cells": [
  {
   "cell_type": "markdown",
   "metadata": {},
   "source": [
    "[![Binder](https://mybinder.org/badge_logo.svg)](https://nbviewer.org/github/Sistemas-Multimedia/Sistemas-Multimedia.github.io/blob/master/milestones/05-RGB_compression/RGB_compression.ipynb)"
   ]
  },
  {
   "cell_type": "markdown",
   "metadata": {},
   "source": [
    "# RGB image compression\n",
    "\n",
    "Insights on compressing color images with PNG in the RGB domain."
   ]
  },
  {
   "cell_type": "code",
   "execution_count": null,
   "metadata": {},
   "outputs": [],
   "source": [
    "%matplotlib inline\n",
    "\n",
    "import matplotlib\n",
    "import matplotlib.pyplot as plt\n",
    "import matplotlib.axes as ax\n",
    "#plt.rcParams['text.usetex'] = True\n",
    "#plt.rcParams['text.latex.preamble'] = [r'\\usepackage{amsmath}'] #for \\text command\n",
    "import pylab\n",
    "import math\n",
    "import numpy as np\n",
    "from scipy import signal\n",
    "import cv2\n",
    "import os\n",
    "#!pwd\n",
    "!ln -sf ~/quantization/deadzone_quantizer.py .\n",
    "!ln -sf ~/quantization/midtread_quantizer.py .\n",
    "!ln -sf ~/quantization/midrise_quantizer.py .\n",
    "!ln -sf ~/quantization/companded_quantizer.py .\n",
    "!ln -sf ~/quantization/distortion.py .\n",
    "!ln -sf ~/quantization/information.py .\n",
    "!ln -sf ~/MRVC/src/debug.py .\n",
    "!ln -sf ~/MRVC/src/image_3.py .\n",
    "!ln -sf ~/MRVC/src/image_1.py .\n",
    "!ln -sf ../common.py .\n",
    "import deadzone_quantizer as deadzone\n",
    "import midtread_quantizer as midtread\n",
    "import midrise_quantizer as midrise\n",
    "import companded_quantizer as companded\n",
    "import distortion\n",
    "import image_3 as RGB_image\n",
    "import image_1 as gray_image\n",
    "import colored\n",
    "import common\n",
    "import information"
   ]
  },
  {
   "cell_type": "markdown",
   "metadata": {},
   "source": [
    "## Configuration"
   ]
  },
  {
   "cell_type": "code",
   "execution_count": null,
   "metadata": {},
   "outputs": [],
   "source": [
    "# Prefix of the RGB image to be quantized.\n",
    "\n",
    "home = os.environ[\"HOME\"]\n",
    "#fn = home + \"/MRVC/sequences/stockholm/\"\n",
    "#fn = home + \"/MRVC/sequences/Hommer/\"\n",
    "#fn = home + \"/MRVC/sequences/fluorescence/\"\n",
    "#fn = home + \"/MRVC/sequences/blue_rose/\"\n",
    "#fn = home + \"/MRVC/sequences/lena_color/\"\n",
    "fn = home + \"/MRVC/sequences/nored_lena/\"\n",
    "\n",
    "components = ['R', 'G', 'B']\n",
    "\n",
    "#quantizer = midtread\n",
    "quantizer = deadzone\n",
    "#quantizer = midrise\n",
    "#Q_steps = range(128, 0, -1) # Maybe it does not make sense in digital quantization (generate loops)\n",
    "Q_steps = [2**i for i in range(7, -1, -1)] # Quantization steps (simulating bit-plane encoding)\n",
    "\n",
    "#quantizer = companded\n",
    "#Q_steps = [2**i for i in range(16, -1, -1)] # Quantization steps (simulating bit-plane encoding)\n",
    "\n",
    "print(Q_steps)"
   ]
  },
  {
   "cell_type": "markdown",
   "metadata": {},
   "source": [
    "Notice that non embbeded quatization (using steps thar are different from a power of 2) steps (can produce loops in the RD curves due to the non-linearity of the integer division performed in the quantization)."
   ]
  },
  {
   "cell_type": "markdown",
   "metadata": {},
   "source": [
    "## Read the image and show it"
   ]
  },
  {
   "cell_type": "code",
   "execution_count": null,
   "metadata": {},
   "outputs": [],
   "source": [
    "RGB_img = RGB_image.read(fn).astype(np.int16) # 8 bits/components is not sufficient to shift the components to [-128, 127]\n",
    "print(RGB_img.dtype)\n",
    "print(RGB_img.max(), RGB_img.min())\n",
    "common.show(RGB_img, fn + \"000.png\")"
   ]
  },
  {
   "cell_type": "markdown",
   "metadata": {},
   "source": [
    "## Energy of the RGB components"
   ]
  },
  {
   "cell_type": "code",
   "execution_count": null,
   "metadata": {},
   "outputs": [],
   "source": [
    "R_avg_energy = information.average_energy(RGB_img[...,0])\n",
    "G_avg_energy = information.average_energy(RGB_img[...,1])\n",
    "B_avg_energy = information.average_energy(RGB_img[...,2])\n",
    "print(f\"Average energy R = {R_avg_energy}\")\n",
    "print(f\"Average energy G = {G_avg_energy}\")\n",
    "print(f\"Average energy B = {B_avg_energy}\")\n",
    "total_RGB_avg_energy = R_avg_energy + G_avg_energy + B_avg_energy\n",
    "print(f\"Total RGB average energy (computed by adding the energies of the components) = {total_RGB_avg_energy}\")\n",
    "print(f\"Total RGB average energy (computed directly from the RGB image) = {information.average_energy(RGB_img)*3}\")"
   ]
  },
  {
   "cell_type": "markdown",
   "metadata": {},
   "source": [
    "The RGB domain is additive. This basically tell us that the addition of the distortion generated in each component equals the distortion measured in the RGB domain (this is a trivial conclusion!!)."
   ]
  },
  {
   "cell_type": "markdown",
   "metadata": {},
   "source": [
    "## Show some quantizations"
   ]
  },
  {
   "cell_type": "code",
   "execution_count": null,
   "metadata": {},
   "outputs": [],
   "source": [
    "QS = 128 # Quantization Step\n",
    "RGB_img = RGB_img.astype(np.int16) - 128 # Quantized data must be centered at 0\n",
    "y, k = quantizer.quan_dequan(RGB_img, QS)\n",
    "print(\"Used quantization indexes:\", np.unique(k))\n",
    "common.show(k, f\"{quantizer.name} $\\\\Delta={QS}$\")"
   ]
  },
  {
   "cell_type": "code",
   "execution_count": null,
   "metadata": {},
   "outputs": [],
   "source": [
    "QS = 64 # Quantization Step\n",
    "RGB_img = RGB_img.astype(np.int16) - 128 # Quantized data must be centered at 0\n",
    "y, k = quantizer.quan_dequan(RGB_img, QS)\n",
    "print(\"Used quantization indexes:\", np.unique(k))\n",
    "common.show(k, f\"{quantizer.name} $\\\\Delta={QS}$\")"
   ]
  },
  {
   "cell_type": "markdown",
   "metadata": {},
   "source": [
    "## RD curve using same $\\Delta$ for each RGB channel ($\\Delta_{\\text{R}} = \\Delta_{\\text{G}} = \\Delta_{\\text{B}}$)\n",
    "To see the contribution of each channel to the RD curve."
   ]
  },
  {
   "cell_type": "code",
   "execution_count": null,
   "metadata": {},
   "outputs": [],
   "source": [
    "def same_delta_RD_curve(RGB_img, Q_steps, quantizer):\n",
    "    RGB_img -= 128\n",
    "    points = []\n",
    "    for Q_step in Q_steps:\n",
    "        y, k = quantizer.quan_dequan(RGB_img, Q_step)\n",
    "        k = (k + 128).astype(np.uint8) # Only positive components can be written in an PNG file\n",
    "        print(\"Quantization indexes: \", np.unique(k))\n",
    "        rate = common.bits_per_color_pixel(k, str(Q_step) + '_') # Remember that k has 3 components\n",
    "        _distortion = distortion.RMSE(RGB_img, y)\n",
    "        points.append((rate, _distortion))\n",
    "        print(f\"q_step={Q_step:>3}, rate={rate:>7} bits/pixel, distortion={_distortion:>6.1f}\")\n",
    "    return points\n",
    "\n",
    "#same_delta_RD_points = same_delta_RD_curve(img - 128, Q_steps, quantizer)\n",
    "same_delta_RD_points = same_delta_RD_curve(RGB_img, Q_steps, quantizer)"
   ]
  },
  {
   "cell_type": "code",
   "execution_count": null,
   "metadata": {},
   "outputs": [],
   "source": [
    "print(quantizer.name)\n",
    "with open(f\"RGB_same_{quantizer.name}_RD_points.txt\", 'w') as f:\n",
    "    for item in same_delta_RD_points: #RD_points_sorted_by_slopes:\n",
    "        f.write(f\"{item[0]}\\t{item[1]}\\n\")"
   ]
  },
  {
   "cell_type": "markdown",
   "metadata": {},
   "source": [
    "## Generation of the \"optimal\" RD curve\n",
    "\n",
    "In principle, if we take into account the RD curves of each of the components, we can use an optimal quantization pattern (three elements, one per component) to find the best progression of quantization patterns. However, since this pattern is applied directly to the RGB domain and each component contributes the same gain to the energy of its image as a whole, the only thing we are going to achieve is to find intermediate RD points (which belong to the convex-hull RD) between the points where it is verified that $ \\ Delta_R = \\ Delta_G = | Delta_B $, generated by quantization patterns where any of these equalities is not true.\n",
    "\n",
    "In the case where the gain of the components is not identical, then we could have a progression of quantization patterns better than that represented by fn = home + \"/ MRVC / sequences / lena_color /\" (\n",
    "\n",
    "In general, the contribution of the components to the quality of the reconstruction can be different because even being the distortion additive, the compression ratio of each component can be different.\n",
    "\n",
    "\n",
    ". This contribution is expressed in terms of RD, \"selecting\", for each QS, first the component that has the highest RD slope. Thus, in general (in this case for all cases), the \"optimal\" RD curve using the following procedure:\n",
    "\n",
    "1. The RD curve of each RGB channel is computed, for a number of quantization steps.\n",
    "2. The RD points are sorted by slopes.\n",
    "\n",
    "Notice that must be true that the RGB components are additive (colors are obtained by a linear combination of Red, Green, and Blue, i.e., if we increment the quality of one component, the quality of the reconstruction is increases in such increment also). Otherwise, the distortion must be computed in the RGB domain (considering the three components at the same time, that is the average among the components)."
   ]
  },
  {
   "cell_type": "markdown",
   "metadata": {},
   "source": [
    "### RD curves of each RGB channel"
   ]
  },
  {
   "cell_type": "code",
   "execution_count": null,
   "metadata": {},
   "outputs": [],
   "source": [
    "def RD_curve(RGB_img, Q_steps, component, components, quantizer):\n",
    "    RGB_img -= 128\n",
    "    RD_points = [(0, 100000, component, 256)]\n",
    "    #RD_points = []\n",
    "    component_index = components.index(component)\n",
    "    for Q_step in Q_steps:\n",
    "        component_img = RGB_img[..., component_index]\n",
    "        dequantized_component_img, k = quantizer.quan_dequan(component_img, Q_step)\n",
    "        k = (k + 128).astype(np.uint8)\n",
    "        BPP = common.bits_per_gray_pixel(k, component + str(Q_step) + '_')\n",
    "        RMSE = distortion.RMSE(component_img, dequantized_component_img)\n",
    "        # We can measure the distortion in the component's domain because it is additive\n",
    "        RD_points.append((BPP, RMSE, component, Q_step))\n",
    "        print(f\"Q_step={Q_step:>3}, rate={BPP:>.3f} bits/pixel, distortion={RMSE}\")\n",
    "    return RD_points\n",
    "\n",
    "def RD_curve_(RGB_img, Q_steps, component, components, quantizer):\n",
    "    RGB_img -= 128\n",
    "    _RGB_img = RGB.copy()\n",
    "    RD_points = []\n",
    "    component_index = components.index(component)\n",
    "    for Q_step in Q_steps:\n",
    "        dQ_img, k_img = quantizer.quan_dequan(_RGB_img, Q_step)\n",
    "        k = (k + 128).astype(np.uint8)\n",
    "        BPP = common.bits_per_color_pixel(k_img, component + str(Q_step) + '_')\n",
    "        RMSE = distortion.RMSE(RGB_img, dQ_img)\n",
    "        RD_points.append((BPP, RMSE, component, Q_step))\n",
    "        print(f\"Q_step={Q_step:>3}, rate={BPP:>.3f} bits/pixel, distortion={RMSE}\")\n",
    "    return RD_points\n",
    "\n",
    "def R_RD_curve(RGB_img, Q_steps, components, quantizer):\n",
    "    return RD_curve(RGB_img, Q_steps, 'R', components, quantizer)\n",
    "\n",
    "def G_RD_curve(RGB_img, Q_steps, components, quantizer):\n",
    "    return RD_curve(RGB_img, Q_steps, 'G', components, quantizer)\n",
    "\n",
    "def B_RD_curve(RGB_img, Q_steps, components, quantizer):\n",
    "    return RD_curve(RGB_img, Q_steps, 'B', components, quantizer)"
   ]
  },
  {
   "cell_type": "code",
   "execution_count": null,
   "metadata": {},
   "outputs": [],
   "source": [
    "print(\"R component\")\n",
    "R_points = R_RD_curve(RGB_img, Q_steps, components, quantizer)"
   ]
  },
  {
   "cell_type": "code",
   "execution_count": null,
   "metadata": {},
   "outputs": [],
   "source": [
    "print(\"G component\")\n",
    "G_points = G_RD_curve(RGB_img, Q_steps, components, quantizer)"
   ]
  },
  {
   "cell_type": "code",
   "execution_count": null,
   "metadata": {},
   "outputs": [],
   "source": [
    "print(\"Blue component\")\n",
    "B_points = B_RD_curve(RGB_img, Q_steps, components, quantizer)"
   ]
  },
  {
   "cell_type": "code",
   "execution_count": null,
   "metadata": {},
   "outputs": [],
   "source": [
    "R_points"
   ]
  },
  {
   "cell_type": "code",
   "execution_count": null,
   "metadata": {},
   "outputs": [],
   "source": [
    "G_points"
   ]
  },
  {
   "cell_type": "code",
   "execution_count": null,
   "metadata": {},
   "outputs": [],
   "source": [
    "B_points"
   ]
  },
  {
   "cell_type": "code",
   "execution_count": null,
   "metadata": {},
   "outputs": [],
   "source": [
    "pylab.figure(dpi=150)\n",
    "#pylab.scatter(*zip(*[(i[0], i[1]) for i in R_points]), c='r', marker='.', s=0.5, label='R')              \n",
    "#pylab.scatter(*zip(*[(i[0], i[1]) for i in G_points]), c='g', marker='.', s=0.5, label='G')              \n",
    "#pylab.scatter(*zip(*[(i[0], i[1]) for i in B_points]), c='b', marker='.', s=0.5, label='B')              \n",
    "pylab.plot(*zip(*[(i[0], i[1]) for i in R_points[1:]]), c='r', marker='.', label=f\"R\", linestyle=\"dashed\")\n",
    "pylab.plot(*zip(*[(i[0], i[1]) for i in G_points[1:]]), c='g', marker='.', label=f\"G\", linestyle=\"dashed\")\n",
    "pylab.plot(*zip(*[(i[0], i[1]) for i in B_points[1:]]), c='b', marker='.', label=f\"B\", linestyle=\"dashed\")\n",
    "#pylab.plot(*zip(*[(i[0], i[1]) for i in R_points_2]), c='r', marker='x', label=f\"R ({quantizer_2.name})\", linestyle=\"dotted\")              \n",
    "#pylab.plot(*zip(*[(i[0], i[1]) for i in G_points_2]), c='g', marker='x', label=f\"G ({quantizer_2.name})\", linestyle=\"dotted\")\n",
    "#pylab.plot(*zip(*[(i[0], i[1]) for i in B_points_2]), c='b', marker='x', label=f\"B ({quantizer_2.name})\", linestyle=\"dotted\")\n",
    "pylab.title(f\"RD contribution of each component ({quantizer.name})\")\n",
    "pylab.xlabel(\"Bits/Pixel\")\n",
    "pylab.ylabel(\"RMSE\")\n",
    "plt.legend(loc='upper right')\n",
    "pylab.show()"
   ]
  },
  {
   "cell_type": "markdown",
   "metadata": {},
   "source": [
    "### Compute the slopes"
   ]
  },
  {
   "cell_type": "code",
   "execution_count": null,
   "metadata": {},
   "outputs": [],
   "source": [
    "def compute_slopes(RD_points):\n",
    "    extended_RD_points = [(0.0, 0.0, '', -1)] + RD_points\n",
    "    counter = 0\n",
    "    #RD_slopes = [(9.0E9, RD_points[0])]\n",
    "    #RD_slopes = [(9.0E9, RD_points[0][2], RD_points[0][3])]\n",
    "    RD_slopes = []\n",
    "    #RD_slopes = [(100, RD_points[0][2], RD_points[0][3])]\n",
    "    #BPP_first_point = RD_points[0][0]\n",
    "    #RMSE_first_point = RD_points[0][1]\n",
    "    #distance_to_origin_coordinates = math.sqrt(BPP_first_point*BPP_first_point + RMSE_first_point*RMSE_first_point)\n",
    "    #RD_points = [(RD_points[0][1]/RD_points[0][0], RD_points[0][2], RD_points[0][3])]\n",
    "    points_iterator = iter(RD_points)\n",
    "    next(points_iterator)\n",
    "    for i in points_iterator:\n",
    "        BPP = i[0] # Rate \n",
    "        #print(RD_points[counter])\n",
    "        #delta_BPP = BPP - extended_RD_points[counter][0]\n",
    "        delta_BPP = BPP - RD_points[counter][0]\n",
    "        RMSE = i[1] # Distortion\n",
    "        #delta_RMSE = RMSE - extended_RD_points[counter][1] \n",
    "        delta_RMSE = RMSE - RD_points[counter][1] \n",
    "        #print(f\"q_step={1<<q_step:>3}, rate={rate:>7} bytes, distortion={_distortion:>6.1f}\")\n",
    "        if delta_BPP > 0:\n",
    "            slope = abs(delta_RMSE/delta_BPP)\n",
    "        else:\n",
    "            slope = 0\n",
    "        component = i[2]\n",
    "        Q_step = i[3]\n",
    "        print((slope, i), delta_RMSE, delta_BPP)\n",
    "        #RD_slopes.append((slope, i))\n",
    "        RD_slopes.append((slope, component, Q_step))\n",
    "        counter += 1\n",
    "    #RD_slopes.append((0.0, (0.0, RD_points[-1][2], 1)))\n",
    "    return RD_slopes\n",
    "\n",
    "#R_slopes = common.compute_slopes(R_points)\n",
    "R_slopes = compute_slopes(R_points)\n",
    "#G_slopes = common.compute_slopes(G_points)\n",
    "G_slopes = compute_slopes(G_points)\n",
    "#B_slopes = common.compute_slopes(B_points)\n",
    "B_slopes = compute_slopes(B_points)"
   ]
  },
  {
   "cell_type": "code",
   "execution_count": null,
   "metadata": {},
   "outputs": [],
   "source": [
    "R_slopes"
   ]
  },
  {
   "cell_type": "code",
   "execution_count": null,
   "metadata": {},
   "outputs": [],
   "source": [
    "G_slopes"
   ]
  },
  {
   "cell_type": "code",
   "execution_count": null,
   "metadata": {},
   "outputs": [],
   "source": [
    "B_slopes"
   ]
  },
  {
   "cell_type": "markdown",
   "metadata": {},
   "source": [
    "### Merge the RD slopes and sort them (by slope)"
   ]
  },
  {
   "cell_type": "code",
   "execution_count": null,
   "metadata": {},
   "outputs": [],
   "source": [
    "all_slopes = R_slopes + G_slopes + B_slopes\n",
    "sorted_slopes = sorted(all_slopes, key=lambda x: x[0])[::-1]"
   ]
  },
  {
   "cell_type": "code",
   "execution_count": null,
   "metadata": {},
   "outputs": [],
   "source": [
    "sorted_slopes"
   ]
  },
  {
   "cell_type": "markdown",
   "metadata": {},
   "source": [
    "### Build the RD curve\n",
    "\n",
    "At this point we have a list of RD points sorted by their slopes and we have two alternatives to compute the RD curve:\n",
    "\n",
    "1. Suppose that the distortion of the reconstructed (dequantized) image is the sum of the distortions of each component, and do the same for the bit-rate.\n",
    "2. Suppose that, because we are compressing a RGB image, the bit-rate of the compressed image can be slighly smaller than the addition of the bit-rates of the compressed components, basically because we will avoid extra headers.\n",
    "\n",
    "The second alterntive has been used because it is more accurate."
   ]
  },
  {
   "cell_type": "code",
   "execution_count": null,
   "metadata": {
    "scrolled": false
   },
   "outputs": [],
   "source": [
    "# Recompute \n",
    "def get_RD_curve_sorted_by_slopes(RGB_img, sorted_slopes, components, quantizer):\n",
    "    RGB_img -= 128\n",
    "    points = []\n",
    "    Q_steps_per_component = [256, 256, 256] # This should generate a black image.\n",
    "    #Q_steps_per_component = [128, 128, 128] # This should generate a black image.\n",
    "    for i in sorted_slopes:\n",
    "        k = np.empty_like(RGB_img)\n",
    "        y = np.empty_like(RGB_img)\n",
    "        #point = i[1]\n",
    "        #component = point[2]\n",
    "        component = i[1]\n",
    "        #Q_step = point[3]\n",
    "        Q_step = i[2]\n",
    "        Q_steps_per_component[components.index(component)] = Q_step\n",
    "        #print(i, Q_steps_per_component)\n",
    "        for c, QS in zip(components, Q_steps_per_component):\n",
    "            y[..., components.index(c)], k[..., components.index(c)] = quantizer.quan_dequan(RGB_img[..., components.index(c)], QS)\n",
    "            #print(c, QS,components.index(c))\n",
    "            #for _y in range(10):\n",
    "            #    for _x in range(10):\n",
    "            #        print(RGB_img[_y, _x, components.index(c)], y[_y,_x, components.index(c)], end=' ')\n",
    "            #    print()\n",
    "        #y, k = quantizer.quan_dequan(RGB_img, Q_step)\n",
    "        k = (k + 128).astype(np.uint8)\n",
    "        rate = common.bits_per_color_pixel(k, str(Q_steps_per_component) + '_')\n",
    "        _distortion = distortion.RMSE(RGB_img, y)\n",
    "        points.append((rate, _distortion))\n",
    "        print(f\"Q_step={Q_steps_per_component}, rate={rate} bits/pixel, distortion={_distortion}\")\n",
    "    return points\n",
    "\n",
    "RD_points_sorted_by_slopes = get_RD_curve_sorted_by_slopes(RGB_img, sorted_slopes, components, quantizer)"
   ]
  },
  {
   "cell_type": "markdown",
   "metadata": {},
   "source": [
    "## For further comparisons"
   ]
  },
  {
   "cell_type": "code",
   "execution_count": null,
   "metadata": {},
   "outputs": [],
   "source": [
    "print(quantizer.name)\n",
    "with open(f\"RGB.txt\", 'w') as f:\n",
    "    for item in RD_points_sorted_by_slopes:\n",
    "        f.write(f\"{item[0]}\\t{item[1]}\\n\")"
   ]
  },
  {
   "cell_type": "markdown",
   "metadata": {},
   "source": [
    "## Let's compare!"
   ]
  },
  {
   "cell_type": "code",
   "execution_count": null,
   "metadata": {},
   "outputs": [],
   "source": [
    "pylab.figure(dpi=150)\n",
    "pylab.plot(*zip(*RD_points_sorted_by_slopes), c='g', marker='o', label=\"Sorted by slope\", linestyle=\"dashed\")\n",
    "pylab.plot(*zip(*same_delta_RD_points), c='m', marker='x', label=\"$\\Delta_{\\mathrm{R}}=\\Delta_{\\mathrm{G}}=\\Delta_{\\mathrm{B}}}$\", linestyle=\"dotted\")\n",
    "pylab.title(f\"Rate/Distortion Performance ({quantizer.name})\")\n",
    "pylab.xlabel(\"Bits/Pixel\")\n",
    "pylab.ylabel(\"RMSE\")\n",
    "pylab.legend(loc='upper right')\n",
    "pylab.show()"
   ]
  },
  {
   "cell_type": "markdown",
   "metadata": {},
   "source": [
    "## Conclusion\n",
    "\n",
    "In the RGB domain, the optimal RD curve matches the constant quantization RD curve because the 3 components have the same weight in the contribution to the quality the reconstruction. However, we have more OTPs (Optimal Truncation Points) in the optimal one."
   ]
  },
  {
   "cell_type": "markdown",
   "metadata": {},
   "source": [
    "## Comparing all quantizers"
   ]
  },
  {
   "cell_type": "code",
   "execution_count": null,
   "metadata": {},
   "outputs": [],
   "source": [
    "RGB_midrise = []\n",
    "with open(f\"RGB_mid-rise.txt\", 'r') as f:\n",
    "    for line in f:\n",
    "        rate, _distortion = line.split('\\t')\n",
    "        RGB_midrise.append((float(rate), float(_distortion)))"
   ]
  },
  {
   "cell_type": "code",
   "execution_count": null,
   "metadata": {},
   "outputs": [],
   "source": [
    "RGB_deadzone = []\n",
    "with open(f\"RGB_dead-zone.txt\", 'r') as f:\n",
    "    for line in f:\n",
    "        rate, _distortion = line.split('\\t')\n",
    "        RGB_deadzone.append((float(rate), float(_distortion)))"
   ]
  },
  {
   "cell_type": "code",
   "execution_count": null,
   "metadata": {},
   "outputs": [],
   "source": [
    "RGB_midtread = []\n",
    "with open(f\"RGB_mid-tread.txt\", 'r') as f:\n",
    "    for line in f:\n",
    "        rate, _distortion = line.split('\\t')\n",
    "        RGB_midtread.append((float(rate), float(_distortion)))"
   ]
  },
  {
   "cell_type": "code",
   "execution_count": null,
   "metadata": {},
   "outputs": [],
   "source": [
    "RGB_companded = []\n",
    "with open(f\"RGB_companded.txt\", 'r') as f:\n",
    "    for line in f:\n",
    "        rate, _distortion = line.split('\\t')\n",
    "        RGB_companded.append((float(rate), float(_distortion)))"
   ]
  },
  {
   "cell_type": "code",
   "execution_count": null,
   "metadata": {},
   "outputs": [],
   "source": [
    "pylab.figure(dpi=150)\n",
    "pylab.plot(*zip(*RGB_midrise), c='g', marker='o', label=\"Mid-rise\", linestyle=\"dashed\")\n",
    "pylab.plot(*zip(*RGB_deadzone), c='m', marker='x', label=\"Dead-zone\", linestyle=\"dotted\")\n",
    "pylab.plot(*zip(*RGB_midtread), c='r', marker='x', label=\"Mid-read\", linestyle=\"dotted\")\n",
    "pylab.plot(*zip(*RGB_companded), c='b', marker='x', label=\"Companded\", linestyle=\"dotted\")\n",
    "pylab.title(\"Rate/Distortion Performance \")\n",
    "pylab.xlabel(\"Bits/Pixel\")\n",
    "pylab.ylabel(\"RMSE\")\n",
    "pylab.legend(loc='upper right')\n",
    "pylab.show()"
   ]
  },
  {
   "cell_type": "markdown",
   "metadata": {},
   "source": [
    "## Ignore the rest ..."
   ]
  },
  {
   "cell_type": "markdown",
   "metadata": {},
   "source": [
    "## Comparing all quantizers\n",
    "You must have run the previous cells for the different quantizers."
   ]
  },
  {
   "cell_type": "code",
   "execution_count": null,
   "metadata": {},
   "outputs": [],
   "source": [
    "RGB_midrise = []\n",
    "with open(f\"RGB_same_mid-rise_RD_points.txt\", 'r') as f:\n",
    "    for line in f:\n",
    "        rate, _distortion = line.split('\\t')\n",
    "        RGB_midrise.append((float(rate), float(_distortion)))"
   ]
  },
  {
   "cell_type": "code",
   "execution_count": null,
   "metadata": {},
   "outputs": [],
   "source": [
    "RGB_deadzone = []\n",
    "with open(f\"RGB_same_dead-zone_RD_points.txt\", 'r') as f:\n",
    "    for line in f:\n",
    "        rate, _distortion = line.split('\\t')\n",
    "        RGB_deadzone.append((float(rate), float(_distortion)))"
   ]
  },
  {
   "cell_type": "code",
   "execution_count": null,
   "metadata": {},
   "outputs": [],
   "source": [
    "RGB_midtread = []\n",
    "with open(f\"RGB_same_mid-tread_RD_points.txt\", 'r') as f:\n",
    "    for line in f:\n",
    "        rate, _distortion = line.split('\\t')\n",
    "        RGB_midtread.append((float(rate), float(_distortion)))"
   ]
  },
  {
   "cell_type": "code",
   "execution_count": null,
   "metadata": {},
   "outputs": [],
   "source": [
    "RGB_companded = []\n",
    "with open(f\"RGB_same_companded_RD_points.txt\", 'r') as f:\n",
    "    for line in f:\n",
    "        rate, _distortion = line.split('\\t')\n",
    "        RGB_companded.append((float(rate), float(_distortion)))"
   ]
  },
  {
   "cell_type": "code",
   "execution_count": null,
   "metadata": {},
   "outputs": [],
   "source": [
    "pylab.figure(dpi=150)\n",
    "pylab.plot(*zip(*RGB_midrise), c='g', marker='o', label=\"Mid-rise\", linestyle=\"dashed\")\n",
    "pylab.plot(*zip(*RGB_deadzone), c='m', marker='x', label=\"Dead-zone\", linestyle=\"dotted\")\n",
    "pylab.plot(*zip(*RGB_midtread), c='r', marker='x', label=\"Mid-read\", linestyle=\"dotted\")\n",
    "pylab.plot(*zip(*RGB_companded), c='b', marker='x', label=\"Companded\", linestyle=\"dotted\")\n",
    "pylab.title(\"Rate/Distortion Performance \")\n",
    "pylab.xlabel(\"Bits/Pixel\")\n",
    "pylab.ylabel(\"RMSE\")\n",
    "pylab.legend(loc='upper right')\n",
    "pylab.show()"
   ]
  },
  {
   "cell_type": "markdown",
   "metadata": {},
   "source": [
    "The RD performance of the four quantizers in the RGB domain is similar, but the companded quantizer needs extra bits for representing the source losslessly. This is a consequence of the floating point arithmetic used in the compressor and the decompressor."
   ]
  },
  {
   "cell_type": "code",
   "execution_count": null,
   "metadata": {},
   "outputs": [],
   "source": [
    "def accumulate_rate(points_sorted_by_slopes):\n",
    "    optimal_points = []\n",
    "    accumulated_BR = 0.0\n",
    "    for i in points_sorted_by_slopes:\n",
    "        BPP = i[1][0]; MSE = i[1][1]\n",
    "        accumulated_BR += BPP\n",
    "        optimal_points.append((accumulated_BR, MSE))\n",
    "    return optimal_points\n",
    "\n",
    "optimal_points = accumulate_rate(optimal_slopes)"
   ]
  },
  {
   "cell_type": "code",
   "execution_count": null,
   "metadata": {},
   "outputs": [],
   "source": [
    "optimal_points"
   ]
  },
  {
   "cell_type": "markdown",
   "metadata": {},
   "source": [
    "## Compute slopes"
   ]
  },
  {
   "cell_type": "code",
   "execution_count": null,
   "metadata": {},
   "outputs": [],
   "source": []
  },
  {
   "cell_type": "code",
   "execution_count": null,
   "metadata": {},
   "outputs": [],
   "source": [
    "def compute_slopes(RD_points):\n",
    "    extended_RD_points = [(0.0, 9.0E9, '', -1)] + RD_points\n",
    "    counter = 0\n",
    "    RD_slopes = []\n",
    "    for i in RD_points:\n",
    "        BPP = i[0] # Rate \n",
    "        print(RD_points[counter])\n",
    "        delta_BPP = BPP - extended_RD_points[counter][0]\n",
    "        RMSE = i[1] # Distortion\n",
    "        delta_RMSE = RMSE - extended_RD_points[counter][1] \n",
    "        #print(f\"q_step={1<<q_step:>3}, rate={rate:>7} bytes, distortion={_distortion:>6.1f}\")\n",
    "        if delta_BPP > 0:\n",
    "            slope = delta_RMSE/delta_BPP\n",
    "        else:\n",
    "            slope = 0\n",
    "        RD_slopes.append((slope, i[2], i[3]))\n",
    "        counter += 1\n",
    "    return RD_slopes\n",
    "\n",
    "RD_slopes = compute_slopes(sorted_RD_points)"
   ]
  },
  {
   "cell_type": "code",
   "execution_count": null,
   "metadata": {},
   "outputs": [],
   "source": [
    "RD_slopes"
   ]
  },
  {
   "cell_type": "code",
   "execution_count": null,
   "metadata": {},
   "outputs": [],
   "source": [
    "print(RD_points)"
   ]
  },
  {
   "cell_type": "code",
   "execution_count": null,
   "metadata": {},
   "outputs": [],
   "source": [
    "with open('RGB.txt', 'w') as f:\n",
    "    for item in RD_points:\n",
    "        f.write(f\"{item[0]}\\t{item[1]}\\n\")"
   ]
  },
  {
   "cell_type": "code",
   "execution_count": null,
   "metadata": {},
   "outputs": [],
   "source": [
    "k, y = q_deq(img, 64)\n",
    "show(y, \"\")"
   ]
  },
  {
   "cell_type": "markdown",
   "metadata": {},
   "source": [
    "## RD curves of each channel"
   ]
  },
  {
   "cell_type": "code",
   "execution_count": null,
   "metadata": {},
   "outputs": [],
   "source": [
    "def only_R_RD_curve(RGB_frame):\n",
    "    RD_points = []\n",
    "    for q_step in range(0, 8):\n",
    "        R_frame = RGB_frame[:,:,0]\n",
    "        k, dequantized_R_frame = q_deq(R_frame, 1<<q_step)\n",
    "        k = k.astype(np.uint8)\n",
    "        rate = bits_per_graypixel(k)\n",
    "        _distortion = distortion.RMSE(R_frame, dequantized_R_frame)\n",
    "        RD_points.append((rate, _distortion))\n",
    "        print(f\"q_step={1<<q_step:>3}, rate={rate:>7} bytes, distortion={_distortion:>6.1f}\")\n",
    "    return RD_points\n",
    "\n",
    "def only_G_RD_curve(RGB_frame):\n",
    "    RD_points = []\n",
    "    for q_step in range(0, 8):\n",
    "        G_frame = RGB_frame[:,:,1]\n",
    "        k, dequantized_G_frame = q_deq(G_frame, 1<<q_step)\n",
    "        k = k.astype(np.uint8)\n",
    "        rate = bits_per_graypixel(k)\n",
    "        _distortion = distortion.RMSE(G_frame, dequantized_G_frame)\n",
    "        RD_points.append((rate, _distortion))\n",
    "        print(f\"q_step={1<<q_step:>3}, rate={rate:>7} bytes, distortion={_distortion:>6.1f}\")\n",
    "    return RD_points\n",
    "\n",
    "def only_B_RD_curve(RGB_frame):\n",
    "    RD_points = []\n",
    "    for q_step in range(0, 8):\n",
    "        B_frame = RGB_frame[:,:,2]\n",
    "        k, dequantized_B_frame = q_deq(B_frame, 1<<q_step)\n",
    "        k = k.astype(np.uint8)\n",
    "        rate = bits_per_graypixel(k)\n",
    "        _distortion = distortion.RMSE(B_frame, dequantized_B_frame)\n",
    "        RD_points.append((rate, _distortion))\n",
    "        print(f\"q_step={1<<q_step:>3}, rate={rate:>7} bytes, distortion={_distortion:>6.1f}\")\n",
    "    return RD_points\n",
    "\n",
    "only_R_points = only_R_RD_curve(img)\n",
    "only_G_points = only_G_RD_curve(img)\n",
    "only_B_points = only_B_RD_curve(img)"
   ]
  },
  {
   "cell_type": "code",
   "execution_count": null,
   "metadata": {},
   "outputs": [],
   "source": [
    "only_B_points"
   ]
  },
  {
   "cell_type": "code",
   "execution_count": null,
   "metadata": {},
   "outputs": [],
   "source": [
    "pylab.figure(dpi=150)\n",
    "pylab.plot(*zip(*RD_points), c='m', marker=\"x\",\n",
    "           label='$\\Delta_{\\mathrm{R}} = \\Delta_{\\mathrm{G}} = \\Delta_{\\mathrm{B}}$')\n",
    "pylab.plot(*zip(*only_R_points), c='r', marker=\"o\",\n",
    "           label='Only R')              \n",
    "pylab.plot(*zip(*only_G_points), c='g', marker=\"o\",\n",
    "           label='Only G')              \n",
    "pylab.plot(*zip(*only_B_points), c='b', marker=\"o\",\n",
    "           label='Only B')              \n",
    "pylab.title(\"RD Performance\")\n",
    "pylab.xlabel(\"Bits/Pixel\")\n",
    "pylab.ylabel(\"RMSE\")\n",
    "plt.legend(loc='upper right')\n",
    "pylab.show()"
   ]
  },
  {
   "cell_type": "markdown",
   "metadata": {},
   "source": [
    "The $\\Delta_{\\mathrm{R}} = \\Delta_{\\mathrm{G}} = \\Delta_{\\mathrm{B}}$ quantization scheme is near optimal because the slope at the different quantization points is almost the same. This can be seen in the next experiment"
   ]
  },
  {
   "cell_type": "markdown",
   "metadata": {},
   "source": [
    "## Testing a different quantization configuration"
   ]
  },
  {
   "cell_type": "code",
   "execution_count": null,
   "metadata": {},
   "outputs": [],
   "source": [
    "N = 6\n",
    "def only_R_RD_curve(RGB_frame):\n",
    "    RD_points = []\n",
    "    for q_step in range(0, 8):\n",
    "        dequantized_RGB_frame = np.empty_like(RGB_frame)\n",
    "        k = np.empty_like(RGB_frame)\n",
    "        k[:,:,0], dequantized_RGB_frame[:,:,0] = q_deq(RGB_frame[:,:,0], 1<<q_step)\n",
    "        k[:,:,1], dequantized_RGB_frame[:,:,1] = q_deq(RGB_frame[:,:,1], 1<<N)\n",
    "        k[:,:,2], dequantized_RGB_frame[:,:,2] = q_deq(RGB_frame[:,:,2], 1<<N)\n",
    "        k = k.astype(np.uint8)\n",
    "        rate = bits_per_pixel(k)\n",
    "        _distortion = distortion.MSE(RGB_frame, dequantized_RGB_frame)\n",
    "        RD_points.append((rate, _distortion))\n",
    "        print(f\"q_step={1<<q_step:>3}, rate={rate:>7} bytes, distortion={_distortion:>6.1f}\")\n",
    "    return RD_points\n",
    "\n",
    "def only_G_RD_curve(RGB_frame):\n",
    "    RD_points = []\n",
    "    for q_step in range(0, 8):\n",
    "        dequantized_RGB_frame = np.empty_like(RGB_frame)\n",
    "        k = np.empty_like(RGB_frame)\n",
    "        k[:,:,0], dequantized_RGB_frame[:,:,0] = q_deq(RGB_frame[:,:,0], 1<<N)\n",
    "        k[:,:,1], dequantized_RGB_frame[:,:,1] = q_deq(RGB_frame[:,:,1], 1<<q_step)\n",
    "        k[:,:,2], dequantized_RGB_frame[:,:,2] = q_deq(RGB_frame[:,:,2], 1<<N)\n",
    "        k = k.astype(np.uint8)\n",
    "        rate = bits_per_pixel(k)\n",
    "        _distortion = distortion.RMSE(RGB_frame, dequantized_RGB_frame)\n",
    "        RD_points.append((rate, _distortion))\n",
    "        print(f\"q_step={1<<q_step:>3}, rate={rate:>7} bytes, distortion={_distortion:>6.1f}\")\n",
    "    return RD_points\n",
    "\n",
    "def only_B_RD_curve(RGB_frame):\n",
    "    RD_points = []\n",
    "    for q_step in range(0, 8):\n",
    "        dequantized_RGB_frame = np.empty_like(RGB_frame)\n",
    "        k = np.empty_like(RGB_frame)\n",
    "        k[:,:,0], dequantized_RGB_frame[:,:,0] = q_deq(RGB_frame[:,:,0], 1<<N)\n",
    "        k[:,:,1], dequantized_RGB_frame[:,:,1] = q_deq(RGB_frame[:,:,1], 1<<N)\n",
    "        k[:,:,2], dequantized_RGB_frame[:,:,2] = q_deq(RGB_frame[:,:,2], 1<<q_step)\n",
    "        k = k.astype(np.uint8)\n",
    "        rate = bits_per_pixel(k)\n",
    "        _distortion = distortion.RMSE(RGB_frame, dequantized_RGB_frame)\n",
    "        RD_points.append((rate, _distortion))\n",
    "        print(f\"q_step={1<<q_step:>3}, rate={rate:>7} bytes, distortion={_distortion:>6.1f}\")\n",
    "    return RD_points\n",
    "\n",
    "only_R_points = only_R_RD_curve(img)\n",
    "only_G_points = only_G_RD_curve(img)\n",
    "only_B_points = only_B_RD_curve(img)"
   ]
  },
  {
   "cell_type": "code",
   "execution_count": null,
   "metadata": {},
   "outputs": [],
   "source": [
    "pylab.figure(dpi=150)\n",
    "pylab.plot(*zip(*RD_points), c='m', marker=\"x\",\n",
    "           label='$\\Delta_{\\mathrm{R}} = \\Delta_{\\mathrm{G}} = \\Delta_{\\mathrm{B}}$')\n",
    "pylab.plot(*zip(*only_R_points), c='r', marker=\"o\",\n",
    "           label='$\\Delta_{\\mathrm{R}}~\\mathrm{varies},~\\Delta_{\\mathrm{G}}=\\Delta_{\\mathrm{B}}=$' + '{}'.format(1<<N))              \n",
    "pylab.plot(*zip(*only_G_points), c='g', marker=\"o\",\n",
    "           label='$\\Delta_{\\mathrm{G}}~\\mathrm{varies},~\\Delta_{\\mathrm{R}}=\\Delta_{\\mathrm{B}}=$' + '{}'.format(1<<N))              \n",
    "pylab.plot(*zip(*only_B_points), c='b', marker=\"o\",\n",
    "           label='$\\Delta_{\\mathrm{B}}~\\mathrm{varies},~\\Delta_{\\mathrm{R}}=\\Delta_{\\mathrm{G}}=$' + '{}'.format(1<<N))              \n",
    "pylab.title(\"RD Performance\")\n",
    "pylab.xlabel(\"Bits/Pixel\")\n",
    "pylab.ylabel(\"RMSE\")\n",
    "plt.legend(loc='upper right')\n",
    "pylab.show()"
   ]
  },
  {
   "cell_type": "markdown",
   "metadata": {},
   "source": [
    "As it can be seen, the best configuration matches $\\Delta_{\\mathrm{R}} = \\Delta_{\\mathrm{G}} = \\Delta_{\\mathrm{B}}$."
   ]
  },
  {
   "cell_type": "markdown",
   "metadata": {},
   "source": [
    "Lo que hay que hacer es calcular el slope para cada OTP (Optimal Truncated Point) de cada canal, ordenarlos y trazar la curva RD. Esto nos daría la curva RD óptima."
   ]
  },
  {
   "cell_type": "code",
   "execution_count": null,
   "metadata": {},
   "outputs": [],
   "source": []
  }
 ],
 "metadata": {
  "kernelspec": {
   "display_name": "Python 3 (ipykernel)",
   "language": "python",
   "name": "python3"
  },
  "language_info": {
   "codemirror_mode": {
    "name": "ipython",
    "version": 3
   },
   "file_extension": ".py",
   "mimetype": "text/x-python",
   "name": "python",
   "nbconvert_exporter": "python",
   "pygments_lexer": "ipython3",
   "version": "3.10.0"
  }
 },
 "nbformat": 4,
 "nbformat_minor": 4
}

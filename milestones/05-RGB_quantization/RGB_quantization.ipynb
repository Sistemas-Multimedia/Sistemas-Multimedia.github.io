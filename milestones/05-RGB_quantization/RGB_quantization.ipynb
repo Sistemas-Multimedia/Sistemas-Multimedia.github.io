{
 "cells": [
  {
   "cell_type": "markdown",
   "metadata": {},
   "source": [
    "# RGB image compression\n",
    "\n",
    "Compressing color images with PNG in the RGB domain."
   ]
  },
  {
   "cell_type": "code",
   "execution_count": null,
   "metadata": {},
   "outputs": [],
   "source": [
    "%matplotlib inline\n",
    "\n",
    "import matplotlib\n",
    "import matplotlib.pyplot as plt\n",
    "import matplotlib.axes as ax\n",
    "import pylab\n",
    "import math\n",
    "import numpy as np\n",
    "from scipy import signal\n",
    "import cv2\n",
    "import os\n",
    "#!pwd\n",
    "!ln -sf ~/quantization/deadzone_quantizer.py .\n",
    "!ln -sf ~/quantization/midtread_quantizer.py .\n",
    "#!ln -sf ~/MRVC/src/frame.py .\n",
    "!ln -sf ~/quantization/distortion.py .\n",
    "!ln -sf ~/quantization/information.py\n",
    "!ln -sf ~/MRVC/src/debug.py\n",
    "!ln -sf ~/MRVC/src/image_3.py\n",
    "!ln -sf ~/MRVC/src/image_1.py\n",
    "!ln -sf ../common.py .\n",
    "import deadzone_quantizer as deadzone\n",
    "import midtread_quantizer as midtread\n",
    "import distortion\n",
    "import image_3 as RGB_img\n",
    "import image_1 as gray_img\n",
    "import colored\n",
    "import common"
   ]
  },
  {
   "cell_type": "markdown",
   "metadata": {},
   "source": [
    "## Configuration"
   ]
  },
  {
   "cell_type": "code",
   "execution_count": null,
   "metadata": {},
   "outputs": [],
   "source": [
    "# Prefix of the RGB image to be quantized.\n",
    "\n",
    "home = os.environ[\"HOME\"]\n",
    "#fn = home + \"/MRVC/sequences/stockholm/\"\n",
    "fn = home + \"/MRVC/sequences/lena_color/\"\n",
    "\n",
    "# Quantization steps (simulating bit-plane encoding).\n",
    "Q_steps = [2**i for i in range(7, -1, -1)]\n",
    "#Q_steps = range(256, 0, -1)\n",
    "\n",
    "\n",
    "\n",
    "print(Q_steps)\n",
    "\n",
    "components = ['R', 'G', 'B']\n",
    "\n",
    "quantizer_1 = midtread\n",
    "quantizer_2 = deadzone"
   ]
  },
  {
   "cell_type": "markdown",
   "metadata": {},
   "source": [
    "Notice that non embbeded quatization (using steps thar are different from a power of 2) steps (can produce loops in the RD curves due to the non-linearity of the integer division performed in the quantization)."
   ]
  },
  {
   "cell_type": "markdown",
   "metadata": {},
   "source": [
    "## Read the image and show it"
   ]
  },
  {
   "cell_type": "code",
   "execution_count": null,
   "metadata": {},
   "outputs": [],
   "source": [
    "img = RGB_img.read(fn)\n",
    "print(img.max(), img.min())\n",
    "common.show(img, fn + \"000.png\")"
   ]
  },
  {
   "cell_type": "markdown",
   "metadata": {},
   "source": [
    "## Show also some quantizations"
   ]
  },
  {
   "cell_type": "code",
   "execution_count": null,
   "metadata": {},
   "outputs": [],
   "source": [
    "common.show(quantizer_1.quan_dequan(img, 64)[0], quantizer_1.name)"
   ]
  },
  {
   "cell_type": "code",
   "execution_count": null,
   "metadata": {},
   "outputs": [],
   "source": [
    "common.show(quantizer_2.quan_dequan(img, 64)[0], quantizer_2.name)"
   ]
  },
  {
   "cell_type": "markdown",
   "metadata": {},
   "source": [
    "## Generation of the RD curve\n",
    "\n",
    "1. The RD curve of each RGB channel is computed, for a number of quantization steps.\n",
    "2. The RD points are sorted by slopes."
   ]
  },
  {
   "cell_type": "markdown",
   "metadata": {},
   "source": [
    "## RD curves of each RGB channel\n",
    "Remember that the quantization indexes images must be normalized or equalized to be displayed properly."
   ]
  },
  {
   "cell_type": "code",
   "execution_count": null,
   "metadata": {},
   "outputs": [],
   "source": [
    "def RD_curve(RGB_img, Q_steps, component, components, quantizer):\n",
    "    RD_points = []\n",
    "    component_index = components.index(component)\n",
    "    for Q_step in Q_steps:\n",
    "        component_img = RGB_img[..., component_index]\n",
    "        dequantized_component_img, k = quantizer.quan_dequan(component_img, Q_step)\n",
    "        k = k.astype(np.uint8)\n",
    "        rate = common.bits_per_gray_pixel(k, component + str(Q_step) + '_')\n",
    "        _distortion = distortion.MSE(component_img, dequantized_component_img)\n",
    "        RD_points.append((rate, _distortion, component, Q_step))\n",
    "        print(f\"Q_step={Q_step:>3}, rate={rate:>.3f} bits/pixel, distortion={_distortion}\")\n",
    "    return RD_points\n",
    "\n",
    "def R_RD_curve(RGB_img, Q_steps, components, quantizer):\n",
    "    return RD_curve(RGB_img, Q_steps, 'R', components, quantizer)\n",
    "\n",
    "def G_RD_curve(RGB_img, Q_steps, components, quantizer):\n",
    "    return RD_curve(RGB_img, Q_steps, 'G', components, quantizer)\n",
    "\n",
    "def B_RD_curve(RGB_img, Q_steps, components, quantizer):\n",
    "    return RD_curve(RGB_img, Q_steps, 'B', components, quantizer)"
   ]
  },
  {
   "cell_type": "code",
   "execution_count": null,
   "metadata": {},
   "outputs": [],
   "source": [
    "print(quantizer_1.name, \"red\")\n",
    "R_points_1 = R_RD_curve(img, Q_steps, components, quantizer_1)"
   ]
  },
  {
   "cell_type": "code",
   "execution_count": null,
   "metadata": {},
   "outputs": [],
   "source": [
    "print(quantizer_2.name, \"red\")\n",
    "R_points_2 = R_RD_curve(img, Q_steps, components, quantizer_2)"
   ]
  },
  {
   "cell_type": "code",
   "execution_count": null,
   "metadata": {},
   "outputs": [],
   "source": [
    "print(quantizer_1.name, \"green\")\n",
    "G_points_1 = G_RD_curve(img, Q_steps, components, quantizer_1)"
   ]
  },
  {
   "cell_type": "code",
   "execution_count": null,
   "metadata": {},
   "outputs": [],
   "source": [
    "print(quantizer_2.name, \"green\")\n",
    "G_points_2 = G_RD_curve(img, Q_steps, components, quantizer_2)"
   ]
  },
  {
   "cell_type": "code",
   "execution_count": null,
   "metadata": {},
   "outputs": [],
   "source": [
    "print(quantizer_1.name, \"blue\")\n",
    "B_points_1 = B_RD_curve(img, Q_steps, components, quantizer_1)"
   ]
  },
  {
   "cell_type": "code",
   "execution_count": null,
   "metadata": {},
   "outputs": [],
   "source": [
    "print(quantizer_2.name, \"blue\")\n",
    "B_points_2 = B_RD_curve(img, Q_steps, components, quantizer_2)"
   ]
  },
  {
   "cell_type": "code",
   "execution_count": null,
   "metadata": {},
   "outputs": [],
   "source": [
    "pylab.figure(dpi=150)\n",
    "#pylab.scatter(*zip(*[(i[0], i[1]) for i in R_points]), c='r', marker='.', s=0.5, label='R')              \n",
    "#pylab.scatter(*zip(*[(i[0], i[1]) for i in G_points]), c='g', marker='.', s=0.5, label='G')              \n",
    "#pylab.scatter(*zip(*[(i[0], i[1]) for i in B_points]), c='b', marker='.', s=0.5, label='B')              \n",
    "pylab.plot(*zip(*[(i[0], i[1]) for i in R_points_1]), c='r', marker='.', label=f\"R ({quantizer_1.name})\", linestyle=\"dashed\")\n",
    "pylab.plot(*zip(*[(i[0], i[1]) for i in G_points_1]), c='g', marker='.', label=f\"G ({quantizer_1.name})\", linestyle=\"dashed\")\n",
    "pylab.plot(*zip(*[(i[0], i[1]) for i in B_points_1]), c='b', marker='.', label=f\"B ({quantizer_1.name})\", linestyle=\"dashed\")\n",
    "pylab.plot(*zip(*[(i[0], i[1]) for i in R_points_2]), c='r', marker='x', label=f\"R ({quantizer_2.name})\", linestyle=\"dotted\")              \n",
    "pylab.plot(*zip(*[(i[0], i[1]) for i in G_points_2]), c='g', marker='x', label=f\"G ({quantizer_2.name})\", linestyle=\"dotted\")\n",
    "pylab.plot(*zip(*[(i[0], i[1]) for i in B_points_2]), c='b', marker='x', label=f\"B ({quantizer_2.name})\", linestyle=\"dotted\")\n",
    "pylab.title(\"RD Performance in the RGB domain\")\n",
    "pylab.xlabel(\"Bits/Pixel\")\n",
    "pylab.ylabel(\"MSE\")\n",
    "plt.legend(loc='upper right')\n",
    "pylab.show()"
   ]
  },
  {
   "cell_type": "markdown",
   "metadata": {},
   "source": [
    "Let's use the mid-tread quantizer."
   ]
  },
  {
   "cell_type": "markdown",
   "metadata": {},
   "source": [
    "## Compute the slopes\n",
    "In a different list for each component."
   ]
  },
  {
   "cell_type": "code",
   "execution_count": null,
   "metadata": {},
   "outputs": [],
   "source": [
    "def compute_slopes(RD_points):\n",
    "    extended_RD_points = [(0.0, 0.0, '', -1)] + RD_points\n",
    "    counter = 0\n",
    "    RD_slopes = [(9.0E9, RD_points[0])]\n",
    "    points_iterator = iter(RD_points)\n",
    "    next(points_iterator)\n",
    "    for i in points_iterator:\n",
    "        BPP = i[0] # Rate \n",
    "        #print(RD_points[counter])\n",
    "        #delta_BPP = BPP - extended_RD_points[counter][0]\n",
    "        delta_BPP = BPP - RD_points[counter][0]\n",
    "        MSE = i[1] # Distortion\n",
    "        #delta_MSE = MSE - extended_RD_points[counter][1] \n",
    "        delta_MSE = MSE - RD_points[counter][1] \n",
    "        #print(f\"q_step={1<<q_step:>3}, rate={rate:>7} bytes, distortion={_distortion:>6.1f}\")\n",
    "        if delta_BPP > 0:\n",
    "            slope = abs(delta_MSE/delta_BPP)\n",
    "        else:\n",
    "            slope = 0\n",
    "        component = i[2]\n",
    "        q_step = i[3]\n",
    "        print((slope, i), delta_MSE, delta_BPP)\n",
    "        RD_slopes.append((slope, i))\n",
    "        counter += 1\n",
    "    #RD_slopes.append((0.0, (0.0, RD_points[-1][2], 1)))\n",
    "    return RD_slopes\n",
    "\n",
    "R_slopes = compute_slopes(R_points_1)\n",
    "G_slopes = compute_slopes(G_points_1)\n",
    "B_slopes = compute_slopes(B_points_1)"
   ]
  },
  {
   "cell_type": "code",
   "execution_count": null,
   "metadata": {},
   "outputs": [],
   "source": [
    "R_slopes"
   ]
  },
  {
   "cell_type": "code",
   "execution_count": null,
   "metadata": {},
   "outputs": [],
   "source": [
    "G_slopes"
   ]
  },
  {
   "cell_type": "code",
   "execution_count": null,
   "metadata": {},
   "outputs": [],
   "source": [
    "B_slopes"
   ]
  },
  {
   "cell_type": "markdown",
   "metadata": {},
   "source": [
    "## Merge the RD slopes and sort them\n",
    "By slope."
   ]
  },
  {
   "cell_type": "code",
   "execution_count": null,
   "metadata": {},
   "outputs": [],
   "source": [
    "all_slopes = R_slopes + G_slopes + B_slopes\n",
    "sorted_slopes = sorted(all_slopes, key=lambda x: x[0])[::-1]"
   ]
  },
  {
   "cell_type": "code",
   "execution_count": null,
   "metadata": {},
   "outputs": [],
   "source": [
    "sorted_slopes"
   ]
  },
  {
   "cell_type": "markdown",
   "metadata": {},
   "source": [
    "## Build the RD curve\n",
    "\n",
    "At this point we have a list of RD points sorted by their slopes and we have two alternatives to compute the RD curve:\n",
    "\n",
    "1. Suppose that the distortion of the reconstructed (dequantized) image is the sum of the distortions of each component, and do the same for the bit-rate.\n",
    "2. Suppose that, because we are compressing a RGB image, the bit-rate of the compressed image can be slighly smaller than the addition of the bit-rates of the compressed components, basically because we will avoid extra headers.\n",
    "\n",
    "The second alterntive has been used because it is more accurate."
   ]
  },
  {
   "cell_type": "code",
   "execution_count": null,
   "metadata": {
    "scrolled": false
   },
   "outputs": [],
   "source": [
    "def get_RD_curve_sorted_by_slopes(RGB_img, sorted_slopes, components, quantizer):\n",
    "    points = []\n",
    "    Q_steps_per_component = [256, 256, 256] # This should generate a black image.\n",
    "    #Q_steps_per_component = [128, 128, 128] # This should generate a black image.\n",
    "    for i in sorted_slopes:\n",
    "        k = np.empty_like(RGB_img)\n",
    "        y = np.empty_like(RGB_img)\n",
    "        point = i[1]\n",
    "        component = point[2]\n",
    "        Q_step = point[3]\n",
    "        Q_steps_per_component[components.index(component)] = Q_step\n",
    "        #print(i, Q_steps_per_component)\n",
    "        for c, QS in zip(components, Q_steps_per_component):\n",
    "            y[..., components.index(c)], k[..., components.index(c)] = quantizer.quan_dequan(RGB_img[..., components.index(c)], QS)\n",
    "            #print(c, QS,components.index(c))\n",
    "            #for _y in range(10):\n",
    "            #    for _x in range(10):\n",
    "            #        print(RGB_img[_y, _x, components.index(c)], y[_y,_x, components.index(c)], end=' ')\n",
    "            #    print()\n",
    "        #y, k = quantizer.quan_dequan(RGB_img, Q_step)\n",
    "        k = k.astype(np.uint8)\n",
    "        rate = common.bits_per_RGB_pixel(k, str(Q_steps_per_component) + '_')\n",
    "        _distortion = distortion.MSE(RGB_img, y)\n",
    "        points.append((rate, _distortion))\n",
    "        print(f\"Q_step={Q_steps_per_component}, rate={rate:>7} bits/pixel, distortion={_distortion:>6.1f}\")\n",
    "    return points\n",
    "\n",
    "RD_points_sorted_by_slopes = get_RD_curve_sorted_by_slopes(img, sorted_slopes, components, quantizer_2)"
   ]
  },
  {
   "cell_type": "markdown",
   "metadata": {},
   "source": [
    "## RD curve using same $\\Delta$ for each RGB channel ($\\Delta_{\\text{R}} = \\Delta_{\\text{G}} = \\Delta_{\\text{B}}$)\n",
    "To see the contribution of each channel to the RD curve."
   ]
  },
  {
   "cell_type": "code",
   "execution_count": null,
   "metadata": {},
   "outputs": [],
   "source": [
    "def constant_Q_RD_curve(RGB_img, Q_steps, quantizer):\n",
    "    points = []\n",
    "    for Q_step in Q_steps:\n",
    "        y, k = quantizer.quan_dequan(RGB_img, Q_step)\n",
    "        k = k.astype(np.uint8)\n",
    "        rate = common.bits_per_RGB_pixel(k, str(Q_step) + '_') # OJO!!!!!!!!!!!\n",
    "        _distortion = distortion.MSE(RGB_img, y)\n",
    "        points.append((rate, _distortion))\n",
    "        print(f\"q_step={Q_step:>3}, rate={rate:>7} bits/pixel, distortion={_distortion:>6.1f}\")\n",
    "    return points\n",
    "\n",
    "constant_Q_RD_points = constant_Q_RD_curve(img, Q_steps, quantizer_2)"
   ]
  },
  {
   "cell_type": "markdown",
   "metadata": {},
   "source": [
    "## Let's compare!"
   ]
  },
  {
   "cell_type": "code",
   "execution_count": null,
   "metadata": {},
   "outputs": [],
   "source": [
    "pylab.figure(dpi=150)\n",
    "pylab.plot(*zip(*RD_points_sorted_by_slopes), c='g', marker='o', label=\"Sorted by slope\", linestyle=\"dashed\")\n",
    "pylab.plot(*zip(*constant_Q_RD_points), c='m', marker='x', label=\"$\\Delta_{\\mathrm{R}}=\\Delta_{\\mathrm{G}}=\\Delta_{\\mathrm{B}}}$\", linestyle=\"dotted\")\n",
    "pylab.title(\"Rate/Distortion Performance \")\n",
    "pylab.xlabel(\"Bits/Pixel\")\n",
    "pylab.ylabel(\"MSE\")\n",
    "pylab.legend(loc='upper right')\n",
    "pylab.show()"
   ]
  },
  {
   "cell_type": "markdown",
   "metadata": {},
   "source": [
    "## Conclusion\n",
    "\n",
    "In the RGB domain, the optimal RD curve matches the constant quantization RD curve because the 3 components have the same weight in the contribution to the quality the reconstruction. However, we have more OTPs (Optimal Truncation Points) in the optimal one."
   ]
  },
  {
   "cell_type": "markdown",
   "metadata": {},
   "source": [
    "## For further comparations"
   ]
  },
  {
   "cell_type": "code",
   "execution_count": null,
   "metadata": {},
   "outputs": [],
   "source": [
    "with open('RGB.txt', 'w') as f:\n",
    "    for item in RD_points_sorted_by_slopes:\n",
    "        f.write(f\"{item[0]}\\t{item[1]}\\n\")"
   ]
  },
  {
   "cell_type": "code",
   "execution_count": null,
   "metadata": {},
   "outputs": [],
   "source": []
  },
  {
   "cell_type": "markdown",
   "metadata": {},
   "source": [
    "## Ignore the rest ..."
   ]
  },
  {
   "cell_type": "markdown",
   "metadata": {},
   "source": [
    "## Some helper functions (borrame)"
   ]
  },
  {
   "cell_type": "code",
   "execution_count": null,
   "metadata": {},
   "outputs": [],
   "source": [
    "# Number of bytes that a img \"img\" requires in disk.\n",
    "def bytes_per_RGB_img(img, fn=\"img\"):\n",
    "    RGB_img.write(img, \"/tmp/\" + fn)\n",
    "    length_in_bytes = os.path.getsize(\"/tmp/\" + fn + \"000.png\")\n",
    "    return length_in_bytes\n",
    "\n",
    "# The same value, but in bits/pixel.\n",
    "def bits_per_RGB_pixel(img, fn=\"img\"):\n",
    "    return 8*bytes_per_RGB_img(img, fn)/(img.shape[0]*img.shape[1])\n",
    "\n",
    "# Specific version for grayscale images.\n",
    "def bytes_per_gray_img(img, fn=\"img\"):\n",
    "    cv2.imwrite(\"/tmp/\" + fn + \"000.png\", img)\n",
    "    length_in_bytes = os.path.getsize(\"/tmp/\" + fn + \"000.png\")\n",
    "    print(colored.fore.GREEN + f\"bytes_per_gray_img: /tmp/{fn}000.png\", img.shape, img.dtype, length_in_bytes, colored.style.RESET)\n",
    "    return length_in_bytes\n",
    "\n",
    "# The same value, but in bits/pixel.\n",
    "def bits_per_gray_pixel(img, fn=\"img\"):\n",
    "    return 8*bytes_per_gray_img(img, fn)/(img.shape[0]*img.shape[1])\n",
    "\n",
    "# Entropy of a sequence of symbols (pixels). This is a theoretical measure\n",
    "# of the compression ratio of the sequence.\n",
    "def entropy_in_bits_per_symbol(sequence_of_symbols):\n",
    "    value, counts = np.unique(sequence_of_symbols, return_counts = True)\n",
    "    probs = counts / len(sequence_of_symbols)\n",
    "    n_classes = np.count_nonzero(probs)\n",
    "\n",
    "    if n_classes <= 1:\n",
    "        return 0\n",
    "\n",
    "    entropy = 0.\n",
    "    for i in probs:\n",
    "        entropy -= i * math.log(i, 2)\n",
    "\n",
    "    return entropy"
   ]
  },
  {
   "cell_type": "code",
   "execution_count": null,
   "metadata": {},
   "outputs": [],
   "source": [
    "def accumulate_rate(points_sorted_by_slopes):\n",
    "    optimal_points = []\n",
    "    accumulated_BR = 0.0\n",
    "    for i in points_sorted_by_slopes:\n",
    "        BPP = i[1][0]; MSE = i[1][1]\n",
    "        accumulated_BR += BPP\n",
    "        optimal_points.append((accumulated_BR, MSE))\n",
    "    return optimal_points\n",
    "\n",
    "optimal_points = accumulate_rate(optimal_slopes)"
   ]
  },
  {
   "cell_type": "code",
   "execution_count": null,
   "metadata": {},
   "outputs": [],
   "source": [
    "optimal_points"
   ]
  },
  {
   "cell_type": "markdown",
   "metadata": {},
   "source": [
    "## Compute slopes"
   ]
  },
  {
   "cell_type": "code",
   "execution_count": null,
   "metadata": {},
   "outputs": [],
   "source": []
  },
  {
   "cell_type": "code",
   "execution_count": null,
   "metadata": {},
   "outputs": [],
   "source": [
    "def compute_slopes(RD_points):\n",
    "    extended_RD_points = [(0.0, 9.0E9, '', -1)] + RD_points\n",
    "    counter = 0\n",
    "    RD_slopes = []\n",
    "    for i in RD_points:\n",
    "        BPP = i[0] # Rate \n",
    "        print(RD_points[counter])\n",
    "        delta_BPP = BPP - extended_RD_points[counter][0]\n",
    "        MSE = i[1] # Distortion\n",
    "        delta_MSE = MSE - extended_RD_points[counter][1] \n",
    "        #print(f\"q_step={1<<q_step:>3}, rate={rate:>7} bytes, distortion={_distortion:>6.1f}\")\n",
    "        if delta_BPP > 0:\n",
    "            slope = delta_MSE/delta_BPP\n",
    "        else:\n",
    "            slope = 0\n",
    "        RD_slopes.append((slope, i[2], i[3]))\n",
    "        counter += 1\n",
    "    return RD_slopes\n",
    "\n",
    "RD_slopes = compute_slopes(sorted_RD_points)"
   ]
  },
  {
   "cell_type": "code",
   "execution_count": null,
   "metadata": {},
   "outputs": [],
   "source": [
    "RD_slopes"
   ]
  },
  {
   "cell_type": "code",
   "execution_count": null,
   "metadata": {},
   "outputs": [],
   "source": [
    "print(RD_points)"
   ]
  },
  {
   "cell_type": "code",
   "execution_count": null,
   "metadata": {},
   "outputs": [],
   "source": [
    "with open('RGB.txt', 'w') as f:\n",
    "    for item in RD_points:\n",
    "        f.write(f\"{item[0]}\\t{item[1]}\\n\")"
   ]
  },
  {
   "cell_type": "code",
   "execution_count": null,
   "metadata": {},
   "outputs": [],
   "source": [
    "k, y = q_deq(img, 64)\n",
    "show(y, \"\")"
   ]
  },
  {
   "cell_type": "markdown",
   "metadata": {},
   "source": [
    "## RD curves of each channel"
   ]
  },
  {
   "cell_type": "code",
   "execution_count": null,
   "metadata": {},
   "outputs": [],
   "source": [
    "def only_R_RD_curve(RGB_frame):\n",
    "    RD_points = []\n",
    "    for q_step in range(0, 8):\n",
    "        R_frame = RGB_frame[:,:,0]\n",
    "        k, dequantized_R_frame = q_deq(R_frame, 1<<q_step)\n",
    "        k = k.astype(np.uint8)\n",
    "        rate = bits_per_graypixel(k)\n",
    "        _distortion = distortion.MSE(R_frame, dequantized_R_frame)\n",
    "        RD_points.append((rate, _distortion))\n",
    "        print(f\"q_step={1<<q_step:>3}, rate={rate:>7} bytes, distortion={_distortion:>6.1f}\")\n",
    "    return RD_points\n",
    "\n",
    "def only_G_RD_curve(RGB_frame):\n",
    "    RD_points = []\n",
    "    for q_step in range(0, 8):\n",
    "        G_frame = RGB_frame[:,:,1]\n",
    "        k, dequantized_G_frame = q_deq(G_frame, 1<<q_step)\n",
    "        k = k.astype(np.uint8)\n",
    "        rate = bits_per_graypixel(k)\n",
    "        _distortion = distortion.MSE(G_frame, dequantized_G_frame)\n",
    "        RD_points.append((rate, _distortion))\n",
    "        print(f\"q_step={1<<q_step:>3}, rate={rate:>7} bytes, distortion={_distortion:>6.1f}\")\n",
    "    return RD_points\n",
    "\n",
    "def only_B_RD_curve(RGB_frame):\n",
    "    RD_points = []\n",
    "    for q_step in range(0, 8):\n",
    "        B_frame = RGB_frame[:,:,2]\n",
    "        k, dequantized_B_frame = q_deq(B_frame, 1<<q_step)\n",
    "        k = k.astype(np.uint8)\n",
    "        rate = bits_per_graypixel(k)\n",
    "        _distortion = distortion.MSE(B_frame, dequantized_B_frame)\n",
    "        RD_points.append((rate, _distortion))\n",
    "        print(f\"q_step={1<<q_step:>3}, rate={rate:>7} bytes, distortion={_distortion:>6.1f}\")\n",
    "    return RD_points\n",
    "\n",
    "only_R_points = only_R_RD_curve(img)\n",
    "only_G_points = only_G_RD_curve(img)\n",
    "only_B_points = only_B_RD_curve(img)"
   ]
  },
  {
   "cell_type": "code",
   "execution_count": null,
   "metadata": {},
   "outputs": [],
   "source": [
    "only_B_points"
   ]
  },
  {
   "cell_type": "code",
   "execution_count": null,
   "metadata": {},
   "outputs": [],
   "source": [
    "pylab.figure(dpi=150)\n",
    "pylab.plot(*zip(*RD_points), c='m', marker=\"x\",\n",
    "           label='$\\Delta_{\\mathrm{R}} = \\Delta_{\\mathrm{G}} = \\Delta_{\\mathrm{B}}$')\n",
    "pylab.plot(*zip(*only_R_points), c='r', marker=\"o\",\n",
    "           label='Only R')              \n",
    "pylab.plot(*zip(*only_G_points), c='g', marker=\"o\",\n",
    "           label='Only G')              \n",
    "pylab.plot(*zip(*only_B_points), c='b', marker=\"o\",\n",
    "           label='Only B')              \n",
    "pylab.title(\"RD Performance\")\n",
    "pylab.xlabel(\"Bits/Pixel\")\n",
    "pylab.ylabel(\"MSE\")\n",
    "plt.legend(loc='upper right')\n",
    "pylab.show()"
   ]
  },
  {
   "cell_type": "markdown",
   "metadata": {},
   "source": [
    "The $\\Delta_{\\mathrm{R}} = \\Delta_{\\mathrm{G}} = \\Delta_{\\mathrm{B}}$ quantization scheme is near optimal because the slope at the different quantization points is almost the same. This can be seen in the next experiment"
   ]
  },
  {
   "cell_type": "markdown",
   "metadata": {},
   "source": [
    "## Testing a different quantization configuration"
   ]
  },
  {
   "cell_type": "code",
   "execution_count": null,
   "metadata": {},
   "outputs": [],
   "source": [
    "N = 6\n",
    "def only_R_RD_curve(RGB_frame):\n",
    "    RD_points = []\n",
    "    for q_step in range(0, 8):\n",
    "        dequantized_RGB_frame = np.empty_like(RGB_frame)\n",
    "        k = np.empty_like(RGB_frame)\n",
    "        k[:,:,0], dequantized_RGB_frame[:,:,0] = q_deq(RGB_frame[:,:,0], 1<<q_step)\n",
    "        k[:,:,1], dequantized_RGB_frame[:,:,1] = q_deq(RGB_frame[:,:,1], 1<<N)\n",
    "        k[:,:,2], dequantized_RGB_frame[:,:,2] = q_deq(RGB_frame[:,:,2], 1<<N)\n",
    "        k = k.astype(np.uint8)\n",
    "        rate = bits_per_pixel(k)\n",
    "        _distortion = distortion.MSE(RGB_frame, dequantized_RGB_frame)\n",
    "        RD_points.append((rate, _distortion))\n",
    "        print(f\"q_step={1<<q_step:>3}, rate={rate:>7} bytes, distortion={_distortion:>6.1f}\")\n",
    "    return RD_points\n",
    "\n",
    "def only_G_RD_curve(RGB_frame):\n",
    "    RD_points = []\n",
    "    for q_step in range(0, 8):\n",
    "        dequantized_RGB_frame = np.empty_like(RGB_frame)\n",
    "        k = np.empty_like(RGB_frame)\n",
    "        k[:,:,0], dequantized_RGB_frame[:,:,0] = q_deq(RGB_frame[:,:,0], 1<<N)\n",
    "        k[:,:,1], dequantized_RGB_frame[:,:,1] = q_deq(RGB_frame[:,:,1], 1<<q_step)\n",
    "        k[:,:,2], dequantized_RGB_frame[:,:,2] = q_deq(RGB_frame[:,:,2], 1<<N)\n",
    "        k = k.astype(np.uint8)\n",
    "        rate = bits_per_pixel(k)\n",
    "        _distortion = distortion.MSE(RGB_frame, dequantized_RGB_frame)\n",
    "        RD_points.append((rate, _distortion))\n",
    "        print(f\"q_step={1<<q_step:>3}, rate={rate:>7} bytes, distortion={_distortion:>6.1f}\")\n",
    "    return RD_points\n",
    "\n",
    "def only_B_RD_curve(RGB_frame):\n",
    "    RD_points = []\n",
    "    for q_step in range(0, 8):\n",
    "        dequantized_RGB_frame = np.empty_like(RGB_frame)\n",
    "        k = np.empty_like(RGB_frame)\n",
    "        k[:,:,0], dequantized_RGB_frame[:,:,0] = q_deq(RGB_frame[:,:,0], 1<<N)\n",
    "        k[:,:,1], dequantized_RGB_frame[:,:,1] = q_deq(RGB_frame[:,:,1], 1<<N)\n",
    "        k[:,:,2], dequantized_RGB_frame[:,:,2] = q_deq(RGB_frame[:,:,2], 1<<q_step)\n",
    "        k = k.astype(np.uint8)\n",
    "        rate = bits_per_pixel(k)\n",
    "        _distortion = distortion.MSE(RGB_frame, dequantized_RGB_frame)\n",
    "        RD_points.append((rate, _distortion))\n",
    "        print(f\"q_step={1<<q_step:>3}, rate={rate:>7} bytes, distortion={_distortion:>6.1f}\")\n",
    "    return RD_points\n",
    "\n",
    "only_R_points = only_R_RD_curve(img)\n",
    "only_G_points = only_G_RD_curve(img)\n",
    "only_B_points = only_B_RD_curve(img)"
   ]
  },
  {
   "cell_type": "code",
   "execution_count": null,
   "metadata": {},
   "outputs": [],
   "source": [
    "pylab.figure(dpi=150)\n",
    "pylab.plot(*zip(*RD_points), c='m', marker=\"x\",\n",
    "           label='$\\Delta_{\\mathrm{R}} = \\Delta_{\\mathrm{G}} = \\Delta_{\\mathrm{B}}$')\n",
    "pylab.plot(*zip(*only_R_points), c='r', marker=\"o\",\n",
    "           label='$\\Delta_{\\mathrm{R}}~\\mathrm{varies},~\\Delta_{\\mathrm{G}}=\\Delta_{\\mathrm{B}}=$' + '{}'.format(1<<N))              \n",
    "pylab.plot(*zip(*only_G_points), c='g', marker=\"o\",\n",
    "           label='$\\Delta_{\\mathrm{G}}~\\mathrm{varies},~\\Delta_{\\mathrm{R}}=\\Delta_{\\mathrm{B}}=$' + '{}'.format(1<<N))              \n",
    "pylab.plot(*zip(*only_B_points), c='b', marker=\"o\",\n",
    "           label='$\\Delta_{\\mathrm{B}}~\\mathrm{varies},~\\Delta_{\\mathrm{R}}=\\Delta_{\\mathrm{G}}=$' + '{}'.format(1<<N))              \n",
    "pylab.title(\"RD Performance\")\n",
    "pylab.xlabel(\"Bits/Pixel\")\n",
    "pylab.ylabel(\"MSE\")\n",
    "plt.legend(loc='upper right')\n",
    "pylab.show()"
   ]
  },
  {
   "cell_type": "markdown",
   "metadata": {},
   "source": [
    "As it can be seen, the best configuration matches $\\Delta_{\\mathrm{R}} = \\Delta_{\\mathrm{G}} = \\Delta_{\\mathrm{B}}$."
   ]
  },
  {
   "cell_type": "markdown",
   "metadata": {},
   "source": [
    "Lo que hay que hacer es calcular el slope para cada OTP (Optimal Truncated Point) de cada canal, ordenarlos y trazar la curva RD. Esto nos daría la curva RD óptima."
   ]
  },
  {
   "cell_type": "code",
   "execution_count": null,
   "metadata": {},
   "outputs": [],
   "source": []
  }
 ],
 "metadata": {
  "kernelspec": {
   "display_name": "Python 3",
   "language": "python",
   "name": "python3"
  },
  "language_info": {
   "codemirror_mode": {
    "name": "ipython",
    "version": 3
   },
   "file_extension": ".py",
   "mimetype": "text/x-python",
   "name": "python",
   "nbconvert_exporter": "python",
   "pygments_lexer": "ipython3",
   "version": "3.9.6"
  }
 },
 "nbformat": 4,
 "nbformat_minor": 4
}

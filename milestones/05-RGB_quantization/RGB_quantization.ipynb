{
 "cells": [
  {
   "cell_type": "markdown",
   "metadata": {},
   "source": [
    "# RGB image compression\n",
    "\n",
    "Compressing color images with PNG in the RGB domain."
   ]
  },
  {
   "cell_type": "code",
   "execution_count": null,
   "metadata": {},
   "outputs": [],
   "source": [
    "%matplotlib inline\n",
    "\n",
    "import matplotlib\n",
    "import matplotlib.pyplot as plt\n",
    "import matplotlib.axes as ax\n",
    "import pylab\n",
    "import math\n",
    "import numpy as np\n",
    "from scipy import signal\n",
    "import cv2\n",
    "import os\n",
    "#!pwd\n",
    "!ln -sf ~/MRVC/src/deadzone.py .\n",
    "!ln -sf ~/MRVC/src/frame.py .\n",
    "!ln -sf ~/MRVC/src/distortion.py .\n",
    "!ln -sf ~/MRVC/src/information.py\n",
    "!ln -sf ~/MRVC/src/debug.py\n",
    "!ln -sf ~/MRVC/src/image_3.py\n",
    "!ln -sf ~/MRVC/src/image_1.py\n",
    "import deadzone as Q\n",
    "import distortion\n",
    "import image_3 as color_frame\n",
    "import image_1 as gray_frame\n",
    "#import rate"
   ]
  },
  {
   "cell_type": "markdown",
   "metadata": {},
   "source": [
    "## Configuration area"
   ]
  },
  {
   "cell_type": "code",
   "execution_count": null,
   "metadata": {},
   "outputs": [],
   "source": [
    "# Prefix of the RGB image to be quantized.\n",
    "\n",
    "home = os.environ[\"HOME\"]\n",
    "#fn = home + \"/MRVC/sequences/stockholm/\"\n",
    "fn = home + \"/MRVC/sequences/lena_color/\"\n",
    "\n",
    "# Number of quantization steps.\n",
    "Q_steps = 8\n",
    "\n",
    "components = ['R', 'G', 'B']"
   ]
  },
  {
   "cell_type": "markdown",
   "metadata": {},
   "source": [
    "## Generation of the optimal RD curve\n",
    "\n",
    "The optimal RD curve can be generated with:\n",
    "\n",
    "1. The RD curve of each RGB channel is computed, for a number of quantization steps.\n",
    "2. The OTP (Optimal Truncation Points) are sorted by slopes."
   ]
  },
  {
   "cell_type": "code",
   "execution_count": null,
   "metadata": {},
   "outputs": [],
   "source": [
    "# Dead-zone quantizer & dequantizer.\n",
    "# \n",
    "# Notice that, although this is a dead-zone quantizer, we are not going\n",
    "# to work with negative samples, and therefore, the dead-zone\n",
    "# does not have any effect.\n",
    "\n",
    "def q_deq(x, quantization_step):\n",
    "    k = Q.quantize(x, quantization_step)\n",
    "    y = Q.dequantize(k, quantization_step)\n",
    "    return k, y"
   ]
  },
  {
   "cell_type": "code",
   "execution_count": null,
   "metadata": {},
   "outputs": [],
   "source": [
    "# Quantization indexes are stored in disk an normal pixels.\n",
    "\n",
    "def _load_indexes(prefix):\n",
    "    gray_frame.read(prefix)\n",
    "    \n",
    "def _write_indexes(prefix):\n",
    "    gray_frame.write(prefix)"
   ]
  },
  {
   "cell_type": "code",
   "execution_count": null,
   "metadata": {},
   "outputs": [],
   "source": [
    "# Read the image and show it.\n",
    "\n",
    "img = color_frame.read(fn)\n",
    "print(img.max(), img.min())\n",
    "\n",
    "def show(img, title):\n",
    "    img = color_frame.normalize(img)\n",
    "    plt.figure(figsize=(10,10))\n",
    "    plt.title(title, fontsize=20)\n",
    "    plt.imshow(img)\n",
    "\n",
    "show(img, fn + \"000.png\")"
   ]
  },
  {
   "cell_type": "code",
   "execution_count": null,
   "metadata": {},
   "outputs": [],
   "source": [
    "# Some helper functions.\n",
    "\n",
    "# Number of bytes that a frame \"img\" requires in disk.\n",
    "def bytes_per_color_frame(img):\n",
    "    color_frame.write(img, \"/tmp/frame\")\n",
    "    length_in_bytes = os.path.getsize(\"/tmp/frame000.png\")\n",
    "    return length_in_bytes\n",
    "\n",
    "# The same value, but in bits/pixel.\n",
    "def bits_per_color_pixel(img):\n",
    "    return 8*bytes_per_color_frame(img)/(img.shape[0]*img.shape[1])\n",
    "\n",
    "# Specific version for grayscale images.\n",
    "def bytes_per_gray_frame(img):\n",
    "    cv2.imwrite(\"/tmp/frame000.png\", img)\n",
    "    length_in_bytes = os.path.getsize(\"/tmp/frame000.png\")\n",
    "    return length_in_bytes\n",
    "\n",
    "# The same value, but in bits/pixel.\n",
    "def bits_per_gray_pixel(img):\n",
    "    return 8*bytes_per_gray_frame(img)/(img.shape[0]*img.shape[1])\n",
    "\n",
    "# Entropy of a sequence of symbols (pixels). This is a theoretical measure\n",
    "# of the compression ratio of the sequence.\n",
    "def entropy_in_bits_per_symbol(sequence_of_symbols):\n",
    "    value, counts = np.unique(sequence_of_symbols, return_counts = True)\n",
    "    probs = counts / len(sequence_of_symbols)\n",
    "    n_classes = np.count_nonzero(probs)\n",
    "\n",
    "    if n_classes <= 1:\n",
    "        return 0\n",
    "\n",
    "    entropy = 0.\n",
    "    for i in probs:\n",
    "        entropy -= i * math.log(i, 2)\n",
    "\n",
    "    return entropy"
   ]
  },
  {
   "cell_type": "code",
   "execution_count": null,
   "metadata": {},
   "outputs": [],
   "source": [
    "def R_RD_curve(RGB_frame, Q_steps):\n",
    "    RD_points = []\n",
    "    for q in range(Q_steps-1, -1, -1):\n",
    "        R_frame = RGB_frame[:,:,0]\n",
    "        q_step = 1 << q\n",
    "        k, dequantized_R_frame = q_deq(R_frame, q_step)\n",
    "        k = k.astype(np.uint8)\n",
    "        rate = bits_per_gray_pixel(k)\n",
    "        _distortion = distortion.MSE(R_frame, dequantized_R_frame)\n",
    "        RD_points.append((rate, _distortion, 'R', q_step))\n",
    "        print(f\"q_step={q_step:>3}, rate={rate:>7} bytes, distortion={_distortion:>6.1f}\")\n",
    "    return RD_points\n",
    "\n",
    "def G_RD_curve(RGB_frame, Q_steps):\n",
    "    RD_points = []\n",
    "    for q in range(Q_steps-1, -1, -1):\n",
    "        G_frame = RGB_frame[:,:,1]\n",
    "        q_step = 1 << q\n",
    "        k, dequantized_G_frame = q_deq(G_frame, q_step)\n",
    "        k = k.astype(np.uint8)\n",
    "        rate = bits_per_gray_pixel(k)\n",
    "        _distortion = distortion.MSE(G_frame, dequantized_G_frame)\n",
    "        RD_points.append((rate, _distortion, 'G', q_step))\n",
    "        print(f\"q_step={q_step:>3}, rate={rate:>7} bytes, distortion={_distortion:>6.1f}\")\n",
    "    return RD_points\n",
    "\n",
    "def B_RD_curve(RGB_frame, Q_steps):\n",
    "    RD_points = []\n",
    "    for q in range(Q_steps-1, -1, -1):\n",
    "        B_frame = RGB_frame[:,:,2]\n",
    "        q_step = 1 << q\n",
    "        k, dequantized_B_frame = q_deq(B_frame, q_step)\n",
    "        k = k.astype(np.uint8)\n",
    "        rate = bits_per_gray_pixel(k)\n",
    "        _distortion = distortion.MSE(B_frame, dequantized_B_frame)\n",
    "        RD_points.append((rate, _distortion, 'B', q_step))\n",
    "        print(f\"q_step={q_step:>3}, rate={rate:>7} bytes, distortion={_distortion:>6.1f}\")\n",
    "    return RD_points\n",
    "\n",
    "R_points = R_RD_curve(img, Q_steps)\n",
    "G_points = G_RD_curve(img, Q_steps)\n",
    "B_points = B_RD_curve(img, Q_steps)"
   ]
  },
  {
   "cell_type": "code",
   "execution_count": null,
   "metadata": {},
   "outputs": [],
   "source": [
    "R_points"
   ]
  },
  {
   "cell_type": "code",
   "execution_count": null,
   "metadata": {},
   "outputs": [],
   "source": [
    "G_points"
   ]
  },
  {
   "cell_type": "code",
   "execution_count": null,
   "metadata": {},
   "outputs": [],
   "source": [
    "B_points"
   ]
  },
  {
   "cell_type": "code",
   "execution_count": null,
   "metadata": {},
   "outputs": [],
   "source": [
    "pylab.figure(dpi=150)\n",
    "pylab.plot(*zip(*[(i[0], i[1]) for i in R_points]), c='r', marker=\"o\",\n",
    "           label='R')              \n",
    "pylab.plot(*zip(*[(i[0], i[1]) for i in G_points]), c='g', marker=\"o\",\n",
    "           label='G')              \n",
    "pylab.plot(*zip(*[(i[0], i[1]) for i in B_points]), c='b', marker=\"o\",\n",
    "           label='B')              \n",
    "pylab.title(\"RD Performance\")\n",
    "pylab.xlabel(\"Bits/Pixel\")\n",
    "pylab.ylabel(\"MSE\")\n",
    "plt.legend(loc='upper right')\n",
    "pylab.show()"
   ]
  },
  {
   "cell_type": "markdown",
   "metadata": {},
   "source": [
    "## Compute the slopes\n",
    "In a different list for each component."
   ]
  },
  {
   "cell_type": "code",
   "execution_count": null,
   "metadata": {},
   "outputs": [],
   "source": [
    "def compute_slopes(RD_points):\n",
    "    extended_RD_points = [(0.0, 0.0, '', -1)] + RD_points\n",
    "    counter = 0\n",
    "    RD_slopes = [(9.0E9, RD_points[0])]\n",
    "    points_iterator = iter(RD_points)\n",
    "    next(points_iterator)\n",
    "    for i in points_iterator:\n",
    "        BPP = i[0] # Rate \n",
    "        #print(RD_points[counter])\n",
    "        #delta_BPP = BPP - extended_RD_points[counter][0]\n",
    "        delta_BPP = BPP - RD_points[counter][0]\n",
    "        MSE = i[1] # Distortion\n",
    "        #delta_MSE = MSE - extended_RD_points[counter][1] \n",
    "        delta_MSE = MSE - RD_points[counter][1] \n",
    "        #print(f\"q_step={1<<q_step:>3}, rate={rate:>7} bytes, distortion={_distortion:>6.1f}\")\n",
    "        if delta_BPP > 0:\n",
    "            slope = abs(delta_MSE/delta_BPP)\n",
    "        else:\n",
    "            slope = 0\n",
    "        component = i[2]\n",
    "        q_step = i[3]\n",
    "        print((slope, i), delta_MSE, delta_BPP)\n",
    "        RD_slopes.append((slope, i))\n",
    "        counter += 1\n",
    "    #RD_slopes.append((0.0, (0.0, RD_points[-1][2], 1)))\n",
    "    return RD_slopes\n",
    "\n",
    "R_slopes = compute_slopes(R_points)\n",
    "G_slopes = compute_slopes(G_points)\n",
    "B_slopes = compute_slopes(B_points)"
   ]
  },
  {
   "cell_type": "code",
   "execution_count": null,
   "metadata": {},
   "outputs": [],
   "source": [
    "R_slopes"
   ]
  },
  {
   "cell_type": "code",
   "execution_count": null,
   "metadata": {},
   "outputs": [],
   "source": [
    "G_slopes"
   ]
  },
  {
   "cell_type": "code",
   "execution_count": null,
   "metadata": {},
   "outputs": [],
   "source": [
    "B_slopes"
   ]
  },
  {
   "cell_type": "markdown",
   "metadata": {},
   "source": [
    "## Merge the RD slopes and sort them\n",
    "By slope."
   ]
  },
  {
   "cell_type": "code",
   "execution_count": null,
   "metadata": {},
   "outputs": [],
   "source": [
    "all_slopes = R_slopes + G_slopes + B_slopes\n",
    "sorted_slopes = sorted(all_slopes, key=lambda x: x[0])[::-1]"
   ]
  },
  {
   "cell_type": "code",
   "execution_count": null,
   "metadata": {},
   "outputs": [],
   "source": [
    "sorted_slopes"
   ]
  },
  {
   "cell_type": "markdown",
   "metadata": {},
   "source": [
    "## Build the optimal RD curve\n",
    "\n",
    "Progressively quantize the image using the Q_steps described in the sorted list of monotonously decreasing slopes, and then, compute the distortion and the bit-rate. Notice that the distortion could have been deduced from the distortion in each component because the RGB domain is additive. However, the bit-rate is more difficult to be deduced from the bit-rate generated by each component, because the sum of the bit-rates of the components in general is slighly higher than considering the color image as a whole."
   ]
  },
  {
   "cell_type": "code",
   "execution_count": null,
   "metadata": {},
   "outputs": [],
   "source": [
    "def get_optimal_RD_curve(color_img, sorted_slopes, components):\n",
    "    points = []\n",
    "    Q_steps_per_component = [256, 256, 256] # This should generate a black image.\n",
    "    k = np.empty_like(color_img)\n",
    "    y = np.empty_like(color_img)\n",
    "    for i in sorted_slopes:\n",
    "        point = i[1]\n",
    "        component = point[2]\n",
    "        Q_step = point[3]\n",
    "        Q_steps_per_component[components.index(component)] = Q_step\n",
    "        #print(i, Q_steps_per_component)\n",
    "        for c,Q_step in zip(components, Q_steps_per_component):\n",
    "            k[..., components.index(c)], y[..., components.index(c)] = q_deq(color_img[..., components.index(c)], Q_step)\n",
    "        k = k.astype(np.uint8)\n",
    "        rate = bits_per_color_pixel(k)\n",
    "        _distortion = distortion.MSE(color_img, y)\n",
    "        points.append((rate, _distortion))\n",
    "        print(f\"q_step={Q_step:>3}, rate={rate:>7} bytes, distortion={_distortion:>6.1f}\")\n",
    "    return points\n",
    "\n",
    "optimal_points = get_optimal_RD_curve(img, sorted_slopes, components)"
   ]
  },
  {
   "cell_type": "markdown",
   "metadata": {},
   "source": [
    "## RD curve using same $\\Delta$ for each RGB channel ($\\Delta_{\\text{R}} = \\Delta_{\\text{G}} = \\Delta_{\\text{B}}$)\n",
    "To see the contribution of each channel to the RD curve."
   ]
  },
  {
   "cell_type": "code",
   "execution_count": null,
   "metadata": {},
   "outputs": [],
   "source": [
    "def constant_Q_RD_curve(color_img, Q_steps):\n",
    "    points = []\n",
    "    for q in range(Q_steps-1, -1, -1):\n",
    "        Q_step = 1 << q\n",
    "        k, y = q_deq(color_img, Q_step)\n",
    "        k = k.astype(np.uint8)\n",
    "        rate = bits_per_color_pixel(k)\n",
    "        _distortion = distortion.MSE(color_img, y)\n",
    "        points.append((rate, _distortion))\n",
    "        print(f\"q_step={Q_step:>3}, rate={rate:>7} bytes, distortion={_distortion:>6.1f}\")\n",
    "    return points\n",
    "\n",
    "constant_Q_RD_points = constant_Q_RD_curve(img, Q_steps)"
   ]
  },
  {
   "cell_type": "markdown",
   "metadata": {},
   "source": [
    "## Let's compare!"
   ]
  },
  {
   "cell_type": "code",
   "execution_count": null,
   "metadata": {},
   "outputs": [],
   "source": [
    "pylab.figure(dpi=150)\n",
    "pylab.plot(*zip(*optimal_points), c='g', marker=\"o\", label=\"Optimal\")\n",
    "pylab.plot(*zip(*constant_Q_RD_points), c='m', marker=\"x\", label=\"$\\Delta_{\\mathrm{R}}=\\Delta_{\\mathrm{G}}=\\Delta_{\\mathrm{B}}}$\")\n",
    "pylab.title(\"Rate/Distortion Performance \")\n",
    "pylab.xlabel(\"Bits/Pixel\")\n",
    "pylab.ylabel(\"MSE\")\n",
    "pylab.legend(loc='upper right')\n",
    "pylab.show()"
   ]
  },
  {
   "cell_type": "markdown",
   "metadata": {},
   "source": [
    "## Conclusion\n",
    "\n",
    "In the RGB domain, the optimal RD curve matches the constant quantization RD curve because the 3 components have the same weight in the contribution to the quality the reconstruction. However, we have more OTPs (Optimal Truncation Points) in the optimal one."
   ]
  },
  {
   "cell_type": "code",
   "execution_count": null,
   "metadata": {},
   "outputs": [],
   "source": []
  },
  {
   "cell_type": "markdown",
   "metadata": {},
   "source": [
    "## Ignore the rest ..."
   ]
  },
  {
   "cell_type": "code",
   "execution_count": null,
   "metadata": {},
   "outputs": [],
   "source": [
    "def accumulate_rate(points_sorted_by_slopes):\n",
    "    optimal_points = []\n",
    "    accumulated_BR = 0.0\n",
    "    for i in points_sorted_by_slopes:\n",
    "        BPP = i[1][0]; MSE = i[1][1]\n",
    "        accumulated_BR += BPP\n",
    "        optimal_points.append((accumulated_BR, MSE))\n",
    "    return optimal_points\n",
    "\n",
    "optimal_points = accumulate_rate(optimal_slopes)"
   ]
  },
  {
   "cell_type": "code",
   "execution_count": null,
   "metadata": {},
   "outputs": [],
   "source": [
    "optimal_points"
   ]
  },
  {
   "cell_type": "markdown",
   "metadata": {},
   "source": [
    "## Compute slopes"
   ]
  },
  {
   "cell_type": "code",
   "execution_count": null,
   "metadata": {},
   "outputs": [],
   "source": []
  },
  {
   "cell_type": "code",
   "execution_count": null,
   "metadata": {},
   "outputs": [],
   "source": [
    "def compute_slopes(RD_points):\n",
    "    extended_RD_points = [(0.0, 9.0E9, '', -1)] + RD_points\n",
    "    counter = 0\n",
    "    RD_slopes = []\n",
    "    for i in RD_points:\n",
    "        BPP = i[0] # Rate \n",
    "        print(RD_points[counter])\n",
    "        delta_BPP = BPP - extended_RD_points[counter][0]\n",
    "        MSE = i[1] # Distortion\n",
    "        delta_MSE = MSE - extended_RD_points[counter][1] \n",
    "        #print(f\"q_step={1<<q_step:>3}, rate={rate:>7} bytes, distortion={_distortion:>6.1f}\")\n",
    "        if delta_BPP > 0:\n",
    "            slope = delta_MSE/delta_BPP\n",
    "        else:\n",
    "            slope = 0\n",
    "        RD_slopes.append((slope, i[2], i[3]))\n",
    "        counter += 1\n",
    "    return RD_slopes\n",
    "\n",
    "RD_slopes = compute_slopes(sorted_RD_points)"
   ]
  },
  {
   "cell_type": "code",
   "execution_count": null,
   "metadata": {},
   "outputs": [],
   "source": [
    "RD_slopes"
   ]
  },
  {
   "cell_type": "code",
   "execution_count": null,
   "metadata": {},
   "outputs": [],
   "source": [
    "print(RD_points)"
   ]
  },
  {
   "cell_type": "code",
   "execution_count": null,
   "metadata": {},
   "outputs": [],
   "source": [
    "with open('RGB.txt', 'w') as f:\n",
    "    for item in RD_points:\n",
    "        f.write(f\"{item[0]}\\t{item[1]}\\n\")"
   ]
  },
  {
   "cell_type": "code",
   "execution_count": null,
   "metadata": {},
   "outputs": [],
   "source": [
    "k, y = q_deq(img, 64)\n",
    "show(y, \"\")"
   ]
  },
  {
   "cell_type": "markdown",
   "metadata": {},
   "source": [
    "## RD curves of each channel"
   ]
  },
  {
   "cell_type": "code",
   "execution_count": null,
   "metadata": {},
   "outputs": [],
   "source": [
    "def only_R_RD_curve(RGB_frame):\n",
    "    RD_points = []\n",
    "    for q_step in range(0, 8):\n",
    "        R_frame = RGB_frame[:,:,0]\n",
    "        k, dequantized_R_frame = q_deq(R_frame, 1<<q_step)\n",
    "        k = k.astype(np.uint8)\n",
    "        rate = bits_per_graypixel(k)\n",
    "        _distortion = distortion.MSE(R_frame, dequantized_R_frame)\n",
    "        RD_points.append((rate, _distortion))\n",
    "        print(f\"q_step={1<<q_step:>3}, rate={rate:>7} bytes, distortion={_distortion:>6.1f}\")\n",
    "    return RD_points\n",
    "\n",
    "def only_G_RD_curve(RGB_frame):\n",
    "    RD_points = []\n",
    "    for q_step in range(0, 8):\n",
    "        G_frame = RGB_frame[:,:,1]\n",
    "        k, dequantized_G_frame = q_deq(G_frame, 1<<q_step)\n",
    "        k = k.astype(np.uint8)\n",
    "        rate = bits_per_graypixel(k)\n",
    "        _distortion = distortion.MSE(G_frame, dequantized_G_frame)\n",
    "        RD_points.append((rate, _distortion))\n",
    "        print(f\"q_step={1<<q_step:>3}, rate={rate:>7} bytes, distortion={_distortion:>6.1f}\")\n",
    "    return RD_points\n",
    "\n",
    "def only_B_RD_curve(RGB_frame):\n",
    "    RD_points = []\n",
    "    for q_step in range(0, 8):\n",
    "        B_frame = RGB_frame[:,:,2]\n",
    "        k, dequantized_B_frame = q_deq(B_frame, 1<<q_step)\n",
    "        k = k.astype(np.uint8)\n",
    "        rate = bits_per_graypixel(k)\n",
    "        _distortion = distortion.MSE(B_frame, dequantized_B_frame)\n",
    "        RD_points.append((rate, _distortion))\n",
    "        print(f\"q_step={1<<q_step:>3}, rate={rate:>7} bytes, distortion={_distortion:>6.1f}\")\n",
    "    return RD_points\n",
    "\n",
    "only_R_points = only_R_RD_curve(img)\n",
    "only_G_points = only_G_RD_curve(img)\n",
    "only_B_points = only_B_RD_curve(img)"
   ]
  },
  {
   "cell_type": "code",
   "execution_count": null,
   "metadata": {},
   "outputs": [],
   "source": [
    "only_B_points"
   ]
  },
  {
   "cell_type": "code",
   "execution_count": null,
   "metadata": {},
   "outputs": [],
   "source": [
    "pylab.figure(dpi=150)\n",
    "pylab.plot(*zip(*RD_points), c='m', marker=\"x\",\n",
    "           label='$\\Delta_{\\mathrm{R}} = \\Delta_{\\mathrm{G}} = \\Delta_{\\mathrm{B}}$')\n",
    "pylab.plot(*zip(*only_R_points), c='r', marker=\"o\",\n",
    "           label='Only R')              \n",
    "pylab.plot(*zip(*only_G_points), c='g', marker=\"o\",\n",
    "           label='Only G')              \n",
    "pylab.plot(*zip(*only_B_points), c='b', marker=\"o\",\n",
    "           label='Only B')              \n",
    "pylab.title(\"RD Performance\")\n",
    "pylab.xlabel(\"Bits/Pixel\")\n",
    "pylab.ylabel(\"MSE\")\n",
    "plt.legend(loc='upper right')\n",
    "pylab.show()"
   ]
  },
  {
   "cell_type": "markdown",
   "metadata": {},
   "source": [
    "The $\\Delta_{\\mathrm{R}} = \\Delta_{\\mathrm{G}} = \\Delta_{\\mathrm{B}}$ quantization scheme is near optimal because the slope at the different quantization points is almost the same. This can be seen in the next experiment"
   ]
  },
  {
   "cell_type": "markdown",
   "metadata": {},
   "source": [
    "## Testing a different quantization configuration"
   ]
  },
  {
   "cell_type": "code",
   "execution_count": null,
   "metadata": {},
   "outputs": [],
   "source": [
    "N = 6\n",
    "def only_R_RD_curve(RGB_frame):\n",
    "    RD_points = []\n",
    "    for q_step in range(0, 8):\n",
    "        dequantized_RGB_frame = np.empty_like(RGB_frame)\n",
    "        k = np.empty_like(RGB_frame)\n",
    "        k[:,:,0], dequantized_RGB_frame[:,:,0] = q_deq(RGB_frame[:,:,0], 1<<q_step)\n",
    "        k[:,:,1], dequantized_RGB_frame[:,:,1] = q_deq(RGB_frame[:,:,1], 1<<N)\n",
    "        k[:,:,2], dequantized_RGB_frame[:,:,2] = q_deq(RGB_frame[:,:,2], 1<<N)\n",
    "        k = k.astype(np.uint8)\n",
    "        rate = bits_per_pixel(k)\n",
    "        _distortion = distortion.MSE(RGB_frame, dequantized_RGB_frame)\n",
    "        RD_points.append((rate, _distortion))\n",
    "        print(f\"q_step={1<<q_step:>3}, rate={rate:>7} bytes, distortion={_distortion:>6.1f}\")\n",
    "    return RD_points\n",
    "\n",
    "def only_G_RD_curve(RGB_frame):\n",
    "    RD_points = []\n",
    "    for q_step in range(0, 8):\n",
    "        dequantized_RGB_frame = np.empty_like(RGB_frame)\n",
    "        k = np.empty_like(RGB_frame)\n",
    "        k[:,:,0], dequantized_RGB_frame[:,:,0] = q_deq(RGB_frame[:,:,0], 1<<N)\n",
    "        k[:,:,1], dequantized_RGB_frame[:,:,1] = q_deq(RGB_frame[:,:,1], 1<<q_step)\n",
    "        k[:,:,2], dequantized_RGB_frame[:,:,2] = q_deq(RGB_frame[:,:,2], 1<<N)\n",
    "        k = k.astype(np.uint8)\n",
    "        rate = bits_per_pixel(k)\n",
    "        _distortion = distortion.MSE(RGB_frame, dequantized_RGB_frame)\n",
    "        RD_points.append((rate, _distortion))\n",
    "        print(f\"q_step={1<<q_step:>3}, rate={rate:>7} bytes, distortion={_distortion:>6.1f}\")\n",
    "    return RD_points\n",
    "\n",
    "def only_B_RD_curve(RGB_frame):\n",
    "    RD_points = []\n",
    "    for q_step in range(0, 8):\n",
    "        dequantized_RGB_frame = np.empty_like(RGB_frame)\n",
    "        k = np.empty_like(RGB_frame)\n",
    "        k[:,:,0], dequantized_RGB_frame[:,:,0] = q_deq(RGB_frame[:,:,0], 1<<N)\n",
    "        k[:,:,1], dequantized_RGB_frame[:,:,1] = q_deq(RGB_frame[:,:,1], 1<<N)\n",
    "        k[:,:,2], dequantized_RGB_frame[:,:,2] = q_deq(RGB_frame[:,:,2], 1<<q_step)\n",
    "        k = k.astype(np.uint8)\n",
    "        rate = bits_per_pixel(k)\n",
    "        _distortion = distortion.MSE(RGB_frame, dequantized_RGB_frame)\n",
    "        RD_points.append((rate, _distortion))\n",
    "        print(f\"q_step={1<<q_step:>3}, rate={rate:>7} bytes, distortion={_distortion:>6.1f}\")\n",
    "    return RD_points\n",
    "\n",
    "only_R_points = only_R_RD_curve(img)\n",
    "only_G_points = only_G_RD_curve(img)\n",
    "only_B_points = only_B_RD_curve(img)"
   ]
  },
  {
   "cell_type": "code",
   "execution_count": null,
   "metadata": {},
   "outputs": [],
   "source": [
    "pylab.figure(dpi=150)\n",
    "pylab.plot(*zip(*RD_points), c='m', marker=\"x\",\n",
    "           label='$\\Delta_{\\mathrm{R}} = \\Delta_{\\mathrm{G}} = \\Delta_{\\mathrm{B}}$')\n",
    "pylab.plot(*zip(*only_R_points), c='r', marker=\"o\",\n",
    "           label='$\\Delta_{\\mathrm{R}}~\\mathrm{varies},~\\Delta_{\\mathrm{G}}=\\Delta_{\\mathrm{B}}=$' + '{}'.format(1<<N))              \n",
    "pylab.plot(*zip(*only_G_points), c='g', marker=\"o\",\n",
    "           label='$\\Delta_{\\mathrm{G}}~\\mathrm{varies},~\\Delta_{\\mathrm{R}}=\\Delta_{\\mathrm{B}}=$' + '{}'.format(1<<N))              \n",
    "pylab.plot(*zip(*only_B_points), c='b', marker=\"o\",\n",
    "           label='$\\Delta_{\\mathrm{B}}~\\mathrm{varies},~\\Delta_{\\mathrm{R}}=\\Delta_{\\mathrm{G}}=$' + '{}'.format(1<<N))              \n",
    "pylab.title(\"RD Performance\")\n",
    "pylab.xlabel(\"Bits/Pixel\")\n",
    "pylab.ylabel(\"MSE\")\n",
    "plt.legend(loc='upper right')\n",
    "pylab.show()"
   ]
  },
  {
   "cell_type": "markdown",
   "metadata": {},
   "source": [
    "As it can be seen, the best configuration matches $\\Delta_{\\mathrm{R}} = \\Delta_{\\mathrm{G}} = \\Delta_{\\mathrm{B}}$."
   ]
  },
  {
   "cell_type": "markdown",
   "metadata": {},
   "source": [
    "Lo que hay que hacer es calcular el slope para cada OTP (Optimal Truncated Point) de cada canal, ordenarlos y trazar la curva RD. Esto nos daría la curva RD óptima."
   ]
  },
  {
   "cell_type": "code",
   "execution_count": null,
   "metadata": {},
   "outputs": [],
   "source": []
  }
 ],
 "metadata": {
  "kernelspec": {
   "display_name": "Python 3",
   "language": "python",
   "name": "python3"
  },
  "language_info": {
   "codemirror_mode": {
    "name": "ipython",
    "version": 3
   },
   "file_extension": ".py",
   "mimetype": "text/x-python",
   "name": "python",
   "nbconvert_exporter": "python",
   "pygments_lexer": "ipython3",
   "version": "3.9.6"
  }
 },
 "nbformat": 4,
 "nbformat_minor": 4
}

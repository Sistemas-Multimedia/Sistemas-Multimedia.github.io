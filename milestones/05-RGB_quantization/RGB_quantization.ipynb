{
 "cells": [
  {
   "cell_type": "markdown",
   "metadata": {},
   "source": [
    "# Quantization in the RGB domain"
   ]
  },
  {
   "cell_type": "code",
   "execution_count": null,
   "metadata": {},
   "outputs": [],
   "source": [
    "%matplotlib inline\n",
    "\n",
    "import matplotlib\n",
    "import matplotlib.pyplot as plt\n",
    "import matplotlib.axes as ax\n",
    "import pylab\n",
    "import math\n",
    "import numpy as np\n",
    "from scipy import signal\n",
    "import cv2\n",
    "import os\n",
    "#!pwd\n",
    "!ln -sf ~/MRVC/src/deadzone.py .\n",
    "!ln -sf ~/MRVC/src/frame.py .\n",
    "!ln -sf ~/MRVC/src/distortion.py .\n",
    "!ln -sf ~/MRVC/src/information.py\n",
    "!ln -sf ~/MRVC/src/debug.py\n",
    "!ln -sf ~/MRVC/src/image_3.py\n",
    "import deadzone as Q\n",
    "import distortion\n",
    "import image_3 as frame\n",
    "#import rate"
   ]
  },
  {
   "cell_type": "code",
   "execution_count": null,
   "metadata": {},
   "outputs": [],
   "source": [
    "# Prefix of the RGB image to be quantized.\n",
    "\n",
    "home = os.environ[\"HOME\"]\n",
    "fn = home + \"/MRVC/sequences/stockholm/\""
   ]
  },
  {
   "cell_type": "code",
   "execution_count": null,
   "metadata": {},
   "outputs": [],
   "source": [
    "# Dead-zone quantizer & dequantizer.\n",
    "# \n",
    "# Notice that, although this is a dead-zone quantizer, we are not going\n",
    "# to work with negative samples, and therefore, the dead-zone\n",
    "# does not have any effect.\n",
    "\n",
    "def q_deq(x, quantization_step):\n",
    "    k = Q.quantize(x, quantization_step)\n",
    "    y = Q.dequantize(k, quantization_step)\n",
    "    return k, y"
   ]
  },
  {
   "cell_type": "code",
   "execution_count": null,
   "metadata": {},
   "outputs": [],
   "source": [
    "# Quantization indexes are stored in disk an normal pixels.\n",
    "\n",
    "def load_indexes(prefix):\n",
    "    frame.read(prefix)\n",
    "    \n",
    "def write_indexes(prefix):\n",
    "    frame.write(prefix)"
   ]
  },
  {
   "cell_type": "code",
   "execution_count": null,
   "metadata": {},
   "outputs": [],
   "source": [
    "# Read the image and show it.\n",
    "\n",
    "img = frame.read(fn)\n",
    "print(img.max(), img.min())\n",
    "\n",
    "def show(img, title):\n",
    "    img = frame.normalize(img)\n",
    "    plt.figure(figsize=(10,10))\n",
    "    plt.title(title, fontsize=20)\n",
    "    plt.imshow(img)\n",
    "\n",
    "show(img, fn + \"000.png\")"
   ]
  },
  {
   "cell_type": "markdown",
   "metadata": {},
   "source": [
    "# Distorsion measurement. DELETEME\n",
    "\n",
    "def _average_energy(x):\n",
    "    return np.sum(x.astype(np.double)*x.astype(np.double))/(np.size(x))\n",
    "\n",
    "def _MSE(x, y):\n",
    "    error_signal = x.astype(np.float32) - y\n",
    "    return average_energy(error_signal)\n",
    "\n",
    "def _RMSE(x, y):\n",
    "    error_signal = x.astype(np.float32) - y\n",
    "    return math.sqrt(MSE(error_signal))"
   ]
  },
  {
   "cell_type": "code",
   "execution_count": null,
   "metadata": {},
   "outputs": [],
   "source": [
    "# Some helper functions.\n",
    "\n",
    "# Number of bytes that a frame \"img\" requires in disk.\n",
    "def bytes_per_frame(img):\n",
    "    frame.write(img, \"/tmp/frame\")\n",
    "    length_in_bytes = os.path.getsize(\"/tmp/frame000.png\")\n",
    "    return length_in_bytes\n",
    "\n",
    "# The same value, but in bits/pixel.\n",
    "def bits_per_pixel(img):\n",
    "    return 8*bytes_per_frame(img)/np.size(img)\n",
    "\n",
    "# Specific version for grayscale images.\n",
    "def bytes_per_grayframe(img):\n",
    "    cv2.imwrite(\"/tmp/frame000.png\", img)\n",
    "    length_in_bytes = os.path.getsize(\"/tmp/frame000.png\")\n",
    "    return length_in_bytes\n",
    "\n",
    "# The same value, but in bits/pixel.\n",
    "def bits_per_graypixel(img):\n",
    "    return 8*bytes_per_grayframe(img)/np.size(img)\n",
    "\n",
    "# Entropy of a sequence of symbols (pixels). This is a theoretical measure\n",
    "# of the compression ratio of the sequence.\n",
    "def entropy_in_bits_per_symbol(sequence_of_symbols):\n",
    "    value, counts = np.unique(sequence_of_symbols, return_counts = True)\n",
    "    probs = counts / len(sequence_of_symbols)\n",
    "    n_classes = np.count_nonzero(probs)\n",
    "\n",
    "    if n_classes <= 1:\n",
    "        return 0\n",
    "\n",
    "    entropy = 0.\n",
    "    for i in probs:\n",
    "        entropy -= i * math.log(i, 2)\n",
    "\n",
    "    return entropy"
   ]
  },
  {
   "cell_type": "markdown",
   "metadata": {},
   "source": [
    "## RD curve using same $\\Delta$ for each RGB channel ($\\Delta_{\\text{R}} = \\Delta_{\\text{G}} = \\Delta_{\\text{B}}$)\n",
    "To see the contribution of each channel to the RD curve."
   ]
  },
  {
   "cell_type": "code",
   "execution_count": null,
   "metadata": {},
   "outputs": [],
   "source": [
    "def RD_curve(x):\n",
    "    points = []\n",
    "    for q_step in range(0, 8):\n",
    "        k, y = q_deq(x, 1<<q_step)\n",
    "        k = k.astype(np.uint8)\n",
    "        rate = bits_per_pixel(k)\n",
    "        _distortion = distortion.MSE(x, y)\n",
    "        points.append((rate, _distortion))\n",
    "        print(f\"q_step={1<<q_step:>3}, rate={rate:>7} bytes, distortion={_distortion:>6.1f}\")\n",
    "    return points\n",
    "\n",
    "RD_points = RD_curve(img)"
   ]
  },
  {
   "cell_type": "code",
   "execution_count": null,
   "metadata": {},
   "outputs": [],
   "source": [
    "pylab.figure(dpi=150)\n",
    "pylab.plot(*zip(*RD_points), c='m', marker=\"o\", label=\"$\\Delta_{\\mathrm{R}}=\\Delta_{\\mathrm{G}}=\\Delta_{\\mathrm{B}}}$\")\n",
    "pylab.title(\"Rate/Distortion Performance \")\n",
    "pylab.xlabel(\"Bits/Pixel\")\n",
    "pylab.ylabel(\"MSE\")\n",
    "pylab.legend(loc='upper right')\n",
    "pylab.show()"
   ]
  },
  {
   "cell_type": "code",
   "execution_count": null,
   "metadata": {},
   "outputs": [],
   "source": [
    "print(RD_points)"
   ]
  },
  {
   "cell_type": "code",
   "execution_count": null,
   "metadata": {},
   "outputs": [],
   "source": [
    "with open('RGB.txt', 'w') as f:\n",
    "    for item in RD_points:\n",
    "        f.write(f\"{item[0]}\\t{item[1]}\\n\")"
   ]
  },
  {
   "cell_type": "code",
   "execution_count": null,
   "metadata": {},
   "outputs": [],
   "source": [
    "k, y = q_deq(img, 64)\n",
    "show(y, \"\")"
   ]
  },
  {
   "cell_type": "markdown",
   "metadata": {},
   "source": [
    "## RD curves of each channel"
   ]
  },
  {
   "cell_type": "code",
   "execution_count": null,
   "metadata": {},
   "outputs": [],
   "source": [
    "def only_R_RD_curve(RGB_frame):\n",
    "    RD_points = []\n",
    "    for q_step in range(0, 8):\n",
    "        R_frame = RGB_frame[:,:,0]\n",
    "        k, dequantized_R_frame = q_deq(R_frame, 1<<q_step)\n",
    "        k = k.astype(np.uint8)\n",
    "        rate = bits_per_graypixel(k)\n",
    "        _distortion = distortion.MSE(R_frame, dequantized_R_frame)\n",
    "        RD_points.append((rate, _distortion))\n",
    "        print(f\"q_step={1<<q_step:>3}, rate={rate:>7} bytes, distortion={_distortion:>6.1f}\")\n",
    "    return RD_points\n",
    "\n",
    "def only_G_RD_curve(RGB_frame):\n",
    "    RD_points = []\n",
    "    for q_step in range(0, 8):\n",
    "        G_frame = RGB_frame[:,:,1]\n",
    "        k, dequantized_G_frame = q_deq(G_frame, 1<<q_step)\n",
    "        k = k.astype(np.uint8)\n",
    "        rate = bits_per_graypixel(k)\n",
    "        _distortion = distortion.MSE(G_frame, dequantized_G_frame)\n",
    "        RD_points.append((rate, _distortion))\n",
    "        print(f\"q_step={1<<q_step:>3}, rate={rate:>7} bytes, distortion={_distortion:>6.1f}\")\n",
    "    return RD_points\n",
    "\n",
    "def only_B_RD_curve(RGB_frame):\n",
    "    RD_points = []\n",
    "    for q_step in range(0, 8):\n",
    "        B_frame = RGB_frame[:,:,2]\n",
    "        k, dequantized_B_frame = q_deq(B_frame, 1<<q_step)\n",
    "        k = k.astype(np.uint8)\n",
    "        rate = bits_per_graypixel(k)\n",
    "        _distortion = distortion.MSE(B_frame, dequantized_B_frame)\n",
    "        RD_points.append((rate, _distortion))\n",
    "        print(f\"q_step={1<<q_step:>3}, rate={rate:>7} bytes, distortion={_distortion:>6.1f}\")\n",
    "    return RD_points\n",
    "\n",
    "only_R_points = only_R_RD_curve(img)\n",
    "only_G_points = only_G_RD_curve(img)\n",
    "only_B_points = only_B_RD_curve(img)"
   ]
  },
  {
   "cell_type": "code",
   "execution_count": null,
   "metadata": {},
   "outputs": [],
   "source": [
    "only_B_points"
   ]
  },
  {
   "cell_type": "code",
   "execution_count": null,
   "metadata": {},
   "outputs": [],
   "source": [
    "pylab.figure(dpi=150)\n",
    "pylab.plot(*zip(*RD_points), c='m', marker=\"x\",\n",
    "           label='$\\Delta_{\\mathrm{R}} = \\Delta_{\\mathrm{G}} = \\Delta_{\\mathrm{B}}$')\n",
    "pylab.plot(*zip(*only_R_points), c='r', marker=\"o\",\n",
    "           label='Only R')              \n",
    "pylab.plot(*zip(*only_G_points), c='g', marker=\"o\",\n",
    "           label='Only G')              \n",
    "pylab.plot(*zip(*only_B_points), c='b', marker=\"o\",\n",
    "           label='Only B')              \n",
    "pylab.title(\"RD Performance\")\n",
    "pylab.xlabel(\"Bits/Pixel\")\n",
    "pylab.ylabel(\"MSE\")\n",
    "plt.legend(loc='upper right')\n",
    "pylab.show()"
   ]
  },
  {
   "cell_type": "markdown",
   "metadata": {},
   "source": [
    "The $\\Delta_{\\mathrm{R}} = \\Delta_{\\mathrm{G}} = \\Delta_{\\mathrm{B}}$ quantization scheme is near optimal because the slope at the different quantization points is almost the same. This can be seen in the next experiment"
   ]
  },
  {
   "cell_type": "markdown",
   "metadata": {},
   "source": [
    "## Testing a different quantization configuration"
   ]
  },
  {
   "cell_type": "code",
   "execution_count": null,
   "metadata": {},
   "outputs": [],
   "source": [
    "N = 6\n",
    "def only_R_RD_curve(RGB_frame):\n",
    "    RD_points = []\n",
    "    for q_step in range(0, 8):\n",
    "        dequantized_RGB_frame = np.empty_like(RGB_frame)\n",
    "        k = np.empty_like(RGB_frame)\n",
    "        k[:,:,0], dequantized_RGB_frame[:,:,0] = q_deq(RGB_frame[:,:,0], 1<<q_step)\n",
    "        k[:,:,1], dequantized_RGB_frame[:,:,1] = q_deq(RGB_frame[:,:,1], 1<<N)\n",
    "        k[:,:,2], dequantized_RGB_frame[:,:,2] = q_deq(RGB_frame[:,:,2], 1<<N)\n",
    "        k = k.astype(np.uint8)\n",
    "        rate = bits_per_pixel(k)\n",
    "        _distortion = distortion.MSE(RGB_frame, dequantized_RGB_frame)\n",
    "        RD_points.append((rate, _distortion))\n",
    "        print(f\"q_step={1<<q_step:>3}, rate={rate:>7} bytes, distortion={_distortion:>6.1f}\")\n",
    "    return RD_points\n",
    "\n",
    "def only_G_RD_curve(RGB_frame):\n",
    "    RD_points = []\n",
    "    for q_step in range(0, 8):\n",
    "        dequantized_RGB_frame = np.empty_like(RGB_frame)\n",
    "        k = np.empty_like(RGB_frame)\n",
    "        k[:,:,0], dequantized_RGB_frame[:,:,0] = q_deq(RGB_frame[:,:,0], 1<<N)\n",
    "        k[:,:,1], dequantized_RGB_frame[:,:,1] = q_deq(RGB_frame[:,:,1], 1<<q_step)\n",
    "        k[:,:,2], dequantized_RGB_frame[:,:,2] = q_deq(RGB_frame[:,:,2], 1<<N)\n",
    "        k = k.astype(np.uint8)\n",
    "        rate = bits_per_pixel(k)\n",
    "        _distortion = distortion.MSE(RGB_frame, dequantized_RGB_frame)\n",
    "        RD_points.append((rate, _distortion))\n",
    "        print(f\"q_step={1<<q_step:>3}, rate={rate:>7} bytes, distortion={_distortion:>6.1f}\")\n",
    "    return RD_points\n",
    "\n",
    "def only_B_RD_curve(RGB_frame):\n",
    "    RD_points = []\n",
    "    for q_step in range(0, 8):\n",
    "        dequantized_RGB_frame = np.empty_like(RGB_frame)\n",
    "        k = np.empty_like(RGB_frame)\n",
    "        k[:,:,0], dequantized_RGB_frame[:,:,0] = q_deq(RGB_frame[:,:,0], 1<<N)\n",
    "        k[:,:,1], dequantized_RGB_frame[:,:,1] = q_deq(RGB_frame[:,:,1], 1<<N)\n",
    "        k[:,:,2], dequantized_RGB_frame[:,:,2] = q_deq(RGB_frame[:,:,2], 1<<q_step)\n",
    "        k = k.astype(np.uint8)\n",
    "        rate = bits_per_pixel(k)\n",
    "        _distortion = distortion.MSE(RGB_frame, dequantized_RGB_frame)\n",
    "        RD_points.append((rate, _distortion))\n",
    "        print(f\"q_step={1<<q_step:>3}, rate={rate:>7} bytes, distortion={_distortion:>6.1f}\")\n",
    "    return RD_points\n",
    "\n",
    "only_R_points = only_R_RD_curve(img)\n",
    "only_G_points = only_G_RD_curve(img)\n",
    "only_B_points = only_B_RD_curve(img)"
   ]
  },
  {
   "cell_type": "code",
   "execution_count": null,
   "metadata": {},
   "outputs": [],
   "source": [
    "pylab.figure(dpi=150)\n",
    "pylab.plot(*zip(*RD_points), c='m', marker=\"x\",\n",
    "           label='$\\Delta_{\\mathrm{R}} = \\Delta_{\\mathrm{G}} = \\Delta_{\\mathrm{B}}$')\n",
    "pylab.plot(*zip(*only_R_points), c='r', marker=\"o\",\n",
    "           label='$\\Delta_{\\mathrm{R}}~\\mathrm{varies},~\\Delta_{\\mathrm{G}}=\\Delta_{\\mathrm{B}}=$' + '{}'.format(1<<N))              \n",
    "pylab.plot(*zip(*only_G_points), c='g', marker=\"o\",\n",
    "           label='$\\Delta_{\\mathrm{G}}~\\mathrm{varies},~\\Delta_{\\mathrm{R}}=\\Delta_{\\mathrm{B}}=$' + '{}'.format(1<<N))              \n",
    "pylab.plot(*zip(*only_B_points), c='b', marker=\"o\",\n",
    "           label='$\\Delta_{\\mathrm{B}}~\\mathrm{varies},~\\Delta_{\\mathrm{R}}=\\Delta_{\\mathrm{G}}=$' + '{}'.format(1<<N))              \n",
    "pylab.title(\"RD Performance\")\n",
    "pylab.xlabel(\"Bits/Pixel\")\n",
    "pylab.ylabel(\"MSE\")\n",
    "plt.legend(loc='upper right')\n",
    "pylab.show()"
   ]
  },
  {
   "cell_type": "markdown",
   "metadata": {},
   "source": [
    "As it can be seen, the best configuration matches $\\Delta_{\\mathrm{R}} = \\Delta_{\\mathrm{G}} = \\Delta_{\\mathrm{B}}$."
   ]
  },
  {
   "cell_type": "markdown",
   "metadata": {},
   "source": [
    "Lo que hay que hacer es calcular el slope para cada OTP (Optimal Truncated Point) de cada canal, ordenarlos y trazar la curva RD. Esto nos daría la curva RD óptima."
   ]
  },
  {
   "cell_type": "code",
   "execution_count": null,
   "metadata": {},
   "outputs": [],
   "source": []
  }
 ],
 "metadata": {
  "kernelspec": {
   "display_name": "Python 3",
   "language": "python",
   "name": "python3"
  },
  "language_info": {
   "codemirror_mode": {
    "name": "ipython",
    "version": 3
   },
   "file_extension": ".py",
   "mimetype": "text/x-python",
   "name": "python",
   "nbconvert_exporter": "python",
   "pygments_lexer": "ipython3",
   "version": "3.9.7"
  }
 },
 "nbformat": 4,
 "nbformat_minor": 4
}

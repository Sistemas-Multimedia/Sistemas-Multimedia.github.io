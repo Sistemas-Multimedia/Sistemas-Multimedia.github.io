{
 "cells": [
  {
   "cell_type": "markdown",
   "metadata": {},
   "source": [
    "[![Binder](https://mybinder.org/badge_logo.svg)](https://nbviewer.org/github/Sistemas-Multimedia/Sistemas-Multimedia.github.io/blob/master/milestones/07-DCT/block_DCT_compression.ipynb)"
   ]
  },
  {
   "cell_type": "markdown",
   "metadata": {},
   "source": [
    "# Block-DCT (Discrete Cosine Transform) Image Compression\n",
    "\n",
    "Compressing color images with PNG in the DCT domain. Remember to run [JPEG.ipynb](https://github.com/Sistemas-Multimedia/Sistemas-Multimedia.github.io/blob/master/milestones/07-DCT/JPEG.ipynb) before!"
   ]
  },
  {
   "cell_type": "markdown",
   "metadata": {},
   "source": [
    "## Global parameters of the notebook"
   ]
  },
  {
   "cell_type": "code",
   "execution_count": null,
   "metadata": {},
   "outputs": [],
   "source": [
    "import numpy as np\n",
    "import matplotlib\n",
    "import matplotlib.pyplot as plt\n",
    "%matplotlib inline\n",
    "!ln -sf ~/MRVC/src/image_3.py .\n",
    "import image_3 as image\n",
    "!ln -sf ~/MRVC/src/image_1.py .\n",
    "import image_1 as component\n",
    "!ln -sf ~/MRVC/src/block_DCT.py .\n",
    "!ln -sf ~/MRVC/src/YCoCg.py .\n",
    "import YCoCg as color\n",
    "#!ln -sf ~/MRVC/src/color_DCT.py .\n",
    "#import color_DCT as color\n",
    "#!ln -sf ~/MRVC/src/RGB.py .\n",
    "#import RGB as color\n",
    "import cv2\n",
    "!ln -sf ~/quantization/information.py .\n",
    "import information\n",
    "!ln -sf ~/quantization/distortion.py .\n",
    "import distortion\n",
    "import os\n",
    "import pylab\n",
    "!ln -sf ~/quantization/deadzone_quantizer.py .\n",
    "import deadzone_quantizer as Q\n",
    "import math\n",
    "import block_DCT as DCT"
   ]
  },
  {
   "cell_type": "code",
   "execution_count": null,
   "metadata": {},
   "outputs": [],
   "source": [
    "HOME = os.environ[\"HOME\"]\n",
    "#test_image = \"../sequences/stockholm/\"\n",
    "test_image = HOME + \"/MRVC/sequences/lena_color/\"\n",
    "#test_image = \"../sequences/lena_bw/\""
   ]
  },
  {
   "cell_type": "code",
   "execution_count": null,
   "metadata": {},
   "outputs": [],
   "source": [
    "block_y_side = block_x_side = 8"
   ]
  },
  {
   "cell_type": "code",
   "execution_count": null,
   "metadata": {},
   "outputs": [],
   "source": [
    "N_components = 3"
   ]
  },
  {
   "cell_type": "code",
   "execution_count": null,
   "metadata": {},
   "outputs": [],
   "source": [
    "entropy_estimator = \"PNG\"\n",
    "if entropy_estimator == \"PNG\":\n",
    "    def compute_BPP(_image, filename_prefix):\n",
    "        BPP = image.write(_image, filename_prefix, 0)*8/_image.size\n",
    "        return BPP\n",
    "else:\n",
    "    def compute_BPP(_image, filename_prefix=''):\n",
    "        entropy = information.entropy(_image.flatten().astype(np.int16))\n",
    "        return entropy"
   ]
  },
  {
   "cell_type": "markdown",
   "metadata": {},
   "source": [
    "## Testing `block_DCT.analyze_block()` and `block_DCT.synthesize_block()`\n",
    "\n",
    "The DCT concentrates the energy of the signal in a few coefficients."
   ]
  },
  {
   "cell_type": "code",
   "execution_count": null,
   "metadata": {},
   "outputs": [],
   "source": [
    "#a = np.random.randint(low=0, high=100, size=(4,4,3))\n",
    "a = np.full(shape=(4,4,3), fill_value=10, dtype=np.int16)"
   ]
  },
  {
   "cell_type": "code",
   "execution_count": null,
   "metadata": {},
   "outputs": [],
   "source": [
    "a"
   ]
  },
  {
   "cell_type": "code",
   "execution_count": null,
   "metadata": {},
   "outputs": [],
   "source": [
    "b = DCT.analyze_block(a)"
   ]
  },
  {
   "cell_type": "code",
   "execution_count": null,
   "metadata": {},
   "outputs": [],
   "source": [
    "b"
   ]
  },
  {
   "cell_type": "code",
   "execution_count": null,
   "metadata": {},
   "outputs": [],
   "source": [
    "b.astype(np.int16)"
   ]
  },
  {
   "cell_type": "code",
   "execution_count": null,
   "metadata": {},
   "outputs": [],
   "source": [
    "c = DCT.synthesize_block(b)"
   ]
  },
  {
   "cell_type": "code",
   "execution_count": null,
   "metadata": {},
   "outputs": [],
   "source": [
    "c.astype(np.int16)"
   ]
  },
  {
   "cell_type": "markdown",
   "metadata": {},
   "source": [
    "## Testing `DCT.analyze_image()` and `DCT.synthesize_image()`\n",
    "Remember that an image is divided into blocks."
   ]
  },
  {
   "cell_type": "code",
   "execution_count": null,
   "metadata": {
    "scrolled": false
   },
   "outputs": [],
   "source": [
    "x = image.read(test_image, 0)\n",
    "image.show(x, title=\"Original\")"
   ]
  },
  {
   "cell_type": "code",
   "execution_count": null,
   "metadata": {
    "scrolled": false
   },
   "outputs": [],
   "source": [
    "y = DCT.analyze_image(x, block_y_side, block_x_side)"
   ]
  },
  {
   "cell_type": "code",
   "execution_count": null,
   "metadata": {
    "scrolled": false
   },
   "outputs": [],
   "source": [
    "image.show(image.normalize(y), \"Block DCT domain\")\n",
    "image.show(image.normalize(y[:64, :64]), \"Block DCT domain (detail [0:64, 0:64])\")"
   ]
  },
  {
   "cell_type": "markdown",
   "metadata": {},
   "source": [
    "Again, most of the energy of each block has been concentrated in the low-pass frequency component (DC component)."
   ]
  },
  {
   "cell_type": "code",
   "execution_count": null,
   "metadata": {},
   "outputs": [],
   "source": [
    "z = DCT.synthesize_image(y, block_y_side, block_x_side)"
   ]
  },
  {
   "cell_type": "code",
   "execution_count": null,
   "metadata": {},
   "outputs": [],
   "source": [
    "r = x - z"
   ]
  },
  {
   "cell_type": "code",
   "execution_count": null,
   "metadata": {},
   "outputs": [],
   "source": [
    "image.show(image.normalize(r), \"DCT error when use integer truncation\")"
   ]
  },
  {
   "cell_type": "code",
   "execution_count": null,
   "metadata": {},
   "outputs": [],
   "source": [
    "image.show(z.astype(np.uint8), \"Reconstructed image\")"
   ]
  },
  {
   "cell_type": "markdown",
   "metadata": {},
   "source": [
    "This error es generated by the truncation of the floating point coefficients (remember that we work with 16 bits integer) after the analysis, and also by the truncation of the floating point pixels after the synthesis. "
   ]
  },
  {
   "cell_type": "markdown",
   "metadata": {},
   "source": [
    "## Switching between blocks and subbands\n",
    "\n",
    "The coefficients of the block-DCT can be reorganized in subbands. A subband with corrdinates (X, Y) is the 2D arragement of the coefficients that is in the coordinates (X, Y) of each block. The representation in subbands increases the spatial correlation between the coefficients (which also provides an improved visual comprehension of the content of the coefficients)."
   ]
  },
  {
   "cell_type": "code",
   "execution_count": null,
   "metadata": {},
   "outputs": [],
   "source": [
    "x = image.read(test_image)\n",
    "y = DCT.analyze_image(x, block_y_side, block_x_side)\n",
    "y_subbands = DCT.get_subbands(y, block_y_side, block_x_side)"
   ]
  },
  {
   "cell_type": "code",
   "execution_count": null,
   "metadata": {},
   "outputs": [],
   "source": [
    "image.show(image.normalize(y_subbands), f\"Subbands of the {block_y_side}x{block_x_side} DCT domain\")"
   ]
  },
  {
   "cell_type": "code",
   "execution_count": null,
   "metadata": {},
   "outputs": [],
   "source": [
    "print(f\"We have {block_y_side}x{block_x_side} subbands of {int(x.shape[0]/block_y_side)}x{int(x.shape[1]/block_x_side)} coefficients\")"
   ]
  },
  {
   "cell_type": "markdown",
   "metadata": {},
   "source": [
    "Reording the coefficients into subbands is completely reversible."
   ]
  },
  {
   "cell_type": "code",
   "execution_count": null,
   "metadata": {},
   "outputs": [],
   "source": [
    "yy = DCT.get_blocks(y_subbands, block_y_side, block_x_side)\n",
    "(yy == y).all()"
   ]
  },
  {
   "cell_type": "markdown",
   "metadata": {},
   "source": [
    "And, as it can be seen, the 2D correlation is higher in the low frequencies (left up corner) than in the high frequencies (right down corner)."
   ]
  },
  {
   "cell_type": "code",
   "execution_count": null,
   "metadata": {},
   "outputs": [],
   "source": [
    "blocks_in_y = x.shape[0]//block_y_side\n",
    "blocks_in_x = x.shape[1]//block_x_side\n",
    "image.show(image.normalize(y_subbands[:blocks_in_y, :blocks_in_x]), f\"Subband (0, 0) ({block_y_side}x{block_x_side} DCT)\")"
   ]
  },
  {
   "cell_type": "markdown",
   "metadata": {},
   "source": [
    "Subband (0,0) contains the low frequencies of the image."
   ]
  },
  {
   "cell_type": "code",
   "execution_count": null,
   "metadata": {},
   "outputs": [],
   "source": [
    "image.show(image.normalize(y_subbands[:blocks_in_y, blocks_in_x:2*blocks_in_x]), f\"Subband (0, 1) ({block_y_side}x{block_x_side} DCT)\")"
   ]
  },
  {
   "cell_type": "markdown",
   "metadata": {},
   "source": [
    "The (0, 1) subband represents the slowest changes of the image in the horizontal domain."
   ]
  },
  {
   "cell_type": "code",
   "execution_count": null,
   "metadata": {},
   "outputs": [],
   "source": [
    "image.show(image.normalize(y_subbands[blocks_in_y:2*blocks_in_y, :blocks_in_x]), f\"Subband (1, 0) ({block_y_side}x{block_x_side} DCT)\")"
   ]
  },
  {
   "cell_type": "markdown",
   "metadata": {},
   "source": [
    "The (1, 0) subband represents the slowest changes of the image in the vertical domain."
   ]
  },
  {
   "cell_type": "code",
   "execution_count": null,
   "metadata": {},
   "outputs": [],
   "source": [
    "image.show(image.normalize(y_subbands[blocks_in_y:2*blocks_in_y, blocks_in_x:2*blocks_in_x]), f\"Subband (1, 1) ({block_y_side}x{block_x_side} DCT)\")"
   ]
  },
  {
   "cell_type": "markdown",
   "metadata": {},
   "source": [
    "The (1, 1) subband represents slowest changes in the diagonal (left up corner to right down corner) of the image."
   ]
  },
  {
   "cell_type": "markdown",
   "metadata": {},
   "source": [
    "## Subbands/components information"
   ]
  },
  {
   "cell_type": "code",
   "execution_count": null,
   "metadata": {
    "scrolled": false
   },
   "outputs": [],
   "source": [
    "x = image.read(test_image, 0)\n",
    "#xx = color.from_RGB(x.astype(np.int16) - 128) # -128 decreases maximum value of the DC coefficients\n",
    "######################################################\n",
    "# This reduces the energy (not the entropy) of the    #\n",
    "# subband-components compared to the previous option. #\n",
    "# However, the averages should be encoded.            #\n",
    "xx = color.from_RGB(x.astype(np.int16))              #\n",
    "xx[...,0] -= np.average(xx[...,0]).astype(np.int16)  #\n",
    "xx[...,1] -= np.average(xx[...,1]).astype(np.int16)  #\n",
    "xx[...,2] -= np.average(xx[...,2]).astype(np.int16)  #\n",
    "######################################################\n",
    "yy = DCT.analyze_image(xx, block_y_side, block_x_side)\n",
    "yy = DCT.get_subbands(yy, block_y_side, block_x_side)\n",
    "print(\"   sb component maximum mininum max-min average std-dev entropy        energy  avg-enegy\")\n",
    "accumulated_entropy = 0\n",
    "blocks_in_y = x.shape[0] // block_y_side\n",
    "blocks_in_x = x.shape[1] // block_x_side\n",
    "list_of_subbands_components = []\n",
    "for _y in range(block_y_side):\n",
    "    for _x in range(block_x_side):\n",
    "        for _c in range(N_components):\n",
    "            sbc = yy[blocks_in_y*_y:blocks_in_y*(_y+1),\n",
    "                     blocks_in_x*_x:blocks_in_x*(_x+1),\n",
    "                     _c]\n",
    "            entropy = information.entropy(sbc.flatten().astype(np.int16))\n",
    "            accumulated_entropy += entropy\n",
    "            max = sbc.max()\n",
    "            min = sbc.min()\n",
    "            max_min = max - min\n",
    "            avg = np.average(sbc)\n",
    "            dev = math.sqrt(np.var(sbc))\n",
    "            energy = information.energy(sbc)\n",
    "            avg_energy = energy/sbc.size\n",
    "            list_of_subbands_components.append((_y, _x, _c, max, min, max_min, avg, dev, entropy, energy, avg_energy))\n",
    "            #print(f\"{_y:2d} {_x:2d} {_c:9d} {max:7.1f} {min:7.1f} {max_min:7.1f} {avg:7.1f} {dev:7.1f} {entropy:7.1f} {energy:13.1f} {avg_energy:10.1f}\")\n",
    "sorted_list_of_subbands_components = sorted(list_of_subbands_components, key=lambda x: x[8])[::-1]\n",
    "for _i in sorted_list_of_subbands_components:\n",
    "    _y, _x, _c, max, _min, max_min, avg, dev, entropy, energy, avg_energy = _i\n",
    "    print(f\"{_y:2d} {_x:2d} {_c:9d} {max:7.1f} {min:7.1f} {max_min:7.1f} {avg:7.1f} {dev:7.1f} {entropy:7.1f} {energy:13.1f} {avg_energy:10.1f}\")\n",
    "avg_entropy = accumulated_entropy / (block_x_side * block_y_side * xx.shape[2])\n",
    "print(\"Average entropy in the cosine domain:\", avg_entropy)\n",
    "print(\"Entropy in the image domain:\", information.entropy(x.flatten().astype(np.uint8)))"
   ]
  },
  {
   "cell_type": "markdown",
   "metadata": {},
   "source": [
    "As it can be observed, the 8x8-DCT accumulates most of the energy (and entropy) in the low-frequency subbands."
   ]
  },
  {
   "cell_type": "markdown",
   "metadata": {},
   "source": [
    "## Quantization steps\n",
    "\n",
    "Considering the previous dynamic range values for the YCoCg/8x8-DCT coefficients, this parameter should allow to use 8 bits/pixel images, if we are using PNG as an entropy codec. As it can be seen, we need 11 bits for representing the DC coefficients (notice that we have substracted 128 to the image to reduce in one bit the number of bits of the low frequency subband) and after quantization, we should use only 8. Therefore, the minimum quantization step should be 1<<3 = 8. Notice that 11 - 8 = 3."
   ]
  },
  {
   "cell_type": "code",
   "execution_count": null,
   "metadata": {},
   "outputs": [],
   "source": [
    "Q_steps = [128, 64, 32, 16, 8]"
   ]
  },
  {
   "cell_type": "markdown",
   "metadata": {},
   "source": [
    "## Testing `DCT.uniform_quantize()` and `DCT.uniform_dequantize()` NO\n",
    "Quantization removes information but also increases the compression ratios of the stored images. These methods quantize all coefficients with the same quantization step."
   ]
  },
  {
   "cell_type": "code",
   "execution_count": null,
   "metadata": {},
   "outputs": [],
   "source": [
    "Q_step = 128\n",
    "x = image.read(test_image, 0)\n",
    "xx = color.from_RGB(x.astype(np.int16) - 128)\n",
    "yy = DCT.analyze_image(xx, block_y_side, block_x_side)\n",
    "yy = DCT.get_subbands(yy, block_y_side, block_x_side)\n",
    "yy_k = DCT.uniform_quantize(yy, block_y_side, block_x_side, N_components, Q_step)\n",
    "yy_dQ = DCT.uniform_dequantize(yy_k, block_y_side, block_x_side, N_components, Q_step)\n",
    "yy_dQ = DCT.get_blocks(yy_dQ, block_y_side, block_x_side)\n",
    "zz_dQ = DCT.synthesize_image(yy_dQ, block_y_side, block_x_side)\n",
    "z_dQ = color.to_RGB(zz_dQ) + 128\n",
    "image.show(np.clip(z_dQ, a_min=0, a_max=255), f\"Quantized image (Q_step={Q_step}) in the {block_y_side}x{block_x_side} DCT {color.name} domain\")"
   ]
  },
  {
   "cell_type": "code",
   "execution_count": null,
   "metadata": {},
   "outputs": [],
   "source": [
    "r = x - z_dQ\n",
    "n = image.normalize(r)\n",
    "image.show(n, \"Quantization error\")"
   ]
  },
  {
   "cell_type": "markdown",
   "metadata": {},
   "source": [
    "Thereore, quantization in the DCT domain tends to remove high frequencies (it works basically as a low pass filter)."
   ]
  },
  {
   "cell_type": "markdown",
   "metadata": {},
   "source": [
    "## Coding subbands vs coding blocks\n",
    "Let's see the effect of encoding the DCT coefficients grouped by subbands. For simplicity, we will use uniform quantization. We compare compressing the transform image: (1) by blocks (the output of each block-DCT) and (2) by subbands."
   ]
  },
  {
   "cell_type": "code",
   "execution_count": null,
   "metadata": {},
   "outputs": [],
   "source": [
    "x = image.read(test_image, 0)\n",
    "xx = color.from_RGB(x.astype(np.int16) - 128)\n",
    "\n",
    "RD_points_blocks = []\n",
    "RD_points_subbands = []\n",
    "for Q_step in Q_steps:\n",
    "    yy = DCT.analyze_image(xx, block_y_side, block_x_side)\n",
    "    # Notice that with uniform_quantize() does not matter if the DCT domain\n",
    "    # is organized in subbands or blocks.\n",
    "    yy_k = DCT.uniform_quantize(yy, block_y_side, block_x_side, N_components, Q_step)\n",
    "    #BPP, _y_Q = information.PNG_BPP((y_Q.astype(np.int32) + 32768).astype(np.uint16), f\"/tmp/{Q_step}_\")\n",
    "    #assert (y_Q == _y_Q.astype(np.int32) - 32768).all()\n",
    "    BPP = image.write((yy_k + 128).astype(np.uint8), f\"/tmp/{Q_step}_\", 0)*8/xx.size\n",
    "    \n",
    "    # Check that we can recover the code-stream #########\n",
    "    __ = image.read(f\"/tmp/{Q_step}_\", 0)               #\n",
    "    try:                                                #\n",
    "        assert ((yy_k + 128) == __).all()               #\n",
    "    except AssertionError:                              #\n",
    "        counter = 0                                     #\n",
    "        for _i in range(x.shape[0]):                    #\n",
    "            for _j in range(x.shape[1]):                #\n",
    "                if (yy_k[_i, _j] != __[_i, _j]).any():  #\n",
    "                    print(yy_k[_i, _j], __[_i, _j])     #\n",
    "                    if counter > 10:                    #\n",
    "                        break                           #\n",
    "                    counter += 1                        #\n",
    "            if counter > 10:                            #\n",
    "                break                                   #\n",
    "    #####################################################\n",
    "    yy_dQ = DCT.uniform_dequantize(yy_k, block_y_side, block_x_side, N_components, Q_step)\n",
    "    zz_dQ = DCT.synthesize_image(yy_dQ, block_y_side, block_x_side)\n",
    "    z_dQ = color.to_RGB(zz_dQ) + 128\n",
    "    # Notice that to compute the distortion, the DCT domain could be\n",
    "    # also used because the DCT is unitary.\n",
    "    MSE = distortion.MSE(x, z_dQ)\n",
    "    RD_points_blocks.append((BPP, MSE))\n",
    "    yy_k_subbands = DCT.get_subbands(yy_k, block_y_side, block_x_side)\n",
    "    #BPP, _yy_k_subbands = information.PNG_BPP((yy_k_subbands.astype(np.int32) + 32768).astype(np.uint16), f\"/tmp/s_{Q_step}_\")\n",
    "    #assert (yy_k_subbands == _yy_k_subbands.astype(np.int32) - 32768).all()\n",
    "    #BPP = image.write((yy_k_subbands + 128).astype(np.uint8), f\"/tmp/{Q_step}_\", 0)*8/xx.size\n",
    "    BPP = compute_BPP((yy_k_subbands + 128).astype(np.uint8), f\"/tmp/{Q_step}_\")\n",
    "    # Check that we can recover the code-stream #################\n",
    "    __ = image.read(f\"/tmp/{Q_step}_\", 0)                       #\n",
    "    try:                                                        #\n",
    "        assert ((yy_k_subbands + 128) == __).all()              #\n",
    "    except AssertionError:                                      #\n",
    "        counter = 0                                             #\n",
    "        for _i in range(x.shape[0]):                            #\n",
    "            for _j in range(x.shape[1]):                        #\n",
    "                if (yy_k_subbands[_i, _j] != __[_i, _j]).any(): #\n",
    "                    print(yy_k_subbands[_i, _j], __[_i, _j])    #\n",
    "                    if counter > 10:                            #\n",
    "                        break                                   #\n",
    "                    counter += 1                                #\n",
    "            if counter > 10:                                    # \n",
    "                break                                           #\n",
    "    #############################################################\n",
    "    RD_points_subbands.append((BPP, MSE))\n",
    "    print(Q_step, end=' ', flush=True)"
   ]
  },
  {
   "cell_type": "code",
   "execution_count": null,
   "metadata": {},
   "outputs": [],
   "source": [
    "pylab.figure(dpi=150)\n",
    "pylab.plot(*zip(*RD_points_blocks), label=f\"{block_y_side}x{block_x_side} DCT (encoded by blocks)\")\n",
    "pylab.plot(*zip(*RD_points_subbands), label=f\"{block_y_side}x{block_x_side} DCT (encoded by subbands)\")\n",
    "pylab.title(\"\")\n",
    "pylab.xlabel(\"BPP\")\n",
    "pylab.ylabel(\"MSE\")\n",
    "plt.legend(loc=\"best\")\n",
    "pylab.show()"
   ]
  },
  {
   "cell_type": "markdown",
   "metadata": {},
   "source": [
    "Coding by subbands is more efficient because PNG can exploit better the spatial correlation between the coefficients."
   ]
  },
  {
   "cell_type": "markdown",
   "metadata": {},
   "source": [
    "## Can we do it better?\n",
    "\n",
    "Let's compute the optimal sequence of quantization steps for the set of possible combinations of subbands and components. We will compute the distortion of each subband-component in the YCoCg/8x8-DCT domain for a set of quantization steps, considering that the YCoCg transform is near-orthogonal and that the 8x8-DCT is full-orthogonal. Thanks to orthogonality, we can assume that the quantization error generated in one subband does not influence on the quantization error added to the other subbands because the DCT coefficients are uncorrelated, or in other words, that the quantization error generated in one coefficient (or subband) is not correlated with the quantization error generated in other coefficients (or subbands).\n",
    "\n",
    "Algorithm:\n",
    "1. Read the image.\n",
    "2. Transform it to the YCoCg domain.\n",
    "3. Transform each YCoCg component to the 8x8-DCT domain.\n",
    "4. Find a set RD points for each subband-component.\n",
    "5. Compute the slope of each point and put all the slopes in the same list.\n",
    "6. Sort the previous list by the slope field.\n",
    "7. Find the RD curve that progressively uses smaller slopes."
   ]
  },
  {
   "cell_type": "markdown",
   "metadata": {},
   "source": [
    "## Read the image and move to the YCoCg domain"
   ]
  },
  {
   "cell_type": "code",
   "execution_count": null,
   "metadata": {},
   "outputs": [],
   "source": [
    "x = image.read(test_image, 0)\n",
    "#xx = color.from_RGB(x.astype(np.int16) - 128)\n",
    "xx = color.from_RGB(x.astype(np.int16))\n",
    "xx[...,0] -= np.average(xx[...,0]).astype(np.int16)\n",
    "xx[...,1] -= np.average(xx[...,1]).astype(np.int16)\n",
    "xx[...,2] -= np.average(xx[...,2]).astype(np.int16)"
   ]
  },
  {
   "cell_type": "markdown",
   "metadata": {},
   "source": [
    "## Move each component to the 8x8-DCT domain"
   ]
  },
  {
   "cell_type": "code",
   "execution_count": null,
   "metadata": {},
   "outputs": [],
   "source": [
    "yy = DCT.analyze_image(xx, block_y_side, block_x_side)\n",
    "yy = DCT.get_subbands(yy, block_y_side, block_x_side)"
   ]
  },
  {
   "cell_type": "markdown",
   "metadata": {},
   "source": [
    "## Find the slope of each quantization step for each subband-component\n",
    "Create a list per subband-component of RD points and a list per subband-component of RD slopes. The first RD point is computed for 0 BPP, where the MSE distortion is equal to the average energy of the subband-component (notice that the average of each subband-component should be 0)."
   ]
  },
  {
   "cell_type": "code",
   "execution_count": null,
   "metadata": {},
   "outputs": [],
   "source": [
    "RD_points = []\n",
    "RD_slopes = []\n",
    "N_components = xx.shape[2]\n",
    "for _y in range(block_y_side):\n",
    "    for _x in range(block_x_side):\n",
    "        for _c in range(N_components):\n",
    "            sbc = yy[blocks_in_y*_y : blocks_in_y*(_y + 1),\n",
    "                     blocks_in_x*_x : blocks_in_x*(_x + 1),\n",
    "                     _c]\n",
    "            sbc_energy = information.average_energy(sbc)\n",
    "            # The first point of each RD curve has a maximum distortion equal\n",
    "            # to the energy of the subband and a rate = 0\n",
    "            RD_points.append([(0, sbc_energy)])\n",
    "            RD_slopes.append([])"
   ]
  },
  {
   "cell_type": "code",
   "execution_count": null,
   "metadata": {
    "scrolled": true
   },
   "outputs": [],
   "source": [
    "RD_points # (BPP, MSE)"
   ]
  },
  {
   "cell_type": "markdown",
   "metadata": {},
   "source": [
    "Now populate the rest of points of each subband-component. **Distortion is estimated in the transform domain** supposing that both, the color and the spatial (DCT) transforms are orthogonal. Notice also that we consider only the length of the subband-component."
   ]
  },
  {
   "cell_type": "code",
   "execution_count": null,
   "metadata": {
    "scrolled": true
   },
   "outputs": [],
   "source": [
    "for _y in range(block_y_side):\n",
    "    for _x in range(block_x_side):\n",
    "        for _c in range(N_components):\n",
    "            sbc = yy[blocks_in_y*_y : blocks_in_y*(_y + 1),\n",
    "                     blocks_in_x*_x : blocks_in_x*(_x + 1),\n",
    "                    _c]\n",
    "            counter = 0\n",
    "            for Q_step in Q_steps:\n",
    "                sbc_k = Q.quantize(sbc, Q_step)\n",
    "                sbc_dQ = Q.dequantize(sbc_k, Q_step)\n",
    "                MSE = distortion.MSE(sbc, sbc_dQ)\n",
    "                BPP = component.write(sbc_k.astype(np.uint8), f\"/tmp/{_y}_{_x}_{Q_step}_\", 0)*8/xx.size\n",
    "                #BPP_Q_indexes = information.PNG_BPP((Q_indexes.astype(np.int32) + 32768).astype(np.uint16), \"/tmp/BPP_\")[0]\n",
    "                #BPP_Q_indexes = information.entropy(Q_indexes.astype(np.int16).flatten())\n",
    "                point = (BPP, MSE)\n",
    "                RD_points[(_y * block_x_side * N_components + _x * N_components ) + _c].append(point)\n",
    "                print(\"Q_step =\", Q_step, \"BPP =\", point[0], \"MSE =\", point[1])\n",
    "                delta_BPP = BPP - RD_points[(_y * block_x_side * N_components + _x * N_components ) + _c][counter][0]\n",
    "                delta_MSE = RD_points[(_y * block_x_side * N_components + _x * N_components ) + _c][counter][1] - MSE\n",
    "                if delta_BPP > 0:\n",
    "                    slope = delta_MSE/delta_BPP\n",
    "                    RD_slopes[(_y * block_x_side * N_components + _x * N_components) + _c].append((slope, (_y, _x, _c), Q_step))\n",
    "                else:\n",
    "                    slope = 0\n",
    "                #RD_slopes[(_y * block_x_side * N_components + _x * N_components) + _c].append((Q_step, slope, (_y, _x, _c)))\n",
    "                counter += 1"
   ]
  },
  {
   "cell_type": "code",
   "execution_count": null,
   "metadata": {},
   "outputs": [],
   "source": [
    "RD_points"
   ]
  },
  {
   "cell_type": "code",
   "execution_count": null,
   "metadata": {},
   "outputs": [],
   "source": [
    "RD_slopes # (Qstep, slope, subband-component_index)"
   ]
  },
  {
   "cell_type": "markdown",
   "metadata": {},
   "source": [
    "## Remove points that do not belong to the convex-hull"
   ]
  },
  {
   "cell_type": "code",
   "execution_count": null,
   "metadata": {},
   "outputs": [],
   "source": [
    "def filter_slopes(slopes):\n",
    "    filtered_slopes = []\n",
    "    slopes_iterator = iter(slopes)\n",
    "    prev = next(slopes_iterator)\n",
    "    for curr in slopes_iterator:\n",
    "        if prev[0] < curr[0]:\n",
    "            print(f\"deleted {prev}\")\n",
    "        else:\n",
    "            filtered_slopes.append(prev)\n",
    "        prev = curr\n",
    "    filtered_slopes.append(prev)\n",
    "    return filtered_slopes\n",
    "\n",
    "filtered_slopes = []\n",
    "for i in RD_slopes:\n",
    "    filtered_slopes.append(filter_slopes(i))"
   ]
  },
  {
   "cell_type": "code",
   "execution_count": null,
   "metadata": {},
   "outputs": [],
   "source": [
    "filtered_slopes"
   ]
  },
  {
   "cell_type": "markdown",
   "metadata": {},
   "source": [
    "## Sort the RD points by their slope"
   ]
  },
  {
   "cell_type": "code",
   "execution_count": null,
   "metadata": {},
   "outputs": [],
   "source": [
    "single_list = []\n",
    "for l in filtered_slopes:\n",
    "    #l = filter_slopes(l)\n",
    "    for i in l:\n",
    "        #if i[1] > 0:\n",
    "        single_list.append(i)"
   ]
  },
  {
   "cell_type": "code",
   "execution_count": null,
   "metadata": {},
   "outputs": [],
   "source": [
    "single_list"
   ]
  },
  {
   "cell_type": "code",
   "execution_count": null,
   "metadata": {},
   "outputs": [],
   "source": [
    "sorted_slopes = sorted(single_list, key=lambda x: x[0])[::-1]"
   ]
  },
  {
   "cell_type": "code",
   "execution_count": null,
   "metadata": {},
   "outputs": [],
   "source": [
    "sorted_slopes"
   ]
  },
  {
   "cell_type": "markdown",
   "metadata": {},
   "source": [
    "## Build the optimal RD curve\n",
    "We use the sorted list of slopes (with quantization and subband-component information) to generate the optimal RD list of RD points. Notice that, although the YCoCg components gains ($\\frac{3}{2}\\Delta_{\\text{Y}} = \\Delta_{\\text{Co}} = \\frac{3}{2}\\Delta_{\\text{Cg}}$) have not been taken into consideration, when the RD points are sorted by their slope, this information has been taken into consideration."
   ]
  },
  {
   "cell_type": "code",
   "execution_count": null,
   "metadata": {
    "scrolled": true
   },
   "outputs": [],
   "source": [
    "optimal_RD_points = []\n",
    "yy_prog = np.zeros_like(yy)\n",
    "Q_steps_combination = np.full(shape=(block_x_side, block_y_side, N_components), fill_value=99999999)\n",
    "for s in sorted_slopes:\n",
    "    sbc_index = s[1]\n",
    "    _y = sbc_index[0]\n",
    "    _x = sbc_index[1]\n",
    "    _c = sbc_index[2]\n",
    "    Q_steps_combination[_y, _x, _c] = s[2]\n",
    "    #print(sbc_index, Q_steps_combination[_y, _x, _c])\n",
    "    yy_prog[blocks_in_y*_y : blocks_in_y*(_y + 1),\n",
    "            blocks_in_x*_x : blocks_in_x*(_x + 1),\n",
    "            _c] = yy[blocks_in_y*_y : blocks_in_y*(_y + 1),\n",
    "                     blocks_in_x*_x : blocks_in_x*(_x + 1),\n",
    "                     _c]\n",
    "    yy_prog_k = DCT.quantize(yy_prog, Q_steps_combination)\n",
    "    yy_prog_dQ = DCT.dequantize(yy_prog_k, Q_steps_combination)\n",
    "    \n",
    "    # Uncomment the following line to measure the distortion in the color_transform+DCT domain\n",
    "    MSE = distortion.MSE(yy, yy_prog_dQ)\n",
    "\n",
    "    # Uncomment the following 3 lines to measure the distortion in the color_transform domain\n",
    "    #yy_prog_dQ = DCT.get_blocks(yy_prog_dQ, block_y_side, block_x_side)\n",
    "    #zz_prog = DCT.synthesize_image(yy_prog_dQ, block_y_side, block_x_side)\n",
    "    #MSE = distortion.MSE(xx, zz_prog)\n",
    "    \n",
    "    # If the color transform domain is not orthogonal, the MSE should be measured in the RGB domain\n",
    "\n",
    "    #BPP, _y_quant = information.PNG_BPP((y_quant.astype(np.int32) + 32768).astype(np.uint16), f\"/tmp/{i}_{j}_{Q_step}_\")\n",
    "    #assert (y_quant == _y_quant.astype(np.int32) - 32768).all()\n",
    "    BPP = image.write((yy_prog_k + 128).astype(np.uint8), f\"/tmp/{_y}_{_x}_{_c}_{s[0]}_\", 0)*8/xx.size\n",
    "    point = (BPP, MSE)\n",
    "    print(\"sbc =\", sbc_index, \"Q_step =\", s[2], \"BPP =\", BPP, \"MSE =\", MSE)\n",
    "    optimal_RD_points.append(point)"
   ]
  },
  {
   "cell_type": "markdown",
   "metadata": {},
   "source": [
    "## Read JPEG RD data to compare\n",
    "Notice that the chroma has not been subsampled."
   ]
  },
  {
   "cell_type": "code",
   "execution_count": null,
   "metadata": {},
   "outputs": [],
   "source": [
    "JPEG_RD_points = []\n",
    "with open(\"JPEG.txt\", 'r') as f:\n",
    "    for line in f:\n",
    "        rate, _distortion = line.split('\\t')\n",
    "        JPEG_RD_points.append((float(rate), float(_distortion)))"
   ]
  },
  {
   "cell_type": "code",
   "execution_count": null,
   "metadata": {},
   "outputs": [],
   "source": [
    "#DCT2 = []\n",
    "#with open(\"DCT.txt\", 'r') as f:\n",
    "#    for line in f:\n",
    "#        rate, _distortion = line.split('\\t')\n",
    "#        DCT2.append((float(rate), float(_distortion)))"
   ]
  },
  {
   "cell_type": "markdown",
   "metadata": {},
   "source": [
    "## Compare"
   ]
  },
  {
   "cell_type": "code",
   "execution_count": null,
   "metadata": {},
   "outputs": [],
   "source": [
    "pylab.figure(dpi=150)\n",
    "pylab.plot(*zip(*RD_points_subbands), label=\"uniform quantization\")\n",
    "pylab.plot(*zip(*optimal_RD_points), label=\"optimal quantization\")\n",
    "pylab.plot(*zip(*JPEG_RD_points), label=\"JPEG\")\n",
    "#pylab.plot(*zip(*DCT2), label=\"old\")\n",
    "pylab.title(\"Comparing with JPEG\")\n",
    "pylab.xlabel(\"Bits/Pixel\")\n",
    "pylab.ylabel(\"MSE\")\n",
    "plt.legend(loc=\"best\")\n",
    "#pylab.yscale('log')\n",
    "#pylab.xscale('log')\n",
    "pylab.show()"
   ]
  },
  {
   "cell_type": "code",
   "execution_count": null,
   "metadata": {},
   "outputs": [],
   "source": [
    "with open('DCT.txt', 'w') as f:\n",
    "    for item in optimal_RD_points:\n",
    "        f.write(f\"{item[0]}\\t{item[1]}\\n\")"
   ]
  },
  {
   "cell_type": "markdown",
   "metadata": {},
   "source": [
    "## Conclusions\n",
    "The use of RD optimization increases the performance of the (color_transform + spatial_transform + entropy coding)-procedure, and more concretely of YCoCg + NxN-DCT + PNG. This is a consequence of selecting those quantization steps for the subband-components that contribute more to the quality of the reconstruction."
   ]
  }
 ],
 "metadata": {
  "kernelspec": {
   "display_name": "Python 3",
   "language": "python",
   "name": "python3"
  },
  "language_info": {
   "codemirror_mode": {
    "name": "ipython",
    "version": 3
   },
   "file_extension": ".py",
   "mimetype": "text/x-python",
   "name": "python",
   "nbconvert_exporter": "python",
   "pygments_lexer": "ipython3",
   "version": "3.9.6"
  }
 },
 "nbformat": 4,
 "nbformat_minor": 4
}

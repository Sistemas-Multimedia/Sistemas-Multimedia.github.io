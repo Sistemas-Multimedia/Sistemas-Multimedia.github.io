{
 "cells": [
  {
   "cell_type": "markdown",
   "metadata": {},
   "source": [
    "[![Binder](https://mybinder.org/badge_logo.svg)](https://nbviewer.org/github/Sistemas-Multimedia/Sistemas-Multimedia.github.io/blob/master/milestones/07-DCT/DCT_basis.ipynb)"
   ]
  },
  {
   "cell_type": "markdown",
   "metadata": {},
   "source": [
    "# 2D-DCT basis\n",
    "2-dimensional Discrete Cosine Transform."
   ]
  },
  {
   "cell_type": "code",
   "execution_count": null,
   "metadata": {},
   "outputs": [],
   "source": [
    "# Load lena\n",
    "\n",
    "import urllib.request\n",
    "from matplotlib import pyplot as plt\n",
    "import numpy as np\n",
    "import cv2\n",
    "\n",
    "%matplotlib inline\n",
    "HTTP_response = urllib.request.urlopen('http://www.hpca.ual.es/~vruiz/images/lena.png')\n",
    "arr = np.asarray(bytearray(HTTP_response.read()), dtype=np.uint8)\n",
    "BRG = cv2.imdecode(arr,-1)\n",
    "RGB = cv2.cvtColor(BRG, cv2.COLOR_BGR2RGB)\n",
    "plt.imshow(RGB)"
   ]
  },
  {
   "cell_type": "code",
   "execution_count": null,
   "metadata": {},
   "outputs": [],
   "source": [
    "from scipy import fftpack\n",
    "\n",
    "# Forward and backward DCT wrappers\n",
    "\n",
    "def forward_2d_dct(img):\n",
    "    \"\"\" Get 2D Cosine Transform of Image\n",
    "    \"\"\"\n",
    "    # https://docs.scipy.org/doc/numpy/reference/generated/numpy.ndarray.T.html#numpy.ndarray.T\n",
    "    # https://docs.scipy.org/doc/scipy-0.18.1/reference/generated/scipy.fftpack.dct.html\n",
    "    return fftpack.dct(fftpack.dct(img.T, norm='ortho').T, norm='ortho')\n",
    "\n",
    "def inverse_2d_dct(coefficients):\n",
    "    \"\"\" Get 2D Inverse Cosine Transform of Image\n",
    "    \"\"\"\n",
    "    # https://docs.scipy.org/doc/scipy-0.18.1/reference/generated/scipy.fftpack.idct.html\n",
    "    return fftpack.idct(fftpack.idct(coefficients.T, norm='ortho').T, norm='ortho')"
   ]
  },
  {
   "cell_type": "code",
   "execution_count": null,
   "metadata": {},
   "outputs": [],
   "source": [
    "# Color 2D-DCT is the 2D-DCT of each component\n",
    "components = ('r','g','b')\n",
    "dct = [None]*3\n",
    "for i,com in enumerate(components):\n",
    "    print(\"{} \".format(i), end='')\n",
    "    dct[i] = forward_2d_dct(RGB[:,:,i])"
   ]
  },
  {
   "cell_type": "code",
   "execution_count": null,
   "metadata": {},
   "outputs": [],
   "source": [
    "# View DCT coefs\n",
    "view_dct = np.empty(RGB.shape)\n",
    "for i,com in enumerate(components):\n",
    "    view_dct[:,:,i] = dct[i][:,:]\n",
    "plt.imshow((view_dct - view_dct.min())/(view_dct.max() - view_dct.min())*255)"
   ]
  },
  {
   "cell_type": "code",
   "execution_count": null,
   "metadata": {},
   "outputs": [],
   "source": [
    "# Reconstruct with biggest DCT coefs\n",
    "N = 100 # Step size (in coeffs) for each reconstruction\n",
    "for k in range(32): # Up to 32 reconstructions\n",
    "    \n",
    "    coeffs_indexes = np.empty((RGB.shape[0] * RGB.shape[1]), dtype='float, int, int')\n",
    "    for i in range(RGB.shape[0]):\n",
    "        for j in range(RGB.shape[1]):\n",
    "            coeffs_indexes[i*RGB.shape[1]+j] = (np.abs(dct[0][i][j]), i, j)\n",
    "    \n",
    "    # https://docs.scipy.org/doc/numpy/reference/arrays.indexing.html\n",
    "    # https://docs.scipy.org/doc/numpy/reference/generated/numpy.sort.html\n",
    "    sorted = np.sort(coeffs_indexes, axis = -1)[::-1]\n",
    "    \n",
    "    # https://docs.scipy.org/doc/numpy/reference/generated/numpy.empty.html\n",
    "    x_coords = np.empty((k+1)*N, dtype='int')\n",
    "    y_coords = np.empty((k+1)*N, dtype='int')\n",
    "    for kk in range((k+1)*N):\n",
    "        x_coords[kk] = sorted[kk][1]\n",
    "        y_coords[kk] = sorted[kk][2]\n",
    "\n",
    "    recons = np.empty(RGB.shape)\n",
    "    \n",
    "    # https://docs.scipy.org/doc/numpy/reference/generated/numpy.zeros.html\n",
    "    dct_copy = np.zeros(dct[0].shape)\n",
    "\n",
    "    dct_copy[x_coords, y_coords] = dct[0][x_coords, y_coords]\n",
    "    recons_ = inverse_2d_dct(dct_copy)\n",
    "    # https://docs.scipy.org/doc/numpy/reference/generated/numpy.clip.html\n",
    "    recons[:,:,0] = recons_[:,:].clip(0,255)\n",
    "    \n",
    "    # https://docs.scipy.org/doc/numpy/reference/generated/numpy.empty_like.html\n",
    "    dct_copy = np.empty_like(dct[1])\n",
    "    dct_copy[x_coords, y_coords] = dct[1][x_coords, y_coords]\n",
    "    recons_ = inverse_2d_dct(dct_copy)\n",
    "    recons[:,:,1] = recons_[:,:].clip(0,255)\n",
    "\n",
    "    dct_copy = np.empty_like(dct[2])\n",
    "    dct_copy[x_coords, y_coords] = dct[2][x_coords, y_coords]\n",
    "    recons_ = inverse_2d_dct(dct_copy)\n",
    "    recons[:,:,2] = recons_[:,:].clip(0,255)\n",
    "    \n",
    "    plt.imshow(recons.astype('uint8'))\n",
    "    plt.grid(False);\n",
    "    plt.xticks([]);\n",
    "    plt.yticks([]);\n",
    "    print(\"{} coefficients\".format((k+1)*N), end='')\n",
    "    plt.show()\n"
   ]
  },
  {
   "cell_type": "markdown",
   "metadata": {},
   "source": [
    "## $8\\times 8$ DCT\n",
    "\n",
    "* DCT exhibits a bad performance when applied to high resolution images, but locally it works pretty well. For this reason, most DCT-based image/video codecs divide the images in blocks (typically of 8x8 pixels) and apply the DCT to each block, independently. Let's see the basis functions (the synthesys filters's response to a Delta) of the 2D-DCT."
   ]
  },
  {
   "cell_type": "code",
   "execution_count": null,
   "metadata": {},
   "outputs": [],
   "source": [
    "fig = plt.figure(figsize=(16, 16))\n",
    "for i in range(8):\n",
    "    for j in range(8):\n",
    "        dct_copy = np.zeros((8, 8))\n",
    "\n",
    "        dct_copy[i][j] = 1.0\n",
    "        recons = inverse_2d_dct(dct_copy)\n",
    "        \n",
    "        max = recons.max()\n",
    "        min = recons.min()\n",
    "        if(max!=min):\n",
    "            recons = (recons-min)/(max-min)*255\n",
    "\n",
    "        plt.subplot(8, 8, 8*i+j+1)\n",
    "        plt.imshow(recons, cmap=plt.cm.gray)\n",
    "        plt.grid(False)\n",
    "        plt.xticks([])\n",
    "        plt.yticks([])"
   ]
  },
  {
   "cell_type": "markdown",
   "metadata": {},
   "source": [
    "Now with more resolution:"
   ]
  },
  {
   "cell_type": "code",
   "execution_count": null,
   "metadata": {},
   "outputs": [],
   "source": [
    "fig = plt.figure(figsize=(16, 16))\n",
    "for i in range(8):\n",
    "    for j in range(8):\n",
    "        dct_copy = np.zeros((64, 64))\n",
    "\n",
    "        dct_copy[i][j] = 1.0\n",
    "        recons = inverse_2d_dct(dct_copy)\n",
    "        \n",
    "        max = recons.max()\n",
    "        min = recons.min()\n",
    "        if(max!=min):\n",
    "            recons = (recons-min)/(max-min)*255\n",
    "\n",
    "        plt.subplot(8, 8, 8*i+j+1)\n",
    "        plt.imshow(recons, cmap=plt.cm.gray)\n",
    "        plt.grid(False)\n",
    "        plt.xticks([])\n",
    "        plt.yticks([])"
   ]
  }
 ],
 "metadata": {
  "kernelspec": {
   "display_name": "Python 3 (ipykernel)",
   "language": "python",
   "name": "python3"
  },
  "language_info": {
   "codemirror_mode": {
    "name": "ipython",
    "version": 3
   },
   "file_extension": ".py",
   "mimetype": "text/x-python",
   "name": "python",
   "nbconvert_exporter": "python",
   "pygments_lexer": "ipython3",
   "version": "3.10.0"
  }
 },
 "nbformat": 4,
 "nbformat_minor": 2
}

{
 "cells": [
  {
   "cell_type": "markdown",
   "metadata": {},
   "source": [
    "# Block DCT (Discrete Cosine Transform) Image Compression\n",
    "\n",
    "Compressing color images with PNG in the DCT domain."
   ]
  },
  {
   "cell_type": "code",
   "execution_count": null,
   "metadata": {},
   "outputs": [],
   "source": [
    "import numpy as np\n",
    "import matplotlib\n",
    "import matplotlib.pyplot as plt\n",
    "%matplotlib inline\n",
    "import image_3 as image\n",
    "import image_1 as component\n",
    "import block_DCT as DCT\n",
    "import YCoCg as YUV\n",
    "#import RGB as YUV\n",
    "import cv2\n",
    "import distortion\n",
    "import os\n",
    "import pylab\n",
    "import information\n",
    "!ln -sf ~/quantization/deadzone_quantizer.py .\n",
    "import deadzone_quantizer as Q\n",
    "import math"
   ]
  },
  {
   "cell_type": "markdown",
   "metadata": {},
   "source": [
    "## First ... some handy routines"
   ]
  },
  {
   "cell_type": "code",
   "execution_count": null,
   "metadata": {},
   "outputs": [],
   "source": [
    "def read_image(prefix):\n",
    "    x = image.read(prefix, 0)\n",
    "    if len(x.shape) == 2:\n",
    "        extended_x = np.zeros(shape=(x.shape[0],  x.shape[1], 3), dtype=np.uint16) \n",
    "        extended_x[..., 0] = x\n",
    "        return extended_x\n",
    "    else:\n",
    "        return x\n",
    "\n",
    "def PNG_BPP(_image, prefix):\n",
    "    image.write(_image, prefix, 0)\n",
    "    fn = prefix + \"000.png\"\n",
    "    codestream_length = os.path.getsize(fn)\n",
    "    BPP = (8*codestream_length)/np.size(_image)\n",
    "    if __debug__:\n",
    "        __image = image.read(prefix, 0)\n",
    "        return BPP, __image\n",
    "    else:\n",
    "        return BPP, None\n",
    "\n",
    "def write_image(x, prefix):\n",
    "    if len(x.shape) == 3:\n",
    "        Y = x[..., 0]\n",
    "        Y_len = image.save(Y, prefix + '_Y_', 0)\n",
    "        U_donwsampled = cv2.pyrDown(x[..., 1])\n",
    "        U_len = image.save(U_downsampled, prefix + '_U_', 0)\n",
    "        V_downsampled = cv2.pyrDown(x[..., 2])\n",
    "        V_len = image.save(V_downsampled, prefix + '_V_', 0)\n",
    "        total_len = Y_len + U_len + V_len\n",
    "    else:\n",
    "        total_len = image.save(x, image_fn, 0)\n",
    "    return (8*total_len)/np.size(x)"
   ]
  },
  {
   "cell_type": "markdown",
   "metadata": {},
   "source": [
    "## Global parameters of the notebook"
   ]
  },
  {
   "cell_type": "code",
   "execution_count": null,
   "metadata": {},
   "outputs": [],
   "source": [
    "#test_image = \"../sequences/stockholm/\"\n",
    "test_image = \"../sequences/lena_color/\"\n",
    "#test_image = \"../sequences/lena_bw/\""
   ]
  },
  {
   "cell_type": "code",
   "execution_count": null,
   "metadata": {},
   "outputs": [],
   "source": [
    "block_y_side = block_x_side = 8"
   ]
  },
  {
   "cell_type": "code",
   "execution_count": null,
   "metadata": {},
   "outputs": [],
   "source": [
    "N_components = 3"
   ]
  },
  {
   "cell_type": "markdown",
   "metadata": {},
   "source": [
    "## Testing `block_DCT.analyze_block()` and `block_DCT.synthesize_block()`\n",
    "\n",
    "The DCT concentrates the energy of the signal in a few coefficients."
   ]
  },
  {
   "cell_type": "code",
   "execution_count": null,
   "metadata": {},
   "outputs": [],
   "source": [
    "#a = np.random.randint(low=0, high=100, size=(4,4,3))\n",
    "a = np.full(shape=(4,4,3), fill_value=10, dtype=np.int16)"
   ]
  },
  {
   "cell_type": "code",
   "execution_count": null,
   "metadata": {},
   "outputs": [],
   "source": [
    "print(a)"
   ]
  },
  {
   "cell_type": "code",
   "execution_count": null,
   "metadata": {},
   "outputs": [],
   "source": [
    "b = DCT.analyze_block(a)"
   ]
  },
  {
   "cell_type": "code",
   "execution_count": null,
   "metadata": {},
   "outputs": [],
   "source": [
    "print(b.astype(np.int16))"
   ]
  },
  {
   "cell_type": "markdown",
   "metadata": {},
   "source": [
    "The DCT is reversible."
   ]
  },
  {
   "cell_type": "code",
   "execution_count": null,
   "metadata": {},
   "outputs": [],
   "source": [
    "c = DCT.synthesize_block(b)"
   ]
  },
  {
   "cell_type": "code",
   "execution_count": null,
   "metadata": {},
   "outputs": [],
   "source": [
    "print(c.astype(np.int16))"
   ]
  },
  {
   "cell_type": "markdown",
   "metadata": {},
   "source": [
    "## Testing `DCT.analyze_image()` and `DCT.synthesize_image()`"
   ]
  },
  {
   "cell_type": "code",
   "execution_count": null,
   "metadata": {
    "scrolled": false
   },
   "outputs": [],
   "source": [
    "x = image.read(test_image, 0)\n",
    "image.show(x, title=\"Original\")"
   ]
  },
  {
   "cell_type": "code",
   "execution_count": null,
   "metadata": {
    "scrolled": false
   },
   "outputs": [],
   "source": [
    "y = DCT.analyze_image(x, block_y_side, block_x_side)"
   ]
  },
  {
   "cell_type": "code",
   "execution_count": null,
   "metadata": {
    "scrolled": false
   },
   "outputs": [],
   "source": [
    "image.show(image.normalize(y), \"Block DCT domain\")\n",
    "image.show(image.normalize(y[:64, :64]), \"Block DCT domain (detail [0:64, 0:64])\")"
   ]
  },
  {
   "cell_type": "markdown",
   "metadata": {},
   "source": [
    "Again, most of the energy of each block has been concentrated in the low-pass frequency component (DC component)."
   ]
  },
  {
   "cell_type": "code",
   "execution_count": null,
   "metadata": {},
   "outputs": [],
   "source": [
    "z = DCT.synthesize_image(y, block_y_side, block_x_side)"
   ]
  },
  {
   "cell_type": "code",
   "execution_count": null,
   "metadata": {},
   "outputs": [],
   "source": [
    "r = x - z"
   ]
  },
  {
   "cell_type": "code",
   "execution_count": null,
   "metadata": {},
   "outputs": [],
   "source": [
    "image.show(image.normalize(r), \"Error caused by the finite precission of the floating point operations in the DCT\")"
   ]
  },
  {
   "cell_type": "markdown",
   "metadata": {},
   "source": [
    "Remember that this image has been normalized to the range [0, 255]"
   ]
  },
  {
   "cell_type": "code",
   "execution_count": null,
   "metadata": {},
   "outputs": [],
   "source": [
    "print(r.max(), r.min())"
   ]
  },
  {
   "cell_type": "markdown",
   "metadata": {},
   "source": [
    "Therefore, the DCT is not fully reversible, but it is almost. Compare the dynamic range of the components of the reconstruction to the original ones."
   ]
  },
  {
   "cell_type": "code",
   "execution_count": null,
   "metadata": {},
   "outputs": [],
   "source": [
    "image.show(z, \"Reconstructed image\")"
   ]
  },
  {
   "cell_type": "markdown",
   "metadata": {},
   "source": [
    "## Switching between blocks and subbands\n",
    "\n",
    "The coefficients of the block-DCT can be reorganized in subbands. A subband with corrdinates (X, Y) is the 2D concatenation of the coefficients that is in the coordinates (X, Y) of each block. The representation in subbands increases the spatial correlation between the coefficients (provides an improved visual comprehension of the image in the frequency domain)."
   ]
  },
  {
   "cell_type": "code",
   "execution_count": null,
   "metadata": {},
   "outputs": [],
   "source": [
    "x = image.read(test_image)\n",
    "y = DCT.analyze_image(x, block_y_side, block_x_side)\n",
    "y_subbands = DCT.get_subbands(y, block_y_side, block_x_side)"
   ]
  },
  {
   "cell_type": "code",
   "execution_count": null,
   "metadata": {},
   "outputs": [],
   "source": [
    "image.show(image.normalize(y_subbands), f\"Subbands of the {block_y_side}x{block_x_side} DCT domain\")"
   ]
  },
  {
   "cell_type": "markdown",
   "metadata": {},
   "source": [
    "Reording the coefficients into subbands is completely reversible."
   ]
  },
  {
   "cell_type": "code",
   "execution_count": null,
   "metadata": {},
   "outputs": [],
   "source": [
    "yy = DCT.get_blocks(y_subbands, block_y_side, block_x_side)\n",
    "(yy == y).all()"
   ]
  },
  {
   "cell_type": "markdown",
   "metadata": {},
   "source": [
    "And it can be seen, the 2D correlation is higher in the low frequencies (left up corner) than in the high frequencies (right down corner)."
   ]
  },
  {
   "cell_type": "code",
   "execution_count": null,
   "metadata": {},
   "outputs": [],
   "source": [
    "blocks_in_y = x.shape[0]//block_y_side\n",
    "blocks_in_x = x.shape[1]//block_x_side\n",
    "image.show(image.normalize(y_subbands[:blocks_in_y, :blocks_in_x]), f\"Subbands of the {block_y_side}x{block_x_side} DCT domain (detail low frequency subband (0, 0))\")"
   ]
  },
  {
   "cell_type": "code",
   "execution_count": null,
   "metadata": {},
   "outputs": [],
   "source": [
    "image.show(image.normalize(y_subbands[:blocks_in_y, blocks_in_x:2*blocks_in_x]), f\"Subbands of the {block_y_side}x{block_x_side} DCT domain (detail subband (0, 1))\")"
   ]
  },
  {
   "cell_type": "markdown",
   "metadata": {},
   "source": [
    "The (0, 1) subband represents slow changes of signal in the horizontal domain."
   ]
  },
  {
   "cell_type": "code",
   "execution_count": null,
   "metadata": {},
   "outputs": [],
   "source": [
    "image.show(image.normalize(y_subbands[blocks_in_y:2*blocks_in_y, :blocks_in_x]), f\"Subbands of the {block_y_side}x{block_x_side} DCT domain (detail subband (1, 0))\")"
   ]
  },
  {
   "cell_type": "markdown",
   "metadata": {},
   "source": [
    "The (1, 0) subband represents slow changes of signal in the vertical domain."
   ]
  },
  {
   "cell_type": "code",
   "execution_count": null,
   "metadata": {},
   "outputs": [],
   "source": [
    "image.show(image.normalize(y_subbands[blocks_in_y:2*blocks_in_y, blocks_in_x:2*blocks_in_x]), f\"Subbands of the {block_y_side}x{block_x_side} DCT domain (detail subband (1, 1))\")"
   ]
  },
  {
   "cell_type": "markdown",
   "metadata": {},
   "source": [
    "The (1, 1) subband represents slow changes of signal in the diagonal (left up corner to right down corner) domain."
   ]
  },
  {
   "cell_type": "markdown",
   "metadata": {},
   "source": [
    "## Subbands/components information"
   ]
  },
  {
   "cell_type": "code",
   "execution_count": null,
   "metadata": {
    "scrolled": true
   },
   "outputs": [],
   "source": [
    "x = image.read(test_image, 0)\n",
    "xx = YUV.from_RGB(x.astype(np.int16) - 128) # -128 decreases maximum value of the DC coefficients\n",
    "#xx = YUV.from_RGB(x.astype(np.int16))\n",
    "yy = DCT.analyze_image(xx, block_y_side, block_x_side)\n",
    "yy = DCT.get_subbands(yy, block_y_side, block_x_side)\n",
    "print(\"   sb component maximum mininum max-min average std-dev entropy        energy  avg-enegy\")\n",
    "accumulated_entropy = 0\n",
    "blocks_in_y = x.shape[0] // block_y_side\n",
    "blocks_in_x = x.shape[1] // block_x_side\n",
    "for _y in range(block_y_side):\n",
    "    for _x in range(block_x_side):\n",
    "        for _c in range(N_components):\n",
    "            sbc = yy[blocks_in_y*_y:blocks_in_y*(_y+1),\n",
    "                     blocks_in_x*_x:blocks_in_x*(_x+1),\n",
    "                     _c]\n",
    "            entropy = information.entropy(sbc.flatten().astype(np.int16))\n",
    "            accumulated_entropy += entropy\n",
    "            max = sbc.max()\n",
    "            min = sbc.min()\n",
    "            max_min = max - min\n",
    "            print(f\"{_y:2d} {_x:2d} {_c:9d} {max:7.1f} {min:7.1f} {max_min:7.1f} {np.average(sbc):7.1f} {math.sqrt(np.var(sbc)):7.1f} {entropy:7.1f} {information.energy(sbc):13.1f} {information.energy(sbc)/sbc.size:10.1f}\")\n",
    "avg_entropy = accumulated_entropy / (block_x_side * block_y_side * xx.shape[2])\n",
    "print(\"Average entropy in the cosine domain:\", avg_entropy)\n",
    "print(\"Entropy in the image domain:\", information.entropy(x.flatten().astype(np.uint8)))"
   ]
  },
  {
   "cell_type": "markdown",
   "metadata": {},
   "source": [
    "As it can be observed, the 8x8-DCT accumulates most of the energy in the low-frequency subbands. Moreover (after a rounding operation) the entropy is also decreased significantly."
   ]
  },
  {
   "cell_type": "markdown",
   "metadata": {},
   "source": [
    "## Quantization steps\n",
    "\n",
    "Considering the previous dynamic range values for the YCoCg/8x8-DCT coefficients, this parameter should allow to use 8 bits/pixel images, if we are using PNG as an entropy codec. As it can be seen, we need 11 bits for representing the DC coefficients (notice that we have substracted 128 to the image to reduce in one bit the number of bits of the low frequency subband) and after quantization, we should use only 8. Therefore, the minimum quantization step should be 1<<3 = 8."
   ]
  },
  {
   "cell_type": "code",
   "execution_count": null,
   "metadata": {},
   "outputs": [],
   "source": [
    "Q_steps = [128, 64, 32, 16, 8]"
   ]
  },
  {
   "cell_type": "markdown",
   "metadata": {},
   "source": [
    "## Testing `DCT.uniform_quantize()` and `DCT.uniform_dequantize()` NO\n",
    "Quantization removes information but also increases the compression ratios of the stored images. These methods quantize all coefficients with the same quantization step."
   ]
  },
  {
   "cell_type": "code",
   "execution_count": null,
   "metadata": {},
   "outputs": [],
   "source": [
    "Q_step = 128\n",
    "x = image.read(test_image, 0)\n",
    "xx = YUV.from_RGB(x.astype(np.int16) - 128)\n",
    "yy = DCT.analyze_image(xx, block_y_side, block_x_side)\n",
    "yy = DCT.get_subbands(yy, block_y_side, block_x_side)\n",
    "yy_k = DCT.uniform_quantize(yy, block_y_side, block_x_side, N_components, Q_step)\n",
    "yy_dQ = DCT.uniform_dequantize(yy_k, block_y_side, block_x_side, N_components, Q_step)\n",
    "yy_dQ = DCT.get_blocks(yy_dQ, block_y_side, block_x_side)\n",
    "zz_dQ = DCT.synthesize_image(yy_dQ, block_y_side, block_x_side)\n",
    "z_dQ = YUV.to_RGB(zz_dQ) + 128\n",
    "image.show(np.clip(z_dQ, a_min=0, a_max=255), f\"Quantized image (Q_step={Q_step}) in the {block_y_side}x{block_x_side} DCT YUV domain\")"
   ]
  },
  {
   "cell_type": "code",
   "execution_count": null,
   "metadata": {},
   "outputs": [],
   "source": [
    "r = x - z_dQ\n",
    "n = image.normalize(r)\n",
    "image.show(n, \"Quantization error\")"
   ]
  },
  {
   "cell_type": "markdown",
   "metadata": {},
   "source": [
    "Quantization in the DCT domain tends to remove high frequencies (it works basically as a low pass filter)."
   ]
  },
  {
   "cell_type": "markdown",
   "metadata": {},
   "source": [
    "## Coding subbands vs coding blocks\n",
    "Let's see the effect of encoding the DCT coefficients grouped by subbands. For simplicity, we will use uniform quantization."
   ]
  },
  {
   "cell_type": "code",
   "execution_count": null,
   "metadata": {},
   "outputs": [],
   "source": [
    "x = image.read(test_image, 0)\n",
    "xx = YUV.from_RGB(x.astype(np.int16) - 128)\n",
    "\n",
    "RD_points_blocks = []\n",
    "RD_points_subbands = []\n",
    "for Q_step in Q_steps:\n",
    "    yy = DCT.analyze_image(xx, block_y_side, block_x_side)\n",
    "    # Notice that with uniform_quantize() does not matter if the DCT domain\n",
    "    # is organized in subbands or blocks.\n",
    "    yy_k = DCT.uniform_quantize(yy, block_y_side, block_x_side, N_components, Q_step)\n",
    "    #BPP, _y_Q = information.PNG_BPP((y_Q.astype(np.int32) + 32768).astype(np.uint16), f\"/tmp/{Q_step}_\")\n",
    "    #assert (y_Q == _y_Q.astype(np.int32) - 32768).all()\n",
    "    BPP = image.write((yy_k + 128).astype(np.uint8), f\"/tmp/{Q_step}_\", 0)*8/xx.size\n",
    "    __ = image.read(f\"/tmp/{Q_step}_\", 0)\n",
    "    try:\n",
    "        assert ((yy_k + 128) == __).all()\n",
    "    except AssertionError:\n",
    "        counter = 0\n",
    "        for _i in range(x.shape[0]):\n",
    "            for _j in range(x.shape[1]):\n",
    "                if (yy_k[_i, _j] != __[_i, _j]).any():\n",
    "                    print(yy_k[_i, _j], __[_i, _j])\n",
    "                    if counter > 10:\n",
    "                        break\n",
    "                    counter += 1\n",
    "            if counter > 10:\n",
    "                break\n",
    "    yy_dQ = DCT.uniform_dequantize(yy_k, block_y_side, block_x_side, N_components, Q_step)\n",
    "    zz_dQ = DCT.synthesize_image(yy_dQ, block_y_side, block_x_side)\n",
    "    z_dQ = YUV.to_RGB(zz_dQ) + 128\n",
    "    # Notice that to compute the distortion, the DCT domain could be\n",
    "    # also used.\n",
    "    MSE = distortion.MSE(x, z_dQ)\n",
    "    RD_points_blocks.append((BPP, MSE))\n",
    "    yy_k_subbands = DCT.get_subbands(yy_k, block_y_side, block_x_side)\n",
    "    #BPP, _yy_k_subbands = information.PNG_BPP((yy_k_subbands.astype(np.int32) + 32768).astype(np.uint16), f\"/tmp/s_{Q_step}_\")\n",
    "    #assert (yy_k_subbands == _yy_k_subbands.astype(np.int32) - 32768).all()\n",
    "    BPP = image.write((yy_k_subbands + 128).astype(np.uint8), f\"/tmp/{Q_step}_\", 0)*8/xx.size\n",
    "    __ = image.read(f\"/tmp/{Q_step}_\", 0)\n",
    "    try:\n",
    "        assert ((yy_k_subbands + 128) == __).all()\n",
    "    except AssertionError:\n",
    "        counter = 0\n",
    "        for _i in range(x.shape[0]):\n",
    "            for _j in range(x.shape[1]):\n",
    "                if (yy_k_subbands[_i, _j] != __[_i, _j]).any():\n",
    "                    print(yy_k_subbands[_i, _j], __[_i, _j])\n",
    "                    if counter > 10:\n",
    "                        break\n",
    "                    counter += 1\n",
    "            if counter > 10:\n",
    "                break\n",
    "    RD_points_subbands.append((BPP, MSE))\n",
    "    print(Q_step, end=' ', flush=True)"
   ]
  },
  {
   "cell_type": "code",
   "execution_count": null,
   "metadata": {},
   "outputs": [],
   "source": [
    "pylab.figure(dpi=150)\n",
    "pylab.plot(*zip(*RD_points_blocks), label=f\"{block_y_side}x{block_x_side} DCT (encoded by blocks)\")\n",
    "pylab.plot(*zip(*RD_points_subbands), label=f\"{block_y_side}x{block_x_side} DCT (encoded by subbands)\")\n",
    "pylab.title(\"\")\n",
    "pylab.xlabel(\"BPP\")\n",
    "pylab.ylabel(\"MSE\")\n",
    "plt.legend(loc=\"best\")\n",
    "pylab.show()"
   ]
  },
  {
   "cell_type": "markdown",
   "metadata": {},
   "source": [
    "## Can we do it better?\n",
    "\n",
    "Let's compute the optimal sequence of quantization steps for the set of possible combinations of subbands and components. We will compute the distortion of each subband-component in the YCoCg/8x8-DCT domain for a set of quantization steps, considering that the YCoCg transform is near-orthogonal and that the 8x8-DCT is full-orthogonal.\n",
    "\n",
    "Algorithm:\n",
    "1. Read the image.\n",
    "2. Transform to the YCoCg domain.\n",
    "3. Transform each component to the 8x8-DCT domain.\n",
    "4. Find the RD curve for each subband-component.\n",
    "5. Compute the slope of each step of each curve and put all the slopes in the same list.\n",
    "6. Sort the previous list by the slope field.\n",
    "7. Find the RD curve that progressively uses decending slopes."
   ]
  },
  {
   "cell_type": "code",
   "execution_count": null,
   "metadata": {},
   "outputs": [],
   "source": [
    "# Read the image and move to the YCoCg domain.\n",
    "x = image.read(test_image, 0)\n",
    "xx = YUV.from_RGB(x.astype(np.int16) - 128)"
   ]
  },
  {
   "cell_type": "code",
   "execution_count": null,
   "metadata": {},
   "outputs": [],
   "source": [
    "# Move to the 8x8-DCT domain.\n",
    "yy = DCT.analyze_image(xx, block_y_side, block_x_side)\n",
    "yy = DCT.get_subbands(yy, block_y_side, block_x_side)"
   ]
  },
  {
   "cell_type": "code",
   "execution_count": null,
   "metadata": {},
   "outputs": [],
   "source": [
    "# Create a list of RD points and a list of RD slopes.\n",
    "# The first dimension is the subband-component and the second\n",
    "# dimension is the point of the operational RD curve\n",
    "# of the subband-component.\n",
    "RD_points = []\n",
    "RD_slopes = []\n",
    "N_components = xx.shape[2]\n",
    "for _y in range(block_y_side):\n",
    "    for _x in range(block_x_side):\n",
    "        for _c in range(N_components):\n",
    "            sbc = yy[blocks_in_y*_y:blocks_in_y*(_y+1),\n",
    "                     blocks_in_x*_x:blocks_in_x*(_x+1),\n",
    "                     _c]\n",
    "            sbc_energy = information.average_energy(sbc) # Change to .energy()\n",
    "            # The first point of each RD curve has a maximum distortion equal\n",
    "            # to the energy of the subband and a rate = 0\n",
    "            RD_points.append([(0, sbc_energy)])\n",
    "            RD_slopes.append([])"
   ]
  },
  {
   "cell_type": "code",
   "execution_count": null,
   "metadata": {},
   "outputs": [],
   "source": [
    "# Now populate the rest of points of each subband-component.\n",
    "# Distortion is measured in the transform domain.\n",
    "for _y in range(block_y_side):\n",
    "    for _x in range(block_x_side):\n",
    "        for _c in range(N_components):\n",
    "            sbc = yy[blocks_in_y*_y:blocks_in_y*(_y+1),\n",
    "                     blocks_in_x*_x:blocks_in_x*(_x+1),\n",
    "                    _c]\n",
    "            counter = 0\n",
    "            for Q_step in Q_steps:\n",
    "                sbc_k = Q.quantize(sbc, Q_step)\n",
    "                sbc_dQ = Q.dequantize(sbc_k, Q_step)\n",
    "                MSE = distortion.MSE(sbc, sbc_dQ)\n",
    "                BPP = component.write(sbc_k.astype(np.uint8), f\"/tmp/{_y}_{_x}_{Q_step}_\", 0)*8/xx.size\n",
    "                #BPP_Q_indexes = information.PNG_BPP((Q_indexes.astype(np.int32) + 32768).astype(np.uint16), \"/tmp/BPP_\")[0]\n",
    "                #BPP_Q_indexes = information.entropy(Q_indexes.astype(np.int16).flatten())\n",
    "                point = (BPP, MSE)\n",
    "                RD_points[(_y * block_x_side * N_components + _x * N_components ) + _c].append(point)\n",
    "                print(\"Q_step =\", Q_step, \"BPP =\", point[0], \"MSE =\", point[1])\n",
    "                delta_BPP = BPP - RD_points[(_y * block_x_side * N_components + _x * N_components ) + _c][counter][0]\n",
    "                delta_MSE = RD_points[(_y * block_x_side * N_components + _x * N_components ) + _c][counter][1] - MSE\n",
    "                if delta_BPP > 0:\n",
    "                    slope = delta_MSE/delta_BPP\n",
    "                else:\n",
    "                    slope = 0\n",
    "                RD_slopes[(_y * block_x_side * N_components + _x * N_components) + _c].append((Q_step, slope, (_y, _x, _c)))\n",
    "                counter += 1"
   ]
  },
  {
   "cell_type": "code",
   "execution_count": null,
   "metadata": {},
   "outputs": [],
   "source": [
    "print(RD_slopes)\n",
    "\n",
    "RD_slopes_without_sbc_index = []\n",
    "for _y in range(block_y_side):\n",
    "    for _x in range(block_x_side):\n",
    "        for _c in range(N_components):\n",
    "            RD_slopes_without_sbc_index.append([])\n",
    "for _y in range(block_y_side):\n",
    "    for _x in range(block_x_side):\n",
    "        for _c in range(N_components):\n",
    "            for Q_step in range(len(Q_steps)):\n",
    "                #print(RD_slopes[i * block_x_side + j][Q_step][0:2])\n",
    "                index = (_y * block_x_side * N_components + _x * N_components) + _c\n",
    "                RD_slopes_without_sbc_index[index].append(RD_slopes[index][Q_step][0:2])\n",
    "\n",
    "if block_y_side < 4:\n",
    "    pylab.figure(dpi=150)\n",
    "    for _y in range(block_y_side):\n",
    "        for _x in range(block_x_side):\n",
    "            for _c in range(N_components):\n",
    "                index = (_y * block_x_side * N_components + _x * N_components) + _c\n",
    "                pylab.plot(*zip(*RD_slopes_without_sbc_index[index]), label=f\"{_y} {_x} {_c}\", marker=f\"{i+1}\")\n",
    "    pylab.title(\"Slopes of the RD curves of the subbands\")\n",
    "    pylab.xlabel(\"Q_step\")\n",
    "    pylab.ylabel(\"Slope\")\n",
    "    plt.legend(loc=\"best\")\n",
    "    pylab.show()"
   ]
  },
  {
   "cell_type": "code",
   "execution_count": null,
   "metadata": {},
   "outputs": [],
   "source": [
    "# Sort the slopes\n",
    "single_list = []\n",
    "for _y in range(block_y_side):\n",
    "    for _x in range(block_x_side):\n",
    "        for Q_step in range(len(Q_steps)):\n",
    "            for _c in range(N_components):\n",
    "                #print(RD_slopes[i * block_x_side + j][Q_step][0:2])\n",
    "                index = (_y * block_x_side * N_components + _x * N_components) + _c\n",
    "                single_list.append(tuple(RD_slopes[index][Q_step]))\n",
    "                \n",
    "sorted_slopes = sorted(single_list, key=lambda x: x[1])[::-1]"
   ]
  },
  {
   "cell_type": "code",
   "execution_count": null,
   "metadata": {},
   "outputs": [],
   "source": [
    "sorted_slopes"
   ]
  },
  {
   "cell_type": "code",
   "execution_count": null,
   "metadata": {},
   "outputs": [],
   "source": [
    "# Find the optimal RD curve\n",
    "optimal_RD_points = []\n",
    "yy_prog = np.zeros_like(yy)\n",
    "Q_steps_combination = np.full(shape=(block_x_side, block_y_side, N_components), fill_value=99999999)\n",
    "for s in sorted_slopes:\n",
    "    sbc_index = s[2]\n",
    "    _y = sbc_index[0]\n",
    "    _x = sbc_index[1]\n",
    "    _c = sbc_index[2]\n",
    "    print(_y, _x, _c)\n",
    "    Q_steps_combination[_y, _x, _c] = s[0]\n",
    "    print(sbc_index, Q_steps_combination[_y, _x, _c])\n",
    "    yy_prog[blocks_in_y*_y:blocks_in_y*(_y+1),\n",
    "            blocks_in_x*_x:blocks_in_x*(_x+1),\n",
    "            _c] = yy[blocks_in_y*_y:blocks_in_y*(_y+1),\n",
    "                     blocks_in_x*_x:blocks_in_x*(_x+1),\n",
    "                     _c]\n",
    "    yy_prog_k = DCT.quantize(yy_prog, Q_steps_combination)\n",
    "    yy_prog_dQ = DCT.dequantize(yy_prog_k, Q_steps_combination)\n",
    "    yy_prog_dQ = DCT.get_blocks(yy_prog_dQ, block_y_side, block_x_side)\n",
    "    zz_prog = DCT.synthesize_image(yy_prog_dQ, block_y_side, block_x_side)\n",
    "    # If the color transform domain is not linear, the MSE should be measured in the RGB domain\n",
    "    MSE = distortion.MSE(xx, zz_prog)\n",
    "    #BPP, _y_quant = information.PNG_BPP((y_quant.astype(np.int32) + 32768).astype(np.uint16), f\"/tmp/{i}_{j}_{Q_step}_\")\n",
    "    #assert (y_quant == _y_quant.astype(np.int32) - 32768).all()\n",
    "    BPP = image.write((yy_prog_k + 128).astype(np.uint8), f\"/tmp/{_y}_{_x}_{_c}_{s[0]}_\", 0)*8/xx.size\n",
    "    point = (BPP, MSE)\n",
    "    print(\"Q_step =\", s[0], \"BPP =\", BPP, \"MSE =\", MSE)\n",
    "    optimal_RD_points.append(point)"
   ]
  },
  {
   "cell_type": "code",
   "execution_count": null,
   "metadata": {},
   "outputs": [],
   "source": [
    "JPEG_RD_points = []\n",
    "with open(\"JPEG.txt\", 'r') as f:\n",
    "    for line in f:\n",
    "        rate, _distortion = line.split('\\t')\n",
    "        JPEG_RD_points.append((float(rate), float(_distortion)))"
   ]
  },
  {
   "cell_type": "code",
   "execution_count": null,
   "metadata": {},
   "outputs": [],
   "source": [
    "pylab.figure(dpi=150)\n",
    "pylab.plot(*zip(*RD_points_subbands), label=\"uniform quantization\")\n",
    "pylab.plot(*zip(*optimal_RD_points), label=\"optimal quantization\")\n",
    "pylab.plot(*zip(*JPEG_RD_points), label=\"JPEG\")\n",
    "pylab.title(\"Comparing with JPEG\")\n",
    "pylab.xlabel(\"Bits/Pixel\")\n",
    "pylab.ylabel(\"MSE\")\n",
    "plt.legend(loc=\"best\")\n",
    "pylab.show()"
   ]
  },
  {
   "cell_type": "code",
   "execution_count": null,
   "metadata": {},
   "outputs": [],
   "source": [
    "with open('DCT.txt', 'w') as f:\n",
    "    for item in optimal_RD_points:\n",
    "        f.write(f\"{item[0]}\\t{item[1]}\\n\")"
   ]
  },
  {
   "cell_type": "markdown",
   "metadata": {},
   "source": [
    "## Except for some proofs, ignore the rest"
   ]
  },
  {
   "cell_type": "markdown",
   "metadata": {},
   "source": [
    "## Which color domain is better?\n",
    "\n",
    "Let's plot RD curves."
   ]
  },
  {
   "cell_type": "code",
   "execution_count": null,
   "metadata": {},
   "outputs": [],
   "source": [
    "x = read_image(test_image).astype(np.int16) - 128\n",
    "\n",
    "RGB_points = []\n",
    "for Q_step in Q_steps:\n",
    "    y = DCT.analyze_image(x, block_y_side, block_x_side)\n",
    "    y_k = DCT.uniform_quantize(y, block_y_side, block_x_side, Q_step)\n",
    "    y_k_subbands = DCT.get_subbands(y_k, block_y_side, block_x_side)\n",
    "    #BPP, _y_k = information.PNG_BPP((y_k_subbands.astype(np.int32) + 32768).astype(np.uint16), f\"/tmp/{Q_step}_\")\n",
    "    #assert (y_k_subbands == _y_k.astype(np.int32) - 32768).all()\n",
    "    BPP = image.write(y_k_subbands.astype(np.uint8) + 128, f\"/tmp/RGB_{Q_step}_\", 0)*8/x.size\n",
    "    __ = image.read(f\"/tmp/RGB_{Q_step}_\", 0).astype(np.int16) - 128\n",
    "    try:\n",
    "        assert (y_k_subbands == __).all()\n",
    "    except AssertionError:\n",
    "        counter = 0\n",
    "        for _i in range(x.shape[0]):\n",
    "            for _j in range(x.shape[1]):\n",
    "                if (y_k_subbands[_i, _j] != __[_i, _j]).any():\n",
    "                    print(y_k_subbands[_i, _j], __[_i, _j])\n",
    "                    if counter > 10:\n",
    "                        break\n",
    "                    counter += 1\n",
    "            if counter > 10:\n",
    "                break\n",
    "    y_dQ = DCT.uniform_dequantize(y_k, block_y_side, block_x_side, Q_step)\n",
    "    z_dQ = DCT.synthesize_image(y_dQ, block_y_side, block_x_side)\n",
    "    MSE = distortion.MSE(x, z_dQ)\n",
    "    point = (BPP, MSE)\n",
    "    print(point)\n",
    "    RGB_points.append(point)"
   ]
  },
  {
   "cell_type": "code",
   "execution_count": null,
   "metadata": {},
   "outputs": [],
   "source": [
    "x = image.read(test_image, 0)\n",
    "\n",
    "RGB_points = []\n",
    "for Q_step in Q_steps:\n",
    "    x_k = Q.quantize(x, Q_step)\n",
    "    x_dQ = Q.dequantize(x_k, Q_step)\n",
    "    BPP = image.write(x_k.astype(np.uint8), f\"/tmp/RGB_{Q_step}_\", 0)*8/x.size\n",
    "    __ = image.read(f\"/tmp/RGB_{Q_step}_\", 0)\n",
    "    assert (x_k == __).all()\n",
    "    MSE = distortion.MSE(x, x_dQ)\n",
    "    point = (BPP, MSE)\n",
    "    print(point)\n",
    "    RGB_points.append(point)"
   ]
  },
  {
   "cell_type": "code",
   "execution_count": null,
   "metadata": {},
   "outputs": [],
   "source": [
    "#xx = read_image(test_image).astype(np.int16) - 128\n",
    "xx = image.read(test_image, 0).astype(np.int16) - 128\n",
    "#xx = image.read(test_image, 0).astype(np.int16)\n",
    "x = YUV.from_RGB(xx)\n",
    "#x = YUV.from_RGB(xx.astype(np.int16) - 128)\n",
    "\n",
    "YUV_points = []\n",
    "for Q_step in Q_steps:\n",
    "    y = DCT.analyze_image(x, block_y_side, block_x_side)\n",
    "    y_k = DCT.uniform_quantize(y, block_y_side, block_x_side, Q_step)\n",
    "    y_k_subbands = DCT.get_subbands(y_k, block_y_side, block_x_side)\n",
    "    #BPP, _y_k = information.PNG_BPP((y_k_subbands.astype(np.int32) + 32768).astype(np.uint16), f\"/tmp/{Q_step}_\")\n",
    "    #assert (y_k_subbands == _y_k.astype(np.int32) - 32768).all()\n",
    "    BPP = image.write(y_k_subbands.astype(np.uint8) + 128, f\"/tmp/YUV_{Q_step}_\", 0)*8/x.size\n",
    "    __ = image.read(f\"/tmp/YUV_{Q_step}_\", 0).astype(np.int16) - 128\n",
    "    try:\n",
    "        assert (y_k_subbands == __).all()\n",
    "    except AssertionError:\n",
    "        counter = 0\n",
    "        for i in range(x.shape[0]):\n",
    "            for j in range(x.shape[1]):\n",
    "                if (y_k_subbands[i, j] != __[i, j]).any():\n",
    "                    print(y_k_subbands[i, j], __[i, j])\n",
    "                    if counter > 10:\n",
    "                        break\n",
    "                    counter += 1\n",
    "            if counter > 10:\n",
    "                break\n",
    "    y_dQ = DCT.uniform_dequantize(y_k, block_y_side, block_x_side, Q_step)\n",
    "    z_dQ = DCT.synthesize_image(y_dQ, block_y_side, block_x_side)\n",
    "    zz_dQ = YUV.to_RGB(z_dQ)\n",
    "    MSE = distortion.MSE(xx, zz_dQ)\n",
    "    point = (BPP, MSE)\n",
    "    print(point)\n",
    "    YUV_points.append(point)"
   ]
  },
  {
   "cell_type": "code",
   "execution_count": null,
   "metadata": {},
   "outputs": [],
   "source": [
    "x = image.read(test_image, 0)\n",
    "xx = YUV.from_RGB(x.astype(np.int16))\n",
    "\n",
    "YUV_points = []\n",
    "for Q_step in Q_steps:\n",
    "    xx_k = Q.quantize(xx, Q_step)\n",
    "    xx_dQ = Q.dequantize(xx_k, Q_step)\n",
    "    print(xx_k.dtype, xx_k.max(), xx_k.min())\n",
    "    #BPP = image.write((xx_k.astype(np.int32) + 32768).astype(np.uint16), f\"/tmp/YUV_{Q_step}_\", 0)*8/x.size\n",
    "    #__ = image.read(f\"/tmp/YUV_{Q_step}_\", 0).astype(np.int32) - 32768\n",
    "    #BPP = image.write((xx_k.astype(np.int16) + 128).astype(np.uint8), f\"/tmp/YUV_{Q_step}_\", 0)*8/x.size\n",
    "    #__ = image.read(f\"/tmp/YUV_{Q_step}_\", 0).astype(np.int32) - 128\n",
    "    BPP = image.write((xx_k + 128).astype(np.uint8), f\"/tmp/YUV_{Q_step}_\", 0)*8/x.size\n",
    "    __ = image.read(f\"/tmp/YUV_{Q_step}_\", 0).astype(np.int16) - 128\n",
    "    #BPP = image.write(xx_k, f\"/tmp/YUV_{Q_step}_\", 0)*8/x.size\n",
    "    #BPP = image.write((xx_k + 128).astype(np.uint8), f\"/tmp/YUV_{Q_step}_\", 0)*8/x.size\n",
    "    #BPP = image.write(xx_k + xx_k.min(), f\"/tmp/YUV_{Q_step}_\", 0)*8/x.size\n",
    "    #BPP = image.write(xx_k - xx.min(), f\"/tmp/YUV_{Q_step}_\", 0)*8/x.size\n",
    "    #BPP = image.write(xx_k + 256, f\"/tmp/YUV_{Q_step}_\", 0)*8/x.size\n",
    "    #for i in range(512):\n",
    "    #    for j in range(512):\n",
    "    #        if (xx_k[i,j] != __[i,j]).any():\n",
    "    #            print(Q_step, i, j, x_k[i,j], __[i,j])\n",
    "    #            break\n",
    "    assert (xx_k == __).all()\n",
    "    x_dQ = YUV.to_RGB(xx_dQ)\n",
    "    MSE = distortion.MSE(x, x_dQ)\n",
    "    point = (BPP, MSE)\n",
    "    print(point)\n",
    "    YUV_points.append(point)"
   ]
  },
  {
   "cell_type": "code",
   "execution_count": null,
   "metadata": {},
   "outputs": [],
   "source": [
    "pylab.figure(dpi=150)\n",
    "pylab.plot(*zip(*RGB_points), label=\"RGB\")\n",
    "pylab.plot(*zip(*YUV_points), label=\"YUV\")\n",
    "pylab.title(\"Which color domain is better?\")\n",
    "pylab.xlabel(\"Bits/Pixel\")\n",
    "pylab.ylabel(\"MSE\")\n",
    "plt.legend(loc=\"best\")\n",
    "pylab.show()"
   ]
  },
  {
   "cell_type": "markdown",
   "metadata": {},
   "source": [
    "The amount of distortion generated during the compression of an image is controlled the quantization. The DCT is a linear transform which preserves the energy, i.e., the quantization error (that can be considered as a random signal added to the original image) is the same in both the image and the transform domain (we will check that). Moreover, because the subbands generated by the DCT have the same gain (we will also check that), the uniform quantization of all the subbands generates the same amount of distortion in all the subbands. Notice that the quantization error depends mainly on the quantization step (not on the signal) when the dynamic range of the signal is significantly larger than the quantization step.\n",
    "\n",
    "However, not always all the subbands are equally compressible. For example, if after a uniform amoung subbands quantization all the coefficients of a subband become zero or very close to this value (because the energy of this subband is small compared to the quantization step), the cost of representing such subband in the code-stream will be low. Therefore, even if the contribution of this subband to the quality of the reconstructed image is small compared to other subbands, the contribution of its compressed representation can be significative for the reconstruction of the image.\n",
    "\n",
    "An important question that arises here is: are the contributions of the subbands to the quality of the reconstructed image independent? If the transform is orthogonal (something that we will check), the answer is yes. Thanks to this, we can assume that the quantization error generated in one subband does not influence on the quantization error added to the other subbands, and therefore, we can optimize (search) the quantization step in each subband, independently, by using the same slope in the R/D curve of the subband  (selecting the quantization step).\n",
    "\n",
    "Remember that in the case of the DCT, each subband has the same gain (all the subbands generates the same quantization error when a uniform quantization step is used) and that the transform is energy preserving (the distortion can be measured equally in the image and the transform domain). Therefore, we can use the RD curves of the subbands that represents how the distortion of the subband decreases with the length of the code-stream of the subband. Thanks to this, we will not need to compute the inverse transform to compute the distortion.\n",
    "\n",
    "For the sake of simplicity in the rest of experiments, we will only suppose that the available quantization steps are {128, 64, 32, 16, 8, 4, 2 and 1}. Usually, this produces a RD curve whose points are equally distant (more or less) in the rate domain."
   ]
  },
  {
   "cell_type": "markdown",
   "metadata": {},
   "source": [
    "## Determination of the operational RD curve of each subband"
   ]
  },
  {
   "cell_type": "markdown",
   "metadata": {},
   "source": [
    "ESTE PASO NO ES NECESARIO: Compute the DCT and the average energy of the image."
   ]
  },
  {
   "cell_type": "code",
   "execution_count": null,
   "metadata": {},
   "outputs": [],
   "source": [
    "xx = read_image(test_image).astype(np.int16) - 128\n",
    "x = YUV.from_RGB(xx)\n",
    "y = DCT.analyze_image(x, block_y_side, block_x_side)\n",
    "y_sbs = DCT.get_subbands(y, block_y_side, block_x_side)\n",
    "blocks_in_y = y.shape[0]//block_y_side\n",
    "blocks_in_x = y.shape[1]//block_x_side\n",
    "image_energy = information.average_energy(x) # DCT is unitary, i.e., energy(x) = energy(y)\n",
    "print(image_energy)\n",
    "print(information.average_energy(y))"
   ]
  },
  {
   "cell_type": "markdown",
   "metadata": {},
   "source": [
    "For each subband, we create a list of RD points and a list of RD slopes. These slopes are computed from the points."
   ]
  },
  {
   "cell_type": "code",
   "execution_count": null,
   "metadata": {},
   "outputs": [],
   "source": [
    "# Create a list of lists. The first dimension is the subband and the second\n",
    "# dimension is the point of the operational RD curve of the subband.\n",
    "RD_points = []\n",
    "RD_slopes = []\n",
    "for i in range(block_y_side):\n",
    "    for j in range(block_x_side):\n",
    "        sb = y_sbs[blocks_in_y*i:blocks_in_y*(i+1),\n",
    "                   blocks_in_x*j:blocks_in_x*(j+1)]\n",
    "        subband_energy = information.average_energy(sb)\n",
    "        # The first point of each RD curve has a maximum distortion equal\n",
    "        # to the energy of the subband and a rate = 0\n",
    "        RD_points.append([(0, subband_energy)])\n",
    "        RD_slopes.append([])\n",
    "        \n",
    "# Now populate the rest of points of each subband\n",
    "for i in range(block_y_side):\n",
    "    for j in range(block_x_side):\n",
    "        sb = y_sbs[blocks_in_y*i:blocks_in_y*(i+1),\n",
    "                   blocks_in_x*j:blocks_in_x*(j+1)]\n",
    "        counter = 0\n",
    "        for Q_step in Q_steps:\n",
    "            print(Q_steps)\n",
    "            Q_indexes = Q.quantize(sb, Q_step)\n",
    "            Q_coefs = Q.dequantize(Q_indexes, Q_step)\n",
    "            MSE_Q_coefs = distortion.MSE(sb, Q_coefs)\n",
    "            BPP_Q_indexes = information.PNG_BPP((Q_indexes.astype(np.int32) + 32768).astype(np.uint16), \"/tmp/BPP_\")[0]\n",
    "            #BPP_Q_indexes = information.entropy(Q_indexes.astype(np.int16).flatten())\n",
    "            RD_points[i * block_x_side + j].append((BPP_Q_indexes, MSE_Q_coefs))\n",
    "            delta_BPP = BPP_Q_indexes - RD_points[i * block_x_side + j][counter][0]\n",
    "            delta_MSE = RD_points[i * block_x_side + j][counter][1] - MSE_Q_coefs\n",
    "            if delta_BPP > 0:\n",
    "                slope = delta_MSE/delta_BPP\n",
    "            else:\n",
    "                slope = 0\n",
    "            RD_slopes[i * block_x_side + j].append((Q_step, slope, (i, j)))\n",
    "            counter += 1"
   ]
  },
  {
   "cell_type": "code",
   "execution_count": null,
   "metadata": {},
   "outputs": [],
   "source": [
    "if block_y_side < 8:\n",
    "    pylab.figure(dpi=150)\n",
    "    for i in range(block_y_side):\n",
    "        for j in range(block_x_side):\n",
    "            pylab.plot(*zip(*RD_points[i * block_x_side + j]), label=f\"{i} {j}\", marker=f\"{i+1}\")\n",
    "    pylab.title(\"RD curves of the subbands\")\n",
    "    pylab.xlabel(\"Bits/Pixel\")\n",
    "    pylab.ylabel(\"MSE\")\n",
    "    plt.legend(loc=\"best\")\n",
    "    pylab.show()"
   ]
  },
  {
   "cell_type": "code",
   "execution_count": null,
   "metadata": {},
   "outputs": [],
   "source": [
    "if block_y_side < 8:\n",
    "    pylab.figure(dpi=150)\n",
    "    for i in range(block_y_side):\n",
    "        for j in range(block_x_side):\n",
    "            pylab.plot(*zip(*RD_points[i * block_x_side + j]), label=f\"{i} {j}\", marker=f\"{i+1}\")\n",
    "    pylab.title(\"RD curves of the subbands\")\n",
    "    pylab.xlabel(\"Bits/Pixel\")\n",
    "    pylab.ylabel(\"MSE\")\n",
    "    pylab.yscale(\"log\")\n",
    "    plt.legend(loc=\"best\")\n",
    "    pylab.show()"
   ]
  },
  {
   "cell_type": "markdown",
   "metadata": {},
   "source": [
    "As it can be seen (for small enough block sizes), the slopes of all the subband are approximately the same, except for the subband (0, 0). This result sugests that the subband (0, 0) should be encoded with the smaller quantization step than the rest of the subbands."
   ]
  },
  {
   "cell_type": "code",
   "execution_count": null,
   "metadata": {},
   "outputs": [],
   "source": [
    "subband = 0\n",
    "Q_step_index = 0\n",
    "RD_slopes[subband][Q_step_index][0:2]"
   ]
  },
  {
   "cell_type": "code",
   "execution_count": null,
   "metadata": {},
   "outputs": [],
   "source": [
    "RD_slopes_without_sbc_index = []\n",
    "for i in range(block_y_side):\n",
    "    for j in range(block_x_side):\n",
    "        for _c in range(N_components):\n",
    "            RD_slopes_without_sbc_index.append([])\n",
    "for i in range(block_y_side):\n",
    "    for j in range(block_x_side):\n",
    "        for _c in range(N_components):\n",
    "            for Q_step in range(len(Q_steps)):\n",
    "                #print(RD_slopes[i * block_x_side + j][Q_step][0:2])\n",
    "                RD_slopes_without_sbc_index[i * block_x_side + j].append(RD_slopes[i * block_x_side + j][Q_step][0:2])\n",
    "\n",
    "if block_y_side < 8:\n",
    "    pylab.figure(dpi=150)\n",
    "    for i in range(block_y_side):\n",
    "        for j in range(block_x_side):\n",
    "            pylab.plot(*zip(*RD_slopes_without_sb_index[i * block_x_side + j]), label=f\"{i} {j}\", marker=f\"{i+1}\")\n",
    "    pylab.title(\"Slopes of the RD curves of the subbands\")\n",
    "    pylab.xlabel(\"Q_step\")\n",
    "    pylab.ylabel(\"Slope\")\n",
    "    plt.legend(loc=\"best\")\n",
    "    pylab.show()"
   ]
  },
  {
   "cell_type": "code",
   "execution_count": null,
   "metadata": {},
   "outputs": [],
   "source": [
    "if block_y_side < 8:\n",
    "    pylab.figure(dpi=150)\n",
    "    for i in range(block_y_side):\n",
    "        for j in range(block_x_side):\n",
    "            pylab.plot(*zip(*RD_slopes_without_sb_index[i * block_x_side + j]), label=f\"{i} {j}\", marker=f\"{i+1}\")\n",
    "    pylab.title(\"Slopes of the RD curves of the subbands\")\n",
    "    pylab.xlabel(\"Q_step\")\n",
    "    pylab.ylabel(\"Slope\")\n",
    "    pylab.yscale(\"log\")\n",
    "    plt.legend(loc=\"best\")\n",
    "    pylab.show()"
   ]
  },
  {
   "cell_type": "markdown",
   "metadata": {},
   "source": [
    "These results show that the subband that constributes the most to the quality of the reconstruction is [0, 0], followed by [0, 1] and [1, 0]."
   ]
  },
  {
   "cell_type": "code",
   "execution_count": null,
   "metadata": {},
   "outputs": [],
   "source": [
    "RD_slopes"
   ]
  },
  {
   "cell_type": "markdown",
   "metadata": {},
   "source": [
    "Let's sort the slopes."
   ]
  },
  {
   "cell_type": "code",
   "execution_count": null,
   "metadata": {},
   "outputs": [],
   "source": [
    "single_list = []\n",
    "for i in range(block_y_side):\n",
    "    for j in range(block_x_side):\n",
    "        for Q_step in range(len(Q_steps)):\n",
    "            #print(RD_slopes[i * block_x_side + j][Q_step][0:2])\n",
    "            single_list.append(tuple(RD_slopes[i * block_x_side + j][Q_step]))"
   ]
  },
  {
   "cell_type": "code",
   "execution_count": null,
   "metadata": {},
   "outputs": [],
   "source": [
    "sorted_slopes = sorted(single_list, key=lambda x: x[1])[::-1]"
   ]
  },
  {
   "cell_type": "code",
   "execution_count": null,
   "metadata": {},
   "outputs": [],
   "source": [
    "sorted_slopes"
   ]
  },
  {
   "cell_type": "markdown",
   "metadata": {},
   "source": [
    "As it can be seen, the uniform quantization step is not optimal, but it's performance is not bad because the sorted slopes are highly correlated with the quantization step."
   ]
  },
  {
   "cell_type": "markdown",
   "metadata": {},
   "source": [
    "Let's implement now the optimal quantization progression."
   ]
  },
  {
   "cell_type": "markdown",
   "metadata": {},
   "source": [
    "## Optimal quantization progression\n",
    "\n",
    "Let's plot the optimal RD curve. Using the quantization steps defined in the list of sorted slopes, we will perform a reconstruction for each slope, measuring the distortion and the bit-rate."
   ]
  },
  {
   "cell_type": "code",
   "execution_count": null,
   "metadata": {
    "scrolled": true
   },
   "outputs": [],
   "source": [
    "optimal_RD_points = []\n",
    "y_prog = np.zeros_like(y_sbs)\n",
    "Q_steps = np.full(shape=(block_x_side, block_y_side), fill_value=99999999)\n",
    "for s in sorted_slopes:\n",
    "    subband = s[2]\n",
    "    i = subband[0]\n",
    "    j = subband[1]\n",
    "    Q_steps[i, j] = s[0]\n",
    "    print(subband, Q_steps[i, j])\n",
    "    y_prog[blocks_in_y*i:blocks_in_y*(i+1),\n",
    "           blocks_in_x*j:blocks_in_x*(j+1)] = y_sbs[blocks_in_y*i:blocks_in_y*(i+1),\n",
    "                                                    blocks_in_x*j:blocks_in_x*(j+1)]\n",
    "    y_quant = DCT.quantize(y_prog, block_y_side, block_x_side, Q_steps)\n",
    "    y_dequant = DCT.dequantize(y_quant, block_y_side, block_x_side, Q_steps)\n",
    "    y_dequant = DCT.get_blocks(y_dequant, block_y_side, block_x_side)\n",
    "    z_prog = DCT.synthesize_image(y_dequant, block_y_side, block_x_side)\n",
    "    # If the color transform domain is not linear, the MSE should be measured in the RGB domain\n",
    "    MSE = distortion.MSE(x, z_prog)\n",
    "    BPP, _y_quant = information.PNG_BPP((y_quant.astype(np.int32) + 32768).astype(np.uint16), f\"/tmp/{i}_{j}_{Q_step}_\")\n",
    "    assert (y_quant == _y_quant.astype(np.int32) - 32768).all()\n",
    "    optimal_RD_points.append((BPP, MSE))"
   ]
  },
  {
   "cell_type": "markdown",
   "metadata": {},
   "source": [
    "Compute the RD curve for JPEG."
   ]
  },
  {
   "cell_type": "code",
   "execution_count": null,
   "metadata": {},
   "outputs": [],
   "source": [
    "import PIL\n",
    "\n",
    "xx = image.read(test_image, 0).astype(np.uint8)\n",
    "JPEG_RD_points = []\n",
    "for q in range(75):\n",
    "    im = PIL.Image.fromarray(xx)\n",
    "    im.save(\"/tmp/1.jpeg\", quality=q, subsampling=0) # No color subsampling\n",
    "    BPP = os.path.getsize(\"/tmp/1.jpeg\")*8/xx.size\n",
    "    zz = np.asarray(PIL.Image.open(\"/tmp/1.jpeg\"))\n",
    "    MSE = distortion.MSE(xx, zz)\n",
    "    JPEG_RD_points.append((BPP, MSE))\n",
    "    print(BPP, MSE)"
   ]
  },
  {
   "cell_type": "markdown",
   "metadata": {},
   "source": [
    "Compare:"
   ]
  },
  {
   "cell_type": "markdown",
   "metadata": {},
   "source": [
    "# ................."
   ]
  },
  {
   "cell_type": "markdown",
   "metadata": {},
   "source": [
    "## Chroma subsampling\n",
    "\n",
    "Our codec is 4:4:4 and JPEG is 4:2:0. \n",
    "\n",
    "We apply a Sinc to the chroma and subsample. "
   ]
  },
  {
   "cell_type": "markdown",
   "metadata": {},
   "source": [
    "## Computation of the RD slopes"
   ]
  },
  {
   "cell_type": "code",
   "execution_count": null,
   "metadata": {},
   "outputs": [],
   "source": [
    "print(RD_points)"
   ]
  },
  {
   "cell_type": "markdown",
   "metadata": {},
   "source": [
    "## Fast optimal quantization\n",
    "\n"
   ]
  },
  {
   "cell_type": "code",
   "execution_count": null,
   "metadata": {},
   "outputs": [],
   "source": [
    "for Q_step in range(len(Q_steps)):\n",
    "    for i in range(block_y_side):\n",
    "        for j in range(block_x_side):\n",
    "            print(f\"{RD_points[i * block_x_side + j][Q_step], end=' ')\n",
    "    print()"
   ]
  },
  {
   "cell_type": "code",
   "execution_count": null,
   "metadata": {},
   "outputs": [],
   "source": [
    "for i in range(block_y_side):\n",
    "    for j in range(block_x_side):\n",
    "        y_only_one_sb = np.zeros_like(y_sbs)\n",
    "        #only_one_subband_y = np.copy(y)\n",
    "        sb = y_sbs[blocks_in_y*i:blocks_in_y*(i+1),\n",
    "                   blocks_in_x*j:blocks_in_x*(j+1)]\n",
    "        y_only_one_sb[blocks_in_y*i:blocks_in_y*(i+1),\n",
    "                      blocks_in_x*j:blocks_in_x*(j+1)] = sb\n",
    "        y_only_one_sb_blks = DCT.get_blocks(y_only_one_sb, block_y_side, block_x_side)\n",
    "        z_only_one_sb = DCT.synthesize(y_only_one_sb_blks, block_y_side, block_x_side)\n",
    "        #zz_only_one_sb = YUV.to_RGB(z_only_one_sb)\n",
    "        MSE = distortion.MSE(x, z_only_one_sb)\n",
    "        MSE_l.append(MSE)\n",
    "        entropy = information.entropy((sb.astype(np.int16).flatten()))\n",
    "        entropy_l.append(entropy)\n",
    "        slope = (image_energy - MSE) / entropy\n",
    "        print(i, j, image_energy, MSE, entropy, slope)"
   ]
  },
  {
   "cell_type": "markdown",
   "metadata": {},
   "source": [
    "## Subband gains\n",
    "The gain of each subband can be computed giving energy to a subband, performing the inverse transform, and measuring the energy of the reconstruction."
   ]
  },
  {
   "cell_type": "code",
   "execution_count": null,
   "metadata": {},
   "outputs": [],
   "source": [
    "blocks_in_y = 1024//block_y_side\n",
    "blocks_in_x = 1024//block_x_side\n",
    "y_only_one_sb = np.empty(shape=(1024, 1024))\n",
    "for i in range(block_y_side):\n",
    "    for j in range(block_x_side):\n",
    "        y_only_one_sb[...] = 0.0\n",
    "        y_only_one_sb[blocks_in_y*i:blocks_in_y*(i+1),\n",
    "                      blocks_in_x*j:blocks_in_x*(j+1)] = 100.0\n",
    "        y_only_one_sb_blks = DCT.get_blocks(y_only_one_sb, block_y_side, block_x_side)\n",
    "        z_only_one_sb = DCT.synthesize(y_only_one_sb_blks, block_y_side, block_x_side)\n",
    "        energy = distortion.average_energy(z_only_one_sb)\n",
    "        print(int(energy), end=' ')\n",
    "    print()"
   ]
  },
  {
   "cell_type": "markdown",
   "metadata": {},
   "source": [
    "As it can be seen, the 8x8 DCT has (approximately) the same gain for all the subbands and therefore, the uniform quantization is optimal from this point of view. Let's analyze now the information content of each subband."
   ]
  },
  {
   "cell_type": "markdown",
   "metadata": {},
   "source": [
    "## Dynamic range of the subbands\n",
    "Some subbands (such as LL) has more energy than others. Notice, however, that energy is not equal to information."
   ]
  },
  {
   "cell_type": "code",
   "execution_count": null,
   "metadata": {},
   "outputs": [],
   "source": [
    "y = block_DCT.analyze(x, block_y_side, block_x_side)\n",
    "y = block_DCT.get_subbands(y, block_y_side, block_x_side)\n",
    "max_, min_ = block_DCT.compute_max_min(y, block_y_side, block_x_side)"
   ]
  },
  {
   "cell_type": "code",
   "execution_count": null,
   "metadata": {},
   "outputs": [],
   "source": [
    "np.set_printoptions(edgeitems=8, linewidth=120, formatter=dict(float=lambda x: \"%.3g\" % x))\n",
    "print(max_.astype(np.int32))"
   ]
  },
  {
   "cell_type": "code",
   "execution_count": null,
   "metadata": {},
   "outputs": [],
   "source": [
    "print(min_.astype(np.int32))"
   ]
  },
  {
   "cell_type": "markdown",
   "metadata": {},
   "source": [
    "## Variances of the subbands\n",
    "The variance in each subband, however, is a good estimator of the information provided the subband."
   ]
  },
  {
   "cell_type": "code",
   "execution_count": null,
   "metadata": {},
   "outputs": [],
   "source": [
    "y = block_DCT.analyze(x, block_y_side, block_x_side)\n",
    "y = block_DCT.get_subbands(y, block_y_side, block_x_side)\n",
    "variances = block_DCT.compute_variances(y, block_y_side, block_x_side)"
   ]
  },
  {
   "cell_type": "code",
   "execution_count": null,
   "metadata": {
    "scrolled": true
   },
   "outputs": [],
   "source": [
    "np.set_printoptions(edgeitems=5, linewidth=100, formatter=dict(float=lambda x: \"%.3g\" % x))\n",
    "print(variances.astype(np.int32))\n",
    "print(\"max var =\", variances.max(), \"at\", np.unravel_index(variances.argmax(), variances.shape))\n",
    "print(\"min var =\", variances.min(), \"at\", np.unravel_index(variances.argmin(), variances.shape))"
   ]
  },
  {
   "cell_type": "markdown",
   "metadata": {},
   "source": [
    "As it can be seen, most of the information is stored in the low-frequency subbands."
   ]
  },
  {
   "cell_type": "markdown",
   "metadata": {},
   "source": [
    "## Quantizing depending on the variance\n",
    "Lets quantize depending on the variance."
   ]
  },
  {
   "cell_type": "code",
   "execution_count": null,
   "metadata": {},
   "outputs": [],
   "source": [
    "xx = image.read(f\"../sequences/stockholm/\", 0).astype(np.int16) - 128\n",
    "x = YUV.from_RGB(xx)\n",
    "\n",
    "variance_RD_points = []\n",
    "for Q_step in [128,64,32,16,8,4,2,1]:\n",
    "    y = block_DCT.analyze(x, block_y_side, block_x_side)\n",
    "    y = block_DCT.get_subbands(y, block_y_side, block_x_side)\n",
    "    variances = np.sqrt(block_DCT.compute_variances(y, block_y_side, block_x_side))\n",
    "    normalized_variances = (variances - variances.min()) / (variances.max() - variances.min())\n",
    "    Q_steps = Q_step / np.log(normalized_variances + 1.01)\n",
    "    print(Q_steps.astype(np.int32))\n",
    "    q_y = block_DCT.quantize(y, block_y_side, block_x_side, Q_steps)\n",
    "    dq_y = block_DCT.dequantize(q_y, block_y_side, block_x_side, Q_steps)\n",
    "    dq_y = block_DCT.get_blocks(dq_y, block_y_side, block_x_side)\n",
    "    qd_z = block_DCT.synthesize(dq_y, block_y_side, block_x_side)\n",
    "    dq_zz = YUV.to_RGB(qd_z)\n",
    "    #image.write(q_y, f\"/tmp/{Q_step}_\", 0)\n",
    "    image.write((q_y.astype(np.int32) + 32768).astype(np.uint16), f\"/tmp/{Q_step}_\", 0)\n",
    "    bits_per_pixel = os.path.getsize(f\"/tmp/{Q_step}_000.png\")*8/x.size\n",
    "    MSE = distortion.MSE(xx, dq_zz)\n",
    "    variance_RD_points.append((bits_per_pixel, MSE))\n",
    "    print(Q_step)"
   ]
  },
  {
   "cell_type": "code",
   "execution_count": null,
   "metadata": {},
   "outputs": [],
   "source": [
    "pylab.figure(dpi=150)\n",
    "pylab.plot(*zip(*subband_RD_points), label=\"uniform quantization\")\n",
    "pylab.plot(*zip(*variance_RD_points), label=\"variance-based quantization\")\n",
    "pylab.title(\"YCoCg/B-DCT coding performance\")\n",
    "pylab.xlabel(\"Bits/Pixel\")\n",
    "pylab.ylabel(\"MSE\")\n",
    "plt.legend(loc=\"best\")\n",
    "pylab.show()"
   ]
  },
  {
   "cell_type": "markdown",
   "metadata": {},
   "source": [
    "As it can be seen, varying the quantization step depending on the variance does not necessarily improves significatively the R/D tradeoff. This is a consequence of that the subband gains are approximately the same and therefore, the quantization noise remains uniform among subbands."
   ]
  },
  {
   "cell_type": "markdown",
   "metadata": {},
   "source": [
    "## Quantizing depending on the variance with thresholding\n",
    "Now, we set to zero all those quantization idexes that (in absolute value) are smaller than a threshold."
   ]
  },
  {
   "cell_type": "code",
   "execution_count": null,
   "metadata": {},
   "outputs": [],
   "source": [
    "xx = image.read(f\"../sequences/stockholm/\", 0).astype(np.int16) - 128\n",
    "x = YUV.from_RGB(xx)\n",
    "\n",
    "threshold_RD_points = []\n",
    "for Q_step in [128,64,32,16,8,4,2,1]:\n",
    "    y = block_DCT.analyze(x, block_y_side, block_x_side)\n",
    "    y = block_DCT.get_subbands(y, block_y_side, block_x_side)\n",
    "    variances = np.sqrt(block_DCT.compute_variances(y, block_y_side, block_x_side))\n",
    "    normalized_variances = (variances - variances.min()) / (variances.max() - variances.min())\n",
    "    Q_steps = Q_step / np.log(normalized_variances + 1.01)\n",
    "    print(Q_steps.astype(np.int32))\n",
    "    q_y = block_DCT.quantize(y, block_y_side, block_x_side, Q_steps)\n",
    "    q_y[ abs(q_y) < 3] = 0 \n",
    "    dq_y = block_DCT.dequantize(q_y, block_y_side, block_x_side, Q_steps)\n",
    "    dq_y = block_DCT.get_blocks(dq_y, block_y_side, block_x_side)\n",
    "    qd_z = block_DCT.synthesize(dq_y, block_y_side, block_x_side)\n",
    "    dq_zz = YUV.to_RGB(qd_z)\n",
    "    #image.write(q_y, f\"/tmp/{Q_step}_\", 0)\n",
    "    image.write((q_y.astype(np.int32) + 32768).astype(np.uint16), f\"/tmp/{Q_step}_\", 0)\n",
    "    bits_per_pixel = os.path.getsize(f\"/tmp/{Q_step}_000.png\")*8/x.size\n",
    "    MSE = distortion.MSE(xx, dq_zz)\n",
    "    threshold_RD_points.append((bits_per_pixel, MSE))\n",
    "    print(Q_step)"
   ]
  },
  {
   "cell_type": "code",
   "execution_count": null,
   "metadata": {},
   "outputs": [],
   "source": [
    "pylab.figure(dpi=150)\n",
    "pylab.plot(*zip(*subband_RD_points), label=\"uniform quantization\")\n",
    "pylab.plot(*zip(*threshold_RD_points), label=\"variance-based quantization with threshold\")\n",
    "pylab.title(\"YCoCg/B-DCT coding performance\")\n",
    "pylab.xlabel(\"Bits/Pixel\")\n",
    "pylab.ylabel(\"MSE\")\n",
    "plt.legend(loc=\"best\")\n",
    "pylab.show()"
   ]
  },
  {
   "cell_type": "markdown",
   "metadata": {},
   "source": [
    "And, as it can be seen, as it happens with a variable variance-based (wihtout thresholding) quantization step, the effect that we can reach lower bit-rates (obviously, increasing the distortion), although not better R/D tradeoffs."
   ]
  },
  {
   "cell_type": "markdown",
   "metadata": {},
   "source": [
    "## About the contribution of the subbands to the quality of the recostruction\n",
    "Quantization can be also considered as a form of controlling how much information of the original image will be found in the reconstruction. Moreover, due to the DCT is orthogonal, DCT coefficients (and therefore, also the subbands) are uncorrelated, which implies that the contribution of each subband to the reconstruction is independent.\n",
    "\n",
    "To check this we can:\n",
    "1. Transform the image.\n",
    "2. Generate the subbands.\n",
    "3. Set to zero all the subband except one.\n",
    "4. Restore the DCT-blocks.\n",
    "5. Apply the inverse transform.\n",
    "6. Transform the generated image.\n",
    "7. Test if the resulting DCT image matches the DCT image used in the step 5. If matches (with some maximum error), the transform is orthogonal."
   ]
  },
  {
   "cell_type": "code",
   "execution_count": null,
   "metadata": {},
   "outputs": [],
   "source": [
    "xx = image.read(f\"../sequences/stockholm/\", 0).astype(np.int16) - 128\n",
    "x = YUV.from_RGB(xx)\n",
    "y = DCT.analyze(x, block_y_side, block_x_side)\n",
    "y_sbs = DCT.get_subbands(y, block_y_side, block_x_side)\n",
    "blocks_in_y = y.shape[0]//block_y_side\n",
    "blocks_in_x = y.shape[1]//block_x_side\n",
    "\n",
    "i_coordinate_to_keep = 1\n",
    "j_coordinate_to_keep = 1\n",
    "mask = np.zeros_like(y, bool)\n",
    "mask[blocks_in_y*i_coordinate_to_keep:(blocks_in_y+1)*i_coordinate_to_keep,\n",
    "     blocks_in_x*j_coordinate_to_keep:(blocks_in_x+1)*j_coordinate_to_keep] = True\n",
    "y_sbs[~mask] = 0\n",
    "y_blks = DCT.get_blocks(y_sbs, block_y_side, block_x_side)\n",
    "y_blks_copy = np.copy(y_blks)\n",
    "z = DCT.synthesize(y_blks, block_y_side, block_x_side)\n",
    "y2 = DCT.analyze(z, block_y_side, block_x_side)\n",
    "print((y2 == y_blks_copy).all())\n",
    "print((y2[~mask] == 0).all())"
   ]
  },
  {
   "cell_type": "markdown",
   "metadata": {},
   "source": [
    "Therefore, the DCT is orthogonal."
   ]
  },
  {
   "cell_type": "markdown",
   "metadata": {},
   "source": [
    "## R/D performance"
   ]
  },
  {
   "cell_type": "markdown",
   "metadata": {},
   "source": [
    "## Is the B-DCT orthogonal (and orthonormal)?\n",
    "Orthogonality implies that the contributions of the distortion of the subbands to the distortion of the reconstructed image are additive. Orthonormality that the contributions are the same."
   ]
  },
  {
   "cell_type": "markdown",
   "metadata": {},
   "source": [
    "## Contribution of each subband to the distortion of the reconstruction\n",
    "The DCT is orthogonal. This means that the DCT coefficients are uncorrelated, or in other words, that the quantization error generated in one coefficient (or subband) is not correlated with the quantization error generated in other coefficients (or subbands).\n",
    "\n",
    "Following this reasoaning, we can assume that the quantization noise\n",
    "\n",
    "We perform the inverse transform of the subband decomposition considering only one subband (zeroing the rest) and measuring the MSE between the reconstructed image and the original one."
   ]
  },
  {
   "cell_type": "code",
   "execution_count": null,
   "metadata": {},
   "outputs": [],
   "source": [
    "xx = image.read(f\"../sequences/stockholm/\", 0).astype(np.int16) - 128\n",
    "x = YUV.from_RGB(xx)\n",
    "y = DCT.analyze(x, block_y_side, block_x_side)\n",
    "y_sbs = DCT.get_subbands(y, block_y_side, block_x_side)\n",
    "blocks_in_y = y.shape[0]//block_y_side\n",
    "blocks_in_x = y.shape[1]//block_x_side\n",
    "image_energy = distortion.average_energy(x) # DCT is unitary, i.e., energy(x) = energy(y)\n",
    "print(distortion.average_energy(y))\n",
    "MSE_l = []\n",
    "entropy_l = []\n",
    "for i in range(block_y_side):\n",
    "    for j in range(block_x_side):\n",
    "        y_only_one_sb = np.zeros_like(y_sbs)\n",
    "        #only_one_subband_y = np.copy(y)\n",
    "        sb = y_sbs[blocks_in_y*i:blocks_in_y*(i+1),\n",
    "                   blocks_in_x*j:blocks_in_x*(j+1)]\n",
    "        y_only_one_sb[blocks_in_y*i:blocks_in_y*(i+1),\n",
    "                      blocks_in_x*j:blocks_in_x*(j+1)] = sb\n",
    "        y_only_one_sb_blks = DCT.get_blocks(y_only_one_sb, block_y_side, block_x_side)\n",
    "        z_only_one_sb = DCT.synthesize(y_only_one_sb_blks, block_y_side, block_x_side)\n",
    "        #zz_only_one_sb = YUV.to_RGB(z_only_one_sb)\n",
    "        MSE = distortion.MSE(x, z_only_one_sb)\n",
    "        MSE_l.append(MSE)\n",
    "        entropy = information.entropy((sb.astype(np.int16).flatten()))\n",
    "        entropy_l.append(entropy)\n",
    "        slope = (image_energy - MSE) / entropy\n",
    "        print(i, j, image_energy, MSE, entropy, slope)"
   ]
  },
  {
   "cell_type": "code",
   "execution_count": null,
   "metadata": {},
   "outputs": [],
   "source": [
    "print(\"Entropy:\")\n",
    "for i in range(block_y_side):\n",
    "    for j in range(block_x_side):\n",
    "        entropy = entropy_l[i*block_x_side+j]\n",
    "        print(f\"{entropy:7.2f}\", end=' ')\n",
    "    print()\n",
    "print(\"MSE:\")\n",
    "for i in range(block_y_side):\n",
    "    for j in range(block_x_side):\n",
    "        MSE = MSE_l[i*block_x_side+j]\n",
    "        print(f\"{MSE:7.2f}\", end=' ')\n",
    "    print()\n",
    "print(\"MSE improvement:\")\n",
    "for i in range(block_y_side):\n",
    "    for j in range(block_x_side):\n",
    "        improvement = image_energy - MSE_l[i*block_x_side+j]\n",
    "        print(f\"{improvement:7.2f}\", end=' ')\n",
    "    print()\n",
    "print(\"Slope:\")\n",
    "for i in range(block_y_side):\n",
    "    for j in range(block_x_side):\n",
    "        slope = (image_energy - MSE_l[i*block_x_side+j]) / entropy_l[i*block_x_side+j]\n",
    "        print(f\"{slope:7.2f}\", end=' ')\n",
    "    print()"
   ]
  },
  {
   "cell_type": "markdown",
   "metadata": {},
   "source": [
    "It can be seen that the subband LL and its neighborhood contribute more to the quality of the reconstruction (in terms of R/D) than the others. These differences depends on the correlation between the original image and the (2D) basis functions corresponding to each subband."
   ]
  },
  {
   "cell_type": "markdown",
   "metadata": {},
   "source": [
    "## "
   ]
  },
  {
   "cell_type": "markdown",
   "metadata": {},
   "source": [
    "## A manual search of the optimal sequence of quantization steps per subband\n",
    "For the sake of simpliticy, let's suppose that only the quantization steps [128, 54, 32, 16, 8, 4, 2, 1] are available. We will work only with 16 subbands, for the same reason.\n",
    "\n",
    "This creates a search tree of nodes where each one represents a relative , where there is sequence of nodes"
   ]
  },
  {
   "cell_type": "code",
   "execution_count": null,
   "metadata": {},
   "outputs": [],
   "source": [
    "xx = image.read(f\"../sequences/stockholm/\", 0).astype(np.int16) - 128\n",
    "x = YUV.from_RGB(xx)\n",
    "y = DCT.analyze(x, block_y_side, block_x_side)\n",
    "y_sbs = DCT.get_subbands(y, block_y_side, block_x_side)\n",
    "blocks_in_y = y.shape[0]//block_y_side\n",
    "blocks_in_x = y.shape[1]//block_x_side\n",
    "image_energy = distortion.average_energy(x) # DCT is unitary, i.e., energy(x) = energy(y)\n",
    "print(image_energy)\n"
   ]
  },
  {
   "cell_type": "markdown",
   "metadata": {},
   "source": [
    "### Considering only L4L4.Q=128"
   ]
  },
  {
   "cell_type": "code",
   "execution_count": null,
   "metadata": {},
   "outputs": [],
   "source": [
    "i = 0\n",
    "j = 0\n",
    "Q_step = 128\n",
    "MSEs_LL = []\n",
    "entropies_LL = []\n",
    "y_progressive = np.zeros_like(y_sbs)\n",
    "sb = y_sbs[blocks_in_y*i:blocks_in_y*(i+1),\n",
    "           blocks_in_x*j:blocks_in_x*(j+1)]\n",
    "Q_sb = Q.dequantize(Q.quantize(sb, Q_step), Q_step)\n",
    "y_progressive[blocks_in_y*i:blocks_in_y*(i+1),\n",
    "              blocks_in_x*j:blocks_in_x*(j+1)] = Q_sb\n",
    "y_blks_prog = DCT.get_blocks(y_progressive, block_y_side, block_x_side)\n",
    "z_prog = DCT.synthesize(y_blks_prog, block_y_side, block_x_side)\n",
    "MSE = distortion.MSE(x, z_prog)\n",
    "entropy = information.entropy((Q_sb.astype(np.int16).flatten()))\n",
    "slope = (image_energy - MSE) / entropy\n",
    "print(\"Delta MSE =\", MSE, \"Delta Entropy =\", entropy, \"Slope =\", slope)\n",
    "MSEs_LL.append(MSE)\n",
    "entropies_LL.append(entropy)"
   ]
  },
  {
   "cell_type": "markdown",
   "metadata": {},
   "source": [
    "### After S[0, 0].Q=128, considering S[0, 0].Q=64"
   ]
  },
  {
   "cell_type": "code",
   "execution_count": null,
   "metadata": {},
   "outputs": [],
   "source": [
    "i = 0\n",
    "j = 0\n",
    "Q_step = 64\n",
    "sb = y_sbs[blocks_in_y*i:blocks_in_y*(i+1),\n",
    "           blocks_in_x*j:blocks_in_x*(j+1)]\n",
    "Q_sb = Q.dequantize(Q.quantize(sb, Q_step), Q_step)\n",
    "y_progressive[blocks_in_y*i:blocks_in_y*(i+1),\n",
    "              blocks_in_x*j:blocks_in_x*(j+1)] = Q_sb\n",
    "y_blks_prog = DCT.get_blocks(y_progressive, block_y_side, block_x_side)\n",
    "z_prog = DCT.synthesize(y_blks_prog, block_y_side, block_x_side)\n",
    "MSE = distortion.MSE(x, z_prog)\n",
    "delta_MSE = MSEs_LL[0] - MSE\n",
    "entropy = information.entropy((Q_sb.astype(np.int16).flatten()))\n",
    "delta_entropy = entropy - entropies_LL[0]\n",
    "slope = delta_MSE / delta_entropy\n",
    "print(\"Delta MSE =\", delta_MSE, \"Delta_entropy =\", delta_entropy, \"slope =\", slope)\n",
    "MSEs_LL.append(MSE)\n",
    "entropies_LL.append(entropy)"
   ]
  },
  {
   "cell_type": "markdown",
   "metadata": {},
   "source": [
    "### After S[0, 0].Q=128, considering S[0, 1].Q=128"
   ]
  },
  {
   "cell_type": "code",
   "execution_count": null,
   "metadata": {},
   "outputs": [],
   "source": [
    "i = 0\n",
    "j = 0\n",
    "Q_step = 128\n",
    "sb = y_sbs[blocks_in_y*i:blocks_in_y*(i+1),\n",
    "           blocks_in_x*j:blocks_in_x*(j+1)]\n",
    "Q_sb = Q.dequantize(Q.quantize(sb, Q_step), Q_step)\n",
    "y_progressive[blocks_in_y*i:blocks_in_y*(i+1),\n",
    "              blocks_in_x*j:blocks_in_x*(j+1)] = Q_sb\n",
    "i = 0\n",
    "j = 1\n",
    "Q_step = 128\n",
    "sb = y_sbs[blocks_in_y*i:blocks_in_y*(i+1),\n",
    "           blocks_in_x*j:blocks_in_x*(j+1)]\n",
    "Q_sb = Q.dequantize(Q.quantize(sb, Q_step), Q_step)\n",
    "y_progressive[blocks_in_y*i:blocks_in_y*(i+1),\n",
    "              blocks_in_x*j:blocks_in_x*(j+1)] = Q_sb\n",
    "y_blks_prog = DCT.get_blocks(y_progressive, block_y_side, block_x_side)\n",
    "z_prog = DCT.synthesize(y_blks_prog, block_y_side, block_x_side)\n",
    "MSE = distortion.MSE(x, z_prog)\n",
    "delta_MSE = MSEs_LL[0] - MSE\n",
    "entropy = information.entropy((Q_sb.astype(np.int16).flatten()))\n",
    "delta_entropy = entropy - entropies_LL[0]\n",
    "slope = delta_MSE / delta_entropy\n",
    "print(\"Delta MSE =\", delta_MSE, \"Delta_entropy =\", delta_entropy, \"slope =\", slope)\n",
    "MSEs_LL.append(MSE)\n",
    "entropies_LL.append(entropy)"
   ]
  },
  {
   "cell_type": "code",
   "execution_count": null,
   "metadata": {},
   "outputs": [],
   "source": [
    "image_energy = distortion.average_energy(x) # DCT is unitary, i.e., energy(x) = energy(y)\n",
    "print(distortion.average_energy(y))\n",
    "MSE_l = []\n",
    "entropy_l = []\n",
    "for i in range(block_y_side):\n",
    "    for j in range(block_x_side):\n",
    "        y_only_one_sb = np.zeros_like(y_sbs)\n",
    "        #only_one_subband_y = np.copy(y)\n",
    "        sb = y_sbs[blocks_in_y*i:blocks_in_y*(i+1),\n",
    "                   blocks_in_x*j:blocks_in_x*(j+1)]\n",
    "        y_only_one_sb[blocks_in_y*i:blocks_in_y*(i+1),\n",
    "                      blocks_in_x*j:blocks_in_x*(j+1)] = sb\n",
    "        y_only_one_sb_blks = DCT.get_blocks(y_only_one_sb, block_y_side, block_x_side)\n",
    "        z_only_one_sb = DCT.synthesize(y_only_one_sb_blks, block_y_side, block_x_side)\n",
    "        zz_only_one_sb = YUV.to_RGB(z_only_one_sb)\n",
    "        MSE = distortion.MSE(x, z_only_one_sb)\n",
    "        MSE_l.append(MSE)\n",
    "        entropy = information.entropy((sb.astype(np.int16).flatten()))\n",
    "        entropy_l.append(entropy)\n",
    "        slope = (image_energy - MSE) / entropy\n",
    "        print(i, j, image_energy, MSE, entropy, slope)"
   ]
  },
  {
   "cell_type": "code",
   "execution_count": null,
   "metadata": {},
   "outputs": [],
   "source": []
  },
  {
   "cell_type": "code",
   "execution_count": null,
   "metadata": {},
   "outputs": [],
   "source": []
  },
  {
   "cell_type": "code",
   "execution_count": null,
   "metadata": {},
   "outputs": [],
   "source": [
    "xx = image.read(f\"../sequences/stockholm/\", 0).astype(np.int16) - 128\n",
    "x = YUV.from_RGB(xx)\n",
    "y = DCT.analyze(x, block_y_side, block_x_side)\n",
    "y_sbs = DCT.get_subbands(y, block_y_side, block_x_side)\n",
    "blocks_in_y = y.shape[0]//block_y_side\n",
    "blocks_in_x = y.shape[1]//block_x_side\n",
    "\n",
    "print(\"Accumulated subband distortions:\")\n",
    "accum_RD_points = []\n",
    "y_accum_sbs = np.zeros_like(y_sbs)\n",
    "for i in range(block_y_side):\n",
    "    for j in range(block_x_side):\n",
    "        if i!=0 and j!=0:\n",
    "            sb = y_sbs[blocks_in_y*i:blocks_in_y*(i+1),\n",
    "                       blocks_in_x*j:blocks_in_x*(j+1)]\n",
    "            y_accum_sbs[blocks_in_y*i:blocks_in_y*(i+1),\n",
    "                        blocks_in_x*j:blocks_in_x*(j+1)] = sb\n",
    "            y_accum_sbs_blks = DCT.get_blocks(y_accum_sbs, block_y_side, block_x_side)\n",
    "            z_accum_sbs = DCT.synthesize(y_accum_sbs_blks, block_y_side, block_x_side)\n",
    "            zz_accum_sbs = YUV.to_RGB(z_accum_sbs)\n",
    "            MSE = distortion.MSE(xx, zz_accum_sbs)\n",
    "            print(i, j, MSE)\n",
    "            accum_RD_points.append((i*block_y_side+j, MSE))"
   ]
  },
  {
   "cell_type": "code",
   "execution_count": null,
   "metadata": {
    "scrolled": true
   },
   "outputs": [],
   "source": [
    "pylab.figure(dpi=150)\n",
    "subband_index = np.arange(0, block_y_side*block_x_side, 0.01)\n",
    "pylab.plot(subband_index, 1/subband_index, label=\"1/x\")\n",
    "pylab.plot(*zip(*accum_RD_points), label=\"optimal quantization\")\n",
    "pylab.title(\"YCoCg/B-DCT coding performance\")\n",
    "pylab.xlabel(\"subband index\")\n",
    "pylab.ylabel(\"MSE\")\n",
    "plt.legend(loc=\"best\")\n",
    "pylab.show()"
   ]
  },
  {
   "cell_type": "markdown",
   "metadata": {},
   "source": [
    "In the case of the B-DCT, all subbands have a similar gain. Therefore, al subbands should be quantized with the same quantization step."
   ]
  },
  {
   "cell_type": "markdown",
   "metadata": {},
   "source": [
    "## R/D optimization\n",
    "The quantization steps should operate in each subband with the same RD-slope."
   ]
  },
  {
   "cell_type": "code",
   "execution_count": null,
   "metadata": {},
   "outputs": [],
   "source": [
    "xx = image.read(f\"../sequences/stockholm/\", 0).astype(np.int16) - 128\n",
    "x = YUV.from_RGB(xx)\n",
    "\n",
    "optimal_RD_points = []\n",
    "for Q_step in [128,64,32,16,8,4,2,1]:\n",
    "    y = block_DCT.analyze(x, block_y_side, block_x_side)\n",
    "    y = block_DCT.get_subbands(y, block_y_side, block_x_side)\n",
    "    #slopes = block_DCT.get_slopes(y, block_y_side, block_x_side, Q_step)\n",
    "    Q_steps, slopes = block_DCT.find_optimal_Q_steps(y, block_y_side, block_x_side, Q_step)\n",
    "    print(Q_steps.astype(np.int32))\n",
    "    q_y = block_DCT.quantize(y, block_y_side, block_x_side, Q_steps)\n",
    "    dq_y = block_DCT.dequantize(q_y, block_y_side, block_x_side, Q_steps)\n",
    "    dq_y = block_DCT.get_blocks(dq_y, block_y_side, block_x_side)\n",
    "    qd_z = block_DCT.synthesize(dq_y, block_y_side, block_x_side)\n",
    "    dq_zz = YUV.to_RGB(qd_z)\n",
    "    image.write((q_y.astype(np.int32) + 32768).astype(np.uint16), f\"/tmp/{Q_step}_\", 0)\n",
    "    bits_per_pixel = os.path.getsize(f\"/tmp/{Q_step}_000.png\")*8/x.size\n",
    "    MSE = distortion.MSE(xx, dq_zz)\n",
    "    optimal_RD_points.append((bits_per_pixel, MSE))\n",
    "    print(Q_step, end=' ', flush=True)"
   ]
  },
  {
   "cell_type": "code",
   "execution_count": null,
   "metadata": {},
   "outputs": [],
   "source": [
    "pylab.figure(dpi=150)\n",
    "pylab.plot(*zip(*variance_RD_points), label=\"variance quantization\")\n",
    "pylab.plot(*zip(*optimal_RD_points), label=\"optimal quantization\")\n",
    "pylab.title(\"YCoCg/B-DCT coding performance\")\n",
    "pylab.xlabel(\"Bits/Pixel\")\n",
    "pylab.ylabel(\"MSE\")\n",
    "plt.legend(loc=\"best\")\n",
    "pylab.show()"
   ]
  },
  {
   "cell_type": "markdown",
   "metadata": {},
   "source": [
    "### A special situation"
   ]
  },
  {
   "cell_type": "code",
   "execution_count": null,
   "metadata": {},
   "outputs": [],
   "source": [
    "special_RD_points = []\n",
    "xx = image.read(f\"../sequences/stockholm/\", 0).astype(np.int16) - 128\n",
    "x = YUV.from_RGB(xx)\n",
    "y = block_DCT.analyze(x, block_y_side, block_x_side)\n",
    "y = block_DCT.get_subbands(y, block_y_side, block_x_side)\n",
    "Q_steps = np.full(shape=(block_y_side, block_x_side), dtype=np.float32, fill_value=100000)\n",
    "Q_steps[0, 0] = 128\n",
    "q_y = block_DCT.quantize(y, block_y_side, block_x_side, Q_steps)\n",
    "show_RGB_image(255*normalize(YUV.to_RGB(q_y)), \"Quantized subbands\")\n",
    "blocks_in_y = x.shape[0]//block_y_side\n",
    "blocks_in_x = x.shape[1]//block_x_side\n",
    "show_RGB_image(255*normalize(YUV.to_RGB(q_y[:blocks_in_y, :blocks_in_x])), f\"L{block_y_side}L{block_x_side} quantized subband detail\")\n",
    "dq_y = block_DCT.dequantize(q_y, block_y_side, block_x_side, Q_steps)\n",
    "dq_y = block_DCT.get_blocks(dq_y, block_y_side, block_x_side)\n",
    "qd_z = block_DCT.synthesize(dq_y, block_y_side, block_x_side)\n",
    "dq_zz = YUV.to_RGB(qd_z)\n",
    "show_RGB_image(255*normalize(dq_zz), \"Reconstruction\")\n",
    "image.write((q_y.astype(np.int32) + 32768).astype(np.uint16), f\"/tmp/{Q_step}_\", 0)\n",
    "bits_per_pixel = os.path.getsize(f\"/tmp/{Q_step}_000.png\")*8/x.size\n",
    "MSE = distortion.MSE(xx, dq_zz)\n",
    "special_RD_points.append((bits_per_pixel, MSE))"
   ]
  },
  {
   "cell_type": "code",
   "execution_count": null,
   "metadata": {},
   "outputs": [],
   "source": [
    "pylab.figure(dpi=150)\n",
    "pylab.plot(*zip(*variance_RD_points), label=\"variance quantization\")\n",
    "pylab.plot(*zip(*optimal_RD_points), label=\"optimal quantization\")\n",
    "pylab.plot(*zip(*special_RD_points), label=\"special quantization\", marker='o')\n",
    "pylab.title(\"YCoCg/B-DCT coding performance\")\n",
    "pylab.xlabel(\"Bits/Pixel\")\n",
    "pylab.ylabel(\"MSE\")\n",
    "plt.legend(loc=\"best\")\n",
    "pylab.show()"
   ]
  },
  {
   "cell_type": "code",
   "execution_count": null,
   "metadata": {},
   "outputs": [],
   "source": [
    "## Operational RD curve"
   ]
  },
  {
   "cell_type": "code",
   "execution_count": null,
   "metadata": {
    "scrolled": false
   },
   "outputs": [],
   "source": [
    "xx = image.read(f\"../sequences/stockholm/\", 0).astype(np.int16) - 128\n",
    "x = YUV.from_RGB(xx)\n",
    "y = block_DCT.analyze(x, block_y_side, block_x_side)\n",
    "y = block_DCT.get_subbands(y, block_y_side, block_x_side)\n",
    "blocks_in_y = y.shape[0]//block_y_side\n",
    "blocks_in_x = y.shape[1]//block_x_side\n",
    "for i in range(block_y_side):\n",
    "    for j in range(block_x_side):\n",
    "        subband = y[blocks_in_y*i:blocks_in_y*(i+1),\n",
    "                    blocks_in_x*j:blocks_in_x*(j+1)][..., 0]\n",
    "        RD_curve = []\n",
    "        for Q_step in [128,64,32,16,8,4,2,1]:\n",
    "            Q_subband = Q.quantize(subband, Q_step)\n",
    "            d_Q_subband = Q.dequantize(Q_subband, Q_step)\n",
    "            RD_point = (information.entropy(d_Q_subband.flatten().astype(np.int16)),\n",
    "                       distortion.MSE(subband,d_Q_subband))\n",
    "            RD_curve.append(RD_point)\n",
    "            \n",
    "        pylab.plot(*zip(*RD_curve), label='')\n",
    "        pylab.title(f\"{i} {j}\")\n",
    "        pylab.xlabel(\"bits/pixel\")\n",
    "        pylab.ylabel(\"MSE\")\n",
    "        plt.legend(loc=\"best\")\n",
    "        pylab.show()"
   ]
  },
  {
   "cell_type": "code",
   "execution_count": null,
   "metadata": {},
   "outputs": [],
   "source": [
    "blocks_in_y = x.shape[0]//block_y_side\n",
    "blocks_in_x = x.shape[1]//block_x_side\n",
    "show_RGB_image(255*normalize(cor_dq_y[:blocks_in_y, :blocks_in_x]), f\"L{block_y_side}L{block_x_side} subband detail\")\n",
    "show_RGB_image(255*normalize(cor_dq_y[:blocks_in_y, blocks_in_x:2*blocks_in_x]), f\"L{block_y_side}H{block_x_side-1} subband detail\")\n",
    "show_RGB_image(255*normalize(cor_dq_y[blocks_in_y:2*blocks_in_y, :blocks_in_x]), f\"L{block_y_side-1}H{block_x_side} subband detail\")\n"
   ]
  },
  {
   "cell_type": "code",
   "execution_count": null,
   "metadata": {},
   "outputs": [],
   "source": [
    "q_step = 128\n",
    "y = block_DCT.analyze(x, block_y_side, block_x_side)\n",
    "y = block_DCT.get_subbands(y, block_y_side, block_x_side)\n",
    "variances = block_DCT.compute_variances(y, block_y_side, block_x_side)\n",
    "print(variances.max(), np.unravel_index(variances.argmax(), variances.shape))"
   ]
  },
  {
   "cell_type": "markdown",
   "metadata": {},
   "source": [
    "## Testing `block_DCT.find_optimal_Q_steps()`"
   ]
  },
  {
   "cell_type": "code",
   "execution_count": null,
   "metadata": {},
   "outputs": [],
   "source": [
    "q_step = 16\n",
    "y = block_DCT.analyze(x, block_y_side, block_x_side)\n",
    "y = block_DCT.get_subbands(y, block_y_side, block_x_side)\n",
    "print(block_DCT.compute_slopes(y, block_y_side, block_x_side, Q_step).astype(np.int32))"
   ]
  },
  {
   "cell_type": "code",
   "execution_count": null,
   "metadata": {},
   "outputs": [],
   "source": [
    "Q_steps, slopes = block_DCT.find_optimal_Q_steps(y, block_y_side, block_x_side, Q_step)"
   ]
  },
  {
   "cell_type": "code",
   "execution_count": null,
   "metadata": {
    "scrolled": false
   },
   "outputs": [],
   "source": [
    "print(Q_steps, slopes.astype(np.int32))"
   ]
  },
  {
   "cell_type": "code",
   "execution_count": null,
   "metadata": {},
   "outputs": [],
   "source": [
    "q_y = block_DCT.quantize(y, block_y_side, block_x_side, Q_steps)\n",
    "dq_y = block_DCT.dequantize(q_y, block_y_side, block_x_side, Q_steps)\n",
    "dq_y = block_DCT.get_blocks(dq_y, block_y_side, block_x_side)\n",
    "z = block_DCT.synthesize(dq_y, block_y_side, block_x_side)"
   ]
  },
  {
   "cell_type": "code",
   "execution_count": null,
   "metadata": {},
   "outputs": [],
   "source": [
    "show_RGB_image(np.clip(z, a_max=255, a_min=0), \"Dequantized (using optimal quantization steps) image\")"
   ]
  },
  {
   "cell_type": "markdown",
   "metadata": {},
   "source": [
    "## Computing the variance of the DCT coefficients"
   ]
  },
  {
   "cell_type": "code",
   "execution_count": null,
   "metadata": {},
   "outputs": [],
   "source": [
    "y = block_DCT.analyze(x, block_y_side, block_x_side)\n",
    "q_y = block_DCT.uniform_quantize(y, block_y_side, block_x_side, 128)\n",
    "v = block_DCT.compute_variances(q_y, block_y_side, block_x_side)"
   ]
  },
  {
   "cell_type": "code",
   "execution_count": null,
   "metadata": {},
   "outputs": [],
   "source": [
    "print(v)"
   ]
  },
  {
   "cell_type": "markdown",
   "metadata": {},
   "source": [
    "## Quantizing the YCoCg/B-DCT domain"
   ]
  },
  {
   "cell_type": "markdown",
   "metadata": {},
   "source": [
    "### Using uniform quantization"
   ]
  },
  {
   "cell_type": "markdown",
   "metadata": {},
   "source": [
    "### Using \"optimal\" quantization"
   ]
  },
  {
   "cell_type": "code",
   "execution_count": null,
   "metadata": {},
   "outputs": [],
   "source": [
    "xx = image.read(f\"../sequences/stockholm/\", 0)\n",
    "x = YUV.from_RGB(xx.astype(np.int16))\n",
    "\n",
    "uniform_RD_points = []\n",
    "optimal_RD_points = []\n",
    "for Q_step in [128,64,32,16,8,4,2,1]:\n",
    "    print(Q_step, end=' ', flush=True)\n",
    "    y = block_DCT.analyze(x, block_y_side, block_x_side)\n",
    "    \n",
    "    # uniform quantization\n",
    "    q_y = block_DCT.uniform_quantize(y, block_y_side, block_x_side, Q_step)\n",
    "    dq_y = block_DCT.uniform_dequantize(q_y, block_y_side, block_x_side, Q_step)\n",
    "    qd_z = block_DCT.synthesize(dq_y, block_y_side, block_x_side)\n",
    "    dq_zz = YUV.to_RGB(qd_z)\n",
    "    subband_q_y = block_DCT.create_subbands(q_y, block_y_side, block_x_side)\n",
    "    image.write(subband_q_y, f\"/tmp/{Q_step}_\", 0)\n",
    "    bits_per_pixel = os.path.getsize(f\"/tmp/{Q_step}_000.png\")*8/x.size\n",
    "    MSE = distortion.MSE(xx, dq_zz)\n",
    "    uniform_RD_points.append((bits_per_pixel, MSE))\n",
    "\n",
    "    # Optimal quantization\n",
    "    slopes, Q_steps = block_DCT.get_slopes(y, block_y_side, block_x_side, Q_step)\n",
    "    target_slope = np.median(slopes)\n",
    "    Q_steps, new_slopes = block_DCT.find_optimal_Q_steps(y, block_y_side, block_x_side, Q_steps, slopes, target_slope)\n",
    "    print(f\"current={slopes.astype(np.int16)}\\ntarget_slope={target_slope}\\nnew={new_slopes.astype(np.int16)}\\nQ_steps={Q_steps}\")\n",
    "    print(slopes.max(), slopes.min())\n",
    "    print(new_slopes.max(), new_slopes.min())\n",
    "    q_y = block_DCT.quantize(y, block_y_side, block_x_side, Q_steps)\n",
    "    dq_y = block_DCT.dequantize(q_y, block_y_side, block_x_side, Q_steps)\n",
    "    qd_z = block_DCT.synthesize(dq_y, block_y_side, block_x_side)\n",
    "    dq_zz = YUV.to_RGB(qd_z)\n",
    "    subband_q_y = block_DCT.create_subbands(q_y, block_y_side, block_x_side)\n",
    "    image.write(subband_q_y, f\"/tmp/{Q_step}_\", 0)\n",
    "    bits_per_pixel = os.path.getsize(f\"/tmp/{Q_step}_000.png\")*8/x.size\n",
    "    MSE = distortion.MSE(xx, dq_zz)\n",
    "    optimal_RD_points.append((bits_per_pixel, MSE))"
   ]
  },
  {
   "cell_type": "code",
   "execution_count": null,
   "metadata": {},
   "outputs": [],
   "source": [
    "pylab.figure(dpi=150)\n",
    "pylab.plot(*zip(*uniform_RD_points), label=\"uniform quantized B-DCT\")\n",
    "pylab.plot(*zip(*optimal_RD_points), label=\"optimal quantized B-DCT\")\n",
    "pylab.title(\"YCoCg/B-DCT coding performance\")\n",
    "pylab.xlabel(\"Bits/Pixel\")\n",
    "pylab.ylabel(\"MSE\")\n",
    "plt.legend(loc=\"best\")\n",
    "pylab.show()"
   ]
  },
  {
   "cell_type": "code",
   "execution_count": null,
   "metadata": {},
   "outputs": [],
   "source": [
    "Q_steps"
   ]
  },
  {
   "cell_type": "code",
   "execution_count": null,
   "metadata": {},
   "outputs": [],
   "source": [
    "slopes"
   ]
  },
  {
   "cell_type": "code",
   "execution_count": null,
   "metadata": {},
   "outputs": [],
   "source": [
    "new_slopes"
   ]
  }
 ],
 "metadata": {
  "kernelspec": {
   "display_name": "Python 3",
   "language": "python",
   "name": "python3"
  },
  "language_info": {
   "codemirror_mode": {
    "name": "ipython",
    "version": 3
   },
   "file_extension": ".py",
   "mimetype": "text/x-python",
   "name": "python",
   "nbconvert_exporter": "python",
   "pygments_lexer": "ipython3",
   "version": "3.9.6"
  }
 },
 "nbformat": 4,
 "nbformat_minor": 4
}
